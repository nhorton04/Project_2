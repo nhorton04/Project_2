{
 "cells": [
  {
   "cell_type": "code",
   "execution_count": 110,
   "metadata": {},
   "outputs": [],
   "source": [
    "scores = {}\n",
    "scores['metascores'] = ['59', '78', '47', '58'] \n",
    "scores['audience_scores'] = ['6.7', '8.4', '8.3', '6.4'] \n",
    "scores['critic_count'] = ['based on 46 Critic Reviews', 'based on 57 Critic Reviews', 'based on 42 Critic Reviews', 'based on 37 Critic Reviews'] \n",
    "scores['num_audience_ratings'] = ['based on 228 Ratings', 'based on 722 Ratings', 'based on 1097 Ratings', 'based on 263 Ratings']\n",
    "scores\n",
    "\n",
    "scores['metascores'] += ['53', '60', '26', '87', '72', '47', '61', '82', '64', '54', '51', '68', '96', '22', '90', '33', '48', '32', '48', '45', '64', '70', '64', '66', '29', '58', '39', '81', '71', '44', '41', '49', '72', '32', '50', '45'] \n",
    "scores['audience_scores'] += ['4.7', '5.1', '4.9', '7.6', '6.9', '6.3', '7.1', '7.6', '6.9', '6.9', '7.9', '7.2', '8.9', '4.3', '7.2', '3.1', '7.5', '4.2', '6.3', '7.9', '4.8', '8.6', '6.2', '7.0', '4.2', '7.8', '7.0', '8.3', '6.2', '5.1', '5.8', '4.3', '8.3', '5.5', '6.3', '4.0'] \n",
    "scores['critic_count'] += ['based on 61 Critic Reviews', 'based on 59 Critic Reviews', 'based on 46 Critic Reviews', 'based on 23 Critic Reviews', 'based on 58 Critic Reviews', 'based on 43 Critic Reviews', 'based on 56 Critic Reviews', 'based on 52 Critic Reviews', 'based on 47 Critic Reviews', 'based on 22 Critic Reviews', 'based on 44 Critic Reviews', 'based on 50 Critic Reviews', 'based on 52 Critic Reviews', 'based on 29 Critic Reviews', 'based on 56 Critic Reviews', 'based on 31 Critic Reviews', 'based on 22 Critic Reviews', 'based on 10 Critic Reviews', 'based on 37 Critic Reviews', 'based on 4 Critic Reviews', 'based on 17 Critic Reviews', 'based on 9 Critic Reviews', 'based on 46 Critic Reviews', 'based on 40 Critic Reviews', 'based on 13 Critic Reviews', 'based on 57 Critic Reviews', 'based on 5 Critic Reviews', 'based on 47 Critic Reviews', 'based on 47 Critic Reviews', 'based on 35 Critic Reviews', 'based on 12 Critic Reviews', 'based on 39 Critic Reviews', 'based on 30 Critic Reviews', 'based on 51 Critic Reviews', 'based on 45 Critic Reviews', 'based on 36 Critic Reviews'] \n",
    "scores['num_audience_ratings'] += ['based on 4896 Ratings', 'based on 1327 Ratings', 'based on 148 Ratings', 'based on 65 Ratings', 'based on 431 Ratings', 'based on 77 Ratings', 'based on 298 Ratings', 'based on 809 Ratings', 'based on 458 Ratings', 'based on 71 Ratings', 'based on 349 Ratings', 'based on 100 Ratings', 'based on 1312 Ratings', 'based on 80 Ratings', 'based on 510 Ratings', 'based on 38 Ratings', 'based on 40 Ratings', 'based on 6 Ratings', 'based on 162 Ratings', 'based on 7 Ratings', 'based on 104 Ratings', 'based on 40 Ratings', 'based on 141 Ratings', 'based on 72 Ratings', 'based on 40 Ratings', 'based on 576 Ratings', 'based on 16 Ratings', 'based on 547 Ratings', 'based on 73 Ratings', 'based on 152 Ratings', 'based on 32 Ratings', 'based on 35 Ratings', 'based on 75 Ratings', 'based on 486 Ratings', 'based on 180 Ratings', 'based on 38 Ratings']\n",
    "\n",
    "scores['metascores'] += ['80', '68', '95', '74', '46', '78', '46', '78', '51']\n",
    "scores['audience_scores'] += ['7.2', '7.5', '8.6', '6.1', '5.2', '7.7', '5.2', '7.7', '6.0']\n",
    "scores['critic_count'] += ['based on 50 Critic Reviews', 'based on 45 Critic Reviews', 'based on 47 Critic Reviews', 'based on 43 Critic Reviews', 'based on 7 Critic Reviews', 'based on 43 Critic Reviews', 'based on 7 Critic Reviews', 'based on 43 Critic Reviews', 'based on 32 Critic Reviews'] \n",
    "scores['num_audience_ratings'] += ['based on 167 Ratings', 'based on 138 Ratings', 'based on 235 Ratings', 'based on 91 Ratings', 'based on 58 Ratings', 'based on 60 Ratings', 'based on 58 Ratings', 'based on 60 Ratings', 'based on 60 Ratings']\n",
    "\n",
    "\n",
    "scores['metascores'] += ['No score', 'No score', '79', '22', '70', '66', '57', '73', '62', 'No score', '54', '70', '68', '57', '55', '60', '78', '77', '73', '24', '37', '57', '73', '41', 'No score', '89', 'No score', 'No score', 'No score', 'No score', 'No score', 'No score', '55', '76', 'No score', '55', '68', '84', '72', 'No score', '87', '77', '76', '46', '69', '31', 'No score', '81', 'No score', '77', '58', '100', '89', '71', '64', '83', 'No score', '86', 'No score', 'No score', '73', '73', 'No score', '70', 'No score', '76', '55', '85', '76', 'No score', 'No score', 'No score', '52', '52', 'No score', '83', '55', '59', 'No score', '31', '39', 'No score', '75', 'No score', '65', 'No score', '74', '55', '61', '82', '70', 'No score', '81', '75', '84', '72', '77', 'No score', '61', '75', 'No score', '66', '53', 'No score', 'No score', '34', 'No score', '75', 'No score', '83', '80', 'No score', '44', '82', 'No score', 'No score', 'No score', '91', '60', '75', '67', '82', '86', '76', '68', 'No score', '77', '66', 'No score', '76', '69', '25', '86', 'No score', 'No score', '77', 'No score', '69', '49', '33', '54', '62', '49', '41', '66', 'No score', '75', '79', '65', '56', '59', 'No score', '71', 'No score', '65', 'No score', 'No score', '82', '77', '54', '78', '56', '82', '80', 'No score', '39', 'No score', '60', '75', 'No score', '81', '79', '75', 'No score', 'No score', '57', 'No score', '72', 'No score', 'No score', '66', 'No score', 'No score', '76', '41', '74', '69', 'No score', 'No score', 'No score', 'No score', 'No score', 'No score', 'No score', '72', 'No score', '66', '81', '47', '68', '79', '61'] \n",
    "\n",
    "scores['audience_scores'] += ['No score', 'No score', 'No score', '4.8', '6.3', '7.1', '7.3', '7.7', '8.0', 'No score', '5.1', 'No score', '8.2', 'No score', '8.5', 'No score', '6.5', '6.5', '6.7', '4.2', '3.7', '6.3', '5.5', 'No score', 'No score', 'No score', 'No score', 'No score', 'No score', 'No score', 'No score', 'No score', '6.5', '7.8', 'No score', '5.2', '7.5', '6.4', '5.9', 'No score', '4.0', '5.3', '5.6', 'No score', 'No score', '9.2', 'No score', '8.7', 'No score', '7.9', '4.3', '8.4', '6.9', 'No score', '6.8', '8.0', 'No score', '8.8', 'No score', 'No score', '5.3', '7.2', 'No score', '4.6', 'No score', '8.2', '6.3', '7.0', '6.4', 'No score', 'No score', 'No score', '4.5', '8.7', 'No score', '6.6', 'No score', '7.1', 'No score', '6.0', '5.2', 'No score', '5.0', 'No score', '5.0', 'No score', 'No score', 'No score', '6.2', '8.5', '6.5', 'No score', 'No score', 'No score', '5.8', 'No score', '10', 'No score', 'No score', '6.8', 'No score', '7.4', '6.0', 'No score', 'No score', '7.0', 'No score', 'No score', 'No score', 'No score', '8.3', 'No score', 'No score', '7.4', 'No score', 'No score', 'No score', '1.1', '8.8', '6.6', 'No score', '9.1', '6.8', '4.5', 'No score', 'No score', '7.8', '5.8', 'No score', 'No score', 'No score', '2.6', 'No score', 'No score', 'No score', '6.2', 'No score', '6.3', 'No score', '5.2', '5.6', 'No score', 'No score', 'No score', 'No score', 'No score', '7.6', '8.1', '5.7', '7.1', 'No score', 'No score', 'No score', 'No score', '7.8', 'No score', 'No score', '7.9', '5.3', '5.0', '8.0', 'No score', '7.7', '4.5', 'No score', '2.2', 'No score', '6.6', '4.5', 'No score', 'No score', '6.1', 'No score', 'No score', 'No score', 'No score', 'No score', 'No score', 'No score', 'No score', '7.8', 'No score', 'No score', 'No score', 'No score', '7.5', '8.7', 'No score', 'No score', 'No score', 'No score', 'No score', 'No score', 'No score', 'No score', 'No score', '5.2', 'No score', '4.7', '7.4', 'No score', 'No score'] \n",
    "\n",
    "scores['critic_count'] += ['No critics', 'No critics', 'based on 10 Critic Reviews', 'based on 17 Critic Reviews', 'based on 28 Critic Reviews', 'based on 41 Critic Reviews', 'based on 19 Critic Reviews', 'based on 38 Critic Reviews', 'based on 17 Critic Reviews', 'No critics', 'based on 28 Critic Reviews', 'based on 8 Critic Reviews', 'based on 34 Critic Reviews', 'based on 5 Critic Reviews', 'based on 14 Critic Reviews', 'based on 8 Critic Reviews', 'based on 32 Critic Reviews', 'based on 28 Critic Reviews', 'based on 24 Critic Reviews', 'based on 16 Critic Reviews', 'based on 23 Critic Reviews', 'based on 30 Critic Reviews', 'based on 8 Critic Reviews', 'based on 8 Critic Reviews', 'No critics', 'based on 17 Critic Reviews', 'No critics', 'No critics', 'No critics', 'No critics', 'No critics', 'No critics', 'based on 38 Critic Reviews', 'based on 23 Critic Reviews', 'No critics', 'based on 31 Critic Reviews', 'based on 20 Critic Reviews', 'based on 26 Critic Reviews', 'based on 14 Critic Reviews', 'No critics', 'based on 9 Critic Reviews', 'based on 7 Critic Reviews', 'based on 12 Critic Reviews', 'based on 6 Critic Reviews', 'based on 11 Critic Reviews', 'based on 5 Critic Reviews', 'No critics', 'based on 16 Critic Reviews', 'No critics', 'based on 20 Critic Reviews', 'based on 21 Critic Reviews', 'based on 19 Critic Reviews', 'based on 40 Critic Reviews', 'based on 8 Critic Reviews', 'based on 20 Critic Reviews', 'based on 51 Critic Reviews', 'No critics', 'based on 26 Critic Reviews', 'No critics', 'No critics', 'based on 23 Critic Reviews', 'based on 41 Critic Reviews', 'No critics', 'based on 22 Critic Reviews', 'No critics', 'based on 28 Critic Reviews', 'based on 14 Critic Reviews', 'based on 23 Critic Reviews', 'based on 28 Critic Reviews', 'No critics', 'No critics', 'No critics', 'based on 12 Critic Reviews', 'based on 34 Critic Reviews', 'No critics', 'based on 20 Critic Reviews', 'based on 18 Critic Reviews', 'based on 46 Critic Reviews', 'No critics', 'based on 6 Critic Reviews', 'based on 13 Critic Reviews', 'No critics', 'based on 27 Critic Reviews', 'No critics', 'based on 9 Critic Reviews', 'No critics', 'based on 7 Critic Reviews', 'based on 12 Critic Reviews', 'based on 13 Critic Reviews', 'based on 26 Critic Reviews', 'based on 26 Critic Reviews', 'No critics', 'based on 14 Critic Reviews', 'based on 16 Critic Reviews', 'based on 21 Critic Reviews', 'based on 15 Critic Reviews', 'based on 8 Critic Reviews', 'No critics', 'based on 11 Critic Reviews', 'based on 16 Critic Reviews', 'No critics', 'based on 14 Critic Reviews', 'based on 33 Critic Reviews', 'No critics', 'No critics', 'based on 9 Critic Reviews', 'No critics', 'based on 11 Critic Reviews', 'No critics', 'based on 6 Critic Reviews', 'based on 21 Critic Reviews', 'No critics', 'based on 13 Critic Reviews', 'based on 29 Critic Reviews', 'No critics', 'No critics', 'No critics', 'based on 34 Critic Reviews', 'based on 19 Critic Reviews', 'based on 5 Critic Reviews', 'based on 12 Critic Reviews', 'based on 25 Critic Reviews', 'based on 34 Critic Reviews', 'based on 16 Critic Reviews', 'based on 5 Critic Reviews', 'No critics', 'based on 17 Critic Reviews', 'based on 12 Critic Reviews', 'No critics', 'based on 17 Critic Reviews', 'based on 6 Critic Reviews', 'based on 13 Critic Reviews', 'based on 21 Critic Reviews', 'No critics', 'No critics', 'based on 13 Critic Reviews', 'No critics', 'based on 31 Critic Reviews', 'based on 7 Critic Reviews', 'based on 30 Critic Reviews', 'based on 23 Critic Reviews', 'based on 22 Critic Reviews', 'based on 8 Critic Reviews', 'based on 8 Critic Reviews', 'based on 5 Critic Reviews', 'No critics', 'based on 20 Critic Reviews', 'based on 13 Critic Reviews', 'based on 17 Critic Reviews', 'based on 30 Critic Reviews', 'based on 12 Critic Reviews', 'No critics', 'based on 11 Critic Reviews', 'No critics', 'based on 13 Critic Reviews', 'No critics', 'No critics', 'based on 13 Critic Reviews', 'based on 25 Critic Reviews', 'based on 22 Critic Reviews', 'based on 10 Critic Reviews', 'based on 4 Critic Reviews', 'based on 25 Critic Reviews', 'based on 20 Critic Reviews', 'No critics', 'based on 16 Critic Reviews', 'No critics', 'based on 46 Critic Reviews', 'based on 5 Critic Reviews', 'No critics', 'based on 7 Critic Reviews', 'based on 44 Critic Reviews', 'based on 31 Critic Reviews', 'No critics', 'No critics', 'based on 5 Critic Reviews', 'No critics', 'based on 10 Critic Reviews', 'No critics', 'No critics', 'based on 20 Critic Reviews', 'No critics', 'No critics', 'based on 13 Critic Reviews', 'based on 11 Critic Reviews', 'based on 25 Critic Reviews', 'based on 13 Critic Reviews', 'No critics', 'No critics', 'No critics', 'No critics', 'No critics', 'No critics', 'No critics', 'based on 4 Critic Reviews', 'No critics', 'based on 12 Critic Reviews', 'based on 10 Critic Reviews', 'based on 31 Critic Reviews', 'based on 20 Critic Reviews', 'based on 14 Critic Reviews', 'based on 15 Critic Reviews'] \n",
    "\n",
    "scores['num_audience_ratings'] += ['No ratings', 'No ratings', 'No ratings', 'based on 175 Ratings', 'based on 97 Ratings', 'based on 152 Ratings', 'based on 40 Ratings', 'based on 79 Ratings', 'based on 4 Ratings', 'No ratings', 'based on 11 Ratings', 'No ratings', 'based on 48 Ratings', 'No ratings', 'based on 62 Ratings', 'No ratings', 'based on 33 Ratings', 'based on 22 Ratings', 'based on 11 Ratings', 'based on 34 Ratings', 'based on 22 Ratings', 'based on 38 Ratings', 'based on 4 Ratings', 'No ratings', 'No ratings', 'No ratings', 'No ratings', 'No ratings', 'No ratings', 'No ratings', 'No ratings', 'No ratings', 'based on 287 Ratings', 'based on 12 Ratings', 'No ratings', 'based on 50 Ratings', 'based on 15 Ratings', 'based on 36 Ratings', 'based on 15 Ratings', 'No ratings', 'based on 4 Ratings', 'based on 4 Ratings', 'based on 11 Ratings', 'No ratings', 'No ratings', 'based on 14 Ratings', 'No ratings', 'based on 26 Ratings', 'No ratings', 'based on 15 Ratings', 'based on 4 Ratings', 'based on 516 Ratings', 'based on 24 Ratings', 'No ratings', 'based on 16 Ratings', 'based on 401 Ratings', 'No ratings', 'based on 43 Ratings', 'No ratings', 'No ratings', 'based on 12 Ratings', 'based on 54 Ratings', 'No ratings', 'based on 7 Ratings', 'No ratings', 'based on 69 Ratings', 'based on 6 Ratings', 'based on 7 Ratings', 'based on 7 Ratings', 'No ratings', 'No ratings', 'No ratings', 'based on 4 Ratings', 'based on 367 Ratings', 'No ratings', 'based on 14 Ratings', 'No ratings', 'based on 370 Ratings', 'No ratings', 'based on 17 Ratings', 'based on 5 Ratings', 'No ratings', 'based on 13 Ratings', 'No ratings', 'based on 6 Ratings', 'No ratings', 'No ratings', 'No ratings', 'based on 9 Ratings', 'based on 58 Ratings', 'based on 18 Ratings', 'No ratings', 'No ratings', 'No ratings', 'based on 18 Ratings', 'No ratings', 'based on 821 Ratings', 'No ratings', 'No ratings', 'based on 9 Ratings', 'No ratings', 'based on 11 Ratings', 'based on 207 Ratings', 'No ratings', 'No ratings', 'based on 9 Ratings', 'No ratings', 'No ratings', 'No ratings', 'No ratings', 'based on 8 Ratings', 'No ratings', 'No ratings', 'based on 16 Ratings', 'No ratings', 'No ratings', 'No ratings', 'based on 605 Ratings', 'based on 324 Ratings', 'based on 11 Ratings', 'No ratings', 'based on 1732 Ratings', 'based on 53 Ratings', 'based on 11 Ratings', 'No ratings', 'No ratings', 'based on 10 Ratings', 'based on 6 Ratings', 'No ratings', 'No ratings', 'No ratings', 'based on 25 Ratings', 'No ratings', 'No ratings', 'No ratings', 'based on 9 Ratings', 'No ratings', 'based on 6 Ratings', 'No ratings', 'based on 322 Ratings', 'based on 38 Ratings', 'No ratings', 'No ratings', 'No ratings', 'No ratings', 'No ratings', 'based on 9 Ratings', 'based on 21 Ratings', 'based on 7 Ratings', 'based on 20 Ratings', 'No ratings', 'No ratings', 'No ratings', 'No ratings', 'based on 64 Ratings', 'No ratings', 'No ratings', 'based on 11 Ratings', 'based on 11 Ratings', 'based on 179 Ratings', 'based on 5 Ratings', 'No ratings', 'based on 21 Ratings', 'based on 6 Ratings', 'No ratings', 'based on 5 Ratings', 'No ratings', 'based on 147 Ratings', 'based on 4 Ratings', 'No ratings', 'No ratings', 'based on 244 Ratings', 'No ratings', 'No ratings', 'No ratings', 'No ratings', 'No ratings', 'No ratings', 'No ratings', 'No ratings', 'based on 8 Ratings', 'No ratings', 'No ratings', 'No ratings', 'No ratings', 'based on 10 Ratings', 'based on 7 Ratings', 'No ratings', 'No ratings', 'No ratings', 'No ratings', 'No ratings', 'No ratings', 'No ratings', 'No ratings', 'No ratings', 'based on 5 Ratings', 'No ratings', 'based on 100 Ratings', 'based on 5 Ratings', 'No ratings', 'No ratings']"
   ]
  },
  {
   "cell_type": "markdown",
   "metadata": {},
   "source": [
    "# --- go back and change midway rating, did the wrong movie ---\n",
    "## change the assistant - 79 and 4.9"
   ]
  },
  {
   "cell_type": "code",
   "execution_count": 111,
   "metadata": {},
   "outputs": [
    {
     "data": {
      "text/plain": [
       "['', '859923']"
      ]
     },
     "execution_count": 111,
     "metadata": {},
     "output_type": "execute_result"
    }
   ],
   "source": [
    "new_list = []\n",
    "\n",
    "for entry in dicct:\n",
    "#     dicct[entry] = int(''.join(filter(str.isdigit, dicct[entry])))\n",
    "    new_list.append((''.join(filter(str.isdigit, dicct[entry]))))\n",
    "                        \n",
    "new_list"
   ]
  },
  {
   "cell_type": "code",
   "execution_count": 113,
   "metadata": {
    "scrolled": false
   },
   "outputs": [
    {
     "data": {
      "text/plain": [
       "251"
      ]
     },
     "execution_count": 113,
     "metadata": {},
     "output_type": "execute_result"
    }
   ],
   "source": [
    "scores\n",
    "len(scores['metascores'])"
   ]
  },
  {
   "cell_type": "code",
   "execution_count": 116,
   "metadata": {
    "scrolled": false
   },
   "outputs": [
    {
     "ename": "ValueError",
     "evalue": "invalid literal for int() with base 10: ''",
     "output_type": "error",
     "traceback": [
      "\u001b[0;31m---------------------------------------------------------------------------\u001b[0m",
      "\u001b[0;31mValueError\u001b[0m                                Traceback (most recent call last)",
      "\u001b[0;32m<ipython-input-116-f4fa32d803c4>\u001b[0m in \u001b[0;36m<module>\u001b[0;34m\u001b[0m\n\u001b[1;32m      1\u001b[0m \u001b[0;32mimport\u001b[0m \u001b[0mre\u001b[0m\u001b[0;34m\u001b[0m\u001b[0;34m\u001b[0m\u001b[0m\n\u001b[0;32m----> 2\u001b[0;31m \u001b[0mmetascores\u001b[0m \u001b[0;34m=\u001b[0m \u001b[0;34m[\u001b[0m\u001b[0mint\u001b[0m\u001b[0;34m(\u001b[0m\u001b[0;34m''\u001b[0m\u001b[0;34m.\u001b[0m\u001b[0mjoin\u001b[0m\u001b[0;34m(\u001b[0m\u001b[0mfilter\u001b[0m\u001b[0;34m(\u001b[0m\u001b[0mstr\u001b[0m\u001b[0;34m.\u001b[0m\u001b[0misdigit\u001b[0m\u001b[0;34m,\u001b[0m \u001b[0mi\u001b[0m\u001b[0;34m)\u001b[0m\u001b[0;34m)\u001b[0m\u001b[0;34m)\u001b[0m \u001b[0;32mfor\u001b[0m \u001b[0mi\u001b[0m \u001b[0;32min\u001b[0m \u001b[0mscores\u001b[0m\u001b[0;34m[\u001b[0m\u001b[0;34m'metascores'\u001b[0m\u001b[0;34m]\u001b[0m\u001b[0;34m]\u001b[0m\u001b[0;34m\u001b[0m\u001b[0;34m\u001b[0m\u001b[0m\n\u001b[0m\u001b[1;32m      3\u001b[0m \u001b[0maudience_scores\u001b[0m \u001b[0;34m=\u001b[0m \u001b[0;34m[\u001b[0m\u001b[0;34m(\u001b[0m\u001b[0mfloat\u001b[0m\u001b[0;34m(\u001b[0m\u001b[0;34m''\u001b[0m\u001b[0;34m.\u001b[0m\u001b[0mjoin\u001b[0m\u001b[0;34m(\u001b[0m\u001b[0mfilter\u001b[0m\u001b[0;34m(\u001b[0m\u001b[0mstr\u001b[0m\u001b[0;34m.\u001b[0m\u001b[0misdigit\u001b[0m\u001b[0;34m,\u001b[0m \u001b[0mi\u001b[0m\u001b[0;34m)\u001b[0m\u001b[0;34m)\u001b[0m\u001b[0;34m)\u001b[0m\u001b[0;34m)\u001b[0m \u001b[0;34m/\u001b[0m \u001b[0;36m10\u001b[0m \u001b[0;32mfor\u001b[0m \u001b[0mi\u001b[0m \u001b[0;32min\u001b[0m \u001b[0mscores\u001b[0m\u001b[0;34m[\u001b[0m\u001b[0;34m'audience_scores'\u001b[0m\u001b[0;34m]\u001b[0m\u001b[0;34m]\u001b[0m\u001b[0;34m\u001b[0m\u001b[0;34m\u001b[0m\u001b[0m\n\u001b[1;32m      4\u001b[0m \u001b[0mcritic_count\u001b[0m \u001b[0;34m=\u001b[0m \u001b[0;34m[\u001b[0m\u001b[0mint\u001b[0m\u001b[0;34m(\u001b[0m\u001b[0;34m''\u001b[0m\u001b[0;34m.\u001b[0m\u001b[0mjoin\u001b[0m\u001b[0;34m(\u001b[0m\u001b[0mfilter\u001b[0m\u001b[0;34m(\u001b[0m\u001b[0mstr\u001b[0m\u001b[0;34m.\u001b[0m\u001b[0misdigit\u001b[0m\u001b[0;34m,\u001b[0m \u001b[0mi\u001b[0m\u001b[0;34m)\u001b[0m\u001b[0;34m)\u001b[0m\u001b[0;34m)\u001b[0m \u001b[0;32mfor\u001b[0m \u001b[0mi\u001b[0m \u001b[0;32min\u001b[0m \u001b[0mscores\u001b[0m\u001b[0;34m[\u001b[0m\u001b[0;34m'critic_count'\u001b[0m\u001b[0;34m]\u001b[0m\u001b[0;34m]\u001b[0m\u001b[0;34m\u001b[0m\u001b[0;34m\u001b[0m\u001b[0m\n\u001b[1;32m      5\u001b[0m \u001b[0mnum_audience_ratings\u001b[0m \u001b[0;34m=\u001b[0m \u001b[0;34m[\u001b[0m\u001b[0mint\u001b[0m\u001b[0;34m(\u001b[0m\u001b[0;34m''\u001b[0m\u001b[0;34m.\u001b[0m\u001b[0mjoin\u001b[0m\u001b[0;34m(\u001b[0m\u001b[0mfilter\u001b[0m\u001b[0;34m(\u001b[0m\u001b[0mstr\u001b[0m\u001b[0;34m.\u001b[0m\u001b[0misdigit\u001b[0m\u001b[0;34m,\u001b[0m \u001b[0mi\u001b[0m\u001b[0;34m)\u001b[0m\u001b[0;34m)\u001b[0m\u001b[0;34m)\u001b[0m \u001b[0;32mfor\u001b[0m \u001b[0mi\u001b[0m \u001b[0;32min\u001b[0m \u001b[0mscores\u001b[0m\u001b[0;34m[\u001b[0m\u001b[0;34m'num_audience_ratings'\u001b[0m\u001b[0;34m]\u001b[0m\u001b[0;34m]\u001b[0m\u001b[0;34m\u001b[0m\u001b[0;34m\u001b[0m\u001b[0m\n",
      "\u001b[0;32m<ipython-input-116-f4fa32d803c4>\u001b[0m in \u001b[0;36m<listcomp>\u001b[0;34m(.0)\u001b[0m\n\u001b[1;32m      1\u001b[0m \u001b[0;32mimport\u001b[0m \u001b[0mre\u001b[0m\u001b[0;34m\u001b[0m\u001b[0;34m\u001b[0m\u001b[0m\n\u001b[0;32m----> 2\u001b[0;31m \u001b[0mmetascores\u001b[0m \u001b[0;34m=\u001b[0m \u001b[0;34m[\u001b[0m\u001b[0mint\u001b[0m\u001b[0;34m(\u001b[0m\u001b[0;34m''\u001b[0m\u001b[0;34m.\u001b[0m\u001b[0mjoin\u001b[0m\u001b[0;34m(\u001b[0m\u001b[0mfilter\u001b[0m\u001b[0;34m(\u001b[0m\u001b[0mstr\u001b[0m\u001b[0;34m.\u001b[0m\u001b[0misdigit\u001b[0m\u001b[0;34m,\u001b[0m \u001b[0mi\u001b[0m\u001b[0;34m)\u001b[0m\u001b[0;34m)\u001b[0m\u001b[0;34m)\u001b[0m \u001b[0;32mfor\u001b[0m \u001b[0mi\u001b[0m \u001b[0;32min\u001b[0m \u001b[0mscores\u001b[0m\u001b[0;34m[\u001b[0m\u001b[0;34m'metascores'\u001b[0m\u001b[0;34m]\u001b[0m\u001b[0;34m]\u001b[0m\u001b[0;34m\u001b[0m\u001b[0;34m\u001b[0m\u001b[0m\n\u001b[0m\u001b[1;32m      3\u001b[0m \u001b[0maudience_scores\u001b[0m \u001b[0;34m=\u001b[0m \u001b[0;34m[\u001b[0m\u001b[0;34m(\u001b[0m\u001b[0mfloat\u001b[0m\u001b[0;34m(\u001b[0m\u001b[0;34m''\u001b[0m\u001b[0;34m.\u001b[0m\u001b[0mjoin\u001b[0m\u001b[0;34m(\u001b[0m\u001b[0mfilter\u001b[0m\u001b[0;34m(\u001b[0m\u001b[0mstr\u001b[0m\u001b[0;34m.\u001b[0m\u001b[0misdigit\u001b[0m\u001b[0;34m,\u001b[0m \u001b[0mi\u001b[0m\u001b[0;34m)\u001b[0m\u001b[0;34m)\u001b[0m\u001b[0;34m)\u001b[0m\u001b[0;34m)\u001b[0m \u001b[0;34m/\u001b[0m \u001b[0;36m10\u001b[0m \u001b[0;32mfor\u001b[0m \u001b[0mi\u001b[0m \u001b[0;32min\u001b[0m \u001b[0mscores\u001b[0m\u001b[0;34m[\u001b[0m\u001b[0;34m'audience_scores'\u001b[0m\u001b[0;34m]\u001b[0m\u001b[0;34m]\u001b[0m\u001b[0;34m\u001b[0m\u001b[0;34m\u001b[0m\u001b[0m\n\u001b[1;32m      4\u001b[0m \u001b[0mcritic_count\u001b[0m \u001b[0;34m=\u001b[0m \u001b[0;34m[\u001b[0m\u001b[0mint\u001b[0m\u001b[0;34m(\u001b[0m\u001b[0;34m''\u001b[0m\u001b[0;34m.\u001b[0m\u001b[0mjoin\u001b[0m\u001b[0;34m(\u001b[0m\u001b[0mfilter\u001b[0m\u001b[0;34m(\u001b[0m\u001b[0mstr\u001b[0m\u001b[0;34m.\u001b[0m\u001b[0misdigit\u001b[0m\u001b[0;34m,\u001b[0m \u001b[0mi\u001b[0m\u001b[0;34m)\u001b[0m\u001b[0;34m)\u001b[0m\u001b[0;34m)\u001b[0m \u001b[0;32mfor\u001b[0m \u001b[0mi\u001b[0m \u001b[0;32min\u001b[0m \u001b[0mscores\u001b[0m\u001b[0;34m[\u001b[0m\u001b[0;34m'critic_count'\u001b[0m\u001b[0;34m]\u001b[0m\u001b[0;34m]\u001b[0m\u001b[0;34m\u001b[0m\u001b[0;34m\u001b[0m\u001b[0m\n\u001b[1;32m      5\u001b[0m \u001b[0mnum_audience_ratings\u001b[0m \u001b[0;34m=\u001b[0m \u001b[0;34m[\u001b[0m\u001b[0mint\u001b[0m\u001b[0;34m(\u001b[0m\u001b[0;34m''\u001b[0m\u001b[0;34m.\u001b[0m\u001b[0mjoin\u001b[0m\u001b[0;34m(\u001b[0m\u001b[0mfilter\u001b[0m\u001b[0;34m(\u001b[0m\u001b[0mstr\u001b[0m\u001b[0;34m.\u001b[0m\u001b[0misdigit\u001b[0m\u001b[0;34m,\u001b[0m \u001b[0mi\u001b[0m\u001b[0;34m)\u001b[0m\u001b[0;34m)\u001b[0m\u001b[0;34m)\u001b[0m \u001b[0;32mfor\u001b[0m \u001b[0mi\u001b[0m \u001b[0;32min\u001b[0m \u001b[0mscores\u001b[0m\u001b[0;34m[\u001b[0m\u001b[0;34m'num_audience_ratings'\u001b[0m\u001b[0;34m]\u001b[0m\u001b[0;34m]\u001b[0m\u001b[0;34m\u001b[0m\u001b[0;34m\u001b[0m\u001b[0m\n",
      "\u001b[0;31mValueError\u001b[0m: invalid literal for int() with base 10: ''"
     ]
    }
   ],
   "source": [
    "import re\n",
    "metascores = [int(''.join(filter(str.isdigit, i))) for i in scores['metascores']] \n",
    "audience_scores = [(float(''.join(filter(str.isdigit, i)))) / 10 for i in scores['audience_scores']]\n",
    "critic_count = [int(''.join(filter(str.isdigit, i))) for i in scores['critic_count']]\n",
    "num_audience_ratings = [int(''.join(filter(str.isdigit, i))) for i in scores['num_audience_ratings']]\n",
    "scores['metascores'] = metascores\n",
    "scores['audience_scores'] = audience_scores\n",
    "scores['critic_count'] = critic_count\n",
    "scores['num_audience_ratings'] = num_audience_ratings\n",
    "scores"
   ]
  },
  {
   "cell_type": "code",
   "execution_count": 87,
   "metadata": {},
   "outputs": [
    {
     "ename": "TypeError",
     "evalue": "'int' object is not iterable",
     "output_type": "error",
     "traceback": [
      "\u001b[0;31m---------------------------------------------------------------------------\u001b[0m",
      "\u001b[0;31mTypeError\u001b[0m                                 Traceback (most recent call last)",
      "\u001b[0;32m<ipython-input-87-89e38167fe75>\u001b[0m in \u001b[0;36m<module>\u001b[0;34m\u001b[0m\n\u001b[1;32m      2\u001b[0m \u001b[0;34m\u001b[0m\u001b[0m\n\u001b[1;32m      3\u001b[0m \u001b[0;32mfor\u001b[0m \u001b[0mcount\u001b[0m \u001b[0;32min\u001b[0m \u001b[0mcritic_count\u001b[0m\u001b[0;34m:\u001b[0m\u001b[0;34m\u001b[0m\u001b[0;34m\u001b[0m\u001b[0m\n\u001b[0;32m----> 4\u001b[0;31m    \u001b[0mcritics\u001b[0m\u001b[0;34m.\u001b[0m\u001b[0mappend\u001b[0m\u001b[0;34m(\u001b[0m\u001b[0mint\u001b[0m\u001b[0;34m(\u001b[0m\u001b[0;34m''\u001b[0m\u001b[0;34m.\u001b[0m\u001b[0mjoin\u001b[0m\u001b[0;34m(\u001b[0m\u001b[0mfilter\u001b[0m\u001b[0;34m(\u001b[0m\u001b[0mstr\u001b[0m\u001b[0;34m.\u001b[0m\u001b[0misdigit\u001b[0m\u001b[0;34m,\u001b[0m \u001b[0mcount\u001b[0m\u001b[0;34m)\u001b[0m\u001b[0;34m)\u001b[0m\u001b[0;34m)\u001b[0m\u001b[0;34m)\u001b[0m\u001b[0;34m\u001b[0m\u001b[0;34m\u001b[0m\u001b[0m\n\u001b[0m\u001b[1;32m      5\u001b[0m \u001b[0;31m##critic_count = [[int(''.join(filter(str.isdigit, i))) for i in scores['metascores']]]\u001b[0m\u001b[0;34m\u001b[0m\u001b[0;34m\u001b[0m\u001b[0;34m\u001b[0m\u001b[0m\n\u001b[1;32m      6\u001b[0m \u001b[0mcritics\u001b[0m\u001b[0;34m\u001b[0m\u001b[0;34m\u001b[0m\u001b[0m\n",
      "\u001b[0;31mTypeError\u001b[0m: 'int' object is not iterable"
     ]
    }
   ],
   "source": [
    "critics = []\n",
    "\n",
    "for count in critic_count:\n",
    "   critics.append(int(''.join(filter(str.isdigit, count))))\n",
    "##critic_count = [[int(''.join(filter(str.isdigit, i))) for i in scores['metascores']]] \n",
    "critics\n",
    "\n",
    "ratings = []\n",
    "\n",
    "# for rating in num_audience_ratings:\n",
    "#     print(rating)\n",
    "#     ratings.append(int(''.join(filter(str.isdigit, rating))))\n",
    "\n",
    "scores['num_audience_ratings'] = num_audience_ratings\n",
    "scores['critic_count'] = critics\n",
    "scores"
   ]
  },
  {
   "cell_type": "markdown",
   "metadata": {},
   "source": [
    "## for comparsion: in notebook, older version: lots of 'no score's\n",
    "\n",
    "Current Title: Color Out of Space\n",
    "[46, 78, 'No score', 51, 'No score', 'No score', 87, 'No score', 43, 'No score', 'No score', 'No score', 22, 70] [52.0, 77.0, 'No score', 60.0, 'No score', 'No score', 79.0, 'No score', 62.0, 'No score', 'No score', 'No score', 48.0, 63.0] [7, 43, 'No critics', 32, 'No critics', 'No critics', 43, 'No critics', 40, 'No critics', 'No critics', 'No critics', 17, 28] [58, 60, 'No ratings', 60, 'No ratings', 'No ratings', 110, 'No ratings', 198, 'No audience ratings', 'No audience ratings', 'No ratings', 175, 97]\n",
    "Color Out of Space\n",
    "Current Title: Harriet"
   ]
  },
  {
   "cell_type": "code",
   "execution_count": null,
   "metadata": {},
   "outputs": [],
   "source": []
  }
 ],
 "metadata": {
  "kernelspec": {
   "display_name": "Python 3",
   "language": "python",
   "name": "python3"
  },
  "language_info": {
   "codemirror_mode": {
    "name": "ipython",
    "version": 3
   },
   "file_extension": ".py",
   "mimetype": "text/x-python",
   "name": "python",
   "nbconvert_exporter": "python",
   "pygments_lexer": "ipython3",
   "version": "3.7.6"
  }
 },
 "nbformat": 4,
 "nbformat_minor": 4
}
