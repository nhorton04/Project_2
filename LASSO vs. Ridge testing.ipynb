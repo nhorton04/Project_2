{
 "cells": [
  {
   "cell_type": "code",
   "execution_count": 1,
   "metadata": {},
   "outputs": [],
   "source": [
    "%matplotlib inline\n",
    "import pandas as pd\n",
    "import re\n",
    "import seaborn as sns\n",
    "import csv\n",
    "import matplotlib.pyplot as plt\n",
    "import statsmodels.api as sm\n",
    "import statsmodels.formula.api as smf\n",
    "import patsy\n",
    "import pickle\n",
    "import multiprocessing as mp\n",
    "import numpy as np\n",
    "\n",
    "from sklearn.model_selection import KFold\n",
    "from sklearn.model_selection import train_test_split, cross_val_score\n",
    "from sklearn.linear_model import LinearRegression, Ridge, Lasso, ElasticNet, LassoCV, RidgeCV, ElasticNetCV, lars_path\n",
    "\n",
    "from sklearn.preprocessing import StandardScaler, PolynomialFeatures\n",
    "\n",
    "from sklearn.metrics import r2_score\n",
    "from sklearn.pipeline import Pipeline\n",
    "\n",
    "from scipy import stats\n"
   ]
  },
  {
   "cell_type": "code",
   "execution_count": 74,
   "metadata": {},
   "outputs": [],
   "source": [
    "all_features = pickle.load(open(\"all_features.pickle\", \"rb\"))\n",
    "no_nans = pickle.load(open('no_nan.pickle', 'rb'))"
   ]
  },
  {
   "cell_type": "code",
   "execution_count": 75,
   "metadata": {},
   "outputs": [],
   "source": [
    "some_features = all_features.drop(columns=['budget', 'runtime_minutes', 'rating_G', 'rating_PG', 'rating_M/PG', 'rating_PG-13', 'rating_R'])\n",
    "some_features\n",
    "pickle_out = open(\"some_features.pickle\", 'wb')\n",
    "pickle.dump(some_features, pickle_out)\n",
    "pickle_out = open('no_nan.pickle', 'wb')\n",
    "pickle.dump(no_nans, pickle_out)"
   ]
  },
  {
   "cell_type": "code",
   "execution_count": 57,
   "metadata": {},
   "outputs": [],
   "source": [
    "X = some_features.drop(columns=['domestic_total_gross'])\n",
    "y = some_features['domestic_total_gross']"
   ]
  },
  {
   "cell_type": "code",
   "execution_count": 58,
   "metadata": {},
   "outputs": [],
   "source": [
    "X_train_val, X_test, y_train_val, y_test = train_test_split(X, y, test_size=0.2, random_state = 420)\n",
    "X_train, X_val, y_train, y_val = train_test_split(X_train_val, y_train_val, test_size=0.25, random_state=69)"
   ]
  },
  {
   "cell_type": "code",
   "execution_count": 59,
   "metadata": {},
   "outputs": [],
   "source": [
    "std = StandardScaler()\n",
    "std.fit(X_train.values)\n",
    "X_tr = std.transform(X_train.values)\n",
    "X_te = std.transform(X_test.values)"
   ]
  },
  {
   "cell_type": "code",
   "execution_count": 60,
   "metadata": {},
   "outputs": [
    {
     "data": {
      "text/plain": [
       "[('metascores', -214108.6906521299),\n",
       " ('audience_scores', -216866.41904377285),\n",
       " ('critic_count', 924622.8932926934),\n",
       " ('num_audience_ratings', 64961.576969245536)]"
      ]
     },
     "execution_count": 60,
     "metadata": {},
     "output_type": "execute_result"
    }
   ],
   "source": [
    "lasso_model = Lasso(alpha = 1000)\n",
    "lasso_model.fit(X_train, y_train)\n",
    "list(zip(X_train.columns, lasso_model.coef_))"
   ]
  },
  {
   "cell_type": "code",
   "execution_count": 61,
   "metadata": {},
   "outputs": [
    {
     "data": {
      "text/html": [
       "<div>\n",
       "<style scoped>\n",
       "    .dataframe tbody tr th:only-of-type {\n",
       "        vertical-align: middle;\n",
       "    }\n",
       "\n",
       "    .dataframe tbody tr th {\n",
       "        vertical-align: top;\n",
       "    }\n",
       "\n",
       "    .dataframe thead th {\n",
       "        text-align: right;\n",
       "    }\n",
       "</style>\n",
       "<table border=\"1\" class=\"dataframe\">\n",
       "  <thead>\n",
       "    <tr style=\"text-align: right;\">\n",
       "      <th></th>\n",
       "      <th>metascores</th>\n",
       "      <th>audience_scores</th>\n",
       "      <th>critic_count</th>\n",
       "      <th>num_audience_ratings</th>\n",
       "    </tr>\n",
       "  </thead>\n",
       "  <tbody>\n",
       "    <tr>\n",
       "      <th>metascores</th>\n",
       "      <td>1.000000</td>\n",
       "      <td>0.751374</td>\n",
       "      <td>0.726448</td>\n",
       "      <td>0.206135</td>\n",
       "    </tr>\n",
       "    <tr>\n",
       "      <th>audience_scores</th>\n",
       "      <td>0.751374</td>\n",
       "      <td>1.000000</td>\n",
       "      <td>0.778725</td>\n",
       "      <td>0.266287</td>\n",
       "    </tr>\n",
       "    <tr>\n",
       "      <th>critic_count</th>\n",
       "      <td>0.726448</td>\n",
       "      <td>0.778725</td>\n",
       "      <td>1.000000</td>\n",
       "      <td>0.475362</td>\n",
       "    </tr>\n",
       "    <tr>\n",
       "      <th>num_audience_ratings</th>\n",
       "      <td>0.206135</td>\n",
       "      <td>0.266287</td>\n",
       "      <td>0.475362</td>\n",
       "      <td>1.000000</td>\n",
       "    </tr>\n",
       "  </tbody>\n",
       "</table>\n",
       "</div>"
      ],
      "text/plain": [
       "                      metascores  audience_scores  critic_count  \\\n",
       "metascores              1.000000         0.751374      0.726448   \n",
       "audience_scores         0.751374         1.000000      0.778725   \n",
       "critic_count            0.726448         0.778725      1.000000   \n",
       "num_audience_ratings    0.206135         0.266287      0.475362   \n",
       "\n",
       "                      num_audience_ratings  \n",
       "metascores                        0.206135  \n",
       "audience_scores                   0.266287  \n",
       "critic_count                      0.475362  \n",
       "num_audience_ratings              1.000000  "
      ]
     },
     "execution_count": 61,
     "metadata": {},
     "output_type": "execute_result"
    }
   ],
   "source": [
    "X_train.corr()"
   ]
  },
  {
   "cell_type": "code",
   "execution_count": 72,
   "metadata": {},
   "outputs": [
    {
     "data": {
      "image/png": "[encoded data removed]",
      "text/plain": [
       "<Figure size 720x720 with 1 Axes>"
      ]
     },
     "metadata": {
      "needs_background": "light"
     },
     "output_type": "display_data"
    }
   ],
   "source": [
    "alphas, _, coefs = lars_path(X_tr, y_train.values, method='ridge')\n",
    "\n",
    "xx = np.sum(np.abs(coefs.T), axis=1)\n",
    "xx /= xx[-1]\n",
    "\n",
    "plt.figure(figsize=(10, 10))\n",
    "plt.plot(xx, coefs.T)\n",
    "ymin, ymax = plt.ylim()\n",
    "plt.vlines(xx, ymin, ymax, linestyle='dashed')\n",
    "plt.xlabel('|coef| / max|coef|')\n",
    "plt.ylabel('Coefficients')\n",
    "plt.title('Ridge Path')\n",
    "plt.axis('tight')\n",
    "plt.legend(X_train.columns)\n",
    "plt.show()"
   ]
  },
  {
   "cell_type": "code",
   "execution_count": 67,
   "metadata": {},
   "outputs": [],
   "source": [
    "alphalist = 10**(np.linspace(-2, 2, 200))\n",
    "err_vec_val = np.zeros(len(alphalist))\n",
    "err_vec_train = np.zeros(len(alphalist))\n",
    "\n",
    "for i, curr_alpha in enumerate(alphalist):\n",
    "    \n",
    "    steps = [('standardize', StandardScaler()),\n",
    "            ('ridge', Ridge(alpha = curr_alpha))]\n",
    "    \n",
    "    pipe = Pipeline(steps)\n",
    "    pipe.fit(X_train.values, y_train)\n",
    "    \n",
    "    val_set_pred = pipe.predict(X_val.values)\n",
    "    err_vec_val[i] = np.mean(np.abs(y_val - val_set_pred))"
   ]
  },
  {
   "cell_type": "code",
   "execution_count": 68,
   "metadata": {},
   "outputs": [
    {
     "data": {
      "text/plain": [
       "[<matplotlib.lines.Line2D at 0x7fdc6f173190>]"
      ]
     },
     "execution_count": 68,
     "metadata": {},
     "output_type": "execute_result"
    },
    {
     "data": {
      "image/png": "[encoded data removed]",
      "text/plain": [
       "<Figure size 432x288 with 1 Axes>"
      ]
     },
     "metadata": {
      "needs_background": "light"
     },
     "output_type": "display_data"
    }
   ],
   "source": [
    "plt.plot(np.log10(alphalist), err_vec_val)"
   ]
  },
  {
   "cell_type": "code",
   "execution_count": 69,
   "metadata": {},
   "outputs": [
    {
     "data": {
      "text/plain": [
       "21223073.179967426"
      ]
     },
     "execution_count": 69,
     "metadata": {},
     "output_type": "execute_result"
    }
   ],
   "source": [
    "np.min(err_vec_val)"
   ]
  },
  {
   "cell_type": "code",
   "execution_count": 70,
   "metadata": {},
   "outputs": [
    {
     "data": {
      "text/plain": [
       "0.01"
      ]
     },
     "execution_count": 70,
     "metadata": {},
     "output_type": "execute_result"
    }
   ],
   "source": [
    "alphalist[np.argmin(err_vec_val)]"
   ]
  },
  {
   "cell_type": "code",
   "execution_count": null,
   "metadata": {},
   "outputs": [],
   "source": []
  }
 ],
 "metadata": {
  "kernelspec": {
   "display_name": "Python 3",
   "language": "python",
   "name": "python3"
  },
  "language_info": {
   "codemirror_mode": {
    "name": "ipython",
    "version": 3
   },
   "file_extension": ".py",
   "mimetype": "text/x-python",
   "name": "python",
   "nbconvert_exporter": "python",
   "pygments_lexer": "ipython3",
   "version": "3.7.6"
  }
 },
 "nbformat": 4,
 "nbformat_minor": 4
}
