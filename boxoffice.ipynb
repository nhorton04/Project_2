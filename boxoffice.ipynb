{
 "cells": [
  {
   "cell_type": "markdown",
   "metadata": {},
   "source": [
    "Imports"
   ]
  },
  {
   "cell_type": "code",
   "execution_count": 10,
   "metadata": {},
   "outputs": [],
   "source": [
    "from bs4 import BeautifulSoup\n",
    "import requests\n",
    "import time, os\n",
    "import pandas as pd\n",
    "import re\n",
    "import seaborn as sns\n",
    "import matplotlib.pyplot as plt\n",
    "\n",
    "from urllib.parse import urljoin\n",
    "from selenium import webdriver\n",
    "from selenium.webdriver.common.keys import Keys\n",
    "from selenium.webdriver.common.by import By\n",
    "from selenium.webdriver.support.ui import WebDriverWait\n",
    "from selenium.webdriver.support import expected_conditions as EC\n",
    "\n",
    "chromedriver = \"/usr/bin/chromedriver\" # path to the chromedriver executable\n",
    "os.environ[\"webdriver.chrome.driver\"] = chromedriver"
   ]
  },
  {
   "cell_type": "markdown",
   "metadata": {},
   "source": [
    "Request Info"
   ]
  },
  {
   "cell_type": "code",
   "execution_count": 18,
   "metadata": {},
   "outputs": [],
   "source": [
    "\n",
    "link = '/year/2020/?ref_=bo_yl_table_1'\n",
    "url = 'https://www.boxofficemojo.com'\n",
    "\n",
    "response = requests.get(url)\n",
    "page = response.text\n",
    "soup = BeautifulSoup(page, 'lxml')\n",
    "\n",
    "# table = soup.find_all('table')\n",
    "# df = pd.read_html(str(table))[1]\n",
    "# df"
   ]
  },
  {
   "cell_type": "markdown",
   "metadata": {},
   "source": [
    "Money to int, runtime to minutes, date to datestring function "
   ]
  },
  {
   "cell_type": "code",
   "execution_count": 19,
   "metadata": {},
   "outputs": [],
   "source": [
    "import dateutil.parser\n",
    "\n",
    "def money_to_int(moneystring):\n",
    "    moneystring = moneystring.replace('$', '').replace(',', '')\n",
    "    return int(moneystring)\n",
    "\n",
    "def runtime_to_minutes(runtimestring):\n",
    "    if type(runtimestring) != None:\n",
    "        runtime = runtimestring.split()\n",
    "    try:\n",
    "        minutes = int(runtime[0])*60 + int(runtime[2])\n",
    "        return minutes\n",
    "    except:\n",
    "        return None\n",
    "\n",
    "def to_date(datestring):\n",
    "    date = dateutil.parser.parse(datestring)\n",
    "    return date"
   ]
  },
  {
   "cell_type": "code",
   "execution_count": 13,
   "metadata": {},
   "outputs": [],
   "source": [
    "def get_movie_value(soup, field_name):\n",
    "    \n",
    "    '''Grab a value from Box Office Mojo HTML\n",
    "    \n",
    "    Takes a string attribute of a movie on the page and returns the string in\n",
    "    the next sibling object (the value for that attribute) or None if nothing is found.\n",
    "    '''\n",
    "    \n",
    "    obj = soup.find(text=re.compile(field_name))\n",
    "    if not obj: \n",
    "        return None\n",
    "    \n",
    "    # this works for most of the values\n",
    "    next_element = obj.findNext()\n",
    "    if next_element:\n",
    "        return next_element.text \n",
    "    else:\n",
    "        return None"
   ]
  },
  {
   "cell_type": "code",
   "execution_count": 20,
   "metadata": {},
   "outputs": [],
   "source": [
    "def get_movie_dict(link):\n",
    "    '''\n",
    "    From BoxOfficeMojo link stub, request movie html, parse with BeautifulSoup, and\n",
    "    collect \n",
    "        - title \n",
    "        - domestic gross\n",
    "        - runtime \n",
    "        - MPAA rating\n",
    "        - full release date\n",
    "    Return information as a dictionary.\n",
    "    '''\n",
    "    \n",
    "    base_url = 'https://www.boxofficemojo.com'\n",
    "    \n",
    "    #Create full url to scrape\n",
    "    url = urljoin(base_url, link)\n",
    "    #Request HTML and parse\n",
    "    wait = WebDriverWait(driver, 10)\n",
    "    wait\n",
    "    wait\n",
    "    page = response.text\n",
    "    soup = BeautifulSoup(page,\"lxml\")\n",
    "\n",
    "    \n",
    "    headers = ['movie_title', 'domestic_total_gross',\n",
    "               'runtime_minutes', 'rating', 'release_date', 'budget']\n",
    "    \n",
    "    #Get title\n",
    "    title_string = soup.find('title').text\n",
    "    title = title_string.split('-')[0].strip()\n",
    "    #Get domestic gross\n",
    "    try:\n",
    "        raw_domestic_total_gross = (soup.find(class_='mojo-performance-summary-table')\n",
    "                                    .find_all('span', class_='money')[0]\n",
    "                                    .text\n",
    "                               )\n",
    "    except:\n",
    "        raw_domestic_total_gross = float(\"NaN\")\n",
    "    \n",
    "    if type(raw_domestic_total_gross) == float or type(raw_domestic_total_gross) == 'NoneType':\n",
    "        print('This is NaN')\n",
    "        domestic_total_gross = float(\"NaN\")\n",
    "    else:\n",
    "        domestic_total_gross = money_to_int(raw_domestic_total_gross)\n",
    "\n",
    "    #Get runtime\n",
    "    raw_runtime = get_movie_value(soup,'Running')\n",
    "    if type(raw_runtime) != float and type(raw_runtime) != 'NoneType':\n",
    "        runtime = runtime_to_minutes(raw_runtime)\n",
    "    \n",
    "    #Get rating\n",
    "    rating = get_movie_value(soup,'MPAA')\n",
    "\n",
    "    #Get release date\n",
    "    if '-' in get_movie_value(soup, 'Release Date'):\n",
    "        raw_release_date = get_movie_value(soup,'Release Date').split('-')[0]\n",
    "    elif '(' in get_movie_value(soup, 'Release Date'):\n",
    "        raw_release_date = get_movie_value(soup,'Release Date').split('(')[0]\n",
    "    else:\n",
    "        raw_release_date = get_movie_value(soup,'Release Date').split('(')[0]\n",
    "    release_date = to_date(raw_release_date)\n",
    "    \n",
    "\n",
    "\n",
    "    # Get budget alt \n",
    "    raw_budget = get_movie_value(soup,'Budget')\n",
    "    budget = money_to_int(raw_budget)\n",
    "\n",
    "    #Create movie dictionary and return\n",
    "    movie_dict = dict(zip(headers,[title,\n",
    "                                domestic_total_gross,\n",
    "                                runtime,\n",
    "                                rating, \n",
    "                                release_date,\n",
    "                                budget]))\n",
    "\n",
    "    return movie_dict"
   ]
  },
  {
   "cell_type": "code",
   "execution_count": 15,
   "metadata": {},
   "outputs": [],
   "source": [
    "def get_movie_dict2(link):\n",
    "    \n",
    "    base_url = 'https://www.rottentomatoes.com'\n",
    "    \n",
    "    #Create full url to scrape\n",
    "    url = base_url + link\n",
    "    \n",
    "    #Request HTML and parse\n",
    "    wait = WebDriverWait(driver, 10)\n",
    "    wait\n",
    "    response = requests.get(url)\n",
    "    wait\n",
    "    wait\n",
    "    wait\n",
    "    page = response.text\n",
    "    soup = BeautifulSoup(page,\"lxml\")\n",
    "\n",
    "    \n",
    "    headers = ['Movie Title', 'Tomatometer', 'Tomatometer Count',\n",
    "               'Audience Score', 'Verified Ratings']\n",
    "    \n",
    "    #Get title\n",
    "    title_string = soup.find('title').text\n",
    "    title = title_string.split('(')[0]\n",
    "    print(title)\n",
    "    \n",
    "    #Get ratings\n",
    "    try:\n",
    "        tomato_rating_div = soup.find('div', class_='mop-ratings-wrap__half')\n",
    "        tomato_score = (tomato_rating_div\n",
    "                        .find(class_='mop-ratings-wrap__percentage')\n",
    "                        .text\n",
    "                        .strip()\n",
    "                        .split('%')[0]\n",
    "                       )        \n",
    "        print(tomato_score)\n",
    "        \n",
    "        audience_rating_div = soup.find('div', class_= 'mop-ratings-wrap__half audience-score')\n",
    "        audience_percent = (audience_rating_div\n",
    "                            .find(class_='mop-ratings-wrap__percentage')\n",
    "                            .text\n",
    "                            .strip()\n",
    "                            .split('%')[0]\n",
    "                           )\n",
    "        print(audience_percent)\n",
    "                               \n",
    "    except:\n",
    "        tomato_score, audience_percent = 'No score', 'No score'\n",
    "    \n",
    "#     if type(raw_domestic_total_gross) == float or type(raw_domestic_total_gross) == 'NoneType':\n",
    "#         print('This is NaN')\n",
    "#         domestic_total_gross = float(\"NaN\")\n",
    "#     else:\n",
    "#         domestic_total_gross = money_to_int(raw_domestic_total_gross)\n",
    "\n",
    "#     #Get runtime\n",
    "#     raw_runtime = get_movie_value(soup,'Running')\n",
    "#     if type(raw_runtime) != float and type(raw_runtime) != 'NoneType':\n",
    "#         runtime = runtime_to_minutes(raw_runtime)\n",
    "    \n",
    "#     #Get rating\n",
    "#     rating = get_movie_value(soup,'MPAA')\n",
    "\n",
    "#     #Get release date\n",
    "#     if '-' in get_movie_value(soup, 'Release Date'):\n",
    "#         raw_release_date = get_movie_value(soup,'Release Date').split('-')[0]\n",
    "#     elif '(' in get_movie_value(soup, 'Release Date'):\n",
    "#         raw_release_date = get_movie_value(soup,'Release Date').split('(')[0]\n",
    "#     else:\n",
    "#         raw_release_date = get_movie_value(soup,'Release Date').split('(')[0]\n",
    "#     release_date = to_date(raw_release_date)\n",
    "    \n",
    "\n",
    "\n",
    "#     # Get budget alt \n",
    "#     raw_budget = get_movie_value(soup,'Budget')\n",
    "#     budget = money_to_int(raw_budget)\n",
    "\n",
    "#     #Create movie dictionary and return\n",
    "#     movie_dict = dict(zip(headers,[title,\n",
    "#                                 domestic_total_gross,\n",
    "#                                 runtime,\n",
    "#                                 rating, \n",
    "#                                 release_date,\n",
    "#                                 budget]))\n",
    "\n",
    "#     return movie_dict"
   ]
  },
  {
   "cell_type": "code",
   "execution_count": 16,
   "metadata": {},
   "outputs": [
    {
     "ename": "NameError",
     "evalue": "name 'driver' is not defined",
     "output_type": "error",
     "traceback": [
      "\u001b[0;31m---------------------------------------------------------------------------\u001b[0m",
      "\u001b[0;31mNameError\u001b[0m                                 Traceback (most recent call last)",
      "\u001b[0;32m<ipython-input-16-c60a990463bc>\u001b[0m in \u001b[0;36m<module>\u001b[0;34m\u001b[0m\n\u001b[1;32m     55\u001b[0m \u001b[0;34m\u001b[0m\u001b[0m\n\u001b[1;32m     56\u001b[0m \u001b[0;32mfor\u001b[0m \u001b[0mlink\u001b[0m \u001b[0;32min\u001b[0m \u001b[0mtomato_links\u001b[0m\u001b[0;34m:\u001b[0m\u001b[0;34m\u001b[0m\u001b[0;34m\u001b[0m\u001b[0m\n\u001b[0;32m---> 57\u001b[0;31m     \u001b[0mtom_dicts\u001b[0m\u001b[0;34m.\u001b[0m\u001b[0mappend\u001b[0m\u001b[0;34m(\u001b[0m\u001b[0mget_movie_dict2\u001b[0m\u001b[0;34m(\u001b[0m\u001b[0;34m'/m/{}'\u001b[0m\u001b[0;34m.\u001b[0m\u001b[0mformat\u001b[0m\u001b[0;34m(\u001b[0m\u001b[0mlink\u001b[0m\u001b[0;34m)\u001b[0m\u001b[0;34m)\u001b[0m\u001b[0;34m)\u001b[0m\u001b[0;34m\u001b[0m\u001b[0;34m\u001b[0m\u001b[0m\n\u001b[0m\u001b[1;32m     58\u001b[0m \u001b[0;34m\u001b[0m\u001b[0m\n\u001b[1;32m     59\u001b[0m \u001b[0mtom_dicts\u001b[0m\u001b[0;34m\u001b[0m\u001b[0;34m\u001b[0m\u001b[0m\n",
      "\u001b[0;32m<ipython-input-15-fc8598e0adee>\u001b[0m in \u001b[0;36mget_movie_dict2\u001b[0;34m(link)\u001b[0m\n\u001b[1;32m      7\u001b[0m \u001b[0;34m\u001b[0m\u001b[0m\n\u001b[1;32m      8\u001b[0m     \u001b[0;31m#Request HTML and parse\u001b[0m\u001b[0;34m\u001b[0m\u001b[0;34m\u001b[0m\u001b[0;34m\u001b[0m\u001b[0m\n\u001b[0;32m----> 9\u001b[0;31m     \u001b[0mwait\u001b[0m \u001b[0;34m=\u001b[0m \u001b[0mWebDriverWait\u001b[0m\u001b[0;34m(\u001b[0m\u001b[0mdriver\u001b[0m\u001b[0;34m,\u001b[0m \u001b[0;36m10\u001b[0m\u001b[0;34m)\u001b[0m\u001b[0;34m\u001b[0m\u001b[0;34m\u001b[0m\u001b[0m\n\u001b[0m\u001b[1;32m     10\u001b[0m     \u001b[0mwait\u001b[0m\u001b[0;34m\u001b[0m\u001b[0;34m\u001b[0m\u001b[0m\n\u001b[1;32m     11\u001b[0m     \u001b[0mresponse\u001b[0m \u001b[0;34m=\u001b[0m \u001b[0mrequests\u001b[0m\u001b[0;34m.\u001b[0m\u001b[0mget\u001b[0m\u001b[0;34m(\u001b[0m\u001b[0murl\u001b[0m\u001b[0;34m)\u001b[0m\u001b[0;34m\u001b[0m\u001b[0;34m\u001b[0m\u001b[0m\n",
      "\u001b[0;31mNameError\u001b[0m: name 'driver' is not defined"
     ]
    }
   ],
   "source": [
    "tom_dicts = []\n",
    "\n",
    "tomato_links = [\n",
    "        'bad_boys_for_life',\n",
    "        '1917_2019',\n",
    "        'sonic_the_hedgehog_2020',\n",
    "        'jumanji_the_next_level',\n",
    "        'star_wars_the_rise_of_skywalker',\n",
    "        'birds_of_prey_2020',\n",
    "        'dolittle',\n",
    "        'little_women_2019',\n",
    "        'the_invisible_man_2020',\n",
    "        'the_call_of_the_wild_2020',\n",
    "        'onward',\n",
    "        'knives_out',\n",
    "        'frozen_ii',\n",
    "        'spies_in_disguise',\n",
    "        'the_gentlemen',\n",
    "        'just_mercy',\n",
    "        'parasite_2019',\n",
    "        'fantasy_island_2020',\n",
    "        'uncut_gems',\n",
    "        'like_a_boss',\n",
    "        'the_grudge_2020',\n",
    "        'the_photograph_2020',\n",
    "        'underwater_2020',\n",
    "        'the_turning_2020',\n",
    "        'gretel_and_hansel',\n",
    "        'my_hero_academia_hero_heroes_rising',\n",
    "        'bombshell_2019',\n",
    "        'the_way_back_2020',\n",
    "        'brahms_the_boy_ii',\n",
    "        'jojo_rabbit',\n",
    "        'impractical_jokers_the_movie',\n",
    "        'ford_v_ferrari',\n",
    "        'emma_2020',\n",
    "        'bloodshot_2020',\n",
    "        'i_still_believe',\n",
    "        'downhill_2020',\n",
    "        'weathering_with_you',\n",
    "        'cats_2019',\n",
    "        'the_hunt_2019',\n",
    "        'the_rhythm_section',\n",
    "        'a_beautiful_day_in_the_neighborhood',\n",
    "        'richard_jewell',\n",
    "        'portrait_of_a_lady_on_fire',\n",
    "        '2020_oscar_nominated_shorts_animation',\n",
    "        'queen_and_slim',\n",
    "        '2020_oscar_nominated_shorts_live_action',\n",
    "        'the_last_full_measure',\n",
    "        'ip_man_4_the_finale',\n",
    "        'the_wretched_2020',\n",
    "        'joker_2019',\n",
    "]\n",
    "\n",
    "for link in tomato_links:\n",
    "    tom_dicts.append(get_movie_dict2('/m/{}'.format(link)))\n",
    "    \n",
    "tom_dicts"
   ]
  },
  {
   "cell_type": "code",
   "execution_count": 17,
   "metadata": {
    "scrolled": true
   },
   "outputs": [
    {
     "name": "stdout",
     "output_type": "stream",
     "text": [
      "This is NaN\n"
     ]
    },
    {
     "ename": "AttributeError",
     "evalue": "'NoneType' object has no attribute 'split'",
     "output_type": "error",
     "traceback": [
      "\u001b[0;31m---------------------------------------------------------------------------\u001b[0m",
      "\u001b[0;31mAttributeError\u001b[0m                            Traceback (most recent call last)",
      "\u001b[0;32m<ipython-input-17-0c2e2f573455>\u001b[0m in \u001b[0;36m<module>\u001b[0;34m\u001b[0m\n\u001b[1;32m      7\u001b[0m     \u001b[0mdriver\u001b[0m\u001b[0;34m.\u001b[0m\u001b[0mfind_element_by_xpath\u001b[0m\u001b[0;34m(\u001b[0m\u001b[0;34m'//*[@id=\"a-page\"]/main/div/div[3]/div[4]/div[2]/span[2]/a'\u001b[0m\u001b[0;34m.\u001b[0m\u001b[0mformat\u001b[0m\u001b[0;34m(\u001b[0m\u001b[0mi\u001b[0m\u001b[0;34m)\u001b[0m\u001b[0;34m)\u001b[0m\u001b[0;34m.\u001b[0m\u001b[0mclick\u001b[0m\u001b[0;34m(\u001b[0m\u001b[0;34m)\u001b[0m\u001b[0;34m\u001b[0m\u001b[0;34m\u001b[0m\u001b[0m\n\u001b[1;32m      8\u001b[0m     \u001b[0mwait\u001b[0m\u001b[0;34m\u001b[0m\u001b[0;34m\u001b[0m\u001b[0m\n\u001b[0;32m----> 9\u001b[0;31m     \u001b[0mget_movie_dict\u001b[0m\u001b[0;34m(\u001b[0m\u001b[0mdriver\u001b[0m\u001b[0;34m.\u001b[0m\u001b[0mcurrent_url\u001b[0m\u001b[0;34m)\u001b[0m\u001b[0;34m\u001b[0m\u001b[0;34m\u001b[0m\u001b[0m\n\u001b[0m\u001b[1;32m     10\u001b[0m     \u001b[0mi\u001b[0m \u001b[0;34m+=\u001b[0m \u001b[0;36m1\u001b[0m\u001b[0;34m\u001b[0m\u001b[0;34m\u001b[0m\u001b[0m\n\u001b[1;32m     11\u001b[0m     \u001b[0mdriver\u001b[0m\u001b[0;34m.\u001b[0m\u001b[0mexecute_script\u001b[0m\u001b[0;34m(\u001b[0m\u001b[0;34m\"window.history.go(-1)\"\u001b[0m\u001b[0;34m)\u001b[0m\u001b[0;34m\u001b[0m\u001b[0;34m\u001b[0m\u001b[0m\n",
      "\u001b[0;32m<ipython-input-14-617b7f9065a7>\u001b[0m in \u001b[0;36mget_movie_dict\u001b[0;34m(link)\u001b[0m\n\u001b[1;32m     48\u001b[0m     \u001b[0mraw_runtime\u001b[0m \u001b[0;34m=\u001b[0m \u001b[0mget_movie_value\u001b[0m\u001b[0;34m(\u001b[0m\u001b[0msoup\u001b[0m\u001b[0;34m,\u001b[0m\u001b[0;34m'Running'\u001b[0m\u001b[0;34m)\u001b[0m\u001b[0;34m\u001b[0m\u001b[0;34m\u001b[0m\u001b[0m\n\u001b[1;32m     49\u001b[0m     \u001b[0;32mif\u001b[0m \u001b[0mtype\u001b[0m\u001b[0;34m(\u001b[0m\u001b[0mraw_runtime\u001b[0m\u001b[0;34m)\u001b[0m \u001b[0;34m!=\u001b[0m \u001b[0mfloat\u001b[0m \u001b[0;32mand\u001b[0m \u001b[0mtype\u001b[0m\u001b[0;34m(\u001b[0m\u001b[0mraw_runtime\u001b[0m\u001b[0;34m)\u001b[0m \u001b[0;34m!=\u001b[0m \u001b[0;34m'NoneType'\u001b[0m\u001b[0;34m:\u001b[0m\u001b[0;34m\u001b[0m\u001b[0;34m\u001b[0m\u001b[0m\n\u001b[0;32m---> 50\u001b[0;31m         \u001b[0mruntime\u001b[0m \u001b[0;34m=\u001b[0m \u001b[0mruntime_to_minutes\u001b[0m\u001b[0;34m(\u001b[0m\u001b[0mraw_runtime\u001b[0m\u001b[0;34m)\u001b[0m\u001b[0;34m\u001b[0m\u001b[0;34m\u001b[0m\u001b[0m\n\u001b[0m\u001b[1;32m     51\u001b[0m \u001b[0;34m\u001b[0m\u001b[0m\n\u001b[1;32m     52\u001b[0m     \u001b[0;31m#Get rating\u001b[0m\u001b[0;34m\u001b[0m\u001b[0;34m\u001b[0m\u001b[0;34m\u001b[0m\u001b[0m\n",
      "\u001b[0;32m<ipython-input-12-36af80107021>\u001b[0m in \u001b[0;36mruntime_to_minutes\u001b[0;34m(runtimestring)\u001b[0m\n\u001b[1;32m      7\u001b[0m \u001b[0;32mdef\u001b[0m \u001b[0mruntime_to_minutes\u001b[0m\u001b[0;34m(\u001b[0m\u001b[0mruntimestring\u001b[0m\u001b[0;34m)\u001b[0m\u001b[0;34m:\u001b[0m\u001b[0;34m\u001b[0m\u001b[0;34m\u001b[0m\u001b[0m\n\u001b[1;32m      8\u001b[0m     \u001b[0;32mif\u001b[0m \u001b[0mtype\u001b[0m\u001b[0;34m(\u001b[0m\u001b[0mruntimestring\u001b[0m\u001b[0;34m)\u001b[0m \u001b[0;34m!=\u001b[0m \u001b[0;34m'NoneType'\u001b[0m\u001b[0;34m:\u001b[0m\u001b[0;34m\u001b[0m\u001b[0;34m\u001b[0m\u001b[0m\n\u001b[0;32m----> 9\u001b[0;31m         \u001b[0mruntime\u001b[0m \u001b[0;34m=\u001b[0m \u001b[0mruntimestring\u001b[0m\u001b[0;34m.\u001b[0m\u001b[0msplit\u001b[0m\u001b[0;34m(\u001b[0m\u001b[0;34m)\u001b[0m\u001b[0;34m\u001b[0m\u001b[0;34m\u001b[0m\u001b[0m\n\u001b[0m\u001b[1;32m     10\u001b[0m     \u001b[0;32mtry\u001b[0m\u001b[0;34m:\u001b[0m\u001b[0;34m\u001b[0m\u001b[0;34m\u001b[0m\u001b[0m\n\u001b[1;32m     11\u001b[0m         \u001b[0mminutes\u001b[0m \u001b[0;34m=\u001b[0m \u001b[0mint\u001b[0m\u001b[0;34m(\u001b[0m\u001b[0mruntime\u001b[0m\u001b[0;34m[\u001b[0m\u001b[0;36m0\u001b[0m\u001b[0;34m]\u001b[0m\u001b[0;34m)\u001b[0m\u001b[0;34m*\u001b[0m\u001b[0;36m60\u001b[0m \u001b[0;34m+\u001b[0m \u001b[0mint\u001b[0m\u001b[0;34m(\u001b[0m\u001b[0mruntime\u001b[0m\u001b[0;34m[\u001b[0m\u001b[0;36m2\u001b[0m\u001b[0;34m]\u001b[0m\u001b[0;34m)\u001b[0m\u001b[0;34m\u001b[0m\u001b[0;34m\u001b[0m\u001b[0m\n",
      "\u001b[0;31mAttributeError\u001b[0m: 'NoneType' object has no attribute 'split'"
     ]
    }
   ],
   "source": [
    "# driver.find_element_by_xpath('/html/body/div[1]/main/div/div/div[2]/div/table[2]/tbody/tr[2]/td[2]/a').click()\n",
    "i = 2\n",
    "driver = webdriver.Chrome(chromedriver)\n",
    "driver.get(url)\n",
    "wait = WebDriverWait(driver, 10)\n",
    "while i < 269:\n",
    "    driver.find_element_by_xpath('//*[@id=\"a-page\"]/main/div/div[3]/div[4]/div[2]/span[2]/a'.format(i)).click()\n",
    "    wait\n",
    "    get_movie_dict(driver.current_url)\n",
    "    i += 1\n",
    "    driver.execute_script(\"window.history.go(-1)\")\n",
    "    wait"
   ]
  },
  {
   "cell_type": "code",
   "execution_count": 8,
   "metadata": {},
   "outputs": [
    {
     "ename": "NameError",
     "evalue": "name 'WebDriverWait' is not defined",
     "output_type": "error",
     "traceback": [
      "\u001b[0;31m---------------------------------------------------------------------------\u001b[0m",
      "\u001b[0;31mNameError\u001b[0m                                 Traceback (most recent call last)",
      "\u001b[0;32m<ipython-input-8-da6601026900>\u001b[0m in \u001b[0;36m<module>\u001b[0;34m\u001b[0m\n\u001b[1;32m     55\u001b[0m \u001b[0;34m\u001b[0m\u001b[0m\n\u001b[1;32m     56\u001b[0m \u001b[0;32mfor\u001b[0m \u001b[0mlink\u001b[0m \u001b[0;32min\u001b[0m \u001b[0mmojo_links\u001b[0m\u001b[0;34m:\u001b[0m\u001b[0;34m\u001b[0m\u001b[0;34m\u001b[0m\u001b[0m\n\u001b[0;32m---> 57\u001b[0;31m     \u001b[0mdicts\u001b[0m\u001b[0;34m.\u001b[0m\u001b[0mappend\u001b[0m\u001b[0;34m(\u001b[0m\u001b[0mget_movie_dict\u001b[0m\u001b[0;34m(\u001b[0m\u001b[0;34m'/release/{}/'\u001b[0m\u001b[0;34m.\u001b[0m\u001b[0mformat\u001b[0m\u001b[0;34m(\u001b[0m\u001b[0mlink\u001b[0m\u001b[0;34m)\u001b[0m\u001b[0;34m)\u001b[0m\u001b[0;34m)\u001b[0m\u001b[0;34m\u001b[0m\u001b[0;34m\u001b[0m\u001b[0m\n\u001b[0m\u001b[1;32m     58\u001b[0m \u001b[0;34m\u001b[0m\u001b[0m\n\u001b[1;32m     59\u001b[0m \u001b[0mdicts\u001b[0m\u001b[0;34m\u001b[0m\u001b[0;34m\u001b[0m\u001b[0m\n",
      "\u001b[0;32m<ipython-input-5-617b7f9065a7>\u001b[0m in \u001b[0;36mget_movie_dict\u001b[0;34m(link)\u001b[0m\n\u001b[1;32m     16\u001b[0m     \u001b[0murl\u001b[0m \u001b[0;34m=\u001b[0m \u001b[0murljoin\u001b[0m\u001b[0;34m(\u001b[0m\u001b[0mbase_url\u001b[0m\u001b[0;34m,\u001b[0m \u001b[0mlink\u001b[0m\u001b[0;34m)\u001b[0m\u001b[0;34m\u001b[0m\u001b[0;34m\u001b[0m\u001b[0m\n\u001b[1;32m     17\u001b[0m     \u001b[0;31m#Request HTML and parse\u001b[0m\u001b[0;34m\u001b[0m\u001b[0;34m\u001b[0m\u001b[0;34m\u001b[0m\u001b[0m\n\u001b[0;32m---> 18\u001b[0;31m     \u001b[0mwait\u001b[0m \u001b[0;34m=\u001b[0m \u001b[0mWebDriverWait\u001b[0m\u001b[0;34m(\u001b[0m\u001b[0mdriver\u001b[0m\u001b[0;34m,\u001b[0m \u001b[0;36m10\u001b[0m\u001b[0;34m)\u001b[0m\u001b[0;34m\u001b[0m\u001b[0;34m\u001b[0m\u001b[0m\n\u001b[0m\u001b[1;32m     19\u001b[0m     \u001b[0mwait\u001b[0m\u001b[0;34m\u001b[0m\u001b[0;34m\u001b[0m\u001b[0m\n\u001b[1;32m     20\u001b[0m     \u001b[0mresponse\u001b[0m \u001b[0;34m=\u001b[0m \u001b[0mrequests\u001b[0m\u001b[0;34m.\u001b[0m\u001b[0mget\u001b[0m\u001b[0;34m(\u001b[0m\u001b[0murl\u001b[0m\u001b[0;34m)\u001b[0m\u001b[0;34m\u001b[0m\u001b[0;34m\u001b[0m\u001b[0m\n",
      "\u001b[0;31mNameError\u001b[0m: name 'WebDriverWait' is not defined"
     ]
    }
   ],
   "source": [
    "mojo_links = [ \n",
    "        'rl1182631425',\n",
    "        'rl2969994753',\n",
    "        'rl4244997633',\n",
    "        'rl755467777',\n",
    "        'rl3305145857',\n",
    "        'rl3640886785',\n",
    "        'rl2164295169',\n",
    "        'rl218596865',\n",
    "        'rl50628097',\n",
    "        'rl2533524993',\n",
    "        'rl3433267713',\n",
    "        'rl3204875777',\n",
    "        'rl2424210945',\n",
    "        'rl1333691905',\n",
    "        'rl3473442305',\n",
    "        'rl419792385',\n",
    "        'rl1258849793',\n",
    "        'rl1611040257',\n",
    "        'rl3825763841',\n",
    "        'rl4278486529',\n",
    "        'rl1745126913',\n",
    "        'rl1655931393',\n",
    "        'rl302548481',\n",
    "        'rl3020195329',\n",
    "        'rl3842541057',\n",
    "        'rl867926529',\n",
    "        'rl2550760961',\n",
    "        'rl4127819265',\n",
    "        'rl2567538177',\n",
    "        'rl2030601729',\n",
    "        'rl2998501889',\n",
    "        'rl990348801',\n",
    "        'rl3221784065',\n",
    "        'rl235374081',\n",
    "        'rl1628014081',\n",
    "        'rl2611249665',\n",
    "        'rl3669066241',\n",
    "        'rl2684847617',\n",
    "        'rl1459979777',\n",
    "        'rl3775038977',\n",
    "        'rl2651096577',\n",
    "        'rl2903213569',\n",
    "        'rl1325958657',\n",
    "        'rl615875073'\n",
    "        'rl50824705',\n",
    "        'rl537298433',\n",
    "        'rl1617987073',\n",
    "        'rl1386316289',\n",
    "        'rl716997121',\n",
    "        'rl252151297'\n",
    "        ]\n",
    "\n",
    "dicts = []\n",
    "\n",
    "for link in mojo_links:\n",
    "    dicts.append(get_movie_dict('/release/{}/'.format(link)))\n",
    "\n",
    "dicts"
   ]
  },
  {
   "cell_type": "code",
   "execution_count": 9,
   "metadata": {},
   "outputs": [
    {
     "data": {
      "text/html": [
       "<div>\n",
       "<style scoped>\n",
       "    .dataframe tbody tr th:only-of-type {\n",
       "        vertical-align: middle;\n",
       "    }\n",
       "\n",
       "    .dataframe tbody tr th {\n",
       "        vertical-align: top;\n",
       "    }\n",
       "\n",
       "    .dataframe thead th {\n",
       "        text-align: right;\n",
       "    }\n",
       "</style>\n",
       "<table border=\"1\" class=\"dataframe\">\n",
       "  <thead>\n",
       "    <tr style=\"text-align: right;\">\n",
       "      <th></th>\n",
       "    </tr>\n",
       "  </thead>\n",
       "  <tbody>\n",
       "  </tbody>\n",
       "</table>\n",
       "</div>"
      ],
      "text/plain": [
       "Empty DataFrame\n",
       "Columns: []\n",
       "Index: []"
      ]
     },
     "execution_count": 9,
     "metadata": {},
     "output_type": "execute_result"
    }
   ],
   "source": [
    "df = pd.DataFrame(dicts)\n",
    "df"
   ]
  },
  {
   "cell_type": "code",
   "execution_count": null,
   "metadata": {},
   "outputs": [],
   "source": [
    "df.columns = ['Movie Title', 'Domestic Gross', 'Runtime (mins)', 'Rating', 'Release Date', 'Budget']\n",
    "df"
   ]
  },
  {
   "cell_type": "code",
   "execution_count": null,
   "metadata": {},
   "outputs": [],
   "source": [
    "rating_one_hot = pd.get_dummies(df['Rating'])\n",
    "frames = [df, rating_one_hot]\n",
    "\n",
    "df_ratings = df.merge(rating_one_hot, left_index=True, right_index=True).drop(columns='Rating')\n",
    "df_ratings"
   ]
  },
  {
   "cell_type": "code",
   "execution_count": null,
   "metadata": {},
   "outputs": [],
   "source": [
    "# sns.heatmap(df_ratings, vmin=-1, vmax=1)\n",
    "sns.pairplot(df_ratings)"
   ]
  },
  {
   "cell_type": "code",
   "execution_count": null,
   "metadata": {},
   "outputs": [],
   "source": [
    "df_ratings"
   ]
  },
  {
   "cell_type": "code",
   "execution_count": null,
   "metadata": {},
   "outputs": [],
   "source": [
    "plt.figure(figsize=[20, 20])\n",
    "sns.jointplot(df_ratings['Domestic Gross'], df_ratings['Budget']);"
   ]
  },
  {
   "cell_type": "code",
   "execution_count": null,
   "metadata": {},
   "outputs": [],
   "source": [
    "from sklearn.model_selection import train_test_split\n",
    "from sklearn.linear_model import LinearRegression"
   ]
  },
  {
   "cell_type": "code",
   "execution_count": null,
   "metadata": {},
   "outputs": [],
   "source": [
    "X = df_ratings.loc[df_ratings['domestic_total_gross'],\n",
    "               df_ratings['runtime_minutes']]\n",
    "y = df_ratings['Budget']"
   ]
  },
  {
   "cell_type": "code",
   "execution_count": null,
   "metadata": {},
   "outputs": [],
   "source": []
  },
  {
   "cell_type": "code",
   "execution_count": null,
   "metadata": {},
   "outputs": [],
   "source": []
  },
  {
   "cell_type": "code",
   "execution_count": null,
   "metadata": {},
   "outputs": [],
   "source": []
  },
  {
   "cell_type": "code",
   "execution_count": null,
   "metadata": {},
   "outputs": [],
   "source": []
  },
  {
   "cell_type": "code",
   "execution_count": null,
   "metadata": {},
   "outputs": [],
   "source": []
  },
  {
   "cell_type": "code",
   "execution_count": null,
   "metadata": {},
   "outputs": [],
   "source": []
  },
  {
   "cell_type": "code",
   "execution_count": null,
   "metadata": {},
   "outputs": [],
   "source": []
  },
  {
   "cell_type": "code",
   "execution_count": null,
   "metadata": {},
   "outputs": [],
   "source": []
  },
  {
   "cell_type": "code",
   "execution_count": null,
   "metadata": {},
   "outputs": [],
   "source": []
  },
  {
   "cell_type": "code",
   "execution_count": null,
   "metadata": {},
   "outputs": [],
   "source": []
  },
  {
   "cell_type": "code",
   "execution_count": null,
   "metadata": {},
   "outputs": [],
   "source": []
  }
 ],
 "metadata": {
  "kernelspec": {
   "display_name": "Python 3",
   "language": "python",
   "name": "python3"
  },
  "language_info": {
   "codemirror_mode": {
    "name": "ipython",
    "version": 3
   },
   "file_extension": ".py",
   "mimetype": "text/x-python",
   "name": "python",
   "nbconvert_exporter": "python",
   "pygments_lexer": "ipython3",
   "version": "3.7.6"
  }
 },
 "nbformat": 4,
 "nbformat_minor": 4
}
