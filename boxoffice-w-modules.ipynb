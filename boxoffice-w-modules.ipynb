{
 "cells": [
  {
   "cell_type": "markdown",
   "metadata": {},
   "source": [
    "Imports"
   ]
  },
  {
   "cell_type": "code",
   "execution_count": 24,
   "metadata": {},
   "outputs": [],
   "source": [
    "from bs4 import BeautifulSoup\n",
    "import requests\n",
    "import time, os\n",
    "import pandas as pd\n",
    "import re\n",
    "import seaborn as sns\n",
    "import matplotlib.pyplot as plt\n",
    "import functions\n",
    "import random\n",
    "import numpy as np\n",
    "\n",
    "from urllib.parse import urljoin\n",
    "from selenium import webdriver\n",
    "from selenium.webdriver.common.by import By\n",
    "from selenium.webdriver.common.keys import Keys\n",
    "from selenium.webdriver.support.ui import WebDriverWait\n",
    "from selenium.webdriver.support import expected_conditions as EC\n",
    "from selenium.common.exceptions import NoSuchElementException\n",
    "from selenium.common.exceptions import StaleElementReferenceException\n",
    "from selenium.common.exceptions import ElementClickInterceptedException\n",
    "from selenium.common.exceptions import ElementNotInteractableException\n",
    "\n",
    "chromedriver = \"/usr/bin/chromedriver\" # path to the chromedriver executable\n",
    "os.environ[\"webdriver.chrome.driver\"] = chromedriver"
   ]
  },
  {
   "cell_type": "code",
   "execution_count": 47,
   "metadata": {},
   "outputs": [
    {
     "name": "stdout",
     "output_type": "stream",
     "text": [
      "5.091031688170636\n",
      "5.355836935596196\n",
      "6.040259478194512\n",
      "6.032095865037385\n",
      "5.3312918410061085\n",
      "4.680626077692476\n",
      "5.518092122170594\n",
      "4.221002442921314\n",
      "3.82200982958933\n",
      "4.681230826935233\n",
      "5.552744149626176\n",
      "5.9442810108851925\n",
      "6.188185055499375\n",
      "3.9816809005970115\n",
      "4.299696151625701\n",
      "3.525735765692751\n",
      "6.147347156983513\n",
      "4.880989596660568\n",
      "6.029289376991718\n",
      "5.512552920867224\n",
      "5.08144209883506\n",
      "6.066085866674085\n",
      "5.1789542080281254\n",
      "5.733453024688015\n",
      "6.256762394846496\n",
      "5.393091797274943\n",
      "6.269113012143771\n",
      "5.250771071956154\n",
      "4.5957565394055235\n",
      "3.831890765883538\n",
      "4.513146233724284\n",
      "5.558894301790015\n",
      "4.818047281984695\n",
      "5.018100163293072\n",
      "6.05067199322265\n",
      "4.8798191252849215\n",
      "5.6253453987421596\n",
      "4.091831134674608\n",
      "5.317982659450472\n",
      "6.1721240365557835\n",
      "5.304893112021536\n",
      "5.438482541805863\n",
      "6.46798857832634\n",
      "4.657718794114352\n",
      "4.071777127336637\n",
      "5.494460041730067\n",
      "5.295394471779492\n",
      "5.191824639747063\n",
      "4.942976816147382\n",
      "6.022457137409752\n",
      "4.7266239864565\n",
      "4.382715440799662\n",
      "4.450985944083712\n",
      "4.430772207659906\n",
      "5.132019907670867\n",
      "4.192152733412013\n",
      "6.355472143462434\n",
      "5.326189211821603\n",
      "6.492803329448325\n",
      "3.9054838429166\n",
      "5.6711770741834115\n",
      "3.803789932645081\n",
      "3.8805262338051385\n",
      "4.458279956429511\n",
      "5.015527716164694\n",
      "4.2745555322679065\n",
      "5.940934150339084\n",
      "5.619667978395553\n",
      "4.89285194303085\n",
      "5.71695833967069\n",
      "5.673691340457923\n",
      "3.9718919970379725\n",
      "5.549360789530295\n",
      "4.54063880597106\n",
      "5.6483345991306795\n",
      "5.623178723360762\n",
      "5.799480807168074\n",
      "3.629910377136576\n",
      "5.074900665606712\n",
      "4.927976924053196\n",
      "3.8959742610048522\n",
      "3.8835556425889615\n",
      "4.808844546992255\n",
      "4.275583305839288\n",
      "5.970208591422979\n",
      "5.110577665262512\n",
      "3.8398058986716848\n",
      "6.21843841487988\n",
      "4.8510794446081436\n",
      "4.363043329882405\n",
      "5.529634717462065\n",
      "4.223167314386883\n",
      "4.845640838624762\n",
      "4.134451856469244\n",
      "4.909681084710551\n",
      "3.9163483102809202\n",
      "5.020578005712532\n",
      "4.770205358927345\n",
      "5.886776798389042\n"
     ]
    }
   ],
   "source": [
    "for x in range(1, 100):\n",
    "    print((3.5+2*random.random()))"
   ]
  },
  {
   "cell_type": "markdown",
   "metadata": {},
   "source": [
    "Request Info"
   ]
  },
  {
   "cell_type": "code",
   "execution_count": 25,
   "metadata": {},
   "outputs": [],
   "source": [
    "sleepTimes = [3.7, 3.8, 3.9, 4.0, 4.1, 4.2, 4.3, 4.4, ]\n",
    "\n",
    "link = '/year/2020/?ref_=bo_yl_table_1'\n",
    "base_url = 'https://www.boxofficemojo.com'\n",
    "\n",
    "from urllib.parse import urljoin\n",
    "url = urljoin(base_url, link)"
   ]
  },
  {
   "cell_type": "markdown",
   "metadata": {},
   "source": [
    "Money to int, runtime to minutes, date to datestring function "
   ]
  },
  {
   "cell_type": "code",
   "execution_count": 3,
   "metadata": {},
   "outputs": [
    {
     "name": "stdout",
     "output_type": "stream",
     "text": [
      "{'movie_title': 'Bad Boys for Life', 'domestic_total_gross': 204417855, 'runtime_minutes': 124, 'rating': 'R', 'budget': 90000000}\n",
      "{'movie_title': '1917', 'domestic_total_gross': 159227644, 'runtime_minutes': 119, 'rating': 'R', 'budget': 95000000}\n"
     ]
    },
    {
     "ename": "KeyboardInterrupt",
     "evalue": "",
     "output_type": "error",
     "traceback": [
      "\u001b[0;31m---------------------------------------------------------------------------\u001b[0m",
      "\u001b[0;31mKeyboardInterrupt\u001b[0m                         Traceback (most recent call last)",
      "\u001b[0;32m<ipython-input-3-eea6999f1c6a>\u001b[0m in \u001b[0;36m<module>\u001b[0;34m\u001b[0m\n\u001b[1;32m     12\u001b[0m         \u001b[0mdriver\u001b[0m\u001b[0;34m.\u001b[0m\u001b[0mfind_element_by_xpath\u001b[0m\u001b[0;34m(\u001b[0m\u001b[0;34m'//*[@id=\"table\"]/div/table[2]/tbody/tr[{}]/td[2]/a'\u001b[0m\u001b[0;34m.\u001b[0m\u001b[0mformat\u001b[0m\u001b[0;34m(\u001b[0m\u001b[0mi\u001b[0m\u001b[0;34m)\u001b[0m\u001b[0;34m)\u001b[0m\u001b[0;34m.\u001b[0m\u001b[0mclick\u001b[0m\u001b[0;34m(\u001b[0m\u001b[0;34m)\u001b[0m\u001b[0;34m\u001b[0m\u001b[0;34m\u001b[0m\u001b[0m\n\u001b[1;32m     13\u001b[0m         \u001b[0mWebDriverWait\u001b[0m\u001b[0;34m(\u001b[0m\u001b[0mdriver\u001b[0m\u001b[0;34m,\u001b[0m \u001b[0;36m10\u001b[0m\u001b[0;34m)\u001b[0m\u001b[0;34m\u001b[0m\u001b[0;34m\u001b[0m\u001b[0m\n\u001b[0;32m---> 14\u001b[0;31m         \u001b[0mtime\u001b[0m\u001b[0;34m.\u001b[0m\u001b[0msleep\u001b[0m\u001b[0;34m(\u001b[0m\u001b[0;36m2\u001b[0m\u001b[0;34m)\u001b[0m\u001b[0;34m\u001b[0m\u001b[0;34m\u001b[0m\u001b[0m\n\u001b[0m\u001b[1;32m     15\u001b[0m         \u001b[0mcurrent_movie\u001b[0m \u001b[0;34m=\u001b[0m \u001b[0mfunctions\u001b[0m\u001b[0;34m.\u001b[0m\u001b[0mget_selenium_dict\u001b[0m\u001b[0;34m(\u001b[0m\u001b[0mdriver\u001b[0m\u001b[0;34m)\u001b[0m\u001b[0;34m\u001b[0m\u001b[0;34m\u001b[0m\u001b[0m\n\u001b[1;32m     16\u001b[0m         \u001b[0mWebDriverWait\u001b[0m\u001b[0;34m(\u001b[0m\u001b[0mdriver\u001b[0m\u001b[0;34m,\u001b[0m \u001b[0;36m10\u001b[0m\u001b[0;34m)\u001b[0m\u001b[0;34m\u001b[0m\u001b[0;34m\u001b[0m\u001b[0m\n",
      "\u001b[0;31mKeyboardInterrupt\u001b[0m: "
     ]
    }
   ],
   "source": [
    "i = 2\n",
    "driver = webdriver.Chrome(chromedriver)\n",
    "driver.get(url)\n",
    "response = requests.get(url)\n",
    "page = response.text\n",
    "soup = BeautifulSoup(page, 'lxml')\n",
    "wait = WebDriverWait(driver, 10)\n",
    "\n",
    "movie_dicts = []\n",
    "\n",
    "while i < 269:\n",
    "        driver.find_element_by_xpath('//*[@id=\"table\"]/div/table[2]/tbody/tr[{}]/td[2]/a'.format(i)).click()\n",
    "        WebDriverWait(driver, 10)\n",
    "        time.sleep(2)\n",
    "        current_movie = functions.get_selenium_dict(driver)\n",
    "        WebDriverWait(driver, 10)\n",
    "        WebDriverWait(driver, 10)\n",
    "        movie_dicts.append(current_movie)\n",
    "        i += 1\n",
    "        WebDriverWait(driver, 10)\n",
    "        driver.back()\n",
    "        \n",
    "movie_dicts"
   ]
  },
  {
   "cell_type": "code",
   "execution_count": 4,
   "metadata": {
    "scrolled": true
   },
   "outputs": [],
   "source": [
    "movie_dicts = [{'movie_title': 'Bad Boys for Life', 'domestic_total_gross': 204417855, 'runtime_minutes': 124, 'rating': 'R', 'budget': 90000000}, {'movie_title': '1917', 'domestic_total_gross': 159227644, 'runtime_minutes': 119, 'rating': 'R', 'budget': 95000000}, {'movie_title': 'Sonic the Hedgehog', 'domestic_total_gross': 146066470, 'runtime_minutes': 99, 'rating': 'PG', 'budget': 85000000}, {'movie_title': 'Jumanji: The Next Level', 'domestic_total_gross': 316831246, 'runtime_minutes': 123, 'rating': 'PG-13', 'budget': 125000000}, {'movie_title': 'Star Wars: Episode IX', 'domestic_total_gross': 515202542, 'runtime_minutes': 142, 'rating': 'PG-13', 'budget': 275000000}, {'movie_title': 'Birds of Prey: And the Fantabulous Emancipation of One Harley Quinn', 'domestic_total_gross': 84158461, 'runtime_minutes': 109, 'rating': 'R', 'budget': 84500000}, {'movie_title': 'Dolittle', 'domestic_total_gross': 77047065, 'runtime_minutes': 101, 'rating': 'PG', 'budget': 175000000}, {'movie_title': 'Little Women', 'domestic_total_gross': 108101214, 'runtime_minutes': 135, 'rating': 'PG', 'budget': 40000000}, {'movie_title': 'The Invisible Man', 'domestic_total_gross': 64914050, 'runtime_minutes': 124, 'rating': 'R', 'budget': 7000000}, {'movie_title': 'The Call of the Wild', 'domestic_total_gross': 62342368, 'runtime_minutes': 100, 'rating': 'PG', 'budget': 135000000}, {'movie_title': 'Onward', 'domestic_total_gross': 61555145, 'runtime_minutes': 102, 'rating': 'PG', 'budget': 0}, {'movie_title': 'Knives Out', 'domestic_total_gross': 165363234, 'runtime_minutes': 130, 'rating': 'PG-13', 'budget': 40000000}, {'movie_title': 'Frozen II', 'domestic_total_gross': 477373578, 'runtime_minutes': 103, 'rating': 'PG', 'budget': 150000000}, {'movie_title': 'Spies in Disguise', 'domestic_total_gross': 66757013, 'runtime_minutes': 102, 'rating': 'PG', 'budget': 100000000}, {'movie_title': 'The Gentlemen', 'domestic_total_gross': 36296853, 'runtime_minutes': 113, 'rating': 'R', 'budget': 22000000}, {'movie_title': 'Just Mercy', 'domestic_total_gross': 36001502, 'runtime_minutes': 137, 'rating': 'PG-13', 'budget': 25000000}, {'movie_title': 'Parasite', 'domestic_total_gross': 53369749, 'runtime_minutes': 132, 'rating': 'R', 'budget': 11400000}, {'movie_title': 'Fantasy Island', 'domestic_total_gross': 26441782, 'runtime_minutes': 109, 'rating': 'PG-13', 'budget': 7000000}, {'movie_title': 'Uncut Gems', 'domestic_total_gross': 50023780, 'runtime_minutes': 135, 'rating': 'R', 'budget': 19000000}, {'movie_title': 'Like a Boss', 'domestic_total_gross': 22169514, 'runtime_minutes': 83, 'rating': 'R', 'budget': 29000000}, {'movie_title': 'The Grudge', 'domestic_total_gross': 21221803, 'runtime_minutes': 94, 'rating': 'R', 'budget': 10000000}, {'movie_title': 'The Photograph', 'domestic_total_gross': 20578185, 'runtime_minutes': 106, 'rating': 'PG-13', 'budget': 16000000}, {'movie_title': 'Underwater', 'domestic_total_gross': 17291078, 'runtime_minutes': 95, 'rating': 'PG-13', 'budget': 0}, {'movie_title': 'The Turning', 'domestic_total_gross': 15472775, 'runtime_minutes': 94, 'rating': 'PG-13', 'budget': 14000000}, {'movie_title': 'Gretel & Hansel', 'domestic_total_gross': 15347654, 'runtime_minutes': 87, 'rating': 'PG-13', 'budget': 0}, {'movie_title': 'My Hero Academia: Heroes Rising', 'domestic_total_gross': 13304000, 'runtime_minutes': 104, 'rating': 'PG-13', 'budget': 0}, {'movie_title': 'Bombshell', 'domestic_total_gross': 31762808, 'runtime_minutes': 109, 'rating': 'R', 'budget': 32000000}, {'movie_title': 'The Way Back', 'domestic_total_gross': 13590514, 'runtime_minutes': 108, 'rating': 'R', 'budget': 0}, {'movie_title': 'Brahms: The Boy II', 'domestic_total_gross': 12611536, 'runtime_minutes': 86, 'rating': 'PG-13', 'budget': 10000000}, {'movie_title': 'Jojo Rabbit', 'domestic_total_gross': 33370906, 'runtime_minutes': 108, 'rating': 'PG-13', 'budget': 14000000}, {'movie_title': 'Impractical Jokers: The Movie', 'domestic_total_gross': 10691091, 'runtime_minutes': 92, 'rating': 'PG-13', 'budget': 3000000}, {'movie_title': 'Ford v Ferrari', 'domestic_total_gross': 117624357, 'runtime_minutes': 152, 'rating': 'PG-13', 'budget': 97600000}, {'movie_title': 'Emma.', 'domestic_total_gross': 10055355, 'runtime_minutes': 124, 'rating': 'PG', 'budget': 10000000}, {'movie_title': 'Bloodshot', 'domestic_total_gross': 10021787, 'runtime_minutes': 109, 'rating': 'PG-13', 'budget': 45000000}, {'movie_title': 'I Still Believe', 'domestic_total_gross': 9868521, 'runtime_minutes': 116, 'rating': 'PG', 'budget': 12000000}, {'movie_title': 'Downhill', 'domestic_total_gross': 8287061, 'runtime_minutes': 86, 'rating': 'R', 'budget': 0}, {'movie_title': 'Weathering with You', 'domestic_total_gross': 7798743, 'runtime_minutes': 112, 'rating': 'PG-13', 'budget': 0}, {'movie_title': 'Cats', 'domestic_total_gross': 27166770, 'runtime_minutes': 110, 'rating': 'PG', 'budget': 95000000}, {'movie_title': 'The Hunt', 'domestic_total_gross': 5812500, 'runtime_minutes': 90, 'rating': 'R', 'budget': 14000000}, {'movie_title': 'The Rhythm Section', 'domestic_total_gross': 5437971, 'runtime_minutes': 109, 'rating': 'R', 'budget': 50000000}, {'movie_title': 'A Beautiful Day in the Neighborhood', 'domestic_total_gross': 61704055, 'runtime_minutes': 109, 'rating': 'PG', 'budget': 25000000}, {'movie_title': 'Richard Jewell', 'domestic_total_gross': 22345542, 'runtime_minutes': 131, 'rating': 'R', 'budget': 45000000}, {'movie_title': 'Portrait of a Lady on Fire', 'domestic_total_gross': 3759854, 'runtime_minutes': 122, 'rating': 'R', 'budget': 0},  {'movie_title': 'Queen & Slim', 'domestic_total_gross': 43808310, 'runtime_minutes': 132, 'rating': 'R', 'budget': 18000000}, {'movie_title': 'Las Pildoras De Mi Novio', 'domestic_total_gross': 2971116, 'runtime_minutes': 100, 'rating': 'R', 'budget': 0}, {'movie_title': 'The Last Full Measure', 'domestic_total_gross': 2949212, 'runtime_minutes': 116, 'rating': 'R', 'budget': 0}, {'movie_title': 'Ip Man 4: The Finale', 'domestic_total_gross': 3956031, 'runtime_minutes': 107, 'rating': None, 'budget': 0}, {'movie_title': 'The Wretched', 'domestic_total_gross': 1698568, 'runtime_minutes': 95, 'rating': None, 'budget': 0}, {'movie_title': 'Joker', 'domestic_total_gross': 335451311, 'runtime_minutes': 122, 'rating': 'R', 'budget': 55000000}, {'movie_title': 'The Lodge', 'domestic_total_gross': 1666564, 'runtime_minutes': 108, 'rating': 'R', 'budget': 0}, {'movie_title': 'Once Upon a Time... in Hollywood', 'domestic_total_gross': 142502728, 'runtime_minutes': 161, 'rating': 'R', 'budget': 90000000}, {'movie_title': 'The Assistant', 'domestic_total_gross': 1100313, 'runtime_minutes': 87, 'rating': 'R', 'budget': 0}, {'movie_title': 'The Song of Names', 'domestic_total_gross': 1077584, 'runtime_minutes': 113, 'rating': 'PG-13', 'budget': 0}, {'movie_title': 'Becky', 'domestic_total_gross': 912058, 'runtime_minutes': 93, 'rating': 'R', 'budget': 0}, {'movie_title': 'Mafia Inc', 'domestic_total_gross': 889863, 'runtime_minutes': 135, 'rating': None, 'budget': 0}, {'movie_title': 'Jay and Silent Bob Reboot', 'domestic_total_gross': 4589490, 'runtime_minutes': 105, 'rating': 'R', 'budget': 0}, {'movie_title': 'A Hidden Life', 'domestic_total_gross': 1730597, 'runtime_minutes': 174, 'rating': 'PG-13', 'budget': 0}, {'movie_title': 'Sarileru Neekevvaru', 'domestic_total_gross': 821000, 'runtime_minutes': 169, 'rating': None, 'budget': 0}, {'movie_title': '21 Bridges', 'domestic_total_gross': 28539757, 'runtime_minutes': 99, 'rating': 'R', 'budget': 33000000}, {'movie_title': 'Baaghi 3', 'domestic_total_gross': 721439, 'runtime_minutes': 143, 'rating': None, 'budget': 0}, {'movie_title': 'Patterns of Evidence: The Red Sea Miracle', 'domestic_total_gross': 696191, 'runtime_minutes': 150, 'rating': None, 'budget': 0}, {'movie_title': 'Pain and Glory', 'domestic_total_gross': 4567338, 'runtime_minutes': 113, 'rating': 'R', 'budget': 0}, {'movie_title': 'Merci pour tout', 'domestic_total_gross': 1073969, 'runtime_minutes': 99, 'rating': None, 'budget': 0}, {'movie_title': 'Maleficent: Mistress of Evil', 'domestic_total_gross': 113929605, 'runtime_minutes': 119, 'rating': 'PG', 'budget': 185000000}, {'movie_title': 'Chhapaak', 'domestic_total_gross': 604334, 'runtime_minutes': None, 'rating': None, 'budget': 0}, {'movie_title': 'Panga', 'domestic_total_gross': 582720, 'runtime_minutes': 131, 'rating': None, 'budget': 0}, {'movie_title': 'Midway', 'domestic_total_gross': 56846802, 'runtime_minutes': 138, 'rating': 'PG-13', 'budget': 100000000}, {'movie_title': 'Black Christmas', 'domestic_total_gross': 10429730, 'runtime_minutes': 92, 'rating': 'PG-13', 'budget': 5000000}, {'movie_title': 'Color Out of Space', 'domestic_total_gross': 765561, 'runtime_minutes': 111, 'rating': None, 'budget': 0}, {'movie_title': 'Harriet', 'domestic_total_gross': 43082155, 'runtime_minutes': 125, 'rating': 'PG-13', 'budget': 17000000}, {'movie_title': 'The Addams Family', 'domestic_total_gross': 100044905, 'runtime_minutes': 86, 'rating': 'PG', 'budget': 24000000}, {'movie_title': 'Dark Waters', 'domestic_total_gross': 11136084, 'runtime_minutes': 126, 'rating': 'PG-13', 'budget': 0}, {'movie_title': 'Once Were Brothers: Robbie Robertson and the Band', 'domestic_total_gross': 449561, 'runtime_minutes': 100, 'rating': 'R', 'budget': 0}, {'movie_title': 'Followed', 'domestic_total_gross': 442265, 'runtime_minutes': 96, 'rating': 'R', 'budget': 0}, {'movie_title': 'Seberg', 'domestic_total_gross': 434702, 'runtime_minutes': 102, 'rating': 'R', 'budget': 0}, {'movie_title': 'Fantastic Fungi', 'domestic_total_gross': 1788322, 'runtime_minutes': 81, 'rating': None, 'budget': 0}, {'movie_title': 'Infamous', 'domestic_total_gross': 429148, 'runtime_minutes': 100, 'rating': None, 'budget': 0}, {'movie_title': 'Greed', 'domestic_total_gross': 355308, 'runtime_minutes': 104, 'rating': 'R', 'budget': 0}, {'movie_title': 'Relic', 'domestic_total_gross': 345396, 'runtime_minutes': 89, 'rating': 'R', 'budget': 0}, {'movie_title': 'Ride Your Wave', 'domestic_total_gross': 332432, 'runtime_minutes': 95, 'rating': None, 'budget': 0}, {'movie_title': 'Les Misérables', 'domestic_total_gross': 330181, 'runtime_minutes': 104, 'rating': 'R', 'budget': 0}, {'movie_title': 'Clemency', 'domestic_total_gross': 364716, 'runtime_minutes': 112, 'rating': 'R', 'budget': 0}, {'movie_title': 'Ordinary Love', 'domestic_total_gross': 323688, 'runtime_minutes': 92, 'rating': 'R', 'budget': 0}, {'movie_title': 'Playing with Fire', 'domestic_total_gross': 44451847, 'runtime_minutes': 96, 'rating': 'PG', 'budget': 29900000}, {'movie_title': 'Judy', 'domestic_total_gross': 24313888, 'runtime_minutes': 118, 'rating': 'PG-13', 'budget': 0}, {'movie_title': 'The Traitor', 'domestic_total_gross': 296027, 'runtime_minutes': 153, 'rating': 'R', 'budget': 0}, {'movie_title': 'Mystify: Michael Hutchence', 'domestic_total_gross': 289573, 'runtime_minutes': 102, 'rating': None, 'budget': 0}, {'movie_title': 'Created Equal: Clarence Thomas in His Own Words', 'domestic_total_gross': 282149, 'runtime_minutes': 116, 'rating': 'PG-13', 'budget': 0}, {'movie_title': 'An American in Paris 2020 Re', 'domestic_total_gross': 267824, 'runtime_minutes': 114, 'rating': None, 'budget': 0}, {'movie_title': '63 Up', 'domestic_total_gross': 483684, 'runtime_minutes': 145, 'rating': None, 'budget': 0}, {'movie_title': 'Tokyo Godfathers 2020 Re', 'domestic_total_gross': 237571, 'runtime_minutes': 93, 'rating': 'PG-13', 'budget': 0}, {'movie_title': 'Blind Eyes Opened', 'domestic_total_gross': 234505, 'runtime_minutes': 115, 'rating': None, 'budget': 0}, {'movie_title': 'Doctor Who Live Q&A And Screening', 'domestic_total_gross': 228615, 'runtime_minutes': 166, 'rating': None, 'budget': 0}, {'movie_title': 'CatVideoFest 2020', 'domestic_total_gross': 437625, 'runtime_minutes': 75, 'rating': None, 'budget': 0}, {'movie_title': 'Ashfall', 'domestic_total_gross': 372562, 'runtime_minutes': 130, 'rating': None, 'budget': 0}, {'movie_title': 'National Theater Live: Cyrano de Bergerac', 'domestic_total_gross': 198352, 'runtime_minutes': 160, 'rating': None, 'budget': 0}, {'movie_title': 'Zombieland: Double Tap', 'domestic_total_gross': 73123082, 'runtime_minutes': 99, 'rating': 'R', 'budget': 42000000}, {'movie_title': 'Cunningham', 'domestic_total_gross': 265102, 'runtime_minutes': 93, 'rating': 'PG', 'budget': 0}, {'movie_title': 'The Doors: Break On Thru', 'domestic_total_gross': 190160, 'runtime_minutes': 67, 'rating': None, 'budget': 0}, {'movie_title': 'The Good Liar', 'domestic_total_gross': 17156058, 'runtime_minutes': 109, 'rating': 'R', 'budget': 10000000}, {'movie_title': 'And Then We Danced', 'domestic_total_gross': 177262, 'runtime_minutes': 113, 'rating': None, 'budget': 0}, {'movie_title': 'Beanpole', 'domestic_total_gross': 196258, 'runtime_minutes': 130, 'rating': None, 'budget': 0}, {'movie_title': 'Extra Ordinary', 'domestic_total_gross': 164346, 'runtime_minutes': 94, 'rating': 'R', 'budget': 0}, {'movie_title': 'Love Story 50th Anniversary', 'domestic_total_gross': 153504, 'runtime_minutes': 100, 'rating': 'PG', 'budget': 0}, {'movie_title': 'Wendy', 'domestic_total_gross': 143518, 'runtime_minutes': 111, 'rating': 'PG-13', 'budget': 6000000}, {'movie_title': 'Incitement', 'domestic_total_gross': 140306, 'runtime_minutes': 123, 'rating': None, 'budget': 0}, {'movie_title': 'Burden', 'domestic_total_gross': 139270, 'runtime_minutes': 117, 'rating': 'R', 'budget': 0}, {'movie_title': 'Beneath Us', 'domestic_total_gross': 137260, 'runtime_minutes': 86, 'rating': 'R', 'budget': 0}, {'movie_title': 'The Times of Bill Cunningham', 'domestic_total_gross': 134288, 'runtime_minutes': 74, 'rating': None, 'budget': 0}, {'movie_title': 'No Safe Spaces', 'domestic_total_gross': 1291514, 'runtime_minutes': 100, 'rating': 'PG-13', 'budget': 0}, {'movie_title': '14 Days, 12 Nights', 'domestic_total_gross': 122530, 'runtime_minutes': 99, 'rating': None, 'budget': 0}, {'movie_title': 'Invisible Life', 'domestic_total_gross': 146535, 'runtime_minutes': 139, 'rating': 'R', 'budget': 0}, {'movie_title': 'The Man Standing Next', 'domestic_total_gross': 113527, 'runtime_minutes': 114, 'rating': None, 'budget': 0}, {'movie_title': 'Corpus Christi', 'domestic_total_gross': 127240, 'runtime_minutes': 115, 'rating': None, 'budget': 0}, {'movie_title': 'Hope Gap', 'domestic_total_gross': 104732, 'runtime_minutes': 100, 'rating': 'PG-13', 'budget': 0}, {'movie_title': 'Citizen K', 'domestic_total_gross': 120411, 'runtime_minutes': 126, 'rating': None, 'budget': 0}, {'movie_title': 'First Cow', 'domestic_total_gross': 101068, 'runtime_minutes': 122, 'rating': 'PG-13', 'budget': 0}, {'movie_title': 'The Woman Who Loves Giraffes', 'domestic_total_gross': 113858, 'runtime_minutes': 123, 'rating': None, 'budget': 0}, {'movie_title': 'Come to Daddy', 'domestic_total_gross': 96713, 'runtime_minutes': 96, 'rating': 'R', 'budget': 0}, {'movie_title': 'The Lighthouse', 'domestic_total_gross': 10867104, 'runtime_minutes': 109, 'rating': 'R', 'budget': 0}, {'movie_title': 'First Lady', 'domestic_total_gross': 93298, 'runtime_minutes': 101, 'rating': 'PG', 'budget': 0}, {'movie_title': 'Honeyland', 'domestic_total_gross': 815082, 'runtime_minutes': 89, 'rating': None, 'budget': 0}, {'movie_title': 'Riverdance 25th Anniversary Show', 'domestic_total_gross': 81879, 'runtime_minutes': None, 'rating': None, 'budget': 0}, {'movie_title': 'StarDog and TurboCat', 'domestic_total_gross': 80317, 'runtime_minutes': 90, 'rating': 'PG', 'budget': 0}, {'movie_title': 'Miss Juneteenth', 'domestic_total_gross': 76468, 'runtime_minutes': 99, 'rating': None, 'budget': 0}, {'movie_title': 'Honey Boy', 'domestic_total_gross': 3012615, 'runtime_minutes': 94, 'rating': 'R', 'budget': 0}, {'movie_title': 'Come and See 2020 Re', 'domestic_total_gross': 71909, 'runtime_minutes': 142, 'rating': None, 'budget': 0}, {'movie_title': 'How to Build a Girl', 'domestic_total_gross': 70632, 'runtime_minutes': 102, 'rating': 'R', 'budget': 0}, {'movie_title': 'Chal Mera Putt 2', 'domestic_total_gross': 445000, 'runtime_minutes': 124, 'rating': None, 'budget': 0}, {'movie_title': 'Waves', 'domestic_total_gross': 1658790, 'runtime_minutes': 135, 'rating': 'R', 'budget': 0}, {'movie_title': 'We Summon the Darkness', 'domestic_total_gross': 60794, 'runtime_minutes': 91, 'rating': 'R', 'budget': 0}, {'movie_title': 'Varda by Agnès', 'domestic_total_gross': 160765, 'runtime_minutes': 115, 'rating': None, 'budget': 0}, {'movie_title': 'The Whistlers', 'domestic_total_gross': 55608, 'runtime_minutes': 97, 'rating': None, 'budget': 0}, {'movie_title': 'A Simple Wedding', 'domestic_total_gross': 54415, 'runtime_minutes': 88, 'rating': None, 'budget': 0}, {'movie_title': 'Miss Fisher and the Crypt of Tears (special screenings)', 'domestic_total_gross': 51032, 'runtime_minutes': 101, 'rating': None, 'budget': 0}, {'movie_title': 'The Wonderland', 'domestic_total_gross': 50876, 'runtime_minutes': 115, 'rating': None, 'budget': 0}, {'movie_title': 'VHYes', 'domestic_total_gross': 47037, 'runtime_minutes': 72, 'rating': None, 'budget': 0}, {'movie_title': \"Charlie's Angels\", 'domestic_total_gross': 17803077, 'runtime_minutes': 118, 'rating': 'PG-13', 'budget': 48000000}, {'movie_title': 'Enter the Fat Dragon', 'domestic_total_gross': 46855, 'runtime_minutes': 96, 'rating': None, 'budget': 0}, {'movie_title': 'Saint Frances', 'domestic_total_gross': 44330, 'runtime_minutes': 106, 'rating': None, 'budget': 0}, {'movie_title': 'The Burnt Orange Heresy', 'domestic_total_gross': 39893, 'runtime_minutes': 99, 'rating': 'R', 'budget': 0}, {'movie_title': 'Doctor Sleep', 'domestic_total_gross': 31581712, 'runtime_minutes': 152, 'rating': 'R', 'budget': 45000000}, {'movie_title': 'The White Sheik 2019 re', 'domestic_total_gross': 50850, 'runtime_minutes': 86, 'rating': None, 'budget': 0}, {'movie_title': 'Abominable', 'domestic_total_gross': 60716390, 'runtime_minutes': 97, 'rating': 'PG', 'budget': 75000000}, {'movie_title': 'Three Christs', 'domestic_total_gross': 36723, 'runtime_minutes': 109, 'rating': 'R', 'budget': 0}, {'movie_title': 'Last Christmas', 'domestic_total_gross': 35150750, 'runtime_minutes': 103, 'rating': 'PG-13', 'budget': 25000000}, {'movie_title': 'True History of the Kelly Gang', 'domestic_total_gross': 33817, 'runtime_minutes': 124, 'rating': 'R', 'budget': 0}, {'movie_title': 'Play the Flute', 'domestic_total_gross': 241251, 'runtime_minutes': 103, 'rating': None, 'budget': 0}, {'movie_title': 'Swallow', 'domestic_total_gross': 33419, 'runtime_minutes': 94, 'rating': 'R', 'budget': 0}, {'movie_title': \"Nick Mason's Saucerful of Secrets: Live at the Roundhouse\", 'domestic_total_gross': 32444, 'runtime_minutes': None, 'rating': None, 'budget': 0}, {'movie_title': 'After Parkland', 'domestic_total_gross': 30444, 'runtime_minutes': 92, 'rating': None, 'budget': 0}, {'movie_title': 'Olympic Dreams', 'domestic_total_gross': 29450, 'runtime_minutes': 85, 'rating': 'PG-13', 'budget': 0}, {'movie_title': 'Buffaloed', 'domestic_total_gross': 29118, 'runtime_minutes': 95, 'rating': None, 'budget': 0}, {'movie_title': 'Bacurau', 'domestic_total_gross': 58115, 'runtime_minutes': 131, 'rating': None, 'budget': 0}, {'movie_title': 'Countdown', 'domestic_total_gross': 25621766, 'runtime_minutes': 90, 'rating': 'PG-13', 'budget': 6500000}, {'movie_title': 'Cane River 2020 Re', 'domestic_total_gross': 27317, 'runtime_minutes': 104, 'rating': None, 'budget': 0}, {'movie_title': 'Midnight Family', 'domestic_total_gross': 42310, 'runtime_minutes': 81, 'rating': None, 'budget': 0}, {'movie_title': 'José', 'domestic_total_gross': 26563, 'runtime_minutes': 85, 'rating': None, 'budget': 0}, {'movie_title': 'Synonyms', 'domestic_total_gross': 206003, 'runtime_minutes': 123, 'rating': None, 'budget': 0}, {'movie_title': 'The Booksellers', 'domestic_total_gross': 25694, 'runtime_minutes': 99, 'rating': None, 'budget': 0}, {'movie_title': 'Promare', 'domestic_total_gross': 2313596, 'runtime_minutes': 111, 'rating': 'PG-13', 'budget': 0}, {'movie_title': 'Unsubscribe', 'domestic_total_gross': 25488, 'runtime_minutes': None, 'rating': None, 'budget': 0}, {'movie_title': 'Disappearance at Clifton Hill', 'domestic_total_gross': 25084, 'runtime_minutes': 100, 'rating': None, 'budget': 0}, {'movie_title': 'Zombi Child', 'domestic_total_gross': 25878, 'runtime_minutes': 103, 'rating': None, 'budget': 0}, {'movie_title': 'Heart of Africa', 'domestic_total_gross': 24139, 'runtime_minutes': 90, 'rating': None, 'budget': 0}, {'movie_title': 'Born to Be Wild', 'domestic_total_gross': 25978556, 'runtime_minutes': None, 'rating': None, 'budget': 0}, {'movie_title': 'Tread', 'domestic_total_gross': 36527, 'runtime_minutes': 89, 'rating': None, 'budget': 0}, {'movie_title': \"Branagh Theatre Live: The Winter's Tale\", 'domestic_total_gross': 141143, 'runtime_minutes': None, 'rating': None, 'budget': 0}, {'movie_title': 'Phoenix, Oregon Re', 'domestic_total_gross': 23613, 'runtime_minutes': 108, 'rating': 'R', 'budget': 0}, {'movie_title': 'Premature', 'domestic_total_gross': 23071, 'runtime_minutes': 90, 'rating': None, 'budget': 0}, {'movie_title': \"L'Innocente 2020 Re\", 'domestic_total_gross': 22549, 'runtime_minutes': 129, 'rating': None, 'budget': 0}, {'movie_title': 'Recorder: The Marion Stokes Project', 'domestic_total_gross': 55632, 'runtime_minutes': 87, 'rating': None, 'budget': 0}, {'movie_title': 'Les Misérables: The Staged Concert', 'domestic_total_gross': 459478, 'runtime_minutes': 145, 'rating': None, 'budget': 0}, {'movie_title': 'The Cordillera of Dreams', 'domestic_total_gross': 20943, 'runtime_minutes': 84, 'rating': None, 'budget': 0}, {'movie_title': 'Lore', 'domestic_total_gross': 20006, 'runtime_minutes': 109, 'rating': None, 'budget': 0}, {'movie_title': 'Max Winslow and the House of Secrets', 'domestic_total_gross': 18750, 'runtime_minutes': 98, 'rating': None, 'budget': 0}, {'movie_title': 'The Jesus Rolls', 'domestic_total_gross': 18169, 'runtime_minutes': 85, 'rating': 'R', 'budget': 0}, {'movie_title': 'Sorry We Missed You', 'domestic_total_gross': 28273, 'runtime_minutes': 101, 'rating': None, 'budget': 0}, {'movie_title': 'Downtown 81 2019 Re', 'domestic_total_gross': 122390, 'runtime_minutes': 72, 'rating': None, 'budget': 0}, {'movie_title': 'Pandora and the Flying Dutchman 2020 Re', 'domestic_total_gross': 17401, 'runtime_minutes': 122, 'rating': None, 'budget': 0}, {'movie_title': 'Made in Hong Kong 2020 Re', 'domestic_total_gross': 17255, 'runtime_minutes': 109, 'rating': None, 'budget': 0}, {'movie_title': 'Never Rarely Sometimes Always', 'domestic_total_gross': 16565, 'runtime_minutes': 101, 'rating': 'PG-13', 'budget': 0}, {'movie_title': 'Advocate', 'domestic_total_gross': 16942, 'runtime_minutes': 114, 'rating': None, 'budget': 0}, {'movie_title': 'A Beautiful Planet', 'domestic_total_gross': 15650615, 'runtime_minutes': None, 'rating': None, 'budget': 0}, {'movie_title': 'I Was at Home, But', 'domestic_total_gross': 14078, 'runtime_minutes': 105, 'rating': None, 'budget': 0}, {'movie_title': 'Strike', 'domestic_total_gross': 15758, 'runtime_minutes': 100, 'rating': None, 'budget': 0}, {'movie_title': 'The Cave', 'domestic_total_gross': 62625, 'runtime_minutes': 107, 'rating': 'PG-13', 'budget': 0}, {'movie_title': 'The Kingmaker', 'domestic_total_gross': 122587, 'runtime_minutes': 101, 'rating': 'R', 'budget': 0}, {'movie_title': 'Redoubt', 'domestic_total_gross': 33155, 'runtime_minutes': 134, 'rating': None, 'budget': 0}, {'movie_title': 'Young Ahmed Domestic', 'domestic_total_gross': 21291, 'runtime_minutes': 90, 'rating': None, 'budget': 0}, {'movie_title': 'Linda Ronstadt: The Sound of My Voice', 'domestic_total_gross': 4252657, 'runtime_minutes': 95, 'rating': 'PG-13', 'budget': 0}, {'movie_title': 'Straight Up', 'domestic_total_gross': 16080, 'runtime_minutes': 95, 'rating': None, 'budget': 0}, {'movie_title': 'Ballon', 'domestic_total_gross': 34222, 'runtime_minutes': 125, 'rating': None, 'budget': 0}, {'movie_title': 'The Wild Goose Lake', 'domestic_total_gross': 12573, 'runtime_minutes': 113, 'rating': None, 'budget': 0}, {'movie_title': 'You Go to My Head', 'domestic_total_gross': 10682, 'runtime_minutes': 116, 'rating': None, 'budget': 0}, {'movie_title': 'Playmobil: The Movie', 'domestic_total_gross': 1115008, 'runtime_minutes': 99, 'rating': 'PG', 'budget': 0}, {'movie_title': 'Vitalina Varela', 'domestic_total_gross': 14941, 'runtime_minutes': 124, 'rating': None, 'budget': 0}, {'movie_title': 'Foosballers', 'domestic_total_gross': 9966, 'runtime_minutes': 96, 'rating': None, 'budget': 0}, {'movie_title': 'The Perfect Race', 'domestic_total_gross': 29644, 'runtime_minutes': None, 'rating': None, 'budget': 0}, {'movie_title': 'Under the Sea 3D', 'domestic_total_gross': 36262926, 'runtime_minutes': None, 'rating': None, 'budget': 0}, {'movie_title': 'Kind Hearts and Coronets 2019 Re', 'domestic_total_gross': 35948, 'runtime_minutes': 106, 'rating': None, 'budget': 0}, {'movie_title': 'The Trip to Greece', 'domestic_total_gross': 8340, 'runtime_minutes': 103, 'rating': None, 'budget': 0}, {'movie_title': 'Inside the Rain', 'domestic_total_gross': 8140, 'runtime_minutes': 90, 'rating': None, 'budget': 0}, {'movie_title': 'The Wave', 'domestic_total_gross': 8101, 'runtime_minutes': 90, 'rating': 'R', 'budget': 0}, {'movie_title': 'Black and Blue', 'domestic_total_gross': 22055313, 'runtime_minutes': 108, 'rating': 'R', 'budget': 12000000}, {'movie_title': 'American Dharma', 'domestic_total_gross': 51891, 'runtime_minutes': 95, 'rating': 'R', 'budget': 0}, {'movie_title': 'Resistance', 'domestic_total_gross': 7464, 'runtime_minutes': None, 'rating': 'R', 'budget': 0}, {'movie_title': 'Circles', 'domestic_total_gross': 10260, 'runtime_minutes': 82, 'rating': None, 'budget': 0}, {'movie_title': 'Afterward', 'domestic_total_gross': 6477, 'runtime_minutes': 95, 'rating': None, 'budget': 0}, {'movie_title': 'Juvenile Delinquents', 'domestic_total_gross': 6312, 'runtime_minutes': None, 'rating': 'R', 'budget': 0}, {'movie_title': 'By the Grace of God', 'domestic_total_gross': 67059, 'runtime_minutes': 137, 'rating': None, 'budget': 0}, {'movie_title': 'Hubble 3D', 'domestic_total_gross': 52522904, 'runtime_minutes': None, 'rating': None, 'budget': 0}, {'movie_title': 'The Other Lamb', 'domestic_total_gross': 6024, 'runtime_minutes': 97, 'rating': None, 'budget': 0}, {'movie_title': 'Human Nature', 'domestic_total_gross': 5487, 'runtime_minutes': 95, 'rating': None, 'budget': 0}, {'movie_title': 'Matthias & Maxime', 'domestic_total_gross': 374739, 'runtime_minutes': 119, 'rating': None, 'budget': 0}, {'movie_title': 'Que Leones', 'domestic_total_gross': 822828, 'runtime_minutes': 96, 'rating': None, 'budget': 0}, {'movie_title': 'The Disappearance of My Mother', 'domestic_total_gross': 24951, 'runtime_minutes': 94, 'rating': None, 'budget': 0}, {'movie_title': 'Sympathy for the Devil', 'domestic_total_gross': 51150, 'runtime_minutes': 100, 'rating': None, 'budget': 0}, {'movie_title': 'Tremors', 'domestic_total_gross': 23911, 'runtime_minutes': 107, 'rating': None, 'budget': 0}, {'movie_title': 'Blood Widow', 'domestic_total_gross': 6047, 'runtime_minutes': 94, 'rating': None, 'budget': 0}, {'movie_title': 'Just One More Kiss', 'domestic_total_gross': 9130, 'runtime_minutes': 100, 'rating': None, 'budget': 0}, {'movie_title': 'Give Me Liberty', 'domestic_total_gross': 242734, 'runtime_minutes': 110, 'rating': None, 'budget': 0}, {'movie_title': 'Babyteeth', 'domestic_total_gross': 4507, 'runtime_minutes': 118, 'rating': None, 'budget': 0}, {'movie_title': 'Deep Sea', 'domestic_total_gross': 46412757, 'runtime_minutes': None, 'rating': 'G', 'budget': 0}, {'movie_title': 'Lost in America', 'domestic_total_gross': 11301, 'runtime_minutes': 105, 'rating': None, 'budget': 0}, {'movie_title': 'Stuffed', 'domestic_total_gross': 15532, 'runtime_minutes': 84, 'rating': None, 'budget': 0}, {'movie_title': 'Maiden', 'domestic_total_gross': 3168978, 'runtime_minutes': 97, 'rating': 'PG', 'budget': 0}, {'movie_title': 'Aquarela', 'domestic_total_gross': 307346, 'runtime_minutes': 90, 'rating': 'PG', 'budget': 0}, {'movie_title': 'A Bigger Splash 2019 Re', 'domestic_total_gross': 95826, 'runtime_minutes': 106, 'rating': None, 'budget': 0}, {'movie_title': 'The Roads Not Taken', 'domestic_total_gross': 3518, 'runtime_minutes': 85, 'rating': 'R', 'budget': 0}, {'movie_title': 'Mr. Klein Re', 'domestic_total_gross': 193028, 'runtime_minutes': 123, 'rating': None, 'budget': 0}, {'movie_title': 'Ága', 'domestic_total_gross': 35178, 'runtime_minutes': 96, 'rating': None, 'budget': 0}, {'movie_title': 'The Hottest August', 'domestic_total_gross': 9163, 'runtime_minutes': 94, 'rating': None, 'budget': 0}, {'movie_title': 'Killing Sarai', 'domestic_total_gross': 425332, 'runtime_minutes': 106, 'rating': 'R', 'budget': 0}, {'movie_title': 'Chinese Portrait', 'domestic_total_gross': 4140, 'runtime_minutes': 79, 'rating': None, 'budget': 0}, {'movie_title': 'Hustlers', 'domestic_total_gross': 104963598, 'runtime_minutes': 110, 'rating': 'R', 'budget': 20000000}, {'movie_title': 'The Truth', 'domestic_total_gross': 2777, 'runtime_minutes': 106, 'rating': 'PG', 'budget': 0}, {'movie_title': 'Sex and the Future', 'domestic_total_gross': 3502, 'runtime_minutes': 90, 'rating': None, 'budget': 0}, {'movie_title': 'Powerbomb', 'domestic_total_gross': 11319, 'runtime_minutes': 79, 'rating': None, 'budget': 0}, {'movie_title': 'Light from Light', 'domestic_total_gross': 24808, 'runtime_minutes': 82, 'rating': None, 'budget': 0}, {'movie_title': 'Moondance', 'domestic_total_gross': 2371, 'runtime_minutes': 97, 'rating': None, 'budget': 0}, {'movie_title': 'Goldie', 'domestic_total_gross': 2302, 'runtime_minutes': 88, 'rating': None, 'budget': 0}, {'movie_title': 'Duet for Cannibals 2019 re', 'domestic_total_gross': 12962, 'runtime_minutes': 105, 'rating': None, 'budget': 0}, {'movie_title': 'Little Joe', 'domestic_total_gross': 23862, 'runtime_minutes': 105, 'rating': None, 'budget': 0}, {'movie_title': 'Frankie', 'domestic_total_gross': 171781, 'runtime_minutes': 100, 'rating': 'PG-13', 'budget': 0}, {'movie_title': 'Christ Stopped at Eboli', 'domestic_total_gross': 78736, 'runtime_minutes': 150, 'rating': None, 'budget': 0}, {'movie_title': 'To the Arctic 3D', 'domestic_total_gross': 14560838, 'runtime_minutes': None, 'rating': 'G', 'budget': 0}, {'movie_title': 'Be Natural: The Untold Story of Alice Guy', 'domestic_total_gross': 115685, 'runtime_minutes': 103, 'rating': None, 'budget': 0}, {'movie_title': 'Edie', 'domestic_total_gross': 71790, 'runtime_minutes': 102, 'rating': None, 'budget': 0}, {'movie_title': 'End of the Century', 'domestic_total_gross': 66309, 'runtime_minutes': 84, 'rating': None, 'budget': 0}, {'movie_title': 'Space Station 3D', 'domestic_total_gross': 93383953, 'runtime_minutes': None, 'rating': None, 'budget': 0}, {'movie_title': 'Hai Tang Hong', 'domestic_total_gross': 1107, 'runtime_minutes': 90, 'rating': None, 'budget': 0}, {'movie_title': 'The Gliksmans', 'domestic_total_gross': 5166, 'runtime_minutes': 72, 'rating': None, 'budget': 0}, {'movie_title': \"King's Gambit\", 'domestic_total_gross': 3816, 'runtime_minutes': 105, 'rating': None, 'budget': 0}, {'movie_title': 'The Fox Hunter', 'domestic_total_gross': 1051, 'runtime_minutes': None, 'rating': None, 'budget': 0}, {'movie_title': 'Millennium Actress 2019 Re', 'domestic_total_gross': 225250, 'runtime_minutes': 87, 'rating': 'PG', 'budget': 0}, {'movie_title': 'The Transcendents', 'domestic_total_gross': 564, 'runtime_minutes': 96, 'rating': None, 'budget': 0}, {'movie_title': 'Spiral Farm', 'domestic_total_gross': 6517, 'runtime_minutes': 85, 'rating': None, 'budget': 0}, {'movie_title': 'A German Youth', 'domestic_total_gross': 2343, 'runtime_minutes': 93, 'rating': None, 'budget': 0}, {'movie_title': 'Hyenas', 'domestic_total_gross': 24672, 'runtime_minutes': 110, 'rating': None, 'budget': 0}, {'movie_title': 'Island of Lemurs: Madagascar', 'domestic_total_gross': 11272213, 'runtime_minutes': None, 'rating': None, 'budget': 0}, {'movie_title': 'I Do Not Care If We Go Down in History as Barbarians', 'domestic_total_gross': 11307, 'runtime_minutes': 140, 'rating': None, 'budget': 0}, {'movie_title': 'The Load', 'domestic_total_gross': 28410, 'runtime_minutes': 98, 'rating': None, 'budget': 0}, {'movie_title': 'Asako I & II', 'domestic_total_gross': 25559, 'runtime_minutes': 119, 'rating': None, 'budget': 0}, {'movie_title': 'Chained for Life', 'domestic_total_gross': 17431, 'runtime_minutes': 91, 'rating': None, 'budget': 0}, {'movie_title': 'Shooting the Mafia', 'domestic_total_gross': 10881, 'runtime_minutes': 94, 'rating': None, 'budget': 0}]\n"
   ]
  },
  {
   "cell_type": "markdown",
   "metadata": {},
   "source": [
    "### Metacritic Scores Search"
   ]
  },
  {
   "cell_type": "code",
   "execution_count": 59,
   "metadata": {
    "scrolled": false
   },
   "outputs": [
    {
     "data": {
      "text/plain": [
       "['The Last Full Measure', 'Ip Man 4: The Finale', 'The Wretched', 'Joker']"
      ]
     },
     "execution_count": 59,
     "metadata": {},
     "output_type": "execute_result"
    }
   ],
   "source": [
    "movie_titles = []\n",
    "\n",
    "for key in movie_dicts:\n",
    "    movie_titles.append(key['movie_title'])\n",
    "    \n",
    "movie_titles[46:50]"
   ]
  },
  {
   "cell_type": "code",
   "execution_count": null,
   "metadata": {},
   "outputs": [],
   "source": [
    "df1 = pd.from_dict(movie_dicts)\n",
    "df1"
   ]
  },
  {
   "cell_type": "code",
   "execution_count": 62,
   "metadata": {},
   "outputs": [
    {
     "name": "stdout",
     "output_type": "stream",
     "text": [
      "['59'] ['6.7'] [46] [228]\n",
      "['59', '78'] ['6.7', '8.4'] [46, 57] [228, 721]\n",
      "['59', '78', '47'] ['6.7', '8.4', '8.3'] [46, 57, 42] [228, 721, 1096]\n",
      "['59', '78', '47', '58'] ['6.7', '8.4', '8.3', '6.4'] [46, 57, 42, 37] [228, 721, 1096, 262]\n"
     ]
    },
    {
     "ename": "NoSuchElementException",
     "evalue": "Message: no such element: Unable to locate element: {\"method\":\"xpath\",\"selector\":\"//*[@id=\"main_content\"]/div[1]/div[2]/div/div[2]/a/span[1]\"}\n  (Session info: chrome=83.0.4103.116)\n",
     "output_type": "error",
     "traceback": [
      "\u001b[0;31m---------------------------------------------------------------------------\u001b[0m",
      "\u001b[0;31mNoSuchElementException\u001b[0m                    Traceback (most recent call last)",
      "\u001b[0;32m<ipython-input-62-331e54f84544>\u001b[0m in \u001b[0;36m<module>\u001b[0;34m\u001b[0m\n\u001b[1;32m     17\u001b[0m     \u001b[0msearch_box\u001b[0m\u001b[0;34m.\u001b[0m\u001b[0msend_keys\u001b[0m\u001b[0;34m(\u001b[0m\u001b[0mKeys\u001b[0m\u001b[0;34m.\u001b[0m\u001b[0mRETURN\u001b[0m\u001b[0;34m)\u001b[0m\u001b[0;34m\u001b[0m\u001b[0;34m\u001b[0m\u001b[0m\n\u001b[1;32m     18\u001b[0m     \u001b[0mtime\u001b[0m\u001b[0;34m.\u001b[0m\u001b[0msleep\u001b[0m\u001b[0;34m(\u001b[0m\u001b[0;34m(\u001b[0m\u001b[0;36m3.1\u001b[0m\u001b[0;34m+\u001b[0m\u001b[0;36m2\u001b[0m\u001b[0;34m*\u001b[0m\u001b[0mrandom\u001b[0m\u001b[0;34m.\u001b[0m\u001b[0mrandom\u001b[0m\u001b[0;34m(\u001b[0m\u001b[0;34m)\u001b[0m\u001b[0;34m)\u001b[0m\u001b[0;34m)\u001b[0m\u001b[0;34m\u001b[0m\u001b[0;34m\u001b[0m\u001b[0m\n\u001b[0;32m---> 19\u001b[0;31m     \u001b[0mselect_movies\u001b[0m \u001b[0;34m=\u001b[0m \u001b[0mdriver\u001b[0m\u001b[0;34m.\u001b[0m\u001b[0mfind_element_by_xpath\u001b[0m\u001b[0;34m(\u001b[0m\u001b[0;34m'//*[@id=\"main_content\"]/div[1]/div[2]/div/div[2]/a/span[1]'\u001b[0m\u001b[0;34m)\u001b[0m\u001b[0;34m.\u001b[0m\u001b[0mclick\u001b[0m\u001b[0;34m(\u001b[0m\u001b[0;34m)\u001b[0m\u001b[0;34m\u001b[0m\u001b[0;34m\u001b[0m\u001b[0m\n\u001b[0m\u001b[1;32m     20\u001b[0m     \u001b[0mtime\u001b[0m\u001b[0;34m.\u001b[0m\u001b[0msleep\u001b[0m\u001b[0;34m(\u001b[0m\u001b[0;34m(\u001b[0m\u001b[0;36m3.4\u001b[0m\u001b[0;34m+\u001b[0m\u001b[0;36m2\u001b[0m\u001b[0;34m*\u001b[0m\u001b[0mrandom\u001b[0m\u001b[0;34m.\u001b[0m\u001b[0mrandom\u001b[0m\u001b[0;34m(\u001b[0m\u001b[0;34m)\u001b[0m\u001b[0;34m)\u001b[0m\u001b[0;34m)\u001b[0m\u001b[0;34m\u001b[0m\u001b[0;34m\u001b[0m\u001b[0m\n\u001b[1;32m     21\u001b[0m     \u001b[0;32mtry\u001b[0m\u001b[0;34m:\u001b[0m\u001b[0;34m\u001b[0m\u001b[0;34m\u001b[0m\u001b[0m\n",
      "\u001b[0;32m~/anaconda3/lib/python3.7/site-packages/selenium/webdriver/remote/webdriver.py\u001b[0m in \u001b[0;36mfind_element_by_xpath\u001b[0;34m(self, xpath)\u001b[0m\n\u001b[1;32m    392\u001b[0m             \u001b[0melement\u001b[0m \u001b[0;34m=\u001b[0m \u001b[0mdriver\u001b[0m\u001b[0;34m.\u001b[0m\u001b[0mfind_element_by_xpath\u001b[0m\u001b[0;34m(\u001b[0m\u001b[0;34m'//div/td[1]'\u001b[0m\u001b[0;34m)\u001b[0m\u001b[0;34m\u001b[0m\u001b[0;34m\u001b[0m\u001b[0m\n\u001b[1;32m    393\u001b[0m         \"\"\"\n\u001b[0;32m--> 394\u001b[0;31m         \u001b[0;32mreturn\u001b[0m \u001b[0mself\u001b[0m\u001b[0;34m.\u001b[0m\u001b[0mfind_element\u001b[0m\u001b[0;34m(\u001b[0m\u001b[0mby\u001b[0m\u001b[0;34m=\u001b[0m\u001b[0mBy\u001b[0m\u001b[0;34m.\u001b[0m\u001b[0mXPATH\u001b[0m\u001b[0;34m,\u001b[0m \u001b[0mvalue\u001b[0m\u001b[0;34m=\u001b[0m\u001b[0mxpath\u001b[0m\u001b[0;34m)\u001b[0m\u001b[0;34m\u001b[0m\u001b[0;34m\u001b[0m\u001b[0m\n\u001b[0m\u001b[1;32m    395\u001b[0m \u001b[0;34m\u001b[0m\u001b[0m\n\u001b[1;32m    396\u001b[0m     \u001b[0;32mdef\u001b[0m \u001b[0mfind_elements_by_xpath\u001b[0m\u001b[0;34m(\u001b[0m\u001b[0mself\u001b[0m\u001b[0;34m,\u001b[0m \u001b[0mxpath\u001b[0m\u001b[0;34m)\u001b[0m\u001b[0;34m:\u001b[0m\u001b[0;34m\u001b[0m\u001b[0;34m\u001b[0m\u001b[0m\n",
      "\u001b[0;32m~/anaconda3/lib/python3.7/site-packages/selenium/webdriver/remote/webdriver.py\u001b[0m in \u001b[0;36mfind_element\u001b[0;34m(self, by, value)\u001b[0m\n\u001b[1;32m    976\u001b[0m         return self.execute(Command.FIND_ELEMENT, {\n\u001b[1;32m    977\u001b[0m             \u001b[0;34m'using'\u001b[0m\u001b[0;34m:\u001b[0m \u001b[0mby\u001b[0m\u001b[0;34m,\u001b[0m\u001b[0;34m\u001b[0m\u001b[0;34m\u001b[0m\u001b[0m\n\u001b[0;32m--> 978\u001b[0;31m             'value': value})['value']\n\u001b[0m\u001b[1;32m    979\u001b[0m \u001b[0;34m\u001b[0m\u001b[0m\n\u001b[1;32m    980\u001b[0m     \u001b[0;32mdef\u001b[0m \u001b[0mfind_elements\u001b[0m\u001b[0;34m(\u001b[0m\u001b[0mself\u001b[0m\u001b[0;34m,\u001b[0m \u001b[0mby\u001b[0m\u001b[0;34m=\u001b[0m\u001b[0mBy\u001b[0m\u001b[0;34m.\u001b[0m\u001b[0mID\u001b[0m\u001b[0;34m,\u001b[0m \u001b[0mvalue\u001b[0m\u001b[0;34m=\u001b[0m\u001b[0;32mNone\u001b[0m\u001b[0;34m)\u001b[0m\u001b[0;34m:\u001b[0m\u001b[0;34m\u001b[0m\u001b[0;34m\u001b[0m\u001b[0m\n",
      "\u001b[0;32m~/anaconda3/lib/python3.7/site-packages/selenium/webdriver/remote/webdriver.py\u001b[0m in \u001b[0;36mexecute\u001b[0;34m(self, driver_command, params)\u001b[0m\n\u001b[1;32m    319\u001b[0m         \u001b[0mresponse\u001b[0m \u001b[0;34m=\u001b[0m \u001b[0mself\u001b[0m\u001b[0;34m.\u001b[0m\u001b[0mcommand_executor\u001b[0m\u001b[0;34m.\u001b[0m\u001b[0mexecute\u001b[0m\u001b[0;34m(\u001b[0m\u001b[0mdriver_command\u001b[0m\u001b[0;34m,\u001b[0m \u001b[0mparams\u001b[0m\u001b[0;34m)\u001b[0m\u001b[0;34m\u001b[0m\u001b[0;34m\u001b[0m\u001b[0m\n\u001b[1;32m    320\u001b[0m         \u001b[0;32mif\u001b[0m \u001b[0mresponse\u001b[0m\u001b[0;34m:\u001b[0m\u001b[0;34m\u001b[0m\u001b[0;34m\u001b[0m\u001b[0m\n\u001b[0;32m--> 321\u001b[0;31m             \u001b[0mself\u001b[0m\u001b[0;34m.\u001b[0m\u001b[0merror_handler\u001b[0m\u001b[0;34m.\u001b[0m\u001b[0mcheck_response\u001b[0m\u001b[0;34m(\u001b[0m\u001b[0mresponse\u001b[0m\u001b[0;34m)\u001b[0m\u001b[0;34m\u001b[0m\u001b[0;34m\u001b[0m\u001b[0m\n\u001b[0m\u001b[1;32m    322\u001b[0m             response['value'] = self._unwrap_value(\n\u001b[1;32m    323\u001b[0m                 response.get('value', None))\n",
      "\u001b[0;32m~/anaconda3/lib/python3.7/site-packages/selenium/webdriver/remote/errorhandler.py\u001b[0m in \u001b[0;36mcheck_response\u001b[0;34m(self, response)\u001b[0m\n\u001b[1;32m    240\u001b[0m                 \u001b[0malert_text\u001b[0m \u001b[0;34m=\u001b[0m \u001b[0mvalue\u001b[0m\u001b[0;34m[\u001b[0m\u001b[0;34m'alert'\u001b[0m\u001b[0;34m]\u001b[0m\u001b[0;34m.\u001b[0m\u001b[0mget\u001b[0m\u001b[0;34m(\u001b[0m\u001b[0;34m'text'\u001b[0m\u001b[0;34m)\u001b[0m\u001b[0;34m\u001b[0m\u001b[0;34m\u001b[0m\u001b[0m\n\u001b[1;32m    241\u001b[0m             \u001b[0;32mraise\u001b[0m \u001b[0mexception_class\u001b[0m\u001b[0;34m(\u001b[0m\u001b[0mmessage\u001b[0m\u001b[0;34m,\u001b[0m \u001b[0mscreen\u001b[0m\u001b[0;34m,\u001b[0m \u001b[0mstacktrace\u001b[0m\u001b[0;34m,\u001b[0m \u001b[0malert_text\u001b[0m\u001b[0;34m)\u001b[0m\u001b[0;34m\u001b[0m\u001b[0;34m\u001b[0m\u001b[0m\n\u001b[0;32m--> 242\u001b[0;31m         \u001b[0;32mraise\u001b[0m \u001b[0mexception_class\u001b[0m\u001b[0;34m(\u001b[0m\u001b[0mmessage\u001b[0m\u001b[0;34m,\u001b[0m \u001b[0mscreen\u001b[0m\u001b[0;34m,\u001b[0m \u001b[0mstacktrace\u001b[0m\u001b[0;34m)\u001b[0m\u001b[0;34m\u001b[0m\u001b[0;34m\u001b[0m\u001b[0m\n\u001b[0m\u001b[1;32m    243\u001b[0m \u001b[0;34m\u001b[0m\u001b[0m\n\u001b[1;32m    244\u001b[0m     \u001b[0;32mdef\u001b[0m \u001b[0m_value_or_default\u001b[0m\u001b[0;34m(\u001b[0m\u001b[0mself\u001b[0m\u001b[0;34m,\u001b[0m \u001b[0mobj\u001b[0m\u001b[0;34m,\u001b[0m \u001b[0mkey\u001b[0m\u001b[0;34m,\u001b[0m \u001b[0mdefault\u001b[0m\u001b[0;34m)\u001b[0m\u001b[0;34m:\u001b[0m\u001b[0;34m\u001b[0m\u001b[0;34m\u001b[0m\u001b[0m\n",
      "\u001b[0;31mNoSuchElementException\u001b[0m: Message: no such element: Unable to locate element: {\"method\":\"xpath\",\"selector\":\"//*[@id=\"main_content\"]/div[1]/div[2]/div/div[2]/a/span[1]\"}\n  (Session info: chrome=83.0.4103.116)\n"
     ]
    }
   ],
   "source": [
    "url = 'https://www.metacritic.com/'\n",
    "\n",
    "metascores = []\n",
    "audience_scores = []\n",
    "\n",
    "num_critics = []\n",
    "num_audience_ratings = []\n",
    "\n",
    "for title in movie_titles:\n",
    "    driver = webdriver.Chrome(chromedriver)\n",
    "    driver.get(url)\n",
    "    time.sleep((3.3+2*random.random()))\n",
    "    search_box = driver.find_element_by_xpath('//*[@id=\"primary_search_box\"]')\n",
    "    search_box.clear()\n",
    "    search_box.send_keys(title)\n",
    "    time.sleep((3.2+2*random.random()))\n",
    "    search_box.send_keys(Keys.RETURN)\n",
    "    time.sleep((3.1+2*random.random()))\n",
    "    try:\n",
    "        select_movies = driver.find_element_by_xpath('//*[@id=\"main_content\"]/div[1]/div[2]/div/div[2]/a/span[1]').click()\n",
    "        time.sleep((3.4+2*random.random()))\n",
    "    except:\n",
    "        print('no movies button to click')\n",
    "        pass\n",
    "    try:\n",
    "        driver.find_element_by_xpath('//*[@id=\"main_content\"]/div[1]/div[3]/div[1]/ul/li[1]/div/div[2]/div/h3/a').click()\n",
    "        time.sleep((3.1+2*random.random()))\n",
    "        metascore = driver.find_element_by_xpath('//*[@id=\"main_content\"]/div[1]/div[1]/div/table/tbody/tr/td[2]/div/table/tbody/tr/td[1]/div/div/div[2]/table/tbody/tr/td[2]/a/span').text\n",
    "        metascores.append(int(metascore))\n",
    "        time.sleep((3.4+2*random.random()))\n",
    "        audience_score = driver.find_element_by_xpath('//*[@id=\"main_content\"]/div[1]/div[1]/div/table/tbody/tr/td[2]/div/table/tbody/tr/td[1]/div/div/div[3]/div/table/tbody/tr/td[2]/a/span').text\n",
    "        audience_scores.append(float(audience_score))\n",
    "        time.sleep((3.1+2*random.random()))\n",
    "        critic_string = driver.find_element_by_xpath('//*[@id=\"main_content\"]/div[1]/div[1]/div/table/tbody/tr/td[2]/div/table/tbody/tr/td[1]/div/div/div[2]/table/tbody/tr/td[1]/div[2]/span/a/span[2]').text\n",
    "        critic_count = int(''.join(filter(str.isdigit, critic_string)))\n",
    "        num_critics.append(critic_count)\n",
    "        time.sleep((3.35+2*random.random()))\n",
    "        audience_count_string = driver.find_element_by_xpath('//*[@id=\"main_content\"]/div[1]/div[1]/div/table/tbody/tr/td[2]/div/table/tbody/tr/td[1]/div/div/div[3]/div/table/tbody/tr/td[1]/div[2]/span/a/span[2]').text\n",
    "        audience_count = int(''.join(filter(str.isdigit, audience_count_string)))\n",
    "        num_audience_ratings.append(audience_count)\n",
    "    except NoSuchElementException:\n",
    "        print('thrown out of first loop - NoSuchElementException')\n",
    "        try: \n",
    "            metascore = driver.find_element_by_xpath('//*[@id=\"main_content\"]/div[1]/div[3]/div/div[1]/table/tbody/tr[2]/td[1]/table/tbody/tr/td[1]/a/span').text\n",
    "            metascores.append(int(metascore))\n",
    "            time.sleep((3.14+2*random.random()))\n",
    "            audience_score = driver.find_element_by_xpath('//*[@id=\"main_content\"]/div[1]/div[3]/div/div[1]/table/tbody/tr[2]/td[2]/table/tbody/tr/td[1]/a/span').text\n",
    "            audience_scores.append(float(audience_score))\n",
    "            time.sleep((3.15+2*random.random()))\n",
    "            critic_string = driver.find_element_by_xpath('//*[@id=\"main_content\"]/div[1]/div[3]/div/div[1]/table/tbody/tr[2]/td[1]/table/tbody/tr/td[2]/div[2]/span/a/span[2]').text\n",
    "            critic_count = int(''.join(filter(str.isdigit, critic_string)))\n",
    "            num_critics.append(critic_count)\n",
    "            time.sleep((3.51+2*random.random()))\n",
    "            audience_count_string = driver.find_element_by_xpath('//*[@id=\"main_content\"]/div[1]/div[3]/div/div[1]/table/tbody/tr[2]/td[2]/table/tbody/tr/td[2]/div[2]/span/a/span[2]').text\n",
    "            audience_count = int(''.join(filter(str.isdigit, audience_count_string)))\n",
    "            num_audience_ratings.append(audience_count)\n",
    "            print(metascores, audience_scores, num_critics, num_audience_ratings)\n",
    "        except NoSuchElementException: \n",
    "            print('NoSuchElementException on second loop')\n",
    "            try:\n",
    "                response = requests.get(driver.current_url)\n",
    "                page = response.text\n",
    "                soup = BeautifulSoup(page, 'lxml')\n",
    "                table = soup.find('td', class_='left inset_right2')\n",
    "                inner = table.find('span', class_='metascore_w').text\n",
    "                metascores.append(inner)\n",
    "            except:\n",
    "                print('naw')\n",
    "        metascores.append('No score')\n",
    "        audience_scores.append('No score')\n",
    "        num_critics.append('No critics')\n",
    "        num_audience_ratings.append('No ratings')\n",
    "    print(metascores, audience_scores, num_critics, num_audience_ratings)\n",
    "    driver.close()\n",
    "    \n",
    "score_titles = {}\n",
    "\n",
    "score_titles['metascores'] = metascores\n",
    "score_titles['audience rating'] = audience_scores\n",
    "score_titles['number of critics'] = num_critics\n",
    "score_titles['number of audience ratings'] = num_audience_ratings"
   ]
  },
  {
   "cell_type": "code",
   "execution_count": 56,
   "metadata": {},
   "outputs": [
    {
     "data": {
      "text/plain": [
       "48"
      ]
     },
     "execution_count": 56,
     "metadata": {},
     "output_type": "execute_result"
    }
   ],
   "source": [
    "//*[@id=\"main_content\"]/div[1]/div[3]/div/div[1]/table/tbody/tr[2]/td[1]/table/tbody/tr/td[1]/a/span\n",
    "len(metascores)\n",
    "len(audience_scores)\n",
    "len(num_critics)"
   ]
  },
  {
   "cell_type": "code",
   "execution_count": 53,
   "metadata": {},
   "outputs": [
    {
     "data": {
      "text/plain": [
       "{'metascores': ['59',\n",
       "  'No score',\n",
       "  '47',\n",
       "  'No score',\n",
       "  '53',\n",
       "  '60',\n",
       "  '26',\n",
       "  '87',\n",
       "  '72',\n",
       "  'No score'],\n",
       " 'audience rating': ['6.7',\n",
       "  'No score',\n",
       "  '8.3',\n",
       "  'No score',\n",
       "  '4.7',\n",
       "  '5.1',\n",
       "  '4.9',\n",
       "  '7.6',\n",
       "  '6.8',\n",
       "  'No score'],\n",
       " 'number of critics': [46,\n",
       "  'No critics',\n",
       "  42,\n",
       "  'No critics',\n",
       "  61,\n",
       "  59,\n",
       "  46,\n",
       "  23,\n",
       "  58,\n",
       "  'No critics'],\n",
       " 'number of audience ratings': [228,\n",
       "  'No ratings',\n",
       "  1096,\n",
       "  'No ratings',\n",
       "  4893,\n",
       "  1320,\n",
       "  148,\n",
       "  65,\n",
       "  430,\n",
       "  'No ratings']}"
      ]
     },
     "execution_count": 53,
     "metadata": {},
     "output_type": "execute_result"
    }
   ],
   "source": [
    "score_titles"
   ]
  },
  {
   "cell_type": "code",
   "execution_count": 39,
   "metadata": {},
   "outputs": [
    {
     "data": {
      "text/html": [
       "<div>\n",
       "<style scoped>\n",
       "    .dataframe tbody tr th:only-of-type {\n",
       "        vertical-align: middle;\n",
       "    }\n",
       "\n",
       "    .dataframe tbody tr th {\n",
       "        vertical-align: top;\n",
       "    }\n",
       "\n",
       "    .dataframe thead th {\n",
       "        text-align: right;\n",
       "    }\n",
       "</style>\n",
       "<table border=\"1\" class=\"dataframe\">\n",
       "  <thead>\n",
       "    <tr style=\"text-align: right;\">\n",
       "      <th></th>\n",
       "      <th>Release</th>\n",
       "      <th>Budget</th>\n",
       "      <th>Running Time</th>\n",
       "      <th>Gross</th>\n",
       "      <th>Theaters</th>\n",
       "      <th>Total Gross</th>\n",
       "      <th>Release Date</th>\n",
       "    </tr>\n",
       "  </thead>\n",
       "  <tbody>\n",
       "    <tr>\n",
       "      <th>0</th>\n",
       "      <td>Bad Boys for Life</td>\n",
       "      <td>-</td>\n",
       "      <td>-</td>\n",
       "      <td>$204,417,855</td>\n",
       "      <td>3775</td>\n",
       "      <td>$204,417,855</td>\n",
       "      <td>Jan 17</td>\n",
       "    </tr>\n",
       "    <tr>\n",
       "      <th>1</th>\n",
       "      <td>1917</td>\n",
       "      <td>-</td>\n",
       "      <td>-</td>\n",
       "      <td>$157,901,466</td>\n",
       "      <td>3987</td>\n",
       "      <td>$159,227,644</td>\n",
       "      <td>Dec 25</td>\n",
       "    </tr>\n",
       "    <tr>\n",
       "      <th>2</th>\n",
       "      <td>Sonic the Hedgehog</td>\n",
       "      <td>-</td>\n",
       "      <td>-</td>\n",
       "      <td>$146,066,470</td>\n",
       "      <td>4198</td>\n",
       "      <td>$146,066,470</td>\n",
       "      <td>Feb 14</td>\n",
       "    </tr>\n",
       "    <tr>\n",
       "      <th>3</th>\n",
       "      <td>Jumanji: The Next Level</td>\n",
       "      <td>-</td>\n",
       "      <td>-</td>\n",
       "      <td>$124,736,710</td>\n",
       "      <td>4227</td>\n",
       "      <td>$316,831,246</td>\n",
       "      <td>Dec 13</td>\n",
       "    </tr>\n",
       "    <tr>\n",
       "      <th>4</th>\n",
       "      <td>Star Wars: Episode IX - The Rise of Skywalker</td>\n",
       "      <td>-</td>\n",
       "      <td>-</td>\n",
       "      <td>$124,496,308</td>\n",
       "      <td>4406</td>\n",
       "      <td>$515,202,542</td>\n",
       "      <td>Dec 20</td>\n",
       "    </tr>\n",
       "    <tr>\n",
       "      <th>...</th>\n",
       "      <td>...</td>\n",
       "      <td>...</td>\n",
       "      <td>...</td>\n",
       "      <td>...</td>\n",
       "      <td>...</td>\n",
       "      <td>...</td>\n",
       "      <td>...</td>\n",
       "    </tr>\n",
       "    <tr>\n",
       "      <th>262</th>\n",
       "      <td>I Do Not Care If We Go Down in History as Barb...</td>\n",
       "      <td>-</td>\n",
       "      <td>-</td>\n",
       "      <td>$293</td>\n",
       "      <td>2</td>\n",
       "      <td>$11,307</td>\n",
       "      <td>Jul 19</td>\n",
       "    </tr>\n",
       "    <tr>\n",
       "      <th>263</th>\n",
       "      <td>The Load</td>\n",
       "      <td>-</td>\n",
       "      <td>-</td>\n",
       "      <td>$292</td>\n",
       "      <td>2</td>\n",
       "      <td>$28,410</td>\n",
       "      <td>Aug 30</td>\n",
       "    </tr>\n",
       "    <tr>\n",
       "      <th>264</th>\n",
       "      <td>Asako I &amp; II</td>\n",
       "      <td>-</td>\n",
       "      <td>-</td>\n",
       "      <td>$231</td>\n",
       "      <td>3</td>\n",
       "      <td>$25,559</td>\n",
       "      <td>May 17</td>\n",
       "    </tr>\n",
       "    <tr>\n",
       "      <th>265</th>\n",
       "      <td>Chained for Life</td>\n",
       "      <td>-</td>\n",
       "      <td>-</td>\n",
       "      <td>$115</td>\n",
       "      <td>3</td>\n",
       "      <td>$17,431</td>\n",
       "      <td>Sep 13</td>\n",
       "    </tr>\n",
       "    <tr>\n",
       "      <th>266</th>\n",
       "      <td>Shooting the Mafia</td>\n",
       "      <td>-</td>\n",
       "      <td>-</td>\n",
       "      <td>$88</td>\n",
       "      <td>3</td>\n",
       "      <td>$10,881</td>\n",
       "      <td>Nov 22</td>\n",
       "    </tr>\n",
       "  </tbody>\n",
       "</table>\n",
       "<p>267 rows × 7 columns</p>\n",
       "</div>"
      ],
      "text/plain": [
       "                                               Release Budget Running Time  \\\n",
       "0                                    Bad Boys for Life      -            -   \n",
       "1                                                 1917      -            -   \n",
       "2                                   Sonic the Hedgehog      -            -   \n",
       "3                              Jumanji: The Next Level      -            -   \n",
       "4        Star Wars: Episode IX - The Rise of Skywalker      -            -   \n",
       "..                                                 ...    ...          ...   \n",
       "262  I Do Not Care If We Go Down in History as Barb...      -            -   \n",
       "263                                           The Load      -            -   \n",
       "264                                       Asako I & II      -            -   \n",
       "265                                   Chained for Life      -            -   \n",
       "266                                 Shooting the Mafia      -            -   \n",
       "\n",
       "            Gross Theaters   Total Gross Release Date  \n",
       "0    $204,417,855     3775  $204,417,855       Jan 17  \n",
       "1    $157,901,466     3987  $159,227,644       Dec 25  \n",
       "2    $146,066,470     4198  $146,066,470       Feb 14  \n",
       "3    $124,736,710     4227  $316,831,246       Dec 13  \n",
       "4    $124,496,308     4406  $515,202,542       Dec 20  \n",
       "..            ...      ...           ...          ...  \n",
       "262          $293        2       $11,307       Jul 19  \n",
       "263          $292        2       $28,410       Aug 30  \n",
       "264          $231        3       $25,559       May 17  \n",
       "265          $115        3       $17,431       Sep 13  \n",
       "266           $88        3       $10,881       Nov 22  \n",
       "\n",
       "[267 rows x 7 columns]"
      ]
     },
     "execution_count": 39,
     "metadata": {},
     "output_type": "execute_result"
    }
   ],
   "source": [
    "url = 'https://www.boxofficemojo.com/year/2020/?ref_=bo_yl_table_1'\n",
    "\n",
    "#Request HTML and parse\n",
    "response = requests.get(url)\n",
    "page = response.text\n",
    "soup = BeautifulSoup(page,\"html5lib\")\n",
    "\n",
    "table = soup.find_all('table')\n",
    "df1 = pd.read_html(str(table))[0]\n",
    "df1 = df1.drop(['Rank', 'Estimated', 'Genre', 'Distributor'], axis=1)\n",
    "df1"
   ]
  },
  {
   "cell_type": "code",
   "execution_count": null,
   "metadata": {},
   "outputs": [],
   "source": [
    "df = pd.DataFrame(dicts)\n",
    "df"
   ]
  },
  {
   "cell_type": "code",
   "execution_count": null,
   "metadata": {},
   "outputs": [],
   "source": [
    "df.columns = ['Movie Title', 'Domestic Gross', 'Runtime (mins)', 'Rating', 'Release Date', 'Budget']\n",
    "df"
   ]
  },
  {
   "cell_type": "code",
   "execution_count": null,
   "metadata": {},
   "outputs": [],
   "source": [
    "rating_one_hot = pd.get_dummies(df['Rating'])\n",
    "frames = [df, rating_one_hot]\n",
    "\n",
    "df_ratings = df.merge(rating_one_hot, left_index=True, right_index=True).drop(columns='Rating')\n",
    "df_ratings"
   ]
  },
  {
   "cell_type": "code",
   "execution_count": null,
   "metadata": {},
   "outputs": [],
   "source": [
    "# sns.heatmap(df_ratings, vmin=-1, vmax=1)\n",
    "sns.pairplot(df_ratings)"
   ]
  },
  {
   "cell_type": "code",
   "execution_count": null,
   "metadata": {},
   "outputs": [],
   "source": [
    "df_ratings"
   ]
  },
  {
   "cell_type": "code",
   "execution_count": null,
   "metadata": {},
   "outputs": [],
   "source": [
    "plt.figure(figsize=[20, 20])\n",
    "sns.jointplot(df_ratings['Domestic Gross'], df_ratings['Budget']);"
   ]
  },
  {
   "cell_type": "code",
   "execution_count": null,
   "metadata": {},
   "outputs": [],
   "source": [
    "from sklearn.model_selection import train_test_split\n",
    "from sklearn.linear_model import LinearRegression"
   ]
  },
  {
   "cell_type": "code",
   "execution_count": null,
   "metadata": {},
   "outputs": [],
   "source": [
    "X = df_ratings.loc[df_ratings['domestic_total_gross'],\n",
    "               df_ratings['runtime_minutes']]\n",
    "y = df_ratings['Budget']"
   ]
  },
  {
   "cell_type": "code",
   "execution_count": null,
   "metadata": {},
   "outputs": [],
   "source": []
  }
 ],
 "metadata": {
  "kernelspec": {
   "display_name": "Python 3",
   "language": "python",
   "name": "python3"
  },
  "language_info": {
   "codemirror_mode": {
    "name": "ipython",
    "version": 3
   },
   "file_extension": ".py",
   "mimetype": "text/x-python",
   "name": "python",
   "nbconvert_exporter": "python",
   "pygments_lexer": "ipython3",
   "version": "3.7.6"
  }
 },
 "nbformat": 4,
 "nbformat_minor": 4
}
