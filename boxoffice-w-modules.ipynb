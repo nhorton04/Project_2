{
 "cells": [
  {
   "cell_type": "markdown",
   "metadata": {},
   "source": [
    "Imports"
   ]
  },
  {
   "cell_type": "code",
   "execution_count": 1,
   "metadata": {},
   "outputs": [],
   "source": [
    "from bs4 import BeautifulSoup\n",
    "import requests\n",
    "import time, os\n",
    "import pandas as pd\n",
    "import re\n",
    "import seaborn as sns\n",
    "import matplotlib.pyplot as plt\n",
    "import functions\n",
    "import random\n",
    "\n",
    "from urllib.parse import urljoin\n",
    "from selenium import webdriver\n",
    "from selenium.webdriver.common.by import By\n",
    "from selenium.webdriver.common.keys import Keys\n",
    "from selenium.webdriver.support.ui import WebDriverWait\n",
    "from selenium.webdriver.support import expected_conditions as EC\n",
    "from selenium.common.exceptions import NoSuchElementException\n",
    "from selenium.common.exceptions import StaleElementReferenceException\n",
    "from selenium.common.exceptions import ElementClickInterceptedException\n",
    "from selenium.common.exceptions import ElementNotInteractableException\n",
    "\n",
    "chromedriver = \"/usr/bin/chromedriver\" # path to the chromedriver executable\n",
    "os.environ[\"webdriver.chrome.driver\"] = chromedriver"
   ]
  },
  {
   "cell_type": "markdown",
   "metadata": {},
   "source": [
    "Request Info"
   ]
  },
  {
   "cell_type": "code",
   "execution_count": 2,
   "metadata": {},
   "outputs": [],
   "source": [
    "sleepTimes = [2.8, 3.2, 4.9, 2.4, 4.2, 3.7, 4.3, 2.7, 7, 3.1, 4.6, 4.1]\n",
    "\n",
    "link = '/year/2020/?ref_=bo_yl_table_1'\n",
    "base_url = 'https://www.boxofficemojo.com'\n",
    "\n",
    "from urllib.parse import urljoin\n",
    "url = urljoin(base_url, link)"
   ]
  },
  {
   "cell_type": "markdown",
   "metadata": {},
   "source": [
    "Money to int, runtime to minutes, date to datestring function "
   ]
  },
  {
   "cell_type": "code",
   "execution_count": 3,
   "metadata": {},
   "outputs": [
    {
     "name": "stdout",
     "output_type": "stream",
     "text": [
      "{'movie_title': 'Bad Boys for Life', 'domestic_total_gross': 204417855, 'runtime_minutes': 124, 'rating': 'R', 'budget': 90000000}\n",
      "{'movie_title': '1917', 'domestic_total_gross': 159227644, 'runtime_minutes': 119, 'rating': 'R', 'budget': 95000000}\n"
     ]
    },
    {
     "ename": "KeyboardInterrupt",
     "evalue": "",
     "output_type": "error",
     "traceback": [
      "\u001b[0;31m---------------------------------------------------------------------------\u001b[0m",
      "\u001b[0;31mKeyboardInterrupt\u001b[0m                         Traceback (most recent call last)",
      "\u001b[0;32m<ipython-input-3-eea6999f1c6a>\u001b[0m in \u001b[0;36m<module>\u001b[0;34m\u001b[0m\n\u001b[1;32m     12\u001b[0m         \u001b[0mdriver\u001b[0m\u001b[0;34m.\u001b[0m\u001b[0mfind_element_by_xpath\u001b[0m\u001b[0;34m(\u001b[0m\u001b[0;34m'//*[@id=\"table\"]/div/table[2]/tbody/tr[{}]/td[2]/a'\u001b[0m\u001b[0;34m.\u001b[0m\u001b[0mformat\u001b[0m\u001b[0;34m(\u001b[0m\u001b[0mi\u001b[0m\u001b[0;34m)\u001b[0m\u001b[0;34m)\u001b[0m\u001b[0;34m.\u001b[0m\u001b[0mclick\u001b[0m\u001b[0;34m(\u001b[0m\u001b[0;34m)\u001b[0m\u001b[0;34m\u001b[0m\u001b[0;34m\u001b[0m\u001b[0m\n\u001b[1;32m     13\u001b[0m         \u001b[0mWebDriverWait\u001b[0m\u001b[0;34m(\u001b[0m\u001b[0mdriver\u001b[0m\u001b[0;34m,\u001b[0m \u001b[0;36m10\u001b[0m\u001b[0;34m)\u001b[0m\u001b[0;34m\u001b[0m\u001b[0;34m\u001b[0m\u001b[0m\n\u001b[0;32m---> 14\u001b[0;31m         \u001b[0mtime\u001b[0m\u001b[0;34m.\u001b[0m\u001b[0msleep\u001b[0m\u001b[0;34m(\u001b[0m\u001b[0;36m2\u001b[0m\u001b[0;34m)\u001b[0m\u001b[0;34m\u001b[0m\u001b[0;34m\u001b[0m\u001b[0m\n\u001b[0m\u001b[1;32m     15\u001b[0m         \u001b[0mcurrent_movie\u001b[0m \u001b[0;34m=\u001b[0m \u001b[0mfunctions\u001b[0m\u001b[0;34m.\u001b[0m\u001b[0mget_selenium_dict\u001b[0m\u001b[0;34m(\u001b[0m\u001b[0mdriver\u001b[0m\u001b[0;34m)\u001b[0m\u001b[0;34m\u001b[0m\u001b[0;34m\u001b[0m\u001b[0m\n\u001b[1;32m     16\u001b[0m         \u001b[0mWebDriverWait\u001b[0m\u001b[0;34m(\u001b[0m\u001b[0mdriver\u001b[0m\u001b[0;34m,\u001b[0m \u001b[0;36m10\u001b[0m\u001b[0;34m)\u001b[0m\u001b[0;34m\u001b[0m\u001b[0;34m\u001b[0m\u001b[0m\n",
      "\u001b[0;31mKeyboardInterrupt\u001b[0m: "
     ]
    }
   ],
   "source": [
    "i = 2\n",
    "driver = webdriver.Chrome(chromedriver)\n",
    "driver.get(url)\n",
    "response = requests.get(url)\n",
    "page = response.text\n",
    "soup = BeautifulSoup(page, 'lxml')\n",
    "wait = WebDriverWait(driver, 10)\n",
    "\n",
    "movie_dicts = []\n",
    "\n",
    "while i < 269:\n",
    "        driver.find_element_by_xpath('//*[@id=\"table\"]/div/table[2]/tbody/tr[{}]/td[2]/a'.format(i)).click()\n",
    "        WebDriverWait(driver, 10)\n",
    "        time.sleep(2)\n",
    "        current_movie = functions.get_selenium_dict(driver)\n",
    "        WebDriverWait(driver, 10)\n",
    "        WebDriverWait(driver, 10)\n",
    "        movie_dicts.append(current_movie)\n",
    "        i += 1\n",
    "        WebDriverWait(driver, 10)\n",
    "        driver.back()\n",
    "        \n",
    "movie_dicts"
   ]
  },
  {
   "cell_type": "code",
   "execution_count": 4,
   "metadata": {
    "scrolled": true
   },
   "outputs": [],
   "source": [
    "movie_dicts = [{'movie_title': 'Bad Boys for Life', 'domestic_total_gross': 204417855, 'runtime_minutes': 124, 'rating': 'R', 'budget': 90000000}, {'movie_title': '1917', 'domestic_total_gross': 159227644, 'runtime_minutes': 119, 'rating': 'R', 'budget': 95000000}, {'movie_title': 'Sonic the Hedgehog', 'domestic_total_gross': 146066470, 'runtime_minutes': 99, 'rating': 'PG', 'budget': 85000000}, {'movie_title': 'Jumanji: The Next Level', 'domestic_total_gross': 316831246, 'runtime_minutes': 123, 'rating': 'PG-13', 'budget': 125000000}, {'movie_title': 'Star Wars: Episode IX', 'domestic_total_gross': 515202542, 'runtime_minutes': 142, 'rating': 'PG-13', 'budget': 275000000}, {'movie_title': 'Birds of Prey: And the Fantabulous Emancipation of One Harley Quinn', 'domestic_total_gross': 84158461, 'runtime_minutes': 109, 'rating': 'R', 'budget': 84500000}, {'movie_title': 'Dolittle', 'domestic_total_gross': 77047065, 'runtime_minutes': 101, 'rating': 'PG', 'budget': 175000000}, {'movie_title': 'Little Women', 'domestic_total_gross': 108101214, 'runtime_minutes': 135, 'rating': 'PG', 'budget': 40000000}, {'movie_title': 'The Invisible Man', 'domestic_total_gross': 64914050, 'runtime_minutes': 124, 'rating': 'R', 'budget': 7000000}, {'movie_title': 'The Call of the Wild', 'domestic_total_gross': 62342368, 'runtime_minutes': 100, 'rating': 'PG', 'budget': 135000000}, {'movie_title': 'Onward', 'domestic_total_gross': 61555145, 'runtime_minutes': 102, 'rating': 'PG', 'budget': 0}, {'movie_title': 'Knives Out', 'domestic_total_gross': 165363234, 'runtime_minutes': 130, 'rating': 'PG-13', 'budget': 40000000}, {'movie_title': 'Frozen II', 'domestic_total_gross': 477373578, 'runtime_minutes': 103, 'rating': 'PG', 'budget': 150000000}, {'movie_title': 'Spies in Disguise', 'domestic_total_gross': 66757013, 'runtime_minutes': 102, 'rating': 'PG', 'budget': 100000000}, {'movie_title': 'The Gentlemen', 'domestic_total_gross': 36296853, 'runtime_minutes': 113, 'rating': 'R', 'budget': 22000000}, {'movie_title': 'Just Mercy', 'domestic_total_gross': 36001502, 'runtime_minutes': 137, 'rating': 'PG-13', 'budget': 25000000}, {'movie_title': 'Parasite', 'domestic_total_gross': 53369749, 'runtime_minutes': 132, 'rating': 'R', 'budget': 11400000}, {'movie_title': 'Fantasy Island', 'domestic_total_gross': 26441782, 'runtime_minutes': 109, 'rating': 'PG-13', 'budget': 7000000}, {'movie_title': 'Uncut Gems', 'domestic_total_gross': 50023780, 'runtime_minutes': 135, 'rating': 'R', 'budget': 19000000}, {'movie_title': 'Like a Boss', 'domestic_total_gross': 22169514, 'runtime_minutes': 83, 'rating': 'R', 'budget': 29000000}, {'movie_title': 'The Grudge', 'domestic_total_gross': 21221803, 'runtime_minutes': 94, 'rating': 'R', 'budget': 10000000}, {'movie_title': 'The Photograph', 'domestic_total_gross': 20578185, 'runtime_minutes': 106, 'rating': 'PG-13', 'budget': 16000000}, {'movie_title': 'Underwater', 'domestic_total_gross': 17291078, 'runtime_minutes': 95, 'rating': 'PG-13', 'budget': 0}, {'movie_title': 'The Turning', 'domestic_total_gross': 15472775, 'runtime_minutes': 94, 'rating': 'PG-13', 'budget': 14000000}, {'movie_title': 'Gretel & Hansel', 'domestic_total_gross': 15347654, 'runtime_minutes': 87, 'rating': 'PG-13', 'budget': 0}, {'movie_title': 'My Hero Academia: Heroes Rising', 'domestic_total_gross': 13304000, 'runtime_minutes': 104, 'rating': 'PG-13', 'budget': 0}, {'movie_title': 'Bombshell', 'domestic_total_gross': 31762808, 'runtime_minutes': 109, 'rating': 'R', 'budget': 32000000}, {'movie_title': 'The Way Back', 'domestic_total_gross': 13590514, 'runtime_minutes': 108, 'rating': 'R', 'budget': 0}, {'movie_title': 'Brahms: The Boy II', 'domestic_total_gross': 12611536, 'runtime_minutes': 86, 'rating': 'PG-13', 'budget': 10000000}, {'movie_title': 'Jojo Rabbit', 'domestic_total_gross': 33370906, 'runtime_minutes': 108, 'rating': 'PG-13', 'budget': 14000000}, {'movie_title': 'Impractical Jokers: The Movie', 'domestic_total_gross': 10691091, 'runtime_minutes': 92, 'rating': 'PG-13', 'budget': 3000000}, {'movie_title': 'Ford v Ferrari', 'domestic_total_gross': 117624357, 'runtime_minutes': 152, 'rating': 'PG-13', 'budget': 97600000}, {'movie_title': 'Emma.', 'domestic_total_gross': 10055355, 'runtime_minutes': 124, 'rating': 'PG', 'budget': 10000000}, {'movie_title': 'Bloodshot', 'domestic_total_gross': 10021787, 'runtime_minutes': 109, 'rating': 'PG-13', 'budget': 45000000}, {'movie_title': 'I Still Believe', 'domestic_total_gross': 9868521, 'runtime_minutes': 116, 'rating': 'PG', 'budget': 12000000}, {'movie_title': 'Downhill', 'domestic_total_gross': 8287061, 'runtime_minutes': 86, 'rating': 'R', 'budget': 0}, {'movie_title': 'Weathering with You', 'domestic_total_gross': 7798743, 'runtime_minutes': 112, 'rating': 'PG-13', 'budget': 0}, {'movie_title': 'Cats', 'domestic_total_gross': 27166770, 'runtime_minutes': 110, 'rating': 'PG', 'budget': 95000000}, {'movie_title': 'The Hunt', 'domestic_total_gross': 5812500, 'runtime_minutes': 90, 'rating': 'R', 'budget': 14000000}, {'movie_title': 'The Rhythm Section', 'domestic_total_gross': 5437971, 'runtime_minutes': 109, 'rating': 'R', 'budget': 50000000}, {'movie_title': 'A Beautiful Day in the Neighborhood', 'domestic_total_gross': 61704055, 'runtime_minutes': 109, 'rating': 'PG', 'budget': 25000000}, {'movie_title': 'Richard Jewell', 'domestic_total_gross': 22345542, 'runtime_minutes': 131, 'rating': 'R', 'budget': 45000000}, {'movie_title': 'Portrait of a Lady on Fire', 'domestic_total_gross': 3759854, 'runtime_minutes': 122, 'rating': 'R', 'budget': 0}, {'movie_title': '2020 Oscar Nominated Short Films', 'domestic_total_gross': 3306611, 'runtime_minutes': 153, 'rating': None, 'budget': 0}, {'movie_title': 'Queen & Slim', 'domestic_total_gross': 43808310, 'runtime_minutes': 132, 'rating': 'R', 'budget': 18000000}, {'movie_title': 'Las Pildoras De Mi Novio', 'domestic_total_gross': 2971116, 'runtime_minutes': 100, 'rating': 'R', 'budget': 0}, {'movie_title': 'The Last Full Measure', 'domestic_total_gross': 2949212, 'runtime_minutes': 116, 'rating': 'R', 'budget': 0}, {'movie_title': 'Ip Man 4: The Finale', 'domestic_total_gross': 3956031, 'runtime_minutes': 107, 'rating': None, 'budget': 0}, {'movie_title': 'The Wretched', 'domestic_total_gross': 1698568, 'runtime_minutes': 95, 'rating': None, 'budget': 0}, {'movie_title': 'Joker', 'domestic_total_gross': 335451311, 'runtime_minutes': 122, 'rating': 'R', 'budget': 55000000}, {'movie_title': 'The Lodge', 'domestic_total_gross': 1666564, 'runtime_minutes': 108, 'rating': 'R', 'budget': 0}, {'movie_title': 'Once Upon a Time... in Hollywood', 'domestic_total_gross': 142502728, 'runtime_minutes': 161, 'rating': 'R', 'budget': 90000000}, {'movie_title': 'The Assistant', 'domestic_total_gross': 1100313, 'runtime_minutes': 87, 'rating': 'R', 'budget': 0}, {'movie_title': 'The Song of Names', 'domestic_total_gross': 1077584, 'runtime_minutes': 113, 'rating': 'PG-13', 'budget': 0}, {'movie_title': 'Becky', 'domestic_total_gross': 912058, 'runtime_minutes': 93, 'rating': 'R', 'budget': 0}, {'movie_title': 'Mafia Inc', 'domestic_total_gross': 889863, 'runtime_minutes': 135, 'rating': None, 'budget': 0}, {'movie_title': 'Jay and Silent Bob Reboot', 'domestic_total_gross': 4589490, 'runtime_minutes': 105, 'rating': 'R', 'budget': 0}, {'movie_title': 'A Hidden Life', 'domestic_total_gross': 1730597, 'runtime_minutes': 174, 'rating': 'PG-13', 'budget': 0}, {'movie_title': 'Sarileru Neekevvaru', 'domestic_total_gross': 821000, 'runtime_minutes': 169, 'rating': None, 'budget': 0}, {'movie_title': '21 Bridges', 'domestic_total_gross': 28539757, 'runtime_minutes': 99, 'rating': 'R', 'budget': 33000000}, {'movie_title': 'Baaghi 3', 'domestic_total_gross': 721439, 'runtime_minutes': 143, 'rating': None, 'budget': 0}, {'movie_title': 'Patterns of Evidence: The Red Sea Miracle', 'domestic_total_gross': 696191, 'runtime_minutes': 150, 'rating': None, 'budget': 0}, {'movie_title': 'Pain and Glory', 'domestic_total_gross': 4567338, 'runtime_minutes': 113, 'rating': 'R', 'budget': 0}, {'movie_title': 'Merci pour tout', 'domestic_total_gross': 1073969, 'runtime_minutes': 99, 'rating': None, 'budget': 0}, {'movie_title': 'Maleficent: Mistress of Evil', 'domestic_total_gross': 113929605, 'runtime_minutes': 119, 'rating': 'PG', 'budget': 185000000}, {'movie_title': 'Chhapaak', 'domestic_total_gross': 604334, 'runtime_minutes': None, 'rating': None, 'budget': 0}, {'movie_title': 'Panga', 'domestic_total_gross': 582720, 'runtime_minutes': 131, 'rating': None, 'budget': 0}, {'movie_title': 'Midway', 'domestic_total_gross': 56846802, 'runtime_minutes': 138, 'rating': 'PG-13', 'budget': 100000000}, {'movie_title': 'Black Christmas', 'domestic_total_gross': 10429730, 'runtime_minutes': 92, 'rating': 'PG-13', 'budget': 5000000}, {'movie_title': 'Color Out of Space', 'domestic_total_gross': 765561, 'runtime_minutes': 111, 'rating': None, 'budget': 0}, {'movie_title': 'Harriet', 'domestic_total_gross': 43082155, 'runtime_minutes': 125, 'rating': 'PG-13', 'budget': 17000000}, {'movie_title': 'The Addams Family', 'domestic_total_gross': 100044905, 'runtime_minutes': 86, 'rating': 'PG', 'budget': 24000000}, {'movie_title': 'Dark Waters', 'domestic_total_gross': 11136084, 'runtime_minutes': 126, 'rating': 'PG-13', 'budget': 0}, {'movie_title': 'Once Were Brothers: Robbie Robertson and the Band', 'domestic_total_gross': 449561, 'runtime_minutes': 100, 'rating': 'R', 'budget': 0}, {'movie_title': 'Followed', 'domestic_total_gross': 442265, 'runtime_minutes': 96, 'rating': 'R', 'budget': 0}, {'movie_title': 'Seberg', 'domestic_total_gross': 434702, 'runtime_minutes': 102, 'rating': 'R', 'budget': 0}, {'movie_title': 'Fantastic Fungi', 'domestic_total_gross': 1788322, 'runtime_minutes': 81, 'rating': None, 'budget': 0}, {'movie_title': 'Infamous', 'domestic_total_gross': 429148, 'runtime_minutes': 100, 'rating': None, 'budget': 0}, {'movie_title': 'Greed', 'domestic_total_gross': 355308, 'runtime_minutes': 104, 'rating': 'R', 'budget': 0}, {'movie_title': 'Relic', 'domestic_total_gross': 345396, 'runtime_minutes': 89, 'rating': 'R', 'budget': 0}, {'movie_title': 'Ride Your Wave', 'domestic_total_gross': 332432, 'runtime_minutes': 95, 'rating': None, 'budget': 0}, {'movie_title': 'Les Misérables', 'domestic_total_gross': 330181, 'runtime_minutes': 104, 'rating': 'R', 'budget': 0}, {'movie_title': 'Clemency', 'domestic_total_gross': 364716, 'runtime_minutes': 112, 'rating': 'R', 'budget': 0}, {'movie_title': 'Ordinary Love', 'domestic_total_gross': 323688, 'runtime_minutes': 92, 'rating': 'R', 'budget': 0}, {'movie_title': 'Playing with Fire', 'domestic_total_gross': 44451847, 'runtime_minutes': 96, 'rating': 'PG', 'budget': 29900000}, {'movie_title': 'Judy', 'domestic_total_gross': 24313888, 'runtime_minutes': 118, 'rating': 'PG-13', 'budget': 0}, {'movie_title': 'The Traitor', 'domestic_total_gross': 296027, 'runtime_minutes': 153, 'rating': 'R', 'budget': 0}, {'movie_title': 'Mystify: Michael Hutchence', 'domestic_total_gross': 289573, 'runtime_minutes': 102, 'rating': None, 'budget': 0}, {'movie_title': 'Created Equal: Clarence Thomas in His Own Words', 'domestic_total_gross': 282149, 'runtime_minutes': 116, 'rating': 'PG-13', 'budget': 0}, {'movie_title': 'An American in Paris 2020 Re', 'domestic_total_gross': 267824, 'runtime_minutes': 114, 'rating': None, 'budget': 0}, {'movie_title': '63 Up', 'domestic_total_gross': 483684, 'runtime_minutes': 145, 'rating': None, 'budget': 0}, {'movie_title': 'Tokyo Godfathers 2020 Re', 'domestic_total_gross': 237571, 'runtime_minutes': 93, 'rating': 'PG-13', 'budget': 0}, {'movie_title': 'Blind Eyes Opened', 'domestic_total_gross': 234505, 'runtime_minutes': 115, 'rating': None, 'budget': 0}, {'movie_title': 'Doctor Who Live Q&A And Screening', 'domestic_total_gross': 228615, 'runtime_minutes': 166, 'rating': None, 'budget': 0}, {'movie_title': 'CatVideoFest 2020', 'domestic_total_gross': 437625, 'runtime_minutes': 75, 'rating': None, 'budget': 0}, {'movie_title': 'Ashfall', 'domestic_total_gross': 372562, 'runtime_minutes': 130, 'rating': None, 'budget': 0}, {'movie_title': 'National Theater Live: Cyrano de Bergerac', 'domestic_total_gross': 198352, 'runtime_minutes': 160, 'rating': None, 'budget': 0}, {'movie_title': 'Zombieland: Double Tap', 'domestic_total_gross': 73123082, 'runtime_minutes': 99, 'rating': 'R', 'budget': 42000000}, {'movie_title': 'Cunningham', 'domestic_total_gross': 265102, 'runtime_minutes': 93, 'rating': 'PG', 'budget': 0}, {'movie_title': 'The Doors: Break On Thru', 'domestic_total_gross': 190160, 'runtime_minutes': 67, 'rating': None, 'budget': 0}, {'movie_title': 'The Good Liar', 'domestic_total_gross': 17156058, 'runtime_minutes': 109, 'rating': 'R', 'budget': 10000000}, {'movie_title': 'And Then We Danced', 'domestic_total_gross': 177262, 'runtime_minutes': 113, 'rating': None, 'budget': 0}, {'movie_title': 'Beanpole', 'domestic_total_gross': 196258, 'runtime_minutes': 130, 'rating': None, 'budget': 0}, {'movie_title': 'Extra Ordinary', 'domestic_total_gross': 164346, 'runtime_minutes': 94, 'rating': 'R', 'budget': 0}, {'movie_title': 'Love Story 50th Anniversary', 'domestic_total_gross': 153504, 'runtime_minutes': 100, 'rating': 'PG', 'budget': 0}, {'movie_title': 'Wendy', 'domestic_total_gross': 143518, 'runtime_minutes': 111, 'rating': 'PG-13', 'budget': 6000000}, {'movie_title': 'Incitement', 'domestic_total_gross': 140306, 'runtime_minutes': 123, 'rating': None, 'budget': 0}, {'movie_title': 'Burden', 'domestic_total_gross': 139270, 'runtime_minutes': 117, 'rating': 'R', 'budget': 0}, {'movie_title': 'Beneath Us', 'domestic_total_gross': 137260, 'runtime_minutes': 86, 'rating': 'R', 'budget': 0}, {'movie_title': 'The Times of Bill Cunningham', 'domestic_total_gross': 134288, 'runtime_minutes': 74, 'rating': None, 'budget': 0}, {'movie_title': 'No Safe Spaces', 'domestic_total_gross': 1291514, 'runtime_minutes': 100, 'rating': 'PG-13', 'budget': 0}, {'movie_title': '14 Days, 12 Nights', 'domestic_total_gross': 122530, 'runtime_minutes': 99, 'rating': None, 'budget': 0}, {'movie_title': 'Invisible Life', 'domestic_total_gross': 146535, 'runtime_minutes': 139, 'rating': 'R', 'budget': 0}, {'movie_title': 'The Man Standing Next', 'domestic_total_gross': 113527, 'runtime_minutes': 114, 'rating': None, 'budget': 0}, {'movie_title': 'Corpus Christi', 'domestic_total_gross': 127240, 'runtime_minutes': 115, 'rating': None, 'budget': 0}, {'movie_title': 'Hope Gap', 'domestic_total_gross': 104732, 'runtime_minutes': 100, 'rating': 'PG-13', 'budget': 0}, {'movie_title': 'Citizen K', 'domestic_total_gross': 120411, 'runtime_minutes': 126, 'rating': None, 'budget': 0}, {'movie_title': 'First Cow', 'domestic_total_gross': 101068, 'runtime_minutes': 122, 'rating': 'PG-13', 'budget': 0}, {'movie_title': 'The Woman Who Loves Giraffes', 'domestic_total_gross': 113858, 'runtime_minutes': 123, 'rating': None, 'budget': 0}, {'movie_title': 'Come to Daddy', 'domestic_total_gross': 96713, 'runtime_minutes': 96, 'rating': 'R', 'budget': 0}, {'movie_title': 'The Lighthouse', 'domestic_total_gross': 10867104, 'runtime_minutes': 109, 'rating': 'R', 'budget': 0}, {'movie_title': 'First Lady', 'domestic_total_gross': 93298, 'runtime_minutes': 101, 'rating': 'PG', 'budget': 0}, {'movie_title': 'Honeyland', 'domestic_total_gross': 815082, 'runtime_minutes': 89, 'rating': None, 'budget': 0}, {'movie_title': 'Riverdance 25th Anniversary Show', 'domestic_total_gross': 81879, 'runtime_minutes': None, 'rating': None, 'budget': 0}, {'movie_title': 'StarDog and TurboCat', 'domestic_total_gross': 80317, 'runtime_minutes': 90, 'rating': 'PG', 'budget': 0}, {'movie_title': 'Miss Juneteenth', 'domestic_total_gross': 76468, 'runtime_minutes': 99, 'rating': None, 'budget': 0}, {'movie_title': 'Honey Boy', 'domestic_total_gross': 3012615, 'runtime_minutes': 94, 'rating': 'R', 'budget': 0}, {'movie_title': 'Come and See 2020 Re', 'domestic_total_gross': 71909, 'runtime_minutes': 142, 'rating': None, 'budget': 0}, {'movie_title': 'How to Build a Girl', 'domestic_total_gross': 70632, 'runtime_minutes': 102, 'rating': 'R', 'budget': 0}, {'movie_title': 'Chal Mera Putt 2', 'domestic_total_gross': 445000, 'runtime_minutes': 124, 'rating': None, 'budget': 0}, {'movie_title': 'Waves', 'domestic_total_gross': 1658790, 'runtime_minutes': 135, 'rating': 'R', 'budget': 0}, {'movie_title': 'We Summon the Darkness', 'domestic_total_gross': 60794, 'runtime_minutes': 91, 'rating': 'R', 'budget': 0}, {'movie_title': 'Varda by Agnès', 'domestic_total_gross': 160765, 'runtime_minutes': 115, 'rating': None, 'budget': 0}, {'movie_title': 'The Whistlers', 'domestic_total_gross': 55608, 'runtime_minutes': 97, 'rating': None, 'budget': 0}, {'movie_title': 'A Simple Wedding', 'domestic_total_gross': 54415, 'runtime_minutes': 88, 'rating': None, 'budget': 0}, {'movie_title': 'Miss Fisher and the Crypt of Tears (special screenings)', 'domestic_total_gross': 51032, 'runtime_minutes': 101, 'rating': None, 'budget': 0}, {'movie_title': 'The Wonderland', 'domestic_total_gross': 50876, 'runtime_minutes': 115, 'rating': None, 'budget': 0}, {'movie_title': 'VHYes', 'domestic_total_gross': 47037, 'runtime_minutes': 72, 'rating': None, 'budget': 0}, {'movie_title': \"Charlie's Angels\", 'domestic_total_gross': 17803077, 'runtime_minutes': 118, 'rating': 'PG-13', 'budget': 48000000}, {'movie_title': 'Enter the Fat Dragon', 'domestic_total_gross': 46855, 'runtime_minutes': 96, 'rating': None, 'budget': 0}, {'movie_title': 'Saint Frances', 'domestic_total_gross': 44330, 'runtime_minutes': 106, 'rating': None, 'budget': 0}, {'movie_title': 'The Burnt Orange Heresy', 'domestic_total_gross': 39893, 'runtime_minutes': 99, 'rating': 'R', 'budget': 0}, {'movie_title': 'Doctor Sleep', 'domestic_total_gross': 31581712, 'runtime_minutes': 152, 'rating': 'R', 'budget': 45000000}, {'movie_title': 'The White Sheik 2019 re', 'domestic_total_gross': 50850, 'runtime_minutes': 86, 'rating': None, 'budget': 0}, {'movie_title': 'Abominable', 'domestic_total_gross': 60716390, 'runtime_minutes': 97, 'rating': 'PG', 'budget': 75000000}, {'movie_title': 'Three Christs', 'domestic_total_gross': 36723, 'runtime_minutes': 109, 'rating': 'R', 'budget': 0}, {'movie_title': 'Last Christmas', 'domestic_total_gross': 35150750, 'runtime_minutes': 103, 'rating': 'PG-13', 'budget': 25000000}, {'movie_title': 'True History of the Kelly Gang', 'domestic_total_gross': 33817, 'runtime_minutes': 124, 'rating': 'R', 'budget': 0}, {'movie_title': 'Play the Flute', 'domestic_total_gross': 241251, 'runtime_minutes': 103, 'rating': None, 'budget': 0}, {'movie_title': 'Swallow', 'domestic_total_gross': 33419, 'runtime_minutes': 94, 'rating': 'R', 'budget': 0}, {'movie_title': \"Nick Mason's Saucerful of Secrets: Live at the Roundhouse\", 'domestic_total_gross': 32444, 'runtime_minutes': None, 'rating': None, 'budget': 0}, {'movie_title': 'After Parkland', 'domestic_total_gross': 30444, 'runtime_minutes': 92, 'rating': None, 'budget': 0}, {'movie_title': 'Olympic Dreams', 'domestic_total_gross': 29450, 'runtime_minutes': 85, 'rating': 'PG-13', 'budget': 0}, {'movie_title': 'Buffaloed', 'domestic_total_gross': 29118, 'runtime_minutes': 95, 'rating': None, 'budget': 0}, {'movie_title': 'Bacurau', 'domestic_total_gross': 58115, 'runtime_minutes': 131, 'rating': None, 'budget': 0}, {'movie_title': 'Countdown', 'domestic_total_gross': 25621766, 'runtime_minutes': 90, 'rating': 'PG-13', 'budget': 6500000}, {'movie_title': 'Cane River 2020 Re', 'domestic_total_gross': 27317, 'runtime_minutes': 104, 'rating': None, 'budget': 0}, {'movie_title': 'Midnight Family', 'domestic_total_gross': 42310, 'runtime_minutes': 81, 'rating': None, 'budget': 0}, {'movie_title': 'José', 'domestic_total_gross': 26563, 'runtime_minutes': 85, 'rating': None, 'budget': 0}, {'movie_title': 'Synonyms', 'domestic_total_gross': 206003, 'runtime_minutes': 123, 'rating': None, 'budget': 0}, {'movie_title': 'The Booksellers', 'domestic_total_gross': 25694, 'runtime_minutes': 99, 'rating': None, 'budget': 0}, {'movie_title': 'Promare', 'domestic_total_gross': 2313596, 'runtime_minutes': 111, 'rating': 'PG-13', 'budget': 0}, {'movie_title': 'Unsubscribe', 'domestic_total_gross': 25488, 'runtime_minutes': None, 'rating': None, 'budget': 0}, {'movie_title': 'Disappearance at Clifton Hill', 'domestic_total_gross': 25084, 'runtime_minutes': 100, 'rating': None, 'budget': 0}, {'movie_title': 'Zombi Child', 'domestic_total_gross': 25878, 'runtime_minutes': 103, 'rating': None, 'budget': 0}, {'movie_title': 'Heart of Africa', 'domestic_total_gross': 24139, 'runtime_minutes': 90, 'rating': None, 'budget': 0}, {'movie_title': 'Born to Be Wild', 'domestic_total_gross': 25978556, 'runtime_minutes': None, 'rating': None, 'budget': 0}, {'movie_title': 'Tread', 'domestic_total_gross': 36527, 'runtime_minutes': 89, 'rating': None, 'budget': 0}, {'movie_title': \"Branagh Theatre Live: The Winter's Tale\", 'domestic_total_gross': 141143, 'runtime_minutes': None, 'rating': None, 'budget': 0}, {'movie_title': 'Phoenix, Oregon Re', 'domestic_total_gross': 23613, 'runtime_minutes': 108, 'rating': 'R', 'budget': 0}, {'movie_title': 'Premature', 'domestic_total_gross': 23071, 'runtime_minutes': 90, 'rating': None, 'budget': 0}, {'movie_title': \"L'Innocente 2020 Re\", 'domestic_total_gross': 22549, 'runtime_minutes': 129, 'rating': None, 'budget': 0}, {'movie_title': 'Recorder: The Marion Stokes Project', 'domestic_total_gross': 55632, 'runtime_minutes': 87, 'rating': None, 'budget': 0}, {'movie_title': 'Les Misérables: The Staged Concert', 'domestic_total_gross': 459478, 'runtime_minutes': 145, 'rating': None, 'budget': 0}, {'movie_title': 'The Cordillera of Dreams', 'domestic_total_gross': 20943, 'runtime_minutes': 84, 'rating': None, 'budget': 0}, {'movie_title': 'Lore', 'domestic_total_gross': 20006, 'runtime_minutes': 109, 'rating': None, 'budget': 0}, {'movie_title': 'Max Winslow and the House of Secrets', 'domestic_total_gross': 18750, 'runtime_minutes': 98, 'rating': None, 'budget': 0}, {'movie_title': 'The Jesus Rolls', 'domestic_total_gross': 18169, 'runtime_minutes': 85, 'rating': 'R', 'budget': 0}, {'movie_title': 'Sorry We Missed You', 'domestic_total_gross': 28273, 'runtime_minutes': 101, 'rating': None, 'budget': 0}, {'movie_title': 'Downtown 81 2019 Re', 'domestic_total_gross': 122390, 'runtime_minutes': 72, 'rating': None, 'budget': 0}, {'movie_title': 'Pandora and the Flying Dutchman 2020 Re', 'domestic_total_gross': 17401, 'runtime_minutes': 122, 'rating': None, 'budget': 0}, {'movie_title': 'Made in Hong Kong 2020 Re', 'domestic_total_gross': 17255, 'runtime_minutes': 109, 'rating': None, 'budget': 0}, {'movie_title': 'Never Rarely Sometimes Always', 'domestic_total_gross': 16565, 'runtime_minutes': 101, 'rating': 'PG-13', 'budget': 0}, {'movie_title': 'Advocate', 'domestic_total_gross': 16942, 'runtime_minutes': 114, 'rating': None, 'budget': 0}, {'movie_title': 'A Beautiful Planet', 'domestic_total_gross': 15650615, 'runtime_minutes': None, 'rating': None, 'budget': 0}, {'movie_title': 'I Was at Home, But', 'domestic_total_gross': 14078, 'runtime_minutes': 105, 'rating': None, 'budget': 0}, {'movie_title': 'Strike', 'domestic_total_gross': 15758, 'runtime_minutes': 100, 'rating': None, 'budget': 0}, {'movie_title': 'The Cave', 'domestic_total_gross': 62625, 'runtime_minutes': 107, 'rating': 'PG-13', 'budget': 0}, {'movie_title': 'The Kingmaker', 'domestic_total_gross': 122587, 'runtime_minutes': 101, 'rating': 'R', 'budget': 0}, {'movie_title': 'Redoubt', 'domestic_total_gross': 33155, 'runtime_minutes': 134, 'rating': None, 'budget': 0}, {'movie_title': 'Young Ahmed Domestic', 'domestic_total_gross': 21291, 'runtime_minutes': 90, 'rating': None, 'budget': 0}, {'movie_title': 'Linda Ronstadt: The Sound of My Voice', 'domestic_total_gross': 4252657, 'runtime_minutes': 95, 'rating': 'PG-13', 'budget': 0}, {'movie_title': 'Straight Up', 'domestic_total_gross': 16080, 'runtime_minutes': 95, 'rating': None, 'budget': 0}, {'movie_title': 'Ballon', 'domestic_total_gross': 34222, 'runtime_minutes': 125, 'rating': None, 'budget': 0}, {'movie_title': 'The Wild Goose Lake', 'domestic_total_gross': 12573, 'runtime_minutes': 113, 'rating': None, 'budget': 0}, {'movie_title': 'You Go to My Head', 'domestic_total_gross': 10682, 'runtime_minutes': 116, 'rating': None, 'budget': 0}, {'movie_title': 'Playmobil: The Movie', 'domestic_total_gross': 1115008, 'runtime_minutes': 99, 'rating': 'PG', 'budget': 0}, {'movie_title': 'Vitalina Varela', 'domestic_total_gross': 14941, 'runtime_minutes': 124, 'rating': None, 'budget': 0}, {'movie_title': 'Foosballers', 'domestic_total_gross': 9966, 'runtime_minutes': 96, 'rating': None, 'budget': 0}, {'movie_title': 'The Perfect Race', 'domestic_total_gross': 29644, 'runtime_minutes': None, 'rating': None, 'budget': 0}, {'movie_title': 'Under the Sea 3D', 'domestic_total_gross': 36262926, 'runtime_minutes': None, 'rating': None, 'budget': 0}, {'movie_title': 'Kind Hearts and Coronets 2019 Re', 'domestic_total_gross': 35948, 'runtime_minutes': 106, 'rating': None, 'budget': 0}, {'movie_title': 'The Trip to Greece', 'domestic_total_gross': 8340, 'runtime_minutes': 103, 'rating': None, 'budget': 0}, {'movie_title': 'Inside the Rain', 'domestic_total_gross': 8140, 'runtime_minutes': 90, 'rating': None, 'budget': 0}, {'movie_title': 'The Wave', 'domestic_total_gross': 8101, 'runtime_minutes': 90, 'rating': 'R', 'budget': 0}, {'movie_title': 'Black and Blue', 'domestic_total_gross': 22055313, 'runtime_minutes': 108, 'rating': 'R', 'budget': 12000000}, {'movie_title': 'American Dharma', 'domestic_total_gross': 51891, 'runtime_minutes': 95, 'rating': 'R', 'budget': 0}, {'movie_title': 'Resistance', 'domestic_total_gross': 7464, 'runtime_minutes': None, 'rating': 'R', 'budget': 0}, {'movie_title': 'Circles', 'domestic_total_gross': 10260, 'runtime_minutes': 82, 'rating': None, 'budget': 0}, {'movie_title': 'Afterward', 'domestic_total_gross': 6477, 'runtime_minutes': 95, 'rating': None, 'budget': 0}, {'movie_title': 'Juvenile Delinquents', 'domestic_total_gross': 6312, 'runtime_minutes': None, 'rating': 'R', 'budget': 0}, {'movie_title': 'By the Grace of God', 'domestic_total_gross': 67059, 'runtime_minutes': 137, 'rating': None, 'budget': 0}, {'movie_title': 'Hubble 3D', 'domestic_total_gross': 52522904, 'runtime_minutes': None, 'rating': None, 'budget': 0}, {'movie_title': 'The Other Lamb', 'domestic_total_gross': 6024, 'runtime_minutes': 97, 'rating': None, 'budget': 0}, {'movie_title': 'Human Nature', 'domestic_total_gross': 5487, 'runtime_minutes': 95, 'rating': None, 'budget': 0}, {'movie_title': 'Matthias & Maxime', 'domestic_total_gross': 374739, 'runtime_minutes': 119, 'rating': None, 'budget': 0}, {'movie_title': 'Que Leones', 'domestic_total_gross': 822828, 'runtime_minutes': 96, 'rating': None, 'budget': 0}, {'movie_title': 'The Disappearance of My Mother', 'domestic_total_gross': 24951, 'runtime_minutes': 94, 'rating': None, 'budget': 0}, {'movie_title': 'Sympathy for the Devil', 'domestic_total_gross': 51150, 'runtime_minutes': 100, 'rating': None, 'budget': 0}, {'movie_title': 'Tremors', 'domestic_total_gross': 23911, 'runtime_minutes': 107, 'rating': None, 'budget': 0}, {'movie_title': 'Blood Widow', 'domestic_total_gross': 6047, 'runtime_minutes': 94, 'rating': None, 'budget': 0}, {'movie_title': 'Just One More Kiss', 'domestic_total_gross': 9130, 'runtime_minutes': 100, 'rating': None, 'budget': 0}, {'movie_title': 'Give Me Liberty', 'domestic_total_gross': 242734, 'runtime_minutes': 110, 'rating': None, 'budget': 0}, {'movie_title': 'Babyteeth', 'domestic_total_gross': 4507, 'runtime_minutes': 118, 'rating': None, 'budget': 0}, {'movie_title': 'Deep Sea', 'domestic_total_gross': 46412757, 'runtime_minutes': None, 'rating': 'G', 'budget': 0}, {'movie_title': 'Lost in America', 'domestic_total_gross': 11301, 'runtime_minutes': 105, 'rating': None, 'budget': 0}, {'movie_title': 'Stuffed', 'domestic_total_gross': 15532, 'runtime_minutes': 84, 'rating': None, 'budget': 0}, {'movie_title': 'Maiden', 'domestic_total_gross': 3168978, 'runtime_minutes': 97, 'rating': 'PG', 'budget': 0}, {'movie_title': 'Aquarela', 'domestic_total_gross': 307346, 'runtime_minutes': 90, 'rating': 'PG', 'budget': 0}, {'movie_title': 'A Bigger Splash 2019 Re', 'domestic_total_gross': 95826, 'runtime_minutes': 106, 'rating': None, 'budget': 0}, {'movie_title': 'The Roads Not Taken', 'domestic_total_gross': 3518, 'runtime_minutes': 85, 'rating': 'R', 'budget': 0}, {'movie_title': 'Mr. Klein Re', 'domestic_total_gross': 193028, 'runtime_minutes': 123, 'rating': None, 'budget': 0}, {'movie_title': 'Ága', 'domestic_total_gross': 35178, 'runtime_minutes': 96, 'rating': None, 'budget': 0}, {'movie_title': 'The Hottest August', 'domestic_total_gross': 9163, 'runtime_minutes': 94, 'rating': None, 'budget': 0}, {'movie_title': 'Killing Sarai', 'domestic_total_gross': 425332, 'runtime_minutes': 106, 'rating': 'R', 'budget': 0}, {'movie_title': 'Chinese Portrait', 'domestic_total_gross': 4140, 'runtime_minutes': 79, 'rating': None, 'budget': 0}, {'movie_title': 'Hustlers', 'domestic_total_gross': 104963598, 'runtime_minutes': 110, 'rating': 'R', 'budget': 20000000}, {'movie_title': 'The Truth', 'domestic_total_gross': 2777, 'runtime_minutes': 106, 'rating': 'PG', 'budget': 0}, {'movie_title': 'Sex and the Future', 'domestic_total_gross': 3502, 'runtime_minutes': 90, 'rating': None, 'budget': 0}, {'movie_title': 'Powerbomb', 'domestic_total_gross': 11319, 'runtime_minutes': 79, 'rating': None, 'budget': 0}, {'movie_title': 'Light from Light', 'domestic_total_gross': 24808, 'runtime_minutes': 82, 'rating': None, 'budget': 0}, {'movie_title': 'Moondance', 'domestic_total_gross': 2371, 'runtime_minutes': 97, 'rating': None, 'budget': 0}, {'movie_title': 'Goldie', 'domestic_total_gross': 2302, 'runtime_minutes': 88, 'rating': None, 'budget': 0}, {'movie_title': 'Duet for Cannibals 2019 re', 'domestic_total_gross': 12962, 'runtime_minutes': 105, 'rating': None, 'budget': 0}, {'movie_title': 'Little Joe', 'domestic_total_gross': 23862, 'runtime_minutes': 105, 'rating': None, 'budget': 0}, {'movie_title': 'Frankie', 'domestic_total_gross': 171781, 'runtime_minutes': 100, 'rating': 'PG-13', 'budget': 0}, {'movie_title': 'Christ Stopped at Eboli', 'domestic_total_gross': 78736, 'runtime_minutes': 150, 'rating': None, 'budget': 0}, {'movie_title': 'To the Arctic 3D', 'domestic_total_gross': 14560838, 'runtime_minutes': None, 'rating': 'G', 'budget': 0}, {'movie_title': 'Be Natural: The Untold Story of Alice Guy', 'domestic_total_gross': 115685, 'runtime_minutes': 103, 'rating': None, 'budget': 0}, {'movie_title': 'Edie', 'domestic_total_gross': 71790, 'runtime_minutes': 102, 'rating': None, 'budget': 0}, {'movie_title': 'End of the Century', 'domestic_total_gross': 66309, 'runtime_minutes': 84, 'rating': None, 'budget': 0}, {'movie_title': 'Space Station 3D', 'domestic_total_gross': 93383953, 'runtime_minutes': None, 'rating': None, 'budget': 0}, {'movie_title': 'Hai Tang Hong', 'domestic_total_gross': 1107, 'runtime_minutes': 90, 'rating': None, 'budget': 0}, {'movie_title': 'The Gliksmans', 'domestic_total_gross': 5166, 'runtime_minutes': 72, 'rating': None, 'budget': 0}, {'movie_title': \"King's Gambit\", 'domestic_total_gross': 3816, 'runtime_minutes': 105, 'rating': None, 'budget': 0}, {'movie_title': 'The Fox Hunter', 'domestic_total_gross': 1051, 'runtime_minutes': None, 'rating': None, 'budget': 0}, {'movie_title': 'Millennium Actress 2019 Re', 'domestic_total_gross': 225250, 'runtime_minutes': 87, 'rating': 'PG', 'budget': 0}, {'movie_title': 'The Transcendents', 'domestic_total_gross': 564, 'runtime_minutes': 96, 'rating': None, 'budget': 0}, {'movie_title': 'Spiral Farm', 'domestic_total_gross': 6517, 'runtime_minutes': 85, 'rating': None, 'budget': 0}, {'movie_title': 'A German Youth', 'domestic_total_gross': 2343, 'runtime_minutes': 93, 'rating': None, 'budget': 0}, {'movie_title': 'Hyenas', 'domestic_total_gross': 24672, 'runtime_minutes': 110, 'rating': None, 'budget': 0}, {'movie_title': 'Island of Lemurs: Madagascar', 'domestic_total_gross': 11272213, 'runtime_minutes': None, 'rating': None, 'budget': 0}, {'movie_title': 'I Do Not Care If We Go Down in History as Barbarians', 'domestic_total_gross': 11307, 'runtime_minutes': 140, 'rating': None, 'budget': 0}, {'movie_title': 'The Load', 'domestic_total_gross': 28410, 'runtime_minutes': 98, 'rating': None, 'budget': 0}, {'movie_title': 'Asako I & II', 'domestic_total_gross': 25559, 'runtime_minutes': 119, 'rating': None, 'budget': 0}, {'movie_title': 'Chained for Life', 'domestic_total_gross': 17431, 'runtime_minutes': 91, 'rating': None, 'budget': 0}, {'movie_title': 'Shooting the Mafia', 'domestic_total_gross': 10881, 'runtime_minutes': 94, 'rating': None, 'budget': 0}]\n"
   ]
  },
  {
   "cell_type": "markdown",
   "metadata": {},
   "source": [
    "### Metacritic Scores Search"
   ]
  },
  {
   "cell_type": "code",
   "execution_count": 21,
   "metadata": {},
   "outputs": [],
   "source": [
    "movie_titles = []\n",
    "\n",
    "for key in movie_dicts:\n",
    "    movie_titles.append(key['movie_title'])\n",
    "    \n",
    "movie_titles\n",
    "\n",
    "url = 'https://www.metacritic.com/'\n",
    "\n",
    "metascores = []\n",
    "audience_scores = []\n",
    "\n",
    "num_critics = []\n",
    "num_audience_ratings = []\n",
    "\n",
    "for title in movie_titles[:10]:\n",
    "    driver = webdriver.Chrome(chromedriver)\n",
    "    driver.get(url)\n",
    "    time.sleep(random.choice(sleepTimes))\n",
    "    search_box = driver.find_element_by_xpath('//*[@id=\"primary_search_box\"]')\n",
    "    search_box.clear()\n",
    "    search_box.send_keys(title)\n",
    "    time.sleep(random.choice(sleepTimes))\n",
    "    search_box.send_keys(Keys.RETURN)\n",
    "    time.sleep(random.choice(sleepTimes))\n",
    "    driver.find_element_by_xpath('//*[@id=\"main_content\"]/div[1]/div[3]/div[1]/ul/li[1]/div/div[2]/div/h3/a').click()\n",
    "    time.sleep(random.choice(sleepTimes))\n",
    "    try:\n",
    "        metascore = driver.find_element_by_xpath('//*[@id=\"main_content\"]/div[1]/div[1]/div/table/tbody/tr/td[2]/div/table/tbody/tr/td[1]/div/div/div[2]/table/tbody/tr/td[2]/a/span').text\n",
    "        metascores.append(metascore)\n",
    "        time.sleep(random.choice(sleepTimes))\n",
    "        audience_score = driver.find_element_by_xpath('//*[@id=\"main_content\"]/div[1]/div[1]/div/table/tbody/tr/td[2]/div/table/tbody/tr/td[1]/div/div/div[3]/div/table/tbody/tr/td[2]/a/span').text\n",
    "        audience_scores.append(audience_score)\n",
    "        time.sleep(random.choice(sleepTimes))\n",
    "        critic_string = driver.find_element_by_xpath('//*[@id=\"main_content\"]/div[1]/div[1]/div/table/tbody/tr/td[2]/div/table/tbody/tr/td[1]/div/div/div[2]/table/tbody/tr/td[1]/div[2]/span/a/span[2]').text\n",
    "        critic_count = int(''.join(filter(str.isdigit, critic_string)))\n",
    "        num_critics.append(critic_count)\n",
    "        time.sleep(random.choice(sleepTimes))\n",
    "        audience_count_string = driver.find_element_by_xpath('//*[@id=\"main_content\"]/div[1]/div[1]/div/table/tbody/tr/td[2]/div/table/tbody/tr/td[1]/div/div/div[3]/div/table/tbody/tr/td[1]/div[2]/span/a/span[2]').text\n",
    "        audience_count = int(''.join(filter(str.isdigit, audience_count_string)))\n",
    "        num_audience_ratings.append(audience_count)\n",
    "    except:\n",
    "        metascores.append('No score')\n",
    "        audience_scores.append('No score')\n",
    "        num_critics.append('No critics')\n",
    "        num_audience_ratings.append('No ratings')\n",
    "    driver.close()\n",
    "    \n",
    "score_titles = {}\n",
    "\n",
    "score_titles['metascores'] = metascores\n",
    "score_titles['audience rating'] = audience_scores\n",
    "score_titles['number of critics'] = num_critics\n",
    "score_titles['number of audience ratings'] = num_audience_ratings"
   ]
  },
  {
   "cell_type": "code",
   "execution_count": 22,
   "metadata": {},
   "outputs": [
    {
     "data": {
      "text/plain": [
       "{'metascores': ['59',\n",
       "  'No score',\n",
       "  '47',\n",
       "  'No score',\n",
       "  '53',\n",
       "  '60',\n",
       "  '26',\n",
       "  '87',\n",
       "  '72',\n",
       "  'No score'],\n",
       " 'audience rating': ['6.7',\n",
       "  'No score',\n",
       "  '8.3',\n",
       "  'No score',\n",
       "  '4.7',\n",
       "  '5.1',\n",
       "  '4.9',\n",
       "  '7.6',\n",
       "  '6.9',\n",
       "  'No score'],\n",
       " 'number of critics': [46,\n",
       "  'No critics',\n",
       "  42,\n",
       "  'No critics',\n",
       "  61,\n",
       "  59,\n",
       "  46,\n",
       "  23,\n",
       "  58,\n",
       "  'No critics'],\n",
       " 'number of audience ratings': [228,\n",
       "  'No ratings',\n",
       "  1096,\n",
       "  'No ratings',\n",
       "  4893,\n",
       "  1319,\n",
       "  148,\n",
       "  65,\n",
       "  431,\n",
       "  'No ratings']}"
      ]
     },
     "execution_count": 22,
     "metadata": {},
     "output_type": "execute_result"
    }
   ],
   "source": [
    "score_titles"
   ]
  },
  {
   "cell_type": "code",
   "execution_count": null,
   "metadata": {},
   "outputs": [],
   "source": [
    "url = 'https://www.boxofficemojo.com/year/2020/?ref_=bo_yl_table_1'\n",
    "\n",
    "#Request HTML and parse\n",
    "response = requests.get(url)\n",
    "page = response.text\n",
    "soup = BeautifulSoup(page,\"html5lib\")\n",
    "\n",
    "table = soup.find_all('table')\n",
    "df1 = pd.read_html(str(table))[0]\n",
    "df1 = df1.drop(['Rank', 'Estimated', 'Genre'], axis=1)\n",
    "df1"
   ]
  },
  {
   "cell_type": "code",
   "execution_count": null,
   "metadata": {},
   "outputs": [],
   "source": [
    "df = pd.DataFrame(dicts)\n",
    "df"
   ]
  },
  {
   "cell_type": "code",
   "execution_count": null,
   "metadata": {},
   "outputs": [],
   "source": [
    "df.columns = ['Movie Title', 'Domestic Gross', 'Runtime (mins)', 'Rating', 'Release Date', 'Budget']\n",
    "df"
   ]
  },
  {
   "cell_type": "code",
   "execution_count": null,
   "metadata": {},
   "outputs": [],
   "source": [
    "rating_one_hot = pd.get_dummies(df['Rating'])\n",
    "frames = [df, rating_one_hot]\n",
    "\n",
    "df_ratings = df.merge(rating_one_hot, left_index=True, right_index=True).drop(columns='Rating')\n",
    "df_ratings"
   ]
  },
  {
   "cell_type": "code",
   "execution_count": null,
   "metadata": {},
   "outputs": [],
   "source": [
    "# sns.heatmap(df_ratings, vmin=-1, vmax=1)\n",
    "sns.pairplot(df_ratings)"
   ]
  },
  {
   "cell_type": "code",
   "execution_count": null,
   "metadata": {},
   "outputs": [],
   "source": [
    "df_ratings"
   ]
  },
  {
   "cell_type": "code",
   "execution_count": null,
   "metadata": {},
   "outputs": [],
   "source": [
    "plt.figure(figsize=[20, 20])\n",
    "sns.jointplot(df_ratings['Domestic Gross'], df_ratings['Budget']);"
   ]
  },
  {
   "cell_type": "code",
   "execution_count": null,
   "metadata": {},
   "outputs": [],
   "source": [
    "from sklearn.model_selection import train_test_split\n",
    "from sklearn.linear_model import LinearRegression"
   ]
  },
  {
   "cell_type": "code",
   "execution_count": null,
   "metadata": {},
   "outputs": [],
   "source": [
    "X = df_ratings.loc[df_ratings['domestic_total_gross'],\n",
    "               df_ratings['runtime_minutes']]\n",
    "y = df_ratings['Budget']"
   ]
  },
  {
   "cell_type": "code",
   "execution_count": null,
   "metadata": {},
   "outputs": [],
   "source": []
  }
 ],
 "metadata": {
  "kernelspec": {
   "display_name": "Python 3",
   "language": "python",
   "name": "python3"
  },
  "language_info": {
   "codemirror_mode": {
    "name": "ipython",
    "version": 3
   },
   "file_extension": ".py",
   "mimetype": "text/x-python",
   "name": "python",
   "nbconvert_exporter": "python",
   "pygments_lexer": "ipython3",
   "version": "3.7.6"
  }
 },
 "nbformat": 4,
 "nbformat_minor": 4
}
