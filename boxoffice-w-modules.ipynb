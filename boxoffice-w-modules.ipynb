{
 "cells": [
  {
   "cell_type": "markdown",
   "metadata": {},
   "source": [
    "Imports"
   ]
  },
  {
   "cell_type": "code",
   "execution_count": 1,
   "metadata": {},
   "outputs": [],
   "source": [
    "from bs4 import BeautifulSoup\n",
    "import requests\n",
    "import time, os\n",
    "import pandas as pd\n",
    "import re\n",
    "import seaborn as sns\n",
    "import matplotlib.pyplot as plt\n",
    "import functions\n",
    "\n",
    "from urllib.parse import urljoin\n",
    "from selenium import webdriver\n",
    "from selenium.webdriver.common.by import By\n",
    "from selenium.webdriver.common.keys import Keys\n",
    "from selenium.webdriver.support.ui import WebDriverWait\n",
    "from selenium.webdriver.support import expected_conditions as EC\n",
    "\n",
    "chromedriver = \"/usr/bin/chromedriver\" # path to the chromedriver executable\n",
    "os.environ[\"webdriver.chrome.driver\"] = chromedriver"
   ]
  },
  {
   "cell_type": "markdown",
   "metadata": {},
   "source": [
    "Request Info"
   ]
  },
  {
   "cell_type": "code",
   "execution_count": 2,
   "metadata": {},
   "outputs": [],
   "source": [
    "link = '/year/2020/?ref_=bo_yl_table_1'\n",
    "base_url = 'https://www.boxofficemojo.com'\n",
    "\n",
    "from urllib.parse import urljoin\n",
    "url = urljoin(base_url, link)\n",
    "\n",
    "\n"
   ]
  },
  {
   "cell_type": "markdown",
   "metadata": {},
   "source": [
    "Money to int, runtime to minutes, date to datestring function "
   ]
  },
  {
   "cell_type": "code",
   "execution_count": 3,
   "metadata": {},
   "outputs": [],
   "source": [
    "# # driver.find_element_by_xpath('/html/body/div[1]/main/div/div/div[2]/div/table[2]/tbody/tr[2]/td[2]/a').click()\n",
    "# i = 2\n",
    "# driver = webdriver.Chrome(chromedriver)\n",
    "# driver.get(url)\n",
    "# wait = WebDriverWait(driver, 10)\n",
    "# while i < 269:\n",
    "#     driver.find_element_by_xpath('//*[@id=\"a-page\"]/main/div/div[3]/div[4]/div[2]/span[2]/a'.format(i)).click()\n",
    "#     wait\n",
    "#     get_movie_dict(driver.current_url)\n",
    "#     i += 1\n",
    "#     driver.execute_script(\"window.history.go(-1)\")\n",
    "#     wait"
   ]
  },
  {
   "cell_type": "code",
   "execution_count": null,
   "metadata": {},
   "outputs": [],
   "source": [
    "i = 2\n",
    "driver = webdriver.Chrome(chromedriver)\n",
    "driver.get(url)\n",
    "response = requests.get(url)\n",
    "page = response.text\n",
    "soup = BeautifulSoup(page, 'lxml')\n",
    "wait = WebDriverWait(driver, 10)\n",
    "\n",
    "movie_dicts = []\n",
    "\n",
    "while i < 269:\n",
    "        driver.find_element_by_xpath('//*[@id=\"table\"]/div/table[2]/tbody/tr[{}]/td[2]/a'.format(i)).click()\n",
    "        WebDriverWait(driver, 10)\n",
    "        time.sleep(5)\n",
    "        current_movie = functions.get_selenium_dict(driver)\n",
    "        WebDriverWait(driver, 10)\n",
    "        WebDriverWait(driver, 10)\n",
    "        movie_dicts.append(current_movie)\n",
    "        i += 1\n",
    "        WebDriverWait(driver, 10)\n",
    "        driver.back()\n",
    "        \n",
    "movie_dicts"
   ]
  },
  {
   "cell_type": "code",
   "execution_count": 5,
   "metadata": {},
   "outputs": [
    {
     "ename": "NameError",
     "evalue": "name 'get_movie_dict2' is not defined",
     "output_type": "error",
     "traceback": [
      "\u001b[0;31m---------------------------------------------------------------------------\u001b[0m",
      "\u001b[0;31mNameError\u001b[0m                                 Traceback (most recent call last)",
      "\u001b[0;32m<ipython-input-5-c60a990463bc>\u001b[0m in \u001b[0;36m<module>\u001b[0;34m\u001b[0m\n\u001b[1;32m     55\u001b[0m \u001b[0;34m\u001b[0m\u001b[0m\n\u001b[1;32m     56\u001b[0m \u001b[0;32mfor\u001b[0m \u001b[0mlink\u001b[0m \u001b[0;32min\u001b[0m \u001b[0mtomato_links\u001b[0m\u001b[0;34m:\u001b[0m\u001b[0;34m\u001b[0m\u001b[0;34m\u001b[0m\u001b[0m\n\u001b[0;32m---> 57\u001b[0;31m     \u001b[0mtom_dicts\u001b[0m\u001b[0;34m.\u001b[0m\u001b[0mappend\u001b[0m\u001b[0;34m(\u001b[0m\u001b[0mget_movie_dict2\u001b[0m\u001b[0;34m(\u001b[0m\u001b[0;34m'/m/{}'\u001b[0m\u001b[0;34m.\u001b[0m\u001b[0mformat\u001b[0m\u001b[0;34m(\u001b[0m\u001b[0mlink\u001b[0m\u001b[0;34m)\u001b[0m\u001b[0;34m)\u001b[0m\u001b[0;34m)\u001b[0m\u001b[0;34m\u001b[0m\u001b[0;34m\u001b[0m\u001b[0m\n\u001b[0m\u001b[1;32m     58\u001b[0m \u001b[0;34m\u001b[0m\u001b[0m\n\u001b[1;32m     59\u001b[0m \u001b[0mtom_dicts\u001b[0m\u001b[0;34m\u001b[0m\u001b[0;34m\u001b[0m\u001b[0m\n",
      "\u001b[0;31mNameError\u001b[0m: name 'get_movie_dict2' is not defined"
     ]
    }
   ],
   "source": [
    "tom_dicts = []\n",
    "\n",
    "tomato_links = [\n",
    "        'bad_boys_for_life',\n",
    "        '1917_2019',\n",
    "        'sonic_the_hedgehog_2020',\n",
    "        'jumanji_the_next_level',\n",
    "        'star_wars_the_rise_of_skywalker',\n",
    "        'birds_of_prey_2020',\n",
    "        'dolittle',\n",
    "        'little_women_2019',\n",
    "        'the_invisible_man_2020',\n",
    "        'the_call_of_the_wild_2020',\n",
    "        'onward',\n",
    "        'knives_out',\n",
    "        'frozen_ii',\n",
    "        'spies_in_disguise',\n",
    "        'the_gentlemen',\n",
    "        'just_mercy',\n",
    "        'parasite_2019',\n",
    "        'fantasy_island_2020',\n",
    "        'uncut_gems',\n",
    "        'like_a_boss',\n",
    "        'the_grudge_2020',\n",
    "        'the_photograph_2020',\n",
    "        'underwater_2020',\n",
    "        'the_turning_2020',\n",
    "        'gretel_and_hansel',\n",
    "        'my_hero_academia_hero_heroes_rising',\n",
    "        'bombshell_2019',\n",
    "        'the_way_back_2020',\n",
    "        'brahms_the_boy_ii',\n",
    "        'jojo_rabbit',\n",
    "        'impractical_jokers_the_movie',\n",
    "        'ford_v_ferrari',\n",
    "        'emma_2020',\n",
    "        'bloodshot_2020',\n",
    "        'i_still_believe',\n",
    "        'downhill_2020',\n",
    "        'weathering_with_you',\n",
    "        'cats_2019',\n",
    "        'the_hunt_2019',\n",
    "        'the_rhythm_section',\n",
    "        'a_beautiful_day_in_the_neighborhood',\n",
    "        'richard_jewell',\n",
    "        'portrait_of_a_lady_on_fire',\n",
    "        '2020_oscar_nominated_shorts_animation',\n",
    "        'queen_and_slim',\n",
    "        '2020_oscar_nominated_shorts_live_action',\n",
    "        'the_last_full_measure',\n",
    "        'ip_man_4_the_finale',\n",
    "        'the_wretched_2020',\n",
    "        'joker_2019',\n",
    "]\n",
    "\n",
    "for link in tomato_links:\n",
    "    tom_dicts.append(get_movie_dict2('/m/{}'.format(link)))\n",
    "    \n",
    "tom_dicts"
   ]
  },
  {
   "cell_type": "code",
   "execution_count": null,
   "metadata": {},
   "outputs": [],
   "source": [
    "mojo_links = [ \n",
    "        'rl1182631425',\n",
    "        'rl2969994753',\n",
    "        'rl4244997633',\n",
    "        'rl755467777',\n",
    "        'rl3305145857',\n",
    "        'rl3640886785',\n",
    "        'rl2164295169',\n",
    "        'rl218596865',\n",
    "        'rl50628097',\n",
    "        'rl2533524993',\n",
    "        'rl3433267713',\n",
    "        'rl3204875777',\n",
    "        'rl2424210945',\n",
    "        'rl1333691905',\n",
    "        'rl3473442305',\n",
    "        'rl419792385',\n",
    "        'rl1258849793',\n",
    "        'rl1611040257',\n",
    "        'rl3825763841',\n",
    "        'rl4278486529',\n",
    "        'rl1745126913',\n",
    "        'rl1655931393',\n",
    "        'rl302548481',\n",
    "        'rl3020195329',\n",
    "        'rl3842541057',\n",
    "        'rl867926529',\n",
    "        'rl2550760961',\n",
    "        'rl4127819265',\n",
    "        'rl2567538177',\n",
    "        'rl2030601729',\n",
    "        'rl2998501889',\n",
    "        'rl990348801',\n",
    "        'rl3221784065',\n",
    "        'rl235374081',\n",
    "        'rl1628014081',\n",
    "        'rl2611249665',\n",
    "        'rl3669066241',\n",
    "        'rl2684847617',\n",
    "        'rl1459979777',\n",
    "        'rl3775038977',\n",
    "        'rl2651096577',\n",
    "        'rl2903213569',\n",
    "        'rl1325958657',\n",
    "        'rl615875073'\n",
    "        'rl50824705',\n",
    "        'rl537298433',\n",
    "        'rl1617987073',\n",
    "        'rl1386316289',\n",
    "        'rl716997121',\n",
    "        'rl252151297'\n",
    "        ]\n",
    "\n",
    "dicts = []\n",
    "\n",
    "for link in mojo_links:\n",
    "    dicts.append(get_movie_dict('/release/{}/'.format(link)))\n",
    "\n",
    "dicts"
   ]
  },
  {
   "cell_type": "code",
   "execution_count": null,
   "metadata": {},
   "outputs": [],
   "source": [
    "url = 'https://www.boxofficemojo.com/year/2020/?ref_=bo_yl_table_1'\n",
    "\n",
    "#Request HTML and parse\n",
    "response = requests.get(url)\n",
    "page = response.text\n",
    "soup = BeautifulSoup(page,\"html5lib\")\n",
    "\n",
    "table = soup.find_all('table')\n",
    "df1 = pd.read_html(str(table))[0]\n",
    "df1 = df1.drop(['Rank', 'Estimated', 'Genre'], axis=1)\n",
    "df1"
   ]
  },
  {
   "cell_type": "code",
   "execution_count": null,
   "metadata": {},
   "outputs": [],
   "source": [
    "df = pd.DataFrame(dicts)\n",
    "df"
   ]
  },
  {
   "cell_type": "code",
   "execution_count": null,
   "metadata": {},
   "outputs": [],
   "source": [
    "df.columns = ['Movie Title', 'Domestic Gross', 'Runtime (mins)', 'Rating', 'Release Date', 'Budget']\n",
    "df"
   ]
  },
  {
   "cell_type": "code",
   "execution_count": null,
   "metadata": {},
   "outputs": [],
   "source": [
    "rating_one_hot = pd.get_dummies(df['Rating'])\n",
    "frames = [df, rating_one_hot]\n",
    "\n",
    "df_ratings = df.merge(rating_one_hot, left_index=True, right_index=True).drop(columns='Rating')\n",
    "df_ratings"
   ]
  },
  {
   "cell_type": "code",
   "execution_count": null,
   "metadata": {},
   "outputs": [],
   "source": [
    "# sns.heatmap(df_ratings, vmin=-1, vmax=1)\n",
    "sns.pairplot(df_ratings)"
   ]
  },
  {
   "cell_type": "code",
   "execution_count": null,
   "metadata": {},
   "outputs": [],
   "source": [
    "df_ratings"
   ]
  },
  {
   "cell_type": "code",
   "execution_count": null,
   "metadata": {},
   "outputs": [],
   "source": [
    "plt.figure(figsize=[20, 20])\n",
    "sns.jointplot(df_ratings['Domestic Gross'], df_ratings['Budget']);"
   ]
  },
  {
   "cell_type": "code",
   "execution_count": null,
   "metadata": {},
   "outputs": [],
   "source": [
    "from sklearn.model_selection import train_test_split\n",
    "from sklearn.linear_model import LinearRegression"
   ]
  },
  {
   "cell_type": "code",
   "execution_count": null,
   "metadata": {},
   "outputs": [],
   "source": [
    "X = df_ratings.loc[df_ratings['domestic_total_gross'],\n",
    "               df_ratings['runtime_minutes']]\n",
    "y = df_ratings['Budget']"
   ]
  },
  {
   "cell_type": "code",
   "execution_count": null,
   "metadata": {},
   "outputs": [],
   "source": []
  }
 ],
 "metadata": {
  "kernelspec": {
   "display_name": "Python 3",
   "language": "python",
   "name": "python3"
  },
  "language_info": {
   "codemirror_mode": {
    "name": "ipython",
    "version": 3
   },
   "file_extension": ".py",
   "mimetype": "text/x-python",
   "name": "python",
   "nbconvert_exporter": "python",
   "pygments_lexer": "ipython3",
   "version": "3.7.6"
  }
 },
 "nbformat": 4,
 "nbformat_minor": 4
}
