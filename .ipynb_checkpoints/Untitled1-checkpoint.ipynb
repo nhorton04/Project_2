{
 "cells": [
  {
   "cell_type": "code",
   "execution_count": 30,
   "metadata": {},
   "outputs": [],
   "source": [
    "scores = {}\n",
    "scores['metascores'] = ['59', '78', '47', '58'] \n",
    "scores['audience_scores'] = ['6.7', '8.4', '8.3', '6.4'] \n",
    "scores['critic_count'] = ['based on 46 Critic Reviews', 'based on 57 Critic Reviews', 'based on 42 Critic Reviews', 'based on 37 Critic Reviews'] \n",
    "scores['num_audience_ratings'] = ['based on 228 Ratings', 'based on 722 Ratings', 'based on 1097 Ratings', 'based on 263 Ratings']\n",
    "scores\n",
    "\n",
    "scores['metascores'] += ['53', '60', '26', '87', '72', '47', '61', '82', '64', '54', '51', '68', '96', '22', '90', '33', '48', '32', '48', '45', '64', '70', '64', '66', '29', '58', '39', '81', '71', '44', '41', '49', '72', '32', '50', '45'] \n",
    "scores['audience_scores'] += ['4.7', '5.1', '4.9', '7.6', '6.9', '6.3', '7.1', '7.6', '6.9', '6.9', '7.9', '7.2', '8.9', '4.3', '7.2', '3.1', '7.5', '4.2', '6.3', '7.9', '4.8', '8.6', '6.2', '7.0', '4.2', '7.8', '7.0', '8.3', '6.2', '5.1', '5.8', '4.3', '8.3', '5.5', '6.3', '4.0'] \n",
    "scores['critic_count'] += ['based on 61 Critic Reviews', 'based on 59 Critic Reviews', 'based on 46 Critic Reviews', 'based on 23 Critic Reviews', 'based on 58 Critic Reviews', 'based on 43 Critic Reviews', 'based on 56 Critic Reviews', 'based on 52 Critic Reviews', 'based on 47 Critic Reviews', 'based on 22 Critic Reviews', 'based on 44 Critic Reviews', 'based on 50 Critic Reviews', 'based on 52 Critic Reviews', 'based on 29 Critic Reviews', 'based on 56 Critic Reviews', 'based on 31 Critic Reviews', 'based on 22 Critic Reviews', 'based on 10 Critic Reviews', 'based on 37 Critic Reviews', 'based on 4 Critic Reviews', 'based on 17 Critic Reviews', 'based on 9 Critic Reviews', 'based on 46 Critic Reviews', 'based on 40 Critic Reviews', 'based on 13 Critic Reviews', 'based on 57 Critic Reviews', 'based on 5 Critic Reviews', 'based on 47 Critic Reviews', 'based on 47 Critic Reviews', 'based on 35 Critic Reviews', 'based on 12 Critic Reviews', 'based on 39 Critic Reviews', 'based on 30 Critic Reviews', 'based on 51 Critic Reviews', 'based on 45 Critic Reviews', 'based on 36 Critic Reviews'] \n",
    "scores['num_audience_ratings'] += ['based on 4896 Ratings', 'based on 1327 Ratings', 'based on 148 Ratings', 'based on 65 Ratings', 'based on 431 Ratings', 'based on 77 Ratings', 'based on 298 Ratings', 'based on 809 Ratings', 'based on 458 Ratings', 'based on 71 Ratings', 'based on 349 Ratings', 'based on 100 Ratings', 'based on 1312 Ratings', 'based on 80 Ratings', 'based on 510 Ratings', 'based on 38 Ratings', 'based on 40 Ratings', 'based on 6 Ratings', 'based on 162 Ratings', 'based on 7 Ratings', 'based on 104 Ratings', 'based on 40 Ratings', 'based on 141 Ratings', 'based on 72 Ratings', 'based on 40 Ratings', 'based on 576 Ratings', 'based on 16 Ratings', 'based on 547 Ratings', 'based on 73 Ratings', 'based on 152 Ratings', 'based on 32 Ratings', 'based on 35 Ratings', 'based on 75 Ratings', 'based on 486 Ratings', 'based on 180 Ratings', 'based on 38 Ratings']\n",
    "\n",
    "scores['metascores'] += ['80', '68', '95', '74'] \n",
    "scores['audience_scores'] += ['7.2', '7.5', '8.6', '6.1'] \n",
    "scores['critic_count'] += ['based on 50 Critic Reviews', 'based on 45 Critic Reviews', 'based on 47 Critic Reviews', 'based on 43 Critic Reviews'] \n",
    "scores['num_audience_ratings'] += ['based on 167 Ratings', 'based on 138 Ratings', 'based on 235 Ratings', 'based on 91 Ratings']\n",
    "\n"
   ]
  },
  {
   "cell_type": "markdown",
   "metadata": {},
   "source": [
    "# --- go back and change midway rating, did the wrong movie ---"
   ]
  },
  {
   "cell_type": "code",
   "execution_count": 31,
   "metadata": {},
   "outputs": [
    {
     "data": {
      "text/plain": [
       "['', '859923']"
      ]
     },
     "execution_count": 31,
     "metadata": {},
     "output_type": "execute_result"
    }
   ],
   "source": [
    "new_list = []\n",
    "\n",
    "for entry in dicct:\n",
    "#     dicct[entry] = int(''.join(filter(str.isdigit, dicct[entry])))\n",
    "    new_list.append((''.join(filter(str.isdigit, dicct[entry]))))\n",
    "                        \n",
    "new_list"
   ]
  },
  {
   "cell_type": "code",
   "execution_count": 36,
   "metadata": {},
   "outputs": [],
   "source": [
    "metascores = [[int(''.join(filter(str.isdigit, i))) for i in scores['metascores']]] \n",
    "audience_scores = [[float(''.join(filter(str.isdigit, i))) for i in scores['audience_scores']]] \n",
    "critic_count = [[int(''.join(filter(str.isdigit, i))) for i in scores['critic_count']]] \n",
    "num_audience_ratings = [[int(''.join(filter(str.isdigit, i))) for i in scores['num_audience_ratings']]] "
   ]
  },
  {
   "cell_type": "code",
   "execution_count": 38,
   "metadata": {},
   "outputs": [
    {
     "data": {
      "text/plain": [
       "['based on 46 Critic Reviews',\n",
       " 'based on 57 Critic Reviews',\n",
       " 'based on 42 Critic Reviews',\n",
       " 'based on 37 Critic Reviews',\n",
       " 'based on 61 Critic Reviews',\n",
       " 'based on 59 Critic Reviews',\n",
       " 'based on 46 Critic Reviews',\n",
       " 'based on 23 Critic Reviews',\n",
       " 'based on 58 Critic Reviews',\n",
       " 'based on 43 Critic Reviews',\n",
       " 'based on 56 Critic Reviews',\n",
       " 'based on 52 Critic Reviews',\n",
       " 'based on 47 Critic Reviews',\n",
       " 'based on 22 Critic Reviews',\n",
       " 'based on 44 Critic Reviews',\n",
       " 'based on 50 Critic Reviews',\n",
       " 'based on 52 Critic Reviews',\n",
       " 'based on 29 Critic Reviews',\n",
       " 'based on 56 Critic Reviews',\n",
       " 'based on 31 Critic Reviews',\n",
       " 'based on 22 Critic Reviews',\n",
       " 'based on 10 Critic Reviews',\n",
       " 'based on 37 Critic Reviews',\n",
       " 'based on 4 Critic Reviews',\n",
       " 'based on 17 Critic Reviews',\n",
       " 'based on 9 Critic Reviews',\n",
       " 'based on 46 Critic Reviews',\n",
       " 'based on 40 Critic Reviews',\n",
       " 'based on 13 Critic Reviews',\n",
       " 'based on 57 Critic Reviews',\n",
       " 'based on 5 Critic Reviews',\n",
       " 'based on 47 Critic Reviews',\n",
       " 'based on 47 Critic Reviews',\n",
       " 'based on 35 Critic Reviews',\n",
       " 'based on 12 Critic Reviews',\n",
       " 'based on 39 Critic Reviews',\n",
       " 'based on 30 Critic Reviews',\n",
       " 'based on 51 Critic Reviews',\n",
       " 'based on 45 Critic Reviews',\n",
       " 'based on 36 Critic Reviews',\n",
       " 'based on 50 Critic Reviews',\n",
       " 'based on 45 Critic Reviews',\n",
       " 'based on 47 Critic Reviews',\n",
       " 'based on 43 Critic Reviews']"
      ]
     },
     "execution_count": 38,
     "metadata": {},
     "output_type": "execute_result"
    }
   ],
   "source": [
    "scores['critic_count']\n",
    "##critic_count = [[int(''.join(filter(str.isdigit, i))) for i in scores['metascores']]] "
   ]
  },
  {
   "cell_type": "markdown",
   "metadata": {},
   "source": [
    "## for comparsion: in notebook, older version: lots of 'no score's\n",
    "\n",
    "Current Title: Color Out of Space\n",
    "[46, 78, 'No score', 51, 'No score', 'No score', 87, 'No score', 43, 'No score', 'No score', 'No score', 22, 70] [52.0, 77.0, 'No score', 60.0, 'No score', 'No score', 79.0, 'No score', 62.0, 'No score', 'No score', 'No score', 48.0, 63.0] [7, 43, 'No critics', 32, 'No critics', 'No critics', 43, 'No critics', 40, 'No critics', 'No critics', 'No critics', 17, 28] [58, 60, 'No ratings', 60, 'No ratings', 'No ratings', 110, 'No ratings', 198, 'No audience ratings', 'No audience ratings', 'No ratings', 175, 97]\n",
    "Color Out of Space\n",
    "Current Title: Harriet"
   ]
  },
  {
   "cell_type": "code",
   "execution_count": null,
   "metadata": {},
   "outputs": [],
   "source": []
  }
 ],
 "metadata": {
  "kernelspec": {
   "display_name": "Python 3",
   "language": "python",
   "name": "python3"
  },
  "language_info": {
   "codemirror_mode": {
    "name": "ipython",
    "version": 3
   },
   "file_extension": ".py",
   "mimetype": "text/x-python",
   "name": "python",
   "nbconvert_exporter": "python",
   "pygments_lexer": "ipython3",
   "version": "3.7.6"
  }
 },
 "nbformat": 4,
 "nbformat_minor": 4
}
