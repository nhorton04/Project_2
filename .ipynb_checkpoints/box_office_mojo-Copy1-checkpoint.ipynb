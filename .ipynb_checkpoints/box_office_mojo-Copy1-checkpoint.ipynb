{
 "cells": [
  {
   "cell_type": "markdown",
   "metadata": {},
   "source": [
    "# Web Scraping: BeautifulSoup\n",
    "_Collecting data from the internet and parsing it into meaningful (often tabular) form._\n",
    "\n",
    "### Docs\n",
    "\n",
    "- [BeautifulSoup documentation](https://www.crummy.com/software/BeautifulSoup/bs4/doc/)\n",
    "\n",
    "### Installation\n",
    "\n",
    "If not using the Metis kernel, please install the following libraries\n",
    "\n",
    "With conda:\n",
    "- `conda install beautifulsoup4 requests lxml html5lib`\n",
    "\n",
    "With pip:\n",
    "- `pip install beautifulsoup4 requests lxml html5lib`\n",
    "\n",
    "If you have installed everything correctly, you should now be able to import these libraries. (You may need to shutdown and restart this notebook for BeautifulSoup to recognize the `lxml` and `html5lib` parsers.)"
   ]
  },
  {
   "cell_type": "code",
   "execution_count": 1,
   "metadata": {},
   "outputs": [],
   "source": [
    "from bs4 import BeautifulSoup\n",
    "import requests\n",
    "import time, os\n",
    "import pandas as pd\n",
    "\n",
    "from selenium import webdriver\n",
    "from selenium.webdriver.common.keys import Keys\n",
    "\n",
    "chromedriver = \"/usr/bin/chromedriver\" # path to the chromedriver executable\n",
    "os.environ[\"webdriver.chrome.driver\"] = chromedriver"
   ]
  },
  {
   "cell_type": "markdown",
   "metadata": {},
   "source": [
    "## What is BeautifulSoup?\n",
    "\n",
    "- Python library\n",
    "- **HTML parser**:  Interprets structure of HTML file \n",
    "- Does not actually get pages from the web.  Use `requests` library for that.\n",
    "\n",
    "<br>\n",
    "<img src=\"images/web_scraping_pipeline.png\" alt=\"Web Scraping Pipeline\" style=\"width: 650px;\"/>"
   ]
  },
  {
   "cell_type": "markdown",
   "metadata": {},
   "source": [
    "## Intro to HTML\n",
    "\n",
    "_Basic language used to create a webpage._\n",
    "\n",
    "- Tells browser what, where, and how to display text, images, and other media\n",
    "- Structured, hierarchical nature \n",
    "- Comprised of \"elements\" with properties"
   ]
  },
  {
   "cell_type": "markdown",
   "metadata": {},
   "source": [
    "Example HTML element\n",
    "```html\n",
    "<tag-name attr1=\"value of attr1\" attr2=\"value of attr2\" .... attrN=\"value of attrN\">\n",
    "    Inner text of the tag\n",
    "</tag-name>\n",
    "```"
   ]
  },
  {
   "cell_type": "markdown",
   "metadata": {},
   "source": [
    "### Tags,  `<tag-name>`\n",
    "\n",
    "- Elements are labeled with tags\n",
    "- Tells us what type of \"thing\" to render\n",
    "\n",
    "    \n",
    "| Tag | Use\n",
    "|---          | ---|\n",
    "|`h1`, `h2`, ..., `h6`| headers|\n",
    "|`p`| paragraphs |\n",
    "|`a`| anchors (e.g. links) |\n",
    "|`div`| divisions (or sections) of a page |\n",
    "|`img`| images |\n",
    "|`li` | list items |\n"
   ]
  },
  {
   "cell_type": "markdown",
   "metadata": {},
   "source": [
    "### Attributes, `attr1`\n",
    "\n",
    "- Special properties we want this tag to have\n",
    "- Typically appear as `attribute name = \"attribute value\"` pair\n",
    "\n",
    "| Attribute | Use | Notes\n",
    "|---   | ---       | ---|\n",
    "|`href` | hyperlink reference | Clicking this element directs user to value url|\n",
    "|`class`| style class | Many elements may have same class |\n",
    "|`id`| unique identifier | Only one element per id! |\n",
    "|`style`| extra element styling | Bad practice, use css instead |"
   ]
  },
  {
   "cell_type": "markdown",
   "metadata": {},
   "source": [
    "### Inner HTML Text\n",
    "\n",
    "- Text that appears between tags\n",
    "- Often the information we want to extract during web scraping"
   ]
  },
  {
   "cell_type": "markdown",
   "metadata": {},
   "source": [
    "### HTML Structure\n",
    "\n",
    "A full HTML document has a structure similar to this:\n",
    "\n",
    "```html\n",
    "<html> \n",
    "  <head> </head>\n",
    "  <body>\n",
    "     <h1>This is a header</h1>\n",
    "     <p style=\"color:red;\" id=\"learning_paragraph\">You are learning HTML</p>\n",
    "     <a href=\"www.google.com\">A link to Google</a>\n",
    "  </body>\n",
    "</html>\n",
    "```"
   ]
  },
  {
   "cell_type": "markdown",
   "metadata": {},
   "source": [
    "**QUESTIONS**\n",
    "> How many elements do we have within the HTML body?  What are their tags?"
   ]
  },
  {
   "cell_type": "markdown",
   "metadata": {},
   "source": [
    "> What is the inner HTML of the header element?"
   ]
  },
  {
   "cell_type": "markdown",
   "metadata": {},
   "source": [
    "> What attribute(s) does the paragraph have?  And the attribute value(s)?"
   ]
  },
  {
   "cell_type": "markdown",
   "metadata": {},
   "source": [
    "Saving this code as a .html file and opening it in a browser should yield:\n",
    "\n",
    "<br>\n",
    "<img src=\"images/example_html.png\" alt=\"Rendering of Example HTML\" style=\"width: 300px;\" align=\"left\"/>"
   ]
  },
  {
   "cell_type": "markdown",
   "metadata": {},
   "source": [
    "## Learn to Scrape with Dummy HTML\n",
    "\n",
    "Let's begin learning how to scrape by working with some dummy HTML, written below as a string."
   ]
  },
  {
   "cell_type": "code",
   "execution_count": 2,
   "metadata": {},
   "outputs": [],
   "source": [
    "my_html = \"\"\"\n",
    "<html>\n",
    "\n",
    "<head>\n",
    "</head>\n",
    "\n",
    "<body>\n",
    "    <div style=\"border: 1px solid\">\n",
    "        There isn't much in this file, except a list of to-do items. \n",
    "        <ul>\n",
    "          <li>Make coffee</li>\n",
    "          <li>Sweep the floor</li>\n",
    "          <li>Go to the store</li>\n",
    "          <li>Write BeautifulSoup lecture</li>\n",
    "        </ul>\n",
    "    </div>\n",
    "</body>\n",
    "\n",
    "</html>\n",
    "\"\"\""
   ]
  },
  {
   "cell_type": "markdown",
   "metadata": {},
   "source": [
    "Let's take a look at this simple webpage."
   ]
  },
  {
   "cell_type": "code",
   "execution_count": 3,
   "metadata": {},
   "outputs": [
    {
     "data": {
      "text/html": [
       "\n",
       "<html>\n",
       "\n",
       "<head>\n",
       "</head>\n",
       "\n",
       "<body>\n",
       "    <div style=\"border: 1px solid\">\n",
       "        There isn't much in this file, except a list of to-do items. \n",
       "        <ul>\n",
       "          <li>Make coffee</li>\n",
       "          <li>Sweep the floor</li>\n",
       "          <li>Go to the store</li>\n",
       "          <li>Write BeautifulSoup lecture</li>\n",
       "        </ul>\n",
       "    </div>\n",
       "</body>\n",
       "\n",
       "</html>\n"
      ],
      "text/plain": [
       "<IPython.core.display.HTML object>"
      ]
     },
     "metadata": {},
     "output_type": "display_data"
    }
   ],
   "source": [
    "from IPython.core.display import display, HTML\n",
    "display(HTML(my_html))     # make sure Jupyter knows to display it as HTML"
   ]
  },
  {
   "cell_type": "markdown",
   "metadata": {},
   "source": [
    "If we want to grab the four items on our to-do list and analyze them, we can use Beautiful Soup!"
   ]
  },
  {
   "cell_type": "code",
   "execution_count": 4,
   "metadata": {},
   "outputs": [],
   "source": [
    "soup = BeautifulSoup(my_html, \"html5lib\")"
   ]
  },
  {
   "cell_type": "markdown",
   "metadata": {},
   "source": [
    "Simply looking at `soup` isn't very useful -- it's just our HTML repeated back to us."
   ]
  },
  {
   "cell_type": "code",
   "execution_count": 5,
   "metadata": {},
   "outputs": [
    {
     "data": {
      "text/plain": [
       "<html><head>\n",
       "</head>\n",
       "\n",
       "<body>\n",
       "    <div style=\"border: 1px solid\">\n",
       "        There isn't much in this file, except a list of to-do items. \n",
       "        <ul>\n",
       "          <li>Make coffee</li>\n",
       "          <li>Sweep the floor</li>\n",
       "          <li>Go to the store</li>\n",
       "          <li>Write BeautifulSoup lecture</li>\n",
       "        </ul>\n",
       "    </div>\n",
       "\n",
       "\n",
       "\n",
       "</body></html>"
      ]
     },
     "execution_count": 5,
     "metadata": {},
     "output_type": "execute_result"
    }
   ],
   "source": [
    "soup"
   ]
  },
  {
   "cell_type": "markdown",
   "metadata": {},
   "source": [
    "### `.find()`\n",
    "\n",
    "But Beautiful Soup also knows how to navigate this HTML.  We can use the `find` command to get to a specific element."
   ]
  },
  {
   "cell_type": "code",
   "execution_count": 6,
   "metadata": {},
   "outputs": [
    {
     "data": {
      "text/plain": [
       "<li>Make coffee</li>"
      ]
     },
     "execution_count": 6,
     "metadata": {},
     "output_type": "execute_result"
    }
   ],
   "source": [
    "soup.find('li')  #Grabs the first element tagged as li"
   ]
  },
  {
   "cell_type": "code",
   "execution_count": 7,
   "metadata": {},
   "outputs": [
    {
     "data": {
      "text/plain": [
       "bs4.element.Tag"
      ]
     },
     "execution_count": 7,
     "metadata": {},
     "output_type": "execute_result"
    }
   ],
   "source": [
    "type(soup.find('li'))"
   ]
  },
  {
   "cell_type": "markdown",
   "metadata": {},
   "source": [
    "`find` returns a tagged element, but we can go further and just select this element's inner HTML text."
   ]
  },
  {
   "cell_type": "code",
   "execution_count": 8,
   "metadata": {},
   "outputs": [
    {
     "data": {
      "text/plain": [
       "'Make coffee'"
      ]
     },
     "execution_count": 8,
     "metadata": {},
     "output_type": "execute_result"
    }
   ],
   "source": [
    "soup.find('li').text"
   ]
  },
  {
   "cell_type": "code",
   "execution_count": 9,
   "metadata": {},
   "outputs": [
    {
     "data": {
      "text/plain": [
       "str"
      ]
     },
     "execution_count": 9,
     "metadata": {},
     "output_type": "execute_result"
    }
   ],
   "source": [
    "type(soup.find('li').text)"
   ]
  },
  {
   "cell_type": "markdown",
   "metadata": {},
   "source": [
    "### `.find_all()`\n",
    "\n",
    "Instead of selecting just one of our list items, we can get all of them by using `find_all`.  \n",
    "\n",
    "This method looks for all instances matching our criteria on the entire HTML and gives us back a list."
   ]
  },
  {
   "cell_type": "code",
   "execution_count": 10,
   "metadata": {},
   "outputs": [
    {
     "data": {
      "text/plain": [
       "[<li>Make coffee</li>,\n",
       " <li>Sweep the floor</li>,\n",
       " <li>Go to the store</li>,\n",
       " <li>Write BeautifulSoup lecture</li>]"
      ]
     },
     "execution_count": 10,
     "metadata": {},
     "output_type": "execute_result"
    }
   ],
   "source": [
    "soup.find_all('li')"
   ]
  },
  {
   "cell_type": "markdown",
   "metadata": {},
   "source": [
    "To analyze our to-do list, we probably just want the text from each tagged element.  How can we do that?\n",
    "\n",
    "One approach is to loop through the list and apply `.text` to each element:"
   ]
  },
  {
   "cell_type": "code",
   "execution_count": 11,
   "metadata": {},
   "outputs": [
    {
     "name": "stdout",
     "output_type": "stream",
     "text": [
      "['Make coffee', 'Sweep the floor', 'Go to the store', 'Write BeautifulSoup lecture']\n"
     ]
    }
   ],
   "source": [
    "todos=[]\n",
    "\n",
    "for element in soup.find_all('li'):\n",
    "    todos.append(element.text)\n",
    "    \n",
    "print(todos)"
   ]
  },
  {
   "cell_type": "markdown",
   "metadata": {},
   "source": [
    "Or we could use a list comprehension:"
   ]
  },
  {
   "cell_type": "code",
   "execution_count": 12,
   "metadata": {},
   "outputs": [
    {
     "data": {
      "text/plain": [
       "['Make coffee',\n",
       " 'Sweep the floor',\n",
       " 'Go to the store',\n",
       " 'Write BeautifulSoup lecture']"
      ]
     },
     "execution_count": 12,
     "metadata": {},
     "output_type": "execute_result"
    }
   ],
   "source": [
    "todos=[element.text for element in soup.find_all('li')]\n",
    "\n",
    "todos"
   ]
  },
  {
   "cell_type": "markdown",
   "metadata": {},
   "source": [
    "Now we have a clean list of strings, ready for analysis!"
   ]
  },
  {
   "cell_type": "markdown",
   "metadata": {},
   "source": [
    "## Scrape Select Items on a Test Webpage\n",
    "\n",
    "Now on to a more complicated example.  Take a look at `test_webpage/page.html`.  Let's try to grab all of the article links, like the ones for Starbucks and Bitcoin.\n",
    "\n",
    "First get the HTML and then parse it with BeautifulSoup."
   ]
  },
  {
   "cell_type": "code",
   "execution_count": 13,
   "metadata": {},
   "outputs": [],
   "source": [
    "with open('test_webpage/page.html') as page:\n",
    "    test_html = page.read()\n",
    "soup = BeautifulSoup(test_html, 'lxml')"
   ]
  },
  {
   "cell_type": "markdown",
   "metadata": {},
   "source": [
    "Links show up as `a` tags.  Let's just try to grab all of them."
   ]
  },
  {
   "cell_type": "code",
   "execution_count": 14,
   "metadata": {},
   "outputs": [
    {
     "data": {
      "text/plain": [
       "[<a href=\"sports.html\">Sports</a>,\n",
       " <a href=\"entertainment.html\">Entertainment</a>,\n",
       " <a href=\"technology.html\">Technology</a>,\n",
       " <a href=\"http://starbucks.com/drinks/unicorn.html\">unicorn frappaccino</a>,\n",
       " <a href=\"https://finance.yahoo.com/quote/BTC-USD/\">Bitcoin</a>,\n",
       " <a href=\"https://en.wikipedia.org/wiki/Cryptocurrency\">cryptocurrency</a>,\n",
       " <a href=\"negative.html\">negative</a>,\n",
       " <a href=\"https://en.wikipedia.org/wiki/Fake_news\">\"fake news\"</a>]"
      ]
     },
     "execution_count": 14,
     "metadata": {},
     "output_type": "execute_result"
    }
   ],
   "source": [
    "soup.find_all('a')"
   ]
  },
  {
   "cell_type": "markdown",
   "metadata": {},
   "source": [
    "Uh oh!  Looks like there are some links on the sidebar and in the footer, too.  We want only the ones in the articles so we'll need a better strategy.\n",
    "\n",
    "Digging into the source code, it turns out that each of the articles live within a `div` labeled with the class `article`.  Let's try to get those.\n",
    "\n",
    "### `class_` and `id_` \n",
    "The `find` and `find_all` methods take optional attribute arguments so you can filter down to elements with specific attributes like classes and ids."
   ]
  },
  {
   "cell_type": "code",
   "execution_count": 15,
   "metadata": {},
   "outputs": [
    {
     "data": {
      "text/plain": [
       "[<div class=\"article\">\n",
       " <div class=\"title\">New drink released today</div>\n",
       " <div class=\"summary\">\n",
       "         Starbucks is releasing a new drink today called the <a href=\"http://starbucks.com/drinks/unicorn.html\">unicorn frappaccino</a>.\n",
       "       </div>\n",
       " </div>,\n",
       " <div class=\"article\">\n",
       " <div class=\"title\">Bitcoin crashes</div>\n",
       " <div class=\"summary\">\n",
       " <a href=\"https://finance.yahoo.com/quote/BTC-USD/\">Bitcoin</a> dropped 200% today becoming the first <a href=\"https://en.wikipedia.org/wiki/Cryptocurrency\">cryptocurrency</a> with <a href=\"negative.html\">negative</a> value!\n",
       "       </div>\n",
       " </div>]"
      ]
     },
     "execution_count": 15,
     "metadata": {},
     "output_type": "execute_result"
    }
   ],
   "source": [
    "soup.find_all('div', class_='article')"
   ]
  },
  {
   "cell_type": "markdown",
   "metadata": {},
   "source": [
    "There are our articles!  \n",
    "\n",
    "Each of these `div` elements are also soup objects, so we can now query these `div`s to drill down further to just the links."
   ]
  },
  {
   "cell_type": "code",
   "execution_count": 16,
   "metadata": {},
   "outputs": [
    {
     "name": "stdout",
     "output_type": "stream",
     "text": [
      "<a href=\"http://starbucks.com/drinks/unicorn.html\">unicorn frappaccino</a>\n",
      "<a href=\"https://finance.yahoo.com/quote/BTC-USD/\">Bitcoin</a>\n",
      "<a href=\"https://en.wikipedia.org/wiki/Cryptocurrency\">cryptocurrency</a>\n",
      "<a href=\"negative.html\">negative</a>\n"
     ]
    }
   ],
   "source": [
    "for div in soup.find_all('div', class_='article'):\n",
    "    for link in div.find_all('a'):\n",
    "        print(link)"
   ]
  },
  {
   "cell_type": "markdown",
   "metadata": {},
   "source": [
    "Excellent!  What if we want to print out the link text and the url it points to?\n",
    "\n",
    "\n",
    "### `.get()`\n",
    "The `get` method allows you access to any attribute of the element."
   ]
  },
  {
   "cell_type": "code",
   "execution_count": 17,
   "metadata": {},
   "outputs": [
    {
     "name": "stdout",
     "output_type": "stream",
     "text": [
      "unicorn frappaccino  ---> http://starbucks.com/drinks/unicorn.html\n",
      "Bitcoin              ---> https://finance.yahoo.com/quote/BTC-USD/\n",
      "cryptocurrency       ---> https://en.wikipedia.org/wiki/Cryptocurrency\n",
      "negative             ---> negative.html\n"
     ]
    }
   ],
   "source": [
    "for div in soup.find_all('div', class_='article'):\n",
    "    for link in div.find_all('a'):\n",
    "        print(f'{link.text:20s} ---> {link.get(\"href\")}')"
   ]
  },
  {
   "cell_type": "markdown",
   "metadata": {},
   "source": [
    "## Scrape the Web\n",
    "\n",
    "So far we've used BeautifulSoup to parse our own HTML strings and files.  Now let's scrape Box Office Mojo.\n",
    "\n",
    "First let's take a look at some source code for _The Big Lebowski_.\n",
    "\n",
    "- Navigate to https://www.boxofficemojo.com/title/tt0118715/ in your browser, preferably Chrome\n",
    "- Right click and select \"Inspect\"\n",
    "- Alternatively, you can \"View Page Source\"\n",
    "\n",
    "To retrieve the HTML for this webpage, we will use `requests`.\n",
    "\n",
    "### `requests`\n",
    "\n",
    "The `requests` library allows us to grab information from the web.  There are two common types of requests:\n",
    "- `get` -- simply requests information, akin to putting a url in your browser\n",
    "- `post` -- sends information to the website, for example, writing an email\n",
    "\n",
    "We will be using `get` to retrieve a page's HTML."
   ]
  },
  {
   "cell_type": "code",
   "execution_count": 18,
   "metadata": {},
   "outputs": [],
   "source": [
    "url = 'https://www.boxofficemojo.com/title/tt0118715/' \n",
    "\n",
    "response = requests.get(url)"
   ]
  },
  {
   "cell_type": "markdown",
   "metadata": {},
   "source": [
    "The response we got back is an object that gives us access to:\n",
    "- `response.text` -- the returned HTML (if any)\n",
    "- `response.json` -- the returned JSON (if any), typical for APIs\n",
    "- `response.status_code` -- a [code](https://en.wikipedia.org/wiki/List_of_HTTP_status_codes) to tell you if your request was successful or if an error occurred, 2XX indicates success while 404 means not found"
   ]
  },
  {
   "cell_type": "code",
   "execution_count": 19,
   "metadata": {},
   "outputs": [
    {
     "data": {
      "text/plain": [
       "200"
      ]
     },
     "execution_count": 19,
     "metadata": {},
     "output_type": "execute_result"
    }
   ],
   "source": [
    "response.status_code  #200 = success!"
   ]
  },
  {
   "cell_type": "code",
   "execution_count": 20,
   "metadata": {},
   "outputs": [
    {
     "data": {
      "text/plain": [
       "'<!doctype html><html class=\"a-no-js\" data-19ax5a9jf=\"dingo\"><head><script>var aPageStart = (new Date()).getTime();</script><meta charset=\"utf-8\"/><meta name=\"viewport\" content=\"width=device-width, initial-scale=1.0\" />\\n                <meta charset=\"utf-8\" />\\n            <title dir=\"ltr\">The Big Lebowski - Box Office Mojo</title><meta content=\"The Big Lebowski\" name=\"title\" />\\n            <meta content=\"Box Office Mojo\" property=\"og:site_name\" />\\n            <meta name=\"format-detection\" content=\"telephone=no\" />\\n            <link href=\"https://m.media-amazon.com/images/G/01/boxofficemojo/v2/favicon._CB448965889_.ico\" type=\"image/x-icon\" rel=\"icon\" />\\n            <link rel=\"stylesheet\" href=\"https://images-na.ssl-images-amazon.com/images/I/11EIQ5IGqaL._RC|012LjolmrML.css,51AZ-Jz5kmL.css,51IB+wfP8qL.css,01evdoiemkL.css,01K+Ps1DeEL.css,314djKvMsUL.css,01W6EiNzKkL.css,11UGC+GXOPL.css,21LK7jaicML.css,11L58Qpo0GL.css,21kyTi1FabL.css,01ruG+gDPFL.css,01YhS3Cs-hL.css,21GwE3cR-yL.css,019SHZnt8R'"
      ]
     },
     "execution_count": 20,
     "metadata": {},
     "output_type": "execute_result"
    }
   ],
   "source": [
    "response.text[:1000]  #First 1000 characters of the HTML"
   ]
  },
  {
   "cell_type": "code",
   "execution_count": 21,
   "metadata": {},
   "outputs": [],
   "source": [
    "page = response.text"
   ]
  },
  {
   "cell_type": "markdown",
   "metadata": {},
   "source": [
    "### `BeautifulSoup` Basics\n",
    "\n",
    "Now that we have the HTML, let's learn its structure by parsing with BeautifulSoup."
   ]
  },
  {
   "cell_type": "code",
   "execution_count": 22,
   "metadata": {},
   "outputs": [],
   "source": [
    "soup = BeautifulSoup(page, \"lxml\")"
   ]
  },
  {
   "cell_type": "code",
   "execution_count": 23,
   "metadata": {},
   "outputs": [
    {
     "name": "stdout",
     "output_type": "stream",
     "text": [
      "<!DOCTYPE html>\n",
      "<html class=\"a-no-js\" data-19ax5a9jf=\"dingo\"><head><script>var aPageStart = (new Date()).getTime();</script><meta charset=\"utf-8\"/><meta content=\"width=device-width, initial-scale=1.0\" name=\"viewport\"/>\n",
      "<meta charset=\"utf-8\"/>\n",
      "<title dir=\"ltr\">The Big Lebowski - Box Office Mojo</title><meta content=\"The Big Lebowski\" name=\"title\"/>\n",
      "<meta content=\"Box Office Mojo\" property=\"og:site_name\"/>\n",
      "<meta content=\"telephone=no\" name=\"format-detection\"/>\n",
      "<link href=\"https://m.media-amazon.com/images/G/01/boxofficemojo/v2/favicon._CB448965889_.ico\" rel=\"icon\" type=\"image/x-icon\"/>\n",
      "<link href=\"https://images-na.ssl-images-amazon.com/images/I/11EIQ5IGqaL._RC|012LjolmrML.css,51AZ-Jz5kmL.css,51IB+wfP8qL.css,01evdoiemkL.css,01K+Ps1DeEL.css,314djKvMsUL.css,01W6EiNzKkL.css,11UGC+GXOPL.css,21LK7jaicML.css,11L58Qpo0GL.css,21kyTi1FabL.css,01ruG+gDPFL.css,01YhS3Cs-hL.css,21GwE3cR-yL.css,019SHZnt8RL.css,11yCvBPNfFL.css,21bWcRJYNIL.css,11WgRxUdJRL.css,01dU8+SPlFL.css,11ocrgKoE-L.css,01SHjPML6tL.css,111-D2qRjiL.css,01QrWuRrZ-L.css,310Imb6LqFL.css,01piEq-AdwL.css,11Z1a0FxSIL.css,01cbS3UK11L.css,21mOLw+nYYL.css,01giMEP+djL.css_.css?AUIClients/AmazonUI#us.not-trident\" rel=\"stylesheet\"/>\n",
      "<link href=\"https://images-na.ssl-images-amazon.com/images/I/41Q33m0DqCL.css?AUIClients/IMDbMojoSiteAssets\" rel=\"stylesheet\"/>\n",
      "<script>\n",
      "(function(f,h,Q,E){function F(a){v&&v.tag&&v.tag(q(\":\",\"aui\",a))}function w(a,b){v&&v.count&&v.count(\"aui:\"+a,0===b?0:b||(v.count(\"aui:\"+a)||0)+1)}function m(a){try{return a.test(navigator.userAgent)}catch(b){return!1}}function x(a,b,c){a.addEventListener?a.addEventListener(b,c,!1):a.attachEvent&&a.attachEvent(\"on\"+b,c)}function q(a,b,c,e){b=b&&c?b+a+c:b||c;return e?q(a,b,e):b}function G(a,b,c){try{Object.defineProperty(a,b,{value:c,writable:!1})}catch(e){a[b]=c}return c}function va(a,b){var c=a.length,\n",
      "e=c,g=function(){e--||(R.push(b),S||(setTimeout(ca,0),S=!0))};for(g();c--;)da[a[c]]?g():(A[a[c]]=A[a[c]]||[]).push(g)}function wa(a,b,c,e,g){var d=h.createElement(a?\"script\":\"link\");x(d,\"error\",e);g&&x(d,\"load\",g);a?(d.type=\"text/javascript\",d.async=!0,c&&/AUIClients|images[/]I/.test(b)&&d.setAttribute(\"crossorigin\",\"anonymous\"),d.src=b):(d.rel=\"stylesheet\",d.href=b);h.getElementsByTagName(\"head\")[0].appendChild(d)}function ea(a,b){return function(c,e){function g(){wa(b,c,d,function(b){T?w(\"resource_unload\"):\n",
      "d?(d=!1,w(\"resource_retry\"),g()):(w(\"resource_error\"),a.log(\"Asset failed to load: \"+c));b&&b.stopPropagation?b.stopPropagation():f.event&&(f.event.cancelBubble=!0)},e)}if(fa[c])return!1;fa[c]=!0;w(\"resource_count\");var d=!0;return!g()}}function xa(a,b,c){for(var e={name:a,guard:function(c){return b.guardFatal(a,c)},logError:function(c,d,e){b.logError(c,d,e,a)}},g=[],d=0;d<c.length;d++)H.hasOwnProperty(c[d])&&(g[d]=U.hasOwnProperty(c[d])?U[c[d]](H[c[d]],e):H[c[d]]);return g}function B(a,b,c,e,g){return function(d,\n",
      "h){function n(){var a=null;e?a=h:\"function\"===typeof h&&(p.start=C(),a=h.apply(f,xa(d,k,l)),p.end=C());if(b){H[d]=a;a=d;for(da[a]=!0;(A[a]||[]).length;)A[a].shift()();delete A[a]}p.done=!0}var k=g||this;\"function\"===typeof d&&(h=d,d=E);b&&(d=d?d.replace(ha,\"\"):\"__NONAME__\",V.hasOwnProperty(d)&&k.error(q(\", reregistered by \",q(\" by \",d+\" already registered\",V[d]),k.attribution),d),V[d]=k.attribution);for(var l=[],m=0;m<a.length;m++)l[m]=a[m].replace(ha,\"\");var p=ia[d||\"anon\"+ ++ya]={depend:l,registered:C(),\n",
      "namespace:k.namespace};c?n():va(l,k.guardFatal(d,n));return{decorate:function(a){U[d]=k.guardFatal(d,a)}}}}function ja(a){return function(){var b=Array.prototype.slice.call(arguments);return{execute:B(b,!1,a,!1,this),register:B(b,!0,a,!1,this)}}}function W(a,b){return function(c,e){e||(e=c,c=E);var g=this.attribution;return function(){y.push(b||{attribution:g,name:c,logLevel:a});var d=e.apply(this,arguments);y.pop();return d}}}function I(a,b){this.load={js:ea(this,!0),css:ea(this)};G(this,\"namespace\",\n",
      "b);G(this,\"attribution\",a)}function ka(){h.body?t.trigger(\"a-bodyBegin\"):setTimeout(ka,20)}function D(a,b){a.className=X(a,b)+\" \"+b}function X(a,b){return(\" \"+a.className+\" \").split(\" \"+b+\" \").join(\" \").replace(/^ | $/g,\"\")}function la(a){try{return a()}catch(b){return!1}}function J(){if(K){var a={w:f.innerWidth||n.clientWidth,h:f.innerHeight||n.clientHeight};5<Math.abs(a.w-Y.w)||50<a.h-Y.h?(Y=a,L=4,(a=k.mobile||k.tablet?450<a.w&&a.w>a.h:1250<=a.w)?D(n,\"a-ws\"):n.className=X(n,\"a-ws\")):0<L&&(L--,ma=\n",
      "setTimeout(J,16))}}function za(a){(K=a===E?!K:!!a)&&J()}function Aa(){return K}function u(a,b){return\"sw:\"+(b||\"\")+\":\"+a+\":\"}function na(){oa.forEach(function(a){F(a)})}function p(a){oa.push(a)}function pa(a,b,c,e){if(c){b=m(/Chrome/i)&&!m(/Edge/i)&&!m(/OPR/i)&&!a.capabilities.isAmazonApp&&!m(new RegExp(Z+\"bwv\"+Z+\"b\"));var g=u(e,\"browser\"),d=u(e,\"prod_mshop\"),f=u(e,\"beta_mshop\");!a.capabilities.isAmazonApp&&c.browser&&b&&(p(g+\"supported\"),c.browser.action(g,e));!b&&c.browser&&p(g+\"unsupported\");c.prodMshop&&\n",
      "p(d+\"unsupported\");c.betaMshop&&p(f+\"unsupported\")}}\"use strict\";var M=Q.now=Q.now||function(){return+new Q},C=function(a){return a&&a.now?a.now.bind(a):M}(f.performance),N=C(),r=f.AmazonUIPageJS||f.P;if(r&&r.when&&r.register){N=[];for(var l=h.currentScript;l;l=l.parentElement)l.id&&N.push(l.id);return r.log(\"A copy of P has already been loaded on this page.\",\"FATAL\",N.join(\" \"))}var v=f.ue;F();F(\"aui_build_date:3.20.5-2020-07-06\");var R=[],S=!1;var ca=function(){for(var a=setTimeout(ca,0),b=M();R.length;)if(R.shift()(),\n",
      "50<M()-b)return;clearTimeout(a);S=!1};var da={},A={},fa={},T=!1;x(f,\"beforeunload\",function(){T=!0;setTimeout(function(){T=!1},1E4)});var ha=/^prv:/,V={},H={},U={},ia={},ya=0,Z=String.fromCharCode(92),y=[],qa=f.onerror;f.onerror=function(a,b,c,e,g){g&&\"object\"===typeof g||(g=Error(a,b,c),g.columnNumber=e,g.stack=b||c||e?q(Z,g.message,\"at \"+q(\":\",b,c,e)):E);var d=y.pop()||{};g.attribution=q(\":\",g.attribution||d.attribution,d.name);g.logLevel=d.logLevel;g.attribution&&console&&console.log&&console.log([g.logLevel||\n",
      "\"ERROR\",a,\"thrown by\",g.attribution].join(\" \"));y=[];qa&&(d=[].slice.call(arguments),d[4]=g,qa.apply(f,d))};I.prototype={logError:function(a,b,c,e){b={message:b,logLevel:c||\"ERROR\",attribution:q(\":\",this.attribution,e)};if(f.ueLogError)return f.ueLogError(a||b,a?b:null),!0;console&&console.error&&(console.log(b),console.error(a));return!1},error:function(a,b,c,e){a=Error(q(\":\",e,a,c));a.attribution=q(\":\",this.attribution,b);throw a;},guardError:W(),guardFatal:W(\"FATAL\"),guardCurrent:function(a){var b=\n",
      "y[y.length-1];return b?W(b.logLevel,b).call(this,a):a},log:function(a,b,c){return this.logError(null,a,b,c)},declare:B([],!0,!0,!0),register:B([],!0),execute:B([]),AUI_BUILD_DATE:\"3.20.5-2020-07-06\",when:ja(),now:ja(!0),trigger:function(a,b,c){var e=M();this.declare(a,{data:b,pageElapsedTime:e-(f.aPageStart||NaN),triggerTime:e});c&&c.instrument&&O.when(\"prv:a-logTrigger\").execute(function(b){b(a)})},handleTriggers:function(){this.log(\"handleTriggers deprecated\")},attributeErrors:function(a){return new I(a)},\n",
      "_namespace:function(a,b){return new I(a,b)}};var t=G(f,\"AmazonUIPageJS\",new I);var O=t._namespace(\"PageJS\",\"AmazonUI\");O.declare(\"prv:p-debug\",ia);t.declare(\"p-recorder-events\",[]);t.declare(\"p-recorder-stop\",function(){});G(f,\"P\",t);ka();if(h.addEventListener){var ra;h.addEventListener(\"DOMContentLoaded\",ra=function(){t.trigger(\"a-domready\");h.removeEventListener(\"DOMContentLoaded\",ra,!1)},!1)}var n=h.documentElement,aa=function(){var a=[\"O\",\"ms\",\"Moz\",\"Webkit\"],b=h.createElement(\"div\");return{testGradients:function(){b.style.cssText=\n",
      "\"background-image:-webkit-gradient(linear,left top,right bottom,from(#1E4),to(white));background-image:-webkit-linear-gradient(left top,#1E4,white);background-image:linear-gradient(left top,#1E4,white);\";return~b.style.backgroundImage.indexOf(\"gradient\")},test:function(c){var e=c.charAt(0).toUpperCase()+c.substr(1);c=(a.join(e+\" \")+e+\" \"+c).split(\" \");for(e=c.length;e--;)if(\"\"===b.style[c[e]])return!0;return!1},testTransform3d:function(){var a=!1;f.matchMedia&&(a=f.matchMedia(\"(-webkit-transform-3d)\").matches);\n",
      "return a}}}();r=n.className;var sa=/(^| )a-mobile( |$)/.test(r),ta=/(^| )a-tablet( |$)/.test(r),k={audio:function(){return!!h.createElement(\"audio\").canPlayType},video:function(){return!!h.createElement(\"video\").canPlayType},canvas:function(){return!!h.createElement(\"canvas\").getContext},svg:function(){return!!h.createElementNS&&!!h.createElementNS(\"http://www.w3.org/2000/svg\",\"svg\").createSVGRect},offline:function(){return navigator.hasOwnProperty&&navigator.hasOwnProperty(\"onLine\")&&navigator.onLine},\n",
      "dragDrop:function(){return\"draggable\"in h.createElement(\"span\")},geolocation:function(){return!!navigator.geolocation},history:function(){return!(!f.history||!f.history.pushState)},webworker:function(){return!!f.Worker},autofocus:function(){return\"autofocus\"in h.createElement(\"input\")},inputPlaceholder:function(){return\"placeholder\"in h.createElement(\"input\")},textareaPlaceholder:function(){return\"placeholder\"in h.createElement(\"textarea\")},localStorage:function(){return\"localStorage\"in f&&null!==\n",
      "f.localStorage},orientation:function(){return\"orientation\"in f},touch:function(){return\"ontouchend\"in h},gradients:function(){return aa.testGradients()},hires:function(){var a=f.devicePixelRatio&&1.5<=f.devicePixelRatio||f.matchMedia&&f.matchMedia(\"(min-resolution:144dpi)\").matches;w(\"hiRes\"+(sa?\"Mobile\":ta?\"Tablet\":\"Desktop\"),a?1:0);return a},transform3d:function(){return aa.testTransform3d()},touchScrolling:function(){return m(/Windowshop|android|OS ([5-9]|[1-9][0-9]+)(_[0-9]{1,2})+ like Mac OS X|Chrome|Silk|Firefox|Trident.+?; Touch/i)},\n",
      "ios:function(){return m(/OS [1-9][0-9]*(_[0-9]*)+ like Mac OS X/i)&&!m(/trident|Edge/i)},android:function(){return m(/android.([1-9]|[L-Z])/i)&&!m(/trident|Edge/i)},mobile:function(){return sa},tablet:function(){return ta},rtl:function(){return\"rtl\"===n.dir}};for(l in k)k.hasOwnProperty(l)&&(k[l]=la(k[l]));for(var ba=\"textShadow textStroke boxShadow borderRadius borderImage opacity transform transition\".split(\" \"),P=0;P<ba.length;P++)k[ba[P]]=la(function(){return aa.test(ba[P])});var K=!0,ma=0,Y=\n",
      "{w:0,h:0},L=4;J();x(f,\"resize\",function(){clearTimeout(ma);L=4;J()});var ua={getItem:function(a){try{return f.localStorage.getItem(a)}catch(b){}},setItem:function(a,b){try{return f.localStorage.setItem(a,b)}catch(c){}}};n.className=X(n,\"a-no-js\");D(n,\"a-js\");!m(/OS [1-8](_[0-9]*)+ like Mac OS X/i)||f.navigator.standalone||m(/safari/i)||D(n,\"a-ember\");r=[];for(l in k)k.hasOwnProperty(l)&&k[l]&&r.push(\"a-\"+l.replace(/([A-Z])/g,function(a){return\"-\"+a.toLowerCase()}));D(n,r.join(\" \"));n.setAttribute(\"data-aui-build-date\",\n",
      "\"3.20.5-2020-07-06\");t.register(\"p-detect\",function(){return{capabilities:k,localStorage:k.localStorage&&ua,toggleResponsiveGrid:za,responsiveGridEnabled:Aa}});m(/UCBrowser/i)||k.localStorage&&D(n,ua.getItem(\"a-font-class\"));t.declare(\"a-event-revised-handling\",!1);try{var z=navigator.serviceWorker}catch(a){F(\"sw:nav_err\")}z&&(x(z,\"message\",function(a){a&&a.data&&w(a.data.k,a.data.v)}),z.controller&&z.controller.postMessage(\"MSG-RDY\"));var oa=[];(function(a){var b=a.reg,c=a.unreg;z&&z.getRegistrations?\n",
      "(O.when(\"A\",\"a-util\").execute(function(a,b){pa(a,b,c,\"unregister\")}),x(f,\"load\",function(){O.when(\"A\",\"a-util\").execute(function(a,c){pa(a,c,b,\"register\");na()})})):(b&&(b.browser&&p(u(\"register\",\"browser\")+\"unsupported\"),b.prodMshop&&p(u(\"register\",\"prod_mshop\")+\"unsupported\"),b.betaMshop&&p(u(\"register\",\"beta_mshop\")+\"unsupported\")),c&&(c.browser&&p(u(\"unregister\",\"browser\")+\"unsupported\"),c.prodMshop&&p(u(\"unregister\",\"prod_mshop\")+\"unsupported\"),c.betaMshop&&p(u(\"unregister\",\"beta_mshop\")+\"unsupported\")),\n",
      "na())})({reg:{},unreg:{}});t.declare(\"a-fix-event-off\",!1);w(\"pagejs:pkgExecTime\",C()-N)})(window,document,Date);\n",
      "  (window.AmazonUIPageJS ? AmazonUIPageJS : P).load.js('https://images-na.ssl-images-amazon.com/images/I/61-6nKPKyWL._RC|11Y+5x+kkTL.js,61xmyjKeOpL.js,212PEt8u8bL.js,012FVc3131L.js,11KoZmq92cL.js,51TNaPzHULL.js,11AHlQhPRjL.js,01-Ag-OPDsL.js,11SvFon9IkL.js,11p81T3qWFL.js,21ssiLNIZvL.js,0190vxtlzcL.js,61N4mcEKRxL.js,01ezj5Rkz1L.js,11EemQQsS-L.js,31pOTH2ZMRL.js,01rpauTep4L.js,01iyxuSGj4L.js,01CRyJpOGrL.js_.js?AUIClients/AmazonUI');\n",
      "  (window.AmazonUIPageJS ? AmazonUIPageJS : P).load.js('https://images-na.ssl-images-amazon.com/images/I/51qdbfA6f+L.js?AUIClients/IMDbMojoSiteAssets');\n",
      "</script>\n",
      "</head><body class=\"mojo-page-id-tt a-m-us a-aui_72554-c a-aui_control_group_273125-c a-aui_dropdown_274033-c a-aui_link_rel_noreferrer_noopener_274172-c a-aui_pci_risk_banner_210084-c a-aui_perf_130093-c a-aui_preload_261698-c a-aui_tnr_v2_180836-c a-aui_ux_145937-c\" id=\"body\"><div id=\"a-page\"><script data-a-state='{\"key\":\"a-wlab-states\"}' type=\"a-state\">{}</script><div class=\"a-section a-spacing-none mojo-navigation mojo-header mojo-flex mojo-flex-h\"><div class=\"a-section mojo-logo\"><a class=\"a-link-normal\" href=\"/?ref_=bo_nb_tt_mojologo\"></a></div><div class=\"a-section a-spacing-none mojo-nav-elements mojo-flex mojo-flex-h mojo-flex-1\"><div class=\"a-section a-spacing-none mojo-search-bar mojo-flex mojo-flex-h\"><div class=\"a-section a-spacing-none mojo-search\"><form action=\"/search\">\n",
      "<input id=\"mojo-search-text-input\" name=\"q\" placeholder=\"Search for Titles\" required=\"true\" type=\"search\"/>\n",
      "<input class=\"mojo-inline-button\" id=\"mojo-search-button\" type=\"submit\" value=\"\"/>\n",
      "</form>\n",
      "</div></div><div class=\"a-section a-spacing-none mojo-mobile-options\"><span class=\"a-declarative\" data-a-popover='{\"closeButton\":\"false\",\"inlineContent\":\"\\u003cspan class=\\\"a-size-medium\\\"&gt;\\u003ca href=\\\"https://pro.imdb.com/?ref_=mojo_nb_tt_pro&amp;amp;rf=mojo_nb_tt_pro\\\" class=\\\"a-touch-link a-box a-touch-link-noborder\\\"&gt;\\u003cdiv class=\\\"a-box-inner\\\"&gt;\\u003ci class=\\\"a-icon a-icon-touch-link\\\"&gt;\\u003c\\/i&gt;IMDbPro\\u003c\\/div&gt;\\u003c\\/a&gt;\\u003ca href=\\\"https://www.facebook.com/BoxOfficeMojo/\\\" class=\\\"a-touch-link a-box a-touch-link-noborder\\\"&gt;\\u003cdiv class=\\\"a-box-inner\\\"&gt;\\u003ci class=\\\"a-icon a-icon-touch-link\\\"&gt;\\u003c\\/i&gt;Facebook\\u003c\\/div&gt;\\u003c\\/a&gt;\\u003ca href=\\\"https://twitter.com/boxofficemojo\\\" class=\\\"a-touch-link a-box a-touch-link-noborder\\\"&gt;\\u003cdiv class=\\\"a-box-inner\\\"&gt;\\u003ci class=\\\"a-icon a-icon-touch-link\\\"&gt;\\u003c\\/i&gt;Twitter\\u003c\\/div&gt;\\u003c\\/a&gt;\\u003ca href=\\\"https://help.imdb.com/article/imdbpro/industry-research/box-office-mojo-by-imdbpro-faq/GCWTV4MQKGWRAUAP?ref_=mojo_ftr_help\\\" class=\\\"a-touch-link a-box a-touch-link-noborder\\\"&gt;\\u003cdiv class=\\\"a-box-inner\\\"&gt;\\u003ci class=\\\"a-icon a-icon-touch-link\\\"&gt;\\u003c\\/i&gt;Help\\u003c\\/div&gt;\\u003c\\/a&gt;\\u003c\\/span&gt;\"}' data-action=\"a-popover\"><a class=\"a-popover-trigger a-declarative\" href=\"javascript:void(0)\"><span class=\"mobile-menu-popover-trigger\"></span>\n",
      "<i class=\"a-icon a-icon-popover\"></i></a></span></div><div class=\"a-section a-spacing-none mojo-options mojo-flex\"><div class=\"a-popover-preload\" id=\"a-popover-mojoRollover\"><a class=\"a-link-normal mojo-rollover-image\" href=\"https://pro.imdb.com/login/ap?u=%2Flogin%2Flwa&amp;imdbPageAction=signUp&amp;ref_=mojo_nb_tt_rollover&amp;rf=mojo_nb_tt_rollover\"><img alt=\"\" src=\"https://m.media-amazon.com/images/G/01/IMDbPro/images/MI_121919_NYNY2020_Engagement_rollover_2x._CB1578336809_.png\"/></a></div><span class=\"a-declarative\" data-a-popover='{\"padding\":\"none\",\"closeButton\":\"false\",\"dataStrategy\":\"preload\",\"name\":\"mojoRollover\",\"width\":\"500\",\"position\":\"triggerBottom\",\"height\":\"200\"}' data-action=\"a-popover\"><a class=\"a-popover-trigger a-declarative\" href=\"javascript:void(0)\"><span class=\"imdb-pro-logo\"></span><i class=\"a-icon a-icon-popover\"></i></a></span><span class=\"mojo-logo-delimiter\"></span><a class=\"a-link-normal mojo-fb-logo\" href=\"https://www.facebook.com/BoxOfficeMojo/\" rel=\"noopener\" target=\"_blank\"></a><a class=\"a-link-normal mojo-tw-logo\" href=\"https://twitter.com/boxofficemojo\" rel=\"noopener\" target=\"_blank\"></a></div></div><div class=\"a-section a-spacing-none mojo-link-bar mojo-flex mojo-flex-h\"><div class=\"a-section a-spacing-none mojo-tab-container\"><a class=\"a-size-medium a-link-normal mojo-navigation-tab\" href=\"/date/?ref_=bo_nb_tt_tab\">Domestic</a><a class=\"a-size-medium a-link-normal mojo-navigation-tab\" href=\"/intl/?ref_=bo_nb_tt_tab\">International</a><a class=\"a-size-medium a-link-normal mojo-navigation-tab\" href=\"/year/world/?ref_=bo_nb_tt_tab\">Worldwide</a><a class=\"a-size-medium a-link-normal mojo-navigation-tab\" href=\"/calendar/?ref_=bo_nb_tt_tab\">Calendar</a><a class=\"a-size-medium a-link-normal mojo-navigation-tab\" href=\"/charts/overall/?ref_=bo_nb_tt_tab\">All Time</a><a class=\"a-size-medium a-link-normal mojo-navigation-tab\" href=\"/showdown/?ref_=bo_nb_tt_tab\">Showdowns</a><a class=\"a-size-medium a-link-normal mojo-navigation-tab\" href=\"/brand/?ref_=bo_nb_tt_tab\">Indices</a></div></div></div><main>\n",
      "<div class=\"a-section mojo-body aok-relative\"><div class=\"a-section a-spacing-none mojo-summary\"><div class=\"a-section mojo-heading-summary\"><div class=\"a-fixed-left-grid\"><div class=\"a-fixed-left-grid-inner\" style=\"padding-left:107px\"><div class=\"a-fixed-left-grid-col a-col-left\" style=\"width:107px;margin-left:-107px;float:left;\"><img alt=\"\" data-a-hires=\"https://m.media-amazon.com/images/M/MV5BMTQ0NjUzMDMyOF5BMl5BanBnXkFtZTgwODA1OTU0MDE@._V1_SY278_CR1,0,184,278_.jpg\" height=\"139\" src=\"https://m.media-amazon.com/images/M/MV5BMTQ0NjUzMDMyOF5BMl5BanBnXkFtZTgwODA1OTU0MDE@._V1_SY139_CR0,0,92,139_.jpg\" width=\"92\"/></div><div class=\"a-fixed-left-grid-col a-col-right\" style=\"padding-left:0%;float:left;\"><div class=\"a-section a-spacing-none\"><h1 class=\"a-size-extra-large\">The Big Lebowski<span class=\"a-size-large a-color-secondary\"> (1998)</span></h1><span class=\"a-size-medium\">Jeff \"The Dude\" Lebowski, mistaken for a millionaire of the same name, seeks restitution for his ruined rug and enlists his bowling buddies to help get it.</span></div></div></div></div></div><div class=\"a-section mojo-heading-pro-cta aok-float-right\">\n",
      "<div class=\"a-box\"><div class=\"a-box-inner\">\n",
      "<span class=\"imdb-pro-colored-logo\"></span>\n",
      "<br/>\n",
      "<a class=\"a-link-normal\" href=\"https://pro.imdb.com/title/tt0118715/cast?ref_=mojo_tt_cta_cast&amp;rf=mojo_tt_cta_cast\" rel=\"noopener\" target=\"_blank\">Cast information</a>\n",
      "<br/>\n",
      "<a class=\"a-link-normal\" href=\"https://pro.imdb.com/title/tt0118715/filmmakers?ref_=mojo_tt_cta_crew&amp;rf=mojo_tt_cta_crew\" rel=\"noopener\" target=\"_blank\">Crew information</a>\n",
      "<br/>\n",
      "<a class=\"a-link-normal\" href=\"https://pro.imdb.com/title/tt0118715/companycredits?ref_=mojo_tt_cta_co&amp;rf=mojo_tt_cta_co\" rel=\"noopener\" target=\"_blank\">Company information</a>\n",
      "<br/>\n",
      "<a class=\"a-link-normal\" href=\"https://pro.imdb.com/title/tt0118715/news?ref_=mojo_tt_cta_news&amp;rf=mojo_tt_cta_news\" rel=\"noopener\" target=\"_blank\">News</a>\n",
      "<br/>\n",
      "<a class=\"a-link-normal\" href=\"https://pro.imdb.com/title/tt0118715/boxoffice?ref_=mojo_tt_cta_bo&amp;rf=mojo_tt_cta_bo\" rel=\"noopener\" target=\"_blank\">Box office</a>\n",
      "<br/>\n",
      "<div class=\"a-popover-preload\" id=\"a-popover-genrePopover\">\n",
      "<a class=\"a-link-normal\" href=\"https://pro.imdb.com/boxoffice/genre/sg3739152641?ref_=mojo_tt_cta_genre&amp;rf=mojo_tt_cta_genre\" rel=\"noopener\" target=\"_blank\">Slacker</a>\n",
      "<br/>\n",
      "<a class=\"a-link-normal\" href=\"https://pro.imdb.com/boxoffice/genre/sg2178806017?ref_=mojo_tt_cta_genre&amp;rf=mojo_tt_cta_genre\" rel=\"noopener\" target=\"_blank\">Black Comedy</a>\n",
      "</div>\n",
      "<span class=\"a-declarative\" data-a-popover='{\"closeButton\":\"false\",\"dataStrategy\":\"preload\",\"name\":\"genrePopover\"}' data-action=\"a-popover\">\n",
      "<a class=\"a-popover-trigger a-declarative\" href=\"javascript:void(0)\">\n",
      "<span>\n",
      "                            Genre keyword rankings\n",
      "                        </span>\n",
      "<i class=\"a-icon a-icon-popover\"></i></a>\n",
      "</span>\n",
      "</div></div>\n",
      "</div></div><div class=\"a-section mojo-title-release-refiner\"><div class=\"a-section a-spacing-none mojo-title-release-refiner-option\" id=\"title-summary-refiner\"><a class=\"a-link-normal mojo-title-link refiner-display-highlight\" href=\"/title/tt0118715/?ref_=bo_tt_ti\"><img height=\"18\" src=\"https://m.media-amazon.com/images/G/01/boxofficemojo/ic_summary_m._CB485936930_.png\" width=\"21\"/><span class=\"mojo-hidden-from-mobile\"> Title Summary</span></a></div><div class=\"a-section a-spacing-none mojo-title-release-refiner-option\" id=\"release-group-refiner\"><div class=\"a-section a-spacing-none mojo-dropdown-clear\"><form action=\"\" autocomplete=\"off\" class=\"a-spacing-none\" method=\"post\"><span class=\"a-dropdown-container\"><select autocomplete=\"off\" class=\"a-native-dropdown\" id=\"releasegroup-picker-navSelector\" name=\"releasegroup-picker-navSelector\" tabindex=\"-1\"><option value=\"/title/tt0118715/\">All Releases</option><option value=\"/releasegroup/gr3312079365/\">Original Release</option><option value=\"/releasegroup/gr3664400901/\">2018 Re-release</option></select><span class=\"a-button a-button-dropdown refiner-display-highlight\" data-a-class=\"refiner-display-highlight\" tabindex=\"-1\"><span class=\"a-button-inner\"><span aria-hidden=\"true\" class=\"a-button-text a-declarative\" data-action=\"a-dropdown-button\" role=\"button\" tabindex=\"0\"><span class=\"a-dropdown-prompt\"></span></span><i class=\"a-icon a-icon-dropdown\"></i></span></span></span></form></div></div></div><div class=\"a-section a-spacing-none mojo-gutter mojo-summary-table\"><div class=\"a-section a-spacing-none mojo-performance-summary\">\n",
      "<div class=\"a-section a-spacing-none mojo-performance-summary-table\">\n",
      "<h2 class=\"a-size-large a-text-bold\">\n",
      "                All Releases\n",
      "            </h2>\n",
      "<div class=\"a-section a-spacing-none\">\n",
      "<span class=\"a-size-small\">\n",
      "                        \n",
      "                            \n",
      "                                Domestic (<span class=\"percent\">38.6%</span>)\n",
      "                            \n",
      "                            \n",
      "                        \n",
      "                    </span>\n",
      "<br/>\n",
      "<span class=\"a-size-medium a-text-bold\">\n",
      "<span class=\"money\">$18,034,458</span>\n",
      "</span>\n",
      "</div>\n",
      "<div class=\"a-section a-spacing-none\">\n",
      "<span class=\"a-size-small\">\n",
      "                        \n",
      "                            \n",
      "                                International (<span class=\"percent\">61.4%</span>)\n",
      "                            \n",
      "                            \n",
      "                        \n",
      "                    </span>\n",
      "<br/>\n",
      "<span class=\"a-size-medium a-text-bold\">\n",
      "<span class=\"money\">$28,701,011</span>\n",
      "</span>\n",
      "</div>\n",
      "<div class=\"a-section a-spacing-none\">\n",
      "<span class=\"a-size-small\">\n",
      "                        \n",
      "                            \n",
      "                                Worldwide \n",
      "                            \n",
      "                            \n",
      "                        \n",
      "                    </span>\n",
      "<br/>\n",
      "<span class=\"a-size-medium a-text-bold\">\n",
      "<span class=\"money\">$46,735,469</span>\n",
      "</span>\n",
      "</div>\n",
      "</div>\n",
      "</div><div class=\"a-section a-spacing-top-base mojo-mobile-title-summary-pro-cta\">\n",
      "<div class=\"a-box\"><div class=\"a-box-inner\">\n",
      "<span class=\"imdb-pro-colored-logo\"></span>\n",
      "<br/>\n",
      "<a class=\"a-link-normal\" href=\"https://pro.imdb.com/title/tt0118715/cast?ref_=mojo_tt_cta_cast&amp;rf=mojo_tt_cta_cast\" rel=\"noopener\" target=\"_blank\">Cast information</a>\n",
      "<br/>\n",
      "<a class=\"a-link-normal\" href=\"https://pro.imdb.com/title/tt0118715/filmmakers?ref_=mojo_tt_cta_crew&amp;rf=mojo_tt_cta_crew\" rel=\"noopener\" target=\"_blank\">Crew information</a>\n",
      "<br/>\n",
      "<a class=\"a-link-normal\" href=\"https://pro.imdb.com/title/tt0118715/companycredits?ref_=mojo_tt_cta_co&amp;rf=mojo_tt_cta_co\" rel=\"noopener\" target=\"_blank\">Company information</a>\n",
      "<br/>\n",
      "<a class=\"a-link-normal\" href=\"https://pro.imdb.com/title/tt0118715/news?ref_=mojo_tt_cta_news&amp;rf=mojo_tt_cta_news\" rel=\"noopener\" target=\"_blank\">News</a>\n",
      "<br/>\n",
      "<a class=\"a-link-normal\" href=\"https://pro.imdb.com/title/tt0118715/boxoffice?ref_=mojo_tt_cta_bo&amp;rf=mojo_tt_cta_bo\" rel=\"noopener\" target=\"_blank\">Box office</a>\n",
      "<br/>\n",
      "<div class=\"a-popover-preload\" id=\"a-popover-genrePopover\">\n",
      "<a class=\"a-link-normal\" href=\"https://pro.imdb.com/boxoffice/genre/sg3739152641?ref_=mojo_tt_cta_genre&amp;rf=mojo_tt_cta_genre\" rel=\"noopener\" target=\"_blank\">Slacker</a>\n",
      "<br/>\n",
      "<a class=\"a-link-normal\" href=\"https://pro.imdb.com/boxoffice/genre/sg2178806017?ref_=mojo_tt_cta_genre&amp;rf=mojo_tt_cta_genre\" rel=\"noopener\" target=\"_blank\">Black Comedy</a>\n",
      "</div>\n",
      "<span class=\"a-declarative\" data-a-popover='{\"closeButton\":\"false\",\"dataStrategy\":\"preload\",\"name\":\"genrePopover\"}' data-action=\"a-popover\">\n",
      "<a class=\"a-popover-trigger a-declarative\" href=\"javascript:void(0)\">\n",
      "<span>\n",
      "                            Genre keyword rankings\n",
      "                        </span>\n",
      "<i class=\"a-icon a-icon-popover\"></i></a>\n",
      "</span>\n",
      "</div></div>\n",
      "</div><div class=\"a-section a-spacing-none a-spacing-top-base mojo-discloser-button mojo-discloser with-icon mojo-hidden-from-widescreen\" data-target=\".mojo-summary-values\" id=\"mojo-summary-details-discloser\"><span>\n",
      "                Summary Details\n",
      "            </span></div><div class=\"a-section a-spacing-none mojo-summary-values mojo-hidden-from-mobile\"><div class=\"a-section a-spacing-none\"><span>Domestic Distributor</span><span>Gramercy Pictures (I)<br/><a class=\"a-size-small a-link-normal\" href=\"https://pro.imdb.com/company/co0018555/boxoffice/?ref_=mojo_tt_su&amp;rf=mojo_tt_su\" rel=\"noopener\" target=\"_blank\">See full company information<svg class=\"mojo-new-window-svg\" viewbox=\"0 0 32 32\" xmlns=\"http://www.w3.org/2000/svg\">\n",
      "<path d=\"M24,15.57251l3,3V23.5A3.50424,3.50424,0,0,1,23.5,27H8.5A3.50424,3.50424,0,0,1,5,23.5V8.5A3.50424,3.50424,0,0,1,8.5,5h4.92755l3,3H8.5a.50641.50641,0,0,0-.5.5v15a.50641.50641,0,0,0,.5.5h15a.50641.50641,0,0,0,.5-.5ZM19.81952,8.56372,12.8844,17.75a.49989.49989,0,0,0,.04547.65479l.66534.66528a.49983.49983,0,0,0,.65479.04553l9.18628-6.93518,2.12579,2.12585a.5.5,0,0,0,.84741-.27526l1.48273-9.35108a.50006.50006,0,0,0-.57214-.57214L17.969,5.59058a.5.5,0,0,0-.27526.84741Z\"></path>\n",
      "</svg></a></span></div><div class=\"a-section a-spacing-none\"><span>Domestic Opening</span><span><a class=\"a-link-normal\" href=\"/release/rl239568385/weekend?ref_=bo_tt_gr#table\"><span class=\"money\">$5,533,844</span></a></span></div><div class=\"a-section a-spacing-none\"><span>Earliest Release Date</span><span>March 6, 1998\n",
      "            (Domestic)</span></div><div class=\"a-section a-spacing-none\"><span>MPAA</span><span>R</span></div><div class=\"a-section a-spacing-none\"><span>Running Time</span><span>1 hr 57 min</span></div><div class=\"a-section a-spacing-none\"><span>Genres</span><span>Comedy\n",
      "    \n",
      "        Crime\n",
      "    \n",
      "        Sport</span></div><div class=\"a-section a-spacing-none\"><span>\n",
      "                        IMDbPro\n",
      "                    </span><span><a class=\"a-link-normal\" href=\"https://pro.imdb.com/title/tt0118715?ref_=mojo_tt_summary&amp;rf=mojo_tt_summary\" rel=\"noopener\" target=\"_blank\">See more details at IMDbPro<svg class=\"mojo-new-window-svg\" viewbox=\"0 0 32 32\" xmlns=\"http://www.w3.org/2000/svg\">\n",
      "<path d=\"M24,15.57251l3,3V23.5A3.50424,3.50424,0,0,1,23.5,27H8.5A3.50424,3.50424,0,0,1,5,23.5V8.5A3.50424,3.50424,0,0,1,8.5,5h4.92755l3,3H8.5a.50641.50641,0,0,0-.5.5v15a.50641.50641,0,0,0,.5.5h15a.50641.50641,0,0,0,.5-.5ZM19.81952,8.56372,12.8844,17.75a.49989.49989,0,0,0,.04547.65479l.66534.66528a.49983.49983,0,0,0,.65479.04553l9.18628-6.93518,2.12579,2.12585a.5.5,0,0,0,.84741-.27526l1.48273-9.35108a.50006.50006,0,0,0-.57214-.57214L17.969,5.59058a.5.5,0,0,0-.27526.84741Z\"></path>\n",
      "</svg></a></span></div></div></div><div class=\"mojo-link-bar-internal mojo-flex mojo-flex-h\" id=\"tabs\">\n",
      "<div class=\"mojo-tab-container\">\n",
      "<a class=\"a-size-base a-link-normal mojo-navigation-tab mojo-navigation-tab-active\" href=\"/title/tt0118715/?ref_=bo_tt_tab#tabs\">Releases</a><a class=\"a-size-base a-link-normal mojo-navigation-tab\" href=\"/title/tt0118715/credits/?ref_=bo_tt_tab#tabs\">Cast and Crew</a><div class=\"a-section mojo-disabled-tab\">All-Time Rankings</div><a class=\"a-size-base a-link-normal mojo-navigation-tab\" href=\"/title/tt0118715/news/?ref_=bo_tt_tab#tabs\">Related Stories</a><a class=\"a-size-base a-link-normal mojo-navigation-tab\" href=\"/title/tt0118715/similar/?ref_=bo_tt_tab#tabs\">Similar Movies</a></div>\n",
      "</div>\n",
      "<div class=\"a-section a-spacing-none a-spacing-top-base\"><div class=\"a-section mojo-gutter\"><div class=\"a-section mojo-h-scroll\"><table class=\"a-bordered a-horizontal-stripes a-size-base-plus\"><tr><th>Release Group</th><th>Rollout</th><th>Markets</th><th class=\"a-text-right\">Domestic</th><th class=\"a-text-right\">International</th><th class=\"a-text-right\">Worldwide</th></tr><tr><td class=\"a-align-center\"><a class=\"a-link-normal\" href=\"/releasegroup/gr3312079365/?ref_=bo_tt_gr_1\">Original Release</a></td><td class=\"a-align-center\">March 6, 1998</td><td class=\"a-align-center\"><a class=\"a-link-normal\" href=\"/release/rl239568385/?ref_=bo_tt_gr_1\">Domestic</a></td><td class=\"a-text-right a-align-center\"><span class=\"money\">$17,451,873</span></td><td class=\"a-text-right a-align-center\"><span class=\"money\">$28,690,764</span></td><td class=\"a-text-right a-align-center\"><span class=\"money\">$46,142,637</span></td></tr><tr><td class=\"a-align-center\"><a class=\"a-link-normal\" href=\"/releasegroup/gr3664400901/?ref_=bo_tt_gr_2\">2018 Re-release</a></td><td class=\"a-align-center\">August 5-September 21, 2018</td><td class=\"a-align-center\"><a class=\"a-link-normal\" href=\"/releasegroup/gr3664400901/?ref_=bo_tt_gr_2\">EMEA, Domestic</a></td><td class=\"a-text-right a-align-center\"><span class=\"money\">$582,585</span></td><td class=\"a-text-right a-align-center\"><span class=\"money\">$10,247</span></td><td class=\"a-text-right a-align-center\"><span class=\"money\">$592,832</span></td></tr></table></div></div></div></div></main>\n",
      "<div class=\"a-section a-spacing-none mojo-navigation-frame\"><div class=\"a-section a-spacing-none mojo-navigation mojo-footer\"><a class=\"a-link-normal imdb-pro-logo\" href=\"https://pro.imdb.com/?ref_=mojo_ft_tt_prologo&amp;rf=mojo_ft_tt_prologo\"></a><p>\n",
      "            Latest Updates:\n",
      "            <a class=\"a-link-normal\" href=\"/news/?ref_=bo_ft_tt_news\">News</a> |\n",
      "            <a class=\"a-link-normal\" href=\"/daily/?ref_=bo_ft_tt_daily\">Daily</a> |\n",
      "            <a class=\"a-link-normal\" href=\"/weekend/?ref_=bo_ft_tt_weekend\">Weekend</a> |\n",
      "            <a class=\"a-link-normal\" href=\"/charts/?ref_=bo_ft_tt_charts\">All Time</a> |\n",
      "            <a class=\"a-link-normal\" href=\"/intl/?ref_=bo_ft_tt_intl\">International</a> |\n",
      "            <a class=\"a-link-normal\" href=\"/showdown/?ref_=bo_ft_tt_showdown\">Showdowns</a></p><p class=\"mojo-help-row\"><a class=\"a-link-normal\" href=\"https://help.imdb.com/article/imdbpro/industry-research/box-office-mojo-by-imdbpro-faq/GCWTV4MQKGWRAUAP?ref_=mojo_ftr_help\" rel=\"noopener\" target=\"_blank\">Help</a></p><p>\n",
      "            BoxOfficeMojo.com by IMDbPro - an\n",
      "            <a class=\"a-link-normal\" href=\"http://www.imdb.com/\" rel=\"noopener\" target=\"_blank\">IMDb</a>\n",
      "            company.\n",
      "        </p><p>\n",
      "            © IMDb.com, Inc. or its affiliates. All rights reserved.\n",
      "            Box Office Mojo and IMDb are trademarks or registered trademarks of IMDb.com, Inc. or its affiliates.\n",
      "            <a class=\"a-link-normal\" href=\"/conditions/?ref_=bo_ft_tt_conditions\">Conditions of Use</a>\n",
      "             and\n",
      "             <a class=\"a-link-normal\" href=\"/privacy/?ref_=bo_ft_tt_privacy\">Privacy Policy</a>\n",
      "            under which this service is provided to you.\n",
      "        </p></div></div></div></body></html>\n"
     ]
    }
   ],
   "source": [
    "print(soup)"
   ]
  },
  {
   "cell_type": "markdown",
   "metadata": {},
   "source": [
    "The `prettify` method turns the soup into a nicely formatted Unicode string with one tag on each line for readability."
   ]
  },
  {
   "cell_type": "code",
   "execution_count": 24,
   "metadata": {},
   "outputs": [
    {
     "name": "stdout",
     "output_type": "stream",
     "text": [
      "<!DOCTYPE html>\n",
      "<html class=\"a-no-js\" data-19ax5a9jf=\"dingo\">\n",
      " <head>\n",
      "  <script>\n",
      "   var aPageStart = (new Date()).getTime();\n",
      "  </script>\n",
      "  <meta charset=\"utf-8\"/>\n",
      "  <meta content=\"width=device-width, initial-scale=1.0\" name=\"viewport\"/>\n",
      "  <meta charset=\"utf-8\"/>\n",
      "  <title dir=\"ltr\">\n",
      "   The Big Lebowski - Box Office Mojo\n",
      "  </title>\n",
      "  <meta content=\"The Big Lebowski\" name=\"title\"/>\n",
      "  <meta content=\"Box Office Mojo\" property=\"og:site_name\"/>\n",
      "  <meta content=\"telephone=no\" name=\"format-detection\"/>\n",
      "  <link href=\"https://m.media-amazon.com/images/G/01/boxofficemojo/v2/favicon._CB448965889_.ico\" rel=\"icon\" type=\"image/x-icon\"/>\n",
      "  <link href=\"https://images-na.ssl-images-amazon.com/images/I/11EIQ5IGqaL._RC|012LjolmrML.css,51AZ-Jz5kmL.css,51IB+wfP8qL.css,01evdoiemkL.css,01K+Ps1DeEL.css,314djKvMsUL.css,01W6EiNzKkL.css,11UGC+GXOPL.css,21LK7jaicML.css,11L58Qpo0GL.css,21kyTi1FabL.css,01ruG+gDPFL.css,01YhS3Cs-hL.css,21GwE3cR-yL.css,019SHZnt8RL.css,11yCvBPNfFL.css,21bWcRJYNIL.css,11WgRxUdJRL.css,01dU8+SPlFL.css,11ocrgKoE-L.css,01SHjPML6tL.css,111-D2qRjiL.css,01QrWuRrZ-L.css,310Imb6LqFL.css,01piEq-AdwL.css,11Z1a0FxSIL.css,01cbS3UK11L.css,21mOLw+nYYL.css,01giMEP+djL.css_.css?AUIClients/AmazonUI#us.not-trident\" rel=\"stylesheet\"/>\n",
      "  <link href=\"https://images-na.ssl-images-amazon.com/images/I/41Q33m0DqCL.css?AUIClients/IMDbMojoSiteAssets\" rel=\"stylesheet\"/>\n",
      "  <script>\n",
      "   (function(f,h,Q,E){function F(a){v&&v.tag&&v.tag(q(\":\",\"aui\",a))}function w(a,b){v&&v.count&&v.count(\"aui:\"+a,0===b?0:b||(v.count(\"aui:\"+a)||0)+1)}function m(a){try{return a.test(navigator.userAgent)}catch(b){return!1}}function x(a,b,c){a.addEventListener?a.addEventListener(b,c,!1):a.attachEvent&&a.attachEvent(\"on\"+b,c)}function q(a,b,c,e){b=b&&c?b+a+c:b||c;return e?q(a,b,e):b}function G(a,b,c){try{Object.defineProperty(a,b,{value:c,writable:!1})}catch(e){a[b]=c}return c}function va(a,b){var c=a.length,\n",
      "e=c,g=function(){e--||(R.push(b),S||(setTimeout(ca,0),S=!0))};for(g();c--;)da[a[c]]?g():(A[a[c]]=A[a[c]]||[]).push(g)}function wa(a,b,c,e,g){var d=h.createElement(a?\"script\":\"link\");x(d,\"error\",e);g&&x(d,\"load\",g);a?(d.type=\"text/javascript\",d.async=!0,c&&/AUIClients|images[/]I/.test(b)&&d.setAttribute(\"crossorigin\",\"anonymous\"),d.src=b):(d.rel=\"stylesheet\",d.href=b);h.getElementsByTagName(\"head\")[0].appendChild(d)}function ea(a,b){return function(c,e){function g(){wa(b,c,d,function(b){T?w(\"resource_unload\"):\n",
      "d?(d=!1,w(\"resource_retry\"),g()):(w(\"resource_error\"),a.log(\"Asset failed to load: \"+c));b&&b.stopPropagation?b.stopPropagation():f.event&&(f.event.cancelBubble=!0)},e)}if(fa[c])return!1;fa[c]=!0;w(\"resource_count\");var d=!0;return!g()}}function xa(a,b,c){for(var e={name:a,guard:function(c){return b.guardFatal(a,c)},logError:function(c,d,e){b.logError(c,d,e,a)}},g=[],d=0;d<c.length;d++)H.hasOwnProperty(c[d])&&(g[d]=U.hasOwnProperty(c[d])?U[c[d]](H[c[d]],e):H[c[d]]);return g}function B(a,b,c,e,g){return function(d,\n",
      "h){function n(){var a=null;e?a=h:\"function\"===typeof h&&(p.start=C(),a=h.apply(f,xa(d,k,l)),p.end=C());if(b){H[d]=a;a=d;for(da[a]=!0;(A[a]||[]).length;)A[a].shift()();delete A[a]}p.done=!0}var k=g||this;\"function\"===typeof d&&(h=d,d=E);b&&(d=d?d.replace(ha,\"\"):\"__NONAME__\",V.hasOwnProperty(d)&&k.error(q(\", reregistered by \",q(\" by \",d+\" already registered\",V[d]),k.attribution),d),V[d]=k.attribution);for(var l=[],m=0;m<a.length;m++)l[m]=a[m].replace(ha,\"\");var p=ia[d||\"anon\"+ ++ya]={depend:l,registered:C(),\n",
      "namespace:k.namespace};c?n():va(l,k.guardFatal(d,n));return{decorate:function(a){U[d]=k.guardFatal(d,a)}}}}function ja(a){return function(){var b=Array.prototype.slice.call(arguments);return{execute:B(b,!1,a,!1,this),register:B(b,!0,a,!1,this)}}}function W(a,b){return function(c,e){e||(e=c,c=E);var g=this.attribution;return function(){y.push(b||{attribution:g,name:c,logLevel:a});var d=e.apply(this,arguments);y.pop();return d}}}function I(a,b){this.load={js:ea(this,!0),css:ea(this)};G(this,\"namespace\",\n",
      "b);G(this,\"attribution\",a)}function ka(){h.body?t.trigger(\"a-bodyBegin\"):setTimeout(ka,20)}function D(a,b){a.className=X(a,b)+\" \"+b}function X(a,b){return(\" \"+a.className+\" \").split(\" \"+b+\" \").join(\" \").replace(/^ | $/g,\"\")}function la(a){try{return a()}catch(b){return!1}}function J(){if(K){var a={w:f.innerWidth||n.clientWidth,h:f.innerHeight||n.clientHeight};5<Math.abs(a.w-Y.w)||50<a.h-Y.h?(Y=a,L=4,(a=k.mobile||k.tablet?450<a.w&&a.w>a.h:1250<=a.w)?D(n,\"a-ws\"):n.className=X(n,\"a-ws\")):0<L&&(L--,ma=\n",
      "setTimeout(J,16))}}function za(a){(K=a===E?!K:!!a)&&J()}function Aa(){return K}function u(a,b){return\"sw:\"+(b||\"\")+\":\"+a+\":\"}function na(){oa.forEach(function(a){F(a)})}function p(a){oa.push(a)}function pa(a,b,c,e){if(c){b=m(/Chrome/i)&&!m(/Edge/i)&&!m(/OPR/i)&&!a.capabilities.isAmazonApp&&!m(new RegExp(Z+\"bwv\"+Z+\"b\"));var g=u(e,\"browser\"),d=u(e,\"prod_mshop\"),f=u(e,\"beta_mshop\");!a.capabilities.isAmazonApp&&c.browser&&b&&(p(g+\"supported\"),c.browser.action(g,e));!b&&c.browser&&p(g+\"unsupported\");c.prodMshop&&\n",
      "p(d+\"unsupported\");c.betaMshop&&p(f+\"unsupported\")}}\"use strict\";var M=Q.now=Q.now||function(){return+new Q},C=function(a){return a&&a.now?a.now.bind(a):M}(f.performance),N=C(),r=f.AmazonUIPageJS||f.P;if(r&&r.when&&r.register){N=[];for(var l=h.currentScript;l;l=l.parentElement)l.id&&N.push(l.id);return r.log(\"A copy of P has already been loaded on this page.\",\"FATAL\",N.join(\" \"))}var v=f.ue;F();F(\"aui_build_date:3.20.5-2020-07-06\");var R=[],S=!1;var ca=function(){for(var a=setTimeout(ca,0),b=M();R.length;)if(R.shift()(),\n",
      "50<M()-b)return;clearTimeout(a);S=!1};var da={},A={},fa={},T=!1;x(f,\"beforeunload\",function(){T=!0;setTimeout(function(){T=!1},1E4)});var ha=/^prv:/,V={},H={},U={},ia={},ya=0,Z=String.fromCharCode(92),y=[],qa=f.onerror;f.onerror=function(a,b,c,e,g){g&&\"object\"===typeof g||(g=Error(a,b,c),g.columnNumber=e,g.stack=b||c||e?q(Z,g.message,\"at \"+q(\":\",b,c,e)):E);var d=y.pop()||{};g.attribution=q(\":\",g.attribution||d.attribution,d.name);g.logLevel=d.logLevel;g.attribution&&console&&console.log&&console.log([g.logLevel||\n",
      "\"ERROR\",a,\"thrown by\",g.attribution].join(\" \"));y=[];qa&&(d=[].slice.call(arguments),d[4]=g,qa.apply(f,d))};I.prototype={logError:function(a,b,c,e){b={message:b,logLevel:c||\"ERROR\",attribution:q(\":\",this.attribution,e)};if(f.ueLogError)return f.ueLogError(a||b,a?b:null),!0;console&&console.error&&(console.log(b),console.error(a));return!1},error:function(a,b,c,e){a=Error(q(\":\",e,a,c));a.attribution=q(\":\",this.attribution,b);throw a;},guardError:W(),guardFatal:W(\"FATAL\"),guardCurrent:function(a){var b=\n",
      "y[y.length-1];return b?W(b.logLevel,b).call(this,a):a},log:function(a,b,c){return this.logError(null,a,b,c)},declare:B([],!0,!0,!0),register:B([],!0),execute:B([]),AUI_BUILD_DATE:\"3.20.5-2020-07-06\",when:ja(),now:ja(!0),trigger:function(a,b,c){var e=M();this.declare(a,{data:b,pageElapsedTime:e-(f.aPageStart||NaN),triggerTime:e});c&&c.instrument&&O.when(\"prv:a-logTrigger\").execute(function(b){b(a)})},handleTriggers:function(){this.log(\"handleTriggers deprecated\")},attributeErrors:function(a){return new I(a)},\n",
      "_namespace:function(a,b){return new I(a,b)}};var t=G(f,\"AmazonUIPageJS\",new I);var O=t._namespace(\"PageJS\",\"AmazonUI\");O.declare(\"prv:p-debug\",ia);t.declare(\"p-recorder-events\",[]);t.declare(\"p-recorder-stop\",function(){});G(f,\"P\",t);ka();if(h.addEventListener){var ra;h.addEventListener(\"DOMContentLoaded\",ra=function(){t.trigger(\"a-domready\");h.removeEventListener(\"DOMContentLoaded\",ra,!1)},!1)}var n=h.documentElement,aa=function(){var a=[\"O\",\"ms\",\"Moz\",\"Webkit\"],b=h.createElement(\"div\");return{testGradients:function(){b.style.cssText=\n",
      "\"background-image:-webkit-gradient(linear,left top,right bottom,from(#1E4),to(white));background-image:-webkit-linear-gradient(left top,#1E4,white);background-image:linear-gradient(left top,#1E4,white);\";return~b.style.backgroundImage.indexOf(\"gradient\")},test:function(c){var e=c.charAt(0).toUpperCase()+c.substr(1);c=(a.join(e+\" \")+e+\" \"+c).split(\" \");for(e=c.length;e--;)if(\"\"===b.style[c[e]])return!0;return!1},testTransform3d:function(){var a=!1;f.matchMedia&&(a=f.matchMedia(\"(-webkit-transform-3d)\").matches);\n",
      "return a}}}();r=n.className;var sa=/(^| )a-mobile( |$)/.test(r),ta=/(^| )a-tablet( |$)/.test(r),k={audio:function(){return!!h.createElement(\"audio\").canPlayType},video:function(){return!!h.createElement(\"video\").canPlayType},canvas:function(){return!!h.createElement(\"canvas\").getContext},svg:function(){return!!h.createElementNS&&!!h.createElementNS(\"http://www.w3.org/2000/svg\",\"svg\").createSVGRect},offline:function(){return navigator.hasOwnProperty&&navigator.hasOwnProperty(\"onLine\")&&navigator.onLine},\n",
      "dragDrop:function(){return\"draggable\"in h.createElement(\"span\")},geolocation:function(){return!!navigator.geolocation},history:function(){return!(!f.history||!f.history.pushState)},webworker:function(){return!!f.Worker},autofocus:function(){return\"autofocus\"in h.createElement(\"input\")},inputPlaceholder:function(){return\"placeholder\"in h.createElement(\"input\")},textareaPlaceholder:function(){return\"placeholder\"in h.createElement(\"textarea\")},localStorage:function(){return\"localStorage\"in f&&null!==\n",
      "f.localStorage},orientation:function(){return\"orientation\"in f},touch:function(){return\"ontouchend\"in h},gradients:function(){return aa.testGradients()},hires:function(){var a=f.devicePixelRatio&&1.5<=f.devicePixelRatio||f.matchMedia&&f.matchMedia(\"(min-resolution:144dpi)\").matches;w(\"hiRes\"+(sa?\"Mobile\":ta?\"Tablet\":\"Desktop\"),a?1:0);return a},transform3d:function(){return aa.testTransform3d()},touchScrolling:function(){return m(/Windowshop|android|OS ([5-9]|[1-9][0-9]+)(_[0-9]{1,2})+ like Mac OS X|Chrome|Silk|Firefox|Trident.+?; Touch/i)},\n",
      "ios:function(){return m(/OS [1-9][0-9]*(_[0-9]*)+ like Mac OS X/i)&&!m(/trident|Edge/i)},android:function(){return m(/android.([1-9]|[L-Z])/i)&&!m(/trident|Edge/i)},mobile:function(){return sa},tablet:function(){return ta},rtl:function(){return\"rtl\"===n.dir}};for(l in k)k.hasOwnProperty(l)&&(k[l]=la(k[l]));for(var ba=\"textShadow textStroke boxShadow borderRadius borderImage opacity transform transition\".split(\" \"),P=0;P<ba.length;P++)k[ba[P]]=la(function(){return aa.test(ba[P])});var K=!0,ma=0,Y=\n",
      "{w:0,h:0},L=4;J();x(f,\"resize\",function(){clearTimeout(ma);L=4;J()});var ua={getItem:function(a){try{return f.localStorage.getItem(a)}catch(b){}},setItem:function(a,b){try{return f.localStorage.setItem(a,b)}catch(c){}}};n.className=X(n,\"a-no-js\");D(n,\"a-js\");!m(/OS [1-8](_[0-9]*)+ like Mac OS X/i)||f.navigator.standalone||m(/safari/i)||D(n,\"a-ember\");r=[];for(l in k)k.hasOwnProperty(l)&&k[l]&&r.push(\"a-\"+l.replace(/([A-Z])/g,function(a){return\"-\"+a.toLowerCase()}));D(n,r.join(\" \"));n.setAttribute(\"data-aui-build-date\",\n",
      "\"3.20.5-2020-07-06\");t.register(\"p-detect\",function(){return{capabilities:k,localStorage:k.localStorage&&ua,toggleResponsiveGrid:za,responsiveGridEnabled:Aa}});m(/UCBrowser/i)||k.localStorage&&D(n,ua.getItem(\"a-font-class\"));t.declare(\"a-event-revised-handling\",!1);try{var z=navigator.serviceWorker}catch(a){F(\"sw:nav_err\")}z&&(x(z,\"message\",function(a){a&&a.data&&w(a.data.k,a.data.v)}),z.controller&&z.controller.postMessage(\"MSG-RDY\"));var oa=[];(function(a){var b=a.reg,c=a.unreg;z&&z.getRegistrations?\n",
      "(O.when(\"A\",\"a-util\").execute(function(a,b){pa(a,b,c,\"unregister\")}),x(f,\"load\",function(){O.when(\"A\",\"a-util\").execute(function(a,c){pa(a,c,b,\"register\");na()})})):(b&&(b.browser&&p(u(\"register\",\"browser\")+\"unsupported\"),b.prodMshop&&p(u(\"register\",\"prod_mshop\")+\"unsupported\"),b.betaMshop&&p(u(\"register\",\"beta_mshop\")+\"unsupported\")),c&&(c.browser&&p(u(\"unregister\",\"browser\")+\"unsupported\"),c.prodMshop&&p(u(\"unregister\",\"prod_mshop\")+\"unsupported\"),c.betaMshop&&p(u(\"unregister\",\"beta_mshop\")+\"unsupported\")),\n",
      "na())})({reg:{},unreg:{}});t.declare(\"a-fix-event-off\",!1);w(\"pagejs:pkgExecTime\",C()-N)})(window,document,Date);\n",
      "  (window.AmazonUIPageJS ? AmazonUIPageJS : P).load.js('https://images-na.ssl-images-amazon.com/images/I/61-6nKPKyWL._RC|11Y+5x+kkTL.js,61xmyjKeOpL.js,212PEt8u8bL.js,012FVc3131L.js,11KoZmq92cL.js,51TNaPzHULL.js,11AHlQhPRjL.js,01-Ag-OPDsL.js,11SvFon9IkL.js,11p81T3qWFL.js,21ssiLNIZvL.js,0190vxtlzcL.js,61N4mcEKRxL.js,01ezj5Rkz1L.js,11EemQQsS-L.js,31pOTH2ZMRL.js,01rpauTep4L.js,01iyxuSGj4L.js,01CRyJpOGrL.js_.js?AUIClients/AmazonUI');\n",
      "  (window.AmazonUIPageJS ? AmazonUIPageJS : P).load.js('https://images-na.ssl-images-amazon.com/images/I/51qdbfA6f+L.js?AUIClients/IMDbMojoSiteAssets');\n",
      "  </script>\n",
      " </head>\n",
      " <body class=\"mojo-page-id-tt a-m-us a-aui_72554-c a-aui_control_group_273125-c a-aui_dropdown_274033-c a-aui_link_rel_noreferrer_noopener_274172-c a-aui_pci_risk_banner_210084-c a-aui_perf_130093-c a-aui_preload_261698-c a-aui_tnr_v2_180836-c a-aui_ux_145937-c\" id=\"body\">\n",
      "  <div id=\"a-page\">\n",
      "   <script data-a-state='{\"key\":\"a-wlab-states\"}' type=\"a-state\">\n",
      "    {}\n",
      "   </script>\n",
      "   <div class=\"a-section a-spacing-none mojo-navigation mojo-header mojo-flex mojo-flex-h\">\n",
      "    <div class=\"a-section mojo-logo\">\n",
      "     <a class=\"a-link-normal\" href=\"/?ref_=bo_nb_tt_mojologo\">\n",
      "     </a>\n",
      "    </div>\n",
      "    <div class=\"a-section a-spacing-none mojo-nav-elements mojo-flex mojo-flex-h mojo-flex-1\">\n",
      "     <div class=\"a-section a-spacing-none mojo-search-bar mojo-flex mojo-flex-h\">\n",
      "      <div class=\"a-section a-spacing-none mojo-search\">\n",
      "       <form action=\"/search\">\n",
      "        <input id=\"mojo-search-text-input\" name=\"q\" placeholder=\"Search for Titles\" required=\"true\" type=\"search\"/>\n",
      "        <input class=\"mojo-inline-button\" id=\"mojo-search-button\" type=\"submit\" value=\"\"/>\n",
      "       </form>\n",
      "      </div>\n",
      "     </div>\n",
      "     <div class=\"a-section a-spacing-none mojo-mobile-options\">\n",
      "      <span class=\"a-declarative\" data-a-popover='{\"closeButton\":\"false\",\"inlineContent\":\"\\u003cspan class=\\\"a-size-medium\\\"&gt;\\u003ca href=\\\"https://pro.imdb.com/?ref_=mojo_nb_tt_pro&amp;amp;rf=mojo_nb_tt_pro\\\" class=\\\"a-touch-link a-box a-touch-link-noborder\\\"&gt;\\u003cdiv class=\\\"a-box-inner\\\"&gt;\\u003ci class=\\\"a-icon a-icon-touch-link\\\"&gt;\\u003c\\/i&gt;IMDbPro\\u003c\\/div&gt;\\u003c\\/a&gt;\\u003ca href=\\\"https://www.facebook.com/BoxOfficeMojo/\\\" class=\\\"a-touch-link a-box a-touch-link-noborder\\\"&gt;\\u003cdiv class=\\\"a-box-inner\\\"&gt;\\u003ci class=\\\"a-icon a-icon-touch-link\\\"&gt;\\u003c\\/i&gt;Facebook\\u003c\\/div&gt;\\u003c\\/a&gt;\\u003ca href=\\\"https://twitter.com/boxofficemojo\\\" class=\\\"a-touch-link a-box a-touch-link-noborder\\\"&gt;\\u003cdiv class=\\\"a-box-inner\\\"&gt;\\u003ci class=\\\"a-icon a-icon-touch-link\\\"&gt;\\u003c\\/i&gt;Twitter\\u003c\\/div&gt;\\u003c\\/a&gt;\\u003ca href=\\\"https://help.imdb.com/article/imdbpro/industry-research/box-office-mojo-by-imdbpro-faq/GCWTV4MQKGWRAUAP?ref_=mojo_ftr_help\\\" class=\\\"a-touch-link a-box a-touch-link-noborder\\\"&gt;\\u003cdiv class=\\\"a-box-inner\\\"&gt;\\u003ci class=\\\"a-icon a-icon-touch-link\\\"&gt;\\u003c\\/i&gt;Help\\u003c\\/div&gt;\\u003c\\/a&gt;\\u003c\\/span&gt;\"}' data-action=\"a-popover\">\n",
      "       <a class=\"a-popover-trigger a-declarative\" href=\"javascript:void(0)\">\n",
      "        <span class=\"mobile-menu-popover-trigger\">\n",
      "        </span>\n",
      "        <i class=\"a-icon a-icon-popover\">\n",
      "        </i>\n",
      "       </a>\n",
      "      </span>\n",
      "     </div>\n",
      "     <div class=\"a-section a-spacing-none mojo-options mojo-flex\">\n",
      "      <div class=\"a-popover-preload\" id=\"a-popover-mojoRollover\">\n",
      "       <a class=\"a-link-normal mojo-rollover-image\" href=\"https://pro.imdb.com/login/ap?u=%2Flogin%2Flwa&amp;imdbPageAction=signUp&amp;ref_=mojo_nb_tt_rollover&amp;rf=mojo_nb_tt_rollover\">\n",
      "        <img alt=\"\" src=\"https://m.media-amazon.com/images/G/01/IMDbPro/images/MI_121919_NYNY2020_Engagement_rollover_2x._CB1578336809_.png\"/>\n",
      "       </a>\n",
      "      </div>\n",
      "      <span class=\"a-declarative\" data-a-popover='{\"padding\":\"none\",\"closeButton\":\"false\",\"dataStrategy\":\"preload\",\"name\":\"mojoRollover\",\"width\":\"500\",\"position\":\"triggerBottom\",\"height\":\"200\"}' data-action=\"a-popover\">\n",
      "       <a class=\"a-popover-trigger a-declarative\" href=\"javascript:void(0)\">\n",
      "        <span class=\"imdb-pro-logo\">\n",
      "        </span>\n",
      "        <i class=\"a-icon a-icon-popover\">\n",
      "        </i>\n",
      "       </a>\n",
      "      </span>\n",
      "      <span class=\"mojo-logo-delimiter\">\n",
      "      </span>\n",
      "      <a class=\"a-link-normal mojo-fb-logo\" href=\"https://www.facebook.com/BoxOfficeMojo/\" rel=\"noopener\" target=\"_blank\">\n",
      "      </a>\n",
      "      <a class=\"a-link-normal mojo-tw-logo\" href=\"https://twitter.com/boxofficemojo\" rel=\"noopener\" target=\"_blank\">\n",
      "      </a>\n",
      "     </div>\n",
      "    </div>\n",
      "    <div class=\"a-section a-spacing-none mojo-link-bar mojo-flex mojo-flex-h\">\n",
      "     <div class=\"a-section a-spacing-none mojo-tab-container\">\n",
      "      <a class=\"a-size-medium a-link-normal mojo-navigation-tab\" href=\"/date/?ref_=bo_nb_tt_tab\">\n",
      "       Domestic\n",
      "      </a>\n",
      "      <a class=\"a-size-medium a-link-normal mojo-navigation-tab\" href=\"/intl/?ref_=bo_nb_tt_tab\">\n",
      "       International\n",
      "      </a>\n",
      "      <a class=\"a-size-medium a-link-normal mojo-navigation-tab\" href=\"/year/world/?ref_=bo_nb_tt_tab\">\n",
      "       Worldwide\n",
      "      </a>\n",
      "      <a class=\"a-size-medium a-link-normal mojo-navigation-tab\" href=\"/calendar/?ref_=bo_nb_tt_tab\">\n",
      "       Calendar\n",
      "      </a>\n",
      "      <a class=\"a-size-medium a-link-normal mojo-navigation-tab\" href=\"/charts/overall/?ref_=bo_nb_tt_tab\">\n",
      "       All Time\n",
      "      </a>\n",
      "      <a class=\"a-size-medium a-link-normal mojo-navigation-tab\" href=\"/showdown/?ref_=bo_nb_tt_tab\">\n",
      "       Showdowns\n",
      "      </a>\n",
      "      <a class=\"a-size-medium a-link-normal mojo-navigation-tab\" href=\"/brand/?ref_=bo_nb_tt_tab\">\n",
      "       Indices\n",
      "      </a>\n",
      "     </div>\n",
      "    </div>\n",
      "   </div>\n",
      "   <main>\n",
      "    <div class=\"a-section mojo-body aok-relative\">\n",
      "     <div class=\"a-section a-spacing-none mojo-summary\">\n",
      "      <div class=\"a-section mojo-heading-summary\">\n",
      "       <div class=\"a-fixed-left-grid\">\n",
      "        <div class=\"a-fixed-left-grid-inner\" style=\"padding-left:107px\">\n",
      "         <div class=\"a-fixed-left-grid-col a-col-left\" style=\"width:107px;margin-left:-107px;float:left;\">\n",
      "          <img alt=\"\" data-a-hires=\"https://m.media-amazon.com/images/M/MV5BMTQ0NjUzMDMyOF5BMl5BanBnXkFtZTgwODA1OTU0MDE@._V1_SY278_CR1,0,184,278_.jpg\" height=\"139\" src=\"https://m.media-amazon.com/images/M/MV5BMTQ0NjUzMDMyOF5BMl5BanBnXkFtZTgwODA1OTU0MDE@._V1_SY139_CR0,0,92,139_.jpg\" width=\"92\"/>\n",
      "         </div>\n",
      "         <div class=\"a-fixed-left-grid-col a-col-right\" style=\"padding-left:0%;float:left;\">\n",
      "          <div class=\"a-section a-spacing-none\">\n",
      "           <h1 class=\"a-size-extra-large\">\n",
      "            The Big Lebowski\n",
      "            <span class=\"a-size-large a-color-secondary\">\n",
      "             (1998)\n",
      "            </span>\n",
      "           </h1>\n",
      "           <span class=\"a-size-medium\">\n",
      "            Jeff \"The Dude\" Lebowski, mistaken for a millionaire of the same name, seeks restitution for his ruined rug and enlists his bowling buddies to help get it.\n",
      "           </span>\n",
      "          </div>\n",
      "         </div>\n",
      "        </div>\n",
      "       </div>\n",
      "      </div>\n",
      "      <div class=\"a-section mojo-heading-pro-cta aok-float-right\">\n",
      "       <div class=\"a-box\">\n",
      "        <div class=\"a-box-inner\">\n",
      "         <span class=\"imdb-pro-colored-logo\">\n",
      "         </span>\n",
      "         <br/>\n",
      "         <a class=\"a-link-normal\" href=\"https://pro.imdb.com/title/tt0118715/cast?ref_=mojo_tt_cta_cast&amp;rf=mojo_tt_cta_cast\" rel=\"noopener\" target=\"_blank\">\n",
      "          Cast information\n",
      "         </a>\n",
      "         <br/>\n",
      "         <a class=\"a-link-normal\" href=\"https://pro.imdb.com/title/tt0118715/filmmakers?ref_=mojo_tt_cta_crew&amp;rf=mojo_tt_cta_crew\" rel=\"noopener\" target=\"_blank\">\n",
      "          Crew information\n",
      "         </a>\n",
      "         <br/>\n",
      "         <a class=\"a-link-normal\" href=\"https://pro.imdb.com/title/tt0118715/companycredits?ref_=mojo_tt_cta_co&amp;rf=mojo_tt_cta_co\" rel=\"noopener\" target=\"_blank\">\n",
      "          Company information\n",
      "         </a>\n",
      "         <br/>\n",
      "         <a class=\"a-link-normal\" href=\"https://pro.imdb.com/title/tt0118715/news?ref_=mojo_tt_cta_news&amp;rf=mojo_tt_cta_news\" rel=\"noopener\" target=\"_blank\">\n",
      "          News\n",
      "         </a>\n",
      "         <br/>\n",
      "         <a class=\"a-link-normal\" href=\"https://pro.imdb.com/title/tt0118715/boxoffice?ref_=mojo_tt_cta_bo&amp;rf=mojo_tt_cta_bo\" rel=\"noopener\" target=\"_blank\">\n",
      "          Box office\n",
      "         </a>\n",
      "         <br/>\n",
      "         <div class=\"a-popover-preload\" id=\"a-popover-genrePopover\">\n",
      "          <a class=\"a-link-normal\" href=\"https://pro.imdb.com/boxoffice/genre/sg3739152641?ref_=mojo_tt_cta_genre&amp;rf=mojo_tt_cta_genre\" rel=\"noopener\" target=\"_blank\">\n",
      "           Slacker\n",
      "          </a>\n",
      "          <br/>\n",
      "          <a class=\"a-link-normal\" href=\"https://pro.imdb.com/boxoffice/genre/sg2178806017?ref_=mojo_tt_cta_genre&amp;rf=mojo_tt_cta_genre\" rel=\"noopener\" target=\"_blank\">\n",
      "           Black Comedy\n",
      "          </a>\n",
      "         </div>\n",
      "         <span class=\"a-declarative\" data-a-popover='{\"closeButton\":\"false\",\"dataStrategy\":\"preload\",\"name\":\"genrePopover\"}' data-action=\"a-popover\">\n",
      "          <a class=\"a-popover-trigger a-declarative\" href=\"javascript:void(0)\">\n",
      "           <span>\n",
      "            Genre keyword rankings\n",
      "           </span>\n",
      "           <i class=\"a-icon a-icon-popover\">\n",
      "           </i>\n",
      "          </a>\n",
      "         </span>\n",
      "        </div>\n",
      "       </div>\n",
      "      </div>\n",
      "     </div>\n",
      "     <div class=\"a-section mojo-title-release-refiner\">\n",
      "      <div class=\"a-section a-spacing-none mojo-title-release-refiner-option\" id=\"title-summary-refiner\">\n",
      "       <a class=\"a-link-normal mojo-title-link refiner-display-highlight\" href=\"/title/tt0118715/?ref_=bo_tt_ti\">\n",
      "        <img height=\"18\" src=\"https://m.media-amazon.com/images/G/01/boxofficemojo/ic_summary_m._CB485936930_.png\" width=\"21\"/>\n",
      "        <span class=\"mojo-hidden-from-mobile\">\n",
      "         Title Summary\n",
      "        </span>\n",
      "       </a>\n",
      "      </div>\n",
      "      <div class=\"a-section a-spacing-none mojo-title-release-refiner-option\" id=\"release-group-refiner\">\n",
      "       <div class=\"a-section a-spacing-none mojo-dropdown-clear\">\n",
      "        <form action=\"\" autocomplete=\"off\" class=\"a-spacing-none\" method=\"post\">\n",
      "         <span class=\"a-dropdown-container\">\n",
      "          <select autocomplete=\"off\" class=\"a-native-dropdown\" id=\"releasegroup-picker-navSelector\" name=\"releasegroup-picker-navSelector\" tabindex=\"-1\">\n",
      "           <option value=\"/title/tt0118715/\">\n",
      "            All Releases\n",
      "           </option>\n",
      "           <option value=\"/releasegroup/gr3312079365/\">\n",
      "            Original Release\n",
      "           </option>\n",
      "           <option value=\"/releasegroup/gr3664400901/\">\n",
      "            2018 Re-release\n",
      "           </option>\n",
      "          </select>\n",
      "          <span class=\"a-button a-button-dropdown refiner-display-highlight\" data-a-class=\"refiner-display-highlight\" tabindex=\"-1\">\n",
      "           <span class=\"a-button-inner\">\n",
      "            <span aria-hidden=\"true\" class=\"a-button-text a-declarative\" data-action=\"a-dropdown-button\" role=\"button\" tabindex=\"0\">\n",
      "             <span class=\"a-dropdown-prompt\">\n",
      "             </span>\n",
      "            </span>\n",
      "            <i class=\"a-icon a-icon-dropdown\">\n",
      "            </i>\n",
      "           </span>\n",
      "          </span>\n",
      "         </span>\n",
      "        </form>\n",
      "       </div>\n",
      "      </div>\n",
      "     </div>\n",
      "     <div class=\"a-section a-spacing-none mojo-gutter mojo-summary-table\">\n",
      "      <div class=\"a-section a-spacing-none mojo-performance-summary\">\n",
      "       <div class=\"a-section a-spacing-none mojo-performance-summary-table\">\n",
      "        <h2 class=\"a-size-large a-text-bold\">\n",
      "         All Releases\n",
      "        </h2>\n",
      "        <div class=\"a-section a-spacing-none\">\n",
      "         <span class=\"a-size-small\">\n",
      "          Domestic (\n",
      "          <span class=\"percent\">\n",
      "           38.6%\n",
      "          </span>\n",
      "          )\n",
      "         </span>\n",
      "         <br/>\n",
      "         <span class=\"a-size-medium a-text-bold\">\n",
      "          <span class=\"money\">\n",
      "           $18,034,458\n",
      "          </span>\n",
      "         </span>\n",
      "        </div>\n",
      "        <div class=\"a-section a-spacing-none\">\n",
      "         <span class=\"a-size-small\">\n",
      "          International (\n",
      "          <span class=\"percent\">\n",
      "           61.4%\n",
      "          </span>\n",
      "          )\n",
      "         </span>\n",
      "         <br/>\n",
      "         <span class=\"a-size-medium a-text-bold\">\n",
      "          <span class=\"money\">\n",
      "           $28,701,011\n",
      "          </span>\n",
      "         </span>\n",
      "        </div>\n",
      "        <div class=\"a-section a-spacing-none\">\n",
      "         <span class=\"a-size-small\">\n",
      "          Worldwide\n",
      "         </span>\n",
      "         <br/>\n",
      "         <span class=\"a-size-medium a-text-bold\">\n",
      "          <span class=\"money\">\n",
      "           $46,735,469\n",
      "          </span>\n",
      "         </span>\n",
      "        </div>\n",
      "       </div>\n",
      "      </div>\n",
      "      <div class=\"a-section a-spacing-top-base mojo-mobile-title-summary-pro-cta\">\n",
      "       <div class=\"a-box\">\n",
      "        <div class=\"a-box-inner\">\n",
      "         <span class=\"imdb-pro-colored-logo\">\n",
      "         </span>\n",
      "         <br/>\n",
      "         <a class=\"a-link-normal\" href=\"https://pro.imdb.com/title/tt0118715/cast?ref_=mojo_tt_cta_cast&amp;rf=mojo_tt_cta_cast\" rel=\"noopener\" target=\"_blank\">\n",
      "          Cast information\n",
      "         </a>\n",
      "         <br/>\n",
      "         <a class=\"a-link-normal\" href=\"https://pro.imdb.com/title/tt0118715/filmmakers?ref_=mojo_tt_cta_crew&amp;rf=mojo_tt_cta_crew\" rel=\"noopener\" target=\"_blank\">\n",
      "          Crew information\n",
      "         </a>\n",
      "         <br/>\n",
      "         <a class=\"a-link-normal\" href=\"https://pro.imdb.com/title/tt0118715/companycredits?ref_=mojo_tt_cta_co&amp;rf=mojo_tt_cta_co\" rel=\"noopener\" target=\"_blank\">\n",
      "          Company information\n",
      "         </a>\n",
      "         <br/>\n",
      "         <a class=\"a-link-normal\" href=\"https://pro.imdb.com/title/tt0118715/news?ref_=mojo_tt_cta_news&amp;rf=mojo_tt_cta_news\" rel=\"noopener\" target=\"_blank\">\n",
      "          News\n",
      "         </a>\n",
      "         <br/>\n",
      "         <a class=\"a-link-normal\" href=\"https://pro.imdb.com/title/tt0118715/boxoffice?ref_=mojo_tt_cta_bo&amp;rf=mojo_tt_cta_bo\" rel=\"noopener\" target=\"_blank\">\n",
      "          Box office\n",
      "         </a>\n",
      "         <br/>\n",
      "         <div class=\"a-popover-preload\" id=\"a-popover-genrePopover\">\n",
      "          <a class=\"a-link-normal\" href=\"https://pro.imdb.com/boxoffice/genre/sg3739152641?ref_=mojo_tt_cta_genre&amp;rf=mojo_tt_cta_genre\" rel=\"noopener\" target=\"_blank\">\n",
      "           Slacker\n",
      "          </a>\n",
      "          <br/>\n",
      "          <a class=\"a-link-normal\" href=\"https://pro.imdb.com/boxoffice/genre/sg2178806017?ref_=mojo_tt_cta_genre&amp;rf=mojo_tt_cta_genre\" rel=\"noopener\" target=\"_blank\">\n",
      "           Black Comedy\n",
      "          </a>\n",
      "         </div>\n",
      "         <span class=\"a-declarative\" data-a-popover='{\"closeButton\":\"false\",\"dataStrategy\":\"preload\",\"name\":\"genrePopover\"}' data-action=\"a-popover\">\n",
      "          <a class=\"a-popover-trigger a-declarative\" href=\"javascript:void(0)\">\n",
      "           <span>\n",
      "            Genre keyword rankings\n",
      "           </span>\n",
      "           <i class=\"a-icon a-icon-popover\">\n",
      "           </i>\n",
      "          </a>\n",
      "         </span>\n",
      "        </div>\n",
      "       </div>\n",
      "      </div>\n",
      "      <div class=\"a-section a-spacing-none a-spacing-top-base mojo-discloser-button mojo-discloser with-icon mojo-hidden-from-widescreen\" data-target=\".mojo-summary-values\" id=\"mojo-summary-details-discloser\">\n",
      "       <span>\n",
      "        Summary Details\n",
      "       </span>\n",
      "      </div>\n",
      "      <div class=\"a-section a-spacing-none mojo-summary-values mojo-hidden-from-mobile\">\n",
      "       <div class=\"a-section a-spacing-none\">\n",
      "        <span>\n",
      "         Domestic Distributor\n",
      "        </span>\n",
      "        <span>\n",
      "         Gramercy Pictures (I)\n",
      "         <br/>\n",
      "         <a class=\"a-size-small a-link-normal\" href=\"https://pro.imdb.com/company/co0018555/boxoffice/?ref_=mojo_tt_su&amp;rf=mojo_tt_su\" rel=\"noopener\" target=\"_blank\">\n",
      "          See full company information\n",
      "          <svg class=\"mojo-new-window-svg\" viewbox=\"0 0 32 32\" xmlns=\"http://www.w3.org/2000/svg\">\n",
      "           <path d=\"M24,15.57251l3,3V23.5A3.50424,3.50424,0,0,1,23.5,27H8.5A3.50424,3.50424,0,0,1,5,23.5V8.5A3.50424,3.50424,0,0,1,8.5,5h4.92755l3,3H8.5a.50641.50641,0,0,0-.5.5v15a.50641.50641,0,0,0,.5.5h15a.50641.50641,0,0,0,.5-.5ZM19.81952,8.56372,12.8844,17.75a.49989.49989,0,0,0,.04547.65479l.66534.66528a.49983.49983,0,0,0,.65479.04553l9.18628-6.93518,2.12579,2.12585a.5.5,0,0,0,.84741-.27526l1.48273-9.35108a.50006.50006,0,0,0-.57214-.57214L17.969,5.59058a.5.5,0,0,0-.27526.84741Z\">\n",
      "           </path>\n",
      "          </svg>\n",
      "         </a>\n",
      "        </span>\n",
      "       </div>\n",
      "       <div class=\"a-section a-spacing-none\">\n",
      "        <span>\n",
      "         Domestic Opening\n",
      "        </span>\n",
      "        <span>\n",
      "         <a class=\"a-link-normal\" href=\"/release/rl239568385/weekend?ref_=bo_tt_gr#table\">\n",
      "          <span class=\"money\">\n",
      "           $5,533,844\n",
      "          </span>\n",
      "         </a>\n",
      "        </span>\n",
      "       </div>\n",
      "       <div class=\"a-section a-spacing-none\">\n",
      "        <span>\n",
      "         Earliest Release Date\n",
      "        </span>\n",
      "        <span>\n",
      "         March 6, 1998\n",
      "            (Domestic)\n",
      "        </span>\n",
      "       </div>\n",
      "       <div class=\"a-section a-spacing-none\">\n",
      "        <span>\n",
      "         MPAA\n",
      "        </span>\n",
      "        <span>\n",
      "         R\n",
      "        </span>\n",
      "       </div>\n",
      "       <div class=\"a-section a-spacing-none\">\n",
      "        <span>\n",
      "         Running Time\n",
      "        </span>\n",
      "        <span>\n",
      "         1 hr 57 min\n",
      "        </span>\n",
      "       </div>\n",
      "       <div class=\"a-section a-spacing-none\">\n",
      "        <span>\n",
      "         Genres\n",
      "        </span>\n",
      "        <span>\n",
      "         Comedy\n",
      "    \n",
      "        Crime\n",
      "    \n",
      "        Sport\n",
      "        </span>\n",
      "       </div>\n",
      "       <div class=\"a-section a-spacing-none\">\n",
      "        <span>\n",
      "         IMDbPro\n",
      "        </span>\n",
      "        <span>\n",
      "         <a class=\"a-link-normal\" href=\"https://pro.imdb.com/title/tt0118715?ref_=mojo_tt_summary&amp;rf=mojo_tt_summary\" rel=\"noopener\" target=\"_blank\">\n",
      "          See more details at IMDbPro\n",
      "          <svg class=\"mojo-new-window-svg\" viewbox=\"0 0 32 32\" xmlns=\"http://www.w3.org/2000/svg\">\n",
      "           <path d=\"M24,15.57251l3,3V23.5A3.50424,3.50424,0,0,1,23.5,27H8.5A3.50424,3.50424,0,0,1,5,23.5V8.5A3.50424,3.50424,0,0,1,8.5,5h4.92755l3,3H8.5a.50641.50641,0,0,0-.5.5v15a.50641.50641,0,0,0,.5.5h15a.50641.50641,0,0,0,.5-.5ZM19.81952,8.56372,12.8844,17.75a.49989.49989,0,0,0,.04547.65479l.66534.66528a.49983.49983,0,0,0,.65479.04553l9.18628-6.93518,2.12579,2.12585a.5.5,0,0,0,.84741-.27526l1.48273-9.35108a.50006.50006,0,0,0-.57214-.57214L17.969,5.59058a.5.5,0,0,0-.27526.84741Z\">\n",
      "           </path>\n",
      "          </svg>\n",
      "         </a>\n",
      "        </span>\n",
      "       </div>\n",
      "      </div>\n",
      "     </div>\n",
      "     <div class=\"mojo-link-bar-internal mojo-flex mojo-flex-h\" id=\"tabs\">\n",
      "      <div class=\"mojo-tab-container\">\n",
      "       <a class=\"a-size-base a-link-normal mojo-navigation-tab mojo-navigation-tab-active\" href=\"/title/tt0118715/?ref_=bo_tt_tab#tabs\">\n",
      "        Releases\n",
      "       </a>\n",
      "       <a class=\"a-size-base a-link-normal mojo-navigation-tab\" href=\"/title/tt0118715/credits/?ref_=bo_tt_tab#tabs\">\n",
      "        Cast and Crew\n",
      "       </a>\n",
      "       <div class=\"a-section mojo-disabled-tab\">\n",
      "        All-Time Rankings\n",
      "       </div>\n",
      "       <a class=\"a-size-base a-link-normal mojo-navigation-tab\" href=\"/title/tt0118715/news/?ref_=bo_tt_tab#tabs\">\n",
      "        Related Stories\n",
      "       </a>\n",
      "       <a class=\"a-size-base a-link-normal mojo-navigation-tab\" href=\"/title/tt0118715/similar/?ref_=bo_tt_tab#tabs\">\n",
      "        Similar Movies\n",
      "       </a>\n",
      "      </div>\n",
      "     </div>\n",
      "     <div class=\"a-section a-spacing-none a-spacing-top-base\">\n",
      "      <div class=\"a-section mojo-gutter\">\n",
      "       <div class=\"a-section mojo-h-scroll\">\n",
      "        <table class=\"a-bordered a-horizontal-stripes a-size-base-plus\">\n",
      "         <tr>\n",
      "          <th>\n",
      "           Release Group\n",
      "          </th>\n",
      "          <th>\n",
      "           Rollout\n",
      "          </th>\n",
      "          <th>\n",
      "           Markets\n",
      "          </th>\n",
      "          <th class=\"a-text-right\">\n",
      "           Domestic\n",
      "          </th>\n",
      "          <th class=\"a-text-right\">\n",
      "           International\n",
      "          </th>\n",
      "          <th class=\"a-text-right\">\n",
      "           Worldwide\n",
      "          </th>\n",
      "         </tr>\n",
      "         <tr>\n",
      "          <td class=\"a-align-center\">\n",
      "           <a class=\"a-link-normal\" href=\"/releasegroup/gr3312079365/?ref_=bo_tt_gr_1\">\n",
      "            Original Release\n",
      "           </a>\n",
      "          </td>\n",
      "          <td class=\"a-align-center\">\n",
      "           March 6, 1998\n",
      "          </td>\n",
      "          <td class=\"a-align-center\">\n",
      "           <a class=\"a-link-normal\" href=\"/release/rl239568385/?ref_=bo_tt_gr_1\">\n",
      "            Domestic\n",
      "           </a>\n",
      "          </td>\n",
      "          <td class=\"a-text-right a-align-center\">\n",
      "           <span class=\"money\">\n",
      "            $17,451,873\n",
      "           </span>\n",
      "          </td>\n",
      "          <td class=\"a-text-right a-align-center\">\n",
      "           <span class=\"money\">\n",
      "            $28,690,764\n",
      "           </span>\n",
      "          </td>\n",
      "          <td class=\"a-text-right a-align-center\">\n",
      "           <span class=\"money\">\n",
      "            $46,142,637\n",
      "           </span>\n",
      "          </td>\n",
      "         </tr>\n",
      "         <tr>\n",
      "          <td class=\"a-align-center\">\n",
      "           <a class=\"a-link-normal\" href=\"/releasegroup/gr3664400901/?ref_=bo_tt_gr_2\">\n",
      "            2018 Re-release\n",
      "           </a>\n",
      "          </td>\n",
      "          <td class=\"a-align-center\">\n",
      "           August 5-September 21, 2018\n",
      "          </td>\n",
      "          <td class=\"a-align-center\">\n",
      "           <a class=\"a-link-normal\" href=\"/releasegroup/gr3664400901/?ref_=bo_tt_gr_2\">\n",
      "            EMEA, Domestic\n",
      "           </a>\n",
      "          </td>\n",
      "          <td class=\"a-text-right a-align-center\">\n",
      "           <span class=\"money\">\n",
      "            $582,585\n",
      "           </span>\n",
      "          </td>\n",
      "          <td class=\"a-text-right a-align-center\">\n",
      "           <span class=\"money\">\n",
      "            $10,247\n",
      "           </span>\n",
      "          </td>\n",
      "          <td class=\"a-text-right a-align-center\">\n",
      "           <span class=\"money\">\n",
      "            $592,832\n",
      "           </span>\n",
      "          </td>\n",
      "         </tr>\n",
      "        </table>\n",
      "       </div>\n",
      "      </div>\n",
      "     </div>\n",
      "    </div>\n",
      "   </main>\n",
      "   <div class=\"a-section a-spacing-none mojo-navigation-frame\">\n",
      "    <div class=\"a-section a-spacing-none mojo-navigation mojo-footer\">\n",
      "     <a class=\"a-link-normal imdb-pro-logo\" href=\"https://pro.imdb.com/?ref_=mojo_ft_tt_prologo&amp;rf=mojo_ft_tt_prologo\">\n",
      "     </a>\n",
      "     <p>\n",
      "      Latest Updates:\n",
      "      <a class=\"a-link-normal\" href=\"/news/?ref_=bo_ft_tt_news\">\n",
      "       News\n",
      "      </a>\n",
      "      |\n",
      "      <a class=\"a-link-normal\" href=\"/daily/?ref_=bo_ft_tt_daily\">\n",
      "       Daily\n",
      "      </a>\n",
      "      |\n",
      "      <a class=\"a-link-normal\" href=\"/weekend/?ref_=bo_ft_tt_weekend\">\n",
      "       Weekend\n",
      "      </a>\n",
      "      |\n",
      "      <a class=\"a-link-normal\" href=\"/charts/?ref_=bo_ft_tt_charts\">\n",
      "       All Time\n",
      "      </a>\n",
      "      |\n",
      "      <a class=\"a-link-normal\" href=\"/intl/?ref_=bo_ft_tt_intl\">\n",
      "       International\n",
      "      </a>\n",
      "      |\n",
      "      <a class=\"a-link-normal\" href=\"/showdown/?ref_=bo_ft_tt_showdown\">\n",
      "       Showdowns\n",
      "      </a>\n",
      "     </p>\n",
      "     <p class=\"mojo-help-row\">\n",
      "      <a class=\"a-link-normal\" href=\"https://help.imdb.com/article/imdbpro/industry-research/box-office-mojo-by-imdbpro-faq/GCWTV4MQKGWRAUAP?ref_=mojo_ftr_help\" rel=\"noopener\" target=\"_blank\">\n",
      "       Help\n",
      "      </a>\n",
      "     </p>\n",
      "     <p>\n",
      "      BoxOfficeMojo.com by IMDbPro - an\n",
      "      <a class=\"a-link-normal\" href=\"http://www.imdb.com/\" rel=\"noopener\" target=\"_blank\">\n",
      "       IMDb\n",
      "      </a>\n",
      "      company.\n",
      "     </p>\n",
      "     <p>\n",
      "      © IMDb.com, Inc. or its affiliates. All rights reserved.\n",
      "            Box Office Mojo and IMDb are trademarks or registered trademarks of IMDb.com, Inc. or its affiliates.\n",
      "      <a class=\"a-link-normal\" href=\"/conditions/?ref_=bo_ft_tt_conditions\">\n",
      "       Conditions of Use\n",
      "      </a>\n",
      "      and\n",
      "      <a class=\"a-link-normal\" href=\"/privacy/?ref_=bo_ft_tt_privacy\">\n",
      "       Privacy Policy\n",
      "      </a>\n",
      "      under which this service is provided to you.\n",
      "     </p>\n",
      "    </div>\n",
      "   </div>\n",
      "  </div>\n",
      " </body>\n",
      "</html>\n"
     ]
    }
   ],
   "source": [
    "print(soup.prettify())"
   ]
  },
  {
   "cell_type": "markdown",
   "metadata": {},
   "source": [
    "**QUESTIONS**\n",
    "\n",
    "> Select the first link on the page."
   ]
  },
  {
   "cell_type": "code",
   "execution_count": null,
   "metadata": {},
   "outputs": [],
   "source": []
  },
  {
   "cell_type": "markdown",
   "metadata": {},
   "source": [
    "> Now select the LAST link on the page.  Can you get the text and the URL associated with this link?"
   ]
  },
  {
   "cell_type": "code",
   "execution_count": null,
   "metadata": {},
   "outputs": [],
   "source": []
  },
  {
   "cell_type": "code",
   "execution_count": null,
   "metadata": {},
   "outputs": [],
   "source": []
  },
  {
   "cell_type": "code",
   "execution_count": null,
   "metadata": {},
   "outputs": [],
   "source": []
  },
  {
   "cell_type": "markdown",
   "metadata": {},
   "source": [
    "Remember `find` gets only one match, but `find_all` retrieves all matches in a list."
   ]
  },
  {
   "cell_type": "code",
   "execution_count": 25,
   "metadata": {},
   "outputs": [
    {
     "name": "stdout",
     "output_type": "stream",
     "text": [
      "<a class=\"a-link-normal\" href=\"/?ref_=bo_nb_tt_mojologo\"></a> \n",
      "\n",
      "<a class=\"a-popover-trigger a-declarative\" href=\"javascript:void(0)\"><span class=\"mobile-menu-popover-trigger\"></span>\n",
      "<i class=\"a-icon a-icon-popover\"></i></a> \n",
      "\n",
      "<a class=\"a-link-normal mojo-rollover-image\" href=\"https://pro.imdb.com/login/ap?u=%2Flogin%2Flwa&amp;imdbPageAction=signUp&amp;ref_=mojo_nb_tt_rollover&amp;rf=mojo_nb_tt_rollover\"><img alt=\"\" src=\"https://m.media-amazon.com/images/G/01/IMDbPro/images/MI_121919_NYNY2020_Engagement_rollover_2x._CB1578336809_.png\"/></a> \n",
      "\n",
      "<a class=\"a-popover-trigger a-declarative\" href=\"javascript:void(0)\"><span class=\"imdb-pro-logo\"></span><i class=\"a-icon a-icon-popover\"></i></a> \n",
      "\n",
      "<a class=\"a-link-normal mojo-fb-logo\" href=\"https://www.facebook.com/BoxOfficeMojo/\" rel=\"noopener\" target=\"_blank\"></a> \n",
      "\n"
     ]
    }
   ],
   "source": [
    "for link in soup.find_all('a')[:5]:\n",
    "    print(link, '\\n')"
   ]
  },
  {
   "cell_type": "markdown",
   "metadata": {},
   "source": [
    "And you can match only those with a specific `id` or `class` if you'd like.  Here are all the elements labeled with the \"mojo-navigtaion-tab\" class."
   ]
  },
  {
   "cell_type": "code",
   "execution_count": 26,
   "metadata": {},
   "outputs": [
    {
     "name": "stdout",
     "output_type": "stream",
     "text": [
      "<a class=\"a-size-medium a-link-normal mojo-navigation-tab\" href=\"/date/?ref_=bo_nb_tt_tab\">\n",
      " Domestic\n",
      "</a>\n",
      "\n",
      "<a class=\"a-size-medium a-link-normal mojo-navigation-tab\" href=\"/intl/?ref_=bo_nb_tt_tab\">\n",
      " International\n",
      "</a>\n",
      "\n",
      "<a class=\"a-size-medium a-link-normal mojo-navigation-tab\" href=\"/year/world/?ref_=bo_nb_tt_tab\">\n",
      " Worldwide\n",
      "</a>\n",
      "\n",
      "<a class=\"a-size-medium a-link-normal mojo-navigation-tab\" href=\"/calendar/?ref_=bo_nb_tt_tab\">\n",
      " Calendar\n",
      "</a>\n",
      "\n",
      "<a class=\"a-size-medium a-link-normal mojo-navigation-tab\" href=\"/charts/overall/?ref_=bo_nb_tt_tab\">\n",
      " All Time\n",
      "</a>\n",
      "\n",
      "<a class=\"a-size-medium a-link-normal mojo-navigation-tab\" href=\"/showdown/?ref_=bo_nb_tt_tab\">\n",
      " Showdowns\n",
      "</a>\n",
      "\n",
      "<a class=\"a-size-medium a-link-normal mojo-navigation-tab\" href=\"/brand/?ref_=bo_nb_tt_tab\">\n",
      " Indices\n",
      "</a>\n",
      "<a class=\"a-size-base a-link-normal mojo-navigation-tab mojo-navigation-tab-active\" href=\"/title/tt0118715/?ref_=bo_tt_tab#tabs\">\n",
      " Releases\n",
      "</a>\n",
      "\n",
      "<a class=\"a-size-base a-link-normal mojo-navigation-tab\" href=\"/title/tt0118715/credits/?ref_=bo_tt_tab#tabs\">\n",
      " Cast and Crew\n",
      "</a>\n",
      "\n",
      "<a class=\"a-size-base a-link-normal mojo-navigation-tab\" href=\"/title/tt0118715/news/?ref_=bo_tt_tab#tabs\">\n",
      " Related Stories\n",
      "</a>\n",
      "\n",
      "<a class=\"a-size-base a-link-normal mojo-navigation-tab\" href=\"/title/tt0118715/similar/?ref_=bo_tt_tab#tabs\">\n",
      " Similar Movies\n",
      "</a>\n"
     ]
    }
   ],
   "source": [
    "for element in soup.find_all(class_='mojo-navigation-tab'):\n",
    "    print(element.prettify())"
   ]
  },
  {
   "cell_type": "markdown",
   "metadata": {},
   "source": [
    "It's important to remember `find` and `find_all` return BeautifulSoup elements. You can continue searching these elements, thus chaining commands together.\n",
    "\n",
    "Basic earnings information can be found in the `div` with the \"mojo-performance-summary-table\" class.  Let's extract the domestic gross from this element.\n",
    "\n",
    "<br>\n",
    "<img src=\"images/biglebow_table.png\" alt=\"Big Lebowski Table\" style=\"width: 500px;\"/>"
   ]
  },
  {
   "cell_type": "code",
   "execution_count": 27,
   "metadata": {},
   "outputs": [
    {
     "name": "stdout",
     "output_type": "stream",
     "text": [
      "<div class=\"a-section a-spacing-none mojo-performance-summary-table\">\n",
      " <h2 class=\"a-size-large a-text-bold\">\n",
      "  All Releases\n",
      " </h2>\n",
      " <div class=\"a-section a-spacing-none\">\n",
      "  <span class=\"a-size-small\">\n",
      "   Domestic (\n",
      "   <span class=\"percent\">\n",
      "    38.6%\n",
      "   </span>\n",
      "   )\n",
      "  </span>\n",
      "  <br/>\n",
      "  <span class=\"a-size-medium a-text-bold\">\n",
      "   <span class=\"money\">\n",
      "    $18,034,458\n",
      "   </span>\n",
      "  </span>\n",
      " </div>\n",
      " <div class=\"a-section a-spacing-none\">\n",
      "  <span class=\"a-size-small\">\n",
      "   International (\n",
      "   <span class=\"percent\">\n",
      "    61.4%\n",
      "   </span>\n",
      "   )\n",
      "  </span>\n",
      "  <br/>\n",
      "  <span class=\"a-size-medium a-text-bold\">\n",
      "   <span class=\"money\">\n",
      "    $28,701,011\n",
      "   </span>\n",
      "  </span>\n",
      " </div>\n",
      " <div class=\"a-section a-spacing-none\">\n",
      "  <span class=\"a-size-small\">\n",
      "   Worldwide\n",
      "  </span>\n",
      "  <br/>\n",
      "  <span class=\"a-size-medium a-text-bold\">\n",
      "   <span class=\"money\">\n",
      "    $46,735,469\n",
      "   </span>\n",
      "  </span>\n",
      " </div>\n",
      "</div>\n",
      "\n"
     ]
    }
   ],
   "source": [
    "print(soup.find(class_='mojo-performance-summary-table').prettify())"
   ]
  },
  {
   "cell_type": "code",
   "execution_count": 28,
   "metadata": {},
   "outputs": [
    {
     "data": {
      "text/plain": [
       "[<span class=\"money\">$18,034,458</span>,\n",
       " <span class=\"money\">$28,701,011</span>,\n",
       " <span class=\"money\">$46,735,469</span>]"
      ]
     },
     "execution_count": 28,
     "metadata": {},
     "output_type": "execute_result"
    }
   ],
   "source": [
    "soup.find(class_='mojo-performance-summary-table').find_all('span', class_='money')"
   ]
  },
  {
   "cell_type": "markdown",
   "metadata": {},
   "source": [
    "Text needs to be extracted from one element at a time.  To get the domestic gross:"
   ]
  },
  {
   "cell_type": "code",
   "execution_count": 29,
   "metadata": {},
   "outputs": [
    {
     "data": {
      "text/plain": [
       "'$18,034,458'"
      ]
     },
     "execution_count": 29,
     "metadata": {},
     "output_type": "execute_result"
    }
   ],
   "source": [
    "soup.find(class_='mojo-performance-summary-table').find_all('span', class_='money')[0].text"
   ]
  },
  {
   "cell_type": "markdown",
   "metadata": {},
   "source": [
    "You can also find using an `id`; remember id should be unique to just one element."
   ]
  },
  {
   "cell_type": "code",
   "execution_count": 30,
   "metadata": {
    "scrolled": true
   },
   "outputs": [
    {
     "name": "stdout",
     "output_type": "stream",
     "text": [
      "<div class=\"mojo-link-bar-internal mojo-flex mojo-flex-h\" id=\"tabs\">\n",
      " <div class=\"mojo-tab-container\">\n",
      "  <a class=\"a-size-base a-link-normal mojo-navigation-tab mojo-navigation-tab-active\" href=\"/title/tt0118715/?ref_=bo_tt_tab#tabs\">\n",
      "   Releases\n",
      "  </a>\n",
      "  <a class=\"a-size-base a-link-normal mojo-navigation-tab\" href=\"/title/tt0118715/credits/?ref_=bo_tt_tab#tabs\">\n",
      "   Cast and Crew\n",
      "  </a>\n",
      "  <div class=\"a-section mojo-disabled-tab\">\n",
      "   All-Time Rankings\n",
      "  </div>\n",
      "  <a class=\"a-size-base a-link-normal mojo-navigation-tab\" href=\"/title/tt0118715/news/?ref_=bo_tt_tab#tabs\">\n",
      "   Related Stories\n",
      "  </a>\n",
      "  <a class=\"a-size-base a-link-normal mojo-navigation-tab\" href=\"/title/tt0118715/similar/?ref_=bo_tt_tab#tabs\">\n",
      "   Similar Movies\n",
      "  </a>\n",
      " </div>\n",
      "</div>\n",
      "\n"
     ]
    }
   ],
   "source": [
    "print(soup.find(id='tabs').prettify())"
   ]
  },
  {
   "cell_type": "markdown",
   "metadata": {},
   "source": [
    "### Web Scraping Pipeline\n",
    "\n",
    "Now that we have the basics, let's practice web scraping.  **The main goal of web scraping is to extract data by taking advantage of a site's consistent format.**  That is, the code you write for one page on a website can hopefully be used on multiple pages to gather more information automatically.\n",
    "\n",
    "Let's create code to get the following information for the movies on Box Office Mojo:\n",
    "- Movie title\n",
    "- Domestic gross\n",
    "- Runtime\n",
    "- MPAA rating\n",
    "- Release date"
   ]
  },
  {
   "cell_type": "markdown",
   "metadata": {},
   "source": [
    "#### Movie Title"
   ]
  },
  {
   "cell_type": "code",
   "execution_count": 31,
   "metadata": {},
   "outputs": [
    {
     "data": {
      "text/plain": [
       "<title dir=\"ltr\">The Big Lebowski - Box Office Mojo</title>"
      ]
     },
     "execution_count": 31,
     "metadata": {},
     "output_type": "execute_result"
    }
   ],
   "source": [
    "soup.find('title')"
   ]
  },
  {
   "cell_type": "code",
   "execution_count": 32,
   "metadata": {},
   "outputs": [
    {
     "data": {
      "text/plain": [
       "'The Big Lebowski - Box Office Mojo'"
      ]
     },
     "execution_count": 32,
     "metadata": {},
     "output_type": "execute_result"
    }
   ],
   "source": [
    "title_string = soup.find('title').text\n",
    "\n",
    "title_string"
   ]
  },
  {
   "cell_type": "code",
   "execution_count": 33,
   "metadata": {},
   "outputs": [
    {
     "data": {
      "text/plain": [
       "['The Big Lebowski ', ' Box Office Mojo']"
      ]
     },
     "execution_count": 33,
     "metadata": {},
     "output_type": "execute_result"
    }
   ],
   "source": [
    "title_string.split('-')"
   ]
  },
  {
   "cell_type": "code",
   "execution_count": 34,
   "metadata": {},
   "outputs": [
    {
     "data": {
      "text/plain": [
       "'The Big Lebowski'"
      ]
     },
     "execution_count": 34,
     "metadata": {},
     "output_type": "execute_result"
    }
   ],
   "source": [
    "title = title_string.split('-')[0].strip()\n",
    "\n",
    "title"
   ]
  },
  {
   "cell_type": "markdown",
   "metadata": {},
   "source": [
    "#### Domestic Gross: \n",
    "\n",
    "As we saw previously, the domestic gross can be found in a `span` within the \"mojo-performance-summary-table\" `div`."
   ]
  },
  {
   "cell_type": "code",
   "execution_count": 35,
   "metadata": {},
   "outputs": [
    {
     "data": {
      "text/plain": [
       "'$18,034,458'"
      ]
     },
     "execution_count": 35,
     "metadata": {},
     "output_type": "execute_result"
    }
   ],
   "source": [
    "dtg = soup.find(class_='mojo-performance-summary-table').find_all('span', class_='money')[0].text\n",
    "dtg"
   ]
  },
  {
   "cell_type": "markdown",
   "metadata": {},
   "source": [
    "The remainder of the information lives in this neighboring `div`."
   ]
  },
  {
   "cell_type": "markdown",
   "metadata": {},
   "source": [
    "<img src=\"images/biglebow_info.png\" alt=\"Big Lebowski Information\" style=\"width: 500px;\"/>"
   ]
  },
  {
   "cell_type": "markdown",
   "metadata": {},
   "source": [
    "#### Runtime: `.findNext()`\n",
    "\n",
    "Sometimes you can find the information you are looking for by using text matching.  But note this must be an exact match!"
   ]
  },
  {
   "cell_type": "code",
   "execution_count": 36,
   "metadata": {},
   "outputs": [],
   "source": [
    "soup.find(text='Run')  #does not match"
   ]
  },
  {
   "cell_type": "code",
   "execution_count": 37,
   "metadata": {},
   "outputs": [
    {
     "data": {
      "text/plain": [
       "'Running Time'"
      ]
     },
     "execution_count": 37,
     "metadata": {},
     "output_type": "execute_result"
    }
   ],
   "source": [
    "soup.find(text='Running Time')  "
   ]
  },
  {
   "cell_type": "markdown",
   "metadata": {},
   "source": [
    "Alternatively, we could use [regular expressions](https://docs.python.org/3/library/re.html)."
   ]
  },
  {
   "cell_type": "code",
   "execution_count": 38,
   "metadata": {},
   "outputs": [
    {
     "data": {
      "text/plain": [
       "'Running Time'"
      ]
     },
     "execution_count": 38,
     "metadata": {},
     "output_type": "execute_result"
    }
   ],
   "source": [
    "import re\n",
    "runtime_regex = re.compile('Run')\n",
    "soup.find(text=runtime_regex)"
   ]
  },
  {
   "cell_type": "code",
   "execution_count": 39,
   "metadata": {},
   "outputs": [
    {
     "name": "stdout",
     "output_type": "stream",
     "text": [
      "Running Time\n"
     ]
    }
   ],
   "source": [
    "rt_string = soup.find(text=re.compile('Run'))\n",
    "print(rt_string)"
   ]
  },
  {
   "cell_type": "code",
   "execution_count": 40,
   "metadata": {},
   "outputs": [
    {
     "data": {
      "text/plain": [
       "bs4.element.NavigableString"
      ]
     },
     "execution_count": 40,
     "metadata": {},
     "output_type": "execute_result"
    }
   ],
   "source": [
    "type(rt_string)"
   ]
  },
  {
   "cell_type": "markdown",
   "metadata": {},
   "source": [
    "The string we found is still a Beautiful Soup element. This means we can use it to navigate to the next element in the HTML, which is a `span` containing the actual runtime."
   ]
  },
  {
   "cell_type": "code",
   "execution_count": 41,
   "metadata": {},
   "outputs": [
    {
     "data": {
      "text/plain": [
       "<span>1 hr 57 min</span>"
      ]
     },
     "execution_count": 41,
     "metadata": {},
     "output_type": "execute_result"
    }
   ],
   "source": [
    "rt_string.findNext()"
   ]
  },
  {
   "cell_type": "markdown",
   "metadata": {},
   "source": [
    "The `.findNext()` method can be incredibly useful when the information you want to find doesn't have a obvious tag, class, id, etc.\n",
    "\n",
    "Let's clean this value up into usable data."
   ]
  },
  {
   "cell_type": "code",
   "execution_count": 42,
   "metadata": {},
   "outputs": [
    {
     "name": "stdout",
     "output_type": "stream",
     "text": [
      "117\n"
     ]
    }
   ],
   "source": [
    "rt = rt_string.findNext().text\n",
    "rt = rt.split()\n",
    "minutes = int(rt[0])*60 + int(rt[2])\n",
    "print(minutes)"
   ]
  },
  {
   "cell_type": "markdown",
   "metadata": {},
   "source": [
    "#### MPAA Rating, Release Date\n",
    "\n",
    "_**STEP 1:** Create function to grab values_ \n",
    "\n",
    "The text matching method can also help us get runtime, rating, and release date, so let's make a reuable function."
   ]
  },
  {
   "cell_type": "code",
   "execution_count": 43,
   "metadata": {},
   "outputs": [],
   "source": [
    "def get_movie_value(soup, field_name):\n",
    "    \n",
    "    '''Grab a value from Box Office Mojo HTML\n",
    "    \n",
    "    Takes a string attribute of a movie on the page and returns the string in\n",
    "    the next sibling object (the value for that attribute) or None if nothing is found.\n",
    "    '''\n",
    "    \n",
    "    obj = soup.find(text=re.compile(field_name))\n",
    "    \n",
    "    if not obj: \n",
    "        return None\n",
    "    \n",
    "    # this works for most of the values\n",
    "    next_element = obj.findNext()\n",
    "    \n",
    "    if next_element:\n",
    "        return next_element.text \n",
    "    else:\n",
    "        return None"
   ]
  },
  {
   "cell_type": "code",
   "execution_count": 44,
   "metadata": {},
   "outputs": [
    {
     "name": "stdout",
     "output_type": "stream",
     "text": [
      "1 hr 57 min\n"
     ]
    }
   ],
   "source": [
    "# runtime\n",
    "runtime = get_movie_value(soup,'Run')\n",
    "print(runtime)"
   ]
  },
  {
   "cell_type": "code",
   "execution_count": 45,
   "metadata": {},
   "outputs": [
    {
     "name": "stdout",
     "output_type": "stream",
     "text": [
      "R\n"
     ]
    }
   ],
   "source": [
    "# rating\n",
    "rating = get_movie_value(soup,'MPAA')\n",
    "print(rating)"
   ]
  },
  {
   "cell_type": "code",
   "execution_count": 46,
   "metadata": {},
   "outputs": [
    {
     "name": "stdout",
     "output_type": "stream",
     "text": [
      "March 6, 1998\n",
      "            (Domestic)\n"
     ]
    }
   ],
   "source": [
    "release_date = get_movie_value(soup,'Release Date')\n",
    "print(release_date)"
   ]
  },
  {
   "cell_type": "code",
   "execution_count": 47,
   "metadata": {},
   "outputs": [
    {
     "name": "stdout",
     "output_type": "stream",
     "text": [
      "March 6, 1998\n"
     ]
    }
   ],
   "source": [
    "release_date = release_date.split('\\n')[0]  #Select the only the date\n",
    "print(release_date)"
   ]
  },
  {
   "cell_type": "markdown",
   "metadata": {},
   "source": [
    "_**STEP 2:** Create helper functions to parse strings into appropriate data types_\n",
    "\n",
    "The returned values all need a bit of formatting before we can work with this data.  Here are a few helper functions."
   ]
  },
  {
   "cell_type": "code",
   "execution_count": 48,
   "metadata": {},
   "outputs": [],
   "source": [
    "import dateutil.parser\n",
    "\n",
    "def money_to_int(moneystring):\n",
    "    moneystring = moneystring.replace('$', '').replace(',', '')\n",
    "    return int(moneystring)\n",
    "\n",
    "def runtime_to_minutes(runtimestring):\n",
    "    runtime = runtimestring.split()\n",
    "    try:\n",
    "        minutes = int(runtime[0])*60 + int(runtime[2])\n",
    "        return minutes\n",
    "    except:\n",
    "        return None\n",
    "\n",
    "def to_date(datestring):\n",
    "    date = dateutil.parser.parse(datestring)\n",
    "    return date"
   ]
  },
  {
   "cell_type": "markdown",
   "metadata": {},
   "source": [
    "_**STEP 3:** Apply these conversions_\n",
    "\n",
    "Let's get these values again and format them all in one swoop. (Note: Rating is already correct as a string.)"
   ]
  },
  {
   "cell_type": "code",
   "execution_count": 49,
   "metadata": {},
   "outputs": [],
   "source": [
    "raw_domestic_total_gross = dtg\n",
    "domestic_total_gross = money_to_int(raw_domestic_total_gross)\n",
    "\n",
    "raw_runtime = get_movie_value(soup,'Running')\n",
    "runtime = runtime_to_minutes(raw_runtime)\n",
    "\n",
    "raw_release_date = get_movie_value(soup,'Release Date').split('\\n')[0]\n",
    "release_date = to_date(raw_release_date)"
   ]
  },
  {
   "cell_type": "markdown",
   "metadata": {},
   "source": [
    "#### Put Results in Dictionary\n",
    "\n",
    "Now that we have results for all five quantities, we can store them in a dictionary."
   ]
  },
  {
   "cell_type": "code",
   "execution_count": 50,
   "metadata": {},
   "outputs": [
    {
     "data": {
      "text/plain": [
       "[{'movie title': 'The Big Lebowski',\n",
       "  'domestic total gross': 18034458,\n",
       "  'runtime (mins)': 117,\n",
       "  'rating': 'R',\n",
       "  'release date': datetime.datetime(1998, 3, 6, 0, 0)}]"
      ]
     },
     "execution_count": 50,
     "metadata": {},
     "output_type": "execute_result"
    }
   ],
   "source": [
    "headers = ['movie title', 'domestic total gross',\n",
    "           'runtime (mins)', 'rating', 'release date']\n",
    "\n",
    "movie_data = []\n",
    "movie_dict = dict(zip(headers, [title,\n",
    "                                domestic_total_gross,\n",
    "                                runtime,\n",
    "                                rating, \n",
    "                                release_date]))\n",
    "\n",
    "movie_data.append(movie_dict)\n",
    "movie_data"
   ]
  },
  {
   "cell_type": "markdown",
   "metadata": {},
   "source": [
    "**QUESTION**\n",
    "\n",
    "> Why might we want to store these data in a dictionary?  Why did we put the dictionary in a list?"
   ]
  },
  {
   "cell_type": "markdown",
   "metadata": {},
   "source": [
    "### Scraping Tables\n",
    "\n",
    "Let's take a look at the [top G-rated movies](https://www.boxofficemojo.com/chart/mpaa_title_lifetime_gross/?by_mpaa=G) of Box Office Mojo.  How could we pull all the data from this main page?\n",
    "\n",
    "First request the HTML and parse it with Beautiful Soup."
   ]
  },
  {
   "cell_type": "code",
   "execution_count": 78,
   "metadata": {},
   "outputs": [],
   "source": [
    "url = 'https://www.boxofficemojo.com/year/2020/?ref_=bo_yl_table_1'\n",
    "\n",
    "response = requests.get(url)\n",
    "page = response.text\n",
    "\n",
    "soup = BeautifulSoup(page,\"html5lib\")"
   ]
  },
  {
   "cell_type": "markdown",
   "metadata": {},
   "source": [
    "Now find the main table; its the only `table` on the page."
   ]
  },
  {
   "cell_type": "code",
   "execution_count": 79,
   "metadata": {},
   "outputs": [
    {
     "data": {
      "text/plain": [
       "<table class=\"a-bordered a-horizontal-stripes a-size-base a-span12 mojo-body-table mojo-table-annotated mojo-body-table-compact\"><tbody><tr><th class=\"a-text-right mojo-field-type-rank mojo-sort-column mojo-sortable-column a-nowrap\"><a class=\"a-link-normal a-nowrap\" href=\"?sort=rank&amp;ref_=bo_yld__resort#table\" title=\"Rank\"><span class=\"a-color-state\">Rank</span><span class=\"a-letter-space\"></span><span class=\"icon aok-relative\"><i class=\"a-icon a-icon-collapse\" role=\"img\"></i></span></a></th><th class=\"a-text-left mojo-field-type-release mojo-cell-wide mojo-sortable-column a-nowrap\"><span title=\"Release\">Release</span>\n",
       "            </th><th class=\"a-text-left mojo-field-type-genre hidden mojo-sortable-column hidden a-nowrap\"><span title=\"Genre\">Genre</span>\n",
       "            </th><th class=\"a-text-right mojo-field-type-money hidden mojo-sortable-column hidden a-nowrap\"><span title=\"Budget\">Budget</span>\n",
       "            </th><th class=\"a-text-right mojo-field-type-duration hidden mojo-sortable-column hidden a-nowrap\"><span title=\"Running Time\">Running Time</span>\n",
       "            </th><th class=\"a-text-right mojo-field-type-money mojo-sortable-column mojo-estimatable a-nowrap\"><a class=\"a-link-normal a-nowrap\" href=\"?sort=gross&amp;ref_=bo_yld__resort#table\" title=\"Gross\">Gross<span class=\"a-letter-space\"></span><span class=\"icon aok-relative\"><i class=\"a-icon a-icon-expand table-sort-desc-placeholder\" role=\"img\"></i><i class=\"a-icon a-icon-collapse table-sort-asc-placeholder\" role=\"img\"></i></span></a></th><th class=\"a-text-right mojo-field-type-positive_integer mojo-sortable-column a-nowrap\"><a class=\"a-link-normal a-nowrap\" href=\"?sort=maxNumTheaters&amp;ref_=bo_yld__resort#table\" title=\"Maximum Number of Theaters\">Theaters<span class=\"a-letter-space\"></span><span class=\"icon aok-relative\"><i class=\"a-icon a-icon-expand table-sort-desc-placeholder\" role=\"img\"></i><i class=\"a-icon a-icon-collapse table-sort-asc-placeholder\" role=\"img\"></i></span></a></th><th class=\"a-text-right mojo-field-type-money mojo-sortable-column mojo-estimatable a-nowrap\"><a class=\"a-link-normal a-nowrap\" href=\"?sort=grossToDate&amp;ref_=bo_yld__resort#table\" title=\"Total Gross\">Total Gross<span class=\"a-letter-space\"></span><span class=\"icon aok-relative\"><i class=\"a-icon a-icon-expand table-sort-desc-placeholder\" role=\"img\"></i><i class=\"a-icon a-icon-collapse table-sort-asc-placeholder\" role=\"img\"></i></span></a></th><th class=\"a-text-left mojo-field-type-date mojo-sortable-column a-nowrap\"><a class=\"a-link-normal a-nowrap\" href=\"?sort=releaseDate&amp;ref_=bo_yld__resort#table\" title=\"Release Date\">Release Date<span class=\"a-letter-space\"></span><span class=\"icon aok-relative\"><i class=\"a-icon a-icon-expand table-sort-desc-placeholder\" role=\"img\"></i><i class=\"a-icon a-icon-collapse table-sort-asc-placeholder\" role=\"img\"></i></span></a></th><th class=\"a-text-left mojo-field-type-studio mojo-sortable-column a-nowrap\"><span title=\"Distributor\">Distributor</span>\n",
       "            </th><th class=\"a-text-right mojo-field-type-boolean hidden mojo-sortable-column hidden a-nowrap\"><span title=\"Estimated\">Estimated</span>\n",
       "            </th></tr><tr><td class=\"a-text-right mojo-header-column mojo-truncate mojo-field-type-rank mojo-sort-column\">1</td><td class=\"a-text-left mojo-field-type-release mojo-cell-wide\"><a class=\"a-link-normal\" href=\"/release/rl1182631425/?ref_=bo_yld_table_1\">Bad Boys for Life</a></td><td class=\"a-text-left mojo-field-type-genre hidden\">-</td><td class=\"a-text-right mojo-field-type-money hidden\">-</td><td class=\"a-text-right mojo-field-type-duration hidden\">-</td><td class=\"a-text-right mojo-field-type-money mojo-estimatable\">$204,417,855</td><td class=\"a-text-right mojo-field-type-positive_integer\">3,775</td><td class=\"a-text-right mojo-field-type-money mojo-estimatable\">$204,417,855</td><td class=\"a-text-left mojo-field-type-date a-nowrap\">Jan 17</td><td class=\"a-text-left mojo-field-type-studio\">-</td><td class=\"a-text-right mojo-field-type-boolean hidden\">false</td></tr><tr><td class=\"a-text-right mojo-header-column mojo-truncate mojo-field-type-rank mojo-sort-column\">2</td><td class=\"a-text-left mojo-field-type-release mojo-cell-wide\"><a class=\"a-link-normal\" href=\"/release/rl2969994753/?ref_=bo_yld_table_2\">1917</a></td><td class=\"a-text-left mojo-field-type-genre hidden\">-</td><td class=\"a-text-right mojo-field-type-money hidden\">-</td><td class=\"a-text-right mojo-field-type-duration hidden\">-</td><td class=\"a-text-right mojo-field-type-money mojo-estimatable\">$157,901,466</td><td class=\"a-text-right mojo-field-type-positive_integer\">3,987</td><td class=\"a-text-right mojo-field-type-money mojo-estimatable\">$159,227,644</td><td class=\"a-text-left mojo-field-type-date a-nowrap\">Dec 25</td><td class=\"a-text-left mojo-field-type-studio\"><a class=\"a-link-normal\" href=\"https://pro.imdb.com/company/co0005073/boxoffice/?view=releases&amp;ref_=mojo_yld_table_2&amp;rf=mojo_yld_table_2\" rel=\"noopener\" target=\"_blank\">Universal Pictures<svg class=\"mojo-new-window-svg\" viewBox=\"0 0 32 32\" xmlns=\"http://www.w3.org/2000/svg\">\n",
       "        <path d=\"M24,15.57251l3,3V23.5A3.50424,3.50424,0,0,1,23.5,27H8.5A3.50424,3.50424,0,0,1,5,23.5V8.5A3.50424,3.50424,0,0,1,8.5,5h4.92755l3,3H8.5a.50641.50641,0,0,0-.5.5v15a.50641.50641,0,0,0,.5.5h15a.50641.50641,0,0,0,.5-.5ZM19.81952,8.56372,12.8844,17.75a.49989.49989,0,0,0,.04547.65479l.66534.66528a.49983.49983,0,0,0,.65479.04553l9.18628-6.93518,2.12579,2.12585a.5.5,0,0,0,.84741-.27526l1.48273-9.35108a.50006.50006,0,0,0-.57214-.57214L17.969,5.59058a.5.5,0,0,0-.27526.84741Z\"></path>\n",
       "    </svg></a></td><td class=\"a-text-right mojo-field-type-boolean hidden\">false</td></tr><tr><td class=\"a-text-right mojo-header-column mojo-truncate mojo-field-type-rank mojo-sort-column\">3</td><td class=\"a-text-left mojo-field-type-release mojo-cell-wide\"><a class=\"a-link-normal\" href=\"/release/rl4244997633/?ref_=bo_yld_table_3\">Sonic the Hedgehog</a></td><td class=\"a-text-left mojo-field-type-genre hidden\">-</td><td class=\"a-text-right mojo-field-type-money hidden\">-</td><td class=\"a-text-right mojo-field-type-duration hidden\">-</td><td class=\"a-text-right mojo-field-type-money mojo-estimatable\">$146,066,470</td><td class=\"a-text-right mojo-field-type-positive_integer\">4,198</td><td class=\"a-text-right mojo-field-type-money mojo-estimatable\">$146,066,470</td><td class=\"a-text-left mojo-field-type-date a-nowrap\">Feb 14</td><td class=\"a-text-left mojo-field-type-studio\"><a class=\"a-link-normal\" href=\"https://pro.imdb.com/company/co0023400/boxoffice/?view=releases&amp;ref_=mojo_yld_table_3&amp;rf=mojo_yld_table_3\" rel=\"noopener\" target=\"_blank\">Paramount Pictures<svg class=\"mojo-new-window-svg\" viewBox=\"0 0 32 32\" xmlns=\"http://www.w3.org/2000/svg\">\n",
       "        <path d=\"M24,15.57251l3,3V23.5A3.50424,3.50424,0,0,1,23.5,27H8.5A3.50424,3.50424,0,0,1,5,23.5V8.5A3.50424,3.50424,0,0,1,8.5,5h4.92755l3,3H8.5a.50641.50641,0,0,0-.5.5v15a.50641.50641,0,0,0,.5.5h15a.50641.50641,0,0,0,.5-.5ZM19.81952,8.56372,12.8844,17.75a.49989.49989,0,0,0,.04547.65479l.66534.66528a.49983.49983,0,0,0,.65479.04553l9.18628-6.93518,2.12579,2.12585a.5.5,0,0,0,.84741-.27526l1.48273-9.35108a.50006.50006,0,0,0-.57214-.57214L17.969,5.59058a.5.5,0,0,0-.27526.84741Z\"></path>\n",
       "    </svg></a></td><td class=\"a-text-right mojo-field-type-boolean hidden\">false</td></tr><tr><td class=\"a-text-right mojo-header-column mojo-truncate mojo-field-type-rank mojo-sort-column\">4</td><td class=\"a-text-left mojo-field-type-release mojo-cell-wide\"><a class=\"a-link-normal\" href=\"/release/rl755467777/?ref_=bo_yld_table_4\">Jumanji: The Next Level</a></td><td class=\"a-text-left mojo-field-type-genre hidden\">-</td><td class=\"a-text-right mojo-field-type-money hidden\">-</td><td class=\"a-text-right mojo-field-type-duration hidden\">-</td><td class=\"a-text-right mojo-field-type-money mojo-estimatable\">$124,736,710</td><td class=\"a-text-right mojo-field-type-positive_integer\">4,227</td><td class=\"a-text-right mojo-field-type-money mojo-estimatable\">$316,831,246</td><td class=\"a-text-left mojo-field-type-date a-nowrap\">Dec 13</td><td class=\"a-text-left mojo-field-type-studio\">-</td><td class=\"a-text-right mojo-field-type-boolean hidden\">false</td></tr><tr><td class=\"a-text-right mojo-header-column mojo-truncate mojo-field-type-rank mojo-sort-column\">5</td><td class=\"a-text-left mojo-field-type-release mojo-cell-wide\"><a class=\"a-link-normal\" href=\"/release/rl3305145857/?ref_=bo_yld_table_5\">Star Wars: Episode IX - The Rise of Skywalker</a></td><td class=\"a-text-left mojo-field-type-genre hidden\">-</td><td class=\"a-text-right mojo-field-type-money hidden\">-</td><td class=\"a-text-right mojo-field-type-duration hidden\">-</td><td class=\"a-text-right mojo-field-type-money mojo-estimatable\">$124,496,308</td><td class=\"a-text-right mojo-field-type-positive_integer\">4,406</td><td class=\"a-text-right mojo-field-type-money mojo-estimatable\">$515,202,542</td><td class=\"a-text-left mojo-field-type-date a-nowrap\">Dec 20</td><td class=\"a-text-left mojo-field-type-studio\">-</td><td class=\"a-text-right mojo-field-type-boolean hidden\">false</td></tr><tr><td class=\"a-text-right mojo-header-column mojo-truncate mojo-field-type-rank mojo-sort-column\">6</td><td class=\"a-text-left mojo-field-type-release mojo-cell-wide\"><a class=\"a-link-normal\" href=\"/release/rl3640886785/?ref_=bo_yld_table_6\">Birds of Prey: And the Fantabulous Emancipation of One Harley Quinn</a></td><td class=\"a-text-left mojo-field-type-genre hidden\">-</td><td class=\"a-text-right mojo-field-type-money hidden\">-</td><td class=\"a-text-right mojo-field-type-duration hidden\">-</td><td class=\"a-text-right mojo-field-type-money mojo-estimatable\">$84,158,461</td><td class=\"a-text-right mojo-field-type-positive_integer\">4,236</td><td class=\"a-text-right mojo-field-type-money mojo-estimatable\">$84,158,461</td><td class=\"a-text-left mojo-field-type-date a-nowrap\">Feb 7</td><td class=\"a-text-left mojo-field-type-studio\"><a class=\"a-link-normal\" href=\"https://pro.imdb.com/company/co0002663/boxoffice/?view=releases&amp;ref_=mojo_yld_table_6&amp;rf=mojo_yld_table_6\" rel=\"noopener\" target=\"_blank\">Warner Bros.<svg class=\"mojo-new-window-svg\" viewBox=\"0 0 32 32\" xmlns=\"http://www.w3.org/2000/svg\">\n",
       "        <path d=\"M24,15.57251l3,3V23.5A3.50424,3.50424,0,0,1,23.5,27H8.5A3.50424,3.50424,0,0,1,5,23.5V8.5A3.50424,3.50424,0,0,1,8.5,5h4.92755l3,3H8.5a.50641.50641,0,0,0-.5.5v15a.50641.50641,0,0,0,.5.5h15a.50641.50641,0,0,0,.5-.5ZM19.81952,8.56372,12.8844,17.75a.49989.49989,0,0,0,.04547.65479l.66534.66528a.49983.49983,0,0,0,.65479.04553l9.18628-6.93518,2.12579,2.12585a.5.5,0,0,0,.84741-.27526l1.48273-9.35108a.50006.50006,0,0,0-.57214-.57214L17.969,5.59058a.5.5,0,0,0-.27526.84741Z\"></path>\n",
       "    </svg></a></td><td class=\"a-text-right mojo-field-type-boolean hidden\">false</td></tr><tr><td class=\"a-text-right mojo-header-column mojo-truncate mojo-field-type-rank mojo-sort-column\">7</td><td class=\"a-text-left mojo-field-type-release mojo-cell-wide\"><a class=\"a-link-normal\" href=\"/release/rl2164295169/?ref_=bo_yld_table_7\">Dolittle</a></td><td class=\"a-text-left mojo-field-type-genre hidden\">-</td><td class=\"a-text-right mojo-field-type-money hidden\">-</td><td class=\"a-text-right mojo-field-type-duration hidden\">-</td><td class=\"a-text-right mojo-field-type-money mojo-estimatable\">$77,047,065</td><td class=\"a-text-right mojo-field-type-positive_integer\">4,155</td><td class=\"a-text-right mojo-field-type-money mojo-estimatable\">$77,047,065</td><td class=\"a-text-left mojo-field-type-date a-nowrap\">Jan 17</td><td class=\"a-text-left mojo-field-type-studio\"><a class=\"a-link-normal\" href=\"https://pro.imdb.com/company/co0005073/boxoffice/?view=releases&amp;ref_=mojo_yld_table_7&amp;rf=mojo_yld_table_7\" rel=\"noopener\" target=\"_blank\">Universal Pictures<svg class=\"mojo-new-window-svg\" viewBox=\"0 0 32 32\" xmlns=\"http://www.w3.org/2000/svg\">\n",
       "        <path d=\"M24,15.57251l3,3V23.5A3.50424,3.50424,0,0,1,23.5,27H8.5A3.50424,3.50424,0,0,1,5,23.5V8.5A3.50424,3.50424,0,0,1,8.5,5h4.92755l3,3H8.5a.50641.50641,0,0,0-.5.5v15a.50641.50641,0,0,0,.5.5h15a.50641.50641,0,0,0,.5-.5ZM19.81952,8.56372,12.8844,17.75a.49989.49989,0,0,0,.04547.65479l.66534.66528a.49983.49983,0,0,0,.65479.04553l9.18628-6.93518,2.12579,2.12585a.5.5,0,0,0,.84741-.27526l1.48273-9.35108a.50006.50006,0,0,0-.57214-.57214L17.969,5.59058a.5.5,0,0,0-.27526.84741Z\"></path>\n",
       "    </svg></a></td><td class=\"a-text-right mojo-field-type-boolean hidden\">false</td></tr><tr><td class=\"a-text-right mojo-header-column mojo-truncate mojo-field-type-rank mojo-sort-column\">8</td><td class=\"a-text-left mojo-field-type-release mojo-cell-wide\"><a class=\"a-link-normal\" href=\"/release/rl218596865/?ref_=bo_yld_table_8\">Little Women</a></td><td class=\"a-text-left mojo-field-type-genre hidden\">-</td><td class=\"a-text-right mojo-field-type-money hidden\">-</td><td class=\"a-text-right mojo-field-type-duration hidden\">-</td><td class=\"a-text-right mojo-field-type-money mojo-estimatable\">$70,508,087</td><td class=\"a-text-right mojo-field-type-positive_integer\">3,308</td><td class=\"a-text-right mojo-field-type-money mojo-estimatable\">$108,101,214</td><td class=\"a-text-left mojo-field-type-date a-nowrap\">Dec 25</td><td class=\"a-text-left mojo-field-type-studio\">-</td><td class=\"a-text-right mojo-field-type-boolean hidden\">false</td></tr><tr><td class=\"a-text-right mojo-header-column mojo-truncate mojo-field-type-rank mojo-sort-column\">9</td><td class=\"a-text-left mojo-field-type-release mojo-cell-wide\"><a class=\"a-link-normal\" href=\"/release/rl50628097/?ref_=bo_yld_table_9\">The Invisible Man</a></td><td class=\"a-text-left mojo-field-type-genre hidden\">-</td><td class=\"a-text-right mojo-field-type-money hidden\">-</td><td class=\"a-text-right mojo-field-type-duration hidden\">-</td><td class=\"a-text-right mojo-field-type-money mojo-estimatable\">$64,914,050</td><td class=\"a-text-right mojo-field-type-positive_integer\">3,636</td><td class=\"a-text-right mojo-field-type-money mojo-estimatable\">$64,914,050</td><td class=\"a-text-left mojo-field-type-date a-nowrap\">Feb 28</td><td class=\"a-text-left mojo-field-type-studio\"><a class=\"a-link-normal\" href=\"https://pro.imdb.com/company/co0005073/boxoffice/?view=releases&amp;ref_=mojo_yld_table_9&amp;rf=mojo_yld_table_9\" rel=\"noopener\" target=\"_blank\">Universal Pictures<svg class=\"mojo-new-window-svg\" viewBox=\"0 0 32 32\" xmlns=\"http://www.w3.org/2000/svg\">\n",
       "        <path d=\"M24,15.57251l3,3V23.5A3.50424,3.50424,0,0,1,23.5,27H8.5A3.50424,3.50424,0,0,1,5,23.5V8.5A3.50424,3.50424,0,0,1,8.5,5h4.92755l3,3H8.5a.50641.50641,0,0,0-.5.5v15a.50641.50641,0,0,0,.5.5h15a.50641.50641,0,0,0,.5-.5ZM19.81952,8.56372,12.8844,17.75a.49989.49989,0,0,0,.04547.65479l.66534.66528a.49983.49983,0,0,0,.65479.04553l9.18628-6.93518,2.12579,2.12585a.5.5,0,0,0,.84741-.27526l1.48273-9.35108a.50006.50006,0,0,0-.57214-.57214L17.969,5.59058a.5.5,0,0,0-.27526.84741Z\"></path>\n",
       "    </svg></a></td><td class=\"a-text-right mojo-field-type-boolean hidden\">false</td></tr><tr><td class=\"a-text-right mojo-header-column mojo-truncate mojo-field-type-rank mojo-sort-column\">10</td><td class=\"a-text-left mojo-field-type-release mojo-cell-wide\"><a class=\"a-link-normal\" href=\"/release/rl2533524993/?ref_=bo_yld_table_10\">The Call of the Wild</a></td><td class=\"a-text-left mojo-field-type-genre hidden\">-</td><td class=\"a-text-right mojo-field-type-money hidden\">-</td><td class=\"a-text-right mojo-field-type-duration hidden\">-</td><td class=\"a-text-right mojo-field-type-money mojo-estimatable\">$62,342,368</td><td class=\"a-text-right mojo-field-type-positive_integer\">3,914</td><td class=\"a-text-right mojo-field-type-money mojo-estimatable\">$62,342,368</td><td class=\"a-text-left mojo-field-type-date a-nowrap\">Feb 21</td><td class=\"a-text-left mojo-field-type-studio\"><a class=\"a-link-normal\" href=\"https://pro.imdb.com/company/co0000756/boxoffice/?view=releases&amp;ref_=mojo_yld_table_10&amp;rf=mojo_yld_table_10\" rel=\"noopener\" target=\"_blank\">Twentieth Century Fox<svg class=\"mojo-new-window-svg\" viewBox=\"0 0 32 32\" xmlns=\"http://www.w3.org/2000/svg\">\n",
       "        <path d=\"M24,15.57251l3,3V23.5A3.50424,3.50424,0,0,1,23.5,27H8.5A3.50424,3.50424,0,0,1,5,23.5V8.5A3.50424,3.50424,0,0,1,8.5,5h4.92755l3,3H8.5a.50641.50641,0,0,0-.5.5v15a.50641.50641,0,0,0,.5.5h15a.50641.50641,0,0,0,.5-.5ZM19.81952,8.56372,12.8844,17.75a.49989.49989,0,0,0,.04547.65479l.66534.66528a.49983.49983,0,0,0,.65479.04553l9.18628-6.93518,2.12579,2.12585a.5.5,0,0,0,.84741-.27526l1.48273-9.35108a.50006.50006,0,0,0-.57214-.57214L17.969,5.59058a.5.5,0,0,0-.27526.84741Z\"></path>\n",
       "    </svg></a></td><td class=\"a-text-right mojo-field-type-boolean hidden\">false</td></tr><tr><td class=\"a-text-right mojo-header-column mojo-truncate mojo-field-type-rank mojo-sort-column\">11</td><td class=\"a-text-left mojo-field-type-release mojo-cell-wide\"><a class=\"a-link-normal\" href=\"/release/rl3433267713/?ref_=bo_yld_table_11\">Onward</a></td><td class=\"a-text-left mojo-field-type-genre hidden\">-</td><td class=\"a-text-right mojo-field-type-money hidden\">-</td><td class=\"a-text-right mojo-field-type-duration hidden\">-</td><td class=\"a-text-right mojo-field-type-money mojo-estimatable\">$61,555,145</td><td class=\"a-text-right mojo-field-type-positive_integer\">4,310</td><td class=\"a-text-right mojo-field-type-money mojo-estimatable\">$61,555,145</td><td class=\"a-text-left mojo-field-type-date a-nowrap\">Mar 6</td><td class=\"a-text-left mojo-field-type-studio\">-</td><td class=\"a-text-right mojo-field-type-boolean hidden\">false</td></tr><tr><td class=\"a-text-right mojo-header-column mojo-truncate mojo-field-type-rank mojo-sort-column\">12</td><td class=\"a-text-left mojo-field-type-release mojo-cell-wide\"><a class=\"a-link-normal\" href=\"/release/rl3204875777/?ref_=bo_yld_table_12\">Knives Out</a></td><td class=\"a-text-left mojo-field-type-genre hidden\">-</td><td class=\"a-text-right mojo-field-type-money hidden\">-</td><td class=\"a-text-right mojo-field-type-duration hidden\">-</td><td class=\"a-text-right mojo-field-type-money mojo-estimatable\">$49,651,655</td><td class=\"a-text-right mojo-field-type-positive_integer\">3,461</td><td class=\"a-text-right mojo-field-type-money mojo-estimatable\">$165,363,234</td><td class=\"a-text-left mojo-field-type-date a-nowrap\">Nov 27</td><td class=\"a-text-left mojo-field-type-studio\"><a class=\"a-link-normal\" href=\"https://pro.imdb.com/company/co0173285/boxoffice/?view=releases&amp;ref_=mojo_yld_table_12&amp;rf=mojo_yld_table_12\" rel=\"noopener\" target=\"_blank\">Lionsgate<svg class=\"mojo-new-window-svg\" viewBox=\"0 0 32 32\" xmlns=\"http://www.w3.org/2000/svg\">\n",
       "        <path d=\"M24,15.57251l3,3V23.5A3.50424,3.50424,0,0,1,23.5,27H8.5A3.50424,3.50424,0,0,1,5,23.5V8.5A3.50424,3.50424,0,0,1,8.5,5h4.92755l3,3H8.5a.50641.50641,0,0,0-.5.5v15a.50641.50641,0,0,0,.5.5h15a.50641.50641,0,0,0,.5-.5ZM19.81952,8.56372,12.8844,17.75a.49989.49989,0,0,0,.04547.65479l.66534.66528a.49983.49983,0,0,0,.65479.04553l9.18628-6.93518,2.12579,2.12585a.5.5,0,0,0,.84741-.27526l1.48273-9.35108a.50006.50006,0,0,0-.57214-.57214L17.969,5.59058a.5.5,0,0,0-.27526.84741Z\"></path>\n",
       "    </svg></a></td><td class=\"a-text-right mojo-field-type-boolean hidden\">false</td></tr><tr><td class=\"a-text-right mojo-header-column mojo-truncate mojo-field-type-rank mojo-sort-column\">13</td><td class=\"a-text-left mojo-field-type-release mojo-cell-wide\"><a class=\"a-link-normal\" href=\"/release/rl2424210945/?ref_=bo_yld_table_13\">Frozen II</a></td><td class=\"a-text-left mojo-field-type-genre hidden\">-</td><td class=\"a-text-right mojo-field-type-money hidden\">-</td><td class=\"a-text-right mojo-field-type-duration hidden\">-</td><td class=\"a-text-right mojo-field-type-money mojo-estimatable\">$47,228,896</td><td class=\"a-text-right mojo-field-type-positive_integer\">4,440</td><td class=\"a-text-right mojo-field-type-money mojo-estimatable\">$477,373,578</td><td class=\"a-text-left mojo-field-type-date a-nowrap\">Nov 22</td><td class=\"a-text-left mojo-field-type-studio\">-</td><td class=\"a-text-right mojo-field-type-boolean hidden\">false</td></tr><tr><td class=\"a-text-right mojo-header-column mojo-truncate mojo-field-type-rank mojo-sort-column\">14</td><td class=\"a-text-left mojo-field-type-release mojo-cell-wide\"><a class=\"a-link-normal\" href=\"/release/rl1333691905/?ref_=bo_yld_table_14\">Spies in Disguise</a></td><td class=\"a-text-left mojo-field-type-genre hidden\">-</td><td class=\"a-text-right mojo-field-type-money hidden\">-</td><td class=\"a-text-right mojo-field-type-duration hidden\">-</td><td class=\"a-text-right mojo-field-type-money mojo-estimatable\">$37,433,325</td><td class=\"a-text-right mojo-field-type-positive_integer\">3,502</td><td class=\"a-text-right mojo-field-type-money mojo-estimatable\">$66,757,013</td><td class=\"a-text-left mojo-field-type-date a-nowrap\">Dec 25</td><td class=\"a-text-left mojo-field-type-studio\"><a class=\"a-link-normal\" href=\"https://pro.imdb.com/company/co0000756/boxoffice/?view=releases&amp;ref_=mojo_yld_table_14&amp;rf=mojo_yld_table_14\" rel=\"noopener\" target=\"_blank\">Twentieth Century Fox<svg class=\"mojo-new-window-svg\" viewBox=\"0 0 32 32\" xmlns=\"http://www.w3.org/2000/svg\">\n",
       "        <path d=\"M24,15.57251l3,3V23.5A3.50424,3.50424,0,0,1,23.5,27H8.5A3.50424,3.50424,0,0,1,5,23.5V8.5A3.50424,3.50424,0,0,1,8.5,5h4.92755l3,3H8.5a.50641.50641,0,0,0-.5.5v15a.50641.50641,0,0,0,.5.5h15a.50641.50641,0,0,0,.5-.5ZM19.81952,8.56372,12.8844,17.75a.49989.49989,0,0,0,.04547.65479l.66534.66528a.49983.49983,0,0,0,.65479.04553l9.18628-6.93518,2.12579,2.12585a.5.5,0,0,0,.84741-.27526l1.48273-9.35108a.50006.50006,0,0,0-.57214-.57214L17.969,5.59058a.5.5,0,0,0-.27526.84741Z\"></path>\n",
       "    </svg></a></td><td class=\"a-text-right mojo-field-type-boolean hidden\">false</td></tr><tr><td class=\"a-text-right mojo-header-column mojo-truncate mojo-field-type-rank mojo-sort-column\">15</td><td class=\"a-text-left mojo-field-type-release mojo-cell-wide\"><a class=\"a-link-normal\" href=\"/release/rl3473442305/?ref_=bo_yld_table_15\">The Gentlemen</a></td><td class=\"a-text-left mojo-field-type-genre hidden\">-</td><td class=\"a-text-right mojo-field-type-money hidden\">-</td><td class=\"a-text-right mojo-field-type-duration hidden\">-</td><td class=\"a-text-right mojo-field-type-money mojo-estimatable\">$36,296,455</td><td class=\"a-text-right mojo-field-type-positive_integer\">2,675</td><td class=\"a-text-right mojo-field-type-money mojo-estimatable\">$36,296,853</td><td class=\"a-text-left mojo-field-type-date a-nowrap\">Jan 24</td><td class=\"a-text-left mojo-field-type-studio\"><a class=\"a-link-normal\" href=\"https://pro.imdb.com/company/co0249694/boxoffice/?view=releases&amp;ref_=mojo_yld_table_15&amp;rf=mojo_yld_table_15\" rel=\"noopener\" target=\"_blank\">STX Entertainment<svg class=\"mojo-new-window-svg\" viewBox=\"0 0 32 32\" xmlns=\"http://www.w3.org/2000/svg\">\n",
       "        <path d=\"M24,15.57251l3,3V23.5A3.50424,3.50424,0,0,1,23.5,27H8.5A3.50424,3.50424,0,0,1,5,23.5V8.5A3.50424,3.50424,0,0,1,8.5,5h4.92755l3,3H8.5a.50641.50641,0,0,0-.5.5v15a.50641.50641,0,0,0,.5.5h15a.50641.50641,0,0,0,.5-.5ZM19.81952,8.56372,12.8844,17.75a.49989.49989,0,0,0,.04547.65479l.66534.66528a.49983.49983,0,0,0,.65479.04553l9.18628-6.93518,2.12579,2.12585a.5.5,0,0,0,.84741-.27526l1.48273-9.35108a.50006.50006,0,0,0-.57214-.57214L17.969,5.59058a.5.5,0,0,0-.27526.84741Z\"></path>\n",
       "    </svg></a></td><td class=\"a-text-right mojo-field-type-boolean hidden\">false</td></tr><tr><td class=\"a-text-right mojo-header-column mojo-truncate mojo-field-type-rank mojo-sort-column\">16</td><td class=\"a-text-left mojo-field-type-release mojo-cell-wide\"><a class=\"a-link-normal\" href=\"/release/rl419792385/?ref_=bo_yld_table_16\">Just Mercy</a></td><td class=\"a-text-left mojo-field-type-genre hidden\">-</td><td class=\"a-text-right mojo-field-type-money hidden\">-</td><td class=\"a-text-right mojo-field-type-duration hidden\">-</td><td class=\"a-text-right mojo-field-type-money mojo-estimatable\">$35,733,621</td><td class=\"a-text-right mojo-field-type-positive_integer\">2,457</td><td class=\"a-text-right mojo-field-type-money mojo-estimatable\">$36,001,502</td><td class=\"a-text-left mojo-field-type-date a-nowrap\">Dec 25</td><td class=\"a-text-left mojo-field-type-studio\"><a class=\"a-link-normal\" href=\"https://pro.imdb.com/company/co0002663/boxoffice/?view=releases&amp;ref_=mojo_yld_table_16&amp;rf=mojo_yld_table_16\" rel=\"noopener\" target=\"_blank\">Warner Bros.<svg class=\"mojo-new-window-svg\" viewBox=\"0 0 32 32\" xmlns=\"http://www.w3.org/2000/svg\">\n",
       "        <path d=\"M24,15.57251l3,3V23.5A3.50424,3.50424,0,0,1,23.5,27H8.5A3.50424,3.50424,0,0,1,5,23.5V8.5A3.50424,3.50424,0,0,1,8.5,5h4.92755l3,3H8.5a.50641.50641,0,0,0-.5.5v15a.50641.50641,0,0,0,.5.5h15a.50641.50641,0,0,0,.5-.5ZM19.81952,8.56372,12.8844,17.75a.49989.49989,0,0,0,.04547.65479l.66534.66528a.49983.49983,0,0,0,.65479.04553l9.18628-6.93518,2.12579,2.12585a.5.5,0,0,0,.84741-.27526l1.48273-9.35108a.50006.50006,0,0,0-.57214-.57214L17.969,5.59058a.5.5,0,0,0-.27526.84741Z\"></path>\n",
       "    </svg></a></td><td class=\"a-text-right mojo-field-type-boolean hidden\">false</td></tr><tr><td class=\"a-text-right mojo-header-column mojo-truncate mojo-field-type-rank mojo-sort-column\">17</td><td class=\"a-text-left mojo-field-type-release mojo-cell-wide\"><a class=\"a-link-normal\" href=\"/release/rl1258849793/?ref_=bo_yld_table_17\">Parasite</a></td><td class=\"a-text-left mojo-field-type-genre hidden\">-</td><td class=\"a-text-right mojo-field-type-money hidden\">-</td><td class=\"a-text-right mojo-field-type-duration hidden\">-</td><td class=\"a-text-right mojo-field-type-money mojo-estimatable\">$30,736,060</td><td class=\"a-text-right mojo-field-type-positive_integer\">2,001</td><td class=\"a-text-right mojo-field-type-money mojo-estimatable\">$53,369,749</td><td class=\"a-text-left mojo-field-type-date a-nowrap\">Oct 11</td><td class=\"a-text-left mojo-field-type-studio\"><a class=\"a-link-normal\" href=\"https://pro.imdb.com/company/co0623930/boxoffice/?view=releases&amp;ref_=mojo_yld_table_17&amp;rf=mojo_yld_table_17\" rel=\"noopener\" target=\"_blank\">Neon<svg class=\"mojo-new-window-svg\" viewBox=\"0 0 32 32\" xmlns=\"http://www.w3.org/2000/svg\">\n",
       "        <path d=\"M24,15.57251l3,3V23.5A3.50424,3.50424,0,0,1,23.5,27H8.5A3.50424,3.50424,0,0,1,5,23.5V8.5A3.50424,3.50424,0,0,1,8.5,5h4.92755l3,3H8.5a.50641.50641,0,0,0-.5.5v15a.50641.50641,0,0,0,.5.5h15a.50641.50641,0,0,0,.5-.5ZM19.81952,8.56372,12.8844,17.75a.49989.49989,0,0,0,.04547.65479l.66534.66528a.49983.49983,0,0,0,.65479.04553l9.18628-6.93518,2.12579,2.12585a.5.5,0,0,0,.84741-.27526l1.48273-9.35108a.50006.50006,0,0,0-.57214-.57214L17.969,5.59058a.5.5,0,0,0-.27526.84741Z\"></path>\n",
       "    </svg></a></td><td class=\"a-text-right mojo-field-type-boolean hidden\">false</td></tr><tr><td class=\"a-text-right mojo-header-column mojo-truncate mojo-field-type-rank mojo-sort-column\">18</td><td class=\"a-text-left mojo-field-type-release mojo-cell-wide\"><a class=\"a-link-normal\" href=\"/release/rl1611040257/?ref_=bo_yld_table_18\">Fantasy Island</a></td><td class=\"a-text-left mojo-field-type-genre hidden\">-</td><td class=\"a-text-right mojo-field-type-money hidden\">-</td><td class=\"a-text-right mojo-field-type-duration hidden\">-</td><td class=\"a-text-right mojo-field-type-money mojo-estimatable\">$26,441,782</td><td class=\"a-text-right mojo-field-type-positive_integer\">2,784</td><td class=\"a-text-right mojo-field-type-money mojo-estimatable\">$26,441,782</td><td class=\"a-text-left mojo-field-type-date a-nowrap\">Feb 14</td><td class=\"a-text-left mojo-field-type-studio\">-</td><td class=\"a-text-right mojo-field-type-boolean hidden\">false</td></tr><tr><td class=\"a-text-right mojo-header-column mojo-truncate mojo-field-type-rank mojo-sort-column\">19</td><td class=\"a-text-left mojo-field-type-release mojo-cell-wide\"><a class=\"a-link-normal\" href=\"/release/rl3825763841/?ref_=bo_yld_table_19\">Uncut Gems</a></td><td class=\"a-text-left mojo-field-type-genre hidden\">-</td><td class=\"a-text-right mojo-field-type-money hidden\">-</td><td class=\"a-text-right mojo-field-type-duration hidden\">-</td><td class=\"a-text-right mojo-field-type-money mojo-estimatable\">$25,789,956</td><td class=\"a-text-right mojo-field-type-positive_integer\">2,686</td><td class=\"a-text-right mojo-field-type-money mojo-estimatable\">$50,023,780</td><td class=\"a-text-left mojo-field-type-date a-nowrap\">Dec 13</td><td class=\"a-text-left mojo-field-type-studio\"><a class=\"a-link-normal\" href=\"https://pro.imdb.com/company/co0390816/boxoffice/?view=releases&amp;ref_=mojo_yld_table_19&amp;rf=mojo_yld_table_19\" rel=\"noopener\" target=\"_blank\">A24<svg class=\"mojo-new-window-svg\" viewBox=\"0 0 32 32\" xmlns=\"http://www.w3.org/2000/svg\">\n",
       "        <path d=\"M24,15.57251l3,3V23.5A3.50424,3.50424,0,0,1,23.5,27H8.5A3.50424,3.50424,0,0,1,5,23.5V8.5A3.50424,3.50424,0,0,1,8.5,5h4.92755l3,3H8.5a.50641.50641,0,0,0-.5.5v15a.50641.50641,0,0,0,.5.5h15a.50641.50641,0,0,0,.5-.5ZM19.81952,8.56372,12.8844,17.75a.49989.49989,0,0,0,.04547.65479l.66534.66528a.49983.49983,0,0,0,.65479.04553l9.18628-6.93518,2.12579,2.12585a.5.5,0,0,0,.84741-.27526l1.48273-9.35108a.50006.50006,0,0,0-.57214-.57214L17.969,5.59058a.5.5,0,0,0-.27526.84741Z\"></path>\n",
       "    </svg></a></td><td class=\"a-text-right mojo-field-type-boolean hidden\">false</td></tr><tr><td class=\"a-text-right mojo-header-column mojo-truncate mojo-field-type-rank mojo-sort-column\">20</td><td class=\"a-text-left mojo-field-type-release mojo-cell-wide\"><a class=\"a-link-normal\" href=\"/release/rl4278486529/?ref_=bo_yld_table_20\">Like a Boss</a></td><td class=\"a-text-left mojo-field-type-genre hidden\">-</td><td class=\"a-text-right mojo-field-type-money hidden\">-</td><td class=\"a-text-right mojo-field-type-duration hidden\">-</td><td class=\"a-text-right mojo-field-type-money mojo-estimatable\">$22,169,514</td><td class=\"a-text-right mojo-field-type-positive_integer\">3,081</td><td class=\"a-text-right mojo-field-type-money mojo-estimatable\">$22,169,514</td><td class=\"a-text-left mojo-field-type-date a-nowrap\">Jan 10</td><td class=\"a-text-left mojo-field-type-studio\"><a class=\"a-link-normal\" href=\"https://pro.imdb.com/company/co0023400/boxoffice/?view=releases&amp;ref_=mojo_yld_table_20&amp;rf=mojo_yld_table_20\" rel=\"noopener\" target=\"_blank\">Paramount Pictures<svg class=\"mojo-new-window-svg\" viewBox=\"0 0 32 32\" xmlns=\"http://www.w3.org/2000/svg\">\n",
       "        <path d=\"M24,15.57251l3,3V23.5A3.50424,3.50424,0,0,1,23.5,27H8.5A3.50424,3.50424,0,0,1,5,23.5V8.5A3.50424,3.50424,0,0,1,8.5,5h4.92755l3,3H8.5a.50641.50641,0,0,0-.5.5v15a.50641.50641,0,0,0,.5.5h15a.50641.50641,0,0,0,.5-.5ZM19.81952,8.56372,12.8844,17.75a.49989.49989,0,0,0,.04547.65479l.66534.66528a.49983.49983,0,0,0,.65479.04553l9.18628-6.93518,2.12579,2.12585a.5.5,0,0,0,.84741-.27526l1.48273-9.35108a.50006.50006,0,0,0-.57214-.57214L17.969,5.59058a.5.5,0,0,0-.27526.84741Z\"></path>\n",
       "    </svg></a></td><td class=\"a-text-right mojo-field-type-boolean hidden\">false</td></tr><tr><td class=\"a-text-right mojo-header-column mojo-truncate mojo-field-type-rank mojo-sort-column\">21</td><td class=\"a-text-left mojo-field-type-release mojo-cell-wide\"><a class=\"a-link-normal\" href=\"/release/rl1745126913/?ref_=bo_yld_table_21\">The Grudge</a></td><td class=\"a-text-left mojo-field-type-genre hidden\">-</td><td class=\"a-text-right mojo-field-type-money hidden\">-</td><td class=\"a-text-right mojo-field-type-duration hidden\">-</td><td class=\"a-text-right mojo-field-type-money mojo-estimatable\">$21,221,803</td><td class=\"a-text-right mojo-field-type-positive_integer\">2,642</td><td class=\"a-text-right mojo-field-type-money mojo-estimatable\">$21,221,803</td><td class=\"a-text-left mojo-field-type-date a-nowrap\">Jan 3</td><td class=\"a-text-left mojo-field-type-studio\">-</td><td class=\"a-text-right mojo-field-type-boolean hidden\">false</td></tr><tr><td class=\"a-text-right mojo-header-column mojo-truncate mojo-field-type-rank mojo-sort-column\">22</td><td class=\"a-text-left mojo-field-type-release mojo-cell-wide\"><a class=\"a-link-normal\" href=\"/release/rl1655931393/?ref_=bo_yld_table_22\">The Photograph</a></td><td class=\"a-text-left mojo-field-type-genre hidden\">-</td><td class=\"a-text-right mojo-field-type-money hidden\">-</td><td class=\"a-text-right mojo-field-type-duration hidden\">-</td><td class=\"a-text-right mojo-field-type-money mojo-estimatable\">$20,578,185</td><td class=\"a-text-right mojo-field-type-positive_integer\">2,516</td><td class=\"a-text-right mojo-field-type-money mojo-estimatable\">$20,578,185</td><td class=\"a-text-left mojo-field-type-date a-nowrap\">Feb 14</td><td class=\"a-text-left mojo-field-type-studio\"><a class=\"a-link-normal\" href=\"https://pro.imdb.com/company/co0005073/boxoffice/?view=releases&amp;ref_=mojo_yld_table_22&amp;rf=mojo_yld_table_22\" rel=\"noopener\" target=\"_blank\">Universal Pictures<svg class=\"mojo-new-window-svg\" viewBox=\"0 0 32 32\" xmlns=\"http://www.w3.org/2000/svg\">\n",
       "        <path d=\"M24,15.57251l3,3V23.5A3.50424,3.50424,0,0,1,23.5,27H8.5A3.50424,3.50424,0,0,1,5,23.5V8.5A3.50424,3.50424,0,0,1,8.5,5h4.92755l3,3H8.5a.50641.50641,0,0,0-.5.5v15a.50641.50641,0,0,0,.5.5h15a.50641.50641,0,0,0,.5-.5ZM19.81952,8.56372,12.8844,17.75a.49989.49989,0,0,0,.04547.65479l.66534.66528a.49983.49983,0,0,0,.65479.04553l9.18628-6.93518,2.12579,2.12585a.5.5,0,0,0,.84741-.27526l1.48273-9.35108a.50006.50006,0,0,0-.57214-.57214L17.969,5.59058a.5.5,0,0,0-.27526.84741Z\"></path>\n",
       "    </svg></a></td><td class=\"a-text-right mojo-field-type-boolean hidden\">false</td></tr><tr><td class=\"a-text-right mojo-header-column mojo-truncate mojo-field-type-rank mojo-sort-column\">23</td><td class=\"a-text-left mojo-field-type-release mojo-cell-wide\"><a class=\"a-link-normal\" href=\"/release/rl302548481/?ref_=bo_yld_table_23\">Underwater</a></td><td class=\"a-text-left mojo-field-type-genre hidden\">-</td><td class=\"a-text-right mojo-field-type-money hidden\">-</td><td class=\"a-text-right mojo-field-type-duration hidden\">-</td><td class=\"a-text-right mojo-field-type-money mojo-estimatable\">$17,291,078</td><td class=\"a-text-right mojo-field-type-positive_integer\">2,791</td><td class=\"a-text-right mojo-field-type-money mojo-estimatable\">$17,291,078</td><td class=\"a-text-left mojo-field-type-date a-nowrap\">Jan 10</td><td class=\"a-text-left mojo-field-type-studio\"><a class=\"a-link-normal\" href=\"https://pro.imdb.com/company/co0000756/boxoffice/?view=releases&amp;ref_=mojo_yld_table_23&amp;rf=mojo_yld_table_23\" rel=\"noopener\" target=\"_blank\">Twentieth Century Fox<svg class=\"mojo-new-window-svg\" viewBox=\"0 0 32 32\" xmlns=\"http://www.w3.org/2000/svg\">\n",
       "        <path d=\"M24,15.57251l3,3V23.5A3.50424,3.50424,0,0,1,23.5,27H8.5A3.50424,3.50424,0,0,1,5,23.5V8.5A3.50424,3.50424,0,0,1,8.5,5h4.92755l3,3H8.5a.50641.50641,0,0,0-.5.5v15a.50641.50641,0,0,0,.5.5h15a.50641.50641,0,0,0,.5-.5ZM19.81952,8.56372,12.8844,17.75a.49989.49989,0,0,0,.04547.65479l.66534.66528a.49983.49983,0,0,0,.65479.04553l9.18628-6.93518,2.12579,2.12585a.5.5,0,0,0,.84741-.27526l1.48273-9.35108a.50006.50006,0,0,0-.57214-.57214L17.969,5.59058a.5.5,0,0,0-.27526.84741Z\"></path>\n",
       "    </svg></a></td><td class=\"a-text-right mojo-field-type-boolean hidden\">false</td></tr><tr><td class=\"a-text-right mojo-header-column mojo-truncate mojo-field-type-rank mojo-sort-column\">24</td><td class=\"a-text-left mojo-field-type-release mojo-cell-wide\"><a class=\"a-link-normal\" href=\"/release/rl3020195329/?ref_=bo_yld_table_24\">The Turning</a></td><td class=\"a-text-left mojo-field-type-genre hidden\">-</td><td class=\"a-text-right mojo-field-type-money hidden\">-</td><td class=\"a-text-right mojo-field-type-duration hidden\">-</td><td class=\"a-text-right mojo-field-type-money mojo-estimatable\">$15,472,775</td><td class=\"a-text-right mojo-field-type-positive_integer\">2,571</td><td class=\"a-text-right mojo-field-type-money mojo-estimatable\">$15,472,775</td><td class=\"a-text-left mojo-field-type-date a-nowrap\">Jan 24</td><td class=\"a-text-left mojo-field-type-studio\"><a class=\"a-link-normal\" href=\"https://pro.imdb.com/company/co0005073/boxoffice/?view=releases&amp;ref_=mojo_yld_table_24&amp;rf=mojo_yld_table_24\" rel=\"noopener\" target=\"_blank\">Universal Pictures<svg class=\"mojo-new-window-svg\" viewBox=\"0 0 32 32\" xmlns=\"http://www.w3.org/2000/svg\">\n",
       "        <path d=\"M24,15.57251l3,3V23.5A3.50424,3.50424,0,0,1,23.5,27H8.5A3.50424,3.50424,0,0,1,5,23.5V8.5A3.50424,3.50424,0,0,1,8.5,5h4.92755l3,3H8.5a.50641.50641,0,0,0-.5.5v15a.50641.50641,0,0,0,.5.5h15a.50641.50641,0,0,0,.5-.5ZM19.81952,8.56372,12.8844,17.75a.49989.49989,0,0,0,.04547.65479l.66534.66528a.49983.49983,0,0,0,.65479.04553l9.18628-6.93518,2.12579,2.12585a.5.5,0,0,0,.84741-.27526l1.48273-9.35108a.50006.50006,0,0,0-.57214-.57214L17.969,5.59058a.5.5,0,0,0-.27526.84741Z\"></path>\n",
       "    </svg></a></td><td class=\"a-text-right mojo-field-type-boolean hidden\">false</td></tr><tr><td class=\"a-text-right mojo-header-column mojo-truncate mojo-field-type-rank mojo-sort-column\">25</td><td class=\"a-text-left mojo-field-type-release mojo-cell-wide\"><a class=\"a-link-normal\" href=\"/release/rl3842541057/?ref_=bo_yld_table_25\">Gretel &amp; Hansel</a></td><td class=\"a-text-left mojo-field-type-genre hidden\">-</td><td class=\"a-text-right mojo-field-type-money hidden\">-</td><td class=\"a-text-right mojo-field-type-duration hidden\">-</td><td class=\"a-text-right mojo-field-type-money mojo-estimatable\">$15,347,654</td><td class=\"a-text-right mojo-field-type-positive_integer\">3,007</td><td class=\"a-text-right mojo-field-type-money mojo-estimatable\">$15,347,654</td><td class=\"a-text-left mojo-field-type-date a-nowrap\">Jan 31</td><td class=\"a-text-left mojo-field-type-studio\"><a class=\"a-link-normal\" href=\"https://pro.imdb.com/company/co0733129/boxoffice/?view=releases&amp;ref_=mojo_yld_table_25&amp;rf=mojo_yld_table_25\" rel=\"noopener\" target=\"_blank\">United Artists Releasing<svg class=\"mojo-new-window-svg\" viewBox=\"0 0 32 32\" xmlns=\"http://www.w3.org/2000/svg\">\n",
       "        <path d=\"M24,15.57251l3,3V23.5A3.50424,3.50424,0,0,1,23.5,27H8.5A3.50424,3.50424,0,0,1,5,23.5V8.5A3.50424,3.50424,0,0,1,8.5,5h4.92755l3,3H8.5a.50641.50641,0,0,0-.5.5v15a.50641.50641,0,0,0,.5.5h15a.50641.50641,0,0,0,.5-.5ZM19.81952,8.56372,12.8844,17.75a.49989.49989,0,0,0,.04547.65479l.66534.66528a.49983.49983,0,0,0,.65479.04553l9.18628-6.93518,2.12579,2.12585a.5.5,0,0,0,.84741-.27526l1.48273-9.35108a.50006.50006,0,0,0-.57214-.57214L17.969,5.59058a.5.5,0,0,0-.27526.84741Z\"></path>\n",
       "    </svg></a></td><td class=\"a-text-right mojo-field-type-boolean hidden\">false</td></tr><tr><td class=\"a-text-right mojo-header-column mojo-truncate mojo-field-type-rank mojo-sort-column\">26</td><td class=\"a-text-left mojo-field-type-release mojo-cell-wide\"><a class=\"a-link-normal\" href=\"/release/rl867926529/?ref_=bo_yld_table_26\">My Hero Academia: Heroes Rising</a></td><td class=\"a-text-left mojo-field-type-genre hidden\">-</td><td class=\"a-text-right mojo-field-type-money hidden\">-</td><td class=\"a-text-right mojo-field-type-duration hidden\">-</td><td class=\"a-text-right mojo-field-type-money mojo-estimatable\">$13,651,826</td><td class=\"a-text-right mojo-field-type-positive_integer\">1,231</td><td class=\"a-text-right mojo-field-type-money mojo-estimatable\">$13,304,000</td><td class=\"a-text-left mojo-field-type-date a-nowrap\">Feb 26</td><td class=\"a-text-left mojo-field-type-studio\"><a class=\"a-link-normal\" href=\"https://pro.imdb.com/company/co0039940/boxoffice/?view=releases&amp;ref_=mojo_yld_table_26&amp;rf=mojo_yld_table_26\" rel=\"noopener\" target=\"_blank\">FUNimation Entertainment<svg class=\"mojo-new-window-svg\" viewBox=\"0 0 32 32\" xmlns=\"http://www.w3.org/2000/svg\">\n",
       "        <path d=\"M24,15.57251l3,3V23.5A3.50424,3.50424,0,0,1,23.5,27H8.5A3.50424,3.50424,0,0,1,5,23.5V8.5A3.50424,3.50424,0,0,1,8.5,5h4.92755l3,3H8.5a.50641.50641,0,0,0-.5.5v15a.50641.50641,0,0,0,.5.5h15a.50641.50641,0,0,0,.5-.5ZM19.81952,8.56372,12.8844,17.75a.49989.49989,0,0,0,.04547.65479l.66534.66528a.49983.49983,0,0,0,.65479.04553l9.18628-6.93518,2.12579,2.12585a.5.5,0,0,0,.84741-.27526l1.48273-9.35108a.50006.50006,0,0,0-.57214-.57214L17.969,5.59058a.5.5,0,0,0-.27526.84741Z\"></path>\n",
       "    </svg></a></td><td class=\"a-text-right mojo-field-type-boolean hidden\">false</td></tr><tr><td class=\"a-text-right mojo-header-column mojo-truncate mojo-field-type-rank mojo-sort-column\">27</td><td class=\"a-text-left mojo-field-type-release mojo-cell-wide\"><a class=\"a-link-normal\" href=\"/release/rl2550760961/?ref_=bo_yld_table_27\">Bombshell</a></td><td class=\"a-text-left mojo-field-type-genre hidden\">-</td><td class=\"a-text-right mojo-field-type-money hidden\">-</td><td class=\"a-text-right mojo-field-type-duration hidden\">-</td><td class=\"a-text-right mojo-field-type-money mojo-estimatable\">$13,644,923</td><td class=\"a-text-right mojo-field-type-positive_integer\">1,721</td><td class=\"a-text-right mojo-field-type-money mojo-estimatable\">$31,762,808</td><td class=\"a-text-left mojo-field-type-date a-nowrap\">Dec 13</td><td class=\"a-text-left mojo-field-type-studio\"><a class=\"a-link-normal\" href=\"https://pro.imdb.com/company/co0173285/boxoffice/?view=releases&amp;ref_=mojo_yld_table_27&amp;rf=mojo_yld_table_27\" rel=\"noopener\" target=\"_blank\">Lionsgate<svg class=\"mojo-new-window-svg\" viewBox=\"0 0 32 32\" xmlns=\"http://www.w3.org/2000/svg\">\n",
       "        <path d=\"M24,15.57251l3,3V23.5A3.50424,3.50424,0,0,1,23.5,27H8.5A3.50424,3.50424,0,0,1,5,23.5V8.5A3.50424,3.50424,0,0,1,8.5,5h4.92755l3,3H8.5a.50641.50641,0,0,0-.5.5v15a.50641.50641,0,0,0,.5.5h15a.50641.50641,0,0,0,.5-.5ZM19.81952,8.56372,12.8844,17.75a.49989.49989,0,0,0,.04547.65479l.66534.66528a.49983.49983,0,0,0,.65479.04553l9.18628-6.93518,2.12579,2.12585a.5.5,0,0,0,.84741-.27526l1.48273-9.35108a.50006.50006,0,0,0-.57214-.57214L17.969,5.59058a.5.5,0,0,0-.27526.84741Z\"></path>\n",
       "    </svg></a></td><td class=\"a-text-right mojo-field-type-boolean hidden\">false</td></tr><tr><td class=\"a-text-right mojo-header-column mojo-truncate mojo-field-type-rank mojo-sort-column\">28</td><td class=\"a-text-left mojo-field-type-release mojo-cell-wide\"><a class=\"a-link-normal\" href=\"/release/rl4127819265/?ref_=bo_yld_table_28\">The Way Back</a></td><td class=\"a-text-left mojo-field-type-genre hidden\">-</td><td class=\"a-text-right mojo-field-type-money hidden\">-</td><td class=\"a-text-right mojo-field-type-duration hidden\">-</td><td class=\"a-text-right mojo-field-type-money mojo-estimatable\">$13,590,514</td><td class=\"a-text-right mojo-field-type-positive_integer\">2,718</td><td class=\"a-text-right mojo-field-type-money mojo-estimatable\">$13,590,514</td><td class=\"a-text-left mojo-field-type-date a-nowrap\">Mar 6</td><td class=\"a-text-left mojo-field-type-studio\"><a class=\"a-link-normal\" href=\"https://pro.imdb.com/company/co0002663/boxoffice/?view=releases&amp;ref_=mojo_yld_table_28&amp;rf=mojo_yld_table_28\" rel=\"noopener\" target=\"_blank\">Warner Bros.<svg class=\"mojo-new-window-svg\" viewBox=\"0 0 32 32\" xmlns=\"http://www.w3.org/2000/svg\">\n",
       "        <path d=\"M24,15.57251l3,3V23.5A3.50424,3.50424,0,0,1,23.5,27H8.5A3.50424,3.50424,0,0,1,5,23.5V8.5A3.50424,3.50424,0,0,1,8.5,5h4.92755l3,3H8.5a.50641.50641,0,0,0-.5.5v15a.50641.50641,0,0,0,.5.5h15a.50641.50641,0,0,0,.5-.5ZM19.81952,8.56372,12.8844,17.75a.49989.49989,0,0,0,.04547.65479l.66534.66528a.49983.49983,0,0,0,.65479.04553l9.18628-6.93518,2.12579,2.12585a.5.5,0,0,0,.84741-.27526l1.48273-9.35108a.50006.50006,0,0,0-.57214-.57214L17.969,5.59058a.5.5,0,0,0-.27526.84741Z\"></path>\n",
       "    </svg></a></td><td class=\"a-text-right mojo-field-type-boolean hidden\">false</td></tr><tr><td class=\"a-text-right mojo-header-column mojo-truncate mojo-field-type-rank mojo-sort-column\">29</td><td class=\"a-text-left mojo-field-type-release mojo-cell-wide\"><a class=\"a-link-normal\" href=\"/release/rl2567538177/?ref_=bo_yld_table_29\">Brahms: The Boy II</a></td><td class=\"a-text-left mojo-field-type-genre hidden\">-</td><td class=\"a-text-right mojo-field-type-money hidden\">-</td><td class=\"a-text-right mojo-field-type-duration hidden\">-</td><td class=\"a-text-right mojo-field-type-money mojo-estimatable\">$12,611,536</td><td class=\"a-text-right mojo-field-type-positive_integer\">2,151</td><td class=\"a-text-right mojo-field-type-money mojo-estimatable\">$12,611,536</td><td class=\"a-text-left mojo-field-type-date a-nowrap\">Feb 21</td><td class=\"a-text-left mojo-field-type-studio\"><a class=\"a-link-normal\" href=\"https://pro.imdb.com/company/co0249694/boxoffice/?view=releases&amp;ref_=mojo_yld_table_29&amp;rf=mojo_yld_table_29\" rel=\"noopener\" target=\"_blank\">STX Entertainment<svg class=\"mojo-new-window-svg\" viewBox=\"0 0 32 32\" xmlns=\"http://www.w3.org/2000/svg\">\n",
       "        <path d=\"M24,15.57251l3,3V23.5A3.50424,3.50424,0,0,1,23.5,27H8.5A3.50424,3.50424,0,0,1,5,23.5V8.5A3.50424,3.50424,0,0,1,8.5,5h4.92755l3,3H8.5a.50641.50641,0,0,0-.5.5v15a.50641.50641,0,0,0,.5.5h15a.50641.50641,0,0,0,.5-.5ZM19.81952,8.56372,12.8844,17.75a.49989.49989,0,0,0,.04547.65479l.66534.66528a.49983.49983,0,0,0,.65479.04553l9.18628-6.93518,2.12579,2.12585a.5.5,0,0,0,.84741-.27526l1.48273-9.35108a.50006.50006,0,0,0-.57214-.57214L17.969,5.59058a.5.5,0,0,0-.27526.84741Z\"></path>\n",
       "    </svg></a></td><td class=\"a-text-right mojo-field-type-boolean hidden\">false</td></tr><tr><td class=\"a-text-right mojo-header-column mojo-truncate mojo-field-type-rank mojo-sort-column\">30</td><td class=\"a-text-left mojo-field-type-release mojo-cell-wide\"><a class=\"a-link-normal\" href=\"/release/rl2030601729/?ref_=bo_yld_table_30\">Jojo Rabbit</a></td><td class=\"a-text-left mojo-field-type-genre hidden\">-</td><td class=\"a-text-right mojo-field-type-money hidden\">-</td><td class=\"a-text-right mojo-field-type-duration hidden\">-</td><td class=\"a-text-right mojo-field-type-money mojo-estimatable\">$12,311,180</td><td class=\"a-text-right mojo-field-type-positive_integer\">1,173</td><td class=\"a-text-right mojo-field-type-money mojo-estimatable\">$33,370,906</td><td class=\"a-text-left mojo-field-type-date a-nowrap\">Oct 18</td><td class=\"a-text-left mojo-field-type-studio\"><a class=\"a-link-normal\" href=\"https://pro.imdb.com/company/co0028932/boxoffice/?view=releases&amp;ref_=mojo_yld_table_30&amp;rf=mojo_yld_table_30\" rel=\"noopener\" target=\"_blank\">Fox Searchlight Pictures<svg class=\"mojo-new-window-svg\" viewBox=\"0 0 32 32\" xmlns=\"http://www.w3.org/2000/svg\">\n",
       "        <path d=\"M24,15.57251l3,3V23.5A3.50424,3.50424,0,0,1,23.5,27H8.5A3.50424,3.50424,0,0,1,5,23.5V8.5A3.50424,3.50424,0,0,1,8.5,5h4.92755l3,3H8.5a.50641.50641,0,0,0-.5.5v15a.50641.50641,0,0,0,.5.5h15a.50641.50641,0,0,0,.5-.5ZM19.81952,8.56372,12.8844,17.75a.49989.49989,0,0,0,.04547.65479l.66534.66528a.49983.49983,0,0,0,.65479.04553l9.18628-6.93518,2.12579,2.12585a.5.5,0,0,0,.84741-.27526l1.48273-9.35108a.50006.50006,0,0,0-.57214-.57214L17.969,5.59058a.5.5,0,0,0-.27526.84741Z\"></path>\n",
       "    </svg></a></td><td class=\"a-text-right mojo-field-type-boolean hidden\">false</td></tr><tr><td class=\"a-text-right mojo-header-column mojo-truncate mojo-field-type-rank mojo-sort-column\">31</td><td class=\"a-text-left mojo-field-type-release mojo-cell-wide\"><a class=\"a-link-normal\" href=\"/release/rl2998501889/?ref_=bo_yld_table_31\">Impractical Jokers: The Movie</a></td><td class=\"a-text-left mojo-field-type-genre hidden\">-</td><td class=\"a-text-right mojo-field-type-money hidden\">-</td><td class=\"a-text-right mojo-field-type-duration hidden\">-</td><td class=\"a-text-right mojo-field-type-money mojo-estimatable\">$10,466,091</td><td class=\"a-text-right mojo-field-type-positive_integer\">1,900</td><td class=\"a-text-right mojo-field-type-money mojo-estimatable\">$10,691,091</td><td class=\"a-text-left mojo-field-type-date a-nowrap\">Feb 21</td><td class=\"a-text-left mojo-field-type-studio\"><a class=\"a-link-normal\" href=\"https://pro.imdb.com/company/co0214175/boxoffice/?view=releases&amp;ref_=mojo_yld_table_31&amp;rf=mojo_yld_table_31\" rel=\"noopener\" target=\"_blank\">truTV<svg class=\"mojo-new-window-svg\" viewBox=\"0 0 32 32\" xmlns=\"http://www.w3.org/2000/svg\">\n",
       "        <path d=\"M24,15.57251l3,3V23.5A3.50424,3.50424,0,0,1,23.5,27H8.5A3.50424,3.50424,0,0,1,5,23.5V8.5A3.50424,3.50424,0,0,1,8.5,5h4.92755l3,3H8.5a.50641.50641,0,0,0-.5.5v15a.50641.50641,0,0,0,.5.5h15a.50641.50641,0,0,0,.5-.5ZM19.81952,8.56372,12.8844,17.75a.49989.49989,0,0,0,.04547.65479l.66534.66528a.49983.49983,0,0,0,.65479.04553l9.18628-6.93518,2.12579,2.12585a.5.5,0,0,0,.84741-.27526l1.48273-9.35108a.50006.50006,0,0,0-.57214-.57214L17.969,5.59058a.5.5,0,0,0-.27526.84741Z\"></path>\n",
       "    </svg></a></td><td class=\"a-text-right mojo-field-type-boolean hidden\">false</td></tr><tr><td class=\"a-text-right mojo-header-column mojo-truncate mojo-field-type-rank mojo-sort-column\">32</td><td class=\"a-text-left mojo-field-type-release mojo-cell-wide\"><a class=\"a-link-normal\" href=\"/release/rl990348801/?ref_=bo_yld_table_32\">Ford v Ferrari</a></td><td class=\"a-text-left mojo-field-type-genre hidden\">-</td><td class=\"a-text-right mojo-field-type-money hidden\">-</td><td class=\"a-text-right mojo-field-type-duration hidden\">-</td><td class=\"a-text-right mojo-field-type-money mojo-estimatable\">$10,427,913</td><td class=\"a-text-right mojo-field-type-positive_integer\">3,746</td><td class=\"a-text-right mojo-field-type-money mojo-estimatable\">$117,624,357</td><td class=\"a-text-left mojo-field-type-date a-nowrap\">Nov 15</td><td class=\"a-text-left mojo-field-type-studio\"><a class=\"a-link-normal\" href=\"https://pro.imdb.com/company/co0000756/boxoffice/?view=releases&amp;ref_=mojo_yld_table_32&amp;rf=mojo_yld_table_32\" rel=\"noopener\" target=\"_blank\">Twentieth Century Fox<svg class=\"mojo-new-window-svg\" viewBox=\"0 0 32 32\" xmlns=\"http://www.w3.org/2000/svg\">\n",
       "        <path d=\"M24,15.57251l3,3V23.5A3.50424,3.50424,0,0,1,23.5,27H8.5A3.50424,3.50424,0,0,1,5,23.5V8.5A3.50424,3.50424,0,0,1,8.5,5h4.92755l3,3H8.5a.50641.50641,0,0,0-.5.5v15a.50641.50641,0,0,0,.5.5h15a.50641.50641,0,0,0,.5-.5ZM19.81952,8.56372,12.8844,17.75a.49989.49989,0,0,0,.04547.65479l.66534.66528a.49983.49983,0,0,0,.65479.04553l9.18628-6.93518,2.12579,2.12585a.5.5,0,0,0,.84741-.27526l1.48273-9.35108a.50006.50006,0,0,0-.57214-.57214L17.969,5.59058a.5.5,0,0,0-.27526.84741Z\"></path>\n",
       "    </svg></a></td><td class=\"a-text-right mojo-field-type-boolean hidden\">false</td></tr><tr><td class=\"a-text-right mojo-header-column mojo-truncate mojo-field-type-rank mojo-sort-column\">33</td><td class=\"a-text-left mojo-field-type-release mojo-cell-wide\"><a class=\"a-link-normal\" href=\"/release/rl3221784065/?ref_=bo_yld_table_33\">Emma.</a></td><td class=\"a-text-left mojo-field-type-genre hidden\">-</td><td class=\"a-text-right mojo-field-type-money hidden\">-</td><td class=\"a-text-right mojo-field-type-duration hidden\">-</td><td class=\"a-text-right mojo-field-type-money mojo-estimatable\">$10,055,355</td><td class=\"a-text-right mojo-field-type-positive_integer\">1,732</td><td class=\"a-text-right mojo-field-type-money mojo-estimatable\">$10,055,355</td><td class=\"a-text-left mojo-field-type-date a-nowrap\">Feb 21</td><td class=\"a-text-left mojo-field-type-studio\"><a class=\"a-link-normal\" href=\"https://pro.imdb.com/company/co0042399/boxoffice/?view=releases&amp;ref_=mojo_yld_table_33&amp;rf=mojo_yld_table_33\" rel=\"noopener\" target=\"_blank\">Focus Features<svg class=\"mojo-new-window-svg\" viewBox=\"0 0 32 32\" xmlns=\"http://www.w3.org/2000/svg\">\n",
       "        <path d=\"M24,15.57251l3,3V23.5A3.50424,3.50424,0,0,1,23.5,27H8.5A3.50424,3.50424,0,0,1,5,23.5V8.5A3.50424,3.50424,0,0,1,8.5,5h4.92755l3,3H8.5a.50641.50641,0,0,0-.5.5v15a.50641.50641,0,0,0,.5.5h15a.50641.50641,0,0,0,.5-.5ZM19.81952,8.56372,12.8844,17.75a.49989.49989,0,0,0,.04547.65479l.66534.66528a.49983.49983,0,0,0,.65479.04553l9.18628-6.93518,2.12579,2.12585a.5.5,0,0,0,.84741-.27526l1.48273-9.35108a.50006.50006,0,0,0-.57214-.57214L17.969,5.59058a.5.5,0,0,0-.27526.84741Z\"></path>\n",
       "    </svg></a></td><td class=\"a-text-right mojo-field-type-boolean hidden\">false</td></tr><tr><td class=\"a-text-right mojo-header-column mojo-truncate mojo-field-type-rank mojo-sort-column\">34</td><td class=\"a-text-left mojo-field-type-release mojo-cell-wide\"><a class=\"a-link-normal\" href=\"/release/rl235374081/?ref_=bo_yld_table_34\">Bloodshot</a></td><td class=\"a-text-left mojo-field-type-genre hidden\">-</td><td class=\"a-text-right mojo-field-type-money hidden\">-</td><td class=\"a-text-right mojo-field-type-duration hidden\">-</td><td class=\"a-text-right mojo-field-type-money mojo-estimatable\">$10,021,787</td><td class=\"a-text-right mojo-field-type-positive_integer\">2,861</td><td class=\"a-text-right mojo-field-type-money mojo-estimatable\">$10,021,787</td><td class=\"a-text-left mojo-field-type-date a-nowrap\">Mar 13</td><td class=\"a-text-left mojo-field-type-studio\">-</td><td class=\"a-text-right mojo-field-type-boolean hidden\">false</td></tr><tr><td class=\"a-text-right mojo-header-column mojo-truncate mojo-field-type-rank mojo-sort-column\">35</td><td class=\"a-text-left mojo-field-type-release mojo-cell-wide\"><a class=\"a-link-normal\" href=\"/release/rl1628014081/?ref_=bo_yld_table_35\">I Still Believe</a></td><td class=\"a-text-left mojo-field-type-genre hidden\">-</td><td class=\"a-text-right mojo-field-type-money hidden\">-</td><td class=\"a-text-right mojo-field-type-duration hidden\">-</td><td class=\"a-text-right mojo-field-type-money mojo-estimatable\">$9,868,521</td><td class=\"a-text-right mojo-field-type-positive_integer\">3,250</td><td class=\"a-text-right mojo-field-type-money mojo-estimatable\">$9,868,521</td><td class=\"a-text-left mojo-field-type-date a-nowrap\">Mar 13</td><td class=\"a-text-left mojo-field-type-studio\"><a class=\"a-link-normal\" href=\"https://pro.imdb.com/company/co0173285/boxoffice/?view=releases&amp;ref_=mojo_yld_table_35&amp;rf=mojo_yld_table_35\" rel=\"noopener\" target=\"_blank\">Lionsgate<svg class=\"mojo-new-window-svg\" viewBox=\"0 0 32 32\" xmlns=\"http://www.w3.org/2000/svg\">\n",
       "        <path d=\"M24,15.57251l3,3V23.5A3.50424,3.50424,0,0,1,23.5,27H8.5A3.50424,3.50424,0,0,1,5,23.5V8.5A3.50424,3.50424,0,0,1,8.5,5h4.92755l3,3H8.5a.50641.50641,0,0,0-.5.5v15a.50641.50641,0,0,0,.5.5h15a.50641.50641,0,0,0,.5-.5ZM19.81952,8.56372,12.8844,17.75a.49989.49989,0,0,0,.04547.65479l.66534.66528a.49983.49983,0,0,0,.65479.04553l9.18628-6.93518,2.12579,2.12585a.5.5,0,0,0,.84741-.27526l1.48273-9.35108a.50006.50006,0,0,0-.57214-.57214L17.969,5.59058a.5.5,0,0,0-.27526.84741Z\"></path>\n",
       "    </svg></a></td><td class=\"a-text-right mojo-field-type-boolean hidden\">false</td></tr><tr><td class=\"a-text-right mojo-header-column mojo-truncate mojo-field-type-rank mojo-sort-column\">36</td><td class=\"a-text-left mojo-field-type-release mojo-cell-wide\"><a class=\"a-link-normal\" href=\"/release/rl2611249665/?ref_=bo_yld_table_36\">Downhill</a></td><td class=\"a-text-left mojo-field-type-genre hidden\">-</td><td class=\"a-text-right mojo-field-type-money hidden\">-</td><td class=\"a-text-right mojo-field-type-duration hidden\">-</td><td class=\"a-text-right mojo-field-type-money mojo-estimatable\">$8,287,061</td><td class=\"a-text-right mojo-field-type-positive_integer\">2,311</td><td class=\"a-text-right mojo-field-type-money mojo-estimatable\">$8,287,061</td><td class=\"a-text-left mojo-field-type-date a-nowrap\">Feb 14</td><td class=\"a-text-left mojo-field-type-studio\"><a class=\"a-link-normal\" href=\"https://pro.imdb.com/company/co0028932/boxoffice/?view=releases&amp;ref_=mojo_yld_table_36&amp;rf=mojo_yld_table_36\" rel=\"noopener\" target=\"_blank\">Fox Searchlight Pictures<svg class=\"mojo-new-window-svg\" viewBox=\"0 0 32 32\" xmlns=\"http://www.w3.org/2000/svg\">\n",
       "        <path d=\"M24,15.57251l3,3V23.5A3.50424,3.50424,0,0,1,23.5,27H8.5A3.50424,3.50424,0,0,1,5,23.5V8.5A3.50424,3.50424,0,0,1,8.5,5h4.92755l3,3H8.5a.50641.50641,0,0,0-.5.5v15a.50641.50641,0,0,0,.5.5h15a.50641.50641,0,0,0,.5-.5ZM19.81952,8.56372,12.8844,17.75a.49989.49989,0,0,0,.04547.65479l.66534.66528a.49983.49983,0,0,0,.65479.04553l9.18628-6.93518,2.12579,2.12585a.5.5,0,0,0,.84741-.27526l1.48273-9.35108a.50006.50006,0,0,0-.57214-.57214L17.969,5.59058a.5.5,0,0,0-.27526.84741Z\"></path>\n",
       "    </svg></a></td><td class=\"a-text-right mojo-field-type-boolean hidden\">false</td></tr><tr><td class=\"a-text-right mojo-header-column mojo-truncate mojo-field-type-rank mojo-sort-column\">37</td><td class=\"a-text-left mojo-field-type-release mojo-cell-wide\"><a class=\"a-link-normal\" href=\"/release/rl3669066241/?ref_=bo_yld_table_37\">Weathering with You</a></td><td class=\"a-text-left mojo-field-type-genre hidden\">-</td><td class=\"a-text-right mojo-field-type-money hidden\">-</td><td class=\"a-text-right mojo-field-type-duration hidden\">-</td><td class=\"a-text-right mojo-field-type-money mojo-estimatable\">$7,798,743</td><td class=\"a-text-right mojo-field-type-positive_integer\">1,020</td><td class=\"a-text-right mojo-field-type-money mojo-estimatable\">$7,798,743</td><td class=\"a-text-left mojo-field-type-date a-nowrap\">Jan 15</td><td class=\"a-text-left mojo-field-type-studio\"><a class=\"a-link-normal\" href=\"https://pro.imdb.com/company/co0255038/boxoffice/?view=releases&amp;ref_=mojo_yld_table_37&amp;rf=mojo_yld_table_37\" rel=\"noopener\" target=\"_blank\">GKIDS<svg class=\"mojo-new-window-svg\" viewBox=\"0 0 32 32\" xmlns=\"http://www.w3.org/2000/svg\">\n",
       "        <path d=\"M24,15.57251l3,3V23.5A3.50424,3.50424,0,0,1,23.5,27H8.5A3.50424,3.50424,0,0,1,5,23.5V8.5A3.50424,3.50424,0,0,1,8.5,5h4.92755l3,3H8.5a.50641.50641,0,0,0-.5.5v15a.50641.50641,0,0,0,.5.5h15a.50641.50641,0,0,0,.5-.5ZM19.81952,8.56372,12.8844,17.75a.49989.49989,0,0,0,.04547.65479l.66534.66528a.49983.49983,0,0,0,.65479.04553l9.18628-6.93518,2.12579,2.12585a.5.5,0,0,0,.84741-.27526l1.48273-9.35108a.50006.50006,0,0,0-.57214-.57214L17.969,5.59058a.5.5,0,0,0-.27526.84741Z\"></path>\n",
       "    </svg></a></td><td class=\"a-text-right mojo-field-type-boolean hidden\">false</td></tr><tr><td class=\"a-text-right mojo-header-column mojo-truncate mojo-field-type-rank mojo-sort-column\">38</td><td class=\"a-text-left mojo-field-type-release mojo-cell-wide\"><a class=\"a-link-normal\" href=\"/release/rl2684847617/?ref_=bo_yld_table_38\">Cats</a></td><td class=\"a-text-left mojo-field-type-genre hidden\">-</td><td class=\"a-text-right mojo-field-type-money hidden\">-</td><td class=\"a-text-right mojo-field-type-duration hidden\">-</td><td class=\"a-text-right mojo-field-type-money mojo-estimatable\">$7,196,675</td><td class=\"a-text-right mojo-field-type-positive_integer\">3,380</td><td class=\"a-text-right mojo-field-type-money mojo-estimatable\">$27,166,770</td><td class=\"a-text-left mojo-field-type-date a-nowrap\">Dec 20</td><td class=\"a-text-left mojo-field-type-studio\"><a class=\"a-link-normal\" href=\"https://pro.imdb.com/company/co0005073/boxoffice/?view=releases&amp;ref_=mojo_yld_table_38&amp;rf=mojo_yld_table_38\" rel=\"noopener\" target=\"_blank\">Universal Pictures<svg class=\"mojo-new-window-svg\" viewBox=\"0 0 32 32\" xmlns=\"http://www.w3.org/2000/svg\">\n",
       "        <path d=\"M24,15.57251l3,3V23.5A3.50424,3.50424,0,0,1,23.5,27H8.5A3.50424,3.50424,0,0,1,5,23.5V8.5A3.50424,3.50424,0,0,1,8.5,5h4.92755l3,3H8.5a.50641.50641,0,0,0-.5.5v15a.50641.50641,0,0,0,.5.5h15a.50641.50641,0,0,0,.5-.5ZM19.81952,8.56372,12.8844,17.75a.49989.49989,0,0,0,.04547.65479l.66534.66528a.49983.49983,0,0,0,.65479.04553l9.18628-6.93518,2.12579,2.12585a.5.5,0,0,0,.84741-.27526l1.48273-9.35108a.50006.50006,0,0,0-.57214-.57214L17.969,5.59058a.5.5,0,0,0-.27526.84741Z\"></path>\n",
       "    </svg></a></td><td class=\"a-text-right mojo-field-type-boolean hidden\">false</td></tr><tr><td class=\"a-text-right mojo-header-column mojo-truncate mojo-field-type-rank mojo-sort-column\">39</td><td class=\"a-text-left mojo-field-type-release mojo-cell-wide\"><a class=\"a-link-normal\" href=\"/release/rl1459979777/?ref_=bo_yld_table_39\">The Hunt</a></td><td class=\"a-text-left mojo-field-type-genre hidden\">-</td><td class=\"a-text-right mojo-field-type-money hidden\">-</td><td class=\"a-text-right mojo-field-type-duration hidden\">-</td><td class=\"a-text-right mojo-field-type-money mojo-estimatable\">$5,812,500</td><td class=\"a-text-right mojo-field-type-positive_integer\">3,028</td><td class=\"a-text-right mojo-field-type-money mojo-estimatable\">$5,812,500</td><td class=\"a-text-left mojo-field-type-date a-nowrap\">Mar 13</td><td class=\"a-text-left mojo-field-type-studio\"><a class=\"a-link-normal\" href=\"https://pro.imdb.com/company/co0005073/boxoffice/?view=releases&amp;ref_=mojo_yld_table_39&amp;rf=mojo_yld_table_39\" rel=\"noopener\" target=\"_blank\">Universal Pictures<svg class=\"mojo-new-window-svg\" viewBox=\"0 0 32 32\" xmlns=\"http://www.w3.org/2000/svg\">\n",
       "        <path d=\"M24,15.57251l3,3V23.5A3.50424,3.50424,0,0,1,23.5,27H8.5A3.50424,3.50424,0,0,1,5,23.5V8.5A3.50424,3.50424,0,0,1,8.5,5h4.92755l3,3H8.5a.50641.50641,0,0,0-.5.5v15a.50641.50641,0,0,0,.5.5h15a.50641.50641,0,0,0,.5-.5ZM19.81952,8.56372,12.8844,17.75a.49989.49989,0,0,0,.04547.65479l.66534.66528a.49983.49983,0,0,0,.65479.04553l9.18628-6.93518,2.12579,2.12585a.5.5,0,0,0,.84741-.27526l1.48273-9.35108a.50006.50006,0,0,0-.57214-.57214L17.969,5.59058a.5.5,0,0,0-.27526.84741Z\"></path>\n",
       "    </svg></a></td><td class=\"a-text-right mojo-field-type-boolean hidden\">false</td></tr><tr><td class=\"a-text-right mojo-header-column mojo-truncate mojo-field-type-rank mojo-sort-column\">40</td><td class=\"a-text-left mojo-field-type-release mojo-cell-wide\"><a class=\"a-link-normal\" href=\"/release/rl3775038977/?ref_=bo_yld_table_40\">The Rhythm Section</a></td><td class=\"a-text-left mojo-field-type-genre hidden\">-</td><td class=\"a-text-right mojo-field-type-money hidden\">-</td><td class=\"a-text-right mojo-field-type-duration hidden\">-</td><td class=\"a-text-right mojo-field-type-money mojo-estimatable\">$5,437,971</td><td class=\"a-text-right mojo-field-type-positive_integer\">3,049</td><td class=\"a-text-right mojo-field-type-money mojo-estimatable\">$5,437,971</td><td class=\"a-text-left mojo-field-type-date a-nowrap\">Jan 31</td><td class=\"a-text-left mojo-field-type-studio\"><a class=\"a-link-normal\" href=\"https://pro.imdb.com/company/co0023400/boxoffice/?view=releases&amp;ref_=mojo_yld_table_40&amp;rf=mojo_yld_table_40\" rel=\"noopener\" target=\"_blank\">Paramount Pictures<svg class=\"mojo-new-window-svg\" viewBox=\"0 0 32 32\" xmlns=\"http://www.w3.org/2000/svg\">\n",
       "        <path d=\"M24,15.57251l3,3V23.5A3.50424,3.50424,0,0,1,23.5,27H8.5A3.50424,3.50424,0,0,1,5,23.5V8.5A3.50424,3.50424,0,0,1,8.5,5h4.92755l3,3H8.5a.50641.50641,0,0,0-.5.5v15a.50641.50641,0,0,0,.5.5h15a.50641.50641,0,0,0,.5-.5ZM19.81952,8.56372,12.8844,17.75a.49989.49989,0,0,0,.04547.65479l.66534.66528a.49983.49983,0,0,0,.65479.04553l9.18628-6.93518,2.12579,2.12585a.5.5,0,0,0,.84741-.27526l1.48273-9.35108a.50006.50006,0,0,0-.57214-.57214L17.969,5.59058a.5.5,0,0,0-.27526.84741Z\"></path>\n",
       "    </svg></a></td><td class=\"a-text-right mojo-field-type-boolean hidden\">false</td></tr><tr><td class=\"a-text-right mojo-header-column mojo-truncate mojo-field-type-rank mojo-sort-column\">41</td><td class=\"a-text-left mojo-field-type-release mojo-cell-wide\"><a class=\"a-link-normal\" href=\"/release/rl2651096577/?ref_=bo_yld_table_41\">A Beautiful Day in the Neighborhood</a></td><td class=\"a-text-left mojo-field-type-genre hidden\">-</td><td class=\"a-text-right mojo-field-type-money hidden\">-</td><td class=\"a-text-right mojo-field-type-duration hidden\">-</td><td class=\"a-text-right mojo-field-type-money mojo-estimatable\">$4,997,062</td><td class=\"a-text-right mojo-field-type-positive_integer\">3,491</td><td class=\"a-text-right mojo-field-type-money mojo-estimatable\">$61,704,055</td><td class=\"a-text-left mojo-field-type-date a-nowrap\">Nov 22</td><td class=\"a-text-left mojo-field-type-studio\">-</td><td class=\"a-text-right mojo-field-type-boolean hidden\">false</td></tr><tr><td class=\"a-text-right mojo-header-column mojo-truncate mojo-field-type-rank mojo-sort-column\">42</td><td class=\"a-text-left mojo-field-type-release mojo-cell-wide\"><a class=\"a-link-normal\" href=\"/release/rl2903213569/?ref_=bo_yld_table_42\">Richard Jewell</a></td><td class=\"a-text-left mojo-field-type-genre hidden\">-</td><td class=\"a-text-right mojo-field-type-money hidden\">-</td><td class=\"a-text-right mojo-field-type-duration hidden\">-</td><td class=\"a-text-right mojo-field-type-money mojo-estimatable\">$4,523,325</td><td class=\"a-text-right mojo-field-type-positive_integer\">2,502</td><td class=\"a-text-right mojo-field-type-money mojo-estimatable\">$22,345,542</td><td class=\"a-text-left mojo-field-type-date a-nowrap\">Dec 13</td><td class=\"a-text-left mojo-field-type-studio\"><a class=\"a-link-normal\" href=\"https://pro.imdb.com/company/co0002663/boxoffice/?view=releases&amp;ref_=mojo_yld_table_42&amp;rf=mojo_yld_table_42\" rel=\"noopener\" target=\"_blank\">Warner Bros.<svg class=\"mojo-new-window-svg\" viewBox=\"0 0 32 32\" xmlns=\"http://www.w3.org/2000/svg\">\n",
       "        <path d=\"M24,15.57251l3,3V23.5A3.50424,3.50424,0,0,1,23.5,27H8.5A3.50424,3.50424,0,0,1,5,23.5V8.5A3.50424,3.50424,0,0,1,8.5,5h4.92755l3,3H8.5a.50641.50641,0,0,0-.5.5v15a.50641.50641,0,0,0,.5.5h15a.50641.50641,0,0,0,.5-.5ZM19.81952,8.56372,12.8844,17.75a.49989.49989,0,0,0,.04547.65479l.66534.66528a.49983.49983,0,0,0,.65479.04553l9.18628-6.93518,2.12579,2.12585a.5.5,0,0,0,.84741-.27526l1.48273-9.35108a.50006.50006,0,0,0-.57214-.57214L17.969,5.59058a.5.5,0,0,0-.27526.84741Z\"></path>\n",
       "    </svg></a></td><td class=\"a-text-right mojo-field-type-boolean hidden\">false</td></tr><tr><td class=\"a-text-right mojo-header-column mojo-truncate mojo-field-type-rank mojo-sort-column\">43</td><td class=\"a-text-left mojo-field-type-release mojo-cell-wide\"><a class=\"a-link-normal\" href=\"/release/rl1325958657/?ref_=bo_yld_table_43\">Portrait of a Lady on Fire</a></td><td class=\"a-text-left mojo-field-type-genre hidden\">-</td><td class=\"a-text-right mojo-field-type-money hidden\">-</td><td class=\"a-text-right mojo-field-type-duration hidden\">-</td><td class=\"a-text-right mojo-field-type-money mojo-estimatable\">$3,641,251</td><td class=\"a-text-right mojo-field-type-positive_integer\">334</td><td class=\"a-text-right mojo-field-type-money mojo-estimatable\">$3,759,854</td><td class=\"a-text-left mojo-field-type-date a-nowrap\">Dec 6</td><td class=\"a-text-left mojo-field-type-studio\"><a class=\"a-link-normal\" href=\"https://pro.imdb.com/company/co0623930/boxoffice/?view=releases&amp;ref_=mojo_yld_table_43&amp;rf=mojo_yld_table_43\" rel=\"noopener\" target=\"_blank\">Neon<svg class=\"mojo-new-window-svg\" viewBox=\"0 0 32 32\" xmlns=\"http://www.w3.org/2000/svg\">\n",
       "        <path d=\"M24,15.57251l3,3V23.5A3.50424,3.50424,0,0,1,23.5,27H8.5A3.50424,3.50424,0,0,1,5,23.5V8.5A3.50424,3.50424,0,0,1,8.5,5h4.92755l3,3H8.5a.50641.50641,0,0,0-.5.5v15a.50641.50641,0,0,0,.5.5h15a.50641.50641,0,0,0,.5-.5ZM19.81952,8.56372,12.8844,17.75a.49989.49989,0,0,0,.04547.65479l.66534.66528a.49983.49983,0,0,0,.65479.04553l9.18628-6.93518,2.12579,2.12585a.5.5,0,0,0,.84741-.27526l1.48273-9.35108a.50006.50006,0,0,0-.57214-.57214L17.969,5.59058a.5.5,0,0,0-.27526.84741Z\"></path>\n",
       "    </svg></a></td><td class=\"a-text-right mojo-field-type-boolean hidden\">false</td></tr><tr><td class=\"a-text-right mojo-header-column mojo-truncate mojo-field-type-rank mojo-sort-column\">44</td><td class=\"a-text-left mojo-field-type-release mojo-cell-wide\"><a class=\"a-link-normal\" href=\"/release/rl615875073/?ref_=bo_yld_table_44\">2020 Oscar Nominated Short Films</a></td><td class=\"a-text-left mojo-field-type-genre hidden\">-</td><td class=\"a-text-right mojo-field-type-money hidden\">-</td><td class=\"a-text-right mojo-field-type-duration hidden\">-</td><td class=\"a-text-right mojo-field-type-money mojo-estimatable\">$3,306,611</td><td class=\"a-text-right mojo-field-type-positive_integer\">536</td><td class=\"a-text-right mojo-field-type-money mojo-estimatable\">$3,306,611</td><td class=\"a-text-left mojo-field-type-date a-nowrap\">Jan 31</td><td class=\"a-text-left mojo-field-type-studio\"><a class=\"a-link-normal\" href=\"https://pro.imdb.com/company/co0134717/boxoffice/?view=releases&amp;ref_=mojo_yld_table_44&amp;rf=mojo_yld_table_44\" rel=\"noopener\" target=\"_blank\">Magnolia Pictures<svg class=\"mojo-new-window-svg\" viewBox=\"0 0 32 32\" xmlns=\"http://www.w3.org/2000/svg\">\n",
       "        <path d=\"M24,15.57251l3,3V23.5A3.50424,3.50424,0,0,1,23.5,27H8.5A3.50424,3.50424,0,0,1,5,23.5V8.5A3.50424,3.50424,0,0,1,8.5,5h4.92755l3,3H8.5a.50641.50641,0,0,0-.5.5v15a.50641.50641,0,0,0,.5.5h15a.50641.50641,0,0,0,.5-.5ZM19.81952,8.56372,12.8844,17.75a.49989.49989,0,0,0,.04547.65479l.66534.66528a.49983.49983,0,0,0,.65479.04553l9.18628-6.93518,2.12579,2.12585a.5.5,0,0,0,.84741-.27526l1.48273-9.35108a.50006.50006,0,0,0-.57214-.57214L17.969,5.59058a.5.5,0,0,0-.27526.84741Z\"></path>\n",
       "    </svg></a></td><td class=\"a-text-right mojo-field-type-boolean hidden\">false</td></tr><tr><td class=\"a-text-right mojo-header-column mojo-truncate mojo-field-type-rank mojo-sort-column\">45</td><td class=\"a-text-left mojo-field-type-release mojo-cell-wide\"><a class=\"a-link-normal\" href=\"/release/rl50824705/?ref_=bo_yld_table_45\">Queen &amp; Slim</a></td><td class=\"a-text-left mojo-field-type-genre hidden\">-</td><td class=\"a-text-right mojo-field-type-money hidden\">-</td><td class=\"a-text-right mojo-field-type-duration hidden\">-</td><td class=\"a-text-right mojo-field-type-money mojo-estimatable\">$3,089,365</td><td class=\"a-text-right mojo-field-type-positive_integer\">1,715</td><td class=\"a-text-right mojo-field-type-money mojo-estimatable\">$43,808,310</td><td class=\"a-text-left mojo-field-type-date a-nowrap\">Nov 27</td><td class=\"a-text-left mojo-field-type-studio\"><a class=\"a-link-normal\" href=\"https://pro.imdb.com/company/co0005073/boxoffice/?view=releases&amp;ref_=mojo_yld_table_45&amp;rf=mojo_yld_table_45\" rel=\"noopener\" target=\"_blank\">Universal Pictures<svg class=\"mojo-new-window-svg\" viewBox=\"0 0 32 32\" xmlns=\"http://www.w3.org/2000/svg\">\n",
       "        <path d=\"M24,15.57251l3,3V23.5A3.50424,3.50424,0,0,1,23.5,27H8.5A3.50424,3.50424,0,0,1,5,23.5V8.5A3.50424,3.50424,0,0,1,8.5,5h4.92755l3,3H8.5a.50641.50641,0,0,0-.5.5v15a.50641.50641,0,0,0,.5.5h15a.50641.50641,0,0,0,.5-.5ZM19.81952,8.56372,12.8844,17.75a.49989.49989,0,0,0,.04547.65479l.66534.66528a.49983.49983,0,0,0,.65479.04553l9.18628-6.93518,2.12579,2.12585a.5.5,0,0,0,.84741-.27526l1.48273-9.35108a.50006.50006,0,0,0-.57214-.57214L17.969,5.59058a.5.5,0,0,0-.27526.84741Z\"></path>\n",
       "    </svg></a></td><td class=\"a-text-right mojo-field-type-boolean hidden\">false</td></tr><tr><td class=\"a-text-right mojo-header-column mojo-truncate mojo-field-type-rank mojo-sort-column\">46</td><td class=\"a-text-left mojo-field-type-release mojo-cell-wide\"><a class=\"a-link-normal\" href=\"/release/rl537298433/?ref_=bo_yld_table_46\">Las Pildoras De Mi Novio</a></td><td class=\"a-text-left mojo-field-type-genre hidden\">-</td><td class=\"a-text-right mojo-field-type-money hidden\">-</td><td class=\"a-text-right mojo-field-type-duration hidden\">-</td><td class=\"a-text-right mojo-field-type-money mojo-estimatable\">$2,971,116</td><td class=\"a-text-right mojo-field-type-positive_integer\">350</td><td class=\"a-text-right mojo-field-type-money mojo-estimatable\">$2,971,116</td><td class=\"a-text-left mojo-field-type-date a-nowrap\">Feb 21</td><td class=\"a-text-left mojo-field-type-studio\"><a class=\"a-link-normal\" href=\"https://pro.imdb.com/company/co0325194/boxoffice/?view=releases&amp;ref_=mojo_yld_table_46&amp;rf=mojo_yld_table_46\" rel=\"noopener\" target=\"_blank\">Pantelion Films<svg class=\"mojo-new-window-svg\" viewBox=\"0 0 32 32\" xmlns=\"http://www.w3.org/2000/svg\">\n",
       "        <path d=\"M24,15.57251l3,3V23.5A3.50424,3.50424,0,0,1,23.5,27H8.5A3.50424,3.50424,0,0,1,5,23.5V8.5A3.50424,3.50424,0,0,1,8.5,5h4.92755l3,3H8.5a.50641.50641,0,0,0-.5.5v15a.50641.50641,0,0,0,.5.5h15a.50641.50641,0,0,0,.5-.5ZM19.81952,8.56372,12.8844,17.75a.49989.49989,0,0,0,.04547.65479l.66534.66528a.49983.49983,0,0,0,.65479.04553l9.18628-6.93518,2.12579,2.12585a.5.5,0,0,0,.84741-.27526l1.48273-9.35108a.50006.50006,0,0,0-.57214-.57214L17.969,5.59058a.5.5,0,0,0-.27526.84741Z\"></path>\n",
       "    </svg></a></td><td class=\"a-text-right mojo-field-type-boolean hidden\">false</td></tr><tr><td class=\"a-text-right mojo-header-column mojo-truncate mojo-field-type-rank mojo-sort-column\">47</td><td class=\"a-text-left mojo-field-type-release mojo-cell-wide\"><a class=\"a-link-normal\" href=\"/release/rl1617987073/?ref_=bo_yld_table_47\">The Last Full Measure</a></td><td class=\"a-text-left mojo-field-type-genre hidden\">-</td><td class=\"a-text-right mojo-field-type-money hidden\">-</td><td class=\"a-text-right mojo-field-type-duration hidden\">-</td><td class=\"a-text-right mojo-field-type-money mojo-estimatable\">$2,949,212</td><td class=\"a-text-right mojo-field-type-positive_integer\">617</td><td class=\"a-text-right mojo-field-type-money mojo-estimatable\">$2,949,212</td><td class=\"a-text-left mojo-field-type-date a-nowrap\">Jan 24</td><td class=\"a-text-left mojo-field-type-studio\"><a class=\"a-link-normal\" href=\"https://pro.imdb.com/company/co0017716/boxoffice/?view=releases&amp;ref_=mojo_yld_table_47&amp;rf=mojo_yld_table_47\" rel=\"noopener\" target=\"_blank\">Roadside Attractions<svg class=\"mojo-new-window-svg\" viewBox=\"0 0 32 32\" xmlns=\"http://www.w3.org/2000/svg\">\n",
       "        <path d=\"M24,15.57251l3,3V23.5A3.50424,3.50424,0,0,1,23.5,27H8.5A3.50424,3.50424,0,0,1,5,23.5V8.5A3.50424,3.50424,0,0,1,8.5,5h4.92755l3,3H8.5a.50641.50641,0,0,0-.5.5v15a.50641.50641,0,0,0,.5.5h15a.50641.50641,0,0,0,.5-.5ZM19.81952,8.56372,12.8844,17.75a.49989.49989,0,0,0,.04547.65479l.66534.66528a.49983.49983,0,0,0,.65479.04553l9.18628-6.93518,2.12579,2.12585a.5.5,0,0,0,.84741-.27526l1.48273-9.35108a.50006.50006,0,0,0-.57214-.57214L17.969,5.59058a.5.5,0,0,0-.27526.84741Z\"></path>\n",
       "    </svg></a></td><td class=\"a-text-right mojo-field-type-boolean hidden\">false</td></tr><tr><td class=\"a-text-right mojo-header-column mojo-truncate mojo-field-type-rank mojo-sort-column\">48</td><td class=\"a-text-left mojo-field-type-release mojo-cell-wide\"><a class=\"a-link-normal\" href=\"/release/rl1386316289/?ref_=bo_yld_table_48\">Ip Man 4: The Finale</a></td><td class=\"a-text-left mojo-field-type-genre hidden\">-</td><td class=\"a-text-right mojo-field-type-money hidden\">-</td><td class=\"a-text-right mojo-field-type-duration hidden\">-</td><td class=\"a-text-right mojo-field-type-money mojo-estimatable\">$2,180,071</td><td class=\"a-text-right mojo-field-type-positive_integer\">125</td><td class=\"a-text-right mojo-field-type-money mojo-estimatable\">$3,956,031</td><td class=\"a-text-left mojo-field-type-date a-nowrap\">Dec 25</td><td class=\"a-text-left mojo-field-type-studio\"><a class=\"a-link-normal\" href=\"https://pro.imdb.com/company/co0227523/boxoffice/?view=releases&amp;ref_=mojo_yld_table_48&amp;rf=mojo_yld_table_48\" rel=\"noopener\" target=\"_blank\">Well Go USA Entertainment<svg class=\"mojo-new-window-svg\" viewBox=\"0 0 32 32\" xmlns=\"http://www.w3.org/2000/svg\">\n",
       "        <path d=\"M24,15.57251l3,3V23.5A3.50424,3.50424,0,0,1,23.5,27H8.5A3.50424,3.50424,0,0,1,5,23.5V8.5A3.50424,3.50424,0,0,1,8.5,5h4.92755l3,3H8.5a.50641.50641,0,0,0-.5.5v15a.50641.50641,0,0,0,.5.5h15a.50641.50641,0,0,0,.5-.5ZM19.81952,8.56372,12.8844,17.75a.49989.49989,0,0,0,.04547.65479l.66534.66528a.49983.49983,0,0,0,.65479.04553l9.18628-6.93518,2.12579,2.12585a.5.5,0,0,0,.84741-.27526l1.48273-9.35108a.50006.50006,0,0,0-.57214-.57214L17.969,5.59058a.5.5,0,0,0-.27526.84741Z\"></path>\n",
       "    </svg></a></td><td class=\"a-text-right mojo-field-type-boolean hidden\">false</td></tr><tr><td class=\"a-text-right mojo-header-column mojo-truncate mojo-field-type-rank mojo-sort-column\">49</td><td class=\"a-text-left mojo-field-type-release mojo-cell-wide\"><a class=\"a-link-normal\" href=\"/release/rl716997121/?ref_=bo_yld_table_49\">The Wretched</a></td><td class=\"a-text-left mojo-field-type-genre hidden\">-</td><td class=\"a-text-right mojo-field-type-money hidden\">-</td><td class=\"a-text-right mojo-field-type-duration hidden\">-</td><td class=\"a-text-right mojo-field-type-money mojo-estimatable\">$1,687,715</td><td class=\"a-text-right mojo-field-type-positive_integer\">101</td><td class=\"a-text-right mojo-field-type-money mojo-estimatable\">$1,688,100</td><td class=\"a-text-left mojo-field-type-date a-nowrap\">May 1</td><td class=\"a-text-left mojo-field-type-studio\"><a class=\"a-link-normal\" href=\"https://pro.imdb.com/company/co0015762/boxoffice/?view=releases&amp;ref_=mojo_yld_table_49&amp;rf=mojo_yld_table_49\" rel=\"noopener\" target=\"_blank\">IFC Films<svg class=\"mojo-new-window-svg\" viewBox=\"0 0 32 32\" xmlns=\"http://www.w3.org/2000/svg\">\n",
       "        <path d=\"M24,15.57251l3,3V23.5A3.50424,3.50424,0,0,1,23.5,27H8.5A3.50424,3.50424,0,0,1,5,23.5V8.5A3.50424,3.50424,0,0,1,8.5,5h4.92755l3,3H8.5a.50641.50641,0,0,0-.5.5v15a.50641.50641,0,0,0,.5.5h15a.50641.50641,0,0,0,.5-.5ZM19.81952,8.56372,12.8844,17.75a.49989.49989,0,0,0,.04547.65479l.66534.66528a.49983.49983,0,0,0,.65479.04553l9.18628-6.93518,2.12579,2.12585a.5.5,0,0,0,.84741-.27526l1.48273-9.35108a.50006.50006,0,0,0-.57214-.57214L17.969,5.59058a.5.5,0,0,0-.27526.84741Z\"></path>\n",
       "    </svg></a></td><td class=\"a-text-right mojo-field-type-boolean hidden\">false</td></tr><tr><td class=\"a-text-right mojo-header-column mojo-truncate mojo-field-type-rank mojo-sort-column\">50</td><td class=\"a-text-left mojo-field-type-release mojo-cell-wide\"><a class=\"a-link-normal\" href=\"/release/rl252151297/?ref_=bo_yld_table_50\">Joker</a></td><td class=\"a-text-left mojo-field-type-genre hidden\">-</td><td class=\"a-text-right mojo-field-type-money hidden\">-</td><td class=\"a-text-right mojo-field-type-duration hidden\">-</td><td class=\"a-text-right mojo-field-type-money mojo-estimatable\">$1,678,800</td><td class=\"a-text-right mojo-field-type-positive_integer\">4,374</td><td class=\"a-text-right mojo-field-type-money mojo-estimatable\">$335,451,311</td><td class=\"a-text-left mojo-field-type-date a-nowrap\">Oct 4</td><td class=\"a-text-left mojo-field-type-studio\"><a class=\"a-link-normal\" href=\"https://pro.imdb.com/company/co0002663/boxoffice/?view=releases&amp;ref_=mojo_yld_table_50&amp;rf=mojo_yld_table_50\" rel=\"noopener\" target=\"_blank\">Warner Bros.<svg class=\"mojo-new-window-svg\" viewBox=\"0 0 32 32\" xmlns=\"http://www.w3.org/2000/svg\">\n",
       "        <path d=\"M24,15.57251l3,3V23.5A3.50424,3.50424,0,0,1,23.5,27H8.5A3.50424,3.50424,0,0,1,5,23.5V8.5A3.50424,3.50424,0,0,1,8.5,5h4.92755l3,3H8.5a.50641.50641,0,0,0-.5.5v15a.50641.50641,0,0,0,.5.5h15a.50641.50641,0,0,0,.5-.5ZM19.81952,8.56372,12.8844,17.75a.49989.49989,0,0,0,.04547.65479l.66534.66528a.49983.49983,0,0,0,.65479.04553l9.18628-6.93518,2.12579,2.12585a.5.5,0,0,0,.84741-.27526l1.48273-9.35108a.50006.50006,0,0,0-.57214-.57214L17.969,5.59058a.5.5,0,0,0-.27526.84741Z\"></path>\n",
       "    </svg></a></td><td class=\"a-text-right mojo-field-type-boolean hidden\">false</td></tr><tr><td class=\"a-text-right mojo-header-column mojo-truncate mojo-field-type-rank mojo-sort-column\">51</td><td class=\"a-text-left mojo-field-type-release mojo-cell-wide\"><a class=\"a-link-normal\" href=\"/release/rl2517140993/?ref_=bo_yld_table_51\">The Lodge</a></td><td class=\"a-text-left mojo-field-type-genre hidden\">-</td><td class=\"a-text-right mojo-field-type-money hidden\">-</td><td class=\"a-text-right mojo-field-type-duration hidden\">-</td><td class=\"a-text-right mojo-field-type-money mojo-estimatable\">$1,666,564</td><td class=\"a-text-right mojo-field-type-positive_integer\">395</td><td class=\"a-text-right mojo-field-type-money mojo-estimatable\">$1,666,564</td><td class=\"a-text-left mojo-field-type-date a-nowrap\">Feb 7</td><td class=\"a-text-left mojo-field-type-studio\"><a class=\"a-link-normal\" href=\"https://pro.imdb.com/company/co0623930/boxoffice/?view=releases&amp;ref_=mojo_yld_table_51&amp;rf=mojo_yld_table_51\" rel=\"noopener\" target=\"_blank\">Neon<svg class=\"mojo-new-window-svg\" viewBox=\"0 0 32 32\" xmlns=\"http://www.w3.org/2000/svg\">\n",
       "        <path d=\"M24,15.57251l3,3V23.5A3.50424,3.50424,0,0,1,23.5,27H8.5A3.50424,3.50424,0,0,1,5,23.5V8.5A3.50424,3.50424,0,0,1,8.5,5h4.92755l3,3H8.5a.50641.50641,0,0,0-.5.5v15a.50641.50641,0,0,0,.5.5h15a.50641.50641,0,0,0,.5-.5ZM19.81952,8.56372,12.8844,17.75a.49989.49989,0,0,0,.04547.65479l.66534.66528a.49983.49983,0,0,0,.65479.04553l9.18628-6.93518,2.12579,2.12585a.5.5,0,0,0,.84741-.27526l1.48273-9.35108a.50006.50006,0,0,0-.57214-.57214L17.969,5.59058a.5.5,0,0,0-.27526.84741Z\"></path>\n",
       "    </svg></a></td><td class=\"a-text-right mojo-field-type-boolean hidden\">false</td></tr><tr><td class=\"a-text-right mojo-header-column mojo-truncate mojo-field-type-rank mojo-sort-column\">52</td><td class=\"a-text-left mojo-field-type-release mojo-cell-wide\"><a class=\"a-link-normal\" href=\"/release/rl520455681/?ref_=bo_yld_table_52\">Once Upon a Time... in Hollywood</a></td><td class=\"a-text-left mojo-field-type-genre hidden\">-</td><td class=\"a-text-right mojo-field-type-money hidden\">-</td><td class=\"a-text-right mojo-field-type-duration hidden\">-</td><td class=\"a-text-right mojo-field-type-money mojo-estimatable\">$1,425,760</td><td class=\"a-text-right mojo-field-type-positive_integer\">3,659</td><td class=\"a-text-right mojo-field-type-money mojo-estimatable\">$142,502,728</td><td class=\"a-text-left mojo-field-type-date a-nowrap\">Jul 26</td><td class=\"a-text-left mojo-field-type-studio\">-</td><td class=\"a-text-right mojo-field-type-boolean hidden\">false</td></tr><tr><td class=\"a-text-right mojo-header-column mojo-truncate mojo-field-type-rank mojo-sort-column\">53</td><td class=\"a-text-left mojo-field-type-release mojo-cell-wide\"><a class=\"a-link-normal\" href=\"/release/rl1554088449/?ref_=bo_yld_table_53\">The Assistant</a></td><td class=\"a-text-left mojo-field-type-genre hidden\">-</td><td class=\"a-text-right mojo-field-type-money hidden\">-</td><td class=\"a-text-right mojo-field-type-duration hidden\">-</td><td class=\"a-text-right mojo-field-type-money mojo-estimatable\">$1,100,313</td><td class=\"a-text-right mojo-field-type-positive_integer\">25</td><td class=\"a-text-right mojo-field-type-money mojo-estimatable\">$1,100,313</td><td class=\"a-text-left mojo-field-type-date a-nowrap\">Jan 31</td><td class=\"a-text-left mojo-field-type-studio\"><a class=\"a-link-normal\" href=\"https://pro.imdb.com/company/co0494731/boxoffice/?view=releases&amp;ref_=mojo_yld_table_53&amp;rf=mojo_yld_table_53\" rel=\"noopener\" target=\"_blank\">Bleecker Street Media<svg class=\"mojo-new-window-svg\" viewBox=\"0 0 32 32\" xmlns=\"http://www.w3.org/2000/svg\">\n",
       "        <path d=\"M24,15.57251l3,3V23.5A3.50424,3.50424,0,0,1,23.5,27H8.5A3.50424,3.50424,0,0,1,5,23.5V8.5A3.50424,3.50424,0,0,1,8.5,5h4.92755l3,3H8.5a.50641.50641,0,0,0-.5.5v15a.50641.50641,0,0,0,.5.5h15a.50641.50641,0,0,0,.5-.5ZM19.81952,8.56372,12.8844,17.75a.49989.49989,0,0,0,.04547.65479l.66534.66528a.49983.49983,0,0,0,.65479.04553l9.18628-6.93518,2.12579,2.12585a.5.5,0,0,0,.84741-.27526l1.48273-9.35108a.50006.50006,0,0,0-.57214-.57214L17.969,5.59058a.5.5,0,0,0-.27526.84741Z\"></path>\n",
       "    </svg></a></td><td class=\"a-text-right mojo-field-type-boolean hidden\">false</td></tr><tr><td class=\"a-text-right mojo-header-column mojo-truncate mojo-field-type-rank mojo-sort-column\">54</td><td class=\"a-text-left mojo-field-type-release mojo-cell-wide\"><a class=\"a-link-normal\" href=\"/release/rl2953545217/?ref_=bo_yld_table_54\">The Song of Names</a></td><td class=\"a-text-left mojo-field-type-genre hidden\">-</td><td class=\"a-text-right mojo-field-type-money hidden\">-</td><td class=\"a-text-right mojo-field-type-duration hidden\">-</td><td class=\"a-text-right mojo-field-type-money mojo-estimatable\">$983,357</td><td class=\"a-text-right mojo-field-type-positive_integer\">182</td><td class=\"a-text-right mojo-field-type-money mojo-estimatable\">$1,077,584</td><td class=\"a-text-left mojo-field-type-date a-nowrap\">Dec 25</td><td class=\"a-text-left mojo-field-type-studio\"><a class=\"a-link-normal\" href=\"https://pro.imdb.com/company/co0014453/boxoffice/?view=releases&amp;ref_=mojo_yld_table_54&amp;rf=mojo_yld_table_54\" rel=\"noopener\" target=\"_blank\">Sony Pictures Classics<svg class=\"mojo-new-window-svg\" viewBox=\"0 0 32 32\" xmlns=\"http://www.w3.org/2000/svg\">\n",
       "        <path d=\"M24,15.57251l3,3V23.5A3.50424,3.50424,0,0,1,23.5,27H8.5A3.50424,3.50424,0,0,1,5,23.5V8.5A3.50424,3.50424,0,0,1,8.5,5h4.92755l3,3H8.5a.50641.50641,0,0,0-.5.5v15a.50641.50641,0,0,0,.5.5h15a.50641.50641,0,0,0,.5-.5ZM19.81952,8.56372,12.8844,17.75a.49989.49989,0,0,0,.04547.65479l.66534.66528a.49983.49983,0,0,0,.65479.04553l9.18628-6.93518,2.12579,2.12585a.5.5,0,0,0,.84741-.27526l1.48273-9.35108a.50006.50006,0,0,0-.57214-.57214L17.969,5.59058a.5.5,0,0,0-.27526.84741Z\"></path>\n",
       "    </svg></a></td><td class=\"a-text-right mojo-field-type-boolean hidden\">false</td></tr><tr><td class=\"a-text-right mojo-header-column mojo-truncate mojo-field-type-rank mojo-sort-column\">55</td><td class=\"a-text-left mojo-field-type-release mojo-cell-wide\"><a class=\"a-link-normal\" href=\"/release/rl826311425/?ref_=bo_yld_table_55\">Becky</a></td><td class=\"a-text-left mojo-field-type-genre hidden\">-</td><td class=\"a-text-right mojo-field-type-money hidden\">-</td><td class=\"a-text-right mojo-field-type-duration hidden\">-</td><td class=\"a-text-right mojo-field-type-money mojo-estimatable\">$900,283</td><td class=\"a-text-right mojo-field-type-positive_integer\">50</td><td class=\"a-text-right mojo-field-type-money mojo-estimatable\">$903,662</td><td class=\"a-text-left mojo-field-type-date a-nowrap\">Jun 5</td><td class=\"a-text-left mojo-field-type-studio\"><a class=\"a-link-normal\" href=\"https://pro.imdb.com/company/co0746498/boxoffice/?view=releases&amp;ref_=mojo_yld_table_55&amp;rf=mojo_yld_table_55\" rel=\"noopener\" target=\"_blank\">Quiver Distribution<svg class=\"mojo-new-window-svg\" viewBox=\"0 0 32 32\" xmlns=\"http://www.w3.org/2000/svg\">\n",
       "        <path d=\"M24,15.57251l3,3V23.5A3.50424,3.50424,0,0,1,23.5,27H8.5A3.50424,3.50424,0,0,1,5,23.5V8.5A3.50424,3.50424,0,0,1,8.5,5h4.92755l3,3H8.5a.50641.50641,0,0,0-.5.5v15a.50641.50641,0,0,0,.5.5h15a.50641.50641,0,0,0,.5-.5ZM19.81952,8.56372,12.8844,17.75a.49989.49989,0,0,0,.04547.65479l.66534.66528a.49983.49983,0,0,0,.65479.04553l9.18628-6.93518,2.12579,2.12585a.5.5,0,0,0,.84741-.27526l1.48273-9.35108a.50006.50006,0,0,0-.57214-.57214L17.969,5.59058a.5.5,0,0,0-.27526.84741Z\"></path>\n",
       "    </svg></a></td><td class=\"a-text-right mojo-field-type-boolean hidden\">false</td></tr><tr><td class=\"a-text-right mojo-header-column mojo-truncate mojo-field-type-rank mojo-sort-column\">56</td><td class=\"a-text-left mojo-field-type-release mojo-cell-wide\"><a class=\"a-link-normal\" href=\"/release/rl3702948353/?ref_=bo_yld_table_56\">Mafia Inc</a></td><td class=\"a-text-left mojo-field-type-genre hidden\">-</td><td class=\"a-text-right mojo-field-type-money hidden\">-</td><td class=\"a-text-right mojo-field-type-duration hidden\">-</td><td class=\"a-text-right mojo-field-type-money mojo-estimatable\">$889,863</td><td class=\"a-text-right mojo-field-type-positive_integer\">85</td><td class=\"a-text-right mojo-field-type-money mojo-estimatable\">$889,863</td><td class=\"a-text-left mojo-field-type-date a-nowrap\">Feb 14</td><td class=\"a-text-left mojo-field-type-studio\"><a class=\"a-link-normal\" href=\"https://pro.imdb.com/company/co0051618/boxoffice/?view=releases&amp;ref_=mojo_yld_table_56&amp;rf=mojo_yld_table_56\" rel=\"noopener\" target=\"_blank\">Entertainment One<svg class=\"mojo-new-window-svg\" viewBox=\"0 0 32 32\" xmlns=\"http://www.w3.org/2000/svg\">\n",
       "        <path d=\"M24,15.57251l3,3V23.5A3.50424,3.50424,0,0,1,23.5,27H8.5A3.50424,3.50424,0,0,1,5,23.5V8.5A3.50424,3.50424,0,0,1,8.5,5h4.92755l3,3H8.5a.50641.50641,0,0,0-.5.5v15a.50641.50641,0,0,0,.5.5h15a.50641.50641,0,0,0,.5-.5ZM19.81952,8.56372,12.8844,17.75a.49989.49989,0,0,0,.04547.65479l.66534.66528a.49983.49983,0,0,0,.65479.04553l9.18628-6.93518,2.12579,2.12585a.5.5,0,0,0,.84741-.27526l1.48273-9.35108a.50006.50006,0,0,0-.57214-.57214L17.969,5.59058a.5.5,0,0,0-.27526.84741Z\"></path>\n",
       "    </svg></a></td><td class=\"a-text-right mojo-field-type-boolean hidden\">false</td></tr><tr><td class=\"a-text-right mojo-header-column mojo-truncate mojo-field-type-rank mojo-sort-column\">57</td><td class=\"a-text-left mojo-field-type-release mojo-cell-wide\"><a class=\"a-link-normal\" href=\"/release/rl3406333441/?ref_=bo_yld_table_57\">Jay and Silent Bob Reboot</a></td><td class=\"a-text-left mojo-field-type-genre hidden\">-</td><td class=\"a-text-right mojo-field-type-money hidden\">-</td><td class=\"a-text-right mojo-field-type-duration hidden\">-</td><td class=\"a-text-right mojo-field-type-money mojo-estimatable\">$857,744</td><td class=\"a-text-right mojo-field-type-positive_integer\">788</td><td class=\"a-text-right mojo-field-type-money mojo-estimatable\">$4,589,490</td><td class=\"a-text-left mojo-field-type-date a-nowrap\">Oct 15</td><td class=\"a-text-left mojo-field-type-studio\"><a class=\"a-link-normal\" href=\"https://pro.imdb.com/company/co0481625/boxoffice/?view=releases&amp;ref_=mojo_yld_table_57&amp;rf=mojo_yld_table_57\" rel=\"noopener\" target=\"_blank\">Saban Films<svg class=\"mojo-new-window-svg\" viewBox=\"0 0 32 32\" xmlns=\"http://www.w3.org/2000/svg\">\n",
       "        <path d=\"M24,15.57251l3,3V23.5A3.50424,3.50424,0,0,1,23.5,27H8.5A3.50424,3.50424,0,0,1,5,23.5V8.5A3.50424,3.50424,0,0,1,8.5,5h4.92755l3,3H8.5a.50641.50641,0,0,0-.5.5v15a.50641.50641,0,0,0,.5.5h15a.50641.50641,0,0,0,.5-.5ZM19.81952,8.56372,12.8844,17.75a.49989.49989,0,0,0,.04547.65479l.66534.66528a.49983.49983,0,0,0,.65479.04553l9.18628-6.93518,2.12579,2.12585a.5.5,0,0,0,.84741-.27526l1.48273-9.35108a.50006.50006,0,0,0-.57214-.57214L17.969,5.59058a.5.5,0,0,0-.27526.84741Z\"></path>\n",
       "    </svg></a></td><td class=\"a-text-right mojo-field-type-boolean hidden\">false</td></tr><tr><td class=\"a-text-right mojo-header-column mojo-truncate mojo-field-type-rank mojo-sort-column\">58</td><td class=\"a-text-left mojo-field-type-release mojo-cell-wide\"><a class=\"a-link-normal\" href=\"/release/rl2500363777/?ref_=bo_yld_table_58\">A Hidden Life</a></td><td class=\"a-text-left mojo-field-type-genre hidden\">-</td><td class=\"a-text-right mojo-field-type-money hidden\">-</td><td class=\"a-text-right mojo-field-type-duration hidden\">-</td><td class=\"a-text-right mojo-field-type-money mojo-estimatable\">$853,047</td><td class=\"a-text-right mojo-field-type-positive_integer\">151</td><td class=\"a-text-right mojo-field-type-money mojo-estimatable\">$1,730,597</td><td class=\"a-text-left mojo-field-type-date a-nowrap\">Dec 13</td><td class=\"a-text-left mojo-field-type-studio\"><a class=\"a-link-normal\" href=\"https://pro.imdb.com/company/co0028932/boxoffice/?view=releases&amp;ref_=mojo_yld_table_58&amp;rf=mojo_yld_table_58\" rel=\"noopener\" target=\"_blank\">Fox Searchlight Pictures<svg class=\"mojo-new-window-svg\" viewBox=\"0 0 32 32\" xmlns=\"http://www.w3.org/2000/svg\">\n",
       "        <path d=\"M24,15.57251l3,3V23.5A3.50424,3.50424,0,0,1,23.5,27H8.5A3.50424,3.50424,0,0,1,5,23.5V8.5A3.50424,3.50424,0,0,1,8.5,5h4.92755l3,3H8.5a.50641.50641,0,0,0-.5.5v15a.50641.50641,0,0,0,.5.5h15a.50641.50641,0,0,0,.5-.5ZM19.81952,8.56372,12.8844,17.75a.49989.49989,0,0,0,.04547.65479l.66534.66528a.49983.49983,0,0,0,.65479.04553l9.18628-6.93518,2.12579,2.12585a.5.5,0,0,0,.84741-.27526l1.48273-9.35108a.50006.50006,0,0,0-.57214-.57214L17.969,5.59058a.5.5,0,0,0-.27526.84741Z\"></path>\n",
       "    </svg></a></td><td class=\"a-text-right mojo-field-type-boolean hidden\">false</td></tr><tr><td class=\"a-text-right mojo-header-column mojo-truncate mojo-field-type-rank mojo-sort-column\">59</td><td class=\"a-text-left mojo-field-type-release mojo-cell-wide\"><a class=\"a-link-normal\" href=\"/release/rl565084673/?ref_=bo_yld_table_59\">Sarileru Neekevvaru</a></td><td class=\"a-text-left mojo-field-type-genre hidden\">-</td><td class=\"a-text-right mojo-field-type-money hidden\">-</td><td class=\"a-text-right mojo-field-type-duration hidden\">-</td><td class=\"a-text-right mojo-field-type-money mojo-estimatable\">$821,000</td><td class=\"a-text-right mojo-field-type-positive_integer\">300</td><td class=\"a-text-right mojo-field-type-money mojo-estimatable\">$821,000</td><td class=\"a-text-left mojo-field-type-date a-nowrap\">Jan 10</td><td class=\"a-text-left mojo-field-type-studio\"><a class=\"a-link-normal\" href=\"https://pro.imdb.com/company/co0181839/boxoffice/?view=releases&amp;ref_=mojo_yld_table_59&amp;rf=mojo_yld_table_59\" rel=\"noopener\" target=\"_blank\">Great India Films<svg class=\"mojo-new-window-svg\" viewBox=\"0 0 32 32\" xmlns=\"http://www.w3.org/2000/svg\">\n",
       "        <path d=\"M24,15.57251l3,3V23.5A3.50424,3.50424,0,0,1,23.5,27H8.5A3.50424,3.50424,0,0,1,5,23.5V8.5A3.50424,3.50424,0,0,1,8.5,5h4.92755l3,3H8.5a.50641.50641,0,0,0-.5.5v15a.50641.50641,0,0,0,.5.5h15a.50641.50641,0,0,0,.5-.5ZM19.81952,8.56372,12.8844,17.75a.49989.49989,0,0,0,.04547.65479l.66534.66528a.49983.49983,0,0,0,.65479.04553l9.18628-6.93518,2.12579,2.12585a.5.5,0,0,0,.84741-.27526l1.48273-9.35108a.50006.50006,0,0,0-.57214-.57214L17.969,5.59058a.5.5,0,0,0-.27526.84741Z\"></path>\n",
       "    </svg></a></td><td class=\"a-text-right mojo-field-type-boolean hidden\">false</td></tr><tr><td class=\"a-text-right mojo-header-column mojo-truncate mojo-field-type-rank mojo-sort-column\">60</td><td class=\"a-text-left mojo-field-type-release mojo-cell-wide\"><a class=\"a-link-normal\" href=\"/release/rl2886174209/?ref_=bo_yld_table_60\">21 Bridges</a></td><td class=\"a-text-left mojo-field-type-genre hidden\">-</td><td class=\"a-text-right mojo-field-type-money hidden\">-</td><td class=\"a-text-right mojo-field-type-duration hidden\">-</td><td class=\"a-text-right mojo-field-type-money mojo-estimatable\">$792,488</td><td class=\"a-text-right mojo-field-type-positive_integer\">2,665</td><td class=\"a-text-right mojo-field-type-money mojo-estimatable\">$28,539,757</td><td class=\"a-text-left mojo-field-type-date a-nowrap\">Nov 22</td><td class=\"a-text-left mojo-field-type-studio\"><a class=\"a-link-normal\" href=\"https://pro.imdb.com/company/co0249694/boxoffice/?view=releases&amp;ref_=mojo_yld_table_60&amp;rf=mojo_yld_table_60\" rel=\"noopener\" target=\"_blank\">STX Entertainment<svg class=\"mojo-new-window-svg\" viewBox=\"0 0 32 32\" xmlns=\"http://www.w3.org/2000/svg\">\n",
       "        <path d=\"M24,15.57251l3,3V23.5A3.50424,3.50424,0,0,1,23.5,27H8.5A3.50424,3.50424,0,0,1,5,23.5V8.5A3.50424,3.50424,0,0,1,8.5,5h4.92755l3,3H8.5a.50641.50641,0,0,0-.5.5v15a.50641.50641,0,0,0,.5.5h15a.50641.50641,0,0,0,.5-.5ZM19.81952,8.56372,12.8844,17.75a.49989.49989,0,0,0,.04547.65479l.66534.66528a.49983.49983,0,0,0,.65479.04553l9.18628-6.93518,2.12579,2.12585a.5.5,0,0,0,.84741-.27526l1.48273-9.35108a.50006.50006,0,0,0-.57214-.57214L17.969,5.59058a.5.5,0,0,0-.27526.84741Z\"></path>\n",
       "    </svg></a></td><td class=\"a-text-right mojo-field-type-boolean hidden\">false</td></tr><tr><td class=\"a-text-right mojo-header-column mojo-truncate mojo-field-type-rank mojo-sort-column\">61</td><td class=\"a-text-left mojo-field-type-release mojo-cell-wide\"><a class=\"a-link-normal\" href=\"/release/rl397902337/?ref_=bo_yld_table_61\">Baaghi 3</a></td><td class=\"a-text-left mojo-field-type-genre hidden\">-</td><td class=\"a-text-right mojo-field-type-money hidden\">-</td><td class=\"a-text-right mojo-field-type-duration hidden\">-</td><td class=\"a-text-right mojo-field-type-money mojo-estimatable\">$721,439</td><td class=\"a-text-right mojo-field-type-positive_integer\">265</td><td class=\"a-text-right mojo-field-type-money mojo-estimatable\">$721,439</td><td class=\"a-text-left mojo-field-type-date a-nowrap\">Mar 6</td><td class=\"a-text-left mojo-field-type-studio\"><a class=\"a-link-normal\" href=\"https://pro.imdb.com/company/co0770558/boxoffice/?view=releases&amp;ref_=mojo_yld_table_61&amp;rf=mojo_yld_table_61\" rel=\"noopener\" target=\"_blank\">FIP<svg class=\"mojo-new-window-svg\" viewBox=\"0 0 32 32\" xmlns=\"http://www.w3.org/2000/svg\">\n",
       "        <path d=\"M24,15.57251l3,3V23.5A3.50424,3.50424,0,0,1,23.5,27H8.5A3.50424,3.50424,0,0,1,5,23.5V8.5A3.50424,3.50424,0,0,1,8.5,5h4.92755l3,3H8.5a.50641.50641,0,0,0-.5.5v15a.50641.50641,0,0,0,.5.5h15a.50641.50641,0,0,0,.5-.5ZM19.81952,8.56372,12.8844,17.75a.49989.49989,0,0,0,.04547.65479l.66534.66528a.49983.49983,0,0,0,.65479.04553l9.18628-6.93518,2.12579,2.12585a.5.5,0,0,0,.84741-.27526l1.48273-9.35108a.50006.50006,0,0,0-.57214-.57214L17.969,5.59058a.5.5,0,0,0-.27526.84741Z\"></path>\n",
       "    </svg></a></td><td class=\"a-text-right mojo-field-type-boolean hidden\">false</td></tr><tr><td class=\"a-text-right mojo-header-column mojo-truncate mojo-field-type-rank mojo-sort-column\">62</td><td class=\"a-text-left mojo-field-type-release mojo-cell-wide\"><a class=\"a-link-normal\" href=\"/release/rl1874035201/?ref_=bo_yld_table_62\">Patterns of Evidence: The Red Sea Miracle</a></td><td class=\"a-text-left mojo-field-type-genre hidden\">-</td><td class=\"a-text-right mojo-field-type-money hidden\">-</td><td class=\"a-text-right mojo-field-type-duration hidden\">-</td><td class=\"a-text-right mojo-field-type-money mojo-estimatable\">$696,191</td><td class=\"a-text-right mojo-field-type-positive_integer\">807</td><td class=\"a-text-right mojo-field-type-money mojo-estimatable\">$696,191</td><td class=\"a-text-left mojo-field-type-date a-nowrap\">Feb 18</td><td class=\"a-text-left mojo-field-type-studio\"><a class=\"a-link-normal\" href=\"https://pro.imdb.com/company/co0360057/boxoffice/?view=releases&amp;ref_=mojo_yld_table_62&amp;rf=mojo_yld_table_62\" rel=\"noopener\" target=\"_blank\">Fathom Events<svg class=\"mojo-new-window-svg\" viewBox=\"0 0 32 32\" xmlns=\"http://www.w3.org/2000/svg\">\n",
       "        <path d=\"M24,15.57251l3,3V23.5A3.50424,3.50424,0,0,1,23.5,27H8.5A3.50424,3.50424,0,0,1,5,23.5V8.5A3.50424,3.50424,0,0,1,8.5,5h4.92755l3,3H8.5a.50641.50641,0,0,0-.5.5v15a.50641.50641,0,0,0,.5.5h15a.50641.50641,0,0,0,.5-.5ZM19.81952,8.56372,12.8844,17.75a.49989.49989,0,0,0,.04547.65479l.66534.66528a.49983.49983,0,0,0,.65479.04553l9.18628-6.93518,2.12579,2.12585a.5.5,0,0,0,.84741-.27526l1.48273-9.35108a.50006.50006,0,0,0-.57214-.57214L17.969,5.59058a.5.5,0,0,0-.27526.84741Z\"></path>\n",
       "    </svg></a></td><td class=\"a-text-right mojo-field-type-boolean hidden\">false</td></tr><tr><td class=\"a-text-right mojo-header-column mojo-truncate mojo-field-type-rank mojo-sort-column\">63</td><td class=\"a-text-left mojo-field-type-release mojo-cell-wide\"><a class=\"a-link-normal\" href=\"/release/rl1980270081/?ref_=bo_yld_table_63\">Pain and Glory</a></td><td class=\"a-text-left mojo-field-type-genre hidden\">-</td><td class=\"a-text-right mojo-field-type-money hidden\">-</td><td class=\"a-text-right mojo-field-type-duration hidden\">-</td><td class=\"a-text-right mojo-field-type-money mojo-estimatable\">$693,609</td><td class=\"a-text-right mojo-field-type-positive_integer\">266</td><td class=\"a-text-right mojo-field-type-money mojo-estimatable\">$4,567,338</td><td class=\"a-text-left mojo-field-type-date a-nowrap\">Oct 4</td><td class=\"a-text-left mojo-field-type-studio\"><a class=\"a-link-normal\" href=\"https://pro.imdb.com/company/co0014453/boxoffice/?view=releases&amp;ref_=mojo_yld_table_63&amp;rf=mojo_yld_table_63\" rel=\"noopener\" target=\"_blank\">Sony Pictures Classics<svg class=\"mojo-new-window-svg\" viewBox=\"0 0 32 32\" xmlns=\"http://www.w3.org/2000/svg\">\n",
       "        <path d=\"M24,15.57251l3,3V23.5A3.50424,3.50424,0,0,1,23.5,27H8.5A3.50424,3.50424,0,0,1,5,23.5V8.5A3.50424,3.50424,0,0,1,8.5,5h4.92755l3,3H8.5a.50641.50641,0,0,0-.5.5v15a.50641.50641,0,0,0,.5.5h15a.50641.50641,0,0,0,.5-.5ZM19.81952,8.56372,12.8844,17.75a.49989.49989,0,0,0,.04547.65479l.66534.66528a.49983.49983,0,0,0,.65479.04553l9.18628-6.93518,2.12579,2.12585a.5.5,0,0,0,.84741-.27526l1.48273-9.35108a.50006.50006,0,0,0-.57214-.57214L17.969,5.59058a.5.5,0,0,0-.27526.84741Z\"></path>\n",
       "    </svg></a></td><td class=\"a-text-right mojo-field-type-boolean hidden\">false</td></tr><tr><td class=\"a-text-right mojo-header-column mojo-truncate mojo-field-type-rank mojo-sort-column\">64</td><td class=\"a-text-left mojo-field-type-release mojo-cell-wide\"><a class=\"a-link-normal\" href=\"/release/rl3232530945/?ref_=bo_yld_table_64\">Merci pour tout</a></td><td class=\"a-text-left mojo-field-type-genre hidden\">-</td><td class=\"a-text-right mojo-field-type-money hidden\">-</td><td class=\"a-text-right mojo-field-type-duration hidden\">-</td><td class=\"a-text-right mojo-field-type-money mojo-estimatable\">$636,925</td><td class=\"a-text-right mojo-field-type-positive_integer\">76</td><td class=\"a-text-right mojo-field-type-money mojo-estimatable\">$1,073,969</td><td class=\"a-text-left mojo-field-type-date a-nowrap\">Dec 25</td><td class=\"a-text-left mojo-field-type-studio\">-</td><td class=\"a-text-right mojo-field-type-boolean hidden\">false</td></tr><tr><td class=\"a-text-right mojo-header-column mojo-truncate mojo-field-type-rank mojo-sort-column\">65</td><td class=\"a-text-left mojo-field-type-release mojo-cell-wide\"><a class=\"a-link-normal\" href=\"/release/rl939755009/?ref_=bo_yld_table_65\">Maleficent: Mistress of Evil</a></td><td class=\"a-text-left mojo-field-type-genre hidden\">-</td><td class=\"a-text-right mojo-field-type-money hidden\">-</td><td class=\"a-text-right mojo-field-type-duration hidden\">-</td><td class=\"a-text-right mojo-field-type-money mojo-estimatable\">$634,868</td><td class=\"a-text-right mojo-field-type-positive_integer\">3,820</td><td class=\"a-text-right mojo-field-type-money mojo-estimatable\">$113,929,605</td><td class=\"a-text-left mojo-field-type-date a-nowrap\">Oct 18</td><td class=\"a-text-left mojo-field-type-studio\">-</td><td class=\"a-text-right mojo-field-type-boolean hidden\">false</td></tr><tr><td class=\"a-text-right mojo-header-column mojo-truncate mojo-field-type-rank mojo-sort-column\">66</td><td class=\"a-text-left mojo-field-type-release mojo-cell-wide\"><a class=\"a-link-normal\" href=\"/release/rl3316417025/?ref_=bo_yld_table_66\">Chhapaak</a></td><td class=\"a-text-left mojo-field-type-genre hidden\">-</td><td class=\"a-text-right mojo-field-type-money hidden\">-</td><td class=\"a-text-right mojo-field-type-duration hidden\">-</td><td class=\"a-text-right mojo-field-type-money mojo-estimatable\">$604,334</td><td class=\"a-text-right mojo-field-type-positive_integer\">100</td><td class=\"a-text-right mojo-field-type-money mojo-estimatable\">$604,334</td><td class=\"a-text-left mojo-field-type-date a-nowrap\">Jan 10</td><td class=\"a-text-left mojo-field-type-studio\"><a class=\"a-link-normal\" href=\"https://pro.imdb.com/company/co0770558/boxoffice/?view=releases&amp;ref_=mojo_yld_table_66&amp;rf=mojo_yld_table_66\" rel=\"noopener\" target=\"_blank\">FIP<svg class=\"mojo-new-window-svg\" viewBox=\"0 0 32 32\" xmlns=\"http://www.w3.org/2000/svg\">\n",
       "        <path d=\"M24,15.57251l3,3V23.5A3.50424,3.50424,0,0,1,23.5,27H8.5A3.50424,3.50424,0,0,1,5,23.5V8.5A3.50424,3.50424,0,0,1,8.5,5h4.92755l3,3H8.5a.50641.50641,0,0,0-.5.5v15a.50641.50641,0,0,0,.5.5h15a.50641.50641,0,0,0,.5-.5ZM19.81952,8.56372,12.8844,17.75a.49989.49989,0,0,0,.04547.65479l.66534.66528a.49983.49983,0,0,0,.65479.04553l9.18628-6.93518,2.12579,2.12585a.5.5,0,0,0,.84741-.27526l1.48273-9.35108a.50006.50006,0,0,0-.57214-.57214L17.969,5.59058a.5.5,0,0,0-.27526.84741Z\"></path>\n",
       "    </svg></a></td><td class=\"a-text-right mojo-field-type-boolean hidden\">false</td></tr><tr><td class=\"a-text-right mojo-header-column mojo-truncate mojo-field-type-rank mojo-sort-column\">67</td><td class=\"a-text-left mojo-field-type-release mojo-cell-wide\"><a class=\"a-link-normal\" href=\"/release/rl951026177/?ref_=bo_yld_table_67\">Panga</a></td><td class=\"a-text-left mojo-field-type-genre hidden\">-</td><td class=\"a-text-right mojo-field-type-money hidden\">-</td><td class=\"a-text-right mojo-field-type-duration hidden\">-</td><td class=\"a-text-right mojo-field-type-money mojo-estimatable\">$582,720</td><td class=\"a-text-right mojo-field-type-positive_integer\">102</td><td class=\"a-text-right mojo-field-type-money mojo-estimatable\">$582,720</td><td class=\"a-text-left mojo-field-type-date a-nowrap\">Jan 24</td><td class=\"a-text-left mojo-field-type-studio\"><a class=\"a-link-normal\" href=\"https://pro.imdb.com/company/co0770558/boxoffice/?view=releases&amp;ref_=mojo_yld_table_67&amp;rf=mojo_yld_table_67\" rel=\"noopener\" target=\"_blank\">FIP<svg class=\"mojo-new-window-svg\" viewBox=\"0 0 32 32\" xmlns=\"http://www.w3.org/2000/svg\">\n",
       "        <path d=\"M24,15.57251l3,3V23.5A3.50424,3.50424,0,0,1,23.5,27H8.5A3.50424,3.50424,0,0,1,5,23.5V8.5A3.50424,3.50424,0,0,1,8.5,5h4.92755l3,3H8.5a.50641.50641,0,0,0-.5.5v15a.50641.50641,0,0,0,.5.5h15a.50641.50641,0,0,0,.5-.5ZM19.81952,8.56372,12.8844,17.75a.49989.49989,0,0,0,.04547.65479l.66534.66528a.49983.49983,0,0,0,.65479.04553l9.18628-6.93518,2.12579,2.12585a.5.5,0,0,0,.84741-.27526l1.48273-9.35108a.50006.50006,0,0,0-.57214-.57214L17.969,5.59058a.5.5,0,0,0-.27526.84741Z\"></path>\n",
       "    </svg></a></td><td class=\"a-text-right mojo-field-type-boolean hidden\">false</td></tr><tr><td class=\"a-text-right mojo-header-column mojo-truncate mojo-field-type-rank mojo-sort-column\">68</td><td class=\"a-text-left mojo-field-type-release mojo-cell-wide\"><a class=\"a-link-normal\" href=\"/release/rl2634515969/?ref_=bo_yld_table_68\">Midway</a></td><td class=\"a-text-left mojo-field-type-genre hidden\">-</td><td class=\"a-text-right mojo-field-type-money hidden\">-</td><td class=\"a-text-right mojo-field-type-duration hidden\">-</td><td class=\"a-text-right mojo-field-type-money mojo-estimatable\">$567,638</td><td class=\"a-text-right mojo-field-type-positive_integer\">3,242</td><td class=\"a-text-right mojo-field-type-money mojo-estimatable\">$56,846,802</td><td class=\"a-text-left mojo-field-type-date a-nowrap\">Nov 8</td><td class=\"a-text-left mojo-field-type-studio\"><a class=\"a-link-normal\" href=\"https://pro.imdb.com/company/co0173285/boxoffice/?view=releases&amp;ref_=mojo_yld_table_68&amp;rf=mojo_yld_table_68\" rel=\"noopener\" target=\"_blank\">Lionsgate<svg class=\"mojo-new-window-svg\" viewBox=\"0 0 32 32\" xmlns=\"http://www.w3.org/2000/svg\">\n",
       "        <path d=\"M24,15.57251l3,3V23.5A3.50424,3.50424,0,0,1,23.5,27H8.5A3.50424,3.50424,0,0,1,5,23.5V8.5A3.50424,3.50424,0,0,1,8.5,5h4.92755l3,3H8.5a.50641.50641,0,0,0-.5.5v15a.50641.50641,0,0,0,.5.5h15a.50641.50641,0,0,0,.5-.5ZM19.81952,8.56372,12.8844,17.75a.49989.49989,0,0,0,.04547.65479l.66534.66528a.49983.49983,0,0,0,.65479.04553l9.18628-6.93518,2.12579,2.12585a.5.5,0,0,0,.84741-.27526l1.48273-9.35108a.50006.50006,0,0,0-.57214-.57214L17.969,5.59058a.5.5,0,0,0-.27526.84741Z\"></path>\n",
       "    </svg></a></td><td class=\"a-text-right mojo-field-type-boolean hidden\">false</td></tr><tr><td class=\"a-text-right mojo-header-column mojo-truncate mojo-field-type-rank mojo-sort-column\">69</td><td class=\"a-text-left mojo-field-type-release mojo-cell-wide\"><a class=\"a-link-normal\" href=\"/release/rl1308788225/?ref_=bo_yld_table_69\">Black Christmas</a></td><td class=\"a-text-left mojo-field-type-genre hidden\">-</td><td class=\"a-text-right mojo-field-type-money hidden\">-</td><td class=\"a-text-right mojo-field-type-duration hidden\">-</td><td class=\"a-text-right mojo-field-type-money mojo-estimatable\">$562,060</td><td class=\"a-text-right mojo-field-type-positive_integer\">2,625</td><td class=\"a-text-right mojo-field-type-money mojo-estimatable\">$10,429,730</td><td class=\"a-text-left mojo-field-type-date a-nowrap\">Dec 13</td><td class=\"a-text-left mojo-field-type-studio\"><a class=\"a-link-normal\" href=\"https://pro.imdb.com/company/co0005073/boxoffice/?view=releases&amp;ref_=mojo_yld_table_69&amp;rf=mojo_yld_table_69\" rel=\"noopener\" target=\"_blank\">Universal Pictures<svg class=\"mojo-new-window-svg\" viewBox=\"0 0 32 32\" xmlns=\"http://www.w3.org/2000/svg\">\n",
       "        <path d=\"M24,15.57251l3,3V23.5A3.50424,3.50424,0,0,1,23.5,27H8.5A3.50424,3.50424,0,0,1,5,23.5V8.5A3.50424,3.50424,0,0,1,8.5,5h4.92755l3,3H8.5a.50641.50641,0,0,0-.5.5v15a.50641.50641,0,0,0,.5.5h15a.50641.50641,0,0,0,.5-.5ZM19.81952,8.56372,12.8844,17.75a.49989.49989,0,0,0,.04547.65479l.66534.66528a.49983.49983,0,0,0,.65479.04553l9.18628-6.93518,2.12579,2.12585a.5.5,0,0,0,.84741-.27526l1.48273-9.35108a.50006.50006,0,0,0-.57214-.57214L17.969,5.59058a.5.5,0,0,0-.27526.84741Z\"></path>\n",
       "    </svg></a></td><td class=\"a-text-right mojo-field-type-boolean hidden\">false</td></tr><tr><td class=\"a-text-right mojo-header-column mojo-truncate mojo-field-type-rank mojo-sort-column\">70</td><td class=\"a-text-left mojo-field-type-release mojo-cell-wide\"><a class=\"a-link-normal\" href=\"/release/rl3182658049/?ref_=bo_yld_table_70\">Color Out of Space</a></td><td class=\"a-text-left mojo-field-type-genre hidden\">-</td><td class=\"a-text-right mojo-field-type-money hidden\">-</td><td class=\"a-text-right mojo-field-type-duration hidden\">-</td><td class=\"a-text-right mojo-field-type-money mojo-estimatable\">$541,918</td><td class=\"a-text-right mojo-field-type-positive_integer\">81</td><td class=\"a-text-right mojo-field-type-money mojo-estimatable\">$765,561</td><td class=\"a-text-left mojo-field-type-date a-nowrap\">Jan 24</td><td class=\"a-text-left mojo-field-type-studio\"><a class=\"a-link-normal\" href=\"https://pro.imdb.com/company/co0657624/boxoffice/?view=releases&amp;ref_=mojo_yld_table_70&amp;rf=mojo_yld_table_70\" rel=\"noopener\" target=\"_blank\">RLJE Films<svg class=\"mojo-new-window-svg\" viewBox=\"0 0 32 32\" xmlns=\"http://www.w3.org/2000/svg\">\n",
       "        <path d=\"M24,15.57251l3,3V23.5A3.50424,3.50424,0,0,1,23.5,27H8.5A3.50424,3.50424,0,0,1,5,23.5V8.5A3.50424,3.50424,0,0,1,8.5,5h4.92755l3,3H8.5a.50641.50641,0,0,0-.5.5v15a.50641.50641,0,0,0,.5.5h15a.50641.50641,0,0,0,.5-.5ZM19.81952,8.56372,12.8844,17.75a.49989.49989,0,0,0,.04547.65479l.66534.66528a.49983.49983,0,0,0,.65479.04553l9.18628-6.93518,2.12579,2.12585a.5.5,0,0,0,.84741-.27526l1.48273-9.35108a.50006.50006,0,0,0-.57214-.57214L17.969,5.59058a.5.5,0,0,0-.27526.84741Z\"></path>\n",
       "    </svg></a></td><td class=\"a-text-right mojo-field-type-boolean hidden\">false</td></tr><tr><td class=\"a-text-right mojo-header-column mojo-truncate mojo-field-type-rank mojo-sort-column\">71</td><td class=\"a-text-left mojo-field-type-release mojo-cell-wide\"><a class=\"a-link-normal\" href=\"/release/rl369657345/?ref_=bo_yld_table_71\">Harriet</a></td><td class=\"a-text-left mojo-field-type-genre hidden\">-</td><td class=\"a-text-right mojo-field-type-money hidden\">-</td><td class=\"a-text-right mojo-field-type-duration hidden\">-</td><td class=\"a-text-right mojo-field-type-money mojo-estimatable\">$534,455</td><td class=\"a-text-right mojo-field-type-positive_integer\">2,186</td><td class=\"a-text-right mojo-field-type-money mojo-estimatable\">$43,082,155</td><td class=\"a-text-left mojo-field-type-date a-nowrap\">Nov 1</td><td class=\"a-text-left mojo-field-type-studio\"><a class=\"a-link-normal\" href=\"https://pro.imdb.com/company/co0042399/boxoffice/?view=releases&amp;ref_=mojo_yld_table_71&amp;rf=mojo_yld_table_71\" rel=\"noopener\" target=\"_blank\">Focus Features<svg class=\"mojo-new-window-svg\" viewBox=\"0 0 32 32\" xmlns=\"http://www.w3.org/2000/svg\">\n",
       "        <path d=\"M24,15.57251l3,3V23.5A3.50424,3.50424,0,0,1,23.5,27H8.5A3.50424,3.50424,0,0,1,5,23.5V8.5A3.50424,3.50424,0,0,1,8.5,5h4.92755l3,3H8.5a.50641.50641,0,0,0-.5.5v15a.50641.50641,0,0,0,.5.5h15a.50641.50641,0,0,0,.5-.5ZM19.81952,8.56372,12.8844,17.75a.49989.49989,0,0,0,.04547.65479l.66534.66528a.49983.49983,0,0,0,.65479.04553l9.18628-6.93518,2.12579,2.12585a.5.5,0,0,0,.84741-.27526l1.48273-9.35108a.50006.50006,0,0,0-.57214-.57214L17.969,5.59058a.5.5,0,0,0-.27526.84741Z\"></path>\n",
       "    </svg></a></td><td class=\"a-text-right mojo-field-type-boolean hidden\">false</td></tr><tr><td class=\"a-text-right mojo-header-column mojo-truncate mojo-field-type-rank mojo-sort-column\">72</td><td class=\"a-text-left mojo-field-type-release mojo-cell-wide\"><a class=\"a-link-normal\" href=\"/release/rl101025281/?ref_=bo_yld_table_72\">The Addams Family</a></td><td class=\"a-text-left mojo-field-type-genre hidden\">-</td><td class=\"a-text-right mojo-field-type-money hidden\">-</td><td class=\"a-text-right mojo-field-type-duration hidden\">-</td><td class=\"a-text-right mojo-field-type-money mojo-estimatable\">$528,320</td><td class=\"a-text-right mojo-field-type-positive_integer\">4,107</td><td class=\"a-text-right mojo-field-type-money mojo-estimatable\">$100,044,905</td><td class=\"a-text-left mojo-field-type-date a-nowrap\">Oct 11</td><td class=\"a-text-left mojo-field-type-studio\"><a class=\"a-link-normal\" href=\"https://pro.imdb.com/company/co0733129/boxoffice/?view=releases&amp;ref_=mojo_yld_table_72&amp;rf=mojo_yld_table_72\" rel=\"noopener\" target=\"_blank\">United Artists Releasing<svg class=\"mojo-new-window-svg\" viewBox=\"0 0 32 32\" xmlns=\"http://www.w3.org/2000/svg\">\n",
       "        <path d=\"M24,15.57251l3,3V23.5A3.50424,3.50424,0,0,1,23.5,27H8.5A3.50424,3.50424,0,0,1,5,23.5V8.5A3.50424,3.50424,0,0,1,8.5,5h4.92755l3,3H8.5a.50641.50641,0,0,0-.5.5v15a.50641.50641,0,0,0,.5.5h15a.50641.50641,0,0,0,.5-.5ZM19.81952,8.56372,12.8844,17.75a.49989.49989,0,0,0,.04547.65479l.66534.66528a.49983.49983,0,0,0,.65479.04553l9.18628-6.93518,2.12579,2.12585a.5.5,0,0,0,.84741-.27526l1.48273-9.35108a.50006.50006,0,0,0-.57214-.57214L17.969,5.59058a.5.5,0,0,0-.27526.84741Z\"></path>\n",
       "    </svg></a></td><td class=\"a-text-right mojo-field-type-boolean hidden\">false</td></tr><tr><td class=\"a-text-right mojo-header-column mojo-truncate mojo-field-type-rank mojo-sort-column\">73</td><td class=\"a-text-left mojo-field-type-release mojo-cell-wide\"><a class=\"a-link-normal\" href=\"/release/rl2047575553/?ref_=bo_yld_table_73\">Dark Waters</a></td><td class=\"a-text-left mojo-field-type-genre hidden\">-</td><td class=\"a-text-right mojo-field-type-money hidden\">-</td><td class=\"a-text-right mojo-field-type-duration hidden\">-</td><td class=\"a-text-right mojo-field-type-money mojo-estimatable\">$502,205</td><td class=\"a-text-right mojo-field-type-positive_integer\">2,112</td><td class=\"a-text-right mojo-field-type-money mojo-estimatable\">$11,136,084</td><td class=\"a-text-left mojo-field-type-date a-nowrap\">Nov 22</td><td class=\"a-text-left mojo-field-type-studio\"><a class=\"a-link-normal\" href=\"https://pro.imdb.com/company/co0042399/boxoffice/?view=releases&amp;ref_=mojo_yld_table_73&amp;rf=mojo_yld_table_73\" rel=\"noopener\" target=\"_blank\">Focus Features<svg class=\"mojo-new-window-svg\" viewBox=\"0 0 32 32\" xmlns=\"http://www.w3.org/2000/svg\">\n",
       "        <path d=\"M24,15.57251l3,3V23.5A3.50424,3.50424,0,0,1,23.5,27H8.5A3.50424,3.50424,0,0,1,5,23.5V8.5A3.50424,3.50424,0,0,1,8.5,5h4.92755l3,3H8.5a.50641.50641,0,0,0-.5.5v15a.50641.50641,0,0,0,.5.5h15a.50641.50641,0,0,0,.5-.5ZM19.81952,8.56372,12.8844,17.75a.49989.49989,0,0,0,.04547.65479l.66534.66528a.49983.49983,0,0,0,.65479.04553l9.18628-6.93518,2.12579,2.12585a.5.5,0,0,0,.84741-.27526l1.48273-9.35108a.50006.50006,0,0,0-.57214-.57214L17.969,5.59058a.5.5,0,0,0-.27526.84741Z\"></path>\n",
       "    </svg></a></td><td class=\"a-text-right mojo-field-type-boolean hidden\">false</td></tr><tr><td class=\"a-text-right mojo-header-column mojo-truncate mojo-field-type-rank mojo-sort-column\">74</td><td class=\"a-text-left mojo-field-type-release mojo-cell-wide\"><a class=\"a-link-normal\" href=\"/release/rl2662957569/?ref_=bo_yld_table_74\">Once Were Brothers: Robbie Robertson and the Band</a></td><td class=\"a-text-left mojo-field-type-genre hidden\">-</td><td class=\"a-text-right mojo-field-type-money hidden\">-</td><td class=\"a-text-right mojo-field-type-duration hidden\">-</td><td class=\"a-text-right mojo-field-type-money mojo-estimatable\">$449,561</td><td class=\"a-text-right mojo-field-type-positive_integer\">152</td><td class=\"a-text-right mojo-field-type-money mojo-estimatable\">$449,561</td><td class=\"a-text-left mojo-field-type-date a-nowrap\">Feb 21</td><td class=\"a-text-left mojo-field-type-studio\"><a class=\"a-link-normal\" href=\"https://pro.imdb.com/company/co0134717/boxoffice/?view=releases&amp;ref_=mojo_yld_table_74&amp;rf=mojo_yld_table_74\" rel=\"noopener\" target=\"_blank\">Magnolia Pictures<svg class=\"mojo-new-window-svg\" viewBox=\"0 0 32 32\" xmlns=\"http://www.w3.org/2000/svg\">\n",
       "        <path d=\"M24,15.57251l3,3V23.5A3.50424,3.50424,0,0,1,23.5,27H8.5A3.50424,3.50424,0,0,1,5,23.5V8.5A3.50424,3.50424,0,0,1,8.5,5h4.92755l3,3H8.5a.50641.50641,0,0,0-.5.5v15a.50641.50641,0,0,0,.5.5h15a.50641.50641,0,0,0,.5-.5ZM19.81952,8.56372,12.8844,17.75a.49989.49989,0,0,0,.04547.65479l.66534.66528a.49983.49983,0,0,0,.65479.04553l9.18628-6.93518,2.12579,2.12585a.5.5,0,0,0,.84741-.27526l1.48273-9.35108a.50006.50006,0,0,0-.57214-.57214L17.969,5.59058a.5.5,0,0,0-.27526.84741Z\"></path>\n",
       "    </svg></a></td><td class=\"a-text-right mojo-field-type-boolean hidden\">false</td></tr><tr><td class=\"a-text-right mojo-header-column mojo-truncate mojo-field-type-rank mojo-sort-column\">75</td><td class=\"a-text-left mojo-field-type-release mojo-cell-wide\"><a class=\"a-link-normal\" href=\"/release/rl2584446465/?ref_=bo_yld_table_75\">Seberg</a></td><td class=\"a-text-left mojo-field-type-genre hidden\">-</td><td class=\"a-text-right mojo-field-type-money hidden\">-</td><td class=\"a-text-right mojo-field-type-duration hidden\">-</td><td class=\"a-text-right mojo-field-type-money mojo-estimatable\">$434,702</td><td class=\"a-text-right mojo-field-type-positive_integer\">373</td><td class=\"a-text-right mojo-field-type-money mojo-estimatable\">$434,702</td><td class=\"a-text-left mojo-field-type-date a-nowrap\">Feb 21</td><td class=\"a-text-left mojo-field-type-studio\"><a class=\"a-link-normal\" href=\"https://pro.imdb.com/company/co0319272/boxoffice/?view=releases&amp;ref_=mojo_yld_table_75&amp;rf=mojo_yld_table_75\" rel=\"noopener\" target=\"_blank\">Amazon Studios<svg class=\"mojo-new-window-svg\" viewBox=\"0 0 32 32\" xmlns=\"http://www.w3.org/2000/svg\">\n",
       "        <path d=\"M24,15.57251l3,3V23.5A3.50424,3.50424,0,0,1,23.5,27H8.5A3.50424,3.50424,0,0,1,5,23.5V8.5A3.50424,3.50424,0,0,1,8.5,5h4.92755l3,3H8.5a.50641.50641,0,0,0-.5.5v15a.50641.50641,0,0,0,.5.5h15a.50641.50641,0,0,0,.5-.5ZM19.81952,8.56372,12.8844,17.75a.49989.49989,0,0,0,.04547.65479l.66534.66528a.49983.49983,0,0,0,.65479.04553l9.18628-6.93518,2.12579,2.12585a.5.5,0,0,0,.84741-.27526l1.48273-9.35108a.50006.50006,0,0,0-.57214-.57214L17.969,5.59058a.5.5,0,0,0-.27526.84741Z\"></path>\n",
       "    </svg></a></td><td class=\"a-text-right mojo-field-type-boolean hidden\">false</td></tr><tr><td class=\"a-text-right mojo-header-column mojo-truncate mojo-field-type-rank mojo-sort-column\">76</td><td class=\"a-text-left mojo-field-type-release mojo-cell-wide\"><a class=\"a-link-normal\" href=\"/release/rl792756993/?ref_=bo_yld_table_76\">Followed</a></td><td class=\"a-text-left mojo-field-type-genre hidden\">-</td><td class=\"a-text-right mojo-field-type-money hidden\">-</td><td class=\"a-text-right mojo-field-type-duration hidden\">-</td><td class=\"a-text-right mojo-field-type-money mojo-estimatable\">$432,689</td><td class=\"a-text-right mojo-field-type-positive_integer\">90</td><td class=\"a-text-right mojo-field-type-money mojo-estimatable\">$432,689</td><td class=\"a-text-left mojo-field-type-date a-nowrap\">Jun 19</td><td class=\"a-text-left mojo-field-type-studio\"><a class=\"a-link-normal\" href=\"https://pro.imdb.com/company/co0783835/boxoffice/?view=releases&amp;ref_=mojo_yld_table_76&amp;rf=mojo_yld_table_76\" rel=\"noopener\" target=\"_blank\">Global View Entertainment<svg class=\"mojo-new-window-svg\" viewBox=\"0 0 32 32\" xmlns=\"http://www.w3.org/2000/svg\">\n",
       "        <path d=\"M24,15.57251l3,3V23.5A3.50424,3.50424,0,0,1,23.5,27H8.5A3.50424,3.50424,0,0,1,5,23.5V8.5A3.50424,3.50424,0,0,1,8.5,5h4.92755l3,3H8.5a.50641.50641,0,0,0-.5.5v15a.50641.50641,0,0,0,.5.5h15a.50641.50641,0,0,0,.5-.5ZM19.81952,8.56372,12.8844,17.75a.49989.49989,0,0,0,.04547.65479l.66534.66528a.49983.49983,0,0,0,.65479.04553l9.18628-6.93518,2.12579,2.12585a.5.5,0,0,0,.84741-.27526l1.48273-9.35108a.50006.50006,0,0,0-.57214-.57214L17.969,5.59058a.5.5,0,0,0-.27526.84741Z\"></path>\n",
       "    </svg></a></td><td class=\"a-text-right mojo-field-type-boolean hidden\">false</td></tr><tr><td class=\"a-text-right mojo-header-column mojo-truncate mojo-field-type-rank mojo-sort-column\">77</td><td class=\"a-text-left mojo-field-type-release mojo-cell-wide\"><a class=\"a-link-normal\" href=\"/release/rl2886436353/?ref_=bo_yld_table_77\">Fantastic Fungi</a></td><td class=\"a-text-left mojo-field-type-genre hidden\">-</td><td class=\"a-text-right mojo-field-type-money hidden\">-</td><td class=\"a-text-right mojo-field-type-duration hidden\">-</td><td class=\"a-text-right mojo-field-type-money mojo-estimatable\">$429,446</td><td class=\"a-text-right mojo-field-type-positive_integer\">37</td><td class=\"a-text-right mojo-field-type-money mojo-estimatable\">$1,788,322</td><td class=\"a-text-left mojo-field-type-date a-nowrap\">Sep 20</td><td class=\"a-text-left mojo-field-type-studio\"><a class=\"a-link-normal\" href=\"https://pro.imdb.com/company/co0295126/boxoffice/?view=releases&amp;ref_=mojo_yld_table_77&amp;rf=mojo_yld_table_77\" rel=\"noopener\" target=\"_blank\">Area 23a<svg class=\"mojo-new-window-svg\" viewBox=\"0 0 32 32\" xmlns=\"http://www.w3.org/2000/svg\">\n",
       "        <path d=\"M24,15.57251l3,3V23.5A3.50424,3.50424,0,0,1,23.5,27H8.5A3.50424,3.50424,0,0,1,5,23.5V8.5A3.50424,3.50424,0,0,1,8.5,5h4.92755l3,3H8.5a.50641.50641,0,0,0-.5.5v15a.50641.50641,0,0,0,.5.5h15a.50641.50641,0,0,0,.5-.5ZM19.81952,8.56372,12.8844,17.75a.49989.49989,0,0,0,.04547.65479l.66534.66528a.49983.49983,0,0,0,.65479.04553l9.18628-6.93518,2.12579,2.12585a.5.5,0,0,0,.84741-.27526l1.48273-9.35108a.50006.50006,0,0,0-.57214-.57214L17.969,5.59058a.5.5,0,0,0-.27526.84741Z\"></path>\n",
       "    </svg></a></td><td class=\"a-text-right mojo-field-type-boolean hidden\">false</td></tr><tr><td class=\"a-text-right mojo-header-column mojo-truncate mojo-field-type-rank mojo-sort-column\">78</td><td class=\"a-text-left mojo-field-type-release mojo-cell-wide\"><a class=\"a-link-normal\" href=\"/release/rl3124855553/?ref_=bo_yld_table_78\">Infamous</a></td><td class=\"a-text-left mojo-field-type-genre hidden\">-</td><td class=\"a-text-right mojo-field-type-money hidden\">-</td><td class=\"a-text-right mojo-field-type-duration hidden\">-</td><td class=\"a-text-right mojo-field-type-money mojo-estimatable\">$427,407</td><td class=\"a-text-right mojo-field-type-positive_integer\">58</td><td class=\"a-text-right mojo-field-type-money mojo-estimatable\">$427,407</td><td class=\"a-text-left mojo-field-type-date a-nowrap\">Jun 12</td><td class=\"a-text-left mojo-field-type-studio\"><a class=\"a-link-normal\" href=\"https://pro.imdb.com/company/co0427244/boxoffice/?view=releases&amp;ref_=mojo_yld_table_78&amp;rf=mojo_yld_table_78\" rel=\"noopener\" target=\"_blank\">Vertical Entertainment<svg class=\"mojo-new-window-svg\" viewBox=\"0 0 32 32\" xmlns=\"http://www.w3.org/2000/svg\">\n",
       "        <path d=\"M24,15.57251l3,3V23.5A3.50424,3.50424,0,0,1,23.5,27H8.5A3.50424,3.50424,0,0,1,5,23.5V8.5A3.50424,3.50424,0,0,1,8.5,5h4.92755l3,3H8.5a.50641.50641,0,0,0-.5.5v15a.50641.50641,0,0,0,.5.5h15a.50641.50641,0,0,0,.5-.5ZM19.81952,8.56372,12.8844,17.75a.49989.49989,0,0,0,.04547.65479l.66534.66528a.49983.49983,0,0,0,.65479.04553l9.18628-6.93518,2.12579,2.12585a.5.5,0,0,0,.84741-.27526l1.48273-9.35108a.50006.50006,0,0,0-.57214-.57214L17.969,5.59058a.5.5,0,0,0-.27526.84741Z\"></path>\n",
       "    </svg></a></td><td class=\"a-text-right mojo-field-type-boolean hidden\">false</td></tr><tr><td class=\"a-text-right mojo-header-column mojo-truncate mojo-field-type-rank mojo-sort-column\">79</td><td class=\"a-text-left mojo-field-type-release mojo-cell-wide\"><a class=\"a-link-normal\" href=\"/release/rl3785392641/?ref_=bo_yld_table_79\">Greed</a></td><td class=\"a-text-left mojo-field-type-genre hidden\">-</td><td class=\"a-text-right mojo-field-type-money hidden\">-</td><td class=\"a-text-right mojo-field-type-duration hidden\">-</td><td class=\"a-text-right mojo-field-type-money mojo-estimatable\">$355,308</td><td class=\"a-text-right mojo-field-type-positive_integer\">596</td><td class=\"a-text-right mojo-field-type-money mojo-estimatable\">$355,308</td><td class=\"a-text-left mojo-field-type-date a-nowrap\">Feb 28</td><td class=\"a-text-left mojo-field-type-studio\"><a class=\"a-link-normal\" href=\"https://pro.imdb.com/company/co0014453/boxoffice/?view=releases&amp;ref_=mojo_yld_table_79&amp;rf=mojo_yld_table_79\" rel=\"noopener\" target=\"_blank\">Sony Pictures Classics<svg class=\"mojo-new-window-svg\" viewBox=\"0 0 32 32\" xmlns=\"http://www.w3.org/2000/svg\">\n",
       "        <path d=\"M24,15.57251l3,3V23.5A3.50424,3.50424,0,0,1,23.5,27H8.5A3.50424,3.50424,0,0,1,5,23.5V8.5A3.50424,3.50424,0,0,1,8.5,5h4.92755l3,3H8.5a.50641.50641,0,0,0-.5.5v15a.50641.50641,0,0,0,.5.5h15a.50641.50641,0,0,0,.5-.5ZM19.81952,8.56372,12.8844,17.75a.49989.49989,0,0,0,.04547.65479l.66534.66528a.49983.49983,0,0,0,.65479.04553l9.18628-6.93518,2.12579,2.12585a.5.5,0,0,0,.84741-.27526l1.48273-9.35108a.50006.50006,0,0,0-.57214-.57214L17.969,5.59058a.5.5,0,0,0-.27526.84741Z\"></path>\n",
       "    </svg></a></td><td class=\"a-text-right mojo-field-type-boolean hidden\">false</td></tr><tr><td class=\"a-text-right mojo-header-column mojo-truncate mojo-field-type-rank mojo-sort-column\">80</td><td class=\"a-text-left mojo-field-type-release mojo-cell-wide\"><a class=\"a-link-normal\" href=\"/release/rl1168998913/?ref_=bo_yld_table_80\">Ride Your Wave</a></td><td class=\"a-text-left mojo-field-type-genre hidden\">-</td><td class=\"a-text-right mojo-field-type-money hidden\">-</td><td class=\"a-text-right mojo-field-type-duration hidden\">-</td><td class=\"a-text-right mojo-field-type-money mojo-estimatable\">$332,432</td><td class=\"a-text-right mojo-field-type-positive_integer\">605</td><td class=\"a-text-right mojo-field-type-money mojo-estimatable\">$332,432</td><td class=\"a-text-left mojo-field-type-date a-nowrap\">Feb 19</td><td class=\"a-text-left mojo-field-type-studio\"><a class=\"a-link-normal\" href=\"https://pro.imdb.com/company/co0360057/boxoffice/?view=releases&amp;ref_=mojo_yld_table_80&amp;rf=mojo_yld_table_80\" rel=\"noopener\" target=\"_blank\">Fathom Events<svg class=\"mojo-new-window-svg\" viewBox=\"0 0 32 32\" xmlns=\"http://www.w3.org/2000/svg\">\n",
       "        <path d=\"M24,15.57251l3,3V23.5A3.50424,3.50424,0,0,1,23.5,27H8.5A3.50424,3.50424,0,0,1,5,23.5V8.5A3.50424,3.50424,0,0,1,8.5,5h4.92755l3,3H8.5a.50641.50641,0,0,0-.5.5v15a.50641.50641,0,0,0,.5.5h15a.50641.50641,0,0,0,.5-.5ZM19.81952,8.56372,12.8844,17.75a.49989.49989,0,0,0,.04547.65479l.66534.66528a.49983.49983,0,0,0,.65479.04553l9.18628-6.93518,2.12579,2.12585a.5.5,0,0,0,.84741-.27526l1.48273-9.35108a.50006.50006,0,0,0-.57214-.57214L17.969,5.59058a.5.5,0,0,0-.27526.84741Z\"></path>\n",
       "    </svg></a></td><td class=\"a-text-right mojo-field-type-boolean hidden\">false</td></tr><tr><td class=\"a-text-right mojo-header-column mojo-truncate mojo-field-type-rank mojo-sort-column\">81</td><td class=\"a-text-left mojo-field-type-release mojo-cell-wide\"><a class=\"a-link-normal\" href=\"/release/rl615416321/?ref_=bo_yld_table_81\">Les Misérables</a></td><td class=\"a-text-left mojo-field-type-genre hidden\">-</td><td class=\"a-text-right mojo-field-type-money hidden\">-</td><td class=\"a-text-right mojo-field-type-duration hidden\">-</td><td class=\"a-text-right mojo-field-type-money mojo-estimatable\">$330,181</td><td class=\"a-text-right mojo-field-type-positive_integer\">69</td><td class=\"a-text-right mojo-field-type-money mojo-estimatable\">$330,181</td><td class=\"a-text-left mojo-field-type-date a-nowrap\">Jan 10</td><td class=\"a-text-left mojo-field-type-studio\"><a class=\"a-link-normal\" href=\"https://pro.imdb.com/company/co0319272/boxoffice/?view=releases&amp;ref_=mojo_yld_table_81&amp;rf=mojo_yld_table_81\" rel=\"noopener\" target=\"_blank\">Amazon Studios<svg class=\"mojo-new-window-svg\" viewBox=\"0 0 32 32\" xmlns=\"http://www.w3.org/2000/svg\">\n",
       "        <path d=\"M24,15.57251l3,3V23.5A3.50424,3.50424,0,0,1,23.5,27H8.5A3.50424,3.50424,0,0,1,5,23.5V8.5A3.50424,3.50424,0,0,1,8.5,5h4.92755l3,3H8.5a.50641.50641,0,0,0-.5.5v15a.50641.50641,0,0,0,.5.5h15a.50641.50641,0,0,0,.5-.5ZM19.81952,8.56372,12.8844,17.75a.49989.49989,0,0,0,.04547.65479l.66534.66528a.49983.49983,0,0,0,.65479.04553l9.18628-6.93518,2.12579,2.12585a.5.5,0,0,0,.84741-.27526l1.48273-9.35108a.50006.50006,0,0,0-.57214-.57214L17.969,5.59058a.5.5,0,0,0-.27526.84741Z\"></path>\n",
       "    </svg></a></td><td class=\"a-text-right mojo-field-type-boolean hidden\">false</td></tr><tr><td class=\"a-text-right mojo-header-column mojo-truncate mojo-field-type-rank mojo-sort-column\">82</td><td class=\"a-text-left mojo-field-type-release mojo-cell-wide\"><a class=\"a-link-normal\" href=\"/release/rl721978881/?ref_=bo_yld_table_82\">Clemency</a></td><td class=\"a-text-left mojo-field-type-genre hidden\">-</td><td class=\"a-text-right mojo-field-type-money hidden\">-</td><td class=\"a-text-right mojo-field-type-duration hidden\">-</td><td class=\"a-text-right mojo-field-type-money mojo-estimatable\">$323,980</td><td class=\"a-text-right mojo-field-type-positive_integer\">127</td><td class=\"a-text-right mojo-field-type-money mojo-estimatable\">$364,716</td><td class=\"a-text-left mojo-field-type-date a-nowrap\">Dec 27</td><td class=\"a-text-left mojo-field-type-studio\"><a class=\"a-link-normal\" href=\"https://pro.imdb.com/company/co0623930/boxoffice/?view=releases&amp;ref_=mojo_yld_table_82&amp;rf=mojo_yld_table_82\" rel=\"noopener\" target=\"_blank\">Neon<svg class=\"mojo-new-window-svg\" viewBox=\"0 0 32 32\" xmlns=\"http://www.w3.org/2000/svg\">\n",
       "        <path d=\"M24,15.57251l3,3V23.5A3.50424,3.50424,0,0,1,23.5,27H8.5A3.50424,3.50424,0,0,1,5,23.5V8.5A3.50424,3.50424,0,0,1,8.5,5h4.92755l3,3H8.5a.50641.50641,0,0,0-.5.5v15a.50641.50641,0,0,0,.5.5h15a.50641.50641,0,0,0,.5-.5ZM19.81952,8.56372,12.8844,17.75a.49989.49989,0,0,0,.04547.65479l.66534.66528a.49983.49983,0,0,0,.65479.04553l9.18628-6.93518,2.12579,2.12585a.5.5,0,0,0,.84741-.27526l1.48273-9.35108a.50006.50006,0,0,0-.57214-.57214L17.969,5.59058a.5.5,0,0,0-.27526.84741Z\"></path>\n",
       "    </svg></a></td><td class=\"a-text-right mojo-field-type-boolean hidden\">false</td></tr><tr><td class=\"a-text-right mojo-header-column mojo-truncate mojo-field-type-rank mojo-sort-column\">83</td><td class=\"a-text-left mojo-field-type-release mojo-cell-wide\"><a class=\"a-link-normal\" href=\"/release/rl1604420097/?ref_=bo_yld_table_83\">Ordinary Love</a></td><td class=\"a-text-left mojo-field-type-genre hidden\">-</td><td class=\"a-text-right mojo-field-type-money hidden\">-</td><td class=\"a-text-right mojo-field-type-duration hidden\">-</td><td class=\"a-text-right mojo-field-type-money mojo-estimatable\">$323,688</td><td class=\"a-text-right mojo-field-type-positive_integer\">22</td><td class=\"a-text-right mojo-field-type-money mojo-estimatable\">$323,688</td><td class=\"a-text-left mojo-field-type-date a-nowrap\">Feb 14</td><td class=\"a-text-left mojo-field-type-studio\"><a class=\"a-link-normal\" href=\"https://pro.imdb.com/company/co0494731/boxoffice/?view=releases&amp;ref_=mojo_yld_table_83&amp;rf=mojo_yld_table_83\" rel=\"noopener\" target=\"_blank\">Bleecker Street Media<svg class=\"mojo-new-window-svg\" viewBox=\"0 0 32 32\" xmlns=\"http://www.w3.org/2000/svg\">\n",
       "        <path d=\"M24,15.57251l3,3V23.5A3.50424,3.50424,0,0,1,23.5,27H8.5A3.50424,3.50424,0,0,1,5,23.5V8.5A3.50424,3.50424,0,0,1,8.5,5h4.92755l3,3H8.5a.50641.50641,0,0,0-.5.5v15a.50641.50641,0,0,0,.5.5h15a.50641.50641,0,0,0,.5-.5ZM19.81952,8.56372,12.8844,17.75a.49989.49989,0,0,0,.04547.65479l.66534.66528a.49983.49983,0,0,0,.65479.04553l9.18628-6.93518,2.12579,2.12585a.5.5,0,0,0,.84741-.27526l1.48273-9.35108a.50006.50006,0,0,0-.57214-.57214L17.969,5.59058a.5.5,0,0,0-.27526.84741Z\"></path>\n",
       "    </svg></a></td><td class=\"a-text-right mojo-field-type-boolean hidden\">false</td></tr><tr><td class=\"a-text-right mojo-header-column mojo-truncate mojo-field-type-rank mojo-sort-column\">84</td><td class=\"a-text-left mojo-field-type-release mojo-cell-wide\"><a class=\"a-link-normal\" href=\"/release/rl604603905/?ref_=bo_yld_table_84\">Playing with Fire</a></td><td class=\"a-text-left mojo-field-type-genre hidden\">-</td><td class=\"a-text-right mojo-field-type-money hidden\">-</td><td class=\"a-text-right mojo-field-type-duration hidden\">-</td><td class=\"a-text-right mojo-field-type-money mojo-estimatable\">$300,460</td><td class=\"a-text-right mojo-field-type-positive_integer\">3,185</td><td class=\"a-text-right mojo-field-type-money mojo-estimatable\">$44,451,847</td><td class=\"a-text-left mojo-field-type-date a-nowrap\">Nov 8</td><td class=\"a-text-left mojo-field-type-studio\"><a class=\"a-link-normal\" href=\"https://pro.imdb.com/company/co0023400/boxoffice/?view=releases&amp;ref_=mojo_yld_table_84&amp;rf=mojo_yld_table_84\" rel=\"noopener\" target=\"_blank\">Paramount Pictures<svg class=\"mojo-new-window-svg\" viewBox=\"0 0 32 32\" xmlns=\"http://www.w3.org/2000/svg\">\n",
       "        <path d=\"M24,15.57251l3,3V23.5A3.50424,3.50424,0,0,1,23.5,27H8.5A3.50424,3.50424,0,0,1,5,23.5V8.5A3.50424,3.50424,0,0,1,8.5,5h4.92755l3,3H8.5a.50641.50641,0,0,0-.5.5v15a.50641.50641,0,0,0,.5.5h15a.50641.50641,0,0,0,.5-.5ZM19.81952,8.56372,12.8844,17.75a.49989.49989,0,0,0,.04547.65479l.66534.66528a.49983.49983,0,0,0,.65479.04553l9.18628-6.93518,2.12579,2.12585a.5.5,0,0,0,.84741-.27526l1.48273-9.35108a.50006.50006,0,0,0-.57214-.57214L17.969,5.59058a.5.5,0,0,0-.27526.84741Z\"></path>\n",
       "    </svg></a></td><td class=\"a-text-right mojo-field-type-boolean hidden\">false</td></tr><tr><td class=\"a-text-right mojo-header-column mojo-truncate mojo-field-type-rank mojo-sort-column\">85</td><td class=\"a-text-left mojo-field-type-release mojo-cell-wide\"><a class=\"a-link-normal\" href=\"/release/rl470189569/?ref_=bo_yld_table_85\">Judy</a></td><td class=\"a-text-left mojo-field-type-genre hidden\">-</td><td class=\"a-text-right mojo-field-type-money hidden\">-</td><td class=\"a-text-right mojo-field-type-duration hidden\">-</td><td class=\"a-text-right mojo-field-type-money mojo-estimatable\">$296,343</td><td class=\"a-text-right mojo-field-type-positive_integer\">1,627</td><td class=\"a-text-right mojo-field-type-money mojo-estimatable\">$24,313,888</td><td class=\"a-text-left mojo-field-type-date a-nowrap\">Sep 27</td><td class=\"a-text-left mojo-field-type-studio\"><a class=\"a-link-normal\" href=\"https://pro.imdb.com/company/co0017716/boxoffice/?view=releases&amp;ref_=mojo_yld_table_85&amp;rf=mojo_yld_table_85\" rel=\"noopener\" target=\"_blank\">Roadside Attractions<svg class=\"mojo-new-window-svg\" viewBox=\"0 0 32 32\" xmlns=\"http://www.w3.org/2000/svg\">\n",
       "        <path d=\"M24,15.57251l3,3V23.5A3.50424,3.50424,0,0,1,23.5,27H8.5A3.50424,3.50424,0,0,1,5,23.5V8.5A3.50424,3.50424,0,0,1,8.5,5h4.92755l3,3H8.5a.50641.50641,0,0,0-.5.5v15a.50641.50641,0,0,0,.5.5h15a.50641.50641,0,0,0,.5-.5ZM19.81952,8.56372,12.8844,17.75a.49989.49989,0,0,0,.04547.65479l.66534.66528a.49983.49983,0,0,0,.65479.04553l9.18628-6.93518,2.12579,2.12585a.5.5,0,0,0,.84741-.27526l1.48273-9.35108a.50006.50006,0,0,0-.57214-.57214L17.969,5.59058a.5.5,0,0,0-.27526.84741Z\"></path>\n",
       "    </svg></a></td><td class=\"a-text-right mojo-field-type-boolean hidden\">false</td></tr><tr><td class=\"a-text-right mojo-header-column mojo-truncate mojo-field-type-rank mojo-sort-column\">86</td><td class=\"a-text-left mojo-field-type-release mojo-cell-wide\"><a class=\"a-link-normal\" href=\"/release/rl2970322433/?ref_=bo_yld_table_86\">The Traitor</a></td><td class=\"a-text-left mojo-field-type-genre hidden\">-</td><td class=\"a-text-right mojo-field-type-money hidden\">-</td><td class=\"a-text-right mojo-field-type-duration hidden\">-</td><td class=\"a-text-right mojo-field-type-money mojo-estimatable\">$296,027</td><td class=\"a-text-right mojo-field-type-positive_integer\">45</td><td class=\"a-text-right mojo-field-type-money mojo-estimatable\">$296,027</td><td class=\"a-text-left mojo-field-type-date a-nowrap\">Jan 31</td><td class=\"a-text-left mojo-field-type-studio\"><a class=\"a-link-normal\" href=\"https://pro.imdb.com/company/co0014453/boxoffice/?view=releases&amp;ref_=mojo_yld_table_86&amp;rf=mojo_yld_table_86\" rel=\"noopener\" target=\"_blank\">Sony Pictures Classics<svg class=\"mojo-new-window-svg\" viewBox=\"0 0 32 32\" xmlns=\"http://www.w3.org/2000/svg\">\n",
       "        <path d=\"M24,15.57251l3,3V23.5A3.50424,3.50424,0,0,1,23.5,27H8.5A3.50424,3.50424,0,0,1,5,23.5V8.5A3.50424,3.50424,0,0,1,8.5,5h4.92755l3,3H8.5a.50641.50641,0,0,0-.5.5v15a.50641.50641,0,0,0,.5.5h15a.50641.50641,0,0,0,.5-.5ZM19.81952,8.56372,12.8844,17.75a.49989.49989,0,0,0,.04547.65479l.66534.66528a.49983.49983,0,0,0,.65479.04553l9.18628-6.93518,2.12579,2.12585a.5.5,0,0,0,.84741-.27526l1.48273-9.35108a.50006.50006,0,0,0-.57214-.57214L17.969,5.59058a.5.5,0,0,0-.27526.84741Z\"></path>\n",
       "    </svg></a></td><td class=\"a-text-right mojo-field-type-boolean hidden\">false</td></tr><tr><td class=\"a-text-right mojo-header-column mojo-truncate mojo-field-type-rank mojo-sort-column\">87</td><td class=\"a-text-left mojo-field-type-release mojo-cell-wide\"><a class=\"a-link-normal\" href=\"/release/rl4262168065/?ref_=bo_yld_table_87\">Mystify: Michael Hutchence</a></td><td class=\"a-text-left mojo-field-type-genre hidden\">-</td><td class=\"a-text-right mojo-field-type-money hidden\">-</td><td class=\"a-text-right mojo-field-type-duration hidden\">-</td><td class=\"a-text-right mojo-field-type-money mojo-estimatable\">$289,573</td><td class=\"a-text-right mojo-field-type-positive_integer\">597</td><td class=\"a-text-right mojo-field-type-money mojo-estimatable\">$289,573</td><td class=\"a-text-left mojo-field-type-date a-nowrap\">Jan 7</td><td class=\"a-text-left mojo-field-type-studio\"><a class=\"a-link-normal\" href=\"https://pro.imdb.com/company/co0360057/boxoffice/?view=releases&amp;ref_=mojo_yld_table_87&amp;rf=mojo_yld_table_87\" rel=\"noopener\" target=\"_blank\">Fathom Events<svg class=\"mojo-new-window-svg\" viewBox=\"0 0 32 32\" xmlns=\"http://www.w3.org/2000/svg\">\n",
       "        <path d=\"M24,15.57251l3,3V23.5A3.50424,3.50424,0,0,1,23.5,27H8.5A3.50424,3.50424,0,0,1,5,23.5V8.5A3.50424,3.50424,0,0,1,8.5,5h4.92755l3,3H8.5a.50641.50641,0,0,0-.5.5v15a.50641.50641,0,0,0,.5.5h15a.50641.50641,0,0,0,.5-.5ZM19.81952,8.56372,12.8844,17.75a.49989.49989,0,0,0,.04547.65479l.66534.66528a.49983.49983,0,0,0,.65479.04553l9.18628-6.93518,2.12579,2.12585a.5.5,0,0,0,.84741-.27526l1.48273-9.35108a.50006.50006,0,0,0-.57214-.57214L17.969,5.59058a.5.5,0,0,0-.27526.84741Z\"></path>\n",
       "    </svg></a></td><td class=\"a-text-right mojo-field-type-boolean hidden\">false</td></tr><tr><td class=\"a-text-right mojo-header-column mojo-truncate mojo-field-type-rank mojo-sort-column\">88</td><td class=\"a-text-left mojo-field-type-release mojo-cell-wide\"><a class=\"a-link-normal\" href=\"/release/rl1538490881/?ref_=bo_yld_table_88\">Created Equal: Clarence Thomas in His Own Words</a></td><td class=\"a-text-left mojo-field-type-genre hidden\">-</td><td class=\"a-text-right mojo-field-type-money hidden\">-</td><td class=\"a-text-right mojo-field-type-duration hidden\">-</td><td class=\"a-text-right mojo-field-type-money mojo-estimatable\">$282,149</td><td class=\"a-text-right mojo-field-type-positive_integer\">53</td><td class=\"a-text-right mojo-field-type-money mojo-estimatable\">$282,149</td><td class=\"a-text-left mojo-field-type-date a-nowrap\">Jan 31</td><td class=\"a-text-left mojo-field-type-studio\"><a class=\"a-link-normal\" href=\"https://pro.imdb.com/company/co0118190/boxoffice/?view=releases&amp;ref_=mojo_yld_table_88&amp;rf=mojo_yld_table_88\" rel=\"noopener\" target=\"_blank\">Manifold Productions Inc.<svg class=\"mojo-new-window-svg\" viewBox=\"0 0 32 32\" xmlns=\"http://www.w3.org/2000/svg\">\n",
       "        <path d=\"M24,15.57251l3,3V23.5A3.50424,3.50424,0,0,1,23.5,27H8.5A3.50424,3.50424,0,0,1,5,23.5V8.5A3.50424,3.50424,0,0,1,8.5,5h4.92755l3,3H8.5a.50641.50641,0,0,0-.5.5v15a.50641.50641,0,0,0,.5.5h15a.50641.50641,0,0,0,.5-.5ZM19.81952,8.56372,12.8844,17.75a.49989.49989,0,0,0,.04547.65479l.66534.66528a.49983.49983,0,0,0,.65479.04553l9.18628-6.93518,2.12579,2.12585a.5.5,0,0,0,.84741-.27526l1.48273-9.35108a.50006.50006,0,0,0-.57214-.57214L17.969,5.59058a.5.5,0,0,0-.27526.84741Z\"></path>\n",
       "    </svg></a></td><td class=\"a-text-right mojo-field-type-boolean hidden\">false</td></tr><tr><td class=\"a-text-right mojo-header-column mojo-truncate mojo-field-type-rank mojo-sort-column\">89</td><td class=\"a-text-left mojo-field-type-release mojo-cell-wide\"><a class=\"a-link-normal\" href=\"/release/rl1102283265/?ref_=bo_yld_table_89\">An American in Paris</a><div class=\"a-section a-spacing-none\"><span class=\"a-size-small a-color-secondary\">2020 Re-release</span></div></td><td class=\"a-text-left mojo-field-type-genre hidden\">-</td><td class=\"a-text-right mojo-field-type-money hidden\">-</td><td class=\"a-text-right mojo-field-type-duration hidden\">-</td><td class=\"a-text-right mojo-field-type-money mojo-estimatable\">$267,824</td><td class=\"a-text-right mojo-field-type-positive_integer\">651</td><td class=\"a-text-right mojo-field-type-money mojo-estimatable\">$267,824</td><td class=\"a-text-left mojo-field-type-date a-nowrap\">Jan 19</td><td class=\"a-text-left mojo-field-type-studio\"><a class=\"a-link-normal\" href=\"https://pro.imdb.com/company/co0360057/boxoffice/?view=releases&amp;ref_=mojo_yld_table_89&amp;rf=mojo_yld_table_89\" rel=\"noopener\" target=\"_blank\">Fathom Events<svg class=\"mojo-new-window-svg\" viewBox=\"0 0 32 32\" xmlns=\"http://www.w3.org/2000/svg\">\n",
       "        <path d=\"M24,15.57251l3,3V23.5A3.50424,3.50424,0,0,1,23.5,27H8.5A3.50424,3.50424,0,0,1,5,23.5V8.5A3.50424,3.50424,0,0,1,8.5,5h4.92755l3,3H8.5a.50641.50641,0,0,0-.5.5v15a.50641.50641,0,0,0,.5.5h15a.50641.50641,0,0,0,.5-.5ZM19.81952,8.56372,12.8844,17.75a.49989.49989,0,0,0,.04547.65479l.66534.66528a.49983.49983,0,0,0,.65479.04553l9.18628-6.93518,2.12579,2.12585a.5.5,0,0,0,.84741-.27526l1.48273-9.35108a.50006.50006,0,0,0-.57214-.57214L17.969,5.59058a.5.5,0,0,0-.27526.84741Z\"></path>\n",
       "    </svg></a></td><td class=\"a-text-right mojo-field-type-boolean hidden\">false</td></tr><tr><td class=\"a-text-right mojo-header-column mojo-truncate mojo-field-type-rank mojo-sort-column\">90</td><td class=\"a-text-left mojo-field-type-release mojo-cell-wide\"><a class=\"a-link-normal\" href=\"/release/rl1386709505/?ref_=bo_yld_table_90\">63 Up</a></td><td class=\"a-text-left mojo-field-type-genre hidden\">-</td><td class=\"a-text-right mojo-field-type-money hidden\">-</td><td class=\"a-text-right mojo-field-type-duration hidden\">-</td><td class=\"a-text-right mojo-field-type-money mojo-estimatable\">$238,204</td><td class=\"a-text-right mojo-field-type-positive_integer\">28</td><td class=\"a-text-right mojo-field-type-money mojo-estimatable\">$483,684</td><td class=\"a-text-left mojo-field-type-date a-nowrap\">Nov 27</td><td class=\"a-text-left mojo-field-type-studio\"><a class=\"a-link-normal\" href=\"https://pro.imdb.com/company/co0685539/boxoffice/?view=releases&amp;ref_=mojo_yld_table_90&amp;rf=mojo_yld_table_90\" rel=\"noopener\" target=\"_blank\">BritBox<svg class=\"mojo-new-window-svg\" viewBox=\"0 0 32 32\" xmlns=\"http://www.w3.org/2000/svg\">\n",
       "        <path d=\"M24,15.57251l3,3V23.5A3.50424,3.50424,0,0,1,23.5,27H8.5A3.50424,3.50424,0,0,1,5,23.5V8.5A3.50424,3.50424,0,0,1,8.5,5h4.92755l3,3H8.5a.50641.50641,0,0,0-.5.5v15a.50641.50641,0,0,0,.5.5h15a.50641.50641,0,0,0,.5-.5ZM19.81952,8.56372,12.8844,17.75a.49989.49989,0,0,0,.04547.65479l.66534.66528a.49983.49983,0,0,0,.65479.04553l9.18628-6.93518,2.12579,2.12585a.5.5,0,0,0,.84741-.27526l1.48273-9.35108a.50006.50006,0,0,0-.57214-.57214L17.969,5.59058a.5.5,0,0,0-.27526.84741Z\"></path>\n",
       "    </svg></a></td><td class=\"a-text-right mojo-field-type-boolean hidden\">false</td></tr><tr><td class=\"a-text-right mojo-header-column mojo-truncate mojo-field-type-rank mojo-sort-column\">91</td><td class=\"a-text-left mojo-field-type-release mojo-cell-wide\"><a class=\"a-link-normal\" href=\"/release/rl682525185/?ref_=bo_yld_table_91\">Tokyo Godfathers</a><div class=\"a-section a-spacing-none\"><span class=\"a-size-small a-color-secondary\">2020 Re-release</span></div></td><td class=\"a-text-left mojo-field-type-genre hidden\">-</td><td class=\"a-text-right mojo-field-type-money hidden\">-</td><td class=\"a-text-right mojo-field-type-duration hidden\">-</td><td class=\"a-text-right mojo-field-type-money mojo-estimatable\">$237,581</td><td class=\"a-text-right mojo-field-type-positive_integer\">519</td><td class=\"a-text-right mojo-field-type-money mojo-estimatable\">$237,571</td><td class=\"a-text-left mojo-field-type-date a-nowrap\">Mar 9</td><td class=\"a-text-left mojo-field-type-studio\"><a class=\"a-link-normal\" href=\"https://pro.imdb.com/company/co0360057/boxoffice/?view=releases&amp;ref_=mojo_yld_table_91&amp;rf=mojo_yld_table_91\" rel=\"noopener\" target=\"_blank\">Fathom Events<svg class=\"mojo-new-window-svg\" viewBox=\"0 0 32 32\" xmlns=\"http://www.w3.org/2000/svg\">\n",
       "        <path d=\"M24,15.57251l3,3V23.5A3.50424,3.50424,0,0,1,23.5,27H8.5A3.50424,3.50424,0,0,1,5,23.5V8.5A3.50424,3.50424,0,0,1,8.5,5h4.92755l3,3H8.5a.50641.50641,0,0,0-.5.5v15a.50641.50641,0,0,0,.5.5h15a.50641.50641,0,0,0,.5-.5ZM19.81952,8.56372,12.8844,17.75a.49989.49989,0,0,0,.04547.65479l.66534.66528a.49983.49983,0,0,0,.65479.04553l9.18628-6.93518,2.12579,2.12585a.5.5,0,0,0,.84741-.27526l1.48273-9.35108a.50006.50006,0,0,0-.57214-.57214L17.969,5.59058a.5.5,0,0,0-.27526.84741Z\"></path>\n",
       "    </svg></a></td><td class=\"a-text-right mojo-field-type-boolean hidden\">false</td></tr><tr><td class=\"a-text-right mojo-header-column mojo-truncate mojo-field-type-rank mojo-sort-column\">92</td><td class=\"a-text-left mojo-field-type-release mojo-cell-wide\"><a class=\"a-link-normal\" href=\"/release/rl2735441409/?ref_=bo_yld_table_92\">Blind Eyes Opened</a></td><td class=\"a-text-left mojo-field-type-genre hidden\">-</td><td class=\"a-text-right mojo-field-type-money hidden\">-</td><td class=\"a-text-right mojo-field-type-duration hidden\">-</td><td class=\"a-text-right mojo-field-type-money mojo-estimatable\">$234,505</td><td class=\"a-text-right mojo-field-type-positive_integer\">534</td><td class=\"a-text-right mojo-field-type-money mojo-estimatable\">$234,505</td><td class=\"a-text-left mojo-field-type-date a-nowrap\">Jan 23</td><td class=\"a-text-left mojo-field-type-studio\"><a class=\"a-link-normal\" href=\"https://pro.imdb.com/company/co0360057/boxoffice/?view=releases&amp;ref_=mojo_yld_table_92&amp;rf=mojo_yld_table_92\" rel=\"noopener\" target=\"_blank\">Fathom Events<svg class=\"mojo-new-window-svg\" viewBox=\"0 0 32 32\" xmlns=\"http://www.w3.org/2000/svg\">\n",
       "        <path d=\"M24,15.57251l3,3V23.5A3.50424,3.50424,0,0,1,23.5,27H8.5A3.50424,3.50424,0,0,1,5,23.5V8.5A3.50424,3.50424,0,0,1,8.5,5h4.92755l3,3H8.5a.50641.50641,0,0,0-.5.5v15a.50641.50641,0,0,0,.5.5h15a.50641.50641,0,0,0,.5-.5ZM19.81952,8.56372,12.8844,17.75a.49989.49989,0,0,0,.04547.65479l.66534.66528a.49983.49983,0,0,0,.65479.04553l9.18628-6.93518,2.12579,2.12585a.5.5,0,0,0,.84741-.27526l1.48273-9.35108a.50006.50006,0,0,0-.57214-.57214L17.969,5.59058a.5.5,0,0,0-.27526.84741Z\"></path>\n",
       "    </svg></a></td><td class=\"a-text-right mojo-field-type-boolean hidden\">false</td></tr><tr><td class=\"a-text-right mojo-header-column mojo-truncate mojo-field-type-rank mojo-sort-column\">93</td><td class=\"a-text-left mojo-field-type-release mojo-cell-wide\"><a class=\"a-link-normal\" href=\"/release/rl2511241729/?ref_=bo_yld_table_93\">Doctor Who Live Q&amp;A And Screening</a></td><td class=\"a-text-left mojo-field-type-genre hidden\">-</td><td class=\"a-text-right mojo-field-type-money hidden\">-</td><td class=\"a-text-right mojo-field-type-duration hidden\">-</td><td class=\"a-text-right mojo-field-type-money mojo-estimatable\">$228,615</td><td class=\"a-text-right mojo-field-type-positive_integer\">692</td><td class=\"a-text-right mojo-field-type-money mojo-estimatable\">$228,615</td><td class=\"a-text-left mojo-field-type-date a-nowrap\">Jan 5</td><td class=\"a-text-left mojo-field-type-studio\"><a class=\"a-link-normal\" href=\"https://pro.imdb.com/company/co0360057/boxoffice/?view=releases&amp;ref_=mojo_yld_table_93&amp;rf=mojo_yld_table_93\" rel=\"noopener\" target=\"_blank\">Fathom Events<svg class=\"mojo-new-window-svg\" viewBox=\"0 0 32 32\" xmlns=\"http://www.w3.org/2000/svg\">\n",
       "        <path d=\"M24,15.57251l3,3V23.5A3.50424,3.50424,0,0,1,23.5,27H8.5A3.50424,3.50424,0,0,1,5,23.5V8.5A3.50424,3.50424,0,0,1,8.5,5h4.92755l3,3H8.5a.50641.50641,0,0,0-.5.5v15a.50641.50641,0,0,0,.5.5h15a.50641.50641,0,0,0,.5-.5ZM19.81952,8.56372,12.8844,17.75a.49989.49989,0,0,0,.04547.65479l.66534.66528a.49983.49983,0,0,0,.65479.04553l9.18628-6.93518,2.12579,2.12585a.5.5,0,0,0,.84741-.27526l1.48273-9.35108a.50006.50006,0,0,0-.57214-.57214L17.969,5.59058a.5.5,0,0,0-.27526.84741Z\"></path>\n",
       "    </svg></a></td><td class=\"a-text-right mojo-field-type-boolean hidden\">false</td></tr><tr><td class=\"a-text-right mojo-header-column mojo-truncate mojo-field-type-rank mojo-sort-column\">94</td><td class=\"a-text-left mojo-field-type-release mojo-cell-wide\"><a class=\"a-link-normal\" href=\"/release/rl1807647233/?ref_=bo_yld_table_94\">Relic</a></td><td class=\"a-text-left mojo-field-type-genre hidden\">-</td><td class=\"a-text-right mojo-field-type-money hidden\">-</td><td class=\"a-text-right mojo-field-type-duration hidden\">-</td><td class=\"a-text-right mojo-field-type-money mojo-estimatable\">$227,401</td><td class=\"a-text-right mojo-field-type-positive_integer\">69</td><td class=\"a-text-right mojo-field-type-money mojo-estimatable\">$227,401</td><td class=\"a-text-left mojo-field-type-date a-nowrap\">Jul 3</td><td class=\"a-text-left mojo-field-type-studio\"><a class=\"a-link-normal\" href=\"https://pro.imdb.com/company/co0015762/boxoffice/?view=releases&amp;ref_=mojo_yld_table_94&amp;rf=mojo_yld_table_94\" rel=\"noopener\" target=\"_blank\">IFC Films<svg class=\"mojo-new-window-svg\" viewBox=\"0 0 32 32\" xmlns=\"http://www.w3.org/2000/svg\">\n",
       "        <path d=\"M24,15.57251l3,3V23.5A3.50424,3.50424,0,0,1,23.5,27H8.5A3.50424,3.50424,0,0,1,5,23.5V8.5A3.50424,3.50424,0,0,1,8.5,5h4.92755l3,3H8.5a.50641.50641,0,0,0-.5.5v15a.50641.50641,0,0,0,.5.5h15a.50641.50641,0,0,0,.5-.5ZM19.81952,8.56372,12.8844,17.75a.49989.49989,0,0,0,.04547.65479l.66534.66528a.49983.49983,0,0,0,.65479.04553l9.18628-6.93518,2.12579,2.12585a.5.5,0,0,0,.84741-.27526l1.48273-9.35108a.50006.50006,0,0,0-.57214-.57214L17.969,5.59058a.5.5,0,0,0-.27526.84741Z\"></path>\n",
       "    </svg></a></td><td class=\"a-text-right mojo-field-type-boolean hidden\">false</td></tr><tr><td class=\"a-text-right mojo-header-column mojo-truncate mojo-field-type-rank mojo-sort-column\">95</td><td class=\"a-text-left mojo-field-type-release mojo-cell-wide\"><a class=\"a-link-normal\" href=\"/release/rl3954082305/?ref_=bo_yld_table_95\">CatVideoFest 2020</a></td><td class=\"a-text-left mojo-field-type-genre hidden\">-</td><td class=\"a-text-right mojo-field-type-money hidden\">-</td><td class=\"a-text-right mojo-field-type-duration hidden\">-</td><td class=\"a-text-right mojo-field-type-money mojo-estimatable\">$219,698</td><td class=\"a-text-right mojo-field-type-positive_integer\">84</td><td class=\"a-text-right mojo-field-type-money mojo-estimatable\">$437,625</td><td class=\"a-text-left mojo-field-type-date a-nowrap\">Feb 21</td><td class=\"a-text-left mojo-field-type-studio\"><a class=\"a-link-normal\" href=\"https://pro.imdb.com/company/co0166963/boxoffice/?view=releases&amp;ref_=mojo_yld_table_95&amp;rf=mojo_yld_table_95\" rel=\"noopener\" target=\"_blank\">Oscilloscope<svg class=\"mojo-new-window-svg\" viewBox=\"0 0 32 32\" xmlns=\"http://www.w3.org/2000/svg\">\n",
       "        <path d=\"M24,15.57251l3,3V23.5A3.50424,3.50424,0,0,1,23.5,27H8.5A3.50424,3.50424,0,0,1,5,23.5V8.5A3.50424,3.50424,0,0,1,8.5,5h4.92755l3,3H8.5a.50641.50641,0,0,0-.5.5v15a.50641.50641,0,0,0,.5.5h15a.50641.50641,0,0,0,.5-.5ZM19.81952,8.56372,12.8844,17.75a.49989.49989,0,0,0,.04547.65479l.66534.66528a.49983.49983,0,0,0,.65479.04553l9.18628-6.93518,2.12579,2.12585a.5.5,0,0,0,.84741-.27526l1.48273-9.35108a.50006.50006,0,0,0-.57214-.57214L17.969,5.59058a.5.5,0,0,0-.27526.84741Z\"></path>\n",
       "    </svg></a></td><td class=\"a-text-right mojo-field-type-boolean hidden\">false</td></tr><tr><td class=\"a-text-right mojo-header-column mojo-truncate mojo-field-type-rank mojo-sort-column\">96</td><td class=\"a-text-left mojo-field-type-release mojo-cell-wide\"><a class=\"a-link-normal\" href=\"/release/rl3031073281/?ref_=bo_yld_table_96\">Ashfall</a></td><td class=\"a-text-left mojo-field-type-genre hidden\">-</td><td class=\"a-text-right mojo-field-type-money hidden\">-</td><td class=\"a-text-right mojo-field-type-duration hidden\">-</td><td class=\"a-text-right mojo-field-type-money mojo-estimatable\">$199,575</td><td class=\"a-text-right mojo-field-type-positive_integer\">18</td><td class=\"a-text-right mojo-field-type-money mojo-estimatable\">$372,562</td><td class=\"a-text-left mojo-field-type-date a-nowrap\">Dec 19</td><td class=\"a-text-left mojo-field-type-studio\"><a class=\"a-link-normal\" href=\"https://pro.imdb.com/company/co0151501/boxoffice/?view=releases&amp;ref_=mojo_yld_table_96&amp;rf=mojo_yld_table_96\" rel=\"noopener\" target=\"_blank\">Capelight Pictures<svg class=\"mojo-new-window-svg\" viewBox=\"0 0 32 32\" xmlns=\"http://www.w3.org/2000/svg\">\n",
       "        <path d=\"M24,15.57251l3,3V23.5A3.50424,3.50424,0,0,1,23.5,27H8.5A3.50424,3.50424,0,0,1,5,23.5V8.5A3.50424,3.50424,0,0,1,8.5,5h4.92755l3,3H8.5a.50641.50641,0,0,0-.5.5v15a.50641.50641,0,0,0,.5.5h15a.50641.50641,0,0,0,.5-.5ZM19.81952,8.56372,12.8844,17.75a.49989.49989,0,0,0,.04547.65479l.66534.66528a.49983.49983,0,0,0,.65479.04553l9.18628-6.93518,2.12579,2.12585a.5.5,0,0,0,.84741-.27526l1.48273-9.35108a.50006.50006,0,0,0-.57214-.57214L17.969,5.59058a.5.5,0,0,0-.27526.84741Z\"></path>\n",
       "    </svg></a></td><td class=\"a-text-right mojo-field-type-boolean hidden\">false</td></tr><tr><td class=\"a-text-right mojo-header-column mojo-truncate mojo-field-type-rank mojo-sort-column\">97</td><td class=\"a-text-left mojo-field-type-release mojo-cell-wide\"><a class=\"a-link-normal\" href=\"/release/rl2091483649/?ref_=bo_yld_table_97\">National Theater Live: Cyrano de Bergerac</a></td><td class=\"a-text-left mojo-field-type-genre hidden\">-</td><td class=\"a-text-right mojo-field-type-money hidden\">-</td><td class=\"a-text-right mojo-field-type-duration hidden\">-</td><td class=\"a-text-right mojo-field-type-money mojo-estimatable\">$198,352</td><td class=\"a-text-right mojo-field-type-positive_integer\">472</td><td class=\"a-text-right mojo-field-type-money mojo-estimatable\">$198,352</td><td class=\"a-text-left mojo-field-type-date a-nowrap\">Feb 20</td><td class=\"a-text-left mojo-field-type-studio\"><a class=\"a-link-normal\" href=\"https://pro.imdb.com/company/co0360057/boxoffice/?view=releases&amp;ref_=mojo_yld_table_97&amp;rf=mojo_yld_table_97\" rel=\"noopener\" target=\"_blank\">Fathom Events<svg class=\"mojo-new-window-svg\" viewBox=\"0 0 32 32\" xmlns=\"http://www.w3.org/2000/svg\">\n",
       "        <path d=\"M24,15.57251l3,3V23.5A3.50424,3.50424,0,0,1,23.5,27H8.5A3.50424,3.50424,0,0,1,5,23.5V8.5A3.50424,3.50424,0,0,1,8.5,5h4.92755l3,3H8.5a.50641.50641,0,0,0-.5.5v15a.50641.50641,0,0,0,.5.5h15a.50641.50641,0,0,0,.5-.5ZM19.81952,8.56372,12.8844,17.75a.49989.49989,0,0,0,.04547.65479l.66534.66528a.49983.49983,0,0,0,.65479.04553l9.18628-6.93518,2.12579,2.12585a.5.5,0,0,0,.84741-.27526l1.48273-9.35108a.50006.50006,0,0,0-.57214-.57214L17.969,5.59058a.5.5,0,0,0-.27526.84741Z\"></path>\n",
       "    </svg></a></td><td class=\"a-text-right mojo-field-type-boolean hidden\">false</td></tr><tr><td class=\"a-text-right mojo-header-column mojo-truncate mojo-field-type-rank mojo-sort-column\">98</td><td class=\"a-text-left mojo-field-type-release mojo-cell-wide\"><a class=\"a-link-normal\" href=\"/release/rl201819649/?ref_=bo_yld_table_98\">Zombieland: Double Tap</a></td><td class=\"a-text-left mojo-field-type-genre hidden\">-</td><td class=\"a-text-right mojo-field-type-money hidden\">-</td><td class=\"a-text-right mojo-field-type-duration hidden\">-</td><td class=\"a-text-right mojo-field-type-money mojo-estimatable\">$192,926</td><td class=\"a-text-right mojo-field-type-positive_integer\">3,468</td><td class=\"a-text-right mojo-field-type-money mojo-estimatable\">$73,123,082</td><td class=\"a-text-left mojo-field-type-date a-nowrap\">Oct 18</td><td class=\"a-text-left mojo-field-type-studio\">-</td><td class=\"a-text-right mojo-field-type-boolean hidden\">false</td></tr><tr><td class=\"a-text-right mojo-header-column mojo-truncate mojo-field-type-rank mojo-sort-column\">99</td><td class=\"a-text-left mojo-field-type-release mojo-cell-wide\"><a class=\"a-link-normal\" href=\"/release/rl369853953/?ref_=bo_yld_table_99\">Cunningham</a></td><td class=\"a-text-left mojo-field-type-genre hidden\">-</td><td class=\"a-text-right mojo-field-type-money hidden\">-</td><td class=\"a-text-right mojo-field-type-duration hidden\">-</td><td class=\"a-text-right mojo-field-type-money mojo-estimatable\">$190,635</td><td class=\"a-text-right mojo-field-type-positive_integer\">23</td><td class=\"a-text-right mojo-field-type-money mojo-estimatable\">$265,102</td><td class=\"a-text-left mojo-field-type-date a-nowrap\">Dec 13</td><td class=\"a-text-left mojo-field-type-studio\"><a class=\"a-link-normal\" href=\"https://pro.imdb.com/company/co0134717/boxoffice/?view=releases&amp;ref_=mojo_yld_table_99&amp;rf=mojo_yld_table_99\" rel=\"noopener\" target=\"_blank\">Magnolia Pictures<svg class=\"mojo-new-window-svg\" viewBox=\"0 0 32 32\" xmlns=\"http://www.w3.org/2000/svg\">\n",
       "        <path d=\"M24,15.57251l3,3V23.5A3.50424,3.50424,0,0,1,23.5,27H8.5A3.50424,3.50424,0,0,1,5,23.5V8.5A3.50424,3.50424,0,0,1,8.5,5h4.92755l3,3H8.5a.50641.50641,0,0,0-.5.5v15a.50641.50641,0,0,0,.5.5h15a.50641.50641,0,0,0,.5-.5ZM19.81952,8.56372,12.8844,17.75a.49989.49989,0,0,0,.04547.65479l.66534.66528a.49983.49983,0,0,0,.65479.04553l9.18628-6.93518,2.12579,2.12585a.5.5,0,0,0,.84741-.27526l1.48273-9.35108a.50006.50006,0,0,0-.57214-.57214L17.969,5.59058a.5.5,0,0,0-.27526.84741Z\"></path>\n",
       "    </svg></a></td><td class=\"a-text-right mojo-field-type-boolean hidden\">false</td></tr><tr><td class=\"a-text-right mojo-header-column mojo-truncate mojo-field-type-rank mojo-sort-column\">100</td><td class=\"a-text-left mojo-field-type-release mojo-cell-wide\"><a class=\"a-link-normal\" href=\"/release/rl4238639617/?ref_=bo_yld_table_100\">The Doors: Break On Thru - A Celebration Of Ray Manzarek</a></td><td class=\"a-text-left mojo-field-type-genre hidden\">-</td><td class=\"a-text-right mojo-field-type-money hidden\">-</td><td class=\"a-text-right mojo-field-type-duration hidden\">-</td><td class=\"a-text-right mojo-field-type-money mojo-estimatable\">$189,771</td><td class=\"a-text-right mojo-field-type-positive_integer\">330</td><td class=\"a-text-right mojo-field-type-money mojo-estimatable\">$190,160</td><td class=\"a-text-left mojo-field-type-date a-nowrap\">Feb 12</td><td class=\"a-text-left mojo-field-type-studio\"><a class=\"a-link-normal\" href=\"https://pro.imdb.com/company/co0634829/boxoffice/?view=releases&amp;ref_=mojo_yld_table_100&amp;rf=mojo_yld_table_100\" rel=\"noopener\" target=\"_blank\">Trafalgar Releasing<svg class=\"mojo-new-window-svg\" viewBox=\"0 0 32 32\" xmlns=\"http://www.w3.org/2000/svg\">\n",
       "        <path d=\"M24,15.57251l3,3V23.5A3.50424,3.50424,0,0,1,23.5,27H8.5A3.50424,3.50424,0,0,1,5,23.5V8.5A3.50424,3.50424,0,0,1,8.5,5h4.92755l3,3H8.5a.50641.50641,0,0,0-.5.5v15a.50641.50641,0,0,0,.5.5h15a.50641.50641,0,0,0,.5-.5ZM19.81952,8.56372,12.8844,17.75a.49989.49989,0,0,0,.04547.65479l.66534.66528a.49983.49983,0,0,0,.65479.04553l9.18628-6.93518,2.12579,2.12585a.5.5,0,0,0,.84741-.27526l1.48273-9.35108a.50006.50006,0,0,0-.57214-.57214L17.969,5.59058a.5.5,0,0,0-.27526.84741Z\"></path>\n",
       "    </svg></a></td><td class=\"a-text-right mojo-field-type-boolean hidden\">false</td></tr><tr><td class=\"a-text-right mojo-header-column mojo-truncate mojo-field-type-rank mojo-sort-column\">101</td><td class=\"a-text-left mojo-field-type-release mojo-cell-wide\"><a class=\"a-link-normal\" href=\"/release/rl201754113/?ref_=bo_yld_table_101\">The Good Liar</a></td><td class=\"a-text-left mojo-field-type-genre hidden\">-</td><td class=\"a-text-right mojo-field-type-money hidden\">-</td><td class=\"a-text-right mojo-field-type-duration hidden\">-</td><td class=\"a-text-right mojo-field-type-money mojo-estimatable\">$182,779</td><td class=\"a-text-right mojo-field-type-positive_integer\">2,454</td><td class=\"a-text-right mojo-field-type-money mojo-estimatable\">$17,156,058</td><td class=\"a-text-left mojo-field-type-date a-nowrap\">Nov 15</td><td class=\"a-text-left mojo-field-type-studio\"><a class=\"a-link-normal\" href=\"https://pro.imdb.com/company/co0002663/boxoffice/?view=releases&amp;ref_=mojo_yld_table_101&amp;rf=mojo_yld_table_101\" rel=\"noopener\" target=\"_blank\">Warner Bros.<svg class=\"mojo-new-window-svg\" viewBox=\"0 0 32 32\" xmlns=\"http://www.w3.org/2000/svg\">\n",
       "        <path d=\"M24,15.57251l3,3V23.5A3.50424,3.50424,0,0,1,23.5,27H8.5A3.50424,3.50424,0,0,1,5,23.5V8.5A3.50424,3.50424,0,0,1,8.5,5h4.92755l3,3H8.5a.50641.50641,0,0,0-.5.5v15a.50641.50641,0,0,0,.5.5h15a.50641.50641,0,0,0,.5-.5ZM19.81952,8.56372,12.8844,17.75a.49989.49989,0,0,0,.04547.65479l.66534.66528a.49983.49983,0,0,0,.65479.04553l9.18628-6.93518,2.12579,2.12585a.5.5,0,0,0,.84741-.27526l1.48273-9.35108a.50006.50006,0,0,0-.57214-.57214L17.969,5.59058a.5.5,0,0,0-.27526.84741Z\"></path>\n",
       "    </svg></a></td><td class=\"a-text-right mojo-field-type-boolean hidden\">false</td></tr><tr><td class=\"a-text-right mojo-header-column mojo-truncate mojo-field-type-rank mojo-sort-column\">102</td><td class=\"a-text-left mojo-field-type-release mojo-cell-wide\"><a class=\"a-link-normal\" href=\"/release/rl632128001/?ref_=bo_yld_table_102\">And Then We Danced</a></td><td class=\"a-text-left mojo-field-type-genre hidden\">-</td><td class=\"a-text-right mojo-field-type-money hidden\">-</td><td class=\"a-text-right mojo-field-type-duration hidden\">-</td><td class=\"a-text-right mojo-field-type-money mojo-estimatable\">$177,262</td><td class=\"a-text-right mojo-field-type-positive_integer\">23</td><td class=\"a-text-right mojo-field-type-money mojo-estimatable\">$177,262</td><td class=\"a-text-left mojo-field-type-date a-nowrap\">Feb 7</td><td class=\"a-text-left mojo-field-type-studio\"><a class=\"a-link-normal\" href=\"https://pro.imdb.com/company/co0235025/boxoffice/?view=releases&amp;ref_=mojo_yld_table_102&amp;rf=mojo_yld_table_102\" rel=\"noopener\" target=\"_blank\">Music Box Films<svg class=\"mojo-new-window-svg\" viewBox=\"0 0 32 32\" xmlns=\"http://www.w3.org/2000/svg\">\n",
       "        <path d=\"M24,15.57251l3,3V23.5A3.50424,3.50424,0,0,1,23.5,27H8.5A3.50424,3.50424,0,0,1,5,23.5V8.5A3.50424,3.50424,0,0,1,8.5,5h4.92755l3,3H8.5a.50641.50641,0,0,0-.5.5v15a.50641.50641,0,0,0,.5.5h15a.50641.50641,0,0,0,.5-.5ZM19.81952,8.56372,12.8844,17.75a.49989.49989,0,0,0,.04547.65479l.66534.66528a.49983.49983,0,0,0,.65479.04553l9.18628-6.93518,2.12579,2.12585a.5.5,0,0,0,.84741-.27526l1.48273-9.35108a.50006.50006,0,0,0-.57214-.57214L17.969,5.59058a.5.5,0,0,0-.27526.84741Z\"></path>\n",
       "    </svg></a></td><td class=\"a-text-right mojo-field-type-boolean hidden\">false</td></tr><tr><td class=\"a-text-right mojo-header-column mojo-truncate mojo-field-type-rank mojo-sort-column\">103</td><td class=\"a-text-left mojo-field-type-release mojo-cell-wide\"><a class=\"a-link-normal\" href=\"/release/rl632652289/?ref_=bo_yld_table_103\">Beanpole</a></td><td class=\"a-text-left mojo-field-type-genre hidden\">-</td><td class=\"a-text-right mojo-field-type-money hidden\">-</td><td class=\"a-text-right mojo-field-type-duration hidden\">-</td><td class=\"a-text-right mojo-field-type-money mojo-estimatable\">$173,162</td><td class=\"a-text-right mojo-field-type-positive_integer\">35</td><td class=\"a-text-right mojo-field-type-money mojo-estimatable\">$196,258</td><td class=\"a-text-left mojo-field-type-date a-nowrap\">Jan 29</td><td class=\"a-text-left mojo-field-type-studio\"><a class=\"a-link-normal\" href=\"https://pro.imdb.com/company/co0291948/boxoffice/?view=releases&amp;ref_=mojo_yld_table_103&amp;rf=mojo_yld_table_103\" rel=\"noopener\" target=\"_blank\">Kino Lorber<svg class=\"mojo-new-window-svg\" viewBox=\"0 0 32 32\" xmlns=\"http://www.w3.org/2000/svg\">\n",
       "        <path d=\"M24,15.57251l3,3V23.5A3.50424,3.50424,0,0,1,23.5,27H8.5A3.50424,3.50424,0,0,1,5,23.5V8.5A3.50424,3.50424,0,0,1,8.5,5h4.92755l3,3H8.5a.50641.50641,0,0,0-.5.5v15a.50641.50641,0,0,0,.5.5h15a.50641.50641,0,0,0,.5-.5ZM19.81952,8.56372,12.8844,17.75a.49989.49989,0,0,0,.04547.65479l.66534.66528a.49983.49983,0,0,0,.65479.04553l9.18628-6.93518,2.12579,2.12585a.5.5,0,0,0,.84741-.27526l1.48273-9.35108a.50006.50006,0,0,0-.57214-.57214L17.969,5.59058a.5.5,0,0,0-.27526.84741Z\"></path>\n",
       "    </svg></a></td><td class=\"a-text-right mojo-field-type-boolean hidden\">false</td></tr><tr><td class=\"a-text-right mojo-header-column mojo-truncate mojo-field-type-rank mojo-sort-column\">104</td><td class=\"a-text-left mojo-field-type-release mojo-cell-wide\"><a class=\"a-link-normal\" href=\"/release/rl2562359809/?ref_=bo_yld_table_104\">Extra Ordinary</a></td><td class=\"a-text-left mojo-field-type-genre hidden\">-</td><td class=\"a-text-right mojo-field-type-money hidden\">-</td><td class=\"a-text-right mojo-field-type-duration hidden\">-</td><td class=\"a-text-right mojo-field-type-money mojo-estimatable\">$164,346</td><td class=\"a-text-right mojo-field-type-positive_integer\">80</td><td class=\"a-text-right mojo-field-type-money mojo-estimatable\">$164,346</td><td class=\"a-text-left mojo-field-type-date a-nowrap\">Mar 6</td><td class=\"a-text-left mojo-field-type-studio\"><a class=\"a-link-normal\" href=\"https://pro.imdb.com/company/co0479745/boxoffice/?view=releases&amp;ref_=mojo_yld_table_104&amp;rf=mojo_yld_table_104\" rel=\"noopener\" target=\"_blank\">Good Deed Entertainment<svg class=\"mojo-new-window-svg\" viewBox=\"0 0 32 32\" xmlns=\"http://www.w3.org/2000/svg\">\n",
       "        <path d=\"M24,15.57251l3,3V23.5A3.50424,3.50424,0,0,1,23.5,27H8.5A3.50424,3.50424,0,0,1,5,23.5V8.5A3.50424,3.50424,0,0,1,8.5,5h4.92755l3,3H8.5a.50641.50641,0,0,0-.5.5v15a.50641.50641,0,0,0,.5.5h15a.50641.50641,0,0,0,.5-.5ZM19.81952,8.56372,12.8844,17.75a.49989.49989,0,0,0,.04547.65479l.66534.66528a.49983.49983,0,0,0,.65479.04553l9.18628-6.93518,2.12579,2.12585a.5.5,0,0,0,.84741-.27526l1.48273-9.35108a.50006.50006,0,0,0-.57214-.57214L17.969,5.59058a.5.5,0,0,0-.27526.84741Z\"></path>\n",
       "    </svg></a></td><td class=\"a-text-right mojo-field-type-boolean hidden\">false</td></tr><tr><td class=\"a-text-right mojo-header-column mojo-truncate mojo-field-type-rank mojo-sort-column\">105</td><td class=\"a-text-left mojo-field-type-release mojo-cell-wide\"><a class=\"a-link-normal\" href=\"/release/rl934707713/?ref_=bo_yld_table_105\">Love Story</a><div class=\"a-section a-spacing-none\"><span class=\"a-size-small a-color-secondary\">50th Anniversary</span></div></td><td class=\"a-text-left mojo-field-type-genre hidden\">-</td><td class=\"a-text-right mojo-field-type-money hidden\">-</td><td class=\"a-text-right mojo-field-type-duration hidden\">-</td><td class=\"a-text-right mojo-field-type-money mojo-estimatable\">$153,504</td><td class=\"a-text-right mojo-field-type-positive_integer\">650</td><td class=\"a-text-right mojo-field-type-money mojo-estimatable\">$153,504</td><td class=\"a-text-left mojo-field-type-date a-nowrap\">Feb 9</td><td class=\"a-text-left mojo-field-type-studio\"><a class=\"a-link-normal\" href=\"https://pro.imdb.com/company/co0360057/boxoffice/?view=releases&amp;ref_=mojo_yld_table_105&amp;rf=mojo_yld_table_105\" rel=\"noopener\" target=\"_blank\">Fathom Events<svg class=\"mojo-new-window-svg\" viewBox=\"0 0 32 32\" xmlns=\"http://www.w3.org/2000/svg\">\n",
       "        <path d=\"M24,15.57251l3,3V23.5A3.50424,3.50424,0,0,1,23.5,27H8.5A3.50424,3.50424,0,0,1,5,23.5V8.5A3.50424,3.50424,0,0,1,8.5,5h4.92755l3,3H8.5a.50641.50641,0,0,0-.5.5v15a.50641.50641,0,0,0,.5.5h15a.50641.50641,0,0,0,.5-.5ZM19.81952,8.56372,12.8844,17.75a.49989.49989,0,0,0,.04547.65479l.66534.66528a.49983.49983,0,0,0,.65479.04553l9.18628-6.93518,2.12579,2.12585a.5.5,0,0,0,.84741-.27526l1.48273-9.35108a.50006.50006,0,0,0-.57214-.57214L17.969,5.59058a.5.5,0,0,0-.27526.84741Z\"></path>\n",
       "    </svg></a></td><td class=\"a-text-right mojo-field-type-boolean hidden\">false</td></tr><tr><td class=\"a-text-right mojo-header-column mojo-truncate mojo-field-type-rank mojo-sort-column\">106</td><td class=\"a-text-left mojo-field-type-release mojo-cell-wide\"><a class=\"a-link-normal\" href=\"/release/rl2830729729/?ref_=bo_yld_table_106\">Wendy</a></td><td class=\"a-text-left mojo-field-type-genre hidden\">-</td><td class=\"a-text-right mojo-field-type-money hidden\">-</td><td class=\"a-text-right mojo-field-type-duration hidden\">-</td><td class=\"a-text-right mojo-field-type-money mojo-estimatable\">$143,518</td><td class=\"a-text-right mojo-field-type-positive_integer\">165</td><td class=\"a-text-right mojo-field-type-money mojo-estimatable\">$143,518</td><td class=\"a-text-left mojo-field-type-date a-nowrap\">Feb 28</td><td class=\"a-text-left mojo-field-type-studio\"><a class=\"a-link-normal\" href=\"https://pro.imdb.com/company/co0028932/boxoffice/?view=releases&amp;ref_=mojo_yld_table_106&amp;rf=mojo_yld_table_106\" rel=\"noopener\" target=\"_blank\">Fox Searchlight Pictures<svg class=\"mojo-new-window-svg\" viewBox=\"0 0 32 32\" xmlns=\"http://www.w3.org/2000/svg\">\n",
       "        <path d=\"M24,15.57251l3,3V23.5A3.50424,3.50424,0,0,1,23.5,27H8.5A3.50424,3.50424,0,0,1,5,23.5V8.5A3.50424,3.50424,0,0,1,8.5,5h4.92755l3,3H8.5a.50641.50641,0,0,0-.5.5v15a.50641.50641,0,0,0,.5.5h15a.50641.50641,0,0,0,.5-.5ZM19.81952,8.56372,12.8844,17.75a.49989.49989,0,0,0,.04547.65479l.66534.66528a.49983.49983,0,0,0,.65479.04553l9.18628-6.93518,2.12579,2.12585a.5.5,0,0,0,.84741-.27526l1.48273-9.35108a.50006.50006,0,0,0-.57214-.57214L17.969,5.59058a.5.5,0,0,0-.27526.84741Z\"></path>\n",
       "    </svg></a></td><td class=\"a-text-right mojo-field-type-boolean hidden\">false</td></tr><tr><td class=\"a-text-right mojo-header-column mojo-truncate mojo-field-type-rank mojo-sort-column\">107</td><td class=\"a-text-left mojo-field-type-release mojo-cell-wide\"><a class=\"a-link-normal\" href=\"/release/rl3634725377/?ref_=bo_yld_table_107\">Incitement</a></td><td class=\"a-text-left mojo-field-type-genre hidden\">-</td><td class=\"a-text-right mojo-field-type-money hidden\">-</td><td class=\"a-text-right mojo-field-type-duration hidden\">-</td><td class=\"a-text-right mojo-field-type-money mojo-estimatable\">$140,306</td><td class=\"a-text-right mojo-field-type-positive_integer\">21</td><td class=\"a-text-right mojo-field-type-money mojo-estimatable\">$140,306</td><td class=\"a-text-left mojo-field-type-date a-nowrap\">Jan 31</td><td class=\"a-text-left mojo-field-type-studio\"><a class=\"a-link-normal\" href=\"https://pro.imdb.com/company/co0662464/boxoffice/?view=releases&amp;ref_=mojo_yld_table_107&amp;rf=mojo_yld_table_107\" rel=\"noopener\" target=\"_blank\">Greenwich Entertainment<svg class=\"mojo-new-window-svg\" viewBox=\"0 0 32 32\" xmlns=\"http://www.w3.org/2000/svg\">\n",
       "        <path d=\"M24,15.57251l3,3V23.5A3.50424,3.50424,0,0,1,23.5,27H8.5A3.50424,3.50424,0,0,1,5,23.5V8.5A3.50424,3.50424,0,0,1,8.5,5h4.92755l3,3H8.5a.50641.50641,0,0,0-.5.5v15a.50641.50641,0,0,0,.5.5h15a.50641.50641,0,0,0,.5-.5ZM19.81952,8.56372,12.8844,17.75a.49989.49989,0,0,0,.04547.65479l.66534.66528a.49983.49983,0,0,0,.65479.04553l9.18628-6.93518,2.12579,2.12585a.5.5,0,0,0,.84741-.27526l1.48273-9.35108a.50006.50006,0,0,0-.57214-.57214L17.969,5.59058a.5.5,0,0,0-.27526.84741Z\"></path>\n",
       "    </svg></a></td><td class=\"a-text-right mojo-field-type-boolean hidden\">false</td></tr><tr><td class=\"a-text-right mojo-header-column mojo-truncate mojo-field-type-rank mojo-sort-column\">108</td><td class=\"a-text-left mojo-field-type-release mojo-cell-wide\"><a class=\"a-link-normal\" href=\"/release/rl2936571393/?ref_=bo_yld_table_108\">Burden</a></td><td class=\"a-text-left mojo-field-type-genre hidden\">-</td><td class=\"a-text-right mojo-field-type-money hidden\">-</td><td class=\"a-text-right mojo-field-type-duration hidden\">-</td><td class=\"a-text-right mojo-field-type-money mojo-estimatable\">$139,270</td><td class=\"a-text-right mojo-field-type-positive_integer\">109</td><td class=\"a-text-right mojo-field-type-money mojo-estimatable\">$139,270</td><td class=\"a-text-left mojo-field-type-date a-nowrap\">Feb 28</td><td class=\"a-text-left mojo-field-type-studio\"><a class=\"a-link-normal\" href=\"https://pro.imdb.com/company/co0703551/boxoffice/?view=releases&amp;ref_=mojo_yld_table_108&amp;rf=mojo_yld_table_108\" rel=\"noopener\" target=\"_blank\">101 Studios<svg class=\"mojo-new-window-svg\" viewBox=\"0 0 32 32\" xmlns=\"http://www.w3.org/2000/svg\">\n",
       "        <path d=\"M24,15.57251l3,3V23.5A3.50424,3.50424,0,0,1,23.5,27H8.5A3.50424,3.50424,0,0,1,5,23.5V8.5A3.50424,3.50424,0,0,1,8.5,5h4.92755l3,3H8.5a.50641.50641,0,0,0-.5.5v15a.50641.50641,0,0,0,.5.5h15a.50641.50641,0,0,0,.5-.5ZM19.81952,8.56372,12.8844,17.75a.49989.49989,0,0,0,.04547.65479l.66534.66528a.49983.49983,0,0,0,.65479.04553l9.18628-6.93518,2.12579,2.12585a.5.5,0,0,0,.84741-.27526l1.48273-9.35108a.50006.50006,0,0,0-.57214-.57214L17.969,5.59058a.5.5,0,0,0-.27526.84741Z\"></path>\n",
       "    </svg></a></td><td class=\"a-text-right mojo-field-type-boolean hidden\">false</td></tr><tr><td class=\"a-text-right mojo-header-column mojo-truncate mojo-field-type-rank mojo-sort-column\">109</td><td class=\"a-text-left mojo-field-type-release mojo-cell-wide\"><a class=\"a-link-normal\" href=\"/release/rl1588822529/?ref_=bo_yld_table_109\">Beneath Us</a></td><td class=\"a-text-left mojo-field-type-genre hidden\">-</td><td class=\"a-text-right mojo-field-type-money hidden\">-</td><td class=\"a-text-right mojo-field-type-duration hidden\">-</td><td class=\"a-text-right mojo-field-type-money mojo-estimatable\">$137,260</td><td class=\"a-text-right mojo-field-type-positive_integer\">162</td><td class=\"a-text-right mojo-field-type-money mojo-estimatable\">$137,260</td><td class=\"a-text-left mojo-field-type-date a-nowrap\">Mar 6</td><td class=\"a-text-left mojo-field-type-studio\"><a class=\"a-link-normal\" href=\"https://pro.imdb.com/company/co0232371/boxoffice/?view=releases&amp;ref_=mojo_yld_table_109&amp;rf=mojo_yld_table_109\" rel=\"noopener\" target=\"_blank\">Vital Pictures<svg class=\"mojo-new-window-svg\" viewBox=\"0 0 32 32\" xmlns=\"http://www.w3.org/2000/svg\">\n",
       "        <path d=\"M24,15.57251l3,3V23.5A3.50424,3.50424,0,0,1,23.5,27H8.5A3.50424,3.50424,0,0,1,5,23.5V8.5A3.50424,3.50424,0,0,1,8.5,5h4.92755l3,3H8.5a.50641.50641,0,0,0-.5.5v15a.50641.50641,0,0,0,.5.5h15a.50641.50641,0,0,0,.5-.5ZM19.81952,8.56372,12.8844,17.75a.49989.49989,0,0,0,.04547.65479l.66534.66528a.49983.49983,0,0,0,.65479.04553l9.18628-6.93518,2.12579,2.12585a.5.5,0,0,0,.84741-.27526l1.48273-9.35108a.50006.50006,0,0,0-.57214-.57214L17.969,5.59058a.5.5,0,0,0-.27526.84741Z\"></path>\n",
       "    </svg></a></td><td class=\"a-text-right mojo-field-type-boolean hidden\">false</td></tr><tr><td class=\"a-text-right mojo-header-column mojo-truncate mojo-field-type-rank mojo-sort-column\">110</td><td class=\"a-text-left mojo-field-type-release mojo-cell-wide\"><a class=\"a-link-normal\" href=\"/release/rl380207617/?ref_=bo_yld_table_110\">The Times of Bill Cunningham</a></td><td class=\"a-text-left mojo-field-type-genre hidden\">-</td><td class=\"a-text-right mojo-field-type-money hidden\">-</td><td class=\"a-text-right mojo-field-type-duration hidden\">-</td><td class=\"a-text-right mojo-field-type-money mojo-estimatable\">$134,288</td><td class=\"a-text-right mojo-field-type-positive_integer\">19</td><td class=\"a-text-right mojo-field-type-money mojo-estimatable\">$134,288</td><td class=\"a-text-left mojo-field-type-date a-nowrap\">Feb 14</td><td class=\"a-text-left mojo-field-type-studio\"><a class=\"a-link-normal\" href=\"https://pro.imdb.com/company/co0662464/boxoffice/?view=releases&amp;ref_=mojo_yld_table_110&amp;rf=mojo_yld_table_110\" rel=\"noopener\" target=\"_blank\">Greenwich Entertainment<svg class=\"mojo-new-window-svg\" viewBox=\"0 0 32 32\" xmlns=\"http://www.w3.org/2000/svg\">\n",
       "        <path d=\"M24,15.57251l3,3V23.5A3.50424,3.50424,0,0,1,23.5,27H8.5A3.50424,3.50424,0,0,1,5,23.5V8.5A3.50424,3.50424,0,0,1,8.5,5h4.92755l3,3H8.5a.50641.50641,0,0,0-.5.5v15a.50641.50641,0,0,0,.5.5h15a.50641.50641,0,0,0,.5-.5ZM19.81952,8.56372,12.8844,17.75a.49989.49989,0,0,0,.04547.65479l.66534.66528a.49983.49983,0,0,0,.65479.04553l9.18628-6.93518,2.12579,2.12585a.5.5,0,0,0,.84741-.27526l1.48273-9.35108a.50006.50006,0,0,0-.57214-.57214L17.969,5.59058a.5.5,0,0,0-.27526.84741Z\"></path>\n",
       "    </svg></a></td><td class=\"a-text-right mojo-field-type-boolean hidden\">false</td></tr><tr><td class=\"a-text-right mojo-header-column mojo-truncate mojo-field-type-rank mojo-sort-column\">111</td><td class=\"a-text-left mojo-field-type-release mojo-cell-wide\"><a class=\"a-link-normal\" href=\"/release/rl4120674817/?ref_=bo_yld_table_111\">No Safe Spaces</a></td><td class=\"a-text-left mojo-field-type-genre hidden\">-</td><td class=\"a-text-right mojo-field-type-money hidden\">-</td><td class=\"a-text-right mojo-field-type-duration hidden\">-</td><td class=\"a-text-right mojo-field-type-money mojo-estimatable\">$132,155</td><td class=\"a-text-right mojo-field-type-positive_integer\">200</td><td class=\"a-text-right mojo-field-type-money mojo-estimatable\">$1,291,514</td><td class=\"a-text-left mojo-field-type-date a-nowrap\">Oct 25</td><td class=\"a-text-left mojo-field-type-studio\"><a class=\"a-link-normal\" href=\"https://pro.imdb.com/company/co0390285/boxoffice/?view=releases&amp;ref_=mojo_yld_table_111&amp;rf=mojo_yld_table_111\" rel=\"noopener\" target=\"_blank\">Atlas Distribution Company<svg class=\"mojo-new-window-svg\" viewBox=\"0 0 32 32\" xmlns=\"http://www.w3.org/2000/svg\">\n",
       "        <path d=\"M24,15.57251l3,3V23.5A3.50424,3.50424,0,0,1,23.5,27H8.5A3.50424,3.50424,0,0,1,5,23.5V8.5A3.50424,3.50424,0,0,1,8.5,5h4.92755l3,3H8.5a.50641.50641,0,0,0-.5.5v15a.50641.50641,0,0,0,.5.5h15a.50641.50641,0,0,0,.5-.5ZM19.81952,8.56372,12.8844,17.75a.49989.49989,0,0,0,.04547.65479l.66534.66528a.49983.49983,0,0,0,.65479.04553l9.18628-6.93518,2.12579,2.12585a.5.5,0,0,0,.84741-.27526l1.48273-9.35108a.50006.50006,0,0,0-.57214-.57214L17.969,5.59058a.5.5,0,0,0-.27526.84741Z\"></path>\n",
       "    </svg></a></td><td class=\"a-text-right mojo-field-type-boolean hidden\">false</td></tr><tr><td class=\"a-text-right mojo-header-column mojo-truncate mojo-field-type-rank mojo-sort-column\">112</td><td class=\"a-text-left mojo-field-type-release mojo-cell-wide\"><a class=\"a-link-normal\" href=\"/release/rl2361229825/?ref_=bo_yld_table_112\">14 Days, 12 Nights</a></td><td class=\"a-text-left mojo-field-type-genre hidden\">-</td><td class=\"a-text-right mojo-field-type-money hidden\">-</td><td class=\"a-text-right mojo-field-type-duration hidden\">-</td><td class=\"a-text-right mojo-field-type-money mojo-estimatable\">$122,530</td><td class=\"a-text-right mojo-field-type-positive_integer\">19</td><td class=\"a-text-right mojo-field-type-money mojo-estimatable\">$122,530</td><td class=\"a-text-left mojo-field-type-date a-nowrap\">Mar 6</td><td class=\"a-text-left mojo-field-type-studio\"><a class=\"a-link-normal\" href=\"https://pro.imdb.com/company/co0051618/boxoffice/?view=releases&amp;ref_=mojo_yld_table_112&amp;rf=mojo_yld_table_112\" rel=\"noopener\" target=\"_blank\">Entertainment One<svg class=\"mojo-new-window-svg\" viewBox=\"0 0 32 32\" xmlns=\"http://www.w3.org/2000/svg\">\n",
       "        <path d=\"M24,15.57251l3,3V23.5A3.50424,3.50424,0,0,1,23.5,27H8.5A3.50424,3.50424,0,0,1,5,23.5V8.5A3.50424,3.50424,0,0,1,8.5,5h4.92755l3,3H8.5a.50641.50641,0,0,0-.5.5v15a.50641.50641,0,0,0,.5.5h15a.50641.50641,0,0,0,.5-.5ZM19.81952,8.56372,12.8844,17.75a.49989.49989,0,0,0,.04547.65479l.66534.66528a.49983.49983,0,0,0,.65479.04553l9.18628-6.93518,2.12579,2.12585a.5.5,0,0,0,.84741-.27526l1.48273-9.35108a.50006.50006,0,0,0-.57214-.57214L17.969,5.59058a.5.5,0,0,0-.27526.84741Z\"></path>\n",
       "    </svg></a></td><td class=\"a-text-right mojo-field-type-boolean hidden\">false</td></tr><tr><td class=\"a-text-right mojo-header-column mojo-truncate mojo-field-type-rank mojo-sort-column\">113</td><td class=\"a-text-left mojo-field-type-release mojo-cell-wide\"><a class=\"a-link-normal\" href=\"/release/rl4121592321/?ref_=bo_yld_table_113\">Invisible Life</a></td><td class=\"a-text-left mojo-field-type-genre hidden\">-</td><td class=\"a-text-right mojo-field-type-money hidden\">-</td><td class=\"a-text-right mojo-field-type-duration hidden\">-</td><td class=\"a-text-right mojo-field-type-money mojo-estimatable\">$122,316</td><td class=\"a-text-right mojo-field-type-positive_integer\">18</td><td class=\"a-text-right mojo-field-type-money mojo-estimatable\">$146,535</td><td class=\"a-text-left mojo-field-type-date a-nowrap\">Dec 20</td><td class=\"a-text-left mojo-field-type-studio\"><a class=\"a-link-normal\" href=\"https://pro.imdb.com/company/co0319272/boxoffice/?view=releases&amp;ref_=mojo_yld_table_113&amp;rf=mojo_yld_table_113\" rel=\"noopener\" target=\"_blank\">Amazon Studios<svg class=\"mojo-new-window-svg\" viewBox=\"0 0 32 32\" xmlns=\"http://www.w3.org/2000/svg\">\n",
       "        <path d=\"M24,15.57251l3,3V23.5A3.50424,3.50424,0,0,1,23.5,27H8.5A3.50424,3.50424,0,0,1,5,23.5V8.5A3.50424,3.50424,0,0,1,8.5,5h4.92755l3,3H8.5a.50641.50641,0,0,0-.5.5v15a.50641.50641,0,0,0,.5.5h15a.50641.50641,0,0,0,.5-.5ZM19.81952,8.56372,12.8844,17.75a.49989.49989,0,0,0,.04547.65479l.66534.66528a.49983.49983,0,0,0,.65479.04553l9.18628-6.93518,2.12579,2.12585a.5.5,0,0,0,.84741-.27526l1.48273-9.35108a.50006.50006,0,0,0-.57214-.57214L17.969,5.59058a.5.5,0,0,0-.27526.84741Z\"></path>\n",
       "    </svg></a></td><td class=\"a-text-right mojo-field-type-boolean hidden\">false</td></tr><tr><td class=\"a-text-right mojo-header-column mojo-truncate mojo-field-type-rank mojo-sort-column\">114</td><td class=\"a-text-left mojo-field-type-release mojo-cell-wide\"><a class=\"a-link-normal\" href=\"/release/rl95584769/?ref_=bo_yld_table_114\">The Man Standing Next</a></td><td class=\"a-text-left mojo-field-type-genre hidden\">-</td><td class=\"a-text-right mojo-field-type-money hidden\">-</td><td class=\"a-text-right mojo-field-type-duration hidden\">-</td><td class=\"a-text-right mojo-field-type-money mojo-estimatable\">$112,915</td><td class=\"a-text-right mojo-field-type-positive_integer\">22</td><td class=\"a-text-right mojo-field-type-money mojo-estimatable\">$113,527</td><td class=\"a-text-left mojo-field-type-date a-nowrap\">Jan 24</td><td class=\"a-text-left mojo-field-type-studio\"><a class=\"a-link-normal\" href=\"https://pro.imdb.com/company/co0151501/boxoffice/?view=releases&amp;ref_=mojo_yld_table_114&amp;rf=mojo_yld_table_114\" rel=\"noopener\" target=\"_blank\">Capelight Pictures<svg class=\"mojo-new-window-svg\" viewBox=\"0 0 32 32\" xmlns=\"http://www.w3.org/2000/svg\">\n",
       "        <path d=\"M24,15.57251l3,3V23.5A3.50424,3.50424,0,0,1,23.5,27H8.5A3.50424,3.50424,0,0,1,5,23.5V8.5A3.50424,3.50424,0,0,1,8.5,5h4.92755l3,3H8.5a.50641.50641,0,0,0-.5.5v15a.50641.50641,0,0,0,.5.5h15a.50641.50641,0,0,0,.5-.5ZM19.81952,8.56372,12.8844,17.75a.49989.49989,0,0,0,.04547.65479l.66534.66528a.49983.49983,0,0,0,.65479.04553l9.18628-6.93518,2.12579,2.12585a.5.5,0,0,0,.84741-.27526l1.48273-9.35108a.50006.50006,0,0,0-.57214-.57214L17.969,5.59058a.5.5,0,0,0-.27526.84741Z\"></path>\n",
       "    </svg></a></td><td class=\"a-text-right mojo-field-type-boolean hidden\">false</td></tr><tr><td class=\"a-text-right mojo-header-column mojo-truncate mojo-field-type-rank mojo-sort-column\">115</td><td class=\"a-text-left mojo-field-type-release mojo-cell-wide\"><a class=\"a-link-normal\" href=\"/release/rl3501621761/?ref_=bo_yld_table_115\">Corpus Christi</a></td><td class=\"a-text-left mojo-field-type-genre hidden\">-</td><td class=\"a-text-right mojo-field-type-money hidden\">-</td><td class=\"a-text-right mojo-field-type-duration hidden\">-</td><td class=\"a-text-right mojo-field-type-money mojo-estimatable\">$110,430</td><td class=\"a-text-right mojo-field-type-positive_integer\">23</td><td class=\"a-text-right mojo-field-type-money mojo-estimatable\">$127,240</td><td class=\"a-text-left mojo-field-type-date a-nowrap\">Feb 14</td><td class=\"a-text-left mojo-field-type-studio\"><a class=\"a-link-normal\" href=\"https://pro.imdb.com/company/co0087326/boxoffice/?view=releases&amp;ref_=mojo_yld_table_115&amp;rf=mojo_yld_table_115\" rel=\"noopener\" target=\"_blank\">Film Movement<svg class=\"mojo-new-window-svg\" viewBox=\"0 0 32 32\" xmlns=\"http://www.w3.org/2000/svg\">\n",
       "        <path d=\"M24,15.57251l3,3V23.5A3.50424,3.50424,0,0,1,23.5,27H8.5A3.50424,3.50424,0,0,1,5,23.5V8.5A3.50424,3.50424,0,0,1,8.5,5h4.92755l3,3H8.5a.50641.50641,0,0,0-.5.5v15a.50641.50641,0,0,0,.5.5h15a.50641.50641,0,0,0,.5-.5ZM19.81952,8.56372,12.8844,17.75a.49989.49989,0,0,0,.04547.65479l.66534.66528a.49983.49983,0,0,0,.65479.04553l9.18628-6.93518,2.12579,2.12585a.5.5,0,0,0,.84741-.27526l1.48273-9.35108a.50006.50006,0,0,0-.57214-.57214L17.969,5.59058a.5.5,0,0,0-.27526.84741Z\"></path>\n",
       "    </svg></a></td><td class=\"a-text-right mojo-field-type-boolean hidden\">false</td></tr><tr><td class=\"a-text-right mojo-header-column mojo-truncate mojo-field-type-rank mojo-sort-column\">116</td><td class=\"a-text-left mojo-field-type-release mojo-cell-wide\"><a class=\"a-link-normal\" href=\"/release/rl3484516865/?ref_=bo_yld_table_116\">Hope Gap</a></td><td class=\"a-text-left mojo-field-type-genre hidden\">-</td><td class=\"a-text-right mojo-field-type-money hidden\">-</td><td class=\"a-text-right mojo-field-type-duration hidden\">-</td><td class=\"a-text-right mojo-field-type-money mojo-estimatable\">$104,732</td><td class=\"a-text-right mojo-field-type-positive_integer\">132</td><td class=\"a-text-right mojo-field-type-money mojo-estimatable\">$104,732</td><td class=\"a-text-left mojo-field-type-date a-nowrap\">Mar 6</td><td class=\"a-text-left mojo-field-type-studio\"><a class=\"a-link-normal\" href=\"https://pro.imdb.com/company/co0017716/boxoffice/?view=releases&amp;ref_=mojo_yld_table_116&amp;rf=mojo_yld_table_116\" rel=\"noopener\" target=\"_blank\">Roadside Attractions<svg class=\"mojo-new-window-svg\" viewBox=\"0 0 32 32\" xmlns=\"http://www.w3.org/2000/svg\">\n",
       "        <path d=\"M24,15.57251l3,3V23.5A3.50424,3.50424,0,0,1,23.5,27H8.5A3.50424,3.50424,0,0,1,5,23.5V8.5A3.50424,3.50424,0,0,1,8.5,5h4.92755l3,3H8.5a.50641.50641,0,0,0-.5.5v15a.50641.50641,0,0,0,.5.5h15a.50641.50641,0,0,0,.5-.5ZM19.81952,8.56372,12.8844,17.75a.49989.49989,0,0,0,.04547.65479l.66534.66528a.49983.49983,0,0,0,.65479.04553l9.18628-6.93518,2.12579,2.12585a.5.5,0,0,0,.84741-.27526l1.48273-9.35108a.50006.50006,0,0,0-.57214-.57214L17.969,5.59058a.5.5,0,0,0-.27526.84741Z\"></path>\n",
       "    </svg></a></td><td class=\"a-text-right mojo-field-type-boolean hidden\">false</td></tr><tr><td class=\"a-text-right mojo-header-column mojo-truncate mojo-field-type-rank mojo-sort-column\">117</td><td class=\"a-text-left mojo-field-type-release mojo-cell-wide\"><a class=\"a-link-normal\" href=\"/release/rl4245390849/?ref_=bo_yld_table_117\">Citizen K</a></td><td class=\"a-text-left mojo-field-type-genre hidden\">-</td><td class=\"a-text-right mojo-field-type-money hidden\">-</td><td class=\"a-text-right mojo-field-type-duration hidden\">-</td><td class=\"a-text-right mojo-field-type-money mojo-estimatable\">$102,707</td><td class=\"a-text-right mojo-field-type-positive_integer\">15</td><td class=\"a-text-right mojo-field-type-money mojo-estimatable\">$120,411</td><td class=\"a-text-left mojo-field-type-date a-nowrap\">Nov 22</td><td class=\"a-text-left mojo-field-type-studio\"><a class=\"a-link-normal\" href=\"https://pro.imdb.com/company/co0662464/boxoffice/?view=releases&amp;ref_=mojo_yld_table_117&amp;rf=mojo_yld_table_117\" rel=\"noopener\" target=\"_blank\">Greenwich Entertainment<svg class=\"mojo-new-window-svg\" viewBox=\"0 0 32 32\" xmlns=\"http://www.w3.org/2000/svg\">\n",
       "        <path d=\"M24,15.57251l3,3V23.5A3.50424,3.50424,0,0,1,23.5,27H8.5A3.50424,3.50424,0,0,1,5,23.5V8.5A3.50424,3.50424,0,0,1,8.5,5h4.92755l3,3H8.5a.50641.50641,0,0,0-.5.5v15a.50641.50641,0,0,0,.5.5h15a.50641.50641,0,0,0,.5-.5ZM19.81952,8.56372,12.8844,17.75a.49989.49989,0,0,0,.04547.65479l.66534.66528a.49983.49983,0,0,0,.65479.04553l9.18628-6.93518,2.12579,2.12585a.5.5,0,0,0,.84741-.27526l1.48273-9.35108a.50006.50006,0,0,0-.57214-.57214L17.969,5.59058a.5.5,0,0,0-.27526.84741Z\"></path>\n",
       "    </svg></a></td><td class=\"a-text-right mojo-field-type-boolean hidden\">false</td></tr><tr><td class=\"a-text-right mojo-header-column mojo-truncate mojo-field-type-rank mojo-sort-column\">118</td><td class=\"a-text-left mojo-field-type-release mojo-cell-wide\"><a class=\"a-link-normal\" href=\"/release/rl2114684417/?ref_=bo_yld_table_118\">First Cow</a></td><td class=\"a-text-left mojo-field-type-genre hidden\">-</td><td class=\"a-text-right mojo-field-type-money hidden\">-</td><td class=\"a-text-right mojo-field-type-duration hidden\">-</td><td class=\"a-text-right mojo-field-type-money mojo-estimatable\">$101,068</td><td class=\"a-text-right mojo-field-type-positive_integer\">25</td><td class=\"a-text-right mojo-field-type-money mojo-estimatable\">$101,068</td><td class=\"a-text-left mojo-field-type-date a-nowrap\">Mar 6</td><td class=\"a-text-left mojo-field-type-studio\"><a class=\"a-link-normal\" href=\"https://pro.imdb.com/company/co0390816/boxoffice/?view=releases&amp;ref_=mojo_yld_table_118&amp;rf=mojo_yld_table_118\" rel=\"noopener\" target=\"_blank\">A24<svg class=\"mojo-new-window-svg\" viewBox=\"0 0 32 32\" xmlns=\"http://www.w3.org/2000/svg\">\n",
       "        <path d=\"M24,15.57251l3,3V23.5A3.50424,3.50424,0,0,1,23.5,27H8.5A3.50424,3.50424,0,0,1,5,23.5V8.5A3.50424,3.50424,0,0,1,8.5,5h4.92755l3,3H8.5a.50641.50641,0,0,0-.5.5v15a.50641.50641,0,0,0,.5.5h15a.50641.50641,0,0,0,.5-.5ZM19.81952,8.56372,12.8844,17.75a.49989.49989,0,0,0,.04547.65479l.66534.66528a.49983.49983,0,0,0,.65479.04553l9.18628-6.93518,2.12579,2.12585a.5.5,0,0,0,.84741-.27526l1.48273-9.35108a.50006.50006,0,0,0-.57214-.57214L17.969,5.59058a.5.5,0,0,0-.27526.84741Z\"></path>\n",
       "    </svg></a></td><td class=\"a-text-right mojo-field-type-boolean hidden\">false</td></tr><tr><td class=\"a-text-right mojo-header-column mojo-truncate mojo-field-type-rank mojo-sort-column\">119</td><td class=\"a-text-left mojo-field-type-release mojo-cell-wide\"><a class=\"a-link-normal\" href=\"/release/rl2534114817/?ref_=bo_yld_table_119\">The Woman Who Loves Giraffes</a></td><td class=\"a-text-left mojo-field-type-genre hidden\">-</td><td class=\"a-text-right mojo-field-type-money hidden\">-</td><td class=\"a-text-right mojo-field-type-duration hidden\">-</td><td class=\"a-text-right mojo-field-type-money mojo-estimatable\">$97,386</td><td class=\"a-text-right mojo-field-type-positive_integer\">22</td><td class=\"a-text-right mojo-field-type-money mojo-estimatable\">$113,858</td><td class=\"a-text-left mojo-field-type-date a-nowrap\">Oct 4</td><td class=\"a-text-left mojo-field-type-studio\"><a class=\"a-link-normal\" href=\"https://pro.imdb.com/company/co0078470/boxoffice/?view=releases&amp;ref_=mojo_yld_table_119&amp;rf=mojo_yld_table_119\" rel=\"noopener\" target=\"_blank\">Zeitgeist Films<svg class=\"mojo-new-window-svg\" viewBox=\"0 0 32 32\" xmlns=\"http://www.w3.org/2000/svg\">\n",
       "        <path d=\"M24,15.57251l3,3V23.5A3.50424,3.50424,0,0,1,23.5,27H8.5A3.50424,3.50424,0,0,1,5,23.5V8.5A3.50424,3.50424,0,0,1,8.5,5h4.92755l3,3H8.5a.50641.50641,0,0,0-.5.5v15a.50641.50641,0,0,0,.5.5h15a.50641.50641,0,0,0,.5-.5ZM19.81952,8.56372,12.8844,17.75a.49989.49989,0,0,0,.04547.65479l.66534.66528a.49983.49983,0,0,0,.65479.04553l9.18628-6.93518,2.12579,2.12585a.5.5,0,0,0,.84741-.27526l1.48273-9.35108a.50006.50006,0,0,0-.57214-.57214L17.969,5.59058a.5.5,0,0,0-.27526.84741Z\"></path>\n",
       "    </svg></a></td><td class=\"a-text-right mojo-field-type-boolean hidden\">false</td></tr><tr><td class=\"a-text-right mojo-header-column mojo-truncate mojo-field-type-rank mojo-sort-column\">120</td><td class=\"a-text-left mojo-field-type-release mojo-cell-wide\"><a class=\"a-link-normal\" href=\"/release/rl2192867841/?ref_=bo_yld_table_120\">Come to Daddy</a></td><td class=\"a-text-left mojo-field-type-genre hidden\">-</td><td class=\"a-text-right mojo-field-type-money hidden\">-</td><td class=\"a-text-right mojo-field-type-duration hidden\">-</td><td class=\"a-text-right mojo-field-type-money mojo-estimatable\">$96,713</td><td class=\"a-text-right mojo-field-type-positive_integer\">29</td><td class=\"a-text-right mojo-field-type-money mojo-estimatable\">$96,713</td><td class=\"a-text-left mojo-field-type-date a-nowrap\">Feb 7</td><td class=\"a-text-left mojo-field-type-studio\"><a class=\"a-link-normal\" href=\"https://pro.imdb.com/company/co0481625/boxoffice/?view=releases&amp;ref_=mojo_yld_table_120&amp;rf=mojo_yld_table_120\" rel=\"noopener\" target=\"_blank\">Saban Films<svg class=\"mojo-new-window-svg\" viewBox=\"0 0 32 32\" xmlns=\"http://www.w3.org/2000/svg\">\n",
       "        <path d=\"M24,15.57251l3,3V23.5A3.50424,3.50424,0,0,1,23.5,27H8.5A3.50424,3.50424,0,0,1,5,23.5V8.5A3.50424,3.50424,0,0,1,8.5,5h4.92755l3,3H8.5a.50641.50641,0,0,0-.5.5v15a.50641.50641,0,0,0,.5.5h15a.50641.50641,0,0,0,.5-.5ZM19.81952,8.56372,12.8844,17.75a.49989.49989,0,0,0,.04547.65479l.66534.66528a.49983.49983,0,0,0,.65479.04553l9.18628-6.93518,2.12579,2.12585a.5.5,0,0,0,.84741-.27526l1.48273-9.35108a.50006.50006,0,0,0-.57214-.57214L17.969,5.59058a.5.5,0,0,0-.27526.84741Z\"></path>\n",
       "    </svg></a></td><td class=\"a-text-right mojo-field-type-boolean hidden\">false</td></tr><tr><td class=\"a-text-right mojo-header-column mojo-truncate mojo-field-type-rank mojo-sort-column\">121</td><td class=\"a-text-left mojo-field-type-release mojo-cell-wide\"><a class=\"a-link-normal\" href=\"/release/rl3305670145/?ref_=bo_yld_table_121\">The Lighthouse</a></td><td class=\"a-text-left mojo-field-type-genre hidden\">-</td><td class=\"a-text-right mojo-field-type-money hidden\">-</td><td class=\"a-text-right mojo-field-type-duration hidden\">-</td><td class=\"a-text-right mojo-field-type-money mojo-estimatable\">$94,580</td><td class=\"a-text-right mojo-field-type-positive_integer\">978</td><td class=\"a-text-right mojo-field-type-money mojo-estimatable\">$10,867,104</td><td class=\"a-text-left mojo-field-type-date a-nowrap\">Oct 18</td><td class=\"a-text-left mojo-field-type-studio\"><a class=\"a-link-normal\" href=\"https://pro.imdb.com/company/co0390816/boxoffice/?view=releases&amp;ref_=mojo_yld_table_121&amp;rf=mojo_yld_table_121\" rel=\"noopener\" target=\"_blank\">A24<svg class=\"mojo-new-window-svg\" viewBox=\"0 0 32 32\" xmlns=\"http://www.w3.org/2000/svg\">\n",
       "        <path d=\"M24,15.57251l3,3V23.5A3.50424,3.50424,0,0,1,23.5,27H8.5A3.50424,3.50424,0,0,1,5,23.5V8.5A3.50424,3.50424,0,0,1,8.5,5h4.92755l3,3H8.5a.50641.50641,0,0,0-.5.5v15a.50641.50641,0,0,0,.5.5h15a.50641.50641,0,0,0,.5-.5ZM19.81952,8.56372,12.8844,17.75a.49989.49989,0,0,0,.04547.65479l.66534.66528a.49983.49983,0,0,0,.65479.04553l9.18628-6.93518,2.12579,2.12585a.5.5,0,0,0,.84741-.27526l1.48273-9.35108a.50006.50006,0,0,0-.57214-.57214L17.969,5.59058a.5.5,0,0,0-.27526.84741Z\"></path>\n",
       "    </svg></a></td><td class=\"a-text-right mojo-field-type-boolean hidden\">false</td></tr><tr><td class=\"a-text-right mojo-header-column mojo-truncate mojo-field-type-rank mojo-sort-column\">122</td><td class=\"a-text-left mojo-field-type-release mojo-cell-wide\"><a class=\"a-link-normal\" href=\"/release/rl4271866369/?ref_=bo_yld_table_122\">First Lady</a></td><td class=\"a-text-left mojo-field-type-genre hidden\">-</td><td class=\"a-text-right mojo-field-type-money hidden\">-</td><td class=\"a-text-right mojo-field-type-duration hidden\">-</td><td class=\"a-text-right mojo-field-type-money mojo-estimatable\">$93,298</td><td class=\"a-text-right mojo-field-type-positive_integer\">68</td><td class=\"a-text-right mojo-field-type-money mojo-estimatable\">$93,298</td><td class=\"a-text-left mojo-field-type-date a-nowrap\">Feb 14</td><td class=\"a-text-left mojo-field-type-studio\"><a class=\"a-link-normal\" href=\"https://pro.imdb.com/company/co0374685/boxoffice/?view=releases&amp;ref_=mojo_yld_table_122&amp;rf=mojo_yld_table_122\" rel=\"noopener\" target=\"_blank\">ArtAffects Entertainment<svg class=\"mojo-new-window-svg\" viewBox=\"0 0 32 32\" xmlns=\"http://www.w3.org/2000/svg\">\n",
       "        <path d=\"M24,15.57251l3,3V23.5A3.50424,3.50424,0,0,1,23.5,27H8.5A3.50424,3.50424,0,0,1,5,23.5V8.5A3.50424,3.50424,0,0,1,8.5,5h4.92755l3,3H8.5a.50641.50641,0,0,0-.5.5v15a.50641.50641,0,0,0,.5.5h15a.50641.50641,0,0,0,.5-.5ZM19.81952,8.56372,12.8844,17.75a.49989.49989,0,0,0,.04547.65479l.66534.66528a.49983.49983,0,0,0,.65479.04553l9.18628-6.93518,2.12579,2.12585a.5.5,0,0,0,.84741-.27526l1.48273-9.35108a.50006.50006,0,0,0-.57214-.57214L17.969,5.59058a.5.5,0,0,0-.27526.84741Z\"></path>\n",
       "    </svg></a></td><td class=\"a-text-right mojo-field-type-boolean hidden\">false</td></tr><tr><td class=\"a-text-right mojo-header-column mojo-truncate mojo-field-type-rank mojo-sort-column\">123</td><td class=\"a-text-left mojo-field-type-release mojo-cell-wide\"><a class=\"a-link-normal\" href=\"/release/rl3003680257/?ref_=bo_yld_table_123\">Honeyland</a></td><td class=\"a-text-left mojo-field-type-genre hidden\">-</td><td class=\"a-text-right mojo-field-type-money hidden\">-</td><td class=\"a-text-right mojo-field-type-duration hidden\">-</td><td class=\"a-text-right mojo-field-type-money mojo-estimatable\">$82,132</td><td class=\"a-text-right mojo-field-type-positive_integer\">56</td><td class=\"a-text-right mojo-field-type-money mojo-estimatable\">$815,082</td><td class=\"a-text-left mojo-field-type-date a-nowrap\">Jul 26</td><td class=\"a-text-left mojo-field-type-studio\"><a class=\"a-link-normal\" href=\"https://pro.imdb.com/company/co0623930/boxoffice/?view=releases&amp;ref_=mojo_yld_table_123&amp;rf=mojo_yld_table_123\" rel=\"noopener\" target=\"_blank\">Neon<svg class=\"mojo-new-window-svg\" viewBox=\"0 0 32 32\" xmlns=\"http://www.w3.org/2000/svg\">\n",
       "        <path d=\"M24,15.57251l3,3V23.5A3.50424,3.50424,0,0,1,23.5,27H8.5A3.50424,3.50424,0,0,1,5,23.5V8.5A3.50424,3.50424,0,0,1,8.5,5h4.92755l3,3H8.5a.50641.50641,0,0,0-.5.5v15a.50641.50641,0,0,0,.5.5h15a.50641.50641,0,0,0,.5-.5ZM19.81952,8.56372,12.8844,17.75a.49989.49989,0,0,0,.04547.65479l.66534.66528a.49983.49983,0,0,0,.65479.04553l9.18628-6.93518,2.12579,2.12585a.5.5,0,0,0,.84741-.27526l1.48273-9.35108a.50006.50006,0,0,0-.57214-.57214L17.969,5.59058a.5.5,0,0,0-.27526.84741Z\"></path>\n",
       "    </svg></a></td><td class=\"a-text-right mojo-field-type-boolean hidden\">false</td></tr><tr><td class=\"a-text-right mojo-header-column mojo-truncate mojo-field-type-rank mojo-sort-column\">124</td><td class=\"a-text-left mojo-field-type-release mojo-cell-wide\"><a class=\"a-link-normal\" href=\"/release/rl1202946561/?ref_=bo_yld_table_124\">Riverdance 25th Anniversary Show</a></td><td class=\"a-text-left mojo-field-type-genre hidden\">-</td><td class=\"a-text-right mojo-field-type-money hidden\">-</td><td class=\"a-text-right mojo-field-type-duration hidden\">-</td><td class=\"a-text-right mojo-field-type-money mojo-estimatable\">$81,879</td><td class=\"a-text-right mojo-field-type-positive_integer\">278</td><td class=\"a-text-right mojo-field-type-money mojo-estimatable\">$81,879</td><td class=\"a-text-left mojo-field-type-date a-nowrap\">Mar 15</td><td class=\"a-text-left mojo-field-type-studio\"><a class=\"a-link-normal\" href=\"https://pro.imdb.com/company/co0634829/boxoffice/?view=releases&amp;ref_=mojo_yld_table_124&amp;rf=mojo_yld_table_124\" rel=\"noopener\" target=\"_blank\">Trafalgar Releasing<svg class=\"mojo-new-window-svg\" viewBox=\"0 0 32 32\" xmlns=\"http://www.w3.org/2000/svg\">\n",
       "        <path d=\"M24,15.57251l3,3V23.5A3.50424,3.50424,0,0,1,23.5,27H8.5A3.50424,3.50424,0,0,1,5,23.5V8.5A3.50424,3.50424,0,0,1,8.5,5h4.92755l3,3H8.5a.50641.50641,0,0,0-.5.5v15a.50641.50641,0,0,0,.5.5h15a.50641.50641,0,0,0,.5-.5ZM19.81952,8.56372,12.8844,17.75a.49989.49989,0,0,0,.04547.65479l.66534.66528a.49983.49983,0,0,0,.65479.04553l9.18628-6.93518,2.12579,2.12585a.5.5,0,0,0,.84741-.27526l1.48273-9.35108a.50006.50006,0,0,0-.57214-.57214L17.969,5.59058a.5.5,0,0,0-.27526.84741Z\"></path>\n",
       "    </svg></a></td><td class=\"a-text-right mojo-field-type-boolean hidden\">false</td></tr><tr><td class=\"a-text-right mojo-header-column mojo-truncate mojo-field-type-rank mojo-sort-column\">125</td><td class=\"a-text-left mojo-field-type-release mojo-cell-wide\"><a class=\"a-link-normal\" href=\"/release/rl3342893825/?ref_=bo_yld_table_125\">StarDog and TurboCat</a></td><td class=\"a-text-left mojo-field-type-genre hidden\">-</td><td class=\"a-text-right mojo-field-type-money hidden\">-</td><td class=\"a-text-right mojo-field-type-duration hidden\">-</td><td class=\"a-text-right mojo-field-type-money mojo-estimatable\">$80,323</td><td class=\"a-text-right mojo-field-type-positive_integer\">6</td><td class=\"a-text-right mojo-field-type-money mojo-estimatable\">$80,317</td><td class=\"a-text-left mojo-field-type-date a-nowrap\">Jun 19</td><td class=\"a-text-left mojo-field-type-studio\"><a class=\"a-link-normal\" href=\"https://pro.imdb.com/company/co0310474/boxoffice/?view=releases&amp;ref_=mojo_yld_table_125&amp;rf=mojo_yld_table_125\" rel=\"noopener\" target=\"_blank\">Viva Pictures<svg class=\"mojo-new-window-svg\" viewBox=\"0 0 32 32\" xmlns=\"http://www.w3.org/2000/svg\">\n",
       "        <path d=\"M24,15.57251l3,3V23.5A3.50424,3.50424,0,0,1,23.5,27H8.5A3.50424,3.50424,0,0,1,5,23.5V8.5A3.50424,3.50424,0,0,1,8.5,5h4.92755l3,3H8.5a.50641.50641,0,0,0-.5.5v15a.50641.50641,0,0,0,.5.5h15a.50641.50641,0,0,0,.5-.5ZM19.81952,8.56372,12.8844,17.75a.49989.49989,0,0,0,.04547.65479l.66534.66528a.49983.49983,0,0,0,.65479.04553l9.18628-6.93518,2.12579,2.12585a.5.5,0,0,0,.84741-.27526l1.48273-9.35108a.50006.50006,0,0,0-.57214-.57214L17.969,5.59058a.5.5,0,0,0-.27526.84741Z\"></path>\n",
       "    </svg></a></td><td class=\"a-text-right mojo-field-type-boolean hidden\">false</td></tr><tr><td class=\"a-text-right mojo-header-column mojo-truncate mojo-field-type-rank mojo-sort-column\">126</td><td class=\"a-text-left mojo-field-type-release mojo-cell-wide\"><a class=\"a-link-normal\" href=\"/release/rl168330753/?ref_=bo_yld_table_126\">Honey Boy</a></td><td class=\"a-text-left mojo-field-type-genre hidden\">-</td><td class=\"a-text-right mojo-field-type-money hidden\">-</td><td class=\"a-text-right mojo-field-type-duration hidden\">-</td><td class=\"a-text-right mojo-field-type-money mojo-estimatable\">$72,623</td><td class=\"a-text-right mojo-field-type-positive_integer\">460</td><td class=\"a-text-right mojo-field-type-money mojo-estimatable\">$3,012,615</td><td class=\"a-text-left mojo-field-type-date a-nowrap\">Nov 8</td><td class=\"a-text-left mojo-field-type-studio\"><a class=\"a-link-normal\" href=\"https://pro.imdb.com/company/co0319272/boxoffice/?view=releases&amp;ref_=mojo_yld_table_126&amp;rf=mojo_yld_table_126\" rel=\"noopener\" target=\"_blank\">Amazon Studios<svg class=\"mojo-new-window-svg\" viewBox=\"0 0 32 32\" xmlns=\"http://www.w3.org/2000/svg\">\n",
       "        <path d=\"M24,15.57251l3,3V23.5A3.50424,3.50424,0,0,1,23.5,27H8.5A3.50424,3.50424,0,0,1,5,23.5V8.5A3.50424,3.50424,0,0,1,8.5,5h4.92755l3,3H8.5a.50641.50641,0,0,0-.5.5v15a.50641.50641,0,0,0,.5.5h15a.50641.50641,0,0,0,.5-.5ZM19.81952,8.56372,12.8844,17.75a.49989.49989,0,0,0,.04547.65479l.66534.66528a.49983.49983,0,0,0,.65479.04553l9.18628-6.93518,2.12579,2.12585a.5.5,0,0,0,.84741-.27526l1.48273-9.35108a.50006.50006,0,0,0-.57214-.57214L17.969,5.59058a.5.5,0,0,0-.27526.84741Z\"></path>\n",
       "    </svg></a></td><td class=\"a-text-right mojo-field-type-boolean hidden\">false</td></tr><tr><td class=\"a-text-right mojo-header-column mojo-truncate mojo-field-type-rank mojo-sort-column\">127</td><td class=\"a-text-left mojo-field-type-release mojo-cell-wide\"><a class=\"a-link-normal\" href=\"/release/rl1303675393/?ref_=bo_yld_table_127\">Come and See</a><div class=\"a-section a-spacing-none\"><span class=\"a-size-small a-color-secondary\">2020 Re-release</span></div></td><td class=\"a-text-left mojo-field-type-genre hidden\">-</td><td class=\"a-text-right mojo-field-type-money hidden\">-</td><td class=\"a-text-right mojo-field-type-duration hidden\">-</td><td class=\"a-text-right mojo-field-type-money mojo-estimatable\">$71,909</td><td class=\"a-text-right mojo-field-type-positive_integer\">3</td><td class=\"a-text-right mojo-field-type-money mojo-estimatable\">$71,909</td><td class=\"a-text-left mojo-field-type-date a-nowrap\">Feb 21</td><td class=\"a-text-left mojo-field-type-studio\"><a class=\"a-link-normal\" href=\"https://pro.imdb.com/company/co0052424/boxoffice/?view=releases&amp;ref_=mojo_yld_table_127&amp;rf=mojo_yld_table_127\" rel=\"noopener\" target=\"_blank\">Janus Films<svg class=\"mojo-new-window-svg\" viewBox=\"0 0 32 32\" xmlns=\"http://www.w3.org/2000/svg\">\n",
       "        <path d=\"M24,15.57251l3,3V23.5A3.50424,3.50424,0,0,1,23.5,27H8.5A3.50424,3.50424,0,0,1,5,23.5V8.5A3.50424,3.50424,0,0,1,8.5,5h4.92755l3,3H8.5a.50641.50641,0,0,0-.5.5v15a.50641.50641,0,0,0,.5.5h15a.50641.50641,0,0,0,.5-.5ZM19.81952,8.56372,12.8844,17.75a.49989.49989,0,0,0,.04547.65479l.66534.66528a.49983.49983,0,0,0,.65479.04553l9.18628-6.93518,2.12579,2.12585a.5.5,0,0,0,.84741-.27526l1.48273-9.35108a.50006.50006,0,0,0-.57214-.57214L17.969,5.59058a.5.5,0,0,0-.27526.84741Z\"></path>\n",
       "    </svg></a></td><td class=\"a-text-right mojo-field-type-boolean hidden\">false</td></tr><tr><td class=\"a-text-right mojo-header-column mojo-truncate mojo-field-type-rank mojo-sort-column\">128</td><td class=\"a-text-left mojo-field-type-release mojo-cell-wide\"><a class=\"a-link-normal\" href=\"/release/rl4206723585/?ref_=bo_yld_table_128\">How to Build a Girl</a></td><td class=\"a-text-left mojo-field-type-genre hidden\">-</td><td class=\"a-text-right mojo-field-type-money hidden\">-</td><td class=\"a-text-right mojo-field-type-duration hidden\">-</td><td class=\"a-text-right mojo-field-type-money mojo-estimatable\">$70,632</td><td class=\"a-text-right mojo-field-type-positive_integer\">9</td><td class=\"a-text-right mojo-field-type-money mojo-estimatable\">$70,632</td><td class=\"a-text-left mojo-field-type-date a-nowrap\">May 8</td><td class=\"a-text-left mojo-field-type-studio\"><a class=\"a-link-normal\" href=\"https://pro.imdb.com/company/co0015762/boxoffice/?view=releases&amp;ref_=mojo_yld_table_128&amp;rf=mojo_yld_table_128\" rel=\"noopener\" target=\"_blank\">IFC Films<svg class=\"mojo-new-window-svg\" viewBox=\"0 0 32 32\" xmlns=\"http://www.w3.org/2000/svg\">\n",
       "        <path d=\"M24,15.57251l3,3V23.5A3.50424,3.50424,0,0,1,23.5,27H8.5A3.50424,3.50424,0,0,1,5,23.5V8.5A3.50424,3.50424,0,0,1,8.5,5h4.92755l3,3H8.5a.50641.50641,0,0,0-.5.5v15a.50641.50641,0,0,0,.5.5h15a.50641.50641,0,0,0,.5-.5ZM19.81952,8.56372,12.8844,17.75a.49989.49989,0,0,0,.04547.65479l.66534.66528a.49983.49983,0,0,0,.65479.04553l9.18628-6.93518,2.12579,2.12585a.5.5,0,0,0,.84741-.27526l1.48273-9.35108a.50006.50006,0,0,0-.57214-.57214L17.969,5.59058a.5.5,0,0,0-.27526.84741Z\"></path>\n",
       "    </svg></a></td><td class=\"a-text-right mojo-field-type-boolean hidden\">false</td></tr><tr><td class=\"a-text-right mojo-header-column mojo-truncate mojo-field-type-rank mojo-sort-column\">129</td><td class=\"a-text-left mojo-field-type-release mojo-cell-wide\"><a class=\"a-link-normal\" href=\"/release/rl3108012801/?ref_=bo_yld_table_129\">Miss Juneteenth</a></td><td class=\"a-text-left mojo-field-type-genre hidden\">-</td><td class=\"a-text-right mojo-field-type-money hidden\">-</td><td class=\"a-text-right mojo-field-type-duration hidden\">-</td><td class=\"a-text-right mojo-field-type-money mojo-estimatable\">$70,224</td><td class=\"a-text-right mojo-field-type-positive_integer\">11</td><td class=\"a-text-right mojo-field-type-money mojo-estimatable\">$70,224</td><td class=\"a-text-left mojo-field-type-date a-nowrap\">Jun 19</td><td class=\"a-text-left mojo-field-type-studio\"><a class=\"a-link-normal\" href=\"https://pro.imdb.com/company/co0427244/boxoffice/?view=releases&amp;ref_=mojo_yld_table_129&amp;rf=mojo_yld_table_129\" rel=\"noopener\" target=\"_blank\">Vertical Entertainment<svg class=\"mojo-new-window-svg\" viewBox=\"0 0 32 32\" xmlns=\"http://www.w3.org/2000/svg\">\n",
       "        <path d=\"M24,15.57251l3,3V23.5A3.50424,3.50424,0,0,1,23.5,27H8.5A3.50424,3.50424,0,0,1,5,23.5V8.5A3.50424,3.50424,0,0,1,8.5,5h4.92755l3,3H8.5a.50641.50641,0,0,0-.5.5v15a.50641.50641,0,0,0,.5.5h15a.50641.50641,0,0,0,.5-.5ZM19.81952,8.56372,12.8844,17.75a.49989.49989,0,0,0,.04547.65479l.66534.66528a.49983.49983,0,0,0,.65479.04553l9.18628-6.93518,2.12579,2.12585a.5.5,0,0,0,.84741-.27526l1.48273-9.35108a.50006.50006,0,0,0-.57214-.57214L17.969,5.59058a.5.5,0,0,0-.27526.84741Z\"></path>\n",
       "    </svg></a></td><td class=\"a-text-right mojo-field-type-boolean hidden\">false</td></tr><tr><td class=\"a-text-right mojo-header-column mojo-truncate mojo-field-type-rank mojo-sort-column\">130</td><td class=\"a-text-left mojo-field-type-release mojo-cell-wide\"><a class=\"a-link-normal\" href=\"/release/rl2763817473/?ref_=bo_yld_table_130\">Chal Mera Putt 2</a></td><td class=\"a-text-left mojo-field-type-genre hidden\">-</td><td class=\"a-text-right mojo-field-type-money hidden\">-</td><td class=\"a-text-right mojo-field-type-duration hidden\">-</td><td class=\"a-text-right mojo-field-type-money mojo-estimatable\">$65,000</td><td class=\"a-text-right mojo-field-type-positive_integer\">-</td><td class=\"a-text-right mojo-field-type-money mojo-estimatable\">$445,000</td><td class=\"a-text-left mojo-field-type-date a-nowrap\">Mar 13</td><td class=\"a-text-left mojo-field-type-studio\">-</td><td class=\"a-text-right mojo-field-type-boolean hidden\">false</td></tr><tr><td class=\"a-text-right mojo-header-column mojo-truncate mojo-field-type-rank mojo-sort-column\">131</td><td class=\"a-text-left mojo-field-type-release mojo-cell-wide\"><a class=\"a-link-normal\" href=\"/release/rl51086849/?ref_=bo_yld_table_131\">Waves</a></td><td class=\"a-text-left mojo-field-type-genre hidden\">-</td><td class=\"a-text-right mojo-field-type-money hidden\">-</td><td class=\"a-text-right mojo-field-type-duration hidden\">-</td><td class=\"a-text-right mojo-field-type-money mojo-estimatable\">$62,244</td><td class=\"a-text-right mojo-field-type-positive_integer\">570</td><td class=\"a-text-right mojo-field-type-money mojo-estimatable\">$1,658,790</td><td class=\"a-text-left mojo-field-type-date a-nowrap\">Nov 15</td><td class=\"a-text-left mojo-field-type-studio\"><a class=\"a-link-normal\" href=\"https://pro.imdb.com/company/co0390816/boxoffice/?view=releases&amp;ref_=mojo_yld_table_131&amp;rf=mojo_yld_table_131\" rel=\"noopener\" target=\"_blank\">A24<svg class=\"mojo-new-window-svg\" viewBox=\"0 0 32 32\" xmlns=\"http://www.w3.org/2000/svg\">\n",
       "        <path d=\"M24,15.57251l3,3V23.5A3.50424,3.50424,0,0,1,23.5,27H8.5A3.50424,3.50424,0,0,1,5,23.5V8.5A3.50424,3.50424,0,0,1,8.5,5h4.92755l3,3H8.5a.50641.50641,0,0,0-.5.5v15a.50641.50641,0,0,0,.5.5h15a.50641.50641,0,0,0,.5-.5ZM19.81952,8.56372,12.8844,17.75a.49989.49989,0,0,0,.04547.65479l.66534.66528a.49983.49983,0,0,0,.65479.04553l9.18628-6.93518,2.12579,2.12585a.5.5,0,0,0,.84741-.27526l1.48273-9.35108a.50006.50006,0,0,0-.57214-.57214L17.969,5.59058a.5.5,0,0,0-.27526.84741Z\"></path>\n",
       "    </svg></a></td><td class=\"a-text-right mojo-field-type-boolean hidden\">false</td></tr><tr><td class=\"a-text-right mojo-header-column mojo-truncate mojo-field-type-rank mojo-sort-column\">132</td><td class=\"a-text-left mojo-field-type-release mojo-cell-wide\"><a class=\"a-link-normal\" href=\"/release/rl2957083393/?ref_=bo_yld_table_132\">We Summon the Darkness</a></td><td class=\"a-text-left mojo-field-type-genre hidden\">-</td><td class=\"a-text-right mojo-field-type-money hidden\">-</td><td class=\"a-text-right mojo-field-type-duration hidden\">-</td><td class=\"a-text-right mojo-field-type-money mojo-estimatable\">$60,794</td><td class=\"a-text-right mojo-field-type-positive_integer\">10</td><td class=\"a-text-right mojo-field-type-money mojo-estimatable\">$60,794</td><td class=\"a-text-left mojo-field-type-date a-nowrap\">May 22</td><td class=\"a-text-left mojo-field-type-studio\"><a class=\"a-link-normal\" href=\"https://pro.imdb.com/company/co0481625/boxoffice/?view=releases&amp;ref_=mojo_yld_table_132&amp;rf=mojo_yld_table_132\" rel=\"noopener\" target=\"_blank\">Saban Films<svg class=\"mojo-new-window-svg\" viewBox=\"0 0 32 32\" xmlns=\"http://www.w3.org/2000/svg\">\n",
       "        <path d=\"M24,15.57251l3,3V23.5A3.50424,3.50424,0,0,1,23.5,27H8.5A3.50424,3.50424,0,0,1,5,23.5V8.5A3.50424,3.50424,0,0,1,8.5,5h4.92755l3,3H8.5a.50641.50641,0,0,0-.5.5v15a.50641.50641,0,0,0,.5.5h15a.50641.50641,0,0,0,.5-.5ZM19.81952,8.56372,12.8844,17.75a.49989.49989,0,0,0,.04547.65479l.66534.66528a.49983.49983,0,0,0,.65479.04553l9.18628-6.93518,2.12579,2.12585a.5.5,0,0,0,.84741-.27526l1.48273-9.35108a.50006.50006,0,0,0-.57214-.57214L17.969,5.59058a.5.5,0,0,0-.27526.84741Z\"></path>\n",
       "    </svg></a></td><td class=\"a-text-right mojo-field-type-boolean hidden\">false</td></tr><tr><td class=\"a-text-right mojo-header-column mojo-truncate mojo-field-type-rank mojo-sort-column\">133</td><td class=\"a-text-left mojo-field-type-release mojo-cell-wide\"><a class=\"a-link-normal\" href=\"/release/rl3500507649/?ref_=bo_yld_table_133\">Varda by Agnès</a></td><td class=\"a-text-left mojo-field-type-genre hidden\">-</td><td class=\"a-text-right mojo-field-type-money hidden\">-</td><td class=\"a-text-right mojo-field-type-duration hidden\">-</td><td class=\"a-text-right mojo-field-type-money mojo-estimatable\">$56,393</td><td class=\"a-text-right mojo-field-type-positive_integer\">10</td><td class=\"a-text-right mojo-field-type-money mojo-estimatable\">$160,765</td><td class=\"a-text-left mojo-field-type-date a-nowrap\">Nov 22</td><td class=\"a-text-left mojo-field-type-studio\"><a class=\"a-link-normal\" href=\"https://pro.imdb.com/company/co0052424/boxoffice/?view=releases&amp;ref_=mojo_yld_table_133&amp;rf=mojo_yld_table_133\" rel=\"noopener\" target=\"_blank\">Janus Films<svg class=\"mojo-new-window-svg\" viewBox=\"0 0 32 32\" xmlns=\"http://www.w3.org/2000/svg\">\n",
       "        <path d=\"M24,15.57251l3,3V23.5A3.50424,3.50424,0,0,1,23.5,27H8.5A3.50424,3.50424,0,0,1,5,23.5V8.5A3.50424,3.50424,0,0,1,8.5,5h4.92755l3,3H8.5a.50641.50641,0,0,0-.5.5v15a.50641.50641,0,0,0,.5.5h15a.50641.50641,0,0,0,.5-.5ZM19.81952,8.56372,12.8844,17.75a.49989.49989,0,0,0,.04547.65479l.66534.66528a.49983.49983,0,0,0,.65479.04553l9.18628-6.93518,2.12579,2.12585a.5.5,0,0,0,.84741-.27526l1.48273-9.35108a.50006.50006,0,0,0-.57214-.57214L17.969,5.59058a.5.5,0,0,0-.27526.84741Z\"></path>\n",
       "    </svg></a></td><td class=\"a-text-right mojo-field-type-boolean hidden\">false</td></tr><tr><td class=\"a-text-right mojo-header-column mojo-truncate mojo-field-type-rank mojo-sort-column\">134</td><td class=\"a-text-left mojo-field-type-release mojo-cell-wide\"><a class=\"a-link-normal\" href=\"/release/rl386631169/?ref_=bo_yld_table_134\">The Whistlers</a></td><td class=\"a-text-left mojo-field-type-genre hidden\">-</td><td class=\"a-text-right mojo-field-type-money hidden\">-</td><td class=\"a-text-right mojo-field-type-duration hidden\">-</td><td class=\"a-text-right mojo-field-type-money mojo-estimatable\">$55,608</td><td class=\"a-text-right mojo-field-type-positive_integer\">8</td><td class=\"a-text-right mojo-field-type-money mojo-estimatable\">$55,608</td><td class=\"a-text-left mojo-field-type-date a-nowrap\">Feb 28</td><td class=\"a-text-left mojo-field-type-studio\"><a class=\"a-link-normal\" href=\"https://pro.imdb.com/company/co0134717/boxoffice/?view=releases&amp;ref_=mojo_yld_table_134&amp;rf=mojo_yld_table_134\" rel=\"noopener\" target=\"_blank\">Magnolia Pictures<svg class=\"mojo-new-window-svg\" viewBox=\"0 0 32 32\" xmlns=\"http://www.w3.org/2000/svg\">\n",
       "        <path d=\"M24,15.57251l3,3V23.5A3.50424,3.50424,0,0,1,23.5,27H8.5A3.50424,3.50424,0,0,1,5,23.5V8.5A3.50424,3.50424,0,0,1,8.5,5h4.92755l3,3H8.5a.50641.50641,0,0,0-.5.5v15a.50641.50641,0,0,0,.5.5h15a.50641.50641,0,0,0,.5-.5ZM19.81952,8.56372,12.8844,17.75a.49989.49989,0,0,0,.04547.65479l.66534.66528a.49983.49983,0,0,0,.65479.04553l9.18628-6.93518,2.12579,2.12585a.5.5,0,0,0,.84741-.27526l1.48273-9.35108a.50006.50006,0,0,0-.57214-.57214L17.969,5.59058a.5.5,0,0,0-.27526.84741Z\"></path>\n",
       "    </svg></a></td><td class=\"a-text-right mojo-field-type-boolean hidden\">false</td></tr><tr><td class=\"a-text-right mojo-header-column mojo-truncate mojo-field-type-rank mojo-sort-column\">135</td><td class=\"a-text-left mojo-field-type-release mojo-cell-wide\"><a class=\"a-link-normal\" href=\"/release/rl3216146945/?ref_=bo_yld_table_135\">A Simple Wedding</a></td><td class=\"a-text-left mojo-field-type-genre hidden\">-</td><td class=\"a-text-right mojo-field-type-money hidden\">-</td><td class=\"a-text-right mojo-field-type-duration hidden\">-</td><td class=\"a-text-right mojo-field-type-money mojo-estimatable\">$54,415</td><td class=\"a-text-right mojo-field-type-positive_integer\">10</td><td class=\"a-text-right mojo-field-type-money mojo-estimatable\">$54,415</td><td class=\"a-text-left mojo-field-type-date a-nowrap\">Feb 14</td><td class=\"a-text-left mojo-field-type-studio\"><a class=\"a-link-normal\" href=\"https://pro.imdb.com/company/co0571694/boxoffice/?view=releases&amp;ref_=mojo_yld_table_135&amp;rf=mojo_yld_table_135\" rel=\"noopener\" target=\"_blank\">Blue Fox Entertainment<svg class=\"mojo-new-window-svg\" viewBox=\"0 0 32 32\" xmlns=\"http://www.w3.org/2000/svg\">\n",
       "        <path d=\"M24,15.57251l3,3V23.5A3.50424,3.50424,0,0,1,23.5,27H8.5A3.50424,3.50424,0,0,1,5,23.5V8.5A3.50424,3.50424,0,0,1,8.5,5h4.92755l3,3H8.5a.50641.50641,0,0,0-.5.5v15a.50641.50641,0,0,0,.5.5h15a.50641.50641,0,0,0,.5-.5ZM19.81952,8.56372,12.8844,17.75a.49989.49989,0,0,0,.04547.65479l.66534.66528a.49983.49983,0,0,0,.65479.04553l9.18628-6.93518,2.12579,2.12585a.5.5,0,0,0,.84741-.27526l1.48273-9.35108a.50006.50006,0,0,0-.57214-.57214L17.969,5.59058a.5.5,0,0,0-.27526.84741Z\"></path>\n",
       "    </svg></a></td><td class=\"a-text-right mojo-field-type-boolean hidden\">false</td></tr><tr><td class=\"a-text-right mojo-header-column mojo-truncate mojo-field-type-rank mojo-sort-column\">136</td><td class=\"a-text-left mojo-field-type-release mojo-cell-wide\"><a class=\"a-link-normal\" href=\"/release/rl1941602817/?ref_=bo_yld_table_136\">Miss Fisher and the Crypt of Tears</a><div class=\"a-section a-spacing-none\"><span class=\"a-size-small a-color-secondary\">(special screenings)</span></div></td><td class=\"a-text-left mojo-field-type-genre hidden\">-</td><td class=\"a-text-right mojo-field-type-money hidden\">-</td><td class=\"a-text-right mojo-field-type-duration hidden\">-</td><td class=\"a-text-right mojo-field-type-money mojo-estimatable\">$51,032</td><td class=\"a-text-right mojo-field-type-positive_integer\">18</td><td class=\"a-text-right mojo-field-type-money mojo-estimatable\">$51,032</td><td class=\"a-text-left mojo-field-type-date a-nowrap\">Mar 13</td><td class=\"a-text-left mojo-field-type-studio\">-</td><td class=\"a-text-right mojo-field-type-boolean hidden\">false</td></tr><tr><td class=\"a-text-right mojo-header-column mojo-truncate mojo-field-type-rank mojo-sort-column\">137</td><td class=\"a-text-left mojo-field-type-release mojo-cell-wide\"><a class=\"a-link-normal\" href=\"/release/rl364544513/?ref_=bo_yld_table_137\">The Wonderland</a></td><td class=\"a-text-left mojo-field-type-genre hidden\">-</td><td class=\"a-text-right mojo-field-type-money hidden\">-</td><td class=\"a-text-right mojo-field-type-duration hidden\">-</td><td class=\"a-text-right mojo-field-type-money mojo-estimatable\">$50,876</td><td class=\"a-text-right mojo-field-type-positive_integer\">143</td><td class=\"a-text-right mojo-field-type-money mojo-estimatable\">$50,876</td><td class=\"a-text-left mojo-field-type-date a-nowrap\">Jan 20</td><td class=\"a-text-left mojo-field-type-studio\"><a class=\"a-link-normal\" href=\"https://pro.imdb.com/company/co0133928/boxoffice/?view=releases&amp;ref_=mojo_yld_table_137&amp;rf=mojo_yld_table_137\" rel=\"noopener\" target=\"_blank\">Eleven Arts<svg class=\"mojo-new-window-svg\" viewBox=\"0 0 32 32\" xmlns=\"http://www.w3.org/2000/svg\">\n",
       "        <path d=\"M24,15.57251l3,3V23.5A3.50424,3.50424,0,0,1,23.5,27H8.5A3.50424,3.50424,0,0,1,5,23.5V8.5A3.50424,3.50424,0,0,1,8.5,5h4.92755l3,3H8.5a.50641.50641,0,0,0-.5.5v15a.50641.50641,0,0,0,.5.5h15a.50641.50641,0,0,0,.5-.5ZM19.81952,8.56372,12.8844,17.75a.49989.49989,0,0,0,.04547.65479l.66534.66528a.49983.49983,0,0,0,.65479.04553l9.18628-6.93518,2.12579,2.12585a.5.5,0,0,0,.84741-.27526l1.48273-9.35108a.50006.50006,0,0,0-.57214-.57214L17.969,5.59058a.5.5,0,0,0-.27526.84741Z\"></path>\n",
       "    </svg></a></td><td class=\"a-text-right mojo-field-type-boolean hidden\">false</td></tr><tr><td class=\"a-text-right mojo-header-column mojo-truncate mojo-field-type-rank mojo-sort-column\">138</td><td class=\"a-text-left mojo-field-type-release mojo-cell-wide\"><a class=\"a-link-normal\" href=\"/release/rl2795930113/?ref_=bo_yld_table_138\">VHYes</a></td><td class=\"a-text-left mojo-field-type-genre hidden\">-</td><td class=\"a-text-right mojo-field-type-money hidden\">-</td><td class=\"a-text-right mojo-field-type-duration hidden\">-</td><td class=\"a-text-right mojo-field-type-money mojo-estimatable\">$47,037</td><td class=\"a-text-right mojo-field-type-positive_integer\">23</td><td class=\"a-text-right mojo-field-type-money mojo-estimatable\">$47,037</td><td class=\"a-text-left mojo-field-type-date a-nowrap\">Jan 17</td><td class=\"a-text-left mojo-field-type-studio\"><a class=\"a-link-normal\" href=\"https://pro.imdb.com/company/co0166963/boxoffice/?view=releases&amp;ref_=mojo_yld_table_138&amp;rf=mojo_yld_table_138\" rel=\"noopener\" target=\"_blank\">Oscilloscope<svg class=\"mojo-new-window-svg\" viewBox=\"0 0 32 32\" xmlns=\"http://www.w3.org/2000/svg\">\n",
       "        <path d=\"M24,15.57251l3,3V23.5A3.50424,3.50424,0,0,1,23.5,27H8.5A3.50424,3.50424,0,0,1,5,23.5V8.5A3.50424,3.50424,0,0,1,8.5,5h4.92755l3,3H8.5a.50641.50641,0,0,0-.5.5v15a.50641.50641,0,0,0,.5.5h15a.50641.50641,0,0,0,.5-.5ZM19.81952,8.56372,12.8844,17.75a.49989.49989,0,0,0,.04547.65479l.66534.66528a.49983.49983,0,0,0,.65479.04553l9.18628-6.93518,2.12579,2.12585a.5.5,0,0,0,.84741-.27526l1.48273-9.35108a.50006.50006,0,0,0-.57214-.57214L17.969,5.59058a.5.5,0,0,0-.27526.84741Z\"></path>\n",
       "    </svg></a></td><td class=\"a-text-right mojo-field-type-boolean hidden\">false</td></tr><tr><td class=\"a-text-right mojo-header-column mojo-truncate mojo-field-type-rank mojo-sort-column\">139</td><td class=\"a-text-left mojo-field-type-release mojo-cell-wide\"><a class=\"a-link-normal\" href=\"/release/rl1476625921/?ref_=bo_yld_table_139\">Charlie's Angels</a></td><td class=\"a-text-left mojo-field-type-genre hidden\">-</td><td class=\"a-text-right mojo-field-type-money hidden\">-</td><td class=\"a-text-right mojo-field-type-duration hidden\">-</td><td class=\"a-text-right mojo-field-type-money mojo-estimatable\">$46,677</td><td class=\"a-text-right mojo-field-type-positive_integer\">3,452</td><td class=\"a-text-right mojo-field-type-money mojo-estimatable\">$17,803,077</td><td class=\"a-text-left mojo-field-type-date a-nowrap\">Nov 15</td><td class=\"a-text-left mojo-field-type-studio\">-</td><td class=\"a-text-right mojo-field-type-boolean hidden\">false</td></tr><tr><td class=\"a-text-right mojo-header-column mojo-truncate mojo-field-type-rank mojo-sort-column\">140</td><td class=\"a-text-left mojo-field-type-release mojo-cell-wide\"><a class=\"a-link-normal\" href=\"/release/rl817136129/?ref_=bo_yld_table_140\">Enter the Fat Dragon</a></td><td class=\"a-text-left mojo-field-type-genre hidden\">-</td><td class=\"a-text-right mojo-field-type-money hidden\">-</td><td class=\"a-text-right mojo-field-type-duration hidden\">-</td><td class=\"a-text-right mojo-field-type-money mojo-estimatable\">$44,604</td><td class=\"a-text-right mojo-field-type-positive_integer\">11</td><td class=\"a-text-right mojo-field-type-money mojo-estimatable\">$46,855</td><td class=\"a-text-left mojo-field-type-date a-nowrap\">Feb 14</td><td class=\"a-text-left mojo-field-type-studio\"><a class=\"a-link-normal\" href=\"https://pro.imdb.com/company/co0227523/boxoffice/?view=releases&amp;ref_=mojo_yld_table_140&amp;rf=mojo_yld_table_140\" rel=\"noopener\" target=\"_blank\">Well Go USA Entertainment<svg class=\"mojo-new-window-svg\" viewBox=\"0 0 32 32\" xmlns=\"http://www.w3.org/2000/svg\">\n",
       "        <path d=\"M24,15.57251l3,3V23.5A3.50424,3.50424,0,0,1,23.5,27H8.5A3.50424,3.50424,0,0,1,5,23.5V8.5A3.50424,3.50424,0,0,1,8.5,5h4.92755l3,3H8.5a.50641.50641,0,0,0-.5.5v15a.50641.50641,0,0,0,.5.5h15a.50641.50641,0,0,0,.5-.5ZM19.81952,8.56372,12.8844,17.75a.49989.49989,0,0,0,.04547.65479l.66534.66528a.49983.49983,0,0,0,.65479.04553l9.18628-6.93518,2.12579,2.12585a.5.5,0,0,0,.84741-.27526l1.48273-9.35108a.50006.50006,0,0,0-.57214-.57214L17.969,5.59058a.5.5,0,0,0-.27526.84741Z\"></path>\n",
       "    </svg></a></td><td class=\"a-text-right mojo-field-type-boolean hidden\">false</td></tr><tr><td class=\"a-text-right mojo-header-column mojo-truncate mojo-field-type-rank mojo-sort-column\">141</td><td class=\"a-text-left mojo-field-type-release mojo-cell-wide\"><a class=\"a-link-normal\" href=\"/release/rl2745598465/?ref_=bo_yld_table_141\">Saint Frances</a></td><td class=\"a-text-left mojo-field-type-genre hidden\">-</td><td class=\"a-text-right mojo-field-type-money hidden\">-</td><td class=\"a-text-right mojo-field-type-duration hidden\">-</td><td class=\"a-text-right mojo-field-type-money mojo-estimatable\">$44,330</td><td class=\"a-text-right mojo-field-type-positive_integer\">23</td><td class=\"a-text-right mojo-field-type-money mojo-estimatable\">$44,330</td><td class=\"a-text-left mojo-field-type-date a-nowrap\">Feb 28</td><td class=\"a-text-left mojo-field-type-studio\"><a class=\"a-link-normal\" href=\"https://pro.imdb.com/company/co0166963/boxoffice/?view=releases&amp;ref_=mojo_yld_table_141&amp;rf=mojo_yld_table_141\" rel=\"noopener\" target=\"_blank\">Oscilloscope<svg class=\"mojo-new-window-svg\" viewBox=\"0 0 32 32\" xmlns=\"http://www.w3.org/2000/svg\">\n",
       "        <path d=\"M24,15.57251l3,3V23.5A3.50424,3.50424,0,0,1,23.5,27H8.5A3.50424,3.50424,0,0,1,5,23.5V8.5A3.50424,3.50424,0,0,1,8.5,5h4.92755l3,3H8.5a.50641.50641,0,0,0-.5.5v15a.50641.50641,0,0,0,.5.5h15a.50641.50641,0,0,0,.5-.5ZM19.81952,8.56372,12.8844,17.75a.49989.49989,0,0,0,.04547.65479l.66534.66528a.49983.49983,0,0,0,.65479.04553l9.18628-6.93518,2.12579,2.12585a.5.5,0,0,0,.84741-.27526l1.48273-9.35108a.50006.50006,0,0,0-.57214-.57214L17.969,5.59058a.5.5,0,0,0-.27526.84741Z\"></path>\n",
       "    </svg></a></td><td class=\"a-text-right mojo-field-type-boolean hidden\">false</td></tr><tr><td class=\"a-text-right mojo-header-column mojo-truncate mojo-field-type-rank mojo-sort-column\">142</td><td class=\"a-text-left mojo-field-type-release mojo-cell-wide\"><a class=\"a-link-normal\" href=\"/release/rl3835724289/?ref_=bo_yld_table_142\">The Burnt Orange Heresy</a></td><td class=\"a-text-left mojo-field-type-genre hidden\">-</td><td class=\"a-text-right mojo-field-type-money hidden\">-</td><td class=\"a-text-right mojo-field-type-duration hidden\">-</td><td class=\"a-text-right mojo-field-type-money mojo-estimatable\">$39,893</td><td class=\"a-text-right mojo-field-type-positive_integer\">15</td><td class=\"a-text-right mojo-field-type-money mojo-estimatable\">$39,893</td><td class=\"a-text-left mojo-field-type-date a-nowrap\">Mar 6</td><td class=\"a-text-left mojo-field-type-studio\"><a class=\"a-link-normal\" href=\"https://pro.imdb.com/company/co0014453/boxoffice/?view=releases&amp;ref_=mojo_yld_table_142&amp;rf=mojo_yld_table_142\" rel=\"noopener\" target=\"_blank\">Sony Pictures Classics<svg class=\"mojo-new-window-svg\" viewBox=\"0 0 32 32\" xmlns=\"http://www.w3.org/2000/svg\">\n",
       "        <path d=\"M24,15.57251l3,3V23.5A3.50424,3.50424,0,0,1,23.5,27H8.5A3.50424,3.50424,0,0,1,5,23.5V8.5A3.50424,3.50424,0,0,1,8.5,5h4.92755l3,3H8.5a.50641.50641,0,0,0-.5.5v15a.50641.50641,0,0,0,.5.5h15a.50641.50641,0,0,0,.5-.5ZM19.81952,8.56372,12.8844,17.75a.49989.49989,0,0,0,.04547.65479l.66534.66528a.49983.49983,0,0,0,.65479.04553l9.18628-6.93518,2.12579,2.12585a.5.5,0,0,0,.84741-.27526l1.48273-9.35108a.50006.50006,0,0,0-.57214-.57214L17.969,5.59058a.5.5,0,0,0-.27526.84741Z\"></path>\n",
       "    </svg></a></td><td class=\"a-text-right mojo-field-type-boolean hidden\">false</td></tr><tr><td class=\"a-text-right mojo-header-column mojo-truncate mojo-field-type-rank mojo-sort-column\">143</td><td class=\"a-text-left mojo-field-type-release mojo-cell-wide\"><a class=\"a-link-normal\" href=\"/release/rl4244932097/?ref_=bo_yld_table_143\">Doctor Sleep</a></td><td class=\"a-text-left mojo-field-type-genre hidden\">-</td><td class=\"a-text-right mojo-field-type-money hidden\">-</td><td class=\"a-text-right mojo-field-type-duration hidden\">-</td><td class=\"a-text-right mojo-field-type-money mojo-estimatable\">$38,615</td><td class=\"a-text-right mojo-field-type-positive_integer\">3,855</td><td class=\"a-text-right mojo-field-type-money mojo-estimatable\">$31,581,712</td><td class=\"a-text-left mojo-field-type-date a-nowrap\">Nov 8</td><td class=\"a-text-left mojo-field-type-studio\"><a class=\"a-link-normal\" href=\"https://pro.imdb.com/company/co0002663/boxoffice/?view=releases&amp;ref_=mojo_yld_table_143&amp;rf=mojo_yld_table_143\" rel=\"noopener\" target=\"_blank\">Warner Bros.<svg class=\"mojo-new-window-svg\" viewBox=\"0 0 32 32\" xmlns=\"http://www.w3.org/2000/svg\">\n",
       "        <path d=\"M24,15.57251l3,3V23.5A3.50424,3.50424,0,0,1,23.5,27H8.5A3.50424,3.50424,0,0,1,5,23.5V8.5A3.50424,3.50424,0,0,1,8.5,5h4.92755l3,3H8.5a.50641.50641,0,0,0-.5.5v15a.50641.50641,0,0,0,.5.5h15a.50641.50641,0,0,0,.5-.5ZM19.81952,8.56372,12.8844,17.75a.49989.49989,0,0,0,.04547.65479l.66534.66528a.49983.49983,0,0,0,.65479.04553l9.18628-6.93518,2.12579,2.12585a.5.5,0,0,0,.84741-.27526l1.48273-9.35108a.50006.50006,0,0,0-.57214-.57214L17.969,5.59058a.5.5,0,0,0-.27526.84741Z\"></path>\n",
       "    </svg></a></td><td class=\"a-text-right mojo-field-type-boolean hidden\">false</td></tr><tr><td class=\"a-text-right mojo-header-column mojo-truncate mojo-field-type-rank mojo-sort-column\">144</td><td class=\"a-text-left mojo-field-type-release mojo-cell-wide\"><a class=\"a-link-normal\" href=\"/release/rl1923842561/?ref_=bo_yld_table_144\">The White Sheik</a><div class=\"a-section a-spacing-none\"><span class=\"a-size-small a-color-secondary\">2019 re-release</span></div></td><td class=\"a-text-left mojo-field-type-genre hidden\">-</td><td class=\"a-text-right mojo-field-type-money hidden\">-</td><td class=\"a-text-right mojo-field-type-duration hidden\">-</td><td class=\"a-text-right mojo-field-type-money mojo-estimatable\">$38,466</td><td class=\"a-text-right mojo-field-type-positive_integer\">3</td><td class=\"a-text-right mojo-field-type-money mojo-estimatable\">$50,850</td><td class=\"a-text-left mojo-field-type-date a-nowrap\">Dec 25</td><td class=\"a-text-left mojo-field-type-studio\"><a class=\"a-link-normal\" href=\"https://pro.imdb.com/company/co0049592/boxoffice/?view=releases&amp;ref_=mojo_yld_table_144&amp;rf=mojo_yld_table_144\" rel=\"noopener\" target=\"_blank\">Rialto Pictures<svg class=\"mojo-new-window-svg\" viewBox=\"0 0 32 32\" xmlns=\"http://www.w3.org/2000/svg\">\n",
       "        <path d=\"M24,15.57251l3,3V23.5A3.50424,3.50424,0,0,1,23.5,27H8.5A3.50424,3.50424,0,0,1,5,23.5V8.5A3.50424,3.50424,0,0,1,8.5,5h4.92755l3,3H8.5a.50641.50641,0,0,0-.5.5v15a.50641.50641,0,0,0,.5.5h15a.50641.50641,0,0,0,.5-.5ZM19.81952,8.56372,12.8844,17.75a.49989.49989,0,0,0,.04547.65479l.66534.66528a.49983.49983,0,0,0,.65479.04553l9.18628-6.93518,2.12579,2.12585a.5.5,0,0,0,.84741-.27526l1.48273-9.35108a.50006.50006,0,0,0-.57214-.57214L17.969,5.59058a.5.5,0,0,0-.27526.84741Z\"></path>\n",
       "    </svg></a></td><td class=\"a-text-right mojo-field-type-boolean hidden\">false</td></tr><tr><td class=\"a-text-right mojo-header-column mojo-truncate mojo-field-type-rank mojo-sort-column\">145</td><td class=\"a-text-left mojo-field-type-release mojo-cell-wide\"><a class=\"a-link-normal\" href=\"/release/rl4144072193/?ref_=bo_yld_table_145\">Abominable</a></td><td class=\"a-text-left mojo-field-type-genre hidden\">-</td><td class=\"a-text-right mojo-field-type-money hidden\">-</td><td class=\"a-text-right mojo-field-type-duration hidden\">-</td><td class=\"a-text-right mojo-field-type-money mojo-estimatable\">$37,125</td><td class=\"a-text-right mojo-field-type-positive_integer\">4,248</td><td class=\"a-text-right mojo-field-type-money mojo-estimatable\">$60,716,390</td><td class=\"a-text-left mojo-field-type-date a-nowrap\">Sep 27</td><td class=\"a-text-left mojo-field-type-studio\"><a class=\"a-link-normal\" href=\"https://pro.imdb.com/company/co0005073/boxoffice/?view=releases&amp;ref_=mojo_yld_table_145&amp;rf=mojo_yld_table_145\" rel=\"noopener\" target=\"_blank\">Universal Pictures<svg class=\"mojo-new-window-svg\" viewBox=\"0 0 32 32\" xmlns=\"http://www.w3.org/2000/svg\">\n",
       "        <path d=\"M24,15.57251l3,3V23.5A3.50424,3.50424,0,0,1,23.5,27H8.5A3.50424,3.50424,0,0,1,5,23.5V8.5A3.50424,3.50424,0,0,1,8.5,5h4.92755l3,3H8.5a.50641.50641,0,0,0-.5.5v15a.50641.50641,0,0,0,.5.5h15a.50641.50641,0,0,0,.5-.5ZM19.81952,8.56372,12.8844,17.75a.49989.49989,0,0,0,.04547.65479l.66534.66528a.49983.49983,0,0,0,.65479.04553l9.18628-6.93518,2.12579,2.12585a.5.5,0,0,0,.84741-.27526l1.48273-9.35108a.50006.50006,0,0,0-.57214-.57214L17.969,5.59058a.5.5,0,0,0-.27526.84741Z\"></path>\n",
       "    </svg></a></td><td class=\"a-text-right mojo-field-type-boolean hidden\">false</td></tr><tr><td class=\"a-text-right mojo-header-column mojo-truncate mojo-field-type-rank mojo-sort-column\">146</td><td class=\"a-text-left mojo-field-type-release mojo-cell-wide\"><a class=\"a-link-normal\" href=\"/release/rl733053441/?ref_=bo_yld_table_146\">Three Christs</a></td><td class=\"a-text-left mojo-field-type-genre hidden\">-</td><td class=\"a-text-right mojo-field-type-money hidden\">-</td><td class=\"a-text-right mojo-field-type-duration hidden\">-</td><td class=\"a-text-right mojo-field-type-money mojo-estimatable\">$36,723</td><td class=\"a-text-right mojo-field-type-positive_integer\">31</td><td class=\"a-text-right mojo-field-type-money mojo-estimatable\">$36,723</td><td class=\"a-text-left mojo-field-type-date a-nowrap\">Jan 3</td><td class=\"a-text-left mojo-field-type-studio\"><a class=\"a-link-normal\" href=\"https://pro.imdb.com/company/co0015762/boxoffice/?view=releases&amp;ref_=mojo_yld_table_146&amp;rf=mojo_yld_table_146\" rel=\"noopener\" target=\"_blank\">IFC Films<svg class=\"mojo-new-window-svg\" viewBox=\"0 0 32 32\" xmlns=\"http://www.w3.org/2000/svg\">\n",
       "        <path d=\"M24,15.57251l3,3V23.5A3.50424,3.50424,0,0,1,23.5,27H8.5A3.50424,3.50424,0,0,1,5,23.5V8.5A3.50424,3.50424,0,0,1,8.5,5h4.92755l3,3H8.5a.50641.50641,0,0,0-.5.5v15a.50641.50641,0,0,0,.5.5h15a.50641.50641,0,0,0,.5-.5ZM19.81952,8.56372,12.8844,17.75a.49989.49989,0,0,0,.04547.65479l.66534.66528a.49983.49983,0,0,0,.65479.04553l9.18628-6.93518,2.12579,2.12585a.5.5,0,0,0,.84741-.27526l1.48273-9.35108a.50006.50006,0,0,0-.57214-.57214L17.969,5.59058a.5.5,0,0,0-.27526.84741Z\"></path>\n",
       "    </svg></a></td><td class=\"a-text-right mojo-field-type-boolean hidden\">false</td></tr><tr><td class=\"a-text-right mojo-header-column mojo-truncate mojo-field-type-rank mojo-sort-column\">147</td><td class=\"a-text-left mojo-field-type-release mojo-cell-wide\"><a class=\"a-link-normal\" href=\"/release/rl705070593/?ref_=bo_yld_table_147\">Last Christmas</a></td><td class=\"a-text-left mojo-field-type-genre hidden\">-</td><td class=\"a-text-right mojo-field-type-money hidden\">-</td><td class=\"a-text-right mojo-field-type-duration hidden\">-</td><td class=\"a-text-right mojo-field-type-money mojo-estimatable\">$34,300</td><td class=\"a-text-right mojo-field-type-positive_integer\">3,454</td><td class=\"a-text-right mojo-field-type-money mojo-estimatable\">$35,150,750</td><td class=\"a-text-left mojo-field-type-date a-nowrap\">Nov 8</td><td class=\"a-text-left mojo-field-type-studio\"><a class=\"a-link-normal\" href=\"https://pro.imdb.com/company/co0005073/boxoffice/?view=releases&amp;ref_=mojo_yld_table_147&amp;rf=mojo_yld_table_147\" rel=\"noopener\" target=\"_blank\">Universal Pictures<svg class=\"mojo-new-window-svg\" viewBox=\"0 0 32 32\" xmlns=\"http://www.w3.org/2000/svg\">\n",
       "        <path d=\"M24,15.57251l3,3V23.5A3.50424,3.50424,0,0,1,23.5,27H8.5A3.50424,3.50424,0,0,1,5,23.5V8.5A3.50424,3.50424,0,0,1,8.5,5h4.92755l3,3H8.5a.50641.50641,0,0,0-.5.5v15a.50641.50641,0,0,0,.5.5h15a.50641.50641,0,0,0,.5-.5ZM19.81952,8.56372,12.8844,17.75a.49989.49989,0,0,0,.04547.65479l.66534.66528a.49983.49983,0,0,0,.65479.04553l9.18628-6.93518,2.12579,2.12585a.5.5,0,0,0,.84741-.27526l1.48273-9.35108a.50006.50006,0,0,0-.57214-.57214L17.969,5.59058a.5.5,0,0,0-.27526.84741Z\"></path>\n",
       "    </svg></a></td><td class=\"a-text-right mojo-field-type-boolean hidden\">false</td></tr><tr><td class=\"a-text-right mojo-header-column mojo-truncate mojo-field-type-rank mojo-sort-column\">148</td><td class=\"a-text-left mojo-field-type-release mojo-cell-wide\"><a class=\"a-link-normal\" href=\"/release/rl2277343745/?ref_=bo_yld_table_148\">True History of the Kelly Gang</a></td><td class=\"a-text-left mojo-field-type-genre hidden\">-</td><td class=\"a-text-right mojo-field-type-money hidden\">-</td><td class=\"a-text-right mojo-field-type-duration hidden\">-</td><td class=\"a-text-right mojo-field-type-money mojo-estimatable\">$33,817</td><td class=\"a-text-right mojo-field-type-positive_integer\">5</td><td class=\"a-text-right mojo-field-type-money mojo-estimatable\">$33,817</td><td class=\"a-text-left mojo-field-type-date a-nowrap\">Apr 24</td><td class=\"a-text-left mojo-field-type-studio\"><a class=\"a-link-normal\" href=\"https://pro.imdb.com/company/co0015762/boxoffice/?view=releases&amp;ref_=mojo_yld_table_148&amp;rf=mojo_yld_table_148\" rel=\"noopener\" target=\"_blank\">IFC Films<svg class=\"mojo-new-window-svg\" viewBox=\"0 0 32 32\" xmlns=\"http://www.w3.org/2000/svg\">\n",
       "        <path d=\"M24,15.57251l3,3V23.5A3.50424,3.50424,0,0,1,23.5,27H8.5A3.50424,3.50424,0,0,1,5,23.5V8.5A3.50424,3.50424,0,0,1,8.5,5h4.92755l3,3H8.5a.50641.50641,0,0,0-.5.5v15a.50641.50641,0,0,0,.5.5h15a.50641.50641,0,0,0,.5-.5ZM19.81952,8.56372,12.8844,17.75a.49989.49989,0,0,0,.04547.65479l.66534.66528a.49983.49983,0,0,0,.65479.04553l9.18628-6.93518,2.12579,2.12585a.5.5,0,0,0,.84741-.27526l1.48273-9.35108a.50006.50006,0,0,0-.57214-.57214L17.969,5.59058a.5.5,0,0,0-.27526.84741Z\"></path>\n",
       "    </svg></a></td><td class=\"a-text-right mojo-field-type-boolean hidden\">false</td></tr><tr><td class=\"a-text-right mojo-header-column mojo-truncate mojo-field-type-rank mojo-sort-column\">149</td><td class=\"a-text-left mojo-field-type-release mojo-cell-wide\"><a class=\"a-link-normal\" href=\"/release/rl3322512897/?ref_=bo_yld_table_149\">Play the Flute</a></td><td class=\"a-text-left mojo-field-type-genre hidden\">-</td><td class=\"a-text-right mojo-field-type-money hidden\">-</td><td class=\"a-text-right mojo-field-type-duration hidden\">-</td><td class=\"a-text-right mojo-field-type-money mojo-estimatable\">$33,588</td><td class=\"a-text-right mojo-field-type-positive_integer\">11</td><td class=\"a-text-right mojo-field-type-money mojo-estimatable\">$241,251</td><td class=\"a-text-left mojo-field-type-date a-nowrap\">Jan 28</td><td class=\"a-text-left mojo-field-type-studio\"><a class=\"a-link-normal\" href=\"https://pro.imdb.com/company/co0073962/boxoffice/?view=releases&amp;ref_=mojo_yld_table_149&amp;rf=mojo_yld_table_149\" rel=\"noopener\" target=\"_blank\">Five &amp; Two Pictures<svg class=\"mojo-new-window-svg\" viewBox=\"0 0 32 32\" xmlns=\"http://www.w3.org/2000/svg\">\n",
       "        <path d=\"M24,15.57251l3,3V23.5A3.50424,3.50424,0,0,1,23.5,27H8.5A3.50424,3.50424,0,0,1,5,23.5V8.5A3.50424,3.50424,0,0,1,8.5,5h4.92755l3,3H8.5a.50641.50641,0,0,0-.5.5v15a.50641.50641,0,0,0,.5.5h15a.50641.50641,0,0,0,.5-.5ZM19.81952,8.56372,12.8844,17.75a.49989.49989,0,0,0,.04547.65479l.66534.66528a.49983.49983,0,0,0,.65479.04553l9.18628-6.93518,2.12579,2.12585a.5.5,0,0,0,.84741-.27526l1.48273-9.35108a.50006.50006,0,0,0-.57214-.57214L17.969,5.59058a.5.5,0,0,0-.27526.84741Z\"></path>\n",
       "    </svg></a></td><td class=\"a-text-right mojo-field-type-boolean hidden\">false</td></tr><tr><td class=\"a-text-right mojo-header-column mojo-truncate mojo-field-type-rank mojo-sort-column\">150</td><td class=\"a-text-left mojo-field-type-release mojo-cell-wide\"><a class=\"a-link-normal\" href=\"/release/rl3803873793/?ref_=bo_yld_table_150\">Swallow</a></td><td class=\"a-text-left mojo-field-type-genre hidden\">-</td><td class=\"a-text-right mojo-field-type-money hidden\">-</td><td class=\"a-text-right mojo-field-type-duration hidden\">-</td><td class=\"a-text-right mojo-field-type-money mojo-estimatable\">$33,419</td><td class=\"a-text-right mojo-field-type-positive_integer\">39</td><td class=\"a-text-right mojo-field-type-money mojo-estimatable\">$33,419</td><td class=\"a-text-left mojo-field-type-date a-nowrap\">Mar 6</td><td class=\"a-text-left mojo-field-type-studio\"><a class=\"a-link-normal\" href=\"https://pro.imdb.com/company/co0015762/boxoffice/?view=releases&amp;ref_=mojo_yld_table_150&amp;rf=mojo_yld_table_150\" rel=\"noopener\" target=\"_blank\">IFC Films<svg class=\"mojo-new-window-svg\" viewBox=\"0 0 32 32\" xmlns=\"http://www.w3.org/2000/svg\">\n",
       "        <path d=\"M24,15.57251l3,3V23.5A3.50424,3.50424,0,0,1,23.5,27H8.5A3.50424,3.50424,0,0,1,5,23.5V8.5A3.50424,3.50424,0,0,1,8.5,5h4.92755l3,3H8.5a.50641.50641,0,0,0-.5.5v15a.50641.50641,0,0,0,.5.5h15a.50641.50641,0,0,0,.5-.5ZM19.81952,8.56372,12.8844,17.75a.49989.49989,0,0,0,.04547.65479l.66534.66528a.49983.49983,0,0,0,.65479.04553l9.18628-6.93518,2.12579,2.12585a.5.5,0,0,0,.84741-.27526l1.48273-9.35108a.50006.50006,0,0,0-.57214-.57214L17.969,5.59058a.5.5,0,0,0-.27526.84741Z\"></path>\n",
       "    </svg></a></td><td class=\"a-text-right mojo-field-type-boolean hidden\">false</td></tr><tr><td class=\"a-text-right mojo-header-column mojo-truncate mojo-field-type-rank mojo-sort-column\">151</td><td class=\"a-text-left mojo-field-type-release mojo-cell-wide\"><a class=\"a-link-normal\" href=\"/release/rl2344452609/?ref_=bo_yld_table_151\">Nick Mason's Saucerful of Secrets: Live at the Roundhouse</a></td><td class=\"a-text-left mojo-field-type-genre hidden\">-</td><td class=\"a-text-right mojo-field-type-money hidden\">-</td><td class=\"a-text-right mojo-field-type-duration hidden\">-</td><td class=\"a-text-right mojo-field-type-money mojo-estimatable\">$32,444</td><td class=\"a-text-right mojo-field-type-positive_integer\">42</td><td class=\"a-text-right mojo-field-type-money mojo-estimatable\">$32,444</td><td class=\"a-text-left mojo-field-type-date a-nowrap\">Mar 6</td><td class=\"a-text-left mojo-field-type-studio\"><a class=\"a-link-normal\" href=\"https://pro.imdb.com/company/co0634829/boxoffice/?view=releases&amp;ref_=mojo_yld_table_151&amp;rf=mojo_yld_table_151\" rel=\"noopener\" target=\"_blank\">Trafalgar Releasing<svg class=\"mojo-new-window-svg\" viewBox=\"0 0 32 32\" xmlns=\"http://www.w3.org/2000/svg\">\n",
       "        <path d=\"M24,15.57251l3,3V23.5A3.50424,3.50424,0,0,1,23.5,27H8.5A3.50424,3.50424,0,0,1,5,23.5V8.5A3.50424,3.50424,0,0,1,8.5,5h4.92755l3,3H8.5a.50641.50641,0,0,0-.5.5v15a.50641.50641,0,0,0,.5.5h15a.50641.50641,0,0,0,.5-.5ZM19.81952,8.56372,12.8844,17.75a.49989.49989,0,0,0,.04547.65479l.66534.66528a.49983.49983,0,0,0,.65479.04553l9.18628-6.93518,2.12579,2.12585a.5.5,0,0,0,.84741-.27526l1.48273-9.35108a.50006.50006,0,0,0-.57214-.57214L17.969,5.59058a.5.5,0,0,0-.27526.84741Z\"></path>\n",
       "    </svg></a></td><td class=\"a-text-right mojo-field-type-boolean hidden\">false</td></tr><tr><td class=\"a-text-right mojo-header-column mojo-truncate mojo-field-type-rank mojo-sort-column\">152</td><td class=\"a-text-left mojo-field-type-release mojo-cell-wide\"><a class=\"a-link-normal\" href=\"/release/rl716603905/?ref_=bo_yld_table_152\">After Parkland</a></td><td class=\"a-text-left mojo-field-type-genre hidden\">-</td><td class=\"a-text-right mojo-field-type-money hidden\">-</td><td class=\"a-text-right mojo-field-type-duration hidden\">-</td><td class=\"a-text-right mojo-field-type-money mojo-estimatable\">$30,444</td><td class=\"a-text-right mojo-field-type-positive_integer\">71</td><td class=\"a-text-right mojo-field-type-money mojo-estimatable\">$30,444</td><td class=\"a-text-left mojo-field-type-date a-nowrap\">Feb 12</td><td class=\"a-text-left mojo-field-type-studio\"><a class=\"a-link-normal\" href=\"https://pro.imdb.com/company/co0291948/boxoffice/?view=releases&amp;ref_=mojo_yld_table_152&amp;rf=mojo_yld_table_152\" rel=\"noopener\" target=\"_blank\">Kino Lorber<svg class=\"mojo-new-window-svg\" viewBox=\"0 0 32 32\" xmlns=\"http://www.w3.org/2000/svg\">\n",
       "        <path d=\"M24,15.57251l3,3V23.5A3.50424,3.50424,0,0,1,23.5,27H8.5A3.50424,3.50424,0,0,1,5,23.5V8.5A3.50424,3.50424,0,0,1,8.5,5h4.92755l3,3H8.5a.50641.50641,0,0,0-.5.5v15a.50641.50641,0,0,0,.5.5h15a.50641.50641,0,0,0,.5-.5ZM19.81952,8.56372,12.8844,17.75a.49989.49989,0,0,0,.04547.65479l.66534.66528a.49983.49983,0,0,0,.65479.04553l9.18628-6.93518,2.12579,2.12585a.5.5,0,0,0,.84741-.27526l1.48273-9.35108a.50006.50006,0,0,0-.57214-.57214L17.969,5.59058a.5.5,0,0,0-.27526.84741Z\"></path>\n",
       "    </svg></a></td><td class=\"a-text-right mojo-field-type-boolean hidden\">false</td></tr><tr><td class=\"a-text-right mojo-header-column mojo-truncate mojo-field-type-rank mojo-sort-column\">153</td><td class=\"a-text-left mojo-field-type-release mojo-cell-wide\"><a class=\"a-link-normal\" href=\"/release/rl3652616705/?ref_=bo_yld_table_153\">Olympic Dreams</a></td><td class=\"a-text-left mojo-field-type-genre hidden\">-</td><td class=\"a-text-right mojo-field-type-money hidden\">-</td><td class=\"a-text-right mojo-field-type-duration hidden\">-</td><td class=\"a-text-right mojo-field-type-money mojo-estimatable\">$29,450</td><td class=\"a-text-right mojo-field-type-positive_integer\">35</td><td class=\"a-text-right mojo-field-type-money mojo-estimatable\">$29,450</td><td class=\"a-text-left mojo-field-type-date a-nowrap\">Feb 14</td><td class=\"a-text-left mojo-field-type-studio\"><a class=\"a-link-normal\" href=\"https://pro.imdb.com/company/co0015762/boxoffice/?view=releases&amp;ref_=mojo_yld_table_153&amp;rf=mojo_yld_table_153\" rel=\"noopener\" target=\"_blank\">IFC Films<svg class=\"mojo-new-window-svg\" viewBox=\"0 0 32 32\" xmlns=\"http://www.w3.org/2000/svg\">\n",
       "        <path d=\"M24,15.57251l3,3V23.5A3.50424,3.50424,0,0,1,23.5,27H8.5A3.50424,3.50424,0,0,1,5,23.5V8.5A3.50424,3.50424,0,0,1,8.5,5h4.92755l3,3H8.5a.50641.50641,0,0,0-.5.5v15a.50641.50641,0,0,0,.5.5h15a.50641.50641,0,0,0,.5-.5ZM19.81952,8.56372,12.8844,17.75a.49989.49989,0,0,0,.04547.65479l.66534.66528a.49983.49983,0,0,0,.65479.04553l9.18628-6.93518,2.12579,2.12585a.5.5,0,0,0,.84741-.27526l1.48273-9.35108a.50006.50006,0,0,0-.57214-.57214L17.969,5.59058a.5.5,0,0,0-.27526.84741Z\"></path>\n",
       "    </svg></a></td><td class=\"a-text-right mojo-field-type-boolean hidden\">false</td></tr><tr><td class=\"a-text-right mojo-header-column mojo-truncate mojo-field-type-rank mojo-sort-column\">154</td><td class=\"a-text-left mojo-field-type-release mojo-cell-wide\"><a class=\"a-link-normal\" href=\"/release/rl3753280001/?ref_=bo_yld_table_154\">Buffaloed</a></td><td class=\"a-text-left mojo-field-type-genre hidden\">-</td><td class=\"a-text-right mojo-field-type-money hidden\">-</td><td class=\"a-text-right mojo-field-type-duration hidden\">-</td><td class=\"a-text-right mojo-field-type-money mojo-estimatable\">$29,118</td><td class=\"a-text-right mojo-field-type-positive_integer\">9</td><td class=\"a-text-right mojo-field-type-money mojo-estimatable\">$29,118</td><td class=\"a-text-left mojo-field-type-date a-nowrap\">Feb 14</td><td class=\"a-text-left mojo-field-type-studio\"><a class=\"a-link-normal\" href=\"https://pro.imdb.com/company/co0134717/boxoffice/?view=releases&amp;ref_=mojo_yld_table_154&amp;rf=mojo_yld_table_154\" rel=\"noopener\" target=\"_blank\">Magnolia Pictures<svg class=\"mojo-new-window-svg\" viewBox=\"0 0 32 32\" xmlns=\"http://www.w3.org/2000/svg\">\n",
       "        <path d=\"M24,15.57251l3,3V23.5A3.50424,3.50424,0,0,1,23.5,27H8.5A3.50424,3.50424,0,0,1,5,23.5V8.5A3.50424,3.50424,0,0,1,8.5,5h4.92755l3,3H8.5a.50641.50641,0,0,0-.5.5v15a.50641.50641,0,0,0,.5.5h15a.50641.50641,0,0,0,.5-.5ZM19.81952,8.56372,12.8844,17.75a.49989.49989,0,0,0,.04547.65479l.66534.66528a.49983.49983,0,0,0,.65479.04553l9.18628-6.93518,2.12579,2.12585a.5.5,0,0,0,.84741-.27526l1.48273-9.35108a.50006.50006,0,0,0-.57214-.57214L17.969,5.59058a.5.5,0,0,0-.27526.84741Z\"></path>\n",
       "    </svg></a></td><td class=\"a-text-right mojo-field-type-boolean hidden\">false</td></tr><tr><td class=\"a-text-right mojo-header-column mojo-truncate mojo-field-type-rank mojo-sort-column\">155</td><td class=\"a-text-left mojo-field-type-release mojo-cell-wide\"><a class=\"a-link-normal\" href=\"/release/rl2814018049/?ref_=bo_yld_table_155\">Bacurau</a></td><td class=\"a-text-left mojo-field-type-genre hidden\">-</td><td class=\"a-text-right mojo-field-type-money hidden\">-</td><td class=\"a-text-right mojo-field-type-duration hidden\">-</td><td class=\"a-text-right mojo-field-type-money mojo-estimatable\">$27,634</td><td class=\"a-text-right mojo-field-type-positive_integer\">6</td><td class=\"a-text-right mojo-field-type-money mojo-estimatable\">$58,115</td><td class=\"a-text-left mojo-field-type-date a-nowrap\">Mar 6</td><td class=\"a-text-left mojo-field-type-studio\"><a class=\"a-link-normal\" href=\"https://pro.imdb.com/company/co0291948/boxoffice/?view=releases&amp;ref_=mojo_yld_table_155&amp;rf=mojo_yld_table_155\" rel=\"noopener\" target=\"_blank\">Kino Lorber<svg class=\"mojo-new-window-svg\" viewBox=\"0 0 32 32\" xmlns=\"http://www.w3.org/2000/svg\">\n",
       "        <path d=\"M24,15.57251l3,3V23.5A3.50424,3.50424,0,0,1,23.5,27H8.5A3.50424,3.50424,0,0,1,5,23.5V8.5A3.50424,3.50424,0,0,1,8.5,5h4.92755l3,3H8.5a.50641.50641,0,0,0-.5.5v15a.50641.50641,0,0,0,.5.5h15a.50641.50641,0,0,0,.5-.5ZM19.81952,8.56372,12.8844,17.75a.49989.49989,0,0,0,.04547.65479l.66534.66528a.49983.49983,0,0,0,.65479.04553l9.18628-6.93518,2.12579,2.12585a.5.5,0,0,0,.84741-.27526l1.48273-9.35108a.50006.50006,0,0,0-.57214-.57214L17.969,5.59058a.5.5,0,0,0-.27526.84741Z\"></path>\n",
       "    </svg></a></td><td class=\"a-text-right mojo-field-type-boolean hidden\">false</td></tr><tr><td class=\"a-text-right mojo-header-column mojo-truncate mojo-field-type-rank mojo-sort-column\">156</td><td class=\"a-text-left mojo-field-type-release mojo-cell-wide\"><a class=\"a-link-normal\" href=\"/release/rl386434561/?ref_=bo_yld_table_156\">Countdown</a></td><td class=\"a-text-left mojo-field-type-genre hidden\">-</td><td class=\"a-text-right mojo-field-type-money hidden\">-</td><td class=\"a-text-right mojo-field-type-duration hidden\">-</td><td class=\"a-text-right mojo-field-type-money mojo-estimatable\">$27,397</td><td class=\"a-text-right mojo-field-type-positive_integer\">2,675</td><td class=\"a-text-right mojo-field-type-money mojo-estimatable\">$25,621,766</td><td class=\"a-text-left mojo-field-type-date a-nowrap\">Oct 25</td><td class=\"a-text-left mojo-field-type-studio\"><a class=\"a-link-normal\" href=\"https://pro.imdb.com/company/co0249694/boxoffice/?view=releases&amp;ref_=mojo_yld_table_156&amp;rf=mojo_yld_table_156\" rel=\"noopener\" target=\"_blank\">STX Entertainment<svg class=\"mojo-new-window-svg\" viewBox=\"0 0 32 32\" xmlns=\"http://www.w3.org/2000/svg\">\n",
       "        <path d=\"M24,15.57251l3,3V23.5A3.50424,3.50424,0,0,1,23.5,27H8.5A3.50424,3.50424,0,0,1,5,23.5V8.5A3.50424,3.50424,0,0,1,8.5,5h4.92755l3,3H8.5a.50641.50641,0,0,0-.5.5v15a.50641.50641,0,0,0,.5.5h15a.50641.50641,0,0,0,.5-.5ZM19.81952,8.56372,12.8844,17.75a.49989.49989,0,0,0,.04547.65479l.66534.66528a.49983.49983,0,0,0,.65479.04553l9.18628-6.93518,2.12579,2.12585a.5.5,0,0,0,.84741-.27526l1.48273-9.35108a.50006.50006,0,0,0-.57214-.57214L17.969,5.59058a.5.5,0,0,0-.27526.84741Z\"></path>\n",
       "    </svg></a></td><td class=\"a-text-right mojo-field-type-boolean hidden\">false</td></tr><tr><td class=\"a-text-right mojo-header-column mojo-truncate mojo-field-type-rank mojo-sort-column\">157</td><td class=\"a-text-left mojo-field-type-release mojo-cell-wide\"><a class=\"a-link-normal\" href=\"/release/rl548831745/?ref_=bo_yld_table_157\">Cane River</a><div class=\"a-section a-spacing-none\"><span class=\"a-size-small a-color-secondary\">2020 Re-release</span></div></td><td class=\"a-text-left mojo-field-type-genre hidden\">-</td><td class=\"a-text-right mojo-field-type-money hidden\">-</td><td class=\"a-text-right mojo-field-type-duration hidden\">-</td><td class=\"a-text-right mojo-field-type-money mojo-estimatable\">$27,317</td><td class=\"a-text-right mojo-field-type-positive_integer\">6</td><td class=\"a-text-right mojo-field-type-money mojo-estimatable\">$27,317</td><td class=\"a-text-left mojo-field-type-date a-nowrap\">Feb 7</td><td class=\"a-text-left mojo-field-type-studio\"><a class=\"a-link-normal\" href=\"https://pro.imdb.com/company/co0166963/boxoffice/?view=releases&amp;ref_=mojo_yld_table_157&amp;rf=mojo_yld_table_157\" rel=\"noopener\" target=\"_blank\">Oscilloscope<svg class=\"mojo-new-window-svg\" viewBox=\"0 0 32 32\" xmlns=\"http://www.w3.org/2000/svg\">\n",
       "        <path d=\"M24,15.57251l3,3V23.5A3.50424,3.50424,0,0,1,23.5,27H8.5A3.50424,3.50424,0,0,1,5,23.5V8.5A3.50424,3.50424,0,0,1,8.5,5h4.92755l3,3H8.5a.50641.50641,0,0,0-.5.5v15a.50641.50641,0,0,0,.5.5h15a.50641.50641,0,0,0,.5-.5ZM19.81952,8.56372,12.8844,17.75a.49989.49989,0,0,0,.04547.65479l.66534.66528a.49983.49983,0,0,0,.65479.04553l9.18628-6.93518,2.12579,2.12585a.5.5,0,0,0,.84741-.27526l1.48273-9.35108a.50006.50006,0,0,0-.57214-.57214L17.969,5.59058a.5.5,0,0,0-.27526.84741Z\"></path>\n",
       "    </svg></a></td><td class=\"a-text-right mojo-field-type-boolean hidden\">false</td></tr><tr><td class=\"a-text-right mojo-header-column mojo-truncate mojo-field-type-rank mojo-sort-column\">158</td><td class=\"a-text-left mojo-field-type-release mojo-cell-wide\"><a class=\"a-link-normal\" href=\"/release/rl2601223681/?ref_=bo_yld_table_158\">Midnight Family</a></td><td class=\"a-text-left mojo-field-type-genre hidden\">-</td><td class=\"a-text-right mojo-field-type-money hidden\">-</td><td class=\"a-text-right mojo-field-type-duration hidden\">-</td><td class=\"a-text-right mojo-field-type-money mojo-estimatable\">$26,773</td><td class=\"a-text-right mojo-field-type-positive_integer\">13</td><td class=\"a-text-right mojo-field-type-money mojo-estimatable\">$42,310</td><td class=\"a-text-left mojo-field-type-date a-nowrap\">Dec 6</td><td class=\"a-text-left mojo-field-type-studio\"><a class=\"a-link-normal\" href=\"https://pro.imdb.com/company/co0731624/boxoffice/?view=releases&amp;ref_=mojo_yld_table_158&amp;rf=mojo_yld_table_158\" rel=\"noopener\" target=\"_blank\">1091 Media<svg class=\"mojo-new-window-svg\" viewBox=\"0 0 32 32\" xmlns=\"http://www.w3.org/2000/svg\">\n",
       "        <path d=\"M24,15.57251l3,3V23.5A3.50424,3.50424,0,0,1,23.5,27H8.5A3.50424,3.50424,0,0,1,5,23.5V8.5A3.50424,3.50424,0,0,1,8.5,5h4.92755l3,3H8.5a.50641.50641,0,0,0-.5.5v15a.50641.50641,0,0,0,.5.5h15a.50641.50641,0,0,0,.5-.5ZM19.81952,8.56372,12.8844,17.75a.49989.49989,0,0,0,.04547.65479l.66534.66528a.49983.49983,0,0,0,.65479.04553l9.18628-6.93518,2.12579,2.12585a.5.5,0,0,0,.84741-.27526l1.48273-9.35108a.50006.50006,0,0,0-.57214-.57214L17.969,5.59058a.5.5,0,0,0-.27526.84741Z\"></path>\n",
       "    </svg></a></td><td class=\"a-text-right mojo-field-type-boolean hidden\">false</td></tr><tr><td class=\"a-text-right mojo-header-column mojo-truncate mojo-field-type-rank mojo-sort-column\">159</td><td class=\"a-text-left mojo-field-type-release mojo-cell-wide\"><a class=\"a-link-normal\" href=\"/release/rl783647233/?ref_=bo_yld_table_159\">José</a></td><td class=\"a-text-left mojo-field-type-genre hidden\">-</td><td class=\"a-text-right mojo-field-type-money hidden\">-</td><td class=\"a-text-right mojo-field-type-duration hidden\">-</td><td class=\"a-text-right mojo-field-type-money mojo-estimatable\">$26,563</td><td class=\"a-text-right mojo-field-type-positive_integer\">2</td><td class=\"a-text-right mojo-field-type-money mojo-estimatable\">$26,563</td><td class=\"a-text-left mojo-field-type-date a-nowrap\">Jan 31</td><td class=\"a-text-left mojo-field-type-studio\"><a class=\"a-link-normal\" href=\"https://pro.imdb.com/company/co0182915/boxoffice/?view=releases&amp;ref_=mojo_yld_table_159&amp;rf=mojo_yld_table_159\" rel=\"noopener\" target=\"_blank\">Outsider Pictures<svg class=\"mojo-new-window-svg\" viewBox=\"0 0 32 32\" xmlns=\"http://www.w3.org/2000/svg\">\n",
       "        <path d=\"M24,15.57251l3,3V23.5A3.50424,3.50424,0,0,1,23.5,27H8.5A3.50424,3.50424,0,0,1,5,23.5V8.5A3.50424,3.50424,0,0,1,8.5,5h4.92755l3,3H8.5a.50641.50641,0,0,0-.5.5v15a.50641.50641,0,0,0,.5.5h15a.50641.50641,0,0,0,.5-.5ZM19.81952,8.56372,12.8844,17.75a.49989.49989,0,0,0,.04547.65479l.66534.66528a.49983.49983,0,0,0,.65479.04553l9.18628-6.93518,2.12579,2.12585a.5.5,0,0,0,.84741-.27526l1.48273-9.35108a.50006.50006,0,0,0-.57214-.57214L17.969,5.59058a.5.5,0,0,0-.27526.84741Z\"></path>\n",
       "    </svg></a></td><td class=\"a-text-right mojo-field-type-boolean hidden\">false</td></tr><tr><td class=\"a-text-right mojo-header-column mojo-truncate mojo-field-type-rank mojo-sort-column\">160</td><td class=\"a-text-left mojo-field-type-release mojo-cell-wide\"><a class=\"a-link-normal\" href=\"/release/rl3617358337/?ref_=bo_yld_table_160\">Synonyms</a></td><td class=\"a-text-left mojo-field-type-genre hidden\">-</td><td class=\"a-text-right mojo-field-type-money hidden\">-</td><td class=\"a-text-right mojo-field-type-duration hidden\">-</td><td class=\"a-text-right mojo-field-type-money mojo-estimatable\">$26,181</td><td class=\"a-text-right mojo-field-type-positive_integer\">13</td><td class=\"a-text-right mojo-field-type-money mojo-estimatable\">$206,003</td><td class=\"a-text-left mojo-field-type-date a-nowrap\">Oct 25</td><td class=\"a-text-left mojo-field-type-studio\"><a class=\"a-link-normal\" href=\"https://pro.imdb.com/company/co0291948/boxoffice/?view=releases&amp;ref_=mojo_yld_table_160&amp;rf=mojo_yld_table_160\" rel=\"noopener\" target=\"_blank\">Kino Lorber<svg class=\"mojo-new-window-svg\" viewBox=\"0 0 32 32\" xmlns=\"http://www.w3.org/2000/svg\">\n",
       "        <path d=\"M24,15.57251l3,3V23.5A3.50424,3.50424,0,0,1,23.5,27H8.5A3.50424,3.50424,0,0,1,5,23.5V8.5A3.50424,3.50424,0,0,1,8.5,5h4.92755l3,3H8.5a.50641.50641,0,0,0-.5.5v15a.50641.50641,0,0,0,.5.5h15a.50641.50641,0,0,0,.5-.5ZM19.81952,8.56372,12.8844,17.75a.49989.49989,0,0,0,.04547.65479l.66534.66528a.49983.49983,0,0,0,.65479.04553l9.18628-6.93518,2.12579,2.12585a.5.5,0,0,0,.84741-.27526l1.48273-9.35108a.50006.50006,0,0,0-.57214-.57214L17.969,5.59058a.5.5,0,0,0-.27526.84741Z\"></path>\n",
       "    </svg></a></td><td class=\"a-text-right mojo-field-type-boolean hidden\">false</td></tr><tr><td class=\"a-text-right mojo-header-column mojo-truncate mojo-field-type-rank mojo-sort-column\">161</td><td class=\"a-text-left mojo-field-type-release mojo-cell-wide\"><a class=\"a-link-normal\" href=\"/release/rl414024193/?ref_=bo_yld_table_161\">The Booksellers</a></td><td class=\"a-text-left mojo-field-type-genre hidden\">-</td><td class=\"a-text-right mojo-field-type-money hidden\">-</td><td class=\"a-text-right mojo-field-type-duration hidden\">-</td><td class=\"a-text-right mojo-field-type-money mojo-estimatable\">$25,694</td><td class=\"a-text-right mojo-field-type-positive_integer\">3</td><td class=\"a-text-right mojo-field-type-money mojo-estimatable\">$25,694</td><td class=\"a-text-left mojo-field-type-date a-nowrap\">Mar 6</td><td class=\"a-text-left mojo-field-type-studio\"><a class=\"a-link-normal\" href=\"https://pro.imdb.com/company/co0662464/boxoffice/?view=releases&amp;ref_=mojo_yld_table_161&amp;rf=mojo_yld_table_161\" rel=\"noopener\" target=\"_blank\">Greenwich Entertainment<svg class=\"mojo-new-window-svg\" viewBox=\"0 0 32 32\" xmlns=\"http://www.w3.org/2000/svg\">\n",
       "        <path d=\"M24,15.57251l3,3V23.5A3.50424,3.50424,0,0,1,23.5,27H8.5A3.50424,3.50424,0,0,1,5,23.5V8.5A3.50424,3.50424,0,0,1,8.5,5h4.92755l3,3H8.5a.50641.50641,0,0,0-.5.5v15a.50641.50641,0,0,0,.5.5h15a.50641.50641,0,0,0,.5-.5ZM19.81952,8.56372,12.8844,17.75a.49989.49989,0,0,0,.04547.65479l.66534.66528a.49983.49983,0,0,0,.65479.04553l9.18628-6.93518,2.12579,2.12585a.5.5,0,0,0,.84741-.27526l1.48273-9.35108a.50006.50006,0,0,0-.57214-.57214L17.969,5.59058a.5.5,0,0,0-.27526.84741Z\"></path>\n",
       "    </svg></a></td><td class=\"a-text-right mojo-field-type-boolean hidden\">false</td></tr><tr><td class=\"a-text-right mojo-header-column mojo-truncate mojo-field-type-rank mojo-sort-column\">162</td><td class=\"a-text-left mojo-field-type-release mojo-cell-wide\"><a class=\"a-link-normal\" href=\"/release/rl3104540161/?ref_=bo_yld_table_162\">Promare</a></td><td class=\"a-text-left mojo-field-type-genre hidden\">-</td><td class=\"a-text-right mojo-field-type-money hidden\">-</td><td class=\"a-text-right mojo-field-type-duration hidden\">-</td><td class=\"a-text-right mojo-field-type-money mojo-estimatable\">$25,615</td><td class=\"a-text-right mojo-field-type-positive_integer\">701</td><td class=\"a-text-right mojo-field-type-money mojo-estimatable\">$2,313,596</td><td class=\"a-text-left mojo-field-type-date a-nowrap\">Sep 17</td><td class=\"a-text-left mojo-field-type-studio\"><a class=\"a-link-normal\" href=\"https://pro.imdb.com/company/co0255038/boxoffice/?view=releases&amp;ref_=mojo_yld_table_162&amp;rf=mojo_yld_table_162\" rel=\"noopener\" target=\"_blank\">GKIDS<svg class=\"mojo-new-window-svg\" viewBox=\"0 0 32 32\" xmlns=\"http://www.w3.org/2000/svg\">\n",
       "        <path d=\"M24,15.57251l3,3V23.5A3.50424,3.50424,0,0,1,23.5,27H8.5A3.50424,3.50424,0,0,1,5,23.5V8.5A3.50424,3.50424,0,0,1,8.5,5h4.92755l3,3H8.5a.50641.50641,0,0,0-.5.5v15a.50641.50641,0,0,0,.5.5h15a.50641.50641,0,0,0,.5-.5ZM19.81952,8.56372,12.8844,17.75a.49989.49989,0,0,0,.04547.65479l.66534.66528a.49983.49983,0,0,0,.65479.04553l9.18628-6.93518,2.12579,2.12585a.5.5,0,0,0,.84741-.27526l1.48273-9.35108a.50006.50006,0,0,0-.57214-.57214L17.969,5.59058a.5.5,0,0,0-.27526.84741Z\"></path>\n",
       "    </svg></a></td><td class=\"a-text-right mojo-field-type-boolean hidden\">false</td></tr><tr><td class=\"a-text-right mojo-header-column mojo-truncate mojo-field-type-rank mojo-sort-column\">163</td><td class=\"a-text-left mojo-field-type-release mojo-cell-wide\"><a class=\"a-link-normal\" href=\"/release/rl3158344449/?ref_=bo_yld_table_163\">Unsubscribe</a></td><td class=\"a-text-left mojo-field-type-genre hidden\">-</td><td class=\"a-text-right mojo-field-type-money hidden\">-</td><td class=\"a-text-right mojo-field-type-duration hidden\">-</td><td class=\"a-text-right mojo-field-type-money mojo-estimatable\">$25,488</td><td class=\"a-text-right mojo-field-type-positive_integer\">1</td><td class=\"a-text-right mojo-field-type-money mojo-estimatable\">$25,488</td><td class=\"a-text-left mojo-field-type-date a-nowrap\">Jun 10</td><td class=\"a-text-left mojo-field-type-studio\">-</td><td class=\"a-text-right mojo-field-type-boolean hidden\">false</td></tr><tr><td class=\"a-text-right mojo-header-column mojo-truncate mojo-field-type-rank mojo-sort-column\">164</td><td class=\"a-text-left mojo-field-type-release mojo-cell-wide\"><a class=\"a-link-normal\" href=\"/release/rl1706983937/?ref_=bo_yld_table_164\">Disappearance at Clifton Hill</a></td><td class=\"a-text-left mojo-field-type-genre hidden\">-</td><td class=\"a-text-right mojo-field-type-money hidden\">-</td><td class=\"a-text-right mojo-field-type-duration hidden\">-</td><td class=\"a-text-right mojo-field-type-money mojo-estimatable\">$25,084</td><td class=\"a-text-right mojo-field-type-positive_integer\">19</td><td class=\"a-text-right mojo-field-type-money mojo-estimatable\">$25,084</td><td class=\"a-text-left mojo-field-type-date a-nowrap\">Feb 28</td><td class=\"a-text-left mojo-field-type-studio\"><a class=\"a-link-normal\" href=\"https://pro.imdb.com/company/co0015762/boxoffice/?view=releases&amp;ref_=mojo_yld_table_164&amp;rf=mojo_yld_table_164\" rel=\"noopener\" target=\"_blank\">IFC Films<svg class=\"mojo-new-window-svg\" viewBox=\"0 0 32 32\" xmlns=\"http://www.w3.org/2000/svg\">\n",
       "        <path d=\"M24,15.57251l3,3V23.5A3.50424,3.50424,0,0,1,23.5,27H8.5A3.50424,3.50424,0,0,1,5,23.5V8.5A3.50424,3.50424,0,0,1,8.5,5h4.92755l3,3H8.5a.50641.50641,0,0,0-.5.5v15a.50641.50641,0,0,0,.5.5h15a.50641.50641,0,0,0,.5-.5ZM19.81952,8.56372,12.8844,17.75a.49989.49989,0,0,0,.04547.65479l.66534.66528a.49983.49983,0,0,0,.65479.04553l9.18628-6.93518,2.12579,2.12585a.5.5,0,0,0,.84741-.27526l1.48273-9.35108a.50006.50006,0,0,0-.57214-.57214L17.969,5.59058a.5.5,0,0,0-.27526.84741Z\"></path>\n",
       "    </svg></a></td><td class=\"a-text-right mojo-field-type-boolean hidden\">false</td></tr><tr><td class=\"a-text-right mojo-header-column mojo-truncate mojo-field-type-rank mojo-sort-column\">165</td><td class=\"a-text-left mojo-field-type-release mojo-cell-wide\"><a class=\"a-link-normal\" href=\"/release/rl548110849/?ref_=bo_yld_table_165\">Zombi Child</a></td><td class=\"a-text-left mojo-field-type-genre hidden\">-</td><td class=\"a-text-right mojo-field-type-money hidden\">-</td><td class=\"a-text-right mojo-field-type-duration hidden\">-</td><td class=\"a-text-right mojo-field-type-money mojo-estimatable\">$24,253</td><td class=\"a-text-right mojo-field-type-positive_integer\">9</td><td class=\"a-text-right mojo-field-type-money mojo-estimatable\">$25,878</td><td class=\"a-text-left mojo-field-type-date a-nowrap\">Jan 24</td><td class=\"a-text-left mojo-field-type-studio\"><a class=\"a-link-normal\" href=\"https://pro.imdb.com/company/co0087326/boxoffice/?view=releases&amp;ref_=mojo_yld_table_165&amp;rf=mojo_yld_table_165\" rel=\"noopener\" target=\"_blank\">Film Movement<svg class=\"mojo-new-window-svg\" viewBox=\"0 0 32 32\" xmlns=\"http://www.w3.org/2000/svg\">\n",
       "        <path d=\"M24,15.57251l3,3V23.5A3.50424,3.50424,0,0,1,23.5,27H8.5A3.50424,3.50424,0,0,1,5,23.5V8.5A3.50424,3.50424,0,0,1,8.5,5h4.92755l3,3H8.5a.50641.50641,0,0,0-.5.5v15a.50641.50641,0,0,0,.5.5h15a.50641.50641,0,0,0,.5-.5ZM19.81952,8.56372,12.8844,17.75a.49989.49989,0,0,0,.04547.65479l.66534.66528a.49983.49983,0,0,0,.65479.04553l9.18628-6.93518,2.12579,2.12585a.5.5,0,0,0,.84741-.27526l1.48273-9.35108a.50006.50006,0,0,0-.57214-.57214L17.969,5.59058a.5.5,0,0,0-.27526.84741Z\"></path>\n",
       "    </svg></a></td><td class=\"a-text-right mojo-field-type-boolean hidden\">false</td></tr><tr><td class=\"a-text-right mojo-header-column mojo-truncate mojo-field-type-rank mojo-sort-column\">166</td><td class=\"a-text-left mojo-field-type-release mojo-cell-wide\"><a class=\"a-link-normal\" href=\"/release/rl566002177/?ref_=bo_yld_table_166\">Heart of Africa</a></td><td class=\"a-text-left mojo-field-type-genre hidden\">-</td><td class=\"a-text-right mojo-field-type-money hidden\">-</td><td class=\"a-text-right mojo-field-type-duration hidden\">-</td><td class=\"a-text-right mojo-field-type-money mojo-estimatable\">$24,139</td><td class=\"a-text-right mojo-field-type-positive_integer\">20</td><td class=\"a-text-right mojo-field-type-money mojo-estimatable\">$24,139</td><td class=\"a-text-left mojo-field-type-date a-nowrap\">Mar 13</td><td class=\"a-text-left mojo-field-type-studio\"><a class=\"a-link-normal\" href=\"https://pro.imdb.com/company/co0482851/boxoffice/?view=releases&amp;ref_=mojo_yld_table_166&amp;rf=mojo_yld_table_166\" rel=\"noopener\" target=\"_blank\">Purdie Distribution<svg class=\"mojo-new-window-svg\" viewBox=\"0 0 32 32\" xmlns=\"http://www.w3.org/2000/svg\">\n",
       "        <path d=\"M24,15.57251l3,3V23.5A3.50424,3.50424,0,0,1,23.5,27H8.5A3.50424,3.50424,0,0,1,5,23.5V8.5A3.50424,3.50424,0,0,1,8.5,5h4.92755l3,3H8.5a.50641.50641,0,0,0-.5.5v15a.50641.50641,0,0,0,.5.5h15a.50641.50641,0,0,0,.5-.5ZM19.81952,8.56372,12.8844,17.75a.49989.49989,0,0,0,.04547.65479l.66534.66528a.49983.49983,0,0,0,.65479.04553l9.18628-6.93518,2.12579,2.12585a.5.5,0,0,0,.84741-.27526l1.48273-9.35108a.50006.50006,0,0,0-.57214-.57214L17.969,5.59058a.5.5,0,0,0-.27526.84741Z\"></path>\n",
       "    </svg></a></td><td class=\"a-text-right mojo-field-type-boolean hidden\">false</td></tr><tr><td class=\"a-text-right mojo-header-column mojo-truncate mojo-field-type-rank mojo-sort-column\">167</td><td class=\"a-text-left mojo-field-type-release mojo-cell-wide\"><a class=\"a-link-normal\" href=\"/release/rl2923857409/?ref_=bo_yld_table_167\">Born to Be Wild</a></td><td class=\"a-text-left mojo-field-type-genre hidden\">-</td><td class=\"a-text-right mojo-field-type-money hidden\">-</td><td class=\"a-text-right mojo-field-type-duration hidden\">-</td><td class=\"a-text-right mojo-field-type-money mojo-estimatable\">$24,051</td><td class=\"a-text-right mojo-field-type-positive_integer\">208</td><td class=\"a-text-right mojo-field-type-money mojo-estimatable\">$25,978,556</td><td class=\"a-text-left mojo-field-type-date a-nowrap\">Apr 8</td><td class=\"a-text-left mojo-field-type-studio\"><a class=\"a-link-normal\" href=\"https://pro.imdb.com/company/co0002663/boxoffice/?view=releases&amp;ref_=mojo_yld_table_167&amp;rf=mojo_yld_table_167\" rel=\"noopener\" target=\"_blank\">Warner Bros.<svg class=\"mojo-new-window-svg\" viewBox=\"0 0 32 32\" xmlns=\"http://www.w3.org/2000/svg\">\n",
       "        <path d=\"M24,15.57251l3,3V23.5A3.50424,3.50424,0,0,1,23.5,27H8.5A3.50424,3.50424,0,0,1,5,23.5V8.5A3.50424,3.50424,0,0,1,8.5,5h4.92755l3,3H8.5a.50641.50641,0,0,0-.5.5v15a.50641.50641,0,0,0,.5.5h15a.50641.50641,0,0,0,.5-.5ZM19.81952,8.56372,12.8844,17.75a.49989.49989,0,0,0,.04547.65479l.66534.66528a.49983.49983,0,0,0,.65479.04553l9.18628-6.93518,2.12579,2.12585a.5.5,0,0,0,.84741-.27526l1.48273-9.35108a.50006.50006,0,0,0-.57214-.57214L17.969,5.59058a.5.5,0,0,0-.27526.84741Z\"></path>\n",
       "    </svg></a></td><td class=\"a-text-right mojo-field-type-boolean hidden\">false</td></tr><tr><td class=\"a-text-right mojo-header-column mojo-truncate mojo-field-type-rank mojo-sort-column\">168</td><td class=\"a-text-left mojo-field-type-release mojo-cell-wide\"><a class=\"a-link-normal\" href=\"/release/rl3552150017/?ref_=bo_yld_table_168\">Tread</a></td><td class=\"a-text-left mojo-field-type-genre hidden\">-</td><td class=\"a-text-right mojo-field-type-money hidden\">-</td><td class=\"a-text-right mojo-field-type-duration hidden\">-</td><td class=\"a-text-right mojo-field-type-money mojo-estimatable\">$24,000</td><td class=\"a-text-right mojo-field-type-positive_integer\">25</td><td class=\"a-text-right mojo-field-type-money mojo-estimatable\">$36,527</td><td class=\"a-text-left mojo-field-type-date a-nowrap\">Feb 21</td><td class=\"a-text-left mojo-field-type-studio\"><a class=\"a-link-normal\" href=\"https://pro.imdb.com/company/co0220024/boxoffice/?view=releases&amp;ref_=mojo_yld_table_168&amp;rf=mojo_yld_table_168\" rel=\"noopener\" target=\"_blank\">Gravitas Ventures<svg class=\"mojo-new-window-svg\" viewBox=\"0 0 32 32\" xmlns=\"http://www.w3.org/2000/svg\">\n",
       "        <path d=\"M24,15.57251l3,3V23.5A3.50424,3.50424,0,0,1,23.5,27H8.5A3.50424,3.50424,0,0,1,5,23.5V8.5A3.50424,3.50424,0,0,1,8.5,5h4.92755l3,3H8.5a.50641.50641,0,0,0-.5.5v15a.50641.50641,0,0,0,.5.5h15a.50641.50641,0,0,0,.5-.5ZM19.81952,8.56372,12.8844,17.75a.49989.49989,0,0,0,.04547.65479l.66534.66528a.49983.49983,0,0,0,.65479.04553l9.18628-6.93518,2.12579,2.12585a.5.5,0,0,0,.84741-.27526l1.48273-9.35108a.50006.50006,0,0,0-.57214-.57214L17.969,5.59058a.5.5,0,0,0-.27526.84741Z\"></path>\n",
       "    </svg></a></td><td class=\"a-text-right mojo-field-type-boolean hidden\">false</td></tr><tr><td class=\"a-text-right mojo-header-column mojo-truncate mojo-field-type-rank mojo-sort-column\">169</td><td class=\"a-text-left mojo-field-type-release mojo-cell-wide\"><a class=\"a-link-normal\" href=\"/release/rl2634778113/?ref_=bo_yld_table_169\">Branagh Theatre Live: The Winter's Tale</a></td><td class=\"a-text-left mojo-field-type-genre hidden\">-</td><td class=\"a-text-right mojo-field-type-money hidden\">-</td><td class=\"a-text-right mojo-field-type-duration hidden\">-</td><td class=\"a-text-right mojo-field-type-money mojo-estimatable\">$23,934</td><td class=\"a-text-right mojo-field-type-positive_integer\">106</td><td class=\"a-text-right mojo-field-type-money mojo-estimatable\">$141,143</td><td class=\"a-text-left mojo-field-type-date a-nowrap\">Dec 4</td><td class=\"a-text-left mojo-field-type-studio\"><a class=\"a-link-normal\" href=\"https://pro.imdb.com/company/co0634829/boxoffice/?view=releases&amp;ref_=mojo_yld_table_169&amp;rf=mojo_yld_table_169\" rel=\"noopener\" target=\"_blank\">Trafalgar Releasing<svg class=\"mojo-new-window-svg\" viewBox=\"0 0 32 32\" xmlns=\"http://www.w3.org/2000/svg\">\n",
       "        <path d=\"M24,15.57251l3,3V23.5A3.50424,3.50424,0,0,1,23.5,27H8.5A3.50424,3.50424,0,0,1,5,23.5V8.5A3.50424,3.50424,0,0,1,8.5,5h4.92755l3,3H8.5a.50641.50641,0,0,0-.5.5v15a.50641.50641,0,0,0,.5.5h15a.50641.50641,0,0,0,.5-.5ZM19.81952,8.56372,12.8844,17.75a.49989.49989,0,0,0,.04547.65479l.66534.66528a.49983.49983,0,0,0,.65479.04553l9.18628-6.93518,2.12579,2.12585a.5.5,0,0,0,.84741-.27526l1.48273-9.35108a.50006.50006,0,0,0-.57214-.57214L17.969,5.59058a.5.5,0,0,0-.27526.84741Z\"></path>\n",
       "    </svg></a></td><td class=\"a-text-right mojo-field-type-boolean hidden\">false</td></tr><tr><td class=\"a-text-right mojo-header-column mojo-truncate mojo-field-type-rank mojo-sort-column\">170</td><td class=\"a-text-left mojo-field-type-release mojo-cell-wide\"><a class=\"a-link-normal\" href=\"/release/rl4205937153/?ref_=bo_yld_table_170\">Phoenix, Oregon</a><div class=\"a-section a-spacing-none\"><span class=\"a-size-small a-color-secondary\">Re-release</span></div></td><td class=\"a-text-left mojo-field-type-genre hidden\">-</td><td class=\"a-text-right mojo-field-type-money hidden\">-</td><td class=\"a-text-right mojo-field-type-duration hidden\">-</td><td class=\"a-text-right mojo-field-type-money mojo-estimatable\">$23,613</td><td class=\"a-text-right mojo-field-type-positive_integer\">33</td><td class=\"a-text-right mojo-field-type-money mojo-estimatable\">$23,613</td><td class=\"a-text-left mojo-field-type-date a-nowrap\">Mar 20</td><td class=\"a-text-left mojo-field-type-studio\"><a class=\"a-link-normal\" href=\"https://pro.imdb.com/company/co0466692/boxoffice/?view=releases&amp;ref_=mojo_yld_table_170&amp;rf=mojo_yld_table_170\" rel=\"noopener\" target=\"_blank\">Aspiration Entertainment<svg class=\"mojo-new-window-svg\" viewBox=\"0 0 32 32\" xmlns=\"http://www.w3.org/2000/svg\">\n",
       "        <path d=\"M24,15.57251l3,3V23.5A3.50424,3.50424,0,0,1,23.5,27H8.5A3.50424,3.50424,0,0,1,5,23.5V8.5A3.50424,3.50424,0,0,1,8.5,5h4.92755l3,3H8.5a.50641.50641,0,0,0-.5.5v15a.50641.50641,0,0,0,.5.5h15a.50641.50641,0,0,0,.5-.5ZM19.81952,8.56372,12.8844,17.75a.49989.49989,0,0,0,.04547.65479l.66534.66528a.49983.49983,0,0,0,.65479.04553l9.18628-6.93518,2.12579,2.12585a.5.5,0,0,0,.84741-.27526l1.48273-9.35108a.50006.50006,0,0,0-.57214-.57214L17.969,5.59058a.5.5,0,0,0-.27526.84741Z\"></path>\n",
       "    </svg></a></td><td class=\"a-text-right mojo-field-type-boolean hidden\">false</td></tr><tr><td class=\"a-text-right mojo-header-column mojo-truncate mojo-field-type-rank mojo-sort-column\">171</td><td class=\"a-text-left mojo-field-type-release mojo-cell-wide\"><a class=\"a-link-normal\" href=\"/release/rl2444853761/?ref_=bo_yld_table_171\">Premature</a></td><td class=\"a-text-left mojo-field-type-genre hidden\">-</td><td class=\"a-text-right mojo-field-type-money hidden\">-</td><td class=\"a-text-right mojo-field-type-duration hidden\">-</td><td class=\"a-text-right mojo-field-type-money mojo-estimatable\">$23,071</td><td class=\"a-text-right mojo-field-type-positive_integer\">29</td><td class=\"a-text-right mojo-field-type-money mojo-estimatable\">$23,071</td><td class=\"a-text-left mojo-field-type-date a-nowrap\">Feb 21</td><td class=\"a-text-left mojo-field-type-studio\"><a class=\"a-link-normal\" href=\"https://pro.imdb.com/company/co0015762/boxoffice/?view=releases&amp;ref_=mojo_yld_table_171&amp;rf=mojo_yld_table_171\" rel=\"noopener\" target=\"_blank\">IFC Films<svg class=\"mojo-new-window-svg\" viewBox=\"0 0 32 32\" xmlns=\"http://www.w3.org/2000/svg\">\n",
       "        <path d=\"M24,15.57251l3,3V23.5A3.50424,3.50424,0,0,1,23.5,27H8.5A3.50424,3.50424,0,0,1,5,23.5V8.5A3.50424,3.50424,0,0,1,8.5,5h4.92755l3,3H8.5a.50641.50641,0,0,0-.5.5v15a.50641.50641,0,0,0,.5.5h15a.50641.50641,0,0,0,.5-.5ZM19.81952,8.56372,12.8844,17.75a.49989.49989,0,0,0,.04547.65479l.66534.66528a.49983.49983,0,0,0,.65479.04553l9.18628-6.93518,2.12579,2.12585a.5.5,0,0,0,.84741-.27526l1.48273-9.35108a.50006.50006,0,0,0-.57214-.57214L17.969,5.59058a.5.5,0,0,0-.27526.84741Z\"></path>\n",
       "    </svg></a></td><td class=\"a-text-right mojo-field-type-boolean hidden\">false</td></tr><tr><td class=\"a-text-right mojo-header-column mojo-truncate mojo-field-type-rank mojo-sort-column\">172</td><td class=\"a-text-left mojo-field-type-release mojo-cell-wide\"><a class=\"a-link-normal\" href=\"/release/rl3551953409/?ref_=bo_yld_table_172\">L'Innocente</a><div class=\"a-section a-spacing-none\"><span class=\"a-size-small a-color-secondary\">2020 Re-release</span></div></td><td class=\"a-text-left mojo-field-type-genre hidden\">-</td><td class=\"a-text-right mojo-field-type-money hidden\">-</td><td class=\"a-text-right mojo-field-type-duration hidden\">-</td><td class=\"a-text-right mojo-field-type-money mojo-estimatable\">$22,549</td><td class=\"a-text-right mojo-field-type-positive_integer\">2</td><td class=\"a-text-right mojo-field-type-money mojo-estimatable\">$22,549</td><td class=\"a-text-left mojo-field-type-date a-nowrap\">Feb 14</td><td class=\"a-text-left mojo-field-type-studio\"><a class=\"a-link-normal\" href=\"https://pro.imdb.com/company/co0087326/boxoffice/?view=releases&amp;ref_=mojo_yld_table_172&amp;rf=mojo_yld_table_172\" rel=\"noopener\" target=\"_blank\">Film Movement<svg class=\"mojo-new-window-svg\" viewBox=\"0 0 32 32\" xmlns=\"http://www.w3.org/2000/svg\">\n",
       "        <path d=\"M24,15.57251l3,3V23.5A3.50424,3.50424,0,0,1,23.5,27H8.5A3.50424,3.50424,0,0,1,5,23.5V8.5A3.50424,3.50424,0,0,1,8.5,5h4.92755l3,3H8.5a.50641.50641,0,0,0-.5.5v15a.50641.50641,0,0,0,.5.5h15a.50641.50641,0,0,0,.5-.5ZM19.81952,8.56372,12.8844,17.75a.49989.49989,0,0,0,.04547.65479l.66534.66528a.49983.49983,0,0,0,.65479.04553l9.18628-6.93518,2.12579,2.12585a.5.5,0,0,0,.84741-.27526l1.48273-9.35108a.50006.50006,0,0,0-.57214-.57214L17.969,5.59058a.5.5,0,0,0-.27526.84741Z\"></path>\n",
       "    </svg></a></td><td class=\"a-text-right mojo-field-type-boolean hidden\">false</td></tr><tr><td class=\"a-text-right mojo-header-column mojo-truncate mojo-field-type-rank mojo-sort-column\">173</td><td class=\"a-text-left mojo-field-type-release mojo-cell-wide\"><a class=\"a-link-normal\" href=\"/release/rl2644673025/?ref_=bo_yld_table_173\">Recorder: The Marion Stokes Project</a></td><td class=\"a-text-left mojo-field-type-genre hidden\">-</td><td class=\"a-text-right mojo-field-type-money hidden\">-</td><td class=\"a-text-right mojo-field-type-duration hidden\">-</td><td class=\"a-text-right mojo-field-type-money mojo-estimatable\">$21,719</td><td class=\"a-text-right mojo-field-type-positive_integer\">5</td><td class=\"a-text-right mojo-field-type-money mojo-estimatable\">$55,632</td><td class=\"a-text-left mojo-field-type-date a-nowrap\">Nov 15</td><td class=\"a-text-left mojo-field-type-studio\"><a class=\"a-link-normal\" href=\"https://pro.imdb.com/company/co0078470/boxoffice/?view=releases&amp;ref_=mojo_yld_table_173&amp;rf=mojo_yld_table_173\" rel=\"noopener\" target=\"_blank\">Zeitgeist Films<svg class=\"mojo-new-window-svg\" viewBox=\"0 0 32 32\" xmlns=\"http://www.w3.org/2000/svg\">\n",
       "        <path d=\"M24,15.57251l3,3V23.5A3.50424,3.50424,0,0,1,23.5,27H8.5A3.50424,3.50424,0,0,1,5,23.5V8.5A3.50424,3.50424,0,0,1,8.5,5h4.92755l3,3H8.5a.50641.50641,0,0,0-.5.5v15a.50641.50641,0,0,0,.5.5h15a.50641.50641,0,0,0,.5-.5ZM19.81952,8.56372,12.8844,17.75a.49989.49989,0,0,0,.04547.65479l.66534.66528a.49983.49983,0,0,0,.65479.04553l9.18628-6.93518,2.12579,2.12585a.5.5,0,0,0,.84741-.27526l1.48273-9.35108a.50006.50006,0,0,0-.57214-.57214L17.969,5.59058a.5.5,0,0,0-.27526.84741Z\"></path>\n",
       "    </svg></a></td><td class=\"a-text-right mojo-field-type-boolean hidden\">false</td></tr><tr><td class=\"a-text-right mojo-header-column mojo-truncate mojo-field-type-rank mojo-sort-column\">174</td><td class=\"a-text-left mojo-field-type-release mojo-cell-wide\"><a class=\"a-link-normal\" href=\"/release/rl631341569/?ref_=bo_yld_table_174\">Les Misérables: The Staged Concert</a></td><td class=\"a-text-left mojo-field-type-genre hidden\">-</td><td class=\"a-text-right mojo-field-type-money hidden\">-</td><td class=\"a-text-right mojo-field-type-duration hidden\">-</td><td class=\"a-text-right mojo-field-type-money mojo-estimatable\">$21,267</td><td class=\"a-text-right mojo-field-type-positive_integer\">488</td><td class=\"a-text-right mojo-field-type-money mojo-estimatable\">$459,478</td><td class=\"a-text-left mojo-field-type-date a-nowrap\">Dec 6</td><td class=\"a-text-left mojo-field-type-studio\"><a class=\"a-link-normal\" href=\"https://pro.imdb.com/company/co0634829/boxoffice/?view=releases&amp;ref_=mojo_yld_table_174&amp;rf=mojo_yld_table_174\" rel=\"noopener\" target=\"_blank\">Trafalgar Releasing<svg class=\"mojo-new-window-svg\" viewBox=\"0 0 32 32\" xmlns=\"http://www.w3.org/2000/svg\">\n",
       "        <path d=\"M24,15.57251l3,3V23.5A3.50424,3.50424,0,0,1,23.5,27H8.5A3.50424,3.50424,0,0,1,5,23.5V8.5A3.50424,3.50424,0,0,1,8.5,5h4.92755l3,3H8.5a.50641.50641,0,0,0-.5.5v15a.50641.50641,0,0,0,.5.5h15a.50641.50641,0,0,0,.5-.5ZM19.81952,8.56372,12.8844,17.75a.49989.49989,0,0,0,.04547.65479l.66534.66528a.49983.49983,0,0,0,.65479.04553l9.18628-6.93518,2.12579,2.12585a.5.5,0,0,0,.84741-.27526l1.48273-9.35108a.50006.50006,0,0,0-.57214-.57214L17.969,5.59058a.5.5,0,0,0-.27526.84741Z\"></path>\n",
       "    </svg></a></td><td class=\"a-text-right mojo-field-type-boolean hidden\">false</td></tr><tr><td class=\"a-text-right mojo-header-column mojo-truncate mojo-field-type-rank mojo-sort-column\">175</td><td class=\"a-text-left mojo-field-type-release mojo-cell-wide\"><a class=\"a-link-normal\" href=\"/release/rl834044417/?ref_=bo_yld_table_175\">The Cordillera of Dreams</a></td><td class=\"a-text-left mojo-field-type-genre hidden\">-</td><td class=\"a-text-right mojo-field-type-money hidden\">-</td><td class=\"a-text-right mojo-field-type-duration hidden\">-</td><td class=\"a-text-right mojo-field-type-money mojo-estimatable\">$20,943</td><td class=\"a-text-right mojo-field-type-positive_integer\">8</td><td class=\"a-text-right mojo-field-type-money mojo-estimatable\">$20,943</td><td class=\"a-text-left mojo-field-type-date a-nowrap\">Feb 12</td><td class=\"a-text-left mojo-field-type-studio\"><a class=\"a-link-normal\" href=\"https://pro.imdb.com/company/co0033000/boxoffice/?view=releases&amp;ref_=mojo_yld_table_175&amp;rf=mojo_yld_table_175\" rel=\"noopener\" target=\"_blank\">Icarus Films<svg class=\"mojo-new-window-svg\" viewBox=\"0 0 32 32\" xmlns=\"http://www.w3.org/2000/svg\">\n",
       "        <path d=\"M24,15.57251l3,3V23.5A3.50424,3.50424,0,0,1,23.5,27H8.5A3.50424,3.50424,0,0,1,5,23.5V8.5A3.50424,3.50424,0,0,1,8.5,5h4.92755l3,3H8.5a.50641.50641,0,0,0-.5.5v15a.50641.50641,0,0,0,.5.5h15a.50641.50641,0,0,0,.5-.5ZM19.81952,8.56372,12.8844,17.75a.49989.49989,0,0,0,.04547.65479l.66534.66528a.49983.49983,0,0,0,.65479.04553l9.18628-6.93518,2.12579,2.12585a.5.5,0,0,0,.84741-.27526l1.48273-9.35108a.50006.50006,0,0,0-.57214-.57214L17.969,5.59058a.5.5,0,0,0-.27526.84741Z\"></path>\n",
       "    </svg></a></td><td class=\"a-text-right mojo-field-type-boolean hidden\">false</td></tr><tr><td class=\"a-text-right mojo-header-column mojo-truncate mojo-field-type-rank mojo-sort-column\">176</td><td class=\"a-text-left mojo-field-type-release mojo-cell-wide\"><a class=\"a-link-normal\" href=\"/release/rl3568337409/?ref_=bo_yld_table_176\">Lore</a></td><td class=\"a-text-left mojo-field-type-genre hidden\">-</td><td class=\"a-text-right mojo-field-type-money hidden\">-</td><td class=\"a-text-right mojo-field-type-duration hidden\">-</td><td class=\"a-text-right mojo-field-type-money mojo-estimatable\">$20,006</td><td class=\"a-text-right mojo-field-type-positive_integer\">7</td><td class=\"a-text-right mojo-field-type-money mojo-estimatable\">$20,006</td><td class=\"a-text-left mojo-field-type-date a-nowrap\">Jan 17</td><td class=\"a-text-left mojo-field-type-studio\"><a class=\"a-link-normal\" href=\"https://pro.imdb.com/company/co0034057/boxoffice/?view=releases&amp;ref_=mojo_yld_table_176&amp;rf=mojo_yld_table_176\" rel=\"noopener\" target=\"_blank\">Indican Pictures<svg class=\"mojo-new-window-svg\" viewBox=\"0 0 32 32\" xmlns=\"http://www.w3.org/2000/svg\">\n",
       "        <path d=\"M24,15.57251l3,3V23.5A3.50424,3.50424,0,0,1,23.5,27H8.5A3.50424,3.50424,0,0,1,5,23.5V8.5A3.50424,3.50424,0,0,1,8.5,5h4.92755l3,3H8.5a.50641.50641,0,0,0-.5.5v15a.50641.50641,0,0,0,.5.5h15a.50641.50641,0,0,0,.5-.5ZM19.81952,8.56372,12.8844,17.75a.49989.49989,0,0,0,.04547.65479l.66534.66528a.49983.49983,0,0,0,.65479.04553l9.18628-6.93518,2.12579,2.12585a.5.5,0,0,0,.84741-.27526l1.48273-9.35108a.50006.50006,0,0,0-.57214-.57214L17.969,5.59058a.5.5,0,0,0-.27526.84741Z\"></path>\n",
       "    </svg></a></td><td class=\"a-text-right mojo-field-type-boolean hidden\">false</td></tr><tr><td class=\"a-text-right mojo-header-column mojo-truncate mojo-field-type-rank mojo-sort-column\">177</td><td class=\"a-text-left mojo-field-type-release mojo-cell-wide\"><a class=\"a-link-normal\" href=\"/release/rl3376513793/?ref_=bo_yld_table_177\">Max Winslow and the House of Secrets</a></td><td class=\"a-text-left mojo-field-type-genre hidden\">-</td><td class=\"a-text-right mojo-field-type-money hidden\">-</td><td class=\"a-text-right mojo-field-type-duration hidden\">-</td><td class=\"a-text-right mojo-field-type-money mojo-estimatable\">$18,750</td><td class=\"a-text-right mojo-field-type-positive_integer\">16</td><td class=\"a-text-right mojo-field-type-money mojo-estimatable\">$18,750</td><td class=\"a-text-left mojo-field-type-date a-nowrap\">May 29</td><td class=\"a-text-left mojo-field-type-studio\"><a class=\"a-link-normal\" href=\"https://pro.imdb.com/company/co0648126/boxoffice/?view=releases&amp;ref_=mojo_yld_table_177&amp;rf=mojo_yld_table_177\" rel=\"noopener\" target=\"_blank\">3DLive AXO<svg class=\"mojo-new-window-svg\" viewBox=\"0 0 32 32\" xmlns=\"http://www.w3.org/2000/svg\">\n",
       "        <path d=\"M24,15.57251l3,3V23.5A3.50424,3.50424,0,0,1,23.5,27H8.5A3.50424,3.50424,0,0,1,5,23.5V8.5A3.50424,3.50424,0,0,1,8.5,5h4.92755l3,3H8.5a.50641.50641,0,0,0-.5.5v15a.50641.50641,0,0,0,.5.5h15a.50641.50641,0,0,0,.5-.5ZM19.81952,8.56372,12.8844,17.75a.49989.49989,0,0,0,.04547.65479l.66534.66528a.49983.49983,0,0,0,.65479.04553l9.18628-6.93518,2.12579,2.12585a.5.5,0,0,0,.84741-.27526l1.48273-9.35108a.50006.50006,0,0,0-.57214-.57214L17.969,5.59058a.5.5,0,0,0-.27526.84741Z\"></path>\n",
       "    </svg></a></td><td class=\"a-text-right mojo-field-type-boolean hidden\">false</td></tr><tr><td class=\"a-text-right mojo-header-column mojo-truncate mojo-field-type-rank mojo-sort-column\">178</td><td class=\"a-text-left mojo-field-type-release mojo-cell-wide\"><a class=\"a-link-normal\" href=\"/release/rl1153073665/?ref_=bo_yld_table_178\">The Jesus Rolls</a></td><td class=\"a-text-left mojo-field-type-genre hidden\">-</td><td class=\"a-text-right mojo-field-type-money hidden\">-</td><td class=\"a-text-right mojo-field-type-duration hidden\">-</td><td class=\"a-text-right mojo-field-type-money mojo-estimatable\">$18,169</td><td class=\"a-text-right mojo-field-type-positive_integer\">4</td><td class=\"a-text-right mojo-field-type-money mojo-estimatable\">$18,169</td><td class=\"a-text-left mojo-field-type-date a-nowrap\">Feb 28</td><td class=\"a-text-left mojo-field-type-studio\"><a class=\"a-link-normal\" href=\"https://pro.imdb.com/company/co0245001/boxoffice/?view=releases&amp;ref_=mojo_yld_table_178&amp;rf=mojo_yld_table_178\" rel=\"noopener\" target=\"_blank\">Variance Films<svg class=\"mojo-new-window-svg\" viewBox=\"0 0 32 32\" xmlns=\"http://www.w3.org/2000/svg\">\n",
       "        <path d=\"M24,15.57251l3,3V23.5A3.50424,3.50424,0,0,1,23.5,27H8.5A3.50424,3.50424,0,0,1,5,23.5V8.5A3.50424,3.50424,0,0,1,8.5,5h4.92755l3,3H8.5a.50641.50641,0,0,0-.5.5v15a.50641.50641,0,0,0,.5.5h15a.50641.50641,0,0,0,.5-.5ZM19.81952,8.56372,12.8844,17.75a.49989.49989,0,0,0,.04547.65479l.66534.66528a.49983.49983,0,0,0,.65479.04553l9.18628-6.93518,2.12579,2.12585a.5.5,0,0,0,.84741-.27526l1.48273-9.35108a.50006.50006,0,0,0-.57214-.57214L17.969,5.59058a.5.5,0,0,0-.27526.84741Z\"></path>\n",
       "    </svg></a></td><td class=\"a-text-right mojo-field-type-boolean hidden\">false</td></tr><tr><td class=\"a-text-right mojo-header-column mojo-truncate mojo-field-type-rank mojo-sort-column\">179</td><td class=\"a-text-left mojo-field-type-release mojo-cell-wide\"><a class=\"a-link-normal\" href=\"/release/rl3787096577/?ref_=bo_yld_table_179\">Sorry We Missed You</a></td><td class=\"a-text-left mojo-field-type-genre hidden\">-</td><td class=\"a-text-right mojo-field-type-money hidden\">-</td><td class=\"a-text-right mojo-field-type-duration hidden\">-</td><td class=\"a-text-right mojo-field-type-money mojo-estimatable\">$17,836</td><td class=\"a-text-right mojo-field-type-positive_integer\">6</td><td class=\"a-text-right mojo-field-type-money mojo-estimatable\">$28,273</td><td class=\"a-text-left mojo-field-type-date a-nowrap\">Mar 6</td><td class=\"a-text-left mojo-field-type-studio\">-</td><td class=\"a-text-right mojo-field-type-boolean hidden\">false</td></tr><tr><td class=\"a-text-right mojo-header-column mojo-truncate mojo-field-type-rank mojo-sort-column\">180</td><td class=\"a-text-left mojo-field-type-release mojo-cell-wide\"><a class=\"a-link-normal\" href=\"/release/rl3684467201/?ref_=bo_yld_table_180\">Downtown 81</a><div class=\"a-section a-spacing-none\"><span class=\"a-size-small a-color-secondary\">2019 Re-release</span></div></td><td class=\"a-text-left mojo-field-type-genre hidden\">-</td><td class=\"a-text-right mojo-field-type-money hidden\">-</td><td class=\"a-text-right mojo-field-type-duration hidden\">-</td><td class=\"a-text-right mojo-field-type-money mojo-estimatable\">$17,739</td><td class=\"a-text-right mojo-field-type-positive_integer\">8</td><td class=\"a-text-right mojo-field-type-money mojo-estimatable\">$122,390</td><td class=\"a-text-left mojo-field-type-date a-nowrap\">Oct 25</td><td class=\"a-text-left mojo-field-type-studio\"><a class=\"a-link-normal\" href=\"https://pro.imdb.com/company/co0730656/boxoffice/?view=releases&amp;ref_=mojo_yld_table_180&amp;rf=mojo_yld_table_180\" rel=\"noopener\" target=\"_blank\">Metrograph Pictures<svg class=\"mojo-new-window-svg\" viewBox=\"0 0 32 32\" xmlns=\"http://www.w3.org/2000/svg\">\n",
       "        <path d=\"M24,15.57251l3,3V23.5A3.50424,3.50424,0,0,1,23.5,27H8.5A3.50424,3.50424,0,0,1,5,23.5V8.5A3.50424,3.50424,0,0,1,8.5,5h4.92755l3,3H8.5a.50641.50641,0,0,0-.5.5v15a.50641.50641,0,0,0,.5.5h15a.50641.50641,0,0,0,.5-.5ZM19.81952,8.56372,12.8844,17.75a.49989.49989,0,0,0,.04547.65479l.66534.66528a.49983.49983,0,0,0,.65479.04553l9.18628-6.93518,2.12579,2.12585a.5.5,0,0,0,.84741-.27526l1.48273-9.35108a.50006.50006,0,0,0-.57214-.57214L17.969,5.59058a.5.5,0,0,0-.27526.84741Z\"></path>\n",
       "    </svg></a></td><td class=\"a-text-right mojo-field-type-boolean hidden\">false</td></tr><tr><td class=\"a-text-right mojo-header-column mojo-truncate mojo-field-type-rank mojo-sort-column\">181</td><td class=\"a-text-left mojo-field-type-release mojo-cell-wide\"><a class=\"a-link-normal\" href=\"/release/rl884376065/?ref_=bo_yld_table_181\">Pandora and the Flying Dutchman</a><div class=\"a-section a-spacing-none\"><span class=\"a-size-small a-color-secondary\">2020 Re-release</span></div></td><td class=\"a-text-left mojo-field-type-genre hidden\">-</td><td class=\"a-text-right mojo-field-type-money hidden\">-</td><td class=\"a-text-right mojo-field-type-duration hidden\">-</td><td class=\"a-text-right mojo-field-type-money mojo-estimatable\">$17,401</td><td class=\"a-text-right mojo-field-type-positive_integer\">2</td><td class=\"a-text-right mojo-field-type-money mojo-estimatable\">$17,401</td><td class=\"a-text-left mojo-field-type-date a-nowrap\">Feb 7</td><td class=\"a-text-left mojo-field-type-studio\"><a class=\"a-link-normal\" href=\"https://pro.imdb.com/company/co0243890/boxoffice/?view=releases&amp;ref_=mojo_yld_table_181&amp;rf=mojo_yld_table_181\" rel=\"noopener\" target=\"_blank\">Cohen Media Group<svg class=\"mojo-new-window-svg\" viewBox=\"0 0 32 32\" xmlns=\"http://www.w3.org/2000/svg\">\n",
       "        <path d=\"M24,15.57251l3,3V23.5A3.50424,3.50424,0,0,1,23.5,27H8.5A3.50424,3.50424,0,0,1,5,23.5V8.5A3.50424,3.50424,0,0,1,8.5,5h4.92755l3,3H8.5a.50641.50641,0,0,0-.5.5v15a.50641.50641,0,0,0,.5.5h15a.50641.50641,0,0,0,.5-.5ZM19.81952,8.56372,12.8844,17.75a.49989.49989,0,0,0,.04547.65479l.66534.66528a.49983.49983,0,0,0,.65479.04553l9.18628-6.93518,2.12579,2.12585a.5.5,0,0,0,.84741-.27526l1.48273-9.35108a.50006.50006,0,0,0-.57214-.57214L17.969,5.59058a.5.5,0,0,0-.27526.84741Z\"></path>\n",
       "    </svg></a></td><td class=\"a-text-right mojo-field-type-boolean hidden\">false</td></tr><tr><td class=\"a-text-right mojo-header-column mojo-truncate mojo-field-type-rank mojo-sort-column\">182</td><td class=\"a-text-left mojo-field-type-release mojo-cell-wide\"><a class=\"a-link-normal\" href=\"/release/rl1589346817/?ref_=bo_yld_table_182\">Made in Hong Kong</a><div class=\"a-section a-spacing-none\"><span class=\"a-size-small a-color-secondary\">2020 Re-release</span></div></td><td class=\"a-text-left mojo-field-type-genre hidden\">-</td><td class=\"a-text-right mojo-field-type-money hidden\">-</td><td class=\"a-text-right mojo-field-type-duration hidden\">-</td><td class=\"a-text-right mojo-field-type-money mojo-estimatable\">$17,255</td><td class=\"a-text-right mojo-field-type-positive_integer\">1</td><td class=\"a-text-right mojo-field-type-money mojo-estimatable\">$17,255</td><td class=\"a-text-left mojo-field-type-date a-nowrap\">Mar 6</td><td class=\"a-text-left mojo-field-type-studio\"><a class=\"a-link-normal\" href=\"https://pro.imdb.com/company/co0730656/boxoffice/?view=releases&amp;ref_=mojo_yld_table_182&amp;rf=mojo_yld_table_182\" rel=\"noopener\" target=\"_blank\">Metrograph Pictures<svg class=\"mojo-new-window-svg\" viewBox=\"0 0 32 32\" xmlns=\"http://www.w3.org/2000/svg\">\n",
       "        <path d=\"M24,15.57251l3,3V23.5A3.50424,3.50424,0,0,1,23.5,27H8.5A3.50424,3.50424,0,0,1,5,23.5V8.5A3.50424,3.50424,0,0,1,8.5,5h4.92755l3,3H8.5a.50641.50641,0,0,0-.5.5v15a.50641.50641,0,0,0,.5.5h15a.50641.50641,0,0,0,.5-.5ZM19.81952,8.56372,12.8844,17.75a.49989.49989,0,0,0,.04547.65479l.66534.66528a.49983.49983,0,0,0,.65479.04553l9.18628-6.93518,2.12579,2.12585a.5.5,0,0,0,.84741-.27526l1.48273-9.35108a.50006.50006,0,0,0-.57214-.57214L17.969,5.59058a.5.5,0,0,0-.27526.84741Z\"></path>\n",
       "    </svg></a></td><td class=\"a-text-right mojo-field-type-boolean hidden\">false</td></tr><tr><td class=\"a-text-right mojo-header-column mojo-truncate mojo-field-type-rank mojo-sort-column\">183</td><td class=\"a-text-left mojo-field-type-release mojo-cell-wide\"><a class=\"a-link-normal\" href=\"/release/rl380338689/?ref_=bo_yld_table_183\">Never Rarely Sometimes Always</a></td><td class=\"a-text-left mojo-field-type-genre hidden\">-</td><td class=\"a-text-right mojo-field-type-money hidden\">-</td><td class=\"a-text-right mojo-field-type-duration hidden\">-</td><td class=\"a-text-right mojo-field-type-money mojo-estimatable\">$16,565</td><td class=\"a-text-right mojo-field-type-positive_integer\">4</td><td class=\"a-text-right mojo-field-type-money mojo-estimatable\">$16,565</td><td class=\"a-text-left mojo-field-type-date a-nowrap\">Mar 13</td><td class=\"a-text-left mojo-field-type-studio\"><a class=\"a-link-normal\" href=\"https://pro.imdb.com/company/co0042399/boxoffice/?view=releases&amp;ref_=mojo_yld_table_183&amp;rf=mojo_yld_table_183\" rel=\"noopener\" target=\"_blank\">Focus Features<svg class=\"mojo-new-window-svg\" viewBox=\"0 0 32 32\" xmlns=\"http://www.w3.org/2000/svg\">\n",
       "        <path d=\"M24,15.57251l3,3V23.5A3.50424,3.50424,0,0,1,23.5,27H8.5A3.50424,3.50424,0,0,1,5,23.5V8.5A3.50424,3.50424,0,0,1,8.5,5h4.92755l3,3H8.5a.50641.50641,0,0,0-.5.5v15a.50641.50641,0,0,0,.5.5h15a.50641.50641,0,0,0,.5-.5ZM19.81952,8.56372,12.8844,17.75a.49989.49989,0,0,0,.04547.65479l.66534.66528a.49983.49983,0,0,0,.65479.04553l9.18628-6.93518,2.12579,2.12585a.5.5,0,0,0,.84741-.27526l1.48273-9.35108a.50006.50006,0,0,0-.57214-.57214L17.969,5.59058a.5.5,0,0,0-.27526.84741Z\"></path>\n",
       "    </svg></a></td><td class=\"a-text-right mojo-field-type-boolean hidden\">false</td></tr><tr><td class=\"a-text-right mojo-header-column mojo-truncate mojo-field-type-rank mojo-sort-column\">184</td><td class=\"a-text-left mojo-field-type-release mojo-cell-wide\"><a class=\"a-link-normal\" href=\"/release/rl128942593/?ref_=bo_yld_table_184\">Advocate</a></td><td class=\"a-text-left mojo-field-type-genre hidden\">-</td><td class=\"a-text-right mojo-field-type-money hidden\">-</td><td class=\"a-text-right mojo-field-type-duration hidden\">-</td><td class=\"a-text-right mojo-field-type-money mojo-estimatable\">$15,841</td><td class=\"a-text-right mojo-field-type-positive_integer\">2</td><td class=\"a-text-right mojo-field-type-money mojo-estimatable\">$16,942</td><td class=\"a-text-left mojo-field-type-date a-nowrap\">Jan 3</td><td class=\"a-text-left mojo-field-type-studio\"><a class=\"a-link-normal\" href=\"https://pro.imdb.com/company/co0087326/boxoffice/?view=releases&amp;ref_=mojo_yld_table_184&amp;rf=mojo_yld_table_184\" rel=\"noopener\" target=\"_blank\">Film Movement<svg class=\"mojo-new-window-svg\" viewBox=\"0 0 32 32\" xmlns=\"http://www.w3.org/2000/svg\">\n",
       "        <path d=\"M24,15.57251l3,3V23.5A3.50424,3.50424,0,0,1,23.5,27H8.5A3.50424,3.50424,0,0,1,5,23.5V8.5A3.50424,3.50424,0,0,1,8.5,5h4.92755l3,3H8.5a.50641.50641,0,0,0-.5.5v15a.50641.50641,0,0,0,.5.5h15a.50641.50641,0,0,0,.5-.5ZM19.81952,8.56372,12.8844,17.75a.49989.49989,0,0,0,.04547.65479l.66534.66528a.49983.49983,0,0,0,.65479.04553l9.18628-6.93518,2.12579,2.12585a.5.5,0,0,0,.84741-.27526l1.48273-9.35108a.50006.50006,0,0,0-.57214-.57214L17.969,5.59058a.5.5,0,0,0-.27526.84741Z\"></path>\n",
       "    </svg></a></td><td class=\"a-text-right mojo-field-type-boolean hidden\">false</td></tr><tr><td class=\"a-text-right mojo-header-column mojo-truncate mojo-field-type-rank mojo-sort-column\">185</td><td class=\"a-text-left mojo-field-type-release mojo-cell-wide\"><a class=\"a-link-normal\" href=\"/release/rl4252861953/?ref_=bo_yld_table_185\">A Beautiful Planet</a></td><td class=\"a-text-left mojo-field-type-genre hidden\">-</td><td class=\"a-text-right mojo-field-type-money hidden\">-</td><td class=\"a-text-right mojo-field-type-duration hidden\">-</td><td class=\"a-text-right mojo-field-type-money mojo-estimatable\">$14,951</td><td class=\"a-text-right mojo-field-type-positive_integer\">155</td><td class=\"a-text-right mojo-field-type-money mojo-estimatable\">$15,650,615</td><td class=\"a-text-left mojo-field-type-date a-nowrap\">Apr 29</td><td class=\"a-text-left mojo-field-type-studio\"><a class=\"a-link-normal\" href=\"https://pro.imdb.com/company/co0057495/boxoffice/?view=releases&amp;ref_=mojo_yld_table_185&amp;rf=mojo_yld_table_185\" rel=\"noopener\" target=\"_blank\">IMAX<svg class=\"mojo-new-window-svg\" viewBox=\"0 0 32 32\" xmlns=\"http://www.w3.org/2000/svg\">\n",
       "        <path d=\"M24,15.57251l3,3V23.5A3.50424,3.50424,0,0,1,23.5,27H8.5A3.50424,3.50424,0,0,1,5,23.5V8.5A3.50424,3.50424,0,0,1,8.5,5h4.92755l3,3H8.5a.50641.50641,0,0,0-.5.5v15a.50641.50641,0,0,0,.5.5h15a.50641.50641,0,0,0,.5-.5ZM19.81952,8.56372,12.8844,17.75a.49989.49989,0,0,0,.04547.65479l.66534.66528a.49983.49983,0,0,0,.65479.04553l9.18628-6.93518,2.12579,2.12585a.5.5,0,0,0,.84741-.27526l1.48273-9.35108a.50006.50006,0,0,0-.57214-.57214L17.969,5.59058a.5.5,0,0,0-.27526.84741Z\"></path>\n",
       "    </svg></a></td><td class=\"a-text-right mojo-field-type-boolean hidden\">false</td></tr><tr><td class=\"a-text-right mojo-header-column mojo-truncate mojo-field-type-rank mojo-sort-column\">186</td><td class=\"a-text-left mojo-field-type-release mojo-cell-wide\"><a class=\"a-link-normal\" href=\"/release/rl615940609/?ref_=bo_yld_table_186\">I Was at Home, But</a></td><td class=\"a-text-left mojo-field-type-genre hidden\">-</td><td class=\"a-text-right mojo-field-type-money hidden\">-</td><td class=\"a-text-right mojo-field-type-duration hidden\">-</td><td class=\"a-text-right mojo-field-type-money mojo-estimatable\">$14,078</td><td class=\"a-text-right mojo-field-type-positive_integer\">4</td><td class=\"a-text-right mojo-field-type-money mojo-estimatable\">$14,078</td><td class=\"a-text-left mojo-field-type-date a-nowrap\">Feb 14</td><td class=\"a-text-left mojo-field-type-studio\"><a class=\"a-link-normal\" href=\"https://pro.imdb.com/company/co0014382/boxoffice/?view=releases&amp;ref_=mojo_yld_table_186&amp;rf=mojo_yld_table_186\" rel=\"noopener\" target=\"_blank\">The Cinema Guild<svg class=\"mojo-new-window-svg\" viewBox=\"0 0 32 32\" xmlns=\"http://www.w3.org/2000/svg\">\n",
       "        <path d=\"M24,15.57251l3,3V23.5A3.50424,3.50424,0,0,1,23.5,27H8.5A3.50424,3.50424,0,0,1,5,23.5V8.5A3.50424,3.50424,0,0,1,8.5,5h4.92755l3,3H8.5a.50641.50641,0,0,0-.5.5v15a.50641.50641,0,0,0,.5.5h15a.50641.50641,0,0,0,.5-.5ZM19.81952,8.56372,12.8844,17.75a.49989.49989,0,0,0,.04547.65479l.66534.66528a.49983.49983,0,0,0,.65479.04553l9.18628-6.93518,2.12579,2.12585a.5.5,0,0,0,.84741-.27526l1.48273-9.35108a.50006.50006,0,0,0-.57214-.57214L17.969,5.59058a.5.5,0,0,0-.27526.84741Z\"></path>\n",
       "    </svg></a></td><td class=\"a-text-right mojo-field-type-boolean hidden\">false</td></tr><tr><td class=\"a-text-right mojo-header-column mojo-truncate mojo-field-type-rank mojo-sort-column\">187</td><td class=\"a-text-left mojo-field-type-release mojo-cell-wide\"><a class=\"a-link-normal\" href=\"/release/rl4106191361/?ref_=bo_yld_table_187\">Strike</a></td><td class=\"a-text-left mojo-field-type-genre hidden\">-</td><td class=\"a-text-right mojo-field-type-money hidden\">-</td><td class=\"a-text-right mojo-field-type-duration hidden\">-</td><td class=\"a-text-right mojo-field-type-money mojo-estimatable\">$13,902</td><td class=\"a-text-right mojo-field-type-positive_integer\">2</td><td class=\"a-text-right mojo-field-type-money mojo-estimatable\">$15,758</td><td class=\"a-text-left mojo-field-type-date a-nowrap\">Mar 27</td><td class=\"a-text-left mojo-field-type-studio\"><a class=\"a-link-normal\" href=\"https://pro.imdb.com/company/co0034057/boxoffice/?view=releases&amp;ref_=mojo_yld_table_187&amp;rf=mojo_yld_table_187\" rel=\"noopener\" target=\"_blank\">Indican Pictures<svg class=\"mojo-new-window-svg\" viewBox=\"0 0 32 32\" xmlns=\"http://www.w3.org/2000/svg\">\n",
       "        <path d=\"M24,15.57251l3,3V23.5A3.50424,3.50424,0,0,1,23.5,27H8.5A3.50424,3.50424,0,0,1,5,23.5V8.5A3.50424,3.50424,0,0,1,8.5,5h4.92755l3,3H8.5a.50641.50641,0,0,0-.5.5v15a.50641.50641,0,0,0,.5.5h15a.50641.50641,0,0,0,.5-.5ZM19.81952,8.56372,12.8844,17.75a.49989.49989,0,0,0,.04547.65479l.66534.66528a.49983.49983,0,0,0,.65479.04553l9.18628-6.93518,2.12579,2.12585a.5.5,0,0,0,.84741-.27526l1.48273-9.35108a.50006.50006,0,0,0-.57214-.57214L17.969,5.59058a.5.5,0,0,0-.27526.84741Z\"></path>\n",
       "    </svg></a></td><td class=\"a-text-right mojo-field-type-boolean hidden\">false</td></tr><tr><td class=\"a-text-right mojo-header-column mojo-truncate mojo-field-type-rank mojo-sort-column\">188</td><td class=\"a-text-left mojo-field-type-release mojo-cell-wide\"><a class=\"a-link-normal\" href=\"/release/rl4077618689/?ref_=bo_yld_table_188\">The Cave</a></td><td class=\"a-text-left mojo-field-type-genre hidden\">-</td><td class=\"a-text-right mojo-field-type-money hidden\">-</td><td class=\"a-text-right mojo-field-type-duration hidden\">-</td><td class=\"a-text-right mojo-field-type-money mojo-estimatable\">$12,658</td><td class=\"a-text-right mojo-field-type-positive_integer\">10</td><td class=\"a-text-right mojo-field-type-money mojo-estimatable\">$62,625</td><td class=\"a-text-left mojo-field-type-date a-nowrap\">Oct 18</td><td class=\"a-text-left mojo-field-type-studio\"><a class=\"a-link-normal\" href=\"https://pro.imdb.com/company/co0223903/boxoffice/?view=releases&amp;ref_=mojo_yld_table_188&amp;rf=mojo_yld_table_188\" rel=\"noopener\" target=\"_blank\">National Geographic Entertainment<svg class=\"mojo-new-window-svg\" viewBox=\"0 0 32 32\" xmlns=\"http://www.w3.org/2000/svg\">\n",
       "        <path d=\"M24,15.57251l3,3V23.5A3.50424,3.50424,0,0,1,23.5,27H8.5A3.50424,3.50424,0,0,1,5,23.5V8.5A3.50424,3.50424,0,0,1,8.5,5h4.92755l3,3H8.5a.50641.50641,0,0,0-.5.5v15a.50641.50641,0,0,0,.5.5h15a.50641.50641,0,0,0,.5-.5ZM19.81952,8.56372,12.8844,17.75a.49989.49989,0,0,0,.04547.65479l.66534.66528a.49983.49983,0,0,0,.65479.04553l9.18628-6.93518,2.12579,2.12585a.5.5,0,0,0,.84741-.27526l1.48273-9.35108a.50006.50006,0,0,0-.57214-.57214L17.969,5.59058a.5.5,0,0,0-.27526.84741Z\"></path>\n",
       "    </svg></a></td><td class=\"a-text-right mojo-field-type-boolean hidden\">false</td></tr><tr><td class=\"a-text-right mojo-header-column mojo-truncate mojo-field-type-rank mojo-sort-column\">189</td><td class=\"a-text-left mojo-field-type-release mojo-cell-wide\"><a class=\"a-link-normal\" href=\"/release/rl2567669249/?ref_=bo_yld_table_189\">The Kingmaker</a></td><td class=\"a-text-left mojo-field-type-genre hidden\">-</td><td class=\"a-text-right mojo-field-type-money hidden\">-</td><td class=\"a-text-right mojo-field-type-duration hidden\">-</td><td class=\"a-text-right mojo-field-type-money mojo-estimatable\">$12,639</td><td class=\"a-text-right mojo-field-type-positive_integer\">18</td><td class=\"a-text-right mojo-field-type-money mojo-estimatable\">$122,587</td><td class=\"a-text-left mojo-field-type-date a-nowrap\">Nov 8</td><td class=\"a-text-left mojo-field-type-studio\"><a class=\"a-link-normal\" href=\"https://pro.imdb.com/company/co0662464/boxoffice/?view=releases&amp;ref_=mojo_yld_table_189&amp;rf=mojo_yld_table_189\" rel=\"noopener\" target=\"_blank\">Greenwich Entertainment<svg class=\"mojo-new-window-svg\" viewBox=\"0 0 32 32\" xmlns=\"http://www.w3.org/2000/svg\">\n",
       "        <path d=\"M24,15.57251l3,3V23.5A3.50424,3.50424,0,0,1,23.5,27H8.5A3.50424,3.50424,0,0,1,5,23.5V8.5A3.50424,3.50424,0,0,1,8.5,5h4.92755l3,3H8.5a.50641.50641,0,0,0-.5.5v15a.50641.50641,0,0,0,.5.5h15a.50641.50641,0,0,0,.5-.5ZM19.81952,8.56372,12.8844,17.75a.49989.49989,0,0,0,.04547.65479l.66534.66528a.49983.49983,0,0,0,.65479.04553l9.18628-6.93518,2.12579,2.12585a.5.5,0,0,0,.84741-.27526l1.48273-9.35108a.50006.50006,0,0,0-.57214-.57214L17.969,5.59058a.5.5,0,0,0-.27526.84741Z\"></path>\n",
       "    </svg></a></td><td class=\"a-text-right mojo-field-type-boolean hidden\">false</td></tr><tr><td class=\"a-text-right mojo-header-column mojo-truncate mojo-field-type-rank mojo-sort-column\">190</td><td class=\"a-text-left mojo-field-type-release mojo-cell-wide\"><a class=\"a-link-normal\" href=\"/release/rl3434185217/?ref_=bo_yld_table_190\">Redoubt</a></td><td class=\"a-text-left mojo-field-type-genre hidden\">-</td><td class=\"a-text-right mojo-field-type-money hidden\">-</td><td class=\"a-text-right mojo-field-type-duration hidden\">-</td><td class=\"a-text-right mojo-field-type-money mojo-estimatable\">$12,275</td><td class=\"a-text-right mojo-field-type-positive_integer\">3</td><td class=\"a-text-right mojo-field-type-money mojo-estimatable\">$33,155</td><td class=\"a-text-left mojo-field-type-date a-nowrap\">Nov 1</td><td class=\"a-text-left mojo-field-type-studio\"><a class=\"a-link-normal\" href=\"https://pro.imdb.com/company/co0575901/boxoffice/?view=releases&amp;ref_=mojo_yld_table_190&amp;rf=mojo_yld_table_190\" rel=\"noopener\" target=\"_blank\">Grasshopper Film<svg class=\"mojo-new-window-svg\" viewBox=\"0 0 32 32\" xmlns=\"http://www.w3.org/2000/svg\">\n",
       "        <path d=\"M24,15.57251l3,3V23.5A3.50424,3.50424,0,0,1,23.5,27H8.5A3.50424,3.50424,0,0,1,5,23.5V8.5A3.50424,3.50424,0,0,1,8.5,5h4.92755l3,3H8.5a.50641.50641,0,0,0-.5.5v15a.50641.50641,0,0,0,.5.5h15a.50641.50641,0,0,0,.5-.5ZM19.81952,8.56372,12.8844,17.75a.49989.49989,0,0,0,.04547.65479l.66534.66528a.49983.49983,0,0,0,.65479.04553l9.18628-6.93518,2.12579,2.12585a.5.5,0,0,0,.84741-.27526l1.48273-9.35108a.50006.50006,0,0,0-.57214-.57214L17.969,5.59058a.5.5,0,0,0-.27526.84741Z\"></path>\n",
       "    </svg></a></td><td class=\"a-text-right mojo-field-type-boolean hidden\">false</td></tr><tr><td class=\"a-text-right mojo-header-column mojo-truncate mojo-field-type-rank mojo-sort-column\">191</td><td class=\"a-text-left mojo-field-type-release mojo-cell-wide\"><a class=\"a-link-normal\" href=\"/release/rl3501818369/?ref_=bo_yld_table_191\">Young Ahmed</a><div class=\"a-section a-spacing-none\"><span class=\"a-size-small a-color-secondary\">Domestic</span></div></td><td class=\"a-text-left mojo-field-type-genre hidden\">-</td><td class=\"a-text-right mojo-field-type-money hidden\">-</td><td class=\"a-text-right mojo-field-type-duration hidden\">-</td><td class=\"a-text-right mojo-field-type-money mojo-estimatable\">$12,182</td><td class=\"a-text-right mojo-field-type-positive_integer\">4</td><td class=\"a-text-right mojo-field-type-money mojo-estimatable\">$21,291</td><td class=\"a-text-left mojo-field-type-date a-nowrap\">Feb 21</td><td class=\"a-text-left mojo-field-type-studio\"><a class=\"a-link-normal\" href=\"https://pro.imdb.com/company/co0291948/boxoffice/?view=releases&amp;ref_=mojo_yld_table_191&amp;rf=mojo_yld_table_191\" rel=\"noopener\" target=\"_blank\">Kino Lorber<svg class=\"mojo-new-window-svg\" viewBox=\"0 0 32 32\" xmlns=\"http://www.w3.org/2000/svg\">\n",
       "        <path d=\"M24,15.57251l3,3V23.5A3.50424,3.50424,0,0,1,23.5,27H8.5A3.50424,3.50424,0,0,1,5,23.5V8.5A3.50424,3.50424,0,0,1,8.5,5h4.92755l3,3H8.5a.50641.50641,0,0,0-.5.5v15a.50641.50641,0,0,0,.5.5h15a.50641.50641,0,0,0,.5-.5ZM19.81952,8.56372,12.8844,17.75a.49989.49989,0,0,0,.04547.65479l.66534.66528a.49983.49983,0,0,0,.65479.04553l9.18628-6.93518,2.12579,2.12585a.5.5,0,0,0,.84741-.27526l1.48273-9.35108a.50006.50006,0,0,0-.57214-.57214L17.969,5.59058a.5.5,0,0,0-.27526.84741Z\"></path>\n",
       "    </svg></a></td><td class=\"a-text-right mojo-field-type-boolean hidden\">false</td></tr><tr><td class=\"a-text-right mojo-header-column mojo-truncate mojo-field-type-rank mojo-sort-column\">192</td><td class=\"a-text-left mojo-field-type-release mojo-cell-wide\"><a class=\"a-link-normal\" href=\"/release/rl2248705537/?ref_=bo_yld_table_192\">Linda Ronstadt: The Sound of My Voice</a></td><td class=\"a-text-left mojo-field-type-genre hidden\">-</td><td class=\"a-text-right mojo-field-type-money hidden\">-</td><td class=\"a-text-right mojo-field-type-duration hidden\">-</td><td class=\"a-text-right mojo-field-type-money mojo-estimatable\">$12,148</td><td class=\"a-text-right mojo-field-type-positive_integer\">247</td><td class=\"a-text-right mojo-field-type-money mojo-estimatable\">$4,252,657</td><td class=\"a-text-left mojo-field-type-date a-nowrap\">Sep 6</td><td class=\"a-text-left mojo-field-type-studio\"><a class=\"a-link-normal\" href=\"https://pro.imdb.com/company/co0662464/boxoffice/?view=releases&amp;ref_=mojo_yld_table_192&amp;rf=mojo_yld_table_192\" rel=\"noopener\" target=\"_blank\">Greenwich Entertainment<svg class=\"mojo-new-window-svg\" viewBox=\"0 0 32 32\" xmlns=\"http://www.w3.org/2000/svg\">\n",
       "        <path d=\"M24,15.57251l3,3V23.5A3.50424,3.50424,0,0,1,23.5,27H8.5A3.50424,3.50424,0,0,1,5,23.5V8.5A3.50424,3.50424,0,0,1,8.5,5h4.92755l3,3H8.5a.50641.50641,0,0,0-.5.5v15a.50641.50641,0,0,0,.5.5h15a.50641.50641,0,0,0,.5-.5ZM19.81952,8.56372,12.8844,17.75a.49989.49989,0,0,0,.04547.65479l.66534.66528a.49983.49983,0,0,0,.65479.04553l9.18628-6.93518,2.12579,2.12585a.5.5,0,0,0,.84741-.27526l1.48273-9.35108a.50006.50006,0,0,0-.57214-.57214L17.969,5.59058a.5.5,0,0,0-.27526.84741Z\"></path>\n",
       "    </svg></a></td><td class=\"a-text-right mojo-field-type-boolean hidden\">false</td></tr><tr><td class=\"a-text-right mojo-header-column mojo-truncate mojo-field-type-rank mojo-sort-column\">193</td><td class=\"a-text-left mojo-field-type-release mojo-cell-wide\"><a class=\"a-link-normal\" href=\"/release/rl1539015169/?ref_=bo_yld_table_193\">Straight Up</a></td><td class=\"a-text-left mojo-field-type-genre hidden\">-</td><td class=\"a-text-right mojo-field-type-money hidden\">-</td><td class=\"a-text-right mojo-field-type-duration hidden\">-</td><td class=\"a-text-right mojo-field-type-money mojo-estimatable\">$12,026</td><td class=\"a-text-right mojo-field-type-positive_integer\">5</td><td class=\"a-text-right mojo-field-type-money mojo-estimatable\">$16,080</td><td class=\"a-text-left mojo-field-type-date a-nowrap\">Feb 28</td><td class=\"a-text-left mojo-field-type-studio\"><a class=\"a-link-normal\" href=\"https://pro.imdb.com/company/co0035339/boxoffice/?view=releases&amp;ref_=mojo_yld_table_193&amp;rf=mojo_yld_table_193\" rel=\"noopener\" target=\"_blank\">Strand Releasing<svg class=\"mojo-new-window-svg\" viewBox=\"0 0 32 32\" xmlns=\"http://www.w3.org/2000/svg\">\n",
       "        <path d=\"M24,15.57251l3,3V23.5A3.50424,3.50424,0,0,1,23.5,27H8.5A3.50424,3.50424,0,0,1,5,23.5V8.5A3.50424,3.50424,0,0,1,8.5,5h4.92755l3,3H8.5a.50641.50641,0,0,0-.5.5v15a.50641.50641,0,0,0,.5.5h15a.50641.50641,0,0,0,.5-.5ZM19.81952,8.56372,12.8844,17.75a.49989.49989,0,0,0,.04547.65479l.66534.66528a.49983.49983,0,0,0,.65479.04553l9.18628-6.93518,2.12579,2.12585a.5.5,0,0,0,.84741-.27526l1.48273-9.35108a.50006.50006,0,0,0-.57214-.57214L17.969,5.59058a.5.5,0,0,0-.27526.84741Z\"></path>\n",
       "    </svg></a></td><td class=\"a-text-right mojo-field-type-boolean hidden\">false</td></tr><tr><td class=\"a-text-right mojo-header-column mojo-truncate mojo-field-type-rank mojo-sort-column\">194</td><td class=\"a-text-left mojo-field-type-release mojo-cell-wide\"><a class=\"a-link-normal\" href=\"/release/rl1443595777/?ref_=bo_yld_table_194\">Ballon</a></td><td class=\"a-text-left mojo-field-type-genre hidden\">-</td><td class=\"a-text-right mojo-field-type-money hidden\">-</td><td class=\"a-text-right mojo-field-type-duration hidden\">-</td><td class=\"a-text-right mojo-field-type-money mojo-estimatable\">$11,913</td><td class=\"a-text-right mojo-field-type-positive_integer\">5</td><td class=\"a-text-right mojo-field-type-money mojo-estimatable\">$34,222</td><td class=\"a-text-left mojo-field-type-date a-nowrap\">Sep 6</td><td class=\"a-text-left mojo-field-type-studio\"><a class=\"a-link-normal\" href=\"https://pro.imdb.com/company/co0428322/boxoffice/?view=releases&amp;ref_=mojo_yld_table_194&amp;rf=mojo_yld_table_194\" rel=\"noopener\" target=\"_blank\">Distrib Films<svg class=\"mojo-new-window-svg\" viewBox=\"0 0 32 32\" xmlns=\"http://www.w3.org/2000/svg\">\n",
       "        <path d=\"M24,15.57251l3,3V23.5A3.50424,3.50424,0,0,1,23.5,27H8.5A3.50424,3.50424,0,0,1,5,23.5V8.5A3.50424,3.50424,0,0,1,8.5,5h4.92755l3,3H8.5a.50641.50641,0,0,0-.5.5v15a.50641.50641,0,0,0,.5.5h15a.50641.50641,0,0,0,.5-.5ZM19.81952,8.56372,12.8844,17.75a.49989.49989,0,0,0,.04547.65479l.66534.66528a.49983.49983,0,0,0,.65479.04553l9.18628-6.93518,2.12579,2.12585a.5.5,0,0,0,.84741-.27526l1.48273-9.35108a.50006.50006,0,0,0-.57214-.57214L17.969,5.59058a.5.5,0,0,0-.27526.84741Z\"></path>\n",
       "    </svg></a></td><td class=\"a-text-right mojo-field-type-boolean hidden\">false</td></tr><tr><td class=\"a-text-right mojo-header-column mojo-truncate mojo-field-type-rank mojo-sort-column\">195</td><td class=\"a-text-left mojo-field-type-release mojo-cell-wide\"><a class=\"a-link-normal\" href=\"/release/rl2579137025/?ref_=bo_yld_table_195\">The Wild Goose Lake</a></td><td class=\"a-text-left mojo-field-type-genre hidden\">-</td><td class=\"a-text-right mojo-field-type-money hidden\">-</td><td class=\"a-text-right mojo-field-type-duration hidden\">-</td><td class=\"a-text-right mojo-field-type-money mojo-estimatable\">$11,067</td><td class=\"a-text-right mojo-field-type-positive_integer\">5</td><td class=\"a-text-right mojo-field-type-money mojo-estimatable\">$12,573</td><td class=\"a-text-left mojo-field-type-date a-nowrap\">Mar 6</td><td class=\"a-text-left mojo-field-type-studio\"><a class=\"a-link-normal\" href=\"https://pro.imdb.com/company/co0087326/boxoffice/?view=releases&amp;ref_=mojo_yld_table_195&amp;rf=mojo_yld_table_195\" rel=\"noopener\" target=\"_blank\">Film Movement<svg class=\"mojo-new-window-svg\" viewBox=\"0 0 32 32\" xmlns=\"http://www.w3.org/2000/svg\">\n",
       "        <path d=\"M24,15.57251l3,3V23.5A3.50424,3.50424,0,0,1,23.5,27H8.5A3.50424,3.50424,0,0,1,5,23.5V8.5A3.50424,3.50424,0,0,1,8.5,5h4.92755l3,3H8.5a.50641.50641,0,0,0-.5.5v15a.50641.50641,0,0,0,.5.5h15a.50641.50641,0,0,0,.5-.5ZM19.81952,8.56372,12.8844,17.75a.49989.49989,0,0,0,.04547.65479l.66534.66528a.49983.49983,0,0,0,.65479.04553l9.18628-6.93518,2.12579,2.12585a.5.5,0,0,0,.84741-.27526l1.48273-9.35108a.50006.50006,0,0,0-.57214-.57214L17.969,5.59058a.5.5,0,0,0-.27526.84741Z\"></path>\n",
       "    </svg></a></td><td class=\"a-text-right mojo-field-type-boolean hidden\">false</td></tr><tr><td class=\"a-text-right mojo-header-column mojo-truncate mojo-field-type-rank mojo-sort-column\">196</td><td class=\"a-text-left mojo-field-type-release mojo-cell-wide\"><a class=\"a-link-normal\" href=\"/release/rl3870720513/?ref_=bo_yld_table_196\">You Go to My Head</a></td><td class=\"a-text-left mojo-field-type-genre hidden\">-</td><td class=\"a-text-right mojo-field-type-money hidden\">-</td><td class=\"a-text-right mojo-field-type-duration hidden\">-</td><td class=\"a-text-right mojo-field-type-money mojo-estimatable\">$10,682</td><td class=\"a-text-right mojo-field-type-positive_integer\">2</td><td class=\"a-text-right mojo-field-type-money mojo-estimatable\">$10,682</td><td class=\"a-text-left mojo-field-type-date a-nowrap\">Feb 14</td><td class=\"a-text-left mojo-field-type-studio\"><a class=\"a-link-normal\" href=\"https://pro.imdb.com/company/co0582768/boxoffice/?view=releases&amp;ref_=mojo_yld_table_196&amp;rf=mojo_yld_table_196\" rel=\"noopener\" target=\"_blank\">First Run<svg class=\"mojo-new-window-svg\" viewBox=\"0 0 32 32\" xmlns=\"http://www.w3.org/2000/svg\">\n",
       "        <path d=\"M24,15.57251l3,3V23.5A3.50424,3.50424,0,0,1,23.5,27H8.5A3.50424,3.50424,0,0,1,5,23.5V8.5A3.50424,3.50424,0,0,1,8.5,5h4.92755l3,3H8.5a.50641.50641,0,0,0-.5.5v15a.50641.50641,0,0,0,.5.5h15a.50641.50641,0,0,0,.5-.5ZM19.81952,8.56372,12.8844,17.75a.49989.49989,0,0,0,.04547.65479l.66534.66528a.49983.49983,0,0,0,.65479.04553l9.18628-6.93518,2.12579,2.12585a.5.5,0,0,0,.84741-.27526l1.48273-9.35108a.50006.50006,0,0,0-.57214-.57214L17.969,5.59058a.5.5,0,0,0-.27526.84741Z\"></path>\n",
       "    </svg></a></td><td class=\"a-text-right mojo-field-type-boolean hidden\">false</td></tr><tr><td class=\"a-text-right mojo-header-column mojo-truncate mojo-field-type-rank mojo-sort-column\">197</td><td class=\"a-text-left mojo-field-type-release mojo-cell-wide\"><a class=\"a-link-normal\" href=\"/release/rl4085220865/?ref_=bo_yld_table_197\">Playmobil: The Movie</a></td><td class=\"a-text-left mojo-field-type-genre hidden\">-</td><td class=\"a-text-right mojo-field-type-money hidden\">-</td><td class=\"a-text-right mojo-field-type-duration hidden\">-</td><td class=\"a-text-right mojo-field-type-money mojo-estimatable\">$10,525</td><td class=\"a-text-right mojo-field-type-positive_integer\">2,337</td><td class=\"a-text-right mojo-field-type-money mojo-estimatable\">$1,115,008</td><td class=\"a-text-left mojo-field-type-date a-nowrap\">Dec 6</td><td class=\"a-text-left mojo-field-type-studio\"><a class=\"a-link-normal\" href=\"https://pro.imdb.com/company/co0249694/boxoffice/?view=releases&amp;ref_=mojo_yld_table_197&amp;rf=mojo_yld_table_197\" rel=\"noopener\" target=\"_blank\">STX Entertainment<svg class=\"mojo-new-window-svg\" viewBox=\"0 0 32 32\" xmlns=\"http://www.w3.org/2000/svg\">\n",
       "        <path d=\"M24,15.57251l3,3V23.5A3.50424,3.50424,0,0,1,23.5,27H8.5A3.50424,3.50424,0,0,1,5,23.5V8.5A3.50424,3.50424,0,0,1,8.5,5h4.92755l3,3H8.5a.50641.50641,0,0,0-.5.5v15a.50641.50641,0,0,0,.5.5h15a.50641.50641,0,0,0,.5-.5ZM19.81952,8.56372,12.8844,17.75a.49989.49989,0,0,0,.04547.65479l.66534.66528a.49983.49983,0,0,0,.65479.04553l9.18628-6.93518,2.12579,2.12585a.5.5,0,0,0,.84741-.27526l1.48273-9.35108a.50006.50006,0,0,0-.57214-.57214L17.969,5.59058a.5.5,0,0,0-.27526.84741Z\"></path>\n",
       "    </svg></a></td><td class=\"a-text-right mojo-field-type-boolean hidden\">false</td></tr><tr><td class=\"a-text-right mojo-header-column mojo-truncate mojo-field-type-rank mojo-sort-column\">198</td><td class=\"a-text-left mojo-field-type-release mojo-cell-wide\"><a class=\"a-link-normal\" href=\"/release/rl851149313/?ref_=bo_yld_table_198\">Vitalina Varela</a></td><td class=\"a-text-left mojo-field-type-genre hidden\">-</td><td class=\"a-text-right mojo-field-type-money hidden\">-</td><td class=\"a-text-right mojo-field-type-duration hidden\">-</td><td class=\"a-text-right mojo-field-type-money mojo-estimatable\">$10,329</td><td class=\"a-text-right mojo-field-type-positive_integer\">5</td><td class=\"a-text-right mojo-field-type-money mojo-estimatable\">$14,941</td><td class=\"a-text-left mojo-field-type-date a-nowrap\">Feb 21</td><td class=\"a-text-left mojo-field-type-studio\"><a class=\"a-link-normal\" href=\"https://pro.imdb.com/company/co0575901/boxoffice/?view=releases&amp;ref_=mojo_yld_table_198&amp;rf=mojo_yld_table_198\" rel=\"noopener\" target=\"_blank\">Grasshopper Film<svg class=\"mojo-new-window-svg\" viewBox=\"0 0 32 32\" xmlns=\"http://www.w3.org/2000/svg\">\n",
       "        <path d=\"M24,15.57251l3,3V23.5A3.50424,3.50424,0,0,1,23.5,27H8.5A3.50424,3.50424,0,0,1,5,23.5V8.5A3.50424,3.50424,0,0,1,8.5,5h4.92755l3,3H8.5a.50641.50641,0,0,0-.5.5v15a.50641.50641,0,0,0,.5.5h15a.50641.50641,0,0,0,.5-.5ZM19.81952,8.56372,12.8844,17.75a.49989.49989,0,0,0,.04547.65479l.66534.66528a.49983.49983,0,0,0,.65479.04553l9.18628-6.93518,2.12579,2.12585a.5.5,0,0,0,.84741-.27526l1.48273-9.35108a.50006.50006,0,0,0-.57214-.57214L17.969,5.59058a.5.5,0,0,0-.27526.84741Z\"></path>\n",
       "    </svg></a></td><td class=\"a-text-right mojo-field-type-boolean hidden\">false</td></tr><tr><td class=\"a-text-right mojo-header-column mojo-truncate mojo-field-type-rank mojo-sort-column\">199</td><td class=\"a-text-left mojo-field-type-release mojo-cell-wide\"><a class=\"a-link-normal\" href=\"/release/rl766935553/?ref_=bo_yld_table_199\">Foosballers</a></td><td class=\"a-text-left mojo-field-type-genre hidden\">-</td><td class=\"a-text-right mojo-field-type-money hidden\">-</td><td class=\"a-text-right mojo-field-type-duration hidden\">-</td><td class=\"a-text-right mojo-field-type-money mojo-estimatable\">$9,966</td><td class=\"a-text-right mojo-field-type-positive_integer\">9</td><td class=\"a-text-right mojo-field-type-money mojo-estimatable\">$9,966</td><td class=\"a-text-left mojo-field-type-date a-nowrap\">Feb 11</td><td class=\"a-text-left mojo-field-type-studio\"><a class=\"a-link-normal\" href=\"https://pro.imdb.com/company/co0680986/boxoffice/?view=releases&amp;ref_=mojo_yld_table_199&amp;rf=mojo_yld_table_199\" rel=\"noopener\" target=\"_blank\">Kicking + Screening Media Group<svg class=\"mojo-new-window-svg\" viewBox=\"0 0 32 32\" xmlns=\"http://www.w3.org/2000/svg\">\n",
       "        <path d=\"M24,15.57251l3,3V23.5A3.50424,3.50424,0,0,1,23.5,27H8.5A3.50424,3.50424,0,0,1,5,23.5V8.5A3.50424,3.50424,0,0,1,8.5,5h4.92755l3,3H8.5a.50641.50641,0,0,0-.5.5v15a.50641.50641,0,0,0,.5.5h15a.50641.50641,0,0,0,.5-.5ZM19.81952,8.56372,12.8844,17.75a.49989.49989,0,0,0,.04547.65479l.66534.66528a.49983.49983,0,0,0,.65479.04553l9.18628-6.93518,2.12579,2.12585a.5.5,0,0,0,.84741-.27526l1.48273-9.35108a.50006.50006,0,0,0-.57214-.57214L17.969,5.59058a.5.5,0,0,0-.27526.84741Z\"></path>\n",
       "    </svg></a></td><td class=\"a-text-right mojo-field-type-boolean hidden\">false</td></tr><tr><td class=\"a-text-right mojo-header-column mojo-truncate mojo-field-type-rank mojo-sort-column\">200</td><td class=\"a-text-left mojo-field-type-release mojo-cell-wide\"><a class=\"a-link-normal\" href=\"/release/rl4195059201/?ref_=bo_yld_table_200\">The Perfect Race</a></td><td class=\"a-text-left mojo-field-type-genre hidden\">-</td><td class=\"a-text-right mojo-field-type-money hidden\">-</td><td class=\"a-text-right mojo-field-type-duration hidden\">-</td><td class=\"a-text-right mojo-field-type-money mojo-estimatable\">$9,835</td><td class=\"a-text-right mojo-field-type-positive_integer\">2</td><td class=\"a-text-right mojo-field-type-money mojo-estimatable\">$29,644</td><td class=\"a-text-left mojo-field-type-date a-nowrap\">Oct 14</td><td class=\"a-text-left mojo-field-type-studio\"><a class=\"a-link-normal\" href=\"https://pro.imdb.com/company/co0073962/boxoffice/?view=releases&amp;ref_=mojo_yld_table_200&amp;rf=mojo_yld_table_200\" rel=\"noopener\" target=\"_blank\">Five &amp; Two Pictures<svg class=\"mojo-new-window-svg\" viewBox=\"0 0 32 32\" xmlns=\"http://www.w3.org/2000/svg\">\n",
       "        <path d=\"M24,15.57251l3,3V23.5A3.50424,3.50424,0,0,1,23.5,27H8.5A3.50424,3.50424,0,0,1,5,23.5V8.5A3.50424,3.50424,0,0,1,8.5,5h4.92755l3,3H8.5a.50641.50641,0,0,0-.5.5v15a.50641.50641,0,0,0,.5.5h15a.50641.50641,0,0,0,.5-.5ZM19.81952,8.56372,12.8844,17.75a.49989.49989,0,0,0,.04547.65479l.66534.66528a.49983.49983,0,0,0,.65479.04553l9.18628-6.93518,2.12579,2.12585a.5.5,0,0,0,.84741-.27526l1.48273-9.35108a.50006.50006,0,0,0-.57214-.57214L17.969,5.59058a.5.5,0,0,0-.27526.84741Z\"></path>\n",
       "    </svg></a></td><td class=\"a-text-right mojo-field-type-boolean hidden\">false</td></tr><tr><td class=\"a-text-right mojo-header-column mojo-truncate mojo-field-type-rank mojo-sort-column\">201</td><td class=\"a-text-left mojo-field-type-release mojo-cell-wide\"><a class=\"a-link-normal\" href=\"/release/rl2474018305/?ref_=bo_yld_table_201\">Under the Sea 3D</a></td><td class=\"a-text-left mojo-field-type-genre hidden\">-</td><td class=\"a-text-right mojo-field-type-money hidden\">-</td><td class=\"a-text-right mojo-field-type-duration hidden\">-</td><td class=\"a-text-right mojo-field-type-money mojo-estimatable\">$9,462</td><td class=\"a-text-right mojo-field-type-positive_integer\">108</td><td class=\"a-text-right mojo-field-type-money mojo-estimatable\">$36,262,926</td><td class=\"a-text-left mojo-field-type-date a-nowrap\">Feb 13</td><td class=\"a-text-left mojo-field-type-studio\"><a class=\"a-link-normal\" href=\"https://pro.imdb.com/company/co0002663/boxoffice/?view=releases&amp;ref_=mojo_yld_table_201&amp;rf=mojo_yld_table_201\" rel=\"noopener\" target=\"_blank\">Warner Bros.<svg class=\"mojo-new-window-svg\" viewBox=\"0 0 32 32\" xmlns=\"http://www.w3.org/2000/svg\">\n",
       "        <path d=\"M24,15.57251l3,3V23.5A3.50424,3.50424,0,0,1,23.5,27H8.5A3.50424,3.50424,0,0,1,5,23.5V8.5A3.50424,3.50424,0,0,1,8.5,5h4.92755l3,3H8.5a.50641.50641,0,0,0-.5.5v15a.50641.50641,0,0,0,.5.5h15a.50641.50641,0,0,0,.5-.5ZM19.81952,8.56372,12.8844,17.75a.49989.49989,0,0,0,.04547.65479l.66534.66528a.49983.49983,0,0,0,.65479.04553l9.18628-6.93518,2.12579,2.12585a.5.5,0,0,0,.84741-.27526l1.48273-9.35108a.50006.50006,0,0,0-.57214-.57214L17.969,5.59058a.5.5,0,0,0-.27526.84741Z\"></path>\n",
       "    </svg></a></td><td class=\"a-text-right mojo-field-type-boolean hidden\">false</td></tr><tr><td class=\"a-text-right mojo-header-column mojo-truncate mojo-field-type-rank mojo-sort-column\">202</td><td class=\"a-text-left mojo-field-type-release mojo-cell-wide\"><a class=\"a-link-normal\" href=\"/release/rl1923056129/?ref_=bo_yld_table_202\">Kind Hearts and Coronets</a><div class=\"a-section a-spacing-none\"><span class=\"a-size-small a-color-secondary\">2019 Re-release</span></div></td><td class=\"a-text-left mojo-field-type-genre hidden\">-</td><td class=\"a-text-right mojo-field-type-money hidden\">-</td><td class=\"a-text-right mojo-field-type-duration hidden\">-</td><td class=\"a-text-right mojo-field-type-money mojo-estimatable\">$8,425</td><td class=\"a-text-right mojo-field-type-positive_integer\">3</td><td class=\"a-text-right mojo-field-type-money mojo-estimatable\">$35,948</td><td class=\"a-text-left mojo-field-type-date a-nowrap\">Nov 27</td><td class=\"a-text-left mojo-field-type-studio\"><a class=\"a-link-normal\" href=\"https://pro.imdb.com/company/co0049592/boxoffice/?view=releases&amp;ref_=mojo_yld_table_202&amp;rf=mojo_yld_table_202\" rel=\"noopener\" target=\"_blank\">Rialto Pictures<svg class=\"mojo-new-window-svg\" viewBox=\"0 0 32 32\" xmlns=\"http://www.w3.org/2000/svg\">\n",
       "        <path d=\"M24,15.57251l3,3V23.5A3.50424,3.50424,0,0,1,23.5,27H8.5A3.50424,3.50424,0,0,1,5,23.5V8.5A3.50424,3.50424,0,0,1,8.5,5h4.92755l3,3H8.5a.50641.50641,0,0,0-.5.5v15a.50641.50641,0,0,0,.5.5h15a.50641.50641,0,0,0,.5-.5ZM19.81952,8.56372,12.8844,17.75a.49989.49989,0,0,0,.04547.65479l.66534.66528a.49983.49983,0,0,0,.65479.04553l9.18628-6.93518,2.12579,2.12585a.5.5,0,0,0,.84741-.27526l1.48273-9.35108a.50006.50006,0,0,0-.57214-.57214L17.969,5.59058a.5.5,0,0,0-.27526.84741Z\"></path>\n",
       "    </svg></a></td><td class=\"a-text-right mojo-field-type-boolean hidden\">false</td></tr><tr><td class=\"a-text-right mojo-header-column mojo-truncate mojo-field-type-rank mojo-sort-column\">203</td><td class=\"a-text-left mojo-field-type-release mojo-cell-wide\"><a class=\"a-link-normal\" href=\"/release/rl482247169/?ref_=bo_yld_table_203\">The Trip to Greece</a></td><td class=\"a-text-left mojo-field-type-genre hidden\">-</td><td class=\"a-text-right mojo-field-type-money hidden\">-</td><td class=\"a-text-right mojo-field-type-duration hidden\">-</td><td class=\"a-text-right mojo-field-type-money mojo-estimatable\">$8,340</td><td class=\"a-text-right mojo-field-type-positive_integer\">11</td><td class=\"a-text-right mojo-field-type-money mojo-estimatable\">$8,340</td><td class=\"a-text-left mojo-field-type-date a-nowrap\">May 22</td><td class=\"a-text-left mojo-field-type-studio\"><a class=\"a-link-normal\" href=\"https://pro.imdb.com/company/co0015762/boxoffice/?view=releases&amp;ref_=mojo_yld_table_203&amp;rf=mojo_yld_table_203\" rel=\"noopener\" target=\"_blank\">IFC Films<svg class=\"mojo-new-window-svg\" viewBox=\"0 0 32 32\" xmlns=\"http://www.w3.org/2000/svg\">\n",
       "        <path d=\"M24,15.57251l3,3V23.5A3.50424,3.50424,0,0,1,23.5,27H8.5A3.50424,3.50424,0,0,1,5,23.5V8.5A3.50424,3.50424,0,0,1,8.5,5h4.92755l3,3H8.5a.50641.50641,0,0,0-.5.5v15a.50641.50641,0,0,0,.5.5h15a.50641.50641,0,0,0,.5-.5ZM19.81952,8.56372,12.8844,17.75a.49989.49989,0,0,0,.04547.65479l.66534.66528a.49983.49983,0,0,0,.65479.04553l9.18628-6.93518,2.12579,2.12585a.5.5,0,0,0,.84741-.27526l1.48273-9.35108a.50006.50006,0,0,0-.57214-.57214L17.969,5.59058a.5.5,0,0,0-.27526.84741Z\"></path>\n",
       "    </svg></a></td><td class=\"a-text-right mojo-field-type-boolean hidden\">false</td></tr><tr><td class=\"a-text-right mojo-header-column mojo-truncate mojo-field-type-rank mojo-sort-column\">204</td><td class=\"a-text-left mojo-field-type-release mojo-cell-wide\"><a class=\"a-link-normal\" href=\"/release/rl463569409/?ref_=bo_yld_table_204\">Inside the Rain</a></td><td class=\"a-text-left mojo-field-type-genre hidden\">-</td><td class=\"a-text-right mojo-field-type-money hidden\">-</td><td class=\"a-text-right mojo-field-type-duration hidden\">-</td><td class=\"a-text-right mojo-field-type-money mojo-estimatable\">$8,140</td><td class=\"a-text-right mojo-field-type-positive_integer\">1</td><td class=\"a-text-right mojo-field-type-money mojo-estimatable\">$8,140</td><td class=\"a-text-left mojo-field-type-date a-nowrap\">Mar 13</td><td class=\"a-text-left mojo-field-type-studio\"><a class=\"a-link-normal\" href=\"https://pro.imdb.com/company/co0100092/boxoffice/?view=releases&amp;ref_=mojo_yld_table_204&amp;rf=mojo_yld_table_204\" rel=\"noopener\" target=\"_blank\">Sky Island Films<svg class=\"mojo-new-window-svg\" viewBox=\"0 0 32 32\" xmlns=\"http://www.w3.org/2000/svg\">\n",
       "        <path d=\"M24,15.57251l3,3V23.5A3.50424,3.50424,0,0,1,23.5,27H8.5A3.50424,3.50424,0,0,1,5,23.5V8.5A3.50424,3.50424,0,0,1,8.5,5h4.92755l3,3H8.5a.50641.50641,0,0,0-.5.5v15a.50641.50641,0,0,0,.5.5h15a.50641.50641,0,0,0,.5-.5ZM19.81952,8.56372,12.8844,17.75a.49989.49989,0,0,0,.04547.65479l.66534.66528a.49983.49983,0,0,0,.65479.04553l9.18628-6.93518,2.12579,2.12585a.5.5,0,0,0,.84741-.27526l1.48273-9.35108a.50006.50006,0,0,0-.57214-.57214L17.969,5.59058a.5.5,0,0,0-.27526.84741Z\"></path>\n",
       "    </svg></a></td><td class=\"a-text-right mojo-field-type-boolean hidden\">false</td></tr><tr><td class=\"a-text-right mojo-header-column mojo-truncate mojo-field-type-rank mojo-sort-column\">205</td><td class=\"a-text-left mojo-field-type-release mojo-cell-wide\"><a class=\"a-link-normal\" href=\"/release/rl3299312129/?ref_=bo_yld_table_205\">The Wave</a></td><td class=\"a-text-left mojo-field-type-genre hidden\">-</td><td class=\"a-text-right mojo-field-type-money hidden\">-</td><td class=\"a-text-right mojo-field-type-duration hidden\">-</td><td class=\"a-text-right mojo-field-type-money mojo-estimatable\">$8,101</td><td class=\"a-text-right mojo-field-type-positive_integer\">13</td><td class=\"a-text-right mojo-field-type-money mojo-estimatable\">$8,101</td><td class=\"a-text-left mojo-field-type-date a-nowrap\">Jan 17</td><td class=\"a-text-left mojo-field-type-studio\">-</td><td class=\"a-text-right mojo-field-type-boolean hidden\">false</td></tr><tr><td class=\"a-text-right mojo-header-column mojo-truncate mojo-field-type-rank mojo-sort-column\">206</td><td class=\"a-text-left mojo-field-type-release mojo-cell-wide\"><a class=\"a-link-normal\" href=\"/release/rl2097579521/?ref_=bo_yld_table_206\">Black and Blue</a></td><td class=\"a-text-left mojo-field-type-genre hidden\">-</td><td class=\"a-text-right mojo-field-type-money hidden\">-</td><td class=\"a-text-right mojo-field-type-duration hidden\">-</td><td class=\"a-text-right mojo-field-type-money mojo-estimatable\">$7,807</td><td class=\"a-text-right mojo-field-type-positive_integer\">2,062</td><td class=\"a-text-right mojo-field-type-money mojo-estimatable\">$22,055,313</td><td class=\"a-text-left mojo-field-type-date a-nowrap\">Oct 25</td><td class=\"a-text-left mojo-field-type-studio\"><a class=\"a-link-normal\" href=\"https://pro.imdb.com/company/co0010568/boxoffice/?view=releases&amp;ref_=mojo_yld_table_206&amp;rf=mojo_yld_table_206\" rel=\"noopener\" target=\"_blank\">Screen Gems<svg class=\"mojo-new-window-svg\" viewBox=\"0 0 32 32\" xmlns=\"http://www.w3.org/2000/svg\">\n",
       "        <path d=\"M24,15.57251l3,3V23.5A3.50424,3.50424,0,0,1,23.5,27H8.5A3.50424,3.50424,0,0,1,5,23.5V8.5A3.50424,3.50424,0,0,1,8.5,5h4.92755l3,3H8.5a.50641.50641,0,0,0-.5.5v15a.50641.50641,0,0,0,.5.5h15a.50641.50641,0,0,0,.5-.5ZM19.81952,8.56372,12.8844,17.75a.49989.49989,0,0,0,.04547.65479l.66534.66528a.49983.49983,0,0,0,.65479.04553l9.18628-6.93518,2.12579,2.12585a.5.5,0,0,0,.84741-.27526l1.48273-9.35108a.50006.50006,0,0,0-.57214-.57214L17.969,5.59058a.5.5,0,0,0-.27526.84741Z\"></path>\n",
       "    </svg></a></td><td class=\"a-text-right mojo-field-type-boolean hidden\">false</td></tr><tr><td class=\"a-text-right mojo-header-column mojo-truncate mojo-field-type-rank mojo-sort-column\">207</td><td class=\"a-text-left mojo-field-type-release mojo-cell-wide\"><a class=\"a-link-normal\" href=\"/release/rl2459861505/?ref_=bo_yld_table_207\">American Dharma</a></td><td class=\"a-text-left mojo-field-type-genre hidden\">-</td><td class=\"a-text-right mojo-field-type-money hidden\">-</td><td class=\"a-text-right mojo-field-type-duration hidden\">-</td><td class=\"a-text-right mojo-field-type-money mojo-estimatable\">$7,513</td><td class=\"a-text-right mojo-field-type-positive_integer\">11</td><td class=\"a-text-right mojo-field-type-money mojo-estimatable\">$51,891</td><td class=\"a-text-left mojo-field-type-date a-nowrap\">Nov 1</td><td class=\"a-text-left mojo-field-type-studio\"><a class=\"a-link-normal\" href=\"https://pro.imdb.com/company/co0747471/boxoffice/?view=releases&amp;ref_=mojo_yld_table_207&amp;rf=mojo_yld_table_207\" rel=\"noopener\" target=\"_blank\">Utopia<svg class=\"mojo-new-window-svg\" viewBox=\"0 0 32 32\" xmlns=\"http://www.w3.org/2000/svg\">\n",
       "        <path d=\"M24,15.57251l3,3V23.5A3.50424,3.50424,0,0,1,23.5,27H8.5A3.50424,3.50424,0,0,1,5,23.5V8.5A3.50424,3.50424,0,0,1,8.5,5h4.92755l3,3H8.5a.50641.50641,0,0,0-.5.5v15a.50641.50641,0,0,0,.5.5h15a.50641.50641,0,0,0,.5-.5ZM19.81952,8.56372,12.8844,17.75a.49989.49989,0,0,0,.04547.65479l.66534.66528a.49983.49983,0,0,0,.65479.04553l9.18628-6.93518,2.12579,2.12585a.5.5,0,0,0,.84741-.27526l1.48273-9.35108a.50006.50006,0,0,0-.57214-.57214L17.969,5.59058a.5.5,0,0,0-.27526.84741Z\"></path>\n",
       "    </svg></a></td><td class=\"a-text-right mojo-field-type-boolean hidden\">false</td></tr><tr><td class=\"a-text-right mojo-header-column mojo-truncate mojo-field-type-rank mojo-sort-column\">208</td><td class=\"a-text-left mojo-field-type-release mojo-cell-wide\"><a class=\"a-link-normal\" href=\"/release/rl2126414337/?ref_=bo_yld_table_208\">Resistance</a></td><td class=\"a-text-left mojo-field-type-genre hidden\">-</td><td class=\"a-text-right mojo-field-type-money hidden\">-</td><td class=\"a-text-right mojo-field-type-duration hidden\">-</td><td class=\"a-text-right mojo-field-type-money mojo-estimatable\">$7,464</td><td class=\"a-text-right mojo-field-type-positive_integer\">1</td><td class=\"a-text-right mojo-field-type-money mojo-estimatable\">$7,464</td><td class=\"a-text-left mojo-field-type-date a-nowrap\">Mar 27</td><td class=\"a-text-left mojo-field-type-studio\"><a class=\"a-link-normal\" href=\"https://pro.imdb.com/company/co0015762/boxoffice/?view=releases&amp;ref_=mojo_yld_table_208&amp;rf=mojo_yld_table_208\" rel=\"noopener\" target=\"_blank\">IFC Films<svg class=\"mojo-new-window-svg\" viewBox=\"0 0 32 32\" xmlns=\"http://www.w3.org/2000/svg\">\n",
       "        <path d=\"M24,15.57251l3,3V23.5A3.50424,3.50424,0,0,1,23.5,27H8.5A3.50424,3.50424,0,0,1,5,23.5V8.5A3.50424,3.50424,0,0,1,8.5,5h4.92755l3,3H8.5a.50641.50641,0,0,0-.5.5v15a.50641.50641,0,0,0,.5.5h15a.50641.50641,0,0,0,.5-.5ZM19.81952,8.56372,12.8844,17.75a.49989.49989,0,0,0,.04547.65479l.66534.66528a.49983.49983,0,0,0,.65479.04553l9.18628-6.93518,2.12579,2.12585a.5.5,0,0,0,.84741-.27526l1.48273-9.35108a.50006.50006,0,0,0-.57214-.57214L17.969,5.59058a.5.5,0,0,0-.27526.84741Z\"></path>\n",
       "    </svg></a></td><td class=\"a-text-right mojo-field-type-boolean hidden\">false</td></tr><tr><td class=\"a-text-right mojo-header-column mojo-truncate mojo-field-type-rank mojo-sort-column\">209</td><td class=\"a-text-left mojo-field-type-release mojo-cell-wide\"><a class=\"a-link-normal\" href=\"/release/rl1044415233/?ref_=bo_yld_table_209\">Circles</a></td><td class=\"a-text-left mojo-field-type-genre hidden\">-</td><td class=\"a-text-right mojo-field-type-money hidden\">-</td><td class=\"a-text-right mojo-field-type-duration hidden\">-</td><td class=\"a-text-right mojo-field-type-money mojo-estimatable\">$6,967</td><td class=\"a-text-right mojo-field-type-positive_integer\">3</td><td class=\"a-text-right mojo-field-type-money mojo-estimatable\">$10,260</td><td class=\"a-text-left mojo-field-type-date a-nowrap\">-</td><td class=\"a-text-left mojo-field-type-studio\"><a class=\"a-link-normal\" href=\"https://pro.imdb.com/company/co0034057/boxoffice/?view=releases&amp;ref_=mojo_yld_table_209&amp;rf=mojo_yld_table_209\" rel=\"noopener\" target=\"_blank\">Indican Pictures<svg class=\"mojo-new-window-svg\" viewBox=\"0 0 32 32\" xmlns=\"http://www.w3.org/2000/svg\">\n",
       "        <path d=\"M24,15.57251l3,3V23.5A3.50424,3.50424,0,0,1,23.5,27H8.5A3.50424,3.50424,0,0,1,5,23.5V8.5A3.50424,3.50424,0,0,1,8.5,5h4.92755l3,3H8.5a.50641.50641,0,0,0-.5.5v15a.50641.50641,0,0,0,.5.5h15a.50641.50641,0,0,0,.5-.5ZM19.81952,8.56372,12.8844,17.75a.49989.49989,0,0,0,.04547.65479l.66534.66528a.49983.49983,0,0,0,.65479.04553l9.18628-6.93518,2.12579,2.12585a.5.5,0,0,0,.84741-.27526l1.48273-9.35108a.50006.50006,0,0,0-.57214-.57214L17.969,5.59058a.5.5,0,0,0-.27526.84741Z\"></path>\n",
       "    </svg></a></td><td class=\"a-text-right mojo-field-type-boolean hidden\">false</td></tr><tr><td class=\"a-text-right mojo-header-column mojo-truncate mojo-field-type-rank mojo-sort-column\">210</td><td class=\"a-text-left mojo-field-type-release mojo-cell-wide\"><a class=\"a-link-normal\" href=\"/release/rl2913960449/?ref_=bo_yld_table_210\">Afterward</a></td><td class=\"a-text-left mojo-field-type-genre hidden\">-</td><td class=\"a-text-right mojo-field-type-money hidden\">-</td><td class=\"a-text-right mojo-field-type-duration hidden\">-</td><td class=\"a-text-right mojo-field-type-money mojo-estimatable\">$6,477</td><td class=\"a-text-right mojo-field-type-positive_integer\">1</td><td class=\"a-text-right mojo-field-type-money mojo-estimatable\">$6,477</td><td class=\"a-text-left mojo-field-type-date a-nowrap\">Jan 10</td><td class=\"a-text-left mojo-field-type-studio\"><a class=\"a-link-normal\" href=\"https://pro.imdb.com/company/co0096337/boxoffice/?view=releases&amp;ref_=mojo_yld_table_210&amp;rf=mojo_yld_table_210\" rel=\"noopener\" target=\"_blank\">Abramorama<svg class=\"mojo-new-window-svg\" viewBox=\"0 0 32 32\" xmlns=\"http://www.w3.org/2000/svg\">\n",
       "        <path d=\"M24,15.57251l3,3V23.5A3.50424,3.50424,0,0,1,23.5,27H8.5A3.50424,3.50424,0,0,1,5,23.5V8.5A3.50424,3.50424,0,0,1,8.5,5h4.92755l3,3H8.5a.50641.50641,0,0,0-.5.5v15a.50641.50641,0,0,0,.5.5h15a.50641.50641,0,0,0,.5-.5ZM19.81952,8.56372,12.8844,17.75a.49989.49989,0,0,0,.04547.65479l.66534.66528a.49983.49983,0,0,0,.65479.04553l9.18628-6.93518,2.12579,2.12585a.5.5,0,0,0,.84741-.27526l1.48273-9.35108a.50006.50006,0,0,0-.57214-.57214L17.969,5.59058a.5.5,0,0,0-.27526.84741Z\"></path>\n",
       "    </svg></a></td><td class=\"a-text-right mojo-field-type-boolean hidden\">false</td></tr><tr><td class=\"a-text-right mojo-header-column mojo-truncate mojo-field-type-rank mojo-sort-column\">211</td><td class=\"a-text-left mojo-field-type-release mojo-cell-wide\"><a class=\"a-link-normal\" href=\"/release/rl616333825/?ref_=bo_yld_table_211\">Juvenile Delinquents</a></td><td class=\"a-text-left mojo-field-type-genre hidden\">-</td><td class=\"a-text-right mojo-field-type-money hidden\">-</td><td class=\"a-text-right mojo-field-type-duration hidden\">-</td><td class=\"a-text-right mojo-field-type-money mojo-estimatable\">$6,312</td><td class=\"a-text-right mojo-field-type-positive_integer\">1</td><td class=\"a-text-right mojo-field-type-money mojo-estimatable\">$6,312</td><td class=\"a-text-left mojo-field-type-date a-nowrap\">Mar 6</td><td class=\"a-text-left mojo-field-type-studio\">-</td><td class=\"a-text-right mojo-field-type-boolean hidden\">false</td></tr><tr><td class=\"a-text-right mojo-header-column mojo-truncate mojo-field-type-rank mojo-sort-column\">212</td><td class=\"a-text-left mojo-field-type-release mojo-cell-wide\"><a class=\"a-link-normal\" href=\"/release/rl3976758785/?ref_=bo_yld_table_212\">By the Grace of God</a></td><td class=\"a-text-left mojo-field-type-genre hidden\">-</td><td class=\"a-text-right mojo-field-type-money hidden\">-</td><td class=\"a-text-right mojo-field-type-duration hidden\">-</td><td class=\"a-text-right mojo-field-type-money mojo-estimatable\">$6,306</td><td class=\"a-text-right mojo-field-type-positive_integer\">11</td><td class=\"a-text-right mojo-field-type-money mojo-estimatable\">$67,059</td><td class=\"a-text-left mojo-field-type-date a-nowrap\">Oct 18</td><td class=\"a-text-left mojo-field-type-studio\"><a class=\"a-link-normal\" href=\"https://pro.imdb.com/company/co0235025/boxoffice/?view=releases&amp;ref_=mojo_yld_table_212&amp;rf=mojo_yld_table_212\" rel=\"noopener\" target=\"_blank\">Music Box Films<svg class=\"mojo-new-window-svg\" viewBox=\"0 0 32 32\" xmlns=\"http://www.w3.org/2000/svg\">\n",
       "        <path d=\"M24,15.57251l3,3V23.5A3.50424,3.50424,0,0,1,23.5,27H8.5A3.50424,3.50424,0,0,1,5,23.5V8.5A3.50424,3.50424,0,0,1,8.5,5h4.92755l3,3H8.5a.50641.50641,0,0,0-.5.5v15a.50641.50641,0,0,0,.5.5h15a.50641.50641,0,0,0,.5-.5ZM19.81952,8.56372,12.8844,17.75a.49989.49989,0,0,0,.04547.65479l.66534.66528a.49983.49983,0,0,0,.65479.04553l9.18628-6.93518,2.12579,2.12585a.5.5,0,0,0,.84741-.27526l1.48273-9.35108a.50006.50006,0,0,0-.57214-.57214L17.969,5.59058a.5.5,0,0,0-.27526.84741Z\"></path>\n",
       "    </svg></a></td><td class=\"a-text-right mojo-field-type-boolean hidden\">false</td></tr><tr><td class=\"a-text-right mojo-header-column mojo-truncate mojo-field-type-rank mojo-sort-column\">213</td><td class=\"a-text-left mojo-field-type-release mojo-cell-wide\"><a class=\"a-link-normal\" href=\"/release/rl2623047169/?ref_=bo_yld_table_213\">Hubble 3D</a></td><td class=\"a-text-left mojo-field-type-genre hidden\">-</td><td class=\"a-text-right mojo-field-type-money hidden\">-</td><td class=\"a-text-right mojo-field-type-duration hidden\">-</td><td class=\"a-text-right mojo-field-type-money mojo-estimatable\">$6,068</td><td class=\"a-text-right mojo-field-type-positive_integer\">151</td><td class=\"a-text-right mojo-field-type-money mojo-estimatable\">$52,522,904</td><td class=\"a-text-left mojo-field-type-date a-nowrap\">Mar 19</td><td class=\"a-text-left mojo-field-type-studio\"><a class=\"a-link-normal\" href=\"https://pro.imdb.com/company/co0002663/boxoffice/?view=releases&amp;ref_=mojo_yld_table_213&amp;rf=mojo_yld_table_213\" rel=\"noopener\" target=\"_blank\">Warner Bros.<svg class=\"mojo-new-window-svg\" viewBox=\"0 0 32 32\" xmlns=\"http://www.w3.org/2000/svg\">\n",
       "        <path d=\"M24,15.57251l3,3V23.5A3.50424,3.50424,0,0,1,23.5,27H8.5A3.50424,3.50424,0,0,1,5,23.5V8.5A3.50424,3.50424,0,0,1,8.5,5h4.92755l3,3H8.5a.50641.50641,0,0,0-.5.5v15a.50641.50641,0,0,0,.5.5h15a.50641.50641,0,0,0,.5-.5ZM19.81952,8.56372,12.8844,17.75a.49989.49989,0,0,0,.04547.65479l.66534.66528a.49983.49983,0,0,0,.65479.04553l9.18628-6.93518,2.12579,2.12585a.5.5,0,0,0,.84741-.27526l1.48273-9.35108a.50006.50006,0,0,0-.57214-.57214L17.969,5.59058a.5.5,0,0,0-.27526.84741Z\"></path>\n",
       "    </svg></a></td><td class=\"a-text-right mojo-field-type-boolean hidden\">false</td></tr><tr><td class=\"a-text-right mojo-header-column mojo-truncate mojo-field-type-rank mojo-sort-column\">214</td><td class=\"a-text-left mojo-field-type-release mojo-cell-wide\"><a class=\"a-link-normal\" href=\"/release/rl2193457665/?ref_=bo_yld_table_214\">The Other Lamb</a></td><td class=\"a-text-left mojo-field-type-genre hidden\">-</td><td class=\"a-text-right mojo-field-type-money hidden\">-</td><td class=\"a-text-right mojo-field-type-duration hidden\">-</td><td class=\"a-text-right mojo-field-type-money mojo-estimatable\">$6,024</td><td class=\"a-text-right mojo-field-type-positive_integer\">1</td><td class=\"a-text-right mojo-field-type-money mojo-estimatable\">$6,024</td><td class=\"a-text-left mojo-field-type-date a-nowrap\">Apr 3</td><td class=\"a-text-left mojo-field-type-studio\"><a class=\"a-link-normal\" href=\"https://pro.imdb.com/company/co0015762/boxoffice/?view=releases&amp;ref_=mojo_yld_table_214&amp;rf=mojo_yld_table_214\" rel=\"noopener\" target=\"_blank\">IFC Films<svg class=\"mojo-new-window-svg\" viewBox=\"0 0 32 32\" xmlns=\"http://www.w3.org/2000/svg\">\n",
       "        <path d=\"M24,15.57251l3,3V23.5A3.50424,3.50424,0,0,1,23.5,27H8.5A3.50424,3.50424,0,0,1,5,23.5V8.5A3.50424,3.50424,0,0,1,8.5,5h4.92755l3,3H8.5a.50641.50641,0,0,0-.5.5v15a.50641.50641,0,0,0,.5.5h15a.50641.50641,0,0,0,.5-.5ZM19.81952,8.56372,12.8844,17.75a.49989.49989,0,0,0,.04547.65479l.66534.66528a.49983.49983,0,0,0,.65479.04553l9.18628-6.93518,2.12579,2.12585a.5.5,0,0,0,.84741-.27526l1.48273-9.35108a.50006.50006,0,0,0-.57214-.57214L17.969,5.59058a.5.5,0,0,0-.27526.84741Z\"></path>\n",
       "    </svg></a></td><td class=\"a-text-right mojo-field-type-boolean hidden\">false</td></tr><tr><td class=\"a-text-right mojo-header-column mojo-truncate mojo-field-type-rank mojo-sort-column\">215</td><td class=\"a-text-left mojo-field-type-release mojo-cell-wide\"><a class=\"a-link-normal\" href=\"/release/rl2948170241/?ref_=bo_yld_table_215\">Human Nature</a></td><td class=\"a-text-left mojo-field-type-genre hidden\">-</td><td class=\"a-text-right mojo-field-type-money hidden\">-</td><td class=\"a-text-right mojo-field-type-duration hidden\">-</td><td class=\"a-text-right mojo-field-type-money mojo-estimatable\">$5,487</td><td class=\"a-text-right mojo-field-type-positive_integer\">2</td><td class=\"a-text-right mojo-field-type-money mojo-estimatable\">$5,487</td><td class=\"a-text-left mojo-field-type-date a-nowrap\">Mar 13</td><td class=\"a-text-left mojo-field-type-studio\"><a class=\"a-link-normal\" href=\"https://pro.imdb.com/company/co0662464/boxoffice/?view=releases&amp;ref_=mojo_yld_table_215&amp;rf=mojo_yld_table_215\" rel=\"noopener\" target=\"_blank\">Greenwich Entertainment<svg class=\"mojo-new-window-svg\" viewBox=\"0 0 32 32\" xmlns=\"http://www.w3.org/2000/svg\">\n",
       "        <path d=\"M24,15.57251l3,3V23.5A3.50424,3.50424,0,0,1,23.5,27H8.5A3.50424,3.50424,0,0,1,5,23.5V8.5A3.50424,3.50424,0,0,1,8.5,5h4.92755l3,3H8.5a.50641.50641,0,0,0-.5.5v15a.50641.50641,0,0,0,.5.5h15a.50641.50641,0,0,0,.5-.5ZM19.81952,8.56372,12.8844,17.75a.49989.49989,0,0,0,.04547.65479l.66534.66528a.49983.49983,0,0,0,.65479.04553l9.18628-6.93518,2.12579,2.12585a.5.5,0,0,0,.84741-.27526l1.48273-9.35108a.50006.50006,0,0,0-.57214-.57214L17.969,5.59058a.5.5,0,0,0-.27526.84741Z\"></path>\n",
       "    </svg></a></td><td class=\"a-text-right mojo-field-type-boolean hidden\">false</td></tr><tr><td class=\"a-text-right mojo-header-column mojo-truncate mojo-field-type-rank mojo-sort-column\">216</td><td class=\"a-text-left mojo-field-type-release mojo-cell-wide\"><a class=\"a-link-normal\" href=\"/release/rl2148238849/?ref_=bo_yld_table_216\">Matthias &amp; Maxime</a></td><td class=\"a-text-left mojo-field-type-genre hidden\">-</td><td class=\"a-text-right mojo-field-type-money hidden\">-</td><td class=\"a-text-right mojo-field-type-duration hidden\">-</td><td class=\"a-text-right mojo-field-type-money mojo-estimatable\">$5,376</td><td class=\"a-text-right mojo-field-type-positive_integer\">53</td><td class=\"a-text-right mojo-field-type-money mojo-estimatable\">$374,739</td><td class=\"a-text-left mojo-field-type-date a-nowrap\">Oct 9</td><td class=\"a-text-left mojo-field-type-studio\"><a class=\"a-link-normal\" href=\"https://pro.imdb.com/company/co0051618/boxoffice/?view=releases&amp;ref_=mojo_yld_table_216&amp;rf=mojo_yld_table_216\" rel=\"noopener\" target=\"_blank\">Entertainment One<svg class=\"mojo-new-window-svg\" viewBox=\"0 0 32 32\" xmlns=\"http://www.w3.org/2000/svg\">\n",
       "        <path d=\"M24,15.57251l3,3V23.5A3.50424,3.50424,0,0,1,23.5,27H8.5A3.50424,3.50424,0,0,1,5,23.5V8.5A3.50424,3.50424,0,0,1,8.5,5h4.92755l3,3H8.5a.50641.50641,0,0,0-.5.5v15a.50641.50641,0,0,0,.5.5h15a.50641.50641,0,0,0,.5-.5ZM19.81952,8.56372,12.8844,17.75a.49989.49989,0,0,0,.04547.65479l.66534.66528a.49983.49983,0,0,0,.65479.04553l9.18628-6.93518,2.12579,2.12585a.5.5,0,0,0,.84741-.27526l1.48273-9.35108a.50006.50006,0,0,0-.57214-.57214L17.969,5.59058a.5.5,0,0,0-.27526.84741Z\"></path>\n",
       "    </svg></a></td><td class=\"a-text-right mojo-field-type-boolean hidden\">false</td></tr><tr><td class=\"a-text-right mojo-header-column mojo-truncate mojo-field-type-rank mojo-sort-column\">217</td><td class=\"a-text-left mojo-field-type-release mojo-cell-wide\"><a class=\"a-link-normal\" href=\"/release/rl3684729345/?ref_=bo_yld_table_217\">Que Leones</a></td><td class=\"a-text-left mojo-field-type-genre hidden\">-</td><td class=\"a-text-right mojo-field-type-money hidden\">-</td><td class=\"a-text-right mojo-field-type-duration hidden\">-</td><td class=\"a-text-right mojo-field-type-money mojo-estimatable\">$5,371</td><td class=\"a-text-right mojo-field-type-positive_integer\">3</td><td class=\"a-text-right mojo-field-type-money mojo-estimatable\">$822,828</td><td class=\"a-text-left mojo-field-type-date a-nowrap\">Dec 5</td><td class=\"a-text-left mojo-field-type-studio\"><a class=\"a-link-normal\" href=\"https://pro.imdb.com/company/co0585281/boxoffice/?view=releases&amp;ref_=mojo_yld_table_217&amp;rf=mojo_yld_table_217\" rel=\"noopener\" target=\"_blank\">Spanglish Movies<svg class=\"mojo-new-window-svg\" viewBox=\"0 0 32 32\" xmlns=\"http://www.w3.org/2000/svg\">\n",
       "        <path d=\"M24,15.57251l3,3V23.5A3.50424,3.50424,0,0,1,23.5,27H8.5A3.50424,3.50424,0,0,1,5,23.5V8.5A3.50424,3.50424,0,0,1,8.5,5h4.92755l3,3H8.5a.50641.50641,0,0,0-.5.5v15a.50641.50641,0,0,0,.5.5h15a.50641.50641,0,0,0,.5-.5ZM19.81952,8.56372,12.8844,17.75a.49989.49989,0,0,0,.04547.65479l.66534.66528a.49983.49983,0,0,0,.65479.04553l9.18628-6.93518,2.12579,2.12585a.5.5,0,0,0,.84741-.27526l1.48273-9.35108a.50006.50006,0,0,0-.57214-.57214L17.969,5.59058a.5.5,0,0,0-.27526.84741Z\"></path>\n",
       "    </svg></a></td><td class=\"a-text-right mojo-field-type-boolean hidden\">false</td></tr><tr><td class=\"a-text-right mojo-header-column mojo-truncate mojo-field-type-rank mojo-sort-column\">218</td><td class=\"a-text-left mojo-field-type-release mojo-cell-wide\"><a class=\"a-link-normal\" href=\"/release/rl1571521025/?ref_=bo_yld_table_218\">The Disappearance of My Mother</a></td><td class=\"a-text-left mojo-field-type-genre hidden\">-</td><td class=\"a-text-right mojo-field-type-money hidden\">-</td><td class=\"a-text-right mojo-field-type-duration hidden\">-</td><td class=\"a-text-right mojo-field-type-money mojo-estimatable\">$5,251</td><td class=\"a-text-right mojo-field-type-positive_integer\">3</td><td class=\"a-text-right mojo-field-type-money mojo-estimatable\">$24,951</td><td class=\"a-text-left mojo-field-type-date a-nowrap\">Dec 6</td><td class=\"a-text-left mojo-field-type-studio\"><a class=\"a-link-normal\" href=\"https://pro.imdb.com/company/co0291948/boxoffice/?view=releases&amp;ref_=mojo_yld_table_218&amp;rf=mojo_yld_table_218\" rel=\"noopener\" target=\"_blank\">Kino Lorber<svg class=\"mojo-new-window-svg\" viewBox=\"0 0 32 32\" xmlns=\"http://www.w3.org/2000/svg\">\n",
       "        <path d=\"M24,15.57251l3,3V23.5A3.50424,3.50424,0,0,1,23.5,27H8.5A3.50424,3.50424,0,0,1,5,23.5V8.5A3.50424,3.50424,0,0,1,8.5,5h4.92755l3,3H8.5a.50641.50641,0,0,0-.5.5v15a.50641.50641,0,0,0,.5.5h15a.50641.50641,0,0,0,.5-.5ZM19.81952,8.56372,12.8844,17.75a.49989.49989,0,0,0,.04547.65479l.66534.66528a.49983.49983,0,0,0,.65479.04553l9.18628-6.93518,2.12579,2.12585a.5.5,0,0,0,.84741-.27526l1.48273-9.35108a.50006.50006,0,0,0-.57214-.57214L17.969,5.59058a.5.5,0,0,0-.27526.84741Z\"></path>\n",
       "    </svg></a></td><td class=\"a-text-right mojo-field-type-boolean hidden\">false</td></tr><tr><td class=\"a-text-right mojo-header-column mojo-truncate mojo-field-type-rank mojo-sort-column\">219</td><td class=\"a-text-left mojo-field-type-release mojo-cell-wide\"><a class=\"a-link-normal\" href=\"/release/rl3399975425/?ref_=bo_yld_table_219\">Sympathy for the Devil</a></td><td class=\"a-text-left mojo-field-type-genre hidden\">-</td><td class=\"a-text-right mojo-field-type-money hidden\">-</td><td class=\"a-text-right mojo-field-type-duration hidden\">-</td><td class=\"a-text-right mojo-field-type-money mojo-estimatable\">$5,223</td><td class=\"a-text-right mojo-field-type-positive_integer\">8</td><td class=\"a-text-right mojo-field-type-money mojo-estimatable\">$51,150</td><td class=\"a-text-left mojo-field-type-date a-nowrap\">Nov 29</td><td class=\"a-text-left mojo-field-type-studio\">-</td><td class=\"a-text-right mojo-field-type-boolean hidden\">false</td></tr><tr><td class=\"a-text-right mojo-header-column mojo-truncate mojo-field-type-rank mojo-sort-column\">220</td><td class=\"a-text-left mojo-field-type-release mojo-cell-wide\"><a class=\"a-link-normal\" href=\"/release/rl78217729/?ref_=bo_yld_table_220\">Tremors</a></td><td class=\"a-text-left mojo-field-type-genre hidden\">-</td><td class=\"a-text-right mojo-field-type-money hidden\">-</td><td class=\"a-text-right mojo-field-type-duration hidden\">-</td><td class=\"a-text-right mojo-field-type-money mojo-estimatable\">$5,047</td><td class=\"a-text-right mojo-field-type-positive_integer\">6</td><td class=\"a-text-right mojo-field-type-money mojo-estimatable\">$23,911</td><td class=\"a-text-left mojo-field-type-date a-nowrap\">Nov 29</td><td class=\"a-text-left mojo-field-type-studio\"><a class=\"a-link-normal\" href=\"https://pro.imdb.com/company/co0087326/boxoffice/?view=releases&amp;ref_=mojo_yld_table_220&amp;rf=mojo_yld_table_220\" rel=\"noopener\" target=\"_blank\">Film Movement<svg class=\"mojo-new-window-svg\" viewBox=\"0 0 32 32\" xmlns=\"http://www.w3.org/2000/svg\">\n",
       "        <path d=\"M24,15.57251l3,3V23.5A3.50424,3.50424,0,0,1,23.5,27H8.5A3.50424,3.50424,0,0,1,5,23.5V8.5A3.50424,3.50424,0,0,1,8.5,5h4.92755l3,3H8.5a.50641.50641,0,0,0-.5.5v15a.50641.50641,0,0,0,.5.5h15a.50641.50641,0,0,0,.5-.5ZM19.81952,8.56372,12.8844,17.75a.49989.49989,0,0,0,.04547.65479l.66534.66528a.49983.49983,0,0,0,.65479.04553l9.18628-6.93518,2.12579,2.12585a.5.5,0,0,0,.84741-.27526l1.48273-9.35108a.50006.50006,0,0,0-.57214-.57214L17.969,5.59058a.5.5,0,0,0-.27526.84741Z\"></path>\n",
       "    </svg></a></td><td class=\"a-text-right mojo-field-type-boolean hidden\">false</td></tr><tr><td class=\"a-text-right mojo-header-column mojo-truncate mojo-field-type-rank mojo-sort-column\">221</td><td class=\"a-text-left mojo-field-type-release mojo-cell-wide\"><a class=\"a-link-normal\" href=\"/release/rl3518005761/?ref_=bo_yld_table_221\">Blood Widow</a></td><td class=\"a-text-left mojo-field-type-genre hidden\">-</td><td class=\"a-text-right mojo-field-type-money hidden\">-</td><td class=\"a-text-right mojo-field-type-duration hidden\">-</td><td class=\"a-text-right mojo-field-type-money mojo-estimatable\">$5,035</td><td class=\"a-text-right mojo-field-type-positive_integer\">2</td><td class=\"a-text-right mojo-field-type-money mojo-estimatable\">$6,047</td><td class=\"a-text-left mojo-field-type-date a-nowrap\">Aug 4</td><td class=\"a-text-left mojo-field-type-studio\"><a class=\"a-link-normal\" href=\"https://pro.imdb.com/company/co0034057/boxoffice/?view=releases&amp;ref_=mojo_yld_table_221&amp;rf=mojo_yld_table_221\" rel=\"noopener\" target=\"_blank\">Indican Pictures<svg class=\"mojo-new-window-svg\" viewBox=\"0 0 32 32\" xmlns=\"http://www.w3.org/2000/svg\">\n",
       "        <path d=\"M24,15.57251l3,3V23.5A3.50424,3.50424,0,0,1,23.5,27H8.5A3.50424,3.50424,0,0,1,5,23.5V8.5A3.50424,3.50424,0,0,1,8.5,5h4.92755l3,3H8.5a.50641.50641,0,0,0-.5.5v15a.50641.50641,0,0,0,.5.5h15a.50641.50641,0,0,0,.5-.5ZM19.81952,8.56372,12.8844,17.75a.49989.49989,0,0,0,.04547.65479l.66534.66528a.49983.49983,0,0,0,.65479.04553l9.18628-6.93518,2.12579,2.12585a.5.5,0,0,0,.84741-.27526l1.48273-9.35108a.50006.50006,0,0,0-.57214-.57214L17.969,5.59058a.5.5,0,0,0-.27526.84741Z\"></path>\n",
       "    </svg></a></td><td class=\"a-text-right mojo-field-type-boolean hidden\">false</td></tr><tr><td class=\"a-text-right mojo-header-column mojo-truncate mojo-field-type-rank mojo-sort-column\">222</td><td class=\"a-text-left mojo-field-type-release mojo-cell-wide\"><a class=\"a-link-normal\" href=\"/release/rl3400565249/?ref_=bo_yld_table_222\">Just One More Kiss</a></td><td class=\"a-text-left mojo-field-type-genre hidden\">-</td><td class=\"a-text-right mojo-field-type-money hidden\">-</td><td class=\"a-text-right mojo-field-type-duration hidden\">-</td><td class=\"a-text-right mojo-field-type-money mojo-estimatable\">$4,900</td><td class=\"a-text-right mojo-field-type-positive_integer\">2</td><td class=\"a-text-right mojo-field-type-money mojo-estimatable\">$9,130</td><td class=\"a-text-left mojo-field-type-date a-nowrap\">Feb 21</td><td class=\"a-text-left mojo-field-type-studio\"><a class=\"a-link-normal\" href=\"https://pro.imdb.com/company/co0034057/boxoffice/?view=releases&amp;ref_=mojo_yld_table_222&amp;rf=mojo_yld_table_222\" rel=\"noopener\" target=\"_blank\">Indican Pictures<svg class=\"mojo-new-window-svg\" viewBox=\"0 0 32 32\" xmlns=\"http://www.w3.org/2000/svg\">\n",
       "        <path d=\"M24,15.57251l3,3V23.5A3.50424,3.50424,0,0,1,23.5,27H8.5A3.50424,3.50424,0,0,1,5,23.5V8.5A3.50424,3.50424,0,0,1,8.5,5h4.92755l3,3H8.5a.50641.50641,0,0,0-.5.5v15a.50641.50641,0,0,0,.5.5h15a.50641.50641,0,0,0,.5-.5ZM19.81952,8.56372,12.8844,17.75a.49989.49989,0,0,0,.04547.65479l.66534.66528a.49983.49983,0,0,0,.65479.04553l9.18628-6.93518,2.12579,2.12585a.5.5,0,0,0,.84741-.27526l1.48273-9.35108a.50006.50006,0,0,0-.57214-.57214L17.969,5.59058a.5.5,0,0,0-.27526.84741Z\"></path>\n",
       "    </svg></a></td><td class=\"a-text-right mojo-field-type-boolean hidden\">false</td></tr><tr><td class=\"a-text-right mojo-header-column mojo-truncate mojo-field-type-rank mojo-sort-column\">223</td><td class=\"a-text-left mojo-field-type-release mojo-cell-wide\"><a class=\"a-link-normal\" href=\"/release/rl3943204353/?ref_=bo_yld_table_223\">Give Me Liberty</a></td><td class=\"a-text-left mojo-field-type-genre hidden\">-</td><td class=\"a-text-right mojo-field-type-money hidden\">-</td><td class=\"a-text-right mojo-field-type-duration hidden\">-</td><td class=\"a-text-right mojo-field-type-money mojo-estimatable\">$4,603</td><td class=\"a-text-right mojo-field-type-positive_integer\">18</td><td class=\"a-text-right mojo-field-type-money mojo-estimatable\">$242,734</td><td class=\"a-text-left mojo-field-type-date a-nowrap\">Aug 23</td><td class=\"a-text-left mojo-field-type-studio\"><a class=\"a-link-normal\" href=\"https://pro.imdb.com/company/co0235025/boxoffice/?view=releases&amp;ref_=mojo_yld_table_223&amp;rf=mojo_yld_table_223\" rel=\"noopener\" target=\"_blank\">Music Box Films<svg class=\"mojo-new-window-svg\" viewBox=\"0 0 32 32\" xmlns=\"http://www.w3.org/2000/svg\">\n",
       "        <path d=\"M24,15.57251l3,3V23.5A3.50424,3.50424,0,0,1,23.5,27H8.5A3.50424,3.50424,0,0,1,5,23.5V8.5A3.50424,3.50424,0,0,1,8.5,5h4.92755l3,3H8.5a.50641.50641,0,0,0-.5.5v15a.50641.50641,0,0,0,.5.5h15a.50641.50641,0,0,0,.5-.5ZM19.81952,8.56372,12.8844,17.75a.49989.49989,0,0,0,.04547.65479l.66534.66528a.49983.49983,0,0,0,.65479.04553l9.18628-6.93518,2.12579,2.12585a.5.5,0,0,0,.84741-.27526l1.48273-9.35108a.50006.50006,0,0,0-.57214-.57214L17.969,5.59058a.5.5,0,0,0-.27526.84741Z\"></path>\n",
       "    </svg></a></td><td class=\"a-text-right mojo-field-type-boolean hidden\">false</td></tr><tr><td class=\"a-text-right mojo-header-column mojo-truncate mojo-field-type-rank mojo-sort-column\">224</td><td class=\"a-text-left mojo-field-type-release mojo-cell-wide\"><a class=\"a-link-normal\" href=\"/release/rl666796545/?ref_=bo_yld_table_224\">Babyteeth</a></td><td class=\"a-text-left mojo-field-type-genre hidden\">-</td><td class=\"a-text-right mojo-field-type-money hidden\">-</td><td class=\"a-text-right mojo-field-type-duration hidden\">-</td><td class=\"a-text-right mojo-field-type-money mojo-estimatable\">$4,507</td><td class=\"a-text-right mojo-field-type-positive_integer\">12</td><td class=\"a-text-right mojo-field-type-money mojo-estimatable\">$4,507</td><td class=\"a-text-left mojo-field-type-date a-nowrap\">Jun 19</td><td class=\"a-text-left mojo-field-type-studio\"><a class=\"a-link-normal\" href=\"https://pro.imdb.com/company/co0015762/boxoffice/?view=releases&amp;ref_=mojo_yld_table_224&amp;rf=mojo_yld_table_224\" rel=\"noopener\" target=\"_blank\">IFC Films<svg class=\"mojo-new-window-svg\" viewBox=\"0 0 32 32\" xmlns=\"http://www.w3.org/2000/svg\">\n",
       "        <path d=\"M24,15.57251l3,3V23.5A3.50424,3.50424,0,0,1,23.5,27H8.5A3.50424,3.50424,0,0,1,5,23.5V8.5A3.50424,3.50424,0,0,1,8.5,5h4.92755l3,3H8.5a.50641.50641,0,0,0-.5.5v15a.50641.50641,0,0,0,.5.5h15a.50641.50641,0,0,0,.5-.5ZM19.81952,8.56372,12.8844,17.75a.49989.49989,0,0,0,.04547.65479l.66534.66528a.49983.49983,0,0,0,.65479.04553l9.18628-6.93518,2.12579,2.12585a.5.5,0,0,0,.84741-.27526l1.48273-9.35108a.50006.50006,0,0,0-.57214-.57214L17.969,5.59058a.5.5,0,0,0-.27526.84741Z\"></path>\n",
       "    </svg></a></td><td class=\"a-text-right mojo-field-type-boolean hidden\">false</td></tr><tr><td class=\"a-text-right mojo-header-column mojo-truncate mojo-field-type-rank mojo-sort-column\">225</td><td class=\"a-text-left mojo-field-type-release mojo-cell-wide\"><a class=\"a-link-normal\" href=\"/release/rl3226240513/?ref_=bo_yld_table_225\">Deep Sea</a></td><td class=\"a-text-left mojo-field-type-genre hidden\">-</td><td class=\"a-text-right mojo-field-type-money hidden\">-</td><td class=\"a-text-right mojo-field-type-duration hidden\">-</td><td class=\"a-text-right mojo-field-type-money mojo-estimatable\">$4,205</td><td class=\"a-text-right mojo-field-type-positive_integer\">47</td><td class=\"a-text-right mojo-field-type-money mojo-estimatable\">$46,412,757</td><td class=\"a-text-left mojo-field-type-date a-nowrap\">Mar 3</td><td class=\"a-text-left mojo-field-type-studio\"><a class=\"a-link-normal\" href=\"https://pro.imdb.com/company/co0002663/boxoffice/?view=releases&amp;ref_=mojo_yld_table_225&amp;rf=mojo_yld_table_225\" rel=\"noopener\" target=\"_blank\">Warner Bros.<svg class=\"mojo-new-window-svg\" viewBox=\"0 0 32 32\" xmlns=\"http://www.w3.org/2000/svg\">\n",
       "        <path d=\"M24,15.57251l3,3V23.5A3.50424,3.50424,0,0,1,23.5,27H8.5A3.50424,3.50424,0,0,1,5,23.5V8.5A3.50424,3.50424,0,0,1,8.5,5h4.92755l3,3H8.5a.50641.50641,0,0,0-.5.5v15a.50641.50641,0,0,0,.5.5h15a.50641.50641,0,0,0,.5-.5ZM19.81952,8.56372,12.8844,17.75a.49989.49989,0,0,0,.04547.65479l.66534.66528a.49983.49983,0,0,0,.65479.04553l9.18628-6.93518,2.12579,2.12585a.5.5,0,0,0,.84741-.27526l1.48273-9.35108a.50006.50006,0,0,0-.57214-.57214L17.969,5.59058a.5.5,0,0,0-.27526.84741Z\"></path>\n",
       "    </svg></a></td><td class=\"a-text-right mojo-field-type-boolean hidden\">false</td></tr><tr><td class=\"a-text-right mojo-header-column mojo-truncate mojo-field-type-rank mojo-sort-column\">226</td><td class=\"a-text-left mojo-field-type-release mojo-cell-wide\"><a class=\"a-link-normal\" href=\"/release/rl3618669057/?ref_=bo_yld_table_226\">Lost in America</a></td><td class=\"a-text-left mojo-field-type-genre hidden\">-</td><td class=\"a-text-right mojo-field-type-money hidden\">-</td><td class=\"a-text-right mojo-field-type-duration hidden\">-</td><td class=\"a-text-right mojo-field-type-money mojo-estimatable\">$4,075</td><td class=\"a-text-right mojo-field-type-positive_integer\">2</td><td class=\"a-text-right mojo-field-type-money mojo-estimatable\">$11,301</td><td class=\"a-text-left mojo-field-type-date a-nowrap\">Feb 28</td><td class=\"a-text-left mojo-field-type-studio\"><a class=\"a-link-normal\" href=\"https://pro.imdb.com/company/co0034057/boxoffice/?view=releases&amp;ref_=mojo_yld_table_226&amp;rf=mojo_yld_table_226\" rel=\"noopener\" target=\"_blank\">Indican Pictures<svg class=\"mojo-new-window-svg\" viewBox=\"0 0 32 32\" xmlns=\"http://www.w3.org/2000/svg\">\n",
       "        <path d=\"M24,15.57251l3,3V23.5A3.50424,3.50424,0,0,1,23.5,27H8.5A3.50424,3.50424,0,0,1,5,23.5V8.5A3.50424,3.50424,0,0,1,8.5,5h4.92755l3,3H8.5a.50641.50641,0,0,0-.5.5v15a.50641.50641,0,0,0,.5.5h15a.50641.50641,0,0,0,.5-.5ZM19.81952,8.56372,12.8844,17.75a.49989.49989,0,0,0,.04547.65479l.66534.66528a.49983.49983,0,0,0,.65479.04553l9.18628-6.93518,2.12579,2.12585a.5.5,0,0,0,.84741-.27526l1.48273-9.35108a.50006.50006,0,0,0-.57214-.57214L17.969,5.59058a.5.5,0,0,0-.27526.84741Z\"></path>\n",
       "    </svg></a></td><td class=\"a-text-right mojo-field-type-boolean hidden\">false</td></tr><tr><td class=\"a-text-right mojo-header-column mojo-truncate mojo-field-type-rank mojo-sort-column\">227</td><td class=\"a-text-left mojo-field-type-release mojo-cell-wide\"><a class=\"a-link-normal\" href=\"/release/rl4060841473/?ref_=bo_yld_table_227\">Stuffed</a></td><td class=\"a-text-left mojo-field-type-genre hidden\">-</td><td class=\"a-text-right mojo-field-type-money hidden\">-</td><td class=\"a-text-right mojo-field-type-duration hidden\">-</td><td class=\"a-text-right mojo-field-type-money mojo-estimatable\">$3,939</td><td class=\"a-text-right mojo-field-type-positive_integer\">3</td><td class=\"a-text-right mojo-field-type-money mojo-estimatable\">$15,532</td><td class=\"a-text-left mojo-field-type-date a-nowrap\">Oct 16</td><td class=\"a-text-left mojo-field-type-studio\"><a class=\"a-link-normal\" href=\"https://pro.imdb.com/company/co0235025/boxoffice/?view=releases&amp;ref_=mojo_yld_table_227&amp;rf=mojo_yld_table_227\" rel=\"noopener\" target=\"_blank\">Music Box Films<svg class=\"mojo-new-window-svg\" viewBox=\"0 0 32 32\" xmlns=\"http://www.w3.org/2000/svg\">\n",
       "        <path d=\"M24,15.57251l3,3V23.5A3.50424,3.50424,0,0,1,23.5,27H8.5A3.50424,3.50424,0,0,1,5,23.5V8.5A3.50424,3.50424,0,0,1,8.5,5h4.92755l3,3H8.5a.50641.50641,0,0,0-.5.5v15a.50641.50641,0,0,0,.5.5h15a.50641.50641,0,0,0,.5-.5ZM19.81952,8.56372,12.8844,17.75a.49989.49989,0,0,0,.04547.65479l.66534.66528a.49983.49983,0,0,0,.65479.04553l9.18628-6.93518,2.12579,2.12585a.5.5,0,0,0,.84741-.27526l1.48273-9.35108a.50006.50006,0,0,0-.57214-.57214L17.969,5.59058a.5.5,0,0,0-.27526.84741Z\"></path>\n",
       "    </svg></a></td><td class=\"a-text-right mojo-field-type-boolean hidden\">false</td></tr><tr><td class=\"a-text-right mojo-header-column mojo-truncate mojo-field-type-rank mojo-sort-column\">228</td><td class=\"a-text-left mojo-field-type-release mojo-cell-wide\"><a class=\"a-link-normal\" href=\"/release/rl1779009025/?ref_=bo_yld_table_228\">Maiden</a></td><td class=\"a-text-left mojo-field-type-genre hidden\">-</td><td class=\"a-text-right mojo-field-type-money hidden\">-</td><td class=\"a-text-right mojo-field-type-duration hidden\">-</td><td class=\"a-text-right mojo-field-type-money mojo-estimatable\">$3,817</td><td class=\"a-text-right mojo-field-type-positive_integer\">180</td><td class=\"a-text-right mojo-field-type-money mojo-estimatable\">$3,168,978</td><td class=\"a-text-left mojo-field-type-date a-nowrap\">Jun 28</td><td class=\"a-text-left mojo-field-type-studio\"><a class=\"a-link-normal\" href=\"https://pro.imdb.com/company/co0014453/boxoffice/?view=releases&amp;ref_=mojo_yld_table_228&amp;rf=mojo_yld_table_228\" rel=\"noopener\" target=\"_blank\">Sony Pictures Classics<svg class=\"mojo-new-window-svg\" viewBox=\"0 0 32 32\" xmlns=\"http://www.w3.org/2000/svg\">\n",
       "        <path d=\"M24,15.57251l3,3V23.5A3.50424,3.50424,0,0,1,23.5,27H8.5A3.50424,3.50424,0,0,1,5,23.5V8.5A3.50424,3.50424,0,0,1,8.5,5h4.92755l3,3H8.5a.50641.50641,0,0,0-.5.5v15a.50641.50641,0,0,0,.5.5h15a.50641.50641,0,0,0,.5-.5ZM19.81952,8.56372,12.8844,17.75a.49989.49989,0,0,0,.04547.65479l.66534.66528a.49983.49983,0,0,0,.65479.04553l9.18628-6.93518,2.12579,2.12585a.5.5,0,0,0,.84741-.27526l1.48273-9.35108a.50006.50006,0,0,0-.57214-.57214L17.969,5.59058a.5.5,0,0,0-.27526.84741Z\"></path>\n",
       "    </svg></a></td><td class=\"a-text-right mojo-field-type-boolean hidden\">false</td></tr><tr><td class=\"a-text-right mojo-header-column mojo-truncate mojo-field-type-rank mojo-sort-column\">229</td><td class=\"a-text-left mojo-field-type-release mojo-cell-wide\"><a class=\"a-link-normal\" href=\"/release/rl3020523009/?ref_=bo_yld_table_229\">Aquarela</a></td><td class=\"a-text-left mojo-field-type-genre hidden\">-</td><td class=\"a-text-right mojo-field-type-money hidden\">-</td><td class=\"a-text-right mojo-field-type-duration hidden\">-</td><td class=\"a-text-right mojo-field-type-money mojo-estimatable\">$3,706</td><td class=\"a-text-right mojo-field-type-positive_integer\">69</td><td class=\"a-text-right mojo-field-type-money mojo-estimatable\">$307,346</td><td class=\"a-text-left mojo-field-type-date a-nowrap\">Aug 16</td><td class=\"a-text-left mojo-field-type-studio\"><a class=\"a-link-normal\" href=\"https://pro.imdb.com/company/co0014453/boxoffice/?view=releases&amp;ref_=mojo_yld_table_229&amp;rf=mojo_yld_table_229\" rel=\"noopener\" target=\"_blank\">Sony Pictures Classics<svg class=\"mojo-new-window-svg\" viewBox=\"0 0 32 32\" xmlns=\"http://www.w3.org/2000/svg\">\n",
       "        <path d=\"M24,15.57251l3,3V23.5A3.50424,3.50424,0,0,1,23.5,27H8.5A3.50424,3.50424,0,0,1,5,23.5V8.5A3.50424,3.50424,0,0,1,8.5,5h4.92755l3,3H8.5a.50641.50641,0,0,0-.5.5v15a.50641.50641,0,0,0,.5.5h15a.50641.50641,0,0,0,.5-.5ZM19.81952,8.56372,12.8844,17.75a.49989.49989,0,0,0,.04547.65479l.66534.66528a.49983.49983,0,0,0,.65479.04553l9.18628-6.93518,2.12579,2.12585a.5.5,0,0,0,.84741-.27526l1.48273-9.35108a.50006.50006,0,0,0-.57214-.57214L17.969,5.59058a.5.5,0,0,0-.27526.84741Z\"></path>\n",
       "    </svg></a></td><td class=\"a-text-right mojo-field-type-boolean hidden\">false</td></tr><tr><td class=\"a-text-right mojo-header-column mojo-truncate mojo-field-type-rank mojo-sort-column\">230</td><td class=\"a-text-left mojo-field-type-release mojo-cell-wide\"><a class=\"a-link-normal\" href=\"/release/rl2601027073/?ref_=bo_yld_table_230\">A Bigger Splash</a><div class=\"a-section a-spacing-none\"><span class=\"a-size-small a-color-secondary\">2019 Re-release</span></div></td><td class=\"a-text-left mojo-field-type-genre hidden\">-</td><td class=\"a-text-right mojo-field-type-money hidden\">-</td><td class=\"a-text-right mojo-field-type-duration hidden\">-</td><td class=\"a-text-right mojo-field-type-money mojo-estimatable\">$3,610</td><td class=\"a-text-right mojo-field-type-positive_integer\">11</td><td class=\"a-text-right mojo-field-type-money mojo-estimatable\">$95,826</td><td class=\"a-text-left mojo-field-type-date a-nowrap\">Jun 21</td><td class=\"a-text-left mojo-field-type-studio\"><a class=\"a-link-normal\" href=\"https://pro.imdb.com/company/co0730656/boxoffice/?view=releases&amp;ref_=mojo_yld_table_230&amp;rf=mojo_yld_table_230\" rel=\"noopener\" target=\"_blank\">Metrograph Pictures<svg class=\"mojo-new-window-svg\" viewBox=\"0 0 32 32\" xmlns=\"http://www.w3.org/2000/svg\">\n",
       "        <path d=\"M24,15.57251l3,3V23.5A3.50424,3.50424,0,0,1,23.5,27H8.5A3.50424,3.50424,0,0,1,5,23.5V8.5A3.50424,3.50424,0,0,1,8.5,5h4.92755l3,3H8.5a.50641.50641,0,0,0-.5.5v15a.50641.50641,0,0,0,.5.5h15a.50641.50641,0,0,0,.5-.5ZM19.81952,8.56372,12.8844,17.75a.49989.49989,0,0,0,.04547.65479l.66534.66528a.49983.49983,0,0,0,.65479.04553l9.18628-6.93518,2.12579,2.12585a.5.5,0,0,0,.84741-.27526l1.48273-9.35108a.50006.50006,0,0,0-.57214-.57214L17.969,5.59058a.5.5,0,0,0-.27526.84741Z\"></path>\n",
       "    </svg></a></td><td class=\"a-text-right mojo-field-type-boolean hidden\">false</td></tr><tr><td class=\"a-text-right mojo-header-column mojo-truncate mojo-field-type-rank mojo-sort-column\">231</td><td class=\"a-text-left mojo-field-type-release mojo-cell-wide\"><a class=\"a-link-normal\" href=\"/release/rl2326430209/?ref_=bo_yld_table_231\">The Roads Not Taken</a></td><td class=\"a-text-left mojo-field-type-genre hidden\">-</td><td class=\"a-text-right mojo-field-type-money hidden\">-</td><td class=\"a-text-right mojo-field-type-duration hidden\">-</td><td class=\"a-text-right mojo-field-type-money mojo-estimatable\">$3,518</td><td class=\"a-text-right mojo-field-type-positive_integer\">3</td><td class=\"a-text-right mojo-field-type-money mojo-estimatable\">$3,518</td><td class=\"a-text-left mojo-field-type-date a-nowrap\">Mar 13</td><td class=\"a-text-left mojo-field-type-studio\"><a class=\"a-link-normal\" href=\"https://pro.imdb.com/company/co0494731/boxoffice/?view=releases&amp;ref_=mojo_yld_table_231&amp;rf=mojo_yld_table_231\" rel=\"noopener\" target=\"_blank\">Bleecker Street Media<svg class=\"mojo-new-window-svg\" viewBox=\"0 0 32 32\" xmlns=\"http://www.w3.org/2000/svg\">\n",
       "        <path d=\"M24,15.57251l3,3V23.5A3.50424,3.50424,0,0,1,23.5,27H8.5A3.50424,3.50424,0,0,1,5,23.5V8.5A3.50424,3.50424,0,0,1,8.5,5h4.92755l3,3H8.5a.50641.50641,0,0,0-.5.5v15a.50641.50641,0,0,0,.5.5h15a.50641.50641,0,0,0,.5-.5ZM19.81952,8.56372,12.8844,17.75a.49989.49989,0,0,0,.04547.65479l.66534.66528a.49983.49983,0,0,0,.65479.04553l9.18628-6.93518,2.12579,2.12585a.5.5,0,0,0,.84741-.27526l1.48273-9.35108a.50006.50006,0,0,0-.57214-.57214L17.969,5.59058a.5.5,0,0,0-.27526.84741Z\"></path>\n",
       "    </svg></a></td><td class=\"a-text-right mojo-field-type-boolean hidden\">false</td></tr><tr><td class=\"a-text-right mojo-header-column mojo-truncate mojo-field-type-rank mojo-sort-column\">232</td><td class=\"a-text-left mojo-field-type-release mojo-cell-wide\"><a class=\"a-link-normal\" href=\"/release/rl0755201/?ref_=bo_yld_table_232\">Mr. Klein</a><div class=\"a-section a-spacing-none\"><span class=\"a-size-small a-color-secondary\">Re-release</span></div></td><td class=\"a-text-left mojo-field-type-genre hidden\">-</td><td class=\"a-text-right mojo-field-type-money hidden\">-</td><td class=\"a-text-right mojo-field-type-duration hidden\">-</td><td class=\"a-text-right mojo-field-type-money mojo-estimatable\">$3,310</td><td class=\"a-text-right mojo-field-type-positive_integer\">6</td><td class=\"a-text-right mojo-field-type-money mojo-estimatable\">$193,028</td><td class=\"a-text-left mojo-field-type-date a-nowrap\">Sep 6</td><td class=\"a-text-left mojo-field-type-studio\"><a class=\"a-link-normal\" href=\"https://pro.imdb.com/company/co0049592/boxoffice/?view=releases&amp;ref_=mojo_yld_table_232&amp;rf=mojo_yld_table_232\" rel=\"noopener\" target=\"_blank\">Rialto Pictures<svg class=\"mojo-new-window-svg\" viewBox=\"0 0 32 32\" xmlns=\"http://www.w3.org/2000/svg\">\n",
       "        <path d=\"M24,15.57251l3,3V23.5A3.50424,3.50424,0,0,1,23.5,27H8.5A3.50424,3.50424,0,0,1,5,23.5V8.5A3.50424,3.50424,0,0,1,8.5,5h4.92755l3,3H8.5a.50641.50641,0,0,0-.5.5v15a.50641.50641,0,0,0,.5.5h15a.50641.50641,0,0,0,.5-.5ZM19.81952,8.56372,12.8844,17.75a.49989.49989,0,0,0,.04547.65479l.66534.66528a.49983.49983,0,0,0,.65479.04553l9.18628-6.93518,2.12579,2.12585a.5.5,0,0,0,.84741-.27526l1.48273-9.35108a.50006.50006,0,0,0-.57214-.57214L17.969,5.59058a.5.5,0,0,0-.27526.84741Z\"></path>\n",
       "    </svg></a></td><td class=\"a-text-right mojo-field-type-boolean hidden\">false</td></tr><tr><td class=\"a-text-right mojo-header-column mojo-truncate mojo-field-type-rank mojo-sort-column\">233</td><td class=\"a-text-left mojo-field-type-release mojo-cell-wide\"><a class=\"a-link-normal\" href=\"/release/rl1544259073/?ref_=bo_yld_table_233\">Ága</a></td><td class=\"a-text-left mojo-field-type-genre hidden\">-</td><td class=\"a-text-right mojo-field-type-money hidden\">-</td><td class=\"a-text-right mojo-field-type-duration hidden\">-</td><td class=\"a-text-right mojo-field-type-money mojo-estimatable\">$3,091</td><td class=\"a-text-right mojo-field-type-positive_integer\">3</td><td class=\"a-text-right mojo-field-type-money mojo-estimatable\">$35,178</td><td class=\"a-text-left mojo-field-type-date a-nowrap\">Sep 4</td><td class=\"a-text-left mojo-field-type-studio\"><a class=\"a-link-normal\" href=\"https://pro.imdb.com/company/co0351857/boxoffice/?view=releases&amp;ref_=mojo_yld_table_233&amp;rf=mojo_yld_table_233\" rel=\"noopener\" target=\"_blank\">Big World Pictures<svg class=\"mojo-new-window-svg\" viewBox=\"0 0 32 32\" xmlns=\"http://www.w3.org/2000/svg\">\n",
       "        <path d=\"M24,15.57251l3,3V23.5A3.50424,3.50424,0,0,1,23.5,27H8.5A3.50424,3.50424,0,0,1,5,23.5V8.5A3.50424,3.50424,0,0,1,8.5,5h4.92755l3,3H8.5a.50641.50641,0,0,0-.5.5v15a.50641.50641,0,0,0,.5.5h15a.50641.50641,0,0,0,.5-.5ZM19.81952,8.56372,12.8844,17.75a.49989.49989,0,0,0,.04547.65479l.66534.66528a.49983.49983,0,0,0,.65479.04553l9.18628-6.93518,2.12579,2.12585a.5.5,0,0,0,.84741-.27526l1.48273-9.35108a.50006.50006,0,0,0-.57214-.57214L17.969,5.59058a.5.5,0,0,0-.27526.84741Z\"></path>\n",
       "    </svg></a></td><td class=\"a-text-right mojo-field-type-boolean hidden\">false</td></tr><tr><td class=\"a-text-right mojo-header-column mojo-truncate mojo-field-type-rank mojo-sort-column\">234</td><td class=\"a-text-left mojo-field-type-release mojo-cell-wide\"><a class=\"a-link-normal\" href=\"/release/rl2175435265/?ref_=bo_yld_table_234\">The Hottest August</a></td><td class=\"a-text-left mojo-field-type-genre hidden\">-</td><td class=\"a-text-right mojo-field-type-money hidden\">-</td><td class=\"a-text-right mojo-field-type-duration hidden\">-</td><td class=\"a-text-right mojo-field-type-money mojo-estimatable\">$3,034</td><td class=\"a-text-right mojo-field-type-positive_integer\">2</td><td class=\"a-text-right mojo-field-type-money mojo-estimatable\">$9,163</td><td class=\"a-text-left mojo-field-type-date a-nowrap\">Nov 15</td><td class=\"a-text-left mojo-field-type-studio\"><a class=\"a-link-normal\" href=\"https://pro.imdb.com/company/co0575901/boxoffice/?view=releases&amp;ref_=mojo_yld_table_234&amp;rf=mojo_yld_table_234\" rel=\"noopener\" target=\"_blank\">Grasshopper Film<svg class=\"mojo-new-window-svg\" viewBox=\"0 0 32 32\" xmlns=\"http://www.w3.org/2000/svg\">\n",
       "        <path d=\"M24,15.57251l3,3V23.5A3.50424,3.50424,0,0,1,23.5,27H8.5A3.50424,3.50424,0,0,1,5,23.5V8.5A3.50424,3.50424,0,0,1,8.5,5h4.92755l3,3H8.5a.50641.50641,0,0,0-.5.5v15a.50641.50641,0,0,0,.5.5h15a.50641.50641,0,0,0,.5-.5ZM19.81952,8.56372,12.8844,17.75a.49989.49989,0,0,0,.04547.65479l.66534.66528a.49983.49983,0,0,0,.65479.04553l9.18628-6.93518,2.12579,2.12585a.5.5,0,0,0,.84741-.27526l1.48273-9.35108a.50006.50006,0,0,0-.57214-.57214L17.969,5.59058a.5.5,0,0,0-.27526.84741Z\"></path>\n",
       "    </svg></a></td><td class=\"a-text-right mojo-field-type-boolean hidden\">false</td></tr><tr><td class=\"a-text-right mojo-header-column mojo-truncate mojo-field-type-rank mojo-sort-column\">235</td><td class=\"a-text-left mojo-field-type-release mojo-cell-wide\"><a class=\"a-link-normal\" href=\"/release/rl101418497/?ref_=bo_yld_table_235\">Killing Sarai</a></td><td class=\"a-text-left mojo-field-type-genre hidden\">-</td><td class=\"a-text-right mojo-field-type-money hidden\">-</td><td class=\"a-text-right mojo-field-type-duration hidden\">-</td><td class=\"a-text-right mojo-field-type-money mojo-estimatable\">$3,001</td><td class=\"a-text-right mojo-field-type-positive_integer\">160</td><td class=\"a-text-right mojo-field-type-money mojo-estimatable\">$425,332</td><td class=\"a-text-left mojo-field-type-date a-nowrap\">Dec 6</td><td class=\"a-text-left mojo-field-type-studio\"><a class=\"a-link-normal\" href=\"https://pro.imdb.com/company/co0325194/boxoffice/?view=releases&amp;ref_=mojo_yld_table_235&amp;rf=mojo_yld_table_235\" rel=\"noopener\" target=\"_blank\">Pantelion Films<svg class=\"mojo-new-window-svg\" viewBox=\"0 0 32 32\" xmlns=\"http://www.w3.org/2000/svg\">\n",
       "        <path d=\"M24,15.57251l3,3V23.5A3.50424,3.50424,0,0,1,23.5,27H8.5A3.50424,3.50424,0,0,1,5,23.5V8.5A3.50424,3.50424,0,0,1,8.5,5h4.92755l3,3H8.5a.50641.50641,0,0,0-.5.5v15a.50641.50641,0,0,0,.5.5h15a.50641.50641,0,0,0,.5-.5ZM19.81952,8.56372,12.8844,17.75a.49989.49989,0,0,0,.04547.65479l.66534.66528a.49983.49983,0,0,0,.65479.04553l9.18628-6.93518,2.12579,2.12585a.5.5,0,0,0,.84741-.27526l1.48273-9.35108a.50006.50006,0,0,0-.57214-.57214L17.969,5.59058a.5.5,0,0,0-.27526.84741Z\"></path>\n",
       "    </svg></a></td><td class=\"a-text-right mojo-field-type-boolean hidden\">false</td></tr><tr><td class=\"a-text-right mojo-header-column mojo-truncate mojo-field-type-rank mojo-sort-column\">236</td><td class=\"a-text-left mojo-field-type-release mojo-cell-wide\"><a class=\"a-link-normal\" href=\"/release/rl933790209/?ref_=bo_yld_table_236\">Chinese Portrait</a></td><td class=\"a-text-left mojo-field-type-genre hidden\">-</td><td class=\"a-text-right mojo-field-type-money hidden\">-</td><td class=\"a-text-right mojo-field-type-duration hidden\">-</td><td class=\"a-text-right mojo-field-type-money mojo-estimatable\">$2,982</td><td class=\"a-text-right mojo-field-type-positive_integer\">2</td><td class=\"a-text-right mojo-field-type-money mojo-estimatable\">$4,140</td><td class=\"a-text-left mojo-field-type-date a-nowrap\">Dec 13</td><td class=\"a-text-left mojo-field-type-studio\"><a class=\"a-link-normal\" href=\"https://pro.imdb.com/company/co0014382/boxoffice/?view=releases&amp;ref_=mojo_yld_table_236&amp;rf=mojo_yld_table_236\" rel=\"noopener\" target=\"_blank\">The Cinema Guild<svg class=\"mojo-new-window-svg\" viewBox=\"0 0 32 32\" xmlns=\"http://www.w3.org/2000/svg\">\n",
       "        <path d=\"M24,15.57251l3,3V23.5A3.50424,3.50424,0,0,1,23.5,27H8.5A3.50424,3.50424,0,0,1,5,23.5V8.5A3.50424,3.50424,0,0,1,8.5,5h4.92755l3,3H8.5a.50641.50641,0,0,0-.5.5v15a.50641.50641,0,0,0,.5.5h15a.50641.50641,0,0,0,.5-.5ZM19.81952,8.56372,12.8844,17.75a.49989.49989,0,0,0,.04547.65479l.66534.66528a.49983.49983,0,0,0,.65479.04553l9.18628-6.93518,2.12579,2.12585a.5.5,0,0,0,.84741-.27526l1.48273-9.35108a.50006.50006,0,0,0-.57214-.57214L17.969,5.59058a.5.5,0,0,0-.27526.84741Z\"></path>\n",
       "    </svg></a></td><td class=\"a-text-right mojo-field-type-boolean hidden\">false</td></tr><tr><td class=\"a-text-right mojo-header-column mojo-truncate mojo-field-type-rank mojo-sort-column\">237</td><td class=\"a-text-left mojo-field-type-release mojo-cell-wide\"><a class=\"a-link-normal\" href=\"/release/rl3255404033/?ref_=bo_yld_table_237\">Hustlers</a></td><td class=\"a-text-left mojo-field-type-genre hidden\">-</td><td class=\"a-text-right mojo-field-type-money hidden\">-</td><td class=\"a-text-right mojo-field-type-duration hidden\">-</td><td class=\"a-text-right mojo-field-type-money mojo-estimatable\">$2,955</td><td class=\"a-text-right mojo-field-type-positive_integer\">3,525</td><td class=\"a-text-right mojo-field-type-money mojo-estimatable\">$104,963,598</td><td class=\"a-text-left mojo-field-type-date a-nowrap\">Sep 13</td><td class=\"a-text-left mojo-field-type-studio\"><a class=\"a-link-normal\" href=\"https://pro.imdb.com/company/co0249694/boxoffice/?view=releases&amp;ref_=mojo_yld_table_237&amp;rf=mojo_yld_table_237\" rel=\"noopener\" target=\"_blank\">STX Entertainment<svg class=\"mojo-new-window-svg\" viewBox=\"0 0 32 32\" xmlns=\"http://www.w3.org/2000/svg\">\n",
       "        <path d=\"M24,15.57251l3,3V23.5A3.50424,3.50424,0,0,1,23.5,27H8.5A3.50424,3.50424,0,0,1,5,23.5V8.5A3.50424,3.50424,0,0,1,8.5,5h4.92755l3,3H8.5a.50641.50641,0,0,0-.5.5v15a.50641.50641,0,0,0,.5.5h15a.50641.50641,0,0,0,.5-.5ZM19.81952,8.56372,12.8844,17.75a.49989.49989,0,0,0,.04547.65479l.66534.66528a.49983.49983,0,0,0,.65479.04553l9.18628-6.93518,2.12579,2.12585a.5.5,0,0,0,.84741-.27526l1.48273-9.35108a.50006.50006,0,0,0-.57214-.57214L17.969,5.59058a.5.5,0,0,0-.27526.84741Z\"></path>\n",
       "    </svg></a></td><td class=\"a-text-right mojo-field-type-boolean hidden\">false</td></tr><tr><td class=\"a-text-right mojo-header-column mojo-truncate mojo-field-type-rank mojo-sort-column\">238</td><td class=\"a-text-left mojo-field-type-release mojo-cell-wide\"><a class=\"a-link-normal\" href=\"/release/rl3435102721/?ref_=bo_yld_table_238\">Sex and the Future</a></td><td class=\"a-text-left mojo-field-type-genre hidden\">-</td><td class=\"a-text-right mojo-field-type-money hidden\">-</td><td class=\"a-text-right mojo-field-type-duration hidden\">-</td><td class=\"a-text-right mojo-field-type-money mojo-estimatable\">$2,716</td><td class=\"a-text-right mojo-field-type-positive_integer\">2</td><td class=\"a-text-right mojo-field-type-money mojo-estimatable\">$3,502</td><td class=\"a-text-left mojo-field-type-date a-nowrap\">Jun 5</td><td class=\"a-text-left mojo-field-type-studio\"><a class=\"a-link-normal\" href=\"https://pro.imdb.com/company/co0034057/boxoffice/?view=releases&amp;ref_=mojo_yld_table_238&amp;rf=mojo_yld_table_238\" rel=\"noopener\" target=\"_blank\">Indican Pictures<svg class=\"mojo-new-window-svg\" viewBox=\"0 0 32 32\" xmlns=\"http://www.w3.org/2000/svg\">\n",
       "        <path d=\"M24,15.57251l3,3V23.5A3.50424,3.50424,0,0,1,23.5,27H8.5A3.50424,3.50424,0,0,1,5,23.5V8.5A3.50424,3.50424,0,0,1,8.5,5h4.92755l3,3H8.5a.50641.50641,0,0,0-.5.5v15a.50641.50641,0,0,0,.5.5h15a.50641.50641,0,0,0,.5-.5ZM19.81952,8.56372,12.8844,17.75a.49989.49989,0,0,0,.04547.65479l.66534.66528a.49983.49983,0,0,0,.65479.04553l9.18628-6.93518,2.12579,2.12585a.5.5,0,0,0,.84741-.27526l1.48273-9.35108a.50006.50006,0,0,0-.57214-.57214L17.969,5.59058a.5.5,0,0,0-.27526.84741Z\"></path>\n",
       "    </svg></a></td><td class=\"a-text-right mojo-field-type-boolean hidden\">false</td></tr><tr><td class=\"a-text-right mojo-header-column mojo-truncate mojo-field-type-rank mojo-sort-column\">239</td><td class=\"a-text-left mojo-field-type-release mojo-cell-wide\"><a class=\"a-link-normal\" href=\"/release/rl3988423169/?ref_=bo_yld_table_239\">Powerbomb</a></td><td class=\"a-text-left mojo-field-type-genre hidden\">-</td><td class=\"a-text-right mojo-field-type-money hidden\">-</td><td class=\"a-text-right mojo-field-type-duration hidden\">-</td><td class=\"a-text-right mojo-field-type-money mojo-estimatable\">$2,607</td><td class=\"a-text-right mojo-field-type-positive_integer\">3</td><td class=\"a-text-right mojo-field-type-money mojo-estimatable\">$11,319</td><td class=\"a-text-left mojo-field-type-date a-nowrap\">Mar 6</td><td class=\"a-text-left mojo-field-type-studio\"><a class=\"a-link-normal\" href=\"https://pro.imdb.com/company/co0034057/boxoffice/?view=releases&amp;ref_=mojo_yld_table_239&amp;rf=mojo_yld_table_239\" rel=\"noopener\" target=\"_blank\">Indican Pictures<svg class=\"mojo-new-window-svg\" viewBox=\"0 0 32 32\" xmlns=\"http://www.w3.org/2000/svg\">\n",
       "        <path d=\"M24,15.57251l3,3V23.5A3.50424,3.50424,0,0,1,23.5,27H8.5A3.50424,3.50424,0,0,1,5,23.5V8.5A3.50424,3.50424,0,0,1,8.5,5h4.92755l3,3H8.5a.50641.50641,0,0,0-.5.5v15a.50641.50641,0,0,0,.5.5h15a.50641.50641,0,0,0,.5-.5ZM19.81952,8.56372,12.8844,17.75a.49989.49989,0,0,0,.04547.65479l.66534.66528a.49983.49983,0,0,0,.65479.04553l9.18628-6.93518,2.12579,2.12585a.5.5,0,0,0,.84741-.27526l1.48273-9.35108a.50006.50006,0,0,0-.57214-.57214L17.969,5.59058a.5.5,0,0,0-.27526.84741Z\"></path>\n",
       "    </svg></a></td><td class=\"a-text-right mojo-field-type-boolean hidden\">false</td></tr><tr><td class=\"a-text-right mojo-header-column mojo-truncate mojo-field-type-rank mojo-sort-column\">240</td><td class=\"a-text-left mojo-field-type-release mojo-cell-wide\"><a class=\"a-link-normal\" href=\"/release/rl2393539073/?ref_=bo_yld_table_240\">Light from Light</a></td><td class=\"a-text-left mojo-field-type-genre hidden\">-</td><td class=\"a-text-right mojo-field-type-money hidden\">-</td><td class=\"a-text-right mojo-field-type-duration hidden\">-</td><td class=\"a-text-right mojo-field-type-money mojo-estimatable\">$2,472</td><td class=\"a-text-right mojo-field-type-positive_integer\">5</td><td class=\"a-text-right mojo-field-type-money mojo-estimatable\">$24,808</td><td class=\"a-text-left mojo-field-type-date a-nowrap\">Nov 1</td><td class=\"a-text-left mojo-field-type-studio\"><a class=\"a-link-normal\" href=\"https://pro.imdb.com/company/co0575901/boxoffice/?view=releases&amp;ref_=mojo_yld_table_240&amp;rf=mojo_yld_table_240\" rel=\"noopener\" target=\"_blank\">Grasshopper Film<svg class=\"mojo-new-window-svg\" viewBox=\"0 0 32 32\" xmlns=\"http://www.w3.org/2000/svg\">\n",
       "        <path d=\"M24,15.57251l3,3V23.5A3.50424,3.50424,0,0,1,23.5,27H8.5A3.50424,3.50424,0,0,1,5,23.5V8.5A3.50424,3.50424,0,0,1,8.5,5h4.92755l3,3H8.5a.50641.50641,0,0,0-.5.5v15a.50641.50641,0,0,0,.5.5h15a.50641.50641,0,0,0,.5-.5ZM19.81952,8.56372,12.8844,17.75a.49989.49989,0,0,0,.04547.65479l.66534.66528a.49983.49983,0,0,0,.65479.04553l9.18628-6.93518,2.12579,2.12585a.5.5,0,0,0,.84741-.27526l1.48273-9.35108a.50006.50006,0,0,0-.57214-.57214L17.969,5.59058a.5.5,0,0,0-.27526.84741Z\"></path>\n",
       "    </svg></a></td><td class=\"a-text-right mojo-field-type-boolean hidden\">false</td></tr><tr><td class=\"a-text-right mojo-header-column mojo-truncate mojo-field-type-rank mojo-sort-column\">241</td><td class=\"a-text-left mojo-field-type-release mojo-cell-wide\"><a class=\"a-link-normal\" href=\"/release/rl2747040257/?ref_=bo_yld_table_241\">Moondance</a></td><td class=\"a-text-left mojo-field-type-genre hidden\">-</td><td class=\"a-text-right mojo-field-type-money hidden\">-</td><td class=\"a-text-right mojo-field-type-duration hidden\">-</td><td class=\"a-text-right mojo-field-type-money mojo-estimatable\">$2,371</td><td class=\"a-text-right mojo-field-type-positive_integer\">9</td><td class=\"a-text-right mojo-field-type-money mojo-estimatable\">$2,371</td><td class=\"a-text-left mojo-field-type-date a-nowrap\">Mar 13</td><td class=\"a-text-left mojo-field-type-studio\">-</td><td class=\"a-text-right mojo-field-type-boolean hidden\">false</td></tr><tr><td class=\"a-text-right mojo-header-column mojo-truncate mojo-field-type-rank mojo-sort-column\">242</td><td class=\"a-text-left mojo-field-type-release mojo-cell-wide\"><a class=\"a-link-normal\" href=\"/release/rl598442497/?ref_=bo_yld_table_242\">Goldie</a></td><td class=\"a-text-left mojo-field-type-genre hidden\">-</td><td class=\"a-text-right mojo-field-type-money hidden\">-</td><td class=\"a-text-right mojo-field-type-duration hidden\">-</td><td class=\"a-text-right mojo-field-type-money mojo-estimatable\">$2,302</td><td class=\"a-text-right mojo-field-type-positive_integer\">10</td><td class=\"a-text-right mojo-field-type-money mojo-estimatable\">$2,302</td><td class=\"a-text-left mojo-field-type-date a-nowrap\">Feb 21</td><td class=\"a-text-left mojo-field-type-studio\"><a class=\"a-link-normal\" href=\"https://pro.imdb.com/company/co0087326/boxoffice/?view=releases&amp;ref_=mojo_yld_table_242&amp;rf=mojo_yld_table_242\" rel=\"noopener\" target=\"_blank\">Film Movement<svg class=\"mojo-new-window-svg\" viewBox=\"0 0 32 32\" xmlns=\"http://www.w3.org/2000/svg\">\n",
       "        <path d=\"M24,15.57251l3,3V23.5A3.50424,3.50424,0,0,1,23.5,27H8.5A3.50424,3.50424,0,0,1,5,23.5V8.5A3.50424,3.50424,0,0,1,8.5,5h4.92755l3,3H8.5a.50641.50641,0,0,0-.5.5v15a.50641.50641,0,0,0,.5.5h15a.50641.50641,0,0,0,.5-.5ZM19.81952,8.56372,12.8844,17.75a.49989.49989,0,0,0,.04547.65479l.66534.66528a.49983.49983,0,0,0,.65479.04553l9.18628-6.93518,2.12579,2.12585a.5.5,0,0,0,.84741-.27526l1.48273-9.35108a.50006.50006,0,0,0-.57214-.57214L17.969,5.59058a.5.5,0,0,0-.27526.84741Z\"></path>\n",
       "    </svg></a></td><td class=\"a-text-right mojo-field-type-boolean hidden\">false</td></tr><tr><td class=\"a-text-right mojo-header-column mojo-truncate mojo-field-type-rank mojo-sort-column\">243</td><td class=\"a-text-left mojo-field-type-release mojo-cell-wide\"><a class=\"a-link-normal\" href=\"/release/rl616464897/?ref_=bo_yld_table_243\">The Truth</a></td><td class=\"a-text-left mojo-field-type-genre hidden\">-</td><td class=\"a-text-right mojo-field-type-money hidden\">-</td><td class=\"a-text-right mojo-field-type-duration hidden\">-</td><td class=\"a-text-right mojo-field-type-money mojo-estimatable\">$2,256</td><td class=\"a-text-right mojo-field-type-positive_integer\">10</td><td class=\"a-text-right mojo-field-type-money mojo-estimatable\">$2,256</td><td class=\"a-text-left mojo-field-type-date a-nowrap\">Jul 3</td><td class=\"a-text-left mojo-field-type-studio\"><a class=\"a-link-normal\" href=\"https://pro.imdb.com/company/co0015762/boxoffice/?view=releases&amp;ref_=mojo_yld_table_243&amp;rf=mojo_yld_table_243\" rel=\"noopener\" target=\"_blank\">IFC Films<svg class=\"mojo-new-window-svg\" viewBox=\"0 0 32 32\" xmlns=\"http://www.w3.org/2000/svg\">\n",
       "        <path d=\"M24,15.57251l3,3V23.5A3.50424,3.50424,0,0,1,23.5,27H8.5A3.50424,3.50424,0,0,1,5,23.5V8.5A3.50424,3.50424,0,0,1,8.5,5h4.92755l3,3H8.5a.50641.50641,0,0,0-.5.5v15a.50641.50641,0,0,0,.5.5h15a.50641.50641,0,0,0,.5-.5ZM19.81952,8.56372,12.8844,17.75a.49989.49989,0,0,0,.04547.65479l.66534.66528a.49983.49983,0,0,0,.65479.04553l9.18628-6.93518,2.12579,2.12585a.5.5,0,0,0,.84741-.27526l1.48273-9.35108a.50006.50006,0,0,0-.57214-.57214L17.969,5.59058a.5.5,0,0,0-.27526.84741Z\"></path>\n",
       "    </svg></a></td><td class=\"a-text-right mojo-field-type-boolean hidden\">false</td></tr><tr><td class=\"a-text-right mojo-header-column mojo-truncate mojo-field-type-rank mojo-sort-column\">244</td><td class=\"a-text-left mojo-field-type-release mojo-cell-wide\"><a class=\"a-link-normal\" href=\"/release/rl2108129793/?ref_=bo_yld_table_244\">Duet for Cannibals</a><div class=\"a-section a-spacing-none\"><span class=\"a-size-small a-color-secondary\">2019 re-release</span></div></td><td class=\"a-text-left mojo-field-type-genre hidden\">-</td><td class=\"a-text-right mojo-field-type-money hidden\">-</td><td class=\"a-text-right mojo-field-type-duration hidden\">-</td><td class=\"a-text-right mojo-field-type-money mojo-estimatable\">$2,060</td><td class=\"a-text-right mojo-field-type-positive_integer\">4</td><td class=\"a-text-right mojo-field-type-money mojo-estimatable\">$12,962</td><td class=\"a-text-left mojo-field-type-date a-nowrap\">Nov 22</td><td class=\"a-text-left mojo-field-type-studio\"><a class=\"a-link-normal\" href=\"https://pro.imdb.com/company/co0730656/boxoffice/?view=releases&amp;ref_=mojo_yld_table_244&amp;rf=mojo_yld_table_244\" rel=\"noopener\" target=\"_blank\">Metrograph Pictures<svg class=\"mojo-new-window-svg\" viewBox=\"0 0 32 32\" xmlns=\"http://www.w3.org/2000/svg\">\n",
       "        <path d=\"M24,15.57251l3,3V23.5A3.50424,3.50424,0,0,1,23.5,27H8.5A3.50424,3.50424,0,0,1,5,23.5V8.5A3.50424,3.50424,0,0,1,8.5,5h4.92755l3,3H8.5a.50641.50641,0,0,0-.5.5v15a.50641.50641,0,0,0,.5.5h15a.50641.50641,0,0,0,.5-.5ZM19.81952,8.56372,12.8844,17.75a.49989.49989,0,0,0,.04547.65479l.66534.66528a.49983.49983,0,0,0,.65479.04553l9.18628-6.93518,2.12579,2.12585a.5.5,0,0,0,.84741-.27526l1.48273-9.35108a.50006.50006,0,0,0-.57214-.57214L17.969,5.59058a.5.5,0,0,0-.27526.84741Z\"></path>\n",
       "    </svg></a></td><td class=\"a-text-right mojo-field-type-boolean hidden\">false</td></tr><tr><td class=\"a-text-right mojo-header-column mojo-truncate mojo-field-type-rank mojo-sort-column\">245</td><td class=\"a-text-left mojo-field-type-release mojo-cell-wide\"><a class=\"a-link-normal\" href=\"/release/rl353076737/?ref_=bo_yld_table_245\">Little Joe</a></td><td class=\"a-text-left mojo-field-type-genre hidden\">-</td><td class=\"a-text-right mojo-field-type-money hidden\">-</td><td class=\"a-text-right mojo-field-type-duration hidden\">-</td><td class=\"a-text-right mojo-field-type-money mojo-estimatable\">$1,914</td><td class=\"a-text-right mojo-field-type-positive_integer\">12</td><td class=\"a-text-right mojo-field-type-money mojo-estimatable\">$23,862</td><td class=\"a-text-left mojo-field-type-date a-nowrap\">Dec 6</td><td class=\"a-text-left mojo-field-type-studio\"><a class=\"a-link-normal\" href=\"https://pro.imdb.com/company/co0134717/boxoffice/?view=releases&amp;ref_=mojo_yld_table_245&amp;rf=mojo_yld_table_245\" rel=\"noopener\" target=\"_blank\">Magnolia Pictures<svg class=\"mojo-new-window-svg\" viewBox=\"0 0 32 32\" xmlns=\"http://www.w3.org/2000/svg\">\n",
       "        <path d=\"M24,15.57251l3,3V23.5A3.50424,3.50424,0,0,1,23.5,27H8.5A3.50424,3.50424,0,0,1,5,23.5V8.5A3.50424,3.50424,0,0,1,8.5,5h4.92755l3,3H8.5a.50641.50641,0,0,0-.5.5v15a.50641.50641,0,0,0,.5.5h15a.50641.50641,0,0,0,.5-.5ZM19.81952,8.56372,12.8844,17.75a.49989.49989,0,0,0,.04547.65479l.66534.66528a.49983.49983,0,0,0,.65479.04553l9.18628-6.93518,2.12579,2.12585a.5.5,0,0,0,.84741-.27526l1.48273-9.35108a.50006.50006,0,0,0-.57214-.57214L17.969,5.59058a.5.5,0,0,0-.27526.84741Z\"></path>\n",
       "    </svg></a></td><td class=\"a-text-right mojo-field-type-boolean hidden\">false</td></tr><tr><td class=\"a-text-right mojo-header-column mojo-truncate mojo-field-type-rank mojo-sort-column\">246</td><td class=\"a-text-left mojo-field-type-release mojo-cell-wide\"><a class=\"a-link-normal\" href=\"/release/rl2802353665/?ref_=bo_yld_table_246\">Frankie</a></td><td class=\"a-text-left mojo-field-type-genre hidden\">-</td><td class=\"a-text-right mojo-field-type-money hidden\">-</td><td class=\"a-text-right mojo-field-type-duration hidden\">-</td><td class=\"a-text-right mojo-field-type-money mojo-estimatable\">$1,912</td><td class=\"a-text-right mojo-field-type-positive_integer\">117</td><td class=\"a-text-right mojo-field-type-money mojo-estimatable\">$171,781</td><td class=\"a-text-left mojo-field-type-date a-nowrap\">Oct 25</td><td class=\"a-text-left mojo-field-type-studio\"><a class=\"a-link-normal\" href=\"https://pro.imdb.com/company/co0014453/boxoffice/?view=releases&amp;ref_=mojo_yld_table_246&amp;rf=mojo_yld_table_246\" rel=\"noopener\" target=\"_blank\">Sony Pictures Classics<svg class=\"mojo-new-window-svg\" viewBox=\"0 0 32 32\" xmlns=\"http://www.w3.org/2000/svg\">\n",
       "        <path d=\"M24,15.57251l3,3V23.5A3.50424,3.50424,0,0,1,23.5,27H8.5A3.50424,3.50424,0,0,1,5,23.5V8.5A3.50424,3.50424,0,0,1,8.5,5h4.92755l3,3H8.5a.50641.50641,0,0,0-.5.5v15a.50641.50641,0,0,0,.5.5h15a.50641.50641,0,0,0,.5-.5ZM19.81952,8.56372,12.8844,17.75a.49989.49989,0,0,0,.04547.65479l.66534.66528a.49983.49983,0,0,0,.65479.04553l9.18628-6.93518,2.12579,2.12585a.5.5,0,0,0,.84741-.27526l1.48273-9.35108a.50006.50006,0,0,0-.57214-.57214L17.969,5.59058a.5.5,0,0,0-.27526.84741Z\"></path>\n",
       "    </svg></a></td><td class=\"a-text-right mojo-field-type-boolean hidden\">false</td></tr><tr><td class=\"a-text-right mojo-header-column mojo-truncate mojo-field-type-rank mojo-sort-column\">247</td><td class=\"a-text-left mojo-field-type-release mojo-cell-wide\"><a class=\"a-link-normal\" href=\"/release/rl3943269889/?ref_=bo_yld_table_247\">Christ Stopped at Eboli</a></td><td class=\"a-text-left mojo-field-type-genre hidden\">-</td><td class=\"a-text-right mojo-field-type-money hidden\">-</td><td class=\"a-text-right mojo-field-type-duration hidden\">-</td><td class=\"a-text-right mojo-field-type-money mojo-estimatable\">$1,893</td><td class=\"a-text-right mojo-field-type-positive_integer\">3</td><td class=\"a-text-right mojo-field-type-money mojo-estimatable\">$78,736</td><td class=\"a-text-left mojo-field-type-date a-nowrap\">Apr 3</td><td class=\"a-text-left mojo-field-type-studio\"><a class=\"a-link-normal\" href=\"https://pro.imdb.com/company/co0049592/boxoffice/?view=releases&amp;ref_=mojo_yld_table_247&amp;rf=mojo_yld_table_247\" rel=\"noopener\" target=\"_blank\">Rialto Pictures<svg class=\"mojo-new-window-svg\" viewBox=\"0 0 32 32\" xmlns=\"http://www.w3.org/2000/svg\">\n",
       "        <path d=\"M24,15.57251l3,3V23.5A3.50424,3.50424,0,0,1,23.5,27H8.5A3.50424,3.50424,0,0,1,5,23.5V8.5A3.50424,3.50424,0,0,1,8.5,5h4.92755l3,3H8.5a.50641.50641,0,0,0-.5.5v15a.50641.50641,0,0,0,.5.5h15a.50641.50641,0,0,0,.5-.5ZM19.81952,8.56372,12.8844,17.75a.49989.49989,0,0,0,.04547.65479l.66534.66528a.49983.49983,0,0,0,.65479.04553l9.18628-6.93518,2.12579,2.12585a.5.5,0,0,0,.84741-.27526l1.48273-9.35108a.50006.50006,0,0,0-.57214-.57214L17.969,5.59058a.5.5,0,0,0-.27526.84741Z\"></path>\n",
       "    </svg></a></td><td class=\"a-text-right mojo-field-type-boolean hidden\">false</td></tr><tr><td class=\"a-text-right mojo-header-column mojo-truncate mojo-field-type-rank mojo-sort-column\">248</td><td class=\"a-text-left mojo-field-type-release mojo-cell-wide\"><a class=\"a-link-normal\" href=\"/release/rl91719169/?ref_=bo_yld_table_248\">To the Arctic 3D</a></td><td class=\"a-text-left mojo-field-type-genre hidden\">-</td><td class=\"a-text-right mojo-field-type-money hidden\">-</td><td class=\"a-text-right mojo-field-type-duration hidden\">-</td><td class=\"a-text-right mojo-field-type-money mojo-estimatable\">$1,867</td><td class=\"a-text-right mojo-field-type-positive_integer\">52</td><td class=\"a-text-right mojo-field-type-money mojo-estimatable\">$14,560,838</td><td class=\"a-text-left mojo-field-type-date a-nowrap\">Apr 20</td><td class=\"a-text-left mojo-field-type-studio\"><a class=\"a-link-normal\" href=\"https://pro.imdb.com/company/co0002663/boxoffice/?view=releases&amp;ref_=mojo_yld_table_248&amp;rf=mojo_yld_table_248\" rel=\"noopener\" target=\"_blank\">Warner Bros.<svg class=\"mojo-new-window-svg\" viewBox=\"0 0 32 32\" xmlns=\"http://www.w3.org/2000/svg\">\n",
       "        <path d=\"M24,15.57251l3,3V23.5A3.50424,3.50424,0,0,1,23.5,27H8.5A3.50424,3.50424,0,0,1,5,23.5V8.5A3.50424,3.50424,0,0,1,8.5,5h4.92755l3,3H8.5a.50641.50641,0,0,0-.5.5v15a.50641.50641,0,0,0,.5.5h15a.50641.50641,0,0,0,.5-.5ZM19.81952,8.56372,12.8844,17.75a.49989.49989,0,0,0,.04547.65479l.66534.66528a.49983.49983,0,0,0,.65479.04553l9.18628-6.93518,2.12579,2.12585a.5.5,0,0,0,.84741-.27526l1.48273-9.35108a.50006.50006,0,0,0-.57214-.57214L17.969,5.59058a.5.5,0,0,0-.27526.84741Z\"></path>\n",
       "    </svg></a></td><td class=\"a-text-right mojo-field-type-boolean hidden\">false</td></tr><tr><td class=\"a-text-right mojo-header-column mojo-truncate mojo-field-type-rank mojo-sort-column\">249</td><td class=\"a-text-left mojo-field-type-release mojo-cell-wide\"><a class=\"a-link-normal\" href=\"/release/rl1023968769/?ref_=bo_yld_table_249\">Be Natural: The Untold Story of Alice Guy-Blaché</a></td><td class=\"a-text-left mojo-field-type-genre hidden\">-</td><td class=\"a-text-right mojo-field-type-money hidden\">-</td><td class=\"a-text-right mojo-field-type-duration hidden\">-</td><td class=\"a-text-right mojo-field-type-money mojo-estimatable\">$1,769</td><td class=\"a-text-right mojo-field-type-positive_integer\">14</td><td class=\"a-text-right mojo-field-type-money mojo-estimatable\">$115,685</td><td class=\"a-text-left mojo-field-type-date a-nowrap\">Apr 19</td><td class=\"a-text-left mojo-field-type-studio\"><a class=\"a-link-normal\" href=\"https://pro.imdb.com/company/co0078470/boxoffice/?view=releases&amp;ref_=mojo_yld_table_249&amp;rf=mojo_yld_table_249\" rel=\"noopener\" target=\"_blank\">Zeitgeist Films<svg class=\"mojo-new-window-svg\" viewBox=\"0 0 32 32\" xmlns=\"http://www.w3.org/2000/svg\">\n",
       "        <path d=\"M24,15.57251l3,3V23.5A3.50424,3.50424,0,0,1,23.5,27H8.5A3.50424,3.50424,0,0,1,5,23.5V8.5A3.50424,3.50424,0,0,1,8.5,5h4.92755l3,3H8.5a.50641.50641,0,0,0-.5.5v15a.50641.50641,0,0,0,.5.5h15a.50641.50641,0,0,0,.5-.5ZM19.81952,8.56372,12.8844,17.75a.49989.49989,0,0,0,.04547.65479l.66534.66528a.49983.49983,0,0,0,.65479.04553l9.18628-6.93518,2.12579,2.12585a.5.5,0,0,0,.84741-.27526l1.48273-9.35108a.50006.50006,0,0,0-.57214-.57214L17.969,5.59058a.5.5,0,0,0-.27526.84741Z\"></path>\n",
       "    </svg></a></td><td class=\"a-text-right mojo-field-type-boolean hidden\">false</td></tr><tr><td class=\"a-text-right mojo-header-column mojo-truncate mojo-field-type-rank mojo-sort-column\">250</td><td class=\"a-text-left mojo-field-type-release mojo-cell-wide\"><a class=\"a-link-normal\" href=\"/release/rl3959981569/?ref_=bo_yld_table_250\">Edie</a></td><td class=\"a-text-left mojo-field-type-genre hidden\">-</td><td class=\"a-text-right mojo-field-type-money hidden\">-</td><td class=\"a-text-right mojo-field-type-duration hidden\">-</td><td class=\"a-text-right mojo-field-type-money mojo-estimatable\">$1,652</td><td class=\"a-text-right mojo-field-type-positive_integer\">11</td><td class=\"a-text-right mojo-field-type-money mojo-estimatable\">$71,790</td><td class=\"a-text-left mojo-field-type-date a-nowrap\">Sep 6</td><td class=\"a-text-left mojo-field-type-studio\"><a class=\"a-link-normal\" href=\"https://pro.imdb.com/company/co0235025/boxoffice/?view=releases&amp;ref_=mojo_yld_table_250&amp;rf=mojo_yld_table_250\" rel=\"noopener\" target=\"_blank\">Music Box Films<svg class=\"mojo-new-window-svg\" viewBox=\"0 0 32 32\" xmlns=\"http://www.w3.org/2000/svg\">\n",
       "        <path d=\"M24,15.57251l3,3V23.5A3.50424,3.50424,0,0,1,23.5,27H8.5A3.50424,3.50424,0,0,1,5,23.5V8.5A3.50424,3.50424,0,0,1,8.5,5h4.92755l3,3H8.5a.50641.50641,0,0,0-.5.5v15a.50641.50641,0,0,0,.5.5h15a.50641.50641,0,0,0,.5-.5ZM19.81952,8.56372,12.8844,17.75a.49989.49989,0,0,0,.04547.65479l.66534.66528a.49983.49983,0,0,0,.65479.04553l9.18628-6.93518,2.12579,2.12585a.5.5,0,0,0,.84741-.27526l1.48273-9.35108a.50006.50006,0,0,0-.57214-.57214L17.969,5.59058a.5.5,0,0,0-.27526.84741Z\"></path>\n",
       "    </svg></a></td><td class=\"a-text-right mojo-field-type-boolean hidden\">false</td></tr><tr><td class=\"a-text-right mojo-header-column mojo-truncate mojo-field-type-rank mojo-sort-column\">251</td><td class=\"a-text-left mojo-field-type-release mojo-cell-wide\"><a class=\"a-link-normal\" href=\"/release/rl4010313217/?ref_=bo_yld_table_251\">End of the Century</a></td><td class=\"a-text-left mojo-field-type-genre hidden\">-</td><td class=\"a-text-right mojo-field-type-money hidden\">-</td><td class=\"a-text-right mojo-field-type-duration hidden\">-</td><td class=\"a-text-right mojo-field-type-money mojo-estimatable\">$1,429</td><td class=\"a-text-right mojo-field-type-positive_integer\">6</td><td class=\"a-text-right mojo-field-type-money mojo-estimatable\">$66,309</td><td class=\"a-text-left mojo-field-type-date a-nowrap\">Aug 16</td><td class=\"a-text-left mojo-field-type-studio\"><a class=\"a-link-normal\" href=\"https://pro.imdb.com/company/co0014382/boxoffice/?view=releases&amp;ref_=mojo_yld_table_251&amp;rf=mojo_yld_table_251\" rel=\"noopener\" target=\"_blank\">The Cinema Guild<svg class=\"mojo-new-window-svg\" viewBox=\"0 0 32 32\" xmlns=\"http://www.w3.org/2000/svg\">\n",
       "        <path d=\"M24,15.57251l3,3V23.5A3.50424,3.50424,0,0,1,23.5,27H8.5A3.50424,3.50424,0,0,1,5,23.5V8.5A3.50424,3.50424,0,0,1,8.5,5h4.92755l3,3H8.5a.50641.50641,0,0,0-.5.5v15a.50641.50641,0,0,0,.5.5h15a.50641.50641,0,0,0,.5-.5ZM19.81952,8.56372,12.8844,17.75a.49989.49989,0,0,0,.04547.65479l.66534.66528a.49983.49983,0,0,0,.65479.04553l9.18628-6.93518,2.12579,2.12585a.5.5,0,0,0,.84741-.27526l1.48273-9.35108a.50006.50006,0,0,0-.57214-.57214L17.969,5.59058a.5.5,0,0,0-.27526.84741Z\"></path>\n",
       "    </svg></a></td><td class=\"a-text-right mojo-field-type-boolean hidden\">false</td></tr><tr><td class=\"a-text-right mojo-header-column mojo-truncate mojo-field-type-rank mojo-sort-column\">252</td><td class=\"a-text-left mojo-field-type-release mojo-cell-wide\"><a class=\"a-link-normal\" href=\"/release/rl3866134017/?ref_=bo_yld_table_252\">Space Station 3D</a></td><td class=\"a-text-left mojo-field-type-genre hidden\">-</td><td class=\"a-text-right mojo-field-type-money hidden\">-</td><td class=\"a-text-right mojo-field-type-duration hidden\">-</td><td class=\"a-text-right mojo-field-type-money mojo-estimatable\">$1,394</td><td class=\"a-text-right mojo-field-type-positive_integer\">64</td><td class=\"a-text-right mojo-field-type-money mojo-estimatable\">$93,383,953</td><td class=\"a-text-left mojo-field-type-date a-nowrap\">Apr 19</td><td class=\"a-text-left mojo-field-type-studio\"><a class=\"a-link-normal\" href=\"https://pro.imdb.com/company/co0057495/boxoffice/?view=releases&amp;ref_=mojo_yld_table_252&amp;rf=mojo_yld_table_252\" rel=\"noopener\" target=\"_blank\">IMAX<svg class=\"mojo-new-window-svg\" viewBox=\"0 0 32 32\" xmlns=\"http://www.w3.org/2000/svg\">\n",
       "        <path d=\"M24,15.57251l3,3V23.5A3.50424,3.50424,0,0,1,23.5,27H8.5A3.50424,3.50424,0,0,1,5,23.5V8.5A3.50424,3.50424,0,0,1,8.5,5h4.92755l3,3H8.5a.50641.50641,0,0,0-.5.5v15a.50641.50641,0,0,0,.5.5h15a.50641.50641,0,0,0,.5-.5ZM19.81952,8.56372,12.8844,17.75a.49989.49989,0,0,0,.04547.65479l.66534.66528a.49983.49983,0,0,0,.65479.04553l9.18628-6.93518,2.12579,2.12585a.5.5,0,0,0,.84741-.27526l1.48273-9.35108a.50006.50006,0,0,0-.57214-.57214L17.969,5.59058a.5.5,0,0,0-.27526.84741Z\"></path>\n",
       "    </svg></a></td><td class=\"a-text-right mojo-field-type-boolean hidden\">false</td></tr><tr><td class=\"a-text-right mojo-header-column mojo-truncate mojo-field-type-rank mojo-sort-column\">253</td><td class=\"a-text-left mojo-field-type-release mojo-cell-wide\"><a class=\"a-link-normal\" href=\"/release/rl2612625921/?ref_=bo_yld_table_253\">Hai Tang Hong</a></td><td class=\"a-text-left mojo-field-type-genre hidden\">-</td><td class=\"a-text-right mojo-field-type-money hidden\">-</td><td class=\"a-text-right mojo-field-type-duration hidden\">-</td><td class=\"a-text-right mojo-field-type-money mojo-estimatable\">$1,107</td><td class=\"a-text-right mojo-field-type-positive_integer\">30</td><td class=\"a-text-right mojo-field-type-money mojo-estimatable\">$1,107</td><td class=\"a-text-left mojo-field-type-date a-nowrap\">Feb 21</td><td class=\"a-text-left mojo-field-type-studio\"><a class=\"a-link-normal\" href=\"https://pro.imdb.com/company/co0464080/boxoffice/?view=releases&amp;ref_=mojo_yld_table_253&amp;rf=mojo_yld_table_253\" rel=\"noopener\" target=\"_blank\">M Star International<svg class=\"mojo-new-window-svg\" viewBox=\"0 0 32 32\" xmlns=\"http://www.w3.org/2000/svg\">\n",
       "        <path d=\"M24,15.57251l3,3V23.5A3.50424,3.50424,0,0,1,23.5,27H8.5A3.50424,3.50424,0,0,1,5,23.5V8.5A3.50424,3.50424,0,0,1,8.5,5h4.92755l3,3H8.5a.50641.50641,0,0,0-.5.5v15a.50641.50641,0,0,0,.5.5h15a.50641.50641,0,0,0,.5-.5ZM19.81952,8.56372,12.8844,17.75a.49989.49989,0,0,0,.04547.65479l.66534.66528a.49983.49983,0,0,0,.65479.04553l9.18628-6.93518,2.12579,2.12585a.5.5,0,0,0,.84741-.27526l1.48273-9.35108a.50006.50006,0,0,0-.57214-.57214L17.969,5.59058a.5.5,0,0,0-.27526.84741Z\"></path>\n",
       "    </svg></a></td><td class=\"a-text-right mojo-field-type-boolean hidden\">false</td></tr><tr><td class=\"a-text-right mojo-header-column mojo-truncate mojo-field-type-rank mojo-sort-column\">254</td><td class=\"a-text-left mojo-field-type-release mojo-cell-wide\"><a class=\"a-link-normal\" href=\"/release/rl2752218625/?ref_=bo_yld_table_254\">The Gliksmans</a></td><td class=\"a-text-left mojo-field-type-genre hidden\">-</td><td class=\"a-text-right mojo-field-type-money hidden\">-</td><td class=\"a-text-right mojo-field-type-duration hidden\">-</td><td class=\"a-text-right mojo-field-type-money mojo-estimatable\">$1,086</td><td class=\"a-text-right mojo-field-type-positive_integer\">3</td><td class=\"a-text-right mojo-field-type-money mojo-estimatable\">$5,166</td><td class=\"a-text-left mojo-field-type-date a-nowrap\">Sep 27</td><td class=\"a-text-left mojo-field-type-studio\"><a class=\"a-link-normal\" href=\"https://pro.imdb.com/company/co0034057/boxoffice/?view=releases&amp;ref_=mojo_yld_table_254&amp;rf=mojo_yld_table_254\" rel=\"noopener\" target=\"_blank\">Indican Pictures<svg class=\"mojo-new-window-svg\" viewBox=\"0 0 32 32\" xmlns=\"http://www.w3.org/2000/svg\">\n",
       "        <path d=\"M24,15.57251l3,3V23.5A3.50424,3.50424,0,0,1,23.5,27H8.5A3.50424,3.50424,0,0,1,5,23.5V8.5A3.50424,3.50424,0,0,1,8.5,5h4.92755l3,3H8.5a.50641.50641,0,0,0-.5.5v15a.50641.50641,0,0,0,.5.5h15a.50641.50641,0,0,0,.5-.5ZM19.81952,8.56372,12.8844,17.75a.49989.49989,0,0,0,.04547.65479l.66534.66528a.49983.49983,0,0,0,.65479.04553l9.18628-6.93518,2.12579,2.12585a.5.5,0,0,0,.84741-.27526l1.48273-9.35108a.50006.50006,0,0,0-.57214-.57214L17.969,5.59058a.5.5,0,0,0-.27526.84741Z\"></path>\n",
       "    </svg></a></td><td class=\"a-text-right mojo-field-type-boolean hidden\">false</td></tr><tr><td class=\"a-text-right mojo-header-column mojo-truncate mojo-field-type-rank mojo-sort-column\">255</td><td class=\"a-text-left mojo-field-type-release mojo-cell-wide\"><a class=\"a-link-normal\" href=\"/release/rl3770319361/?ref_=bo_yld_table_255\">King's Gambit</a></td><td class=\"a-text-left mojo-field-type-genre hidden\">-</td><td class=\"a-text-right mojo-field-type-money hidden\">-</td><td class=\"a-text-right mojo-field-type-duration hidden\">-</td><td class=\"a-text-right mojo-field-type-money mojo-estimatable\">$876</td><td class=\"a-text-right mojo-field-type-positive_integer\">2</td><td class=\"a-text-right mojo-field-type-money mojo-estimatable\">$3,816</td><td class=\"a-text-left mojo-field-type-date a-nowrap\">Mar 6</td><td class=\"a-text-left mojo-field-type-studio\"><a class=\"a-link-normal\" href=\"https://pro.imdb.com/company/co0034057/boxoffice/?view=releases&amp;ref_=mojo_yld_table_255&amp;rf=mojo_yld_table_255\" rel=\"noopener\" target=\"_blank\">Indican Pictures<svg class=\"mojo-new-window-svg\" viewBox=\"0 0 32 32\" xmlns=\"http://www.w3.org/2000/svg\">\n",
       "        <path d=\"M24,15.57251l3,3V23.5A3.50424,3.50424,0,0,1,23.5,27H8.5A3.50424,3.50424,0,0,1,5,23.5V8.5A3.50424,3.50424,0,0,1,8.5,5h4.92755l3,3H8.5a.50641.50641,0,0,0-.5.5v15a.50641.50641,0,0,0,.5.5h15a.50641.50641,0,0,0,.5-.5ZM19.81952,8.56372,12.8844,17.75a.49989.49989,0,0,0,.04547.65479l.66534.66528a.49983.49983,0,0,0,.65479.04553l9.18628-6.93518,2.12579,2.12585a.5.5,0,0,0,.84741-.27526l1.48273-9.35108a.50006.50006,0,0,0-.57214-.57214L17.969,5.59058a.5.5,0,0,0-.27526.84741Z\"></path>\n",
       "    </svg></a></td><td class=\"a-text-right mojo-field-type-boolean hidden\">false</td></tr><tr><td class=\"a-text-right mojo-header-column mojo-truncate mojo-field-type-rank mojo-sort-column\">256</td><td class=\"a-text-left mojo-field-type-release mojo-cell-wide\"><a class=\"a-link-normal\" href=\"/release/rl2621539073/?ref_=bo_yld_table_256\">The Fox Hunter</a></td><td class=\"a-text-left mojo-field-type-genre hidden\">-</td><td class=\"a-text-right mojo-field-type-money hidden\">-</td><td class=\"a-text-right mojo-field-type-duration hidden\">-</td><td class=\"a-text-right mojo-field-type-money mojo-estimatable\">$858</td><td class=\"a-text-right mojo-field-type-positive_integer\">1</td><td class=\"a-text-right mojo-field-type-money mojo-estimatable\">$1,051</td><td class=\"a-text-left mojo-field-type-date a-nowrap\">Jun 5</td><td class=\"a-text-left mojo-field-type-studio\"><a class=\"a-link-normal\" href=\"https://pro.imdb.com/company/co0034057/boxoffice/?view=releases&amp;ref_=mojo_yld_table_256&amp;rf=mojo_yld_table_256\" rel=\"noopener\" target=\"_blank\">Indican Pictures<svg class=\"mojo-new-window-svg\" viewBox=\"0 0 32 32\" xmlns=\"http://www.w3.org/2000/svg\">\n",
       "        <path d=\"M24,15.57251l3,3V23.5A3.50424,3.50424,0,0,1,23.5,27H8.5A3.50424,3.50424,0,0,1,5,23.5V8.5A3.50424,3.50424,0,0,1,8.5,5h4.92755l3,3H8.5a.50641.50641,0,0,0-.5.5v15a.50641.50641,0,0,0,.5.5h15a.50641.50641,0,0,0,.5-.5ZM19.81952,8.56372,12.8844,17.75a.49989.49989,0,0,0,.04547.65479l.66534.66528a.49983.49983,0,0,0,.65479.04553l9.18628-6.93518,2.12579,2.12585a.5.5,0,0,0,.84741-.27526l1.48273-9.35108a.50006.50006,0,0,0-.57214-.57214L17.969,5.59058a.5.5,0,0,0-.27526.84741Z\"></path>\n",
       "    </svg></a></td><td class=\"a-text-right mojo-field-type-boolean hidden\">false</td></tr><tr><td class=\"a-text-right mojo-header-column mojo-truncate mojo-field-type-rank mojo-sort-column\">257</td><td class=\"a-text-left mojo-field-type-release mojo-cell-wide\"><a class=\"a-link-normal\" href=\"/release/rl520848897/?ref_=bo_yld_table_257\">Millennium Actress</a><div class=\"a-section a-spacing-none\"><span class=\"a-size-small a-color-secondary\">2019 Re-release</span></div></td><td class=\"a-text-left mojo-field-type-genre hidden\">-</td><td class=\"a-text-right mojo-field-type-money hidden\">-</td><td class=\"a-text-right mojo-field-type-duration hidden\">-</td><td class=\"a-text-right mojo-field-type-money mojo-estimatable\">$578</td><td class=\"a-text-right mojo-field-type-positive_integer\">512</td><td class=\"a-text-right mojo-field-type-money mojo-estimatable\">$225,250</td><td class=\"a-text-left mojo-field-type-date a-nowrap\">Aug 13</td><td class=\"a-text-left mojo-field-type-studio\"><a class=\"a-link-normal\" href=\"https://pro.imdb.com/company/co0360057/boxoffice/?view=releases&amp;ref_=mojo_yld_table_257&amp;rf=mojo_yld_table_257\" rel=\"noopener\" target=\"_blank\">Fathom Events<svg class=\"mojo-new-window-svg\" viewBox=\"0 0 32 32\" xmlns=\"http://www.w3.org/2000/svg\">\n",
       "        <path d=\"M24,15.57251l3,3V23.5A3.50424,3.50424,0,0,1,23.5,27H8.5A3.50424,3.50424,0,0,1,5,23.5V8.5A3.50424,3.50424,0,0,1,8.5,5h4.92755l3,3H8.5a.50641.50641,0,0,0-.5.5v15a.50641.50641,0,0,0,.5.5h15a.50641.50641,0,0,0,.5-.5ZM19.81952,8.56372,12.8844,17.75a.49989.49989,0,0,0,.04547.65479l.66534.66528a.49983.49983,0,0,0,.65479.04553l9.18628-6.93518,2.12579,2.12585a.5.5,0,0,0,.84741-.27526l1.48273-9.35108a.50006.50006,0,0,0-.57214-.57214L17.969,5.59058a.5.5,0,0,0-.27526.84741Z\"></path>\n",
       "    </svg></a></td><td class=\"a-text-right mojo-field-type-boolean hidden\">false</td></tr><tr><td class=\"a-text-right mojo-header-column mojo-truncate mojo-field-type-rank mojo-sort-column\">258</td><td class=\"a-text-left mojo-field-type-release mojo-cell-wide\"><a class=\"a-link-normal\" href=\"/release/rl2671870721/?ref_=bo_yld_table_258\">The Transcendents</a></td><td class=\"a-text-left mojo-field-type-genre hidden\">-</td><td class=\"a-text-right mojo-field-type-money hidden\">-</td><td class=\"a-text-right mojo-field-type-duration hidden\">-</td><td class=\"a-text-right mojo-field-type-money mojo-estimatable\">$564</td><td class=\"a-text-right mojo-field-type-positive_integer\">1</td><td class=\"a-text-right mojo-field-type-money mojo-estimatable\">$564</td><td class=\"a-text-left mojo-field-type-date a-nowrap\">Jun 26</td><td class=\"a-text-left mojo-field-type-studio\"><a class=\"a-link-normal\" href=\"https://pro.imdb.com/company/co0034057/boxoffice/?view=releases&amp;ref_=mojo_yld_table_258&amp;rf=mojo_yld_table_258\" rel=\"noopener\" target=\"_blank\">Indican Pictures<svg class=\"mojo-new-window-svg\" viewBox=\"0 0 32 32\" xmlns=\"http://www.w3.org/2000/svg\">\n",
       "        <path d=\"M24,15.57251l3,3V23.5A3.50424,3.50424,0,0,1,23.5,27H8.5A3.50424,3.50424,0,0,1,5,23.5V8.5A3.50424,3.50424,0,0,1,8.5,5h4.92755l3,3H8.5a.50641.50641,0,0,0-.5.5v15a.50641.50641,0,0,0,.5.5h15a.50641.50641,0,0,0,.5-.5ZM19.81952,8.56372,12.8844,17.75a.49989.49989,0,0,0,.04547.65479l.66534.66528a.49983.49983,0,0,0,.65479.04553l9.18628-6.93518,2.12579,2.12585a.5.5,0,0,0,.84741-.27526l1.48273-9.35108a.50006.50006,0,0,0-.57214-.57214L17.969,5.59058a.5.5,0,0,0-.27526.84741Z\"></path>\n",
       "    </svg></a></td><td class=\"a-text-right mojo-field-type-boolean hidden\">false</td></tr><tr><td class=\"a-text-right mojo-header-column mojo-truncate mojo-field-type-rank mojo-sort-column\">259</td><td class=\"a-text-left mojo-field-type-release mojo-cell-wide\"><a class=\"a-link-normal\" href=\"/release/rl3299574273/?ref_=bo_yld_table_259\">Spiral Farm</a></td><td class=\"a-text-left mojo-field-type-genre hidden\">-</td><td class=\"a-text-right mojo-field-type-money hidden\">-</td><td class=\"a-text-right mojo-field-type-duration hidden\">-</td><td class=\"a-text-right mojo-field-type-money mojo-estimatable\">$537</td><td class=\"a-text-right mojo-field-type-positive_integer\">3</td><td class=\"a-text-right mojo-field-type-money mojo-estimatable\">$6,517</td><td class=\"a-text-left mojo-field-type-date a-nowrap\">Dec 13</td><td class=\"a-text-left mojo-field-type-studio\"><a class=\"a-link-normal\" href=\"https://pro.imdb.com/company/co0034057/boxoffice/?view=releases&amp;ref_=mojo_yld_table_259&amp;rf=mojo_yld_table_259\" rel=\"noopener\" target=\"_blank\">Indican Pictures<svg class=\"mojo-new-window-svg\" viewBox=\"0 0 32 32\" xmlns=\"http://www.w3.org/2000/svg\">\n",
       "        <path d=\"M24,15.57251l3,3V23.5A3.50424,3.50424,0,0,1,23.5,27H8.5A3.50424,3.50424,0,0,1,5,23.5V8.5A3.50424,3.50424,0,0,1,8.5,5h4.92755l3,3H8.5a.50641.50641,0,0,0-.5.5v15a.50641.50641,0,0,0,.5.5h15a.50641.50641,0,0,0,.5-.5ZM19.81952,8.56372,12.8844,17.75a.49989.49989,0,0,0,.04547.65479l.66534.66528a.49983.49983,0,0,0,.65479.04553l9.18628-6.93518,2.12579,2.12585a.5.5,0,0,0,.84741-.27526l1.48273-9.35108a.50006.50006,0,0,0-.57214-.57214L17.969,5.59058a.5.5,0,0,0-.27526.84741Z\"></path>\n",
       "    </svg></a></td><td class=\"a-text-right mojo-field-type-boolean hidden\">false</td></tr><tr><td class=\"a-text-right mojo-header-column mojo-truncate mojo-field-type-rank mojo-sort-column\">260</td><td class=\"a-text-left mojo-field-type-release mojo-cell-wide\"><a class=\"a-link-normal\" href=\"/release/rl1795917313/?ref_=bo_yld_table_260\">A German Youth</a></td><td class=\"a-text-left mojo-field-type-genre hidden\">-</td><td class=\"a-text-right mojo-field-type-money hidden\">-</td><td class=\"a-text-right mojo-field-type-duration hidden\">-</td><td class=\"a-text-right mojo-field-type-money mojo-estimatable\">$509</td><td class=\"a-text-right mojo-field-type-positive_integer\">1</td><td class=\"a-text-right mojo-field-type-money mojo-estimatable\">$2,343</td><td class=\"a-text-left mojo-field-type-date a-nowrap\">Oct 11</td><td class=\"a-text-left mojo-field-type-studio\"><a class=\"a-link-normal\" href=\"https://pro.imdb.com/company/co0351857/boxoffice/?view=releases&amp;ref_=mojo_yld_table_260&amp;rf=mojo_yld_table_260\" rel=\"noopener\" target=\"_blank\">Big World Pictures<svg class=\"mojo-new-window-svg\" viewBox=\"0 0 32 32\" xmlns=\"http://www.w3.org/2000/svg\">\n",
       "        <path d=\"M24,15.57251l3,3V23.5A3.50424,3.50424,0,0,1,23.5,27H8.5A3.50424,3.50424,0,0,1,5,23.5V8.5A3.50424,3.50424,0,0,1,8.5,5h4.92755l3,3H8.5a.50641.50641,0,0,0-.5.5v15a.50641.50641,0,0,0,.5.5h15a.50641.50641,0,0,0,.5-.5ZM19.81952,8.56372,12.8844,17.75a.49989.49989,0,0,0,.04547.65479l.66534.66528a.49983.49983,0,0,0,.65479.04553l9.18628-6.93518,2.12579,2.12585a.5.5,0,0,0,.84741-.27526l1.48273-9.35108a.50006.50006,0,0,0-.57214-.57214L17.969,5.59058a.5.5,0,0,0-.27526.84741Z\"></path>\n",
       "    </svg></a></td><td class=\"a-text-right mojo-field-type-boolean hidden\">false</td></tr><tr><td class=\"a-text-right mojo-header-column mojo-truncate mojo-field-type-rank mojo-sort-column\">261</td><td class=\"a-text-left mojo-field-type-release mojo-cell-wide\"><a class=\"a-link-normal\" href=\"/release/rl2231928321/?ref_=bo_yld_table_261\">Hyenas</a></td><td class=\"a-text-left mojo-field-type-genre hidden\">-</td><td class=\"a-text-right mojo-field-type-money hidden\">-</td><td class=\"a-text-right mojo-field-type-duration hidden\">-</td><td class=\"a-text-right mojo-field-type-money mojo-estimatable\">$400</td><td class=\"a-text-right mojo-field-type-positive_integer\">4</td><td class=\"a-text-right mojo-field-type-money mojo-estimatable\">$24,672</td><td class=\"a-text-left mojo-field-type-date a-nowrap\">Apr 19</td><td class=\"a-text-left mojo-field-type-studio\"><a class=\"a-link-normal\" href=\"https://pro.imdb.com/company/co0730656/boxoffice/?view=releases&amp;ref_=mojo_yld_table_261&amp;rf=mojo_yld_table_261\" rel=\"noopener\" target=\"_blank\">Metrograph Pictures<svg class=\"mojo-new-window-svg\" viewBox=\"0 0 32 32\" xmlns=\"http://www.w3.org/2000/svg\">\n",
       "        <path d=\"M24,15.57251l3,3V23.5A3.50424,3.50424,0,0,1,23.5,27H8.5A3.50424,3.50424,0,0,1,5,23.5V8.5A3.50424,3.50424,0,0,1,8.5,5h4.92755l3,3H8.5a.50641.50641,0,0,0-.5.5v15a.50641.50641,0,0,0,.5.5h15a.50641.50641,0,0,0,.5-.5ZM19.81952,8.56372,12.8844,17.75a.49989.49989,0,0,0,.04547.65479l.66534.66528a.49983.49983,0,0,0,.65479.04553l9.18628-6.93518,2.12579,2.12585a.5.5,0,0,0,.84741-.27526l1.48273-9.35108a.50006.50006,0,0,0-.57214-.57214L17.969,5.59058a.5.5,0,0,0-.27526.84741Z\"></path>\n",
       "    </svg></a></td><td class=\"a-text-right mojo-field-type-boolean hidden\">false</td></tr><tr><td class=\"a-text-right mojo-header-column mojo-truncate mojo-field-type-rank mojo-sort-column\">262</td><td class=\"a-text-left mojo-field-type-release mojo-cell-wide\"><a class=\"a-link-normal\" href=\"/release/rl375293441/?ref_=bo_yld_table_262\">Island of Lemurs: Madagascar</a></td><td class=\"a-text-left mojo-field-type-genre hidden\">-</td><td class=\"a-text-right mojo-field-type-money hidden\">-</td><td class=\"a-text-right mojo-field-type-duration hidden\">-</td><td class=\"a-text-right mojo-field-type-money mojo-estimatable\">$374</td><td class=\"a-text-right mojo-field-type-positive_integer\">302</td><td class=\"a-text-right mojo-field-type-money mojo-estimatable\">$11,272,213</td><td class=\"a-text-left mojo-field-type-date a-nowrap\">Apr 4</td><td class=\"a-text-left mojo-field-type-studio\"><a class=\"a-link-normal\" href=\"https://pro.imdb.com/company/co0002663/boxoffice/?view=releases&amp;ref_=mojo_yld_table_262&amp;rf=mojo_yld_table_262\" rel=\"noopener\" target=\"_blank\">Warner Bros.<svg class=\"mojo-new-window-svg\" viewBox=\"0 0 32 32\" xmlns=\"http://www.w3.org/2000/svg\">\n",
       "        <path d=\"M24,15.57251l3,3V23.5A3.50424,3.50424,0,0,1,23.5,27H8.5A3.50424,3.50424,0,0,1,5,23.5V8.5A3.50424,3.50424,0,0,1,8.5,5h4.92755l3,3H8.5a.50641.50641,0,0,0-.5.5v15a.50641.50641,0,0,0,.5.5h15a.50641.50641,0,0,0,.5-.5ZM19.81952,8.56372,12.8844,17.75a.49989.49989,0,0,0,.04547.65479l.66534.66528a.49983.49983,0,0,0,.65479.04553l9.18628-6.93518,2.12579,2.12585a.5.5,0,0,0,.84741-.27526l1.48273-9.35108a.50006.50006,0,0,0-.57214-.57214L17.969,5.59058a.5.5,0,0,0-.27526.84741Z\"></path>\n",
       "    </svg></a></td><td class=\"a-text-right mojo-field-type-boolean hidden\">false</td></tr><tr><td class=\"a-text-right mojo-header-column mojo-truncate mojo-field-type-rank mojo-sort-column\">263</td><td class=\"a-text-left mojo-field-type-release mojo-cell-wide\"><a class=\"a-link-normal\" href=\"/release/rl3876095489/?ref_=bo_yld_table_263\">I Do Not Care If We Go Down in History as Barbarians</a></td><td class=\"a-text-left mojo-field-type-genre hidden\">-</td><td class=\"a-text-right mojo-field-type-money hidden\">-</td><td class=\"a-text-right mojo-field-type-duration hidden\">-</td><td class=\"a-text-right mojo-field-type-money mojo-estimatable\">$293</td><td class=\"a-text-right mojo-field-type-positive_integer\">2</td><td class=\"a-text-right mojo-field-type-money mojo-estimatable\">$11,307</td><td class=\"a-text-left mojo-field-type-date a-nowrap\">Jul 19</td><td class=\"a-text-left mojo-field-type-studio\"><a class=\"a-link-normal\" href=\"https://pro.imdb.com/company/co0351857/boxoffice/?view=releases&amp;ref_=mojo_yld_table_263&amp;rf=mojo_yld_table_263\" rel=\"noopener\" target=\"_blank\">Big World Pictures<svg class=\"mojo-new-window-svg\" viewBox=\"0 0 32 32\" xmlns=\"http://www.w3.org/2000/svg\">\n",
       "        <path d=\"M24,15.57251l3,3V23.5A3.50424,3.50424,0,0,1,23.5,27H8.5A3.50424,3.50424,0,0,1,5,23.5V8.5A3.50424,3.50424,0,0,1,8.5,5h4.92755l3,3H8.5a.50641.50641,0,0,0-.5.5v15a.50641.50641,0,0,0,.5.5h15a.50641.50641,0,0,0,.5-.5ZM19.81952,8.56372,12.8844,17.75a.49989.49989,0,0,0,.04547.65479l.66534.66528a.49983.49983,0,0,0,.65479.04553l9.18628-6.93518,2.12579,2.12585a.5.5,0,0,0,.84741-.27526l1.48273-9.35108a.50006.50006,0,0,0-.57214-.57214L17.969,5.59058a.5.5,0,0,0-.27526.84741Z\"></path>\n",
       "    </svg></a></td><td class=\"a-text-right mojo-field-type-boolean hidden\">false</td></tr><tr><td class=\"a-text-right mojo-header-column mojo-truncate mojo-field-type-rank mojo-sort-column\">264</td><td class=\"a-text-left mojo-field-type-release mojo-cell-wide\"><a class=\"a-link-normal\" href=\"/release/rl1460372993/?ref_=bo_yld_table_264\">The Load</a></td><td class=\"a-text-left mojo-field-type-genre hidden\">-</td><td class=\"a-text-right mojo-field-type-money hidden\">-</td><td class=\"a-text-right mojo-field-type-duration hidden\">-</td><td class=\"a-text-right mojo-field-type-money mojo-estimatable\">$292</td><td class=\"a-text-right mojo-field-type-positive_integer\">2</td><td class=\"a-text-right mojo-field-type-money mojo-estimatable\">$28,410</td><td class=\"a-text-left mojo-field-type-date a-nowrap\">Aug 30</td><td class=\"a-text-left mojo-field-type-studio\"><a class=\"a-link-normal\" href=\"https://pro.imdb.com/company/co0575901/boxoffice/?view=releases&amp;ref_=mojo_yld_table_264&amp;rf=mojo_yld_table_264\" rel=\"noopener\" target=\"_blank\">Grasshopper Film<svg class=\"mojo-new-window-svg\" viewBox=\"0 0 32 32\" xmlns=\"http://www.w3.org/2000/svg\">\n",
       "        <path d=\"M24,15.57251l3,3V23.5A3.50424,3.50424,0,0,1,23.5,27H8.5A3.50424,3.50424,0,0,1,5,23.5V8.5A3.50424,3.50424,0,0,1,8.5,5h4.92755l3,3H8.5a.50641.50641,0,0,0-.5.5v15a.50641.50641,0,0,0,.5.5h15a.50641.50641,0,0,0,.5-.5ZM19.81952,8.56372,12.8844,17.75a.49989.49989,0,0,0,.04547.65479l.66534.66528a.49983.49983,0,0,0,.65479.04553l9.18628-6.93518,2.12579,2.12585a.5.5,0,0,0,.84741-.27526l1.48273-9.35108a.50006.50006,0,0,0-.57214-.57214L17.969,5.59058a.5.5,0,0,0-.27526.84741Z\"></path>\n",
       "    </svg></a></td><td class=\"a-text-right mojo-field-type-boolean hidden\">false</td></tr><tr><td class=\"a-text-right mojo-header-column mojo-truncate mojo-field-type-rank mojo-sort-column\">265</td><td class=\"a-text-left mojo-field-type-release mojo-cell-wide\"><a class=\"a-link-normal\" href=\"/release/rl1359513089/?ref_=bo_yld_table_265\">Asako I &amp; II</a></td><td class=\"a-text-left mojo-field-type-genre hidden\">-</td><td class=\"a-text-right mojo-field-type-money hidden\">-</td><td class=\"a-text-right mojo-field-type-duration hidden\">-</td><td class=\"a-text-right mojo-field-type-money mojo-estimatable\">$231</td><td class=\"a-text-right mojo-field-type-positive_integer\">3</td><td class=\"a-text-right mojo-field-type-money mojo-estimatable\">$25,559</td><td class=\"a-text-left mojo-field-type-date a-nowrap\">May 17</td><td class=\"a-text-left mojo-field-type-studio\"><a class=\"a-link-normal\" href=\"https://pro.imdb.com/company/co0575901/boxoffice/?view=releases&amp;ref_=mojo_yld_table_265&amp;rf=mojo_yld_table_265\" rel=\"noopener\" target=\"_blank\">Grasshopper Film<svg class=\"mojo-new-window-svg\" viewBox=\"0 0 32 32\" xmlns=\"http://www.w3.org/2000/svg\">\n",
       "        <path d=\"M24,15.57251l3,3V23.5A3.50424,3.50424,0,0,1,23.5,27H8.5A3.50424,3.50424,0,0,1,5,23.5V8.5A3.50424,3.50424,0,0,1,8.5,5h4.92755l3,3H8.5a.50641.50641,0,0,0-.5.5v15a.50641.50641,0,0,0,.5.5h15a.50641.50641,0,0,0,.5-.5ZM19.81952,8.56372,12.8844,17.75a.49989.49989,0,0,0,.04547.65479l.66534.66528a.49983.49983,0,0,0,.65479.04553l9.18628-6.93518,2.12579,2.12585a.5.5,0,0,0,.84741-.27526l1.48273-9.35108a.50006.50006,0,0,0-.57214-.57214L17.969,5.59058a.5.5,0,0,0-.27526.84741Z\"></path>\n",
       "    </svg></a></td><td class=\"a-text-right mojo-field-type-boolean hidden\">false</td></tr><tr><td class=\"a-text-right mojo-header-column mojo-truncate mojo-field-type-rank mojo-sort-column\">266</td><td class=\"a-text-left mojo-field-type-release mojo-cell-wide\"><a class=\"a-link-normal\" href=\"/release/rl1292600833/?ref_=bo_yld_table_266\">Chained for Life</a></td><td class=\"a-text-left mojo-field-type-genre hidden\">-</td><td class=\"a-text-right mojo-field-type-money hidden\">-</td><td class=\"a-text-right mojo-field-type-duration hidden\">-</td><td class=\"a-text-right mojo-field-type-money mojo-estimatable\">$115</td><td class=\"a-text-right mojo-field-type-positive_integer\">3</td><td class=\"a-text-right mojo-field-type-money mojo-estimatable\">$17,431</td><td class=\"a-text-left mojo-field-type-date a-nowrap\">Sep 13</td><td class=\"a-text-left mojo-field-type-studio\"><a class=\"a-link-normal\" href=\"https://pro.imdb.com/company/co0047947/boxoffice/?view=releases&amp;ref_=mojo_yld_table_266&amp;rf=mojo_yld_table_266\" rel=\"noopener\" target=\"_blank\">Kino International<svg class=\"mojo-new-window-svg\" viewBox=\"0 0 32 32\" xmlns=\"http://www.w3.org/2000/svg\">\n",
       "        <path d=\"M24,15.57251l3,3V23.5A3.50424,3.50424,0,0,1,23.5,27H8.5A3.50424,3.50424,0,0,1,5,23.5V8.5A3.50424,3.50424,0,0,1,8.5,5h4.92755l3,3H8.5a.50641.50641,0,0,0-.5.5v15a.50641.50641,0,0,0,.5.5h15a.50641.50641,0,0,0,.5-.5ZM19.81952,8.56372,12.8844,17.75a.49989.49989,0,0,0,.04547.65479l.66534.66528a.49983.49983,0,0,0,.65479.04553l9.18628-6.93518,2.12579,2.12585a.5.5,0,0,0,.84741-.27526l1.48273-9.35108a.50006.50006,0,0,0-.57214-.57214L17.969,5.59058a.5.5,0,0,0-.27526.84741Z\"></path>\n",
       "    </svg></a></td><td class=\"a-text-right mojo-field-type-boolean hidden\">false</td></tr><tr><td class=\"a-text-right mojo-header-column mojo-truncate mojo-field-type-rank mojo-sort-column\">267</td><td class=\"a-text-left mojo-field-type-release mojo-cell-wide\"><a class=\"a-link-normal\" href=\"/release/rl2366342657/?ref_=bo_yld_table_267\">Shooting the Mafia</a></td><td class=\"a-text-left mojo-field-type-genre hidden\">-</td><td class=\"a-text-right mojo-field-type-money hidden\">-</td><td class=\"a-text-right mojo-field-type-duration hidden\">-</td><td class=\"a-text-right mojo-field-type-money mojo-estimatable\">$88</td><td class=\"a-text-right mojo-field-type-positive_integer\">3</td><td class=\"a-text-right mojo-field-type-money mojo-estimatable\">$10,881</td><td class=\"a-text-left mojo-field-type-date a-nowrap\">Nov 22</td><td class=\"a-text-left mojo-field-type-studio\"><a class=\"a-link-normal\" href=\"https://pro.imdb.com/company/co0243890/boxoffice/?view=releases&amp;ref_=mojo_yld_table_267&amp;rf=mojo_yld_table_267\" rel=\"noopener\" target=\"_blank\">Cohen Media Group<svg class=\"mojo-new-window-svg\" viewBox=\"0 0 32 32\" xmlns=\"http://www.w3.org/2000/svg\">\n",
       "        <path d=\"M24,15.57251l3,3V23.5A3.50424,3.50424,0,0,1,23.5,27H8.5A3.50424,3.50424,0,0,1,5,23.5V8.5A3.50424,3.50424,0,0,1,8.5,5h4.92755l3,3H8.5a.50641.50641,0,0,0-.5.5v15a.50641.50641,0,0,0,.5.5h15a.50641.50641,0,0,0,.5-.5ZM19.81952,8.56372,12.8844,17.75a.49989.49989,0,0,0,.04547.65479l.66534.66528a.49983.49983,0,0,0,.65479.04553l9.18628-6.93518,2.12579,2.12585a.5.5,0,0,0,.84741-.27526l1.48273-9.35108a.50006.50006,0,0,0-.57214-.57214L17.969,5.59058a.5.5,0,0,0-.27526.84741Z\"></path>\n",
       "    </svg></a></td><td class=\"a-text-right mojo-field-type-boolean hidden\">false</td></tr></tbody></table>"
      ]
     },
     "execution_count": 79,
     "metadata": {},
     "output_type": "execute_result"
    }
   ],
   "source": [
    "table = soup.find('table')\n",
    "table"
   ]
  },
  {
   "cell_type": "code",
   "execution_count": 80,
   "metadata": {},
   "outputs": [],
   "source": [
    "rows = [row for row in table.find_all('tr')]  # tr tag is for rows"
   ]
  },
  {
   "cell_type": "markdown",
   "metadata": {},
   "source": [
    "Each row contains the information we want but requires more parsing."
   ]
  },
  {
   "cell_type": "code",
   "execution_count": 81,
   "metadata": {},
   "outputs": [
    {
     "data": {
      "text/plain": [
       "<tr><td class=\"a-text-right mojo-header-column mojo-truncate mojo-field-type-rank mojo-sort-column\">1</td><td class=\"a-text-left mojo-field-type-release mojo-cell-wide\"><a class=\"a-link-normal\" href=\"/release/rl1182631425/?ref_=bo_yld_table_1\">Bad Boys for Life</a></td><td class=\"a-text-left mojo-field-type-genre hidden\">-</td><td class=\"a-text-right mojo-field-type-money hidden\">-</td><td class=\"a-text-right mojo-field-type-duration hidden\">-</td><td class=\"a-text-right mojo-field-type-money mojo-estimatable\">$204,417,855</td><td class=\"a-text-right mojo-field-type-positive_integer\">3,775</td><td class=\"a-text-right mojo-field-type-money mojo-estimatable\">$204,417,855</td><td class=\"a-text-left mojo-field-type-date a-nowrap\">Jan 17</td><td class=\"a-text-left mojo-field-type-studio\">-</td><td class=\"a-text-right mojo-field-type-boolean hidden\">false</td></tr>"
      ]
     },
     "execution_count": 81,
     "metadata": {},
     "output_type": "execute_result"
    }
   ],
   "source": [
    "rows[1]"
   ]
  },
  {
   "cell_type": "code",
   "execution_count": 82,
   "metadata": {},
   "outputs": [],
   "source": [
    "# query = \"official trailer 2020\"\n",
    "# youtube_search = \"https://www.youtube.com/results?search_query=\"\n",
    "# youtube_query = youtube_search + query.replace(' ', '+')\n",
    "\n",
    "# page = requests.get(youtube_query).text\n",
    "# soup = BeautifulSoup(page, 'html5lib')\n",
    "\n",
    "# driver = webdriver.Chrome(chromedriver)\n",
    "# driver.get(youtube_query)\n",
    "\n",
    "# driver.page_source[:1000]\n",
    "# soup = BeautifulSoup(driver.page_source, 'html.parser')\n",
    "# soup.find('div', id='contents').prettify()"
   ]
  },
  {
   "cell_type": "markdown",
   "metadata": {},
   "source": [
    "Remember: you can chain methods together to look for information!"
   ]
  },
  {
   "cell_type": "code",
   "execution_count": 83,
   "metadata": {},
   "outputs": [
    {
     "data": {
      "text/plain": [
       "['Bad Boys for Life',\n",
       " '1917',\n",
       " 'Sonic the Hedgehog',\n",
       " 'Jumanji: The Next Level',\n",
       " 'Star Wars: Episode IX - The Rise of Skywalker',\n",
       " 'Birds of Prey: And the Fantabulous Emancipation of One Harley Quinn',\n",
       " 'Dolittle',\n",
       " 'Little Women',\n",
       " 'The Invisible Man',\n",
       " 'The Call of the Wild',\n",
       " 'Onward',\n",
       " 'Knives Out',\n",
       " 'Frozen II',\n",
       " 'Spies in Disguise',\n",
       " 'The Gentlemen',\n",
       " 'Just Mercy',\n",
       " 'Parasite',\n",
       " 'Fantasy Island',\n",
       " 'Uncut Gems',\n",
       " 'Like a Boss',\n",
       " 'The Grudge',\n",
       " 'The Photograph',\n",
       " 'Underwater',\n",
       " 'The Turning',\n",
       " 'Gretel & Hansel',\n",
       " 'My Hero Academia: Heroes Rising',\n",
       " 'Bombshell',\n",
       " 'The Way Back',\n",
       " 'Brahms: The Boy II',\n",
       " 'Jojo Rabbit',\n",
       " 'Impractical Jokers: The Movie',\n",
       " 'Ford v Ferrari',\n",
       " 'Emma.',\n",
       " 'Bloodshot',\n",
       " 'I Still Believe',\n",
       " 'Downhill',\n",
       " 'Weathering with You',\n",
       " 'Cats',\n",
       " 'The Hunt',\n",
       " 'The Rhythm Section',\n",
       " 'A Beautiful Day in the Neighborhood',\n",
       " 'Richard Jewell',\n",
       " 'Portrait of a Lady on Fire',\n",
       " '2020 Oscar Nominated Short Films',\n",
       " 'Queen & Slim',\n",
       " 'Las Pildoras De Mi Novio',\n",
       " 'The Last Full Measure',\n",
       " 'Ip Man 4: The Finale',\n",
       " 'The Wretched',\n",
       " 'Joker',\n",
       " 'The Lodge',\n",
       " 'Once Upon a Time... in Hollywood',\n",
       " 'The Assistant',\n",
       " 'The Song of Names',\n",
       " 'Becky',\n",
       " 'Mafia Inc',\n",
       " 'Jay and Silent Bob Reboot',\n",
       " 'A Hidden Life',\n",
       " 'Sarileru Neekevvaru',\n",
       " '21 Bridges',\n",
       " 'Baaghi 3',\n",
       " 'Patterns of Evidence: The Red Sea Miracle',\n",
       " 'Pain and Glory',\n",
       " 'Merci pour tout',\n",
       " 'Maleficent: Mistress of Evil',\n",
       " 'Chhapaak',\n",
       " 'Panga',\n",
       " 'Midway',\n",
       " 'Black Christmas',\n",
       " 'Color Out of Space',\n",
       " 'Harriet',\n",
       " 'The Addams Family',\n",
       " 'Dark Waters',\n",
       " 'Once Were Brothers: Robbie Robertson and the Band',\n",
       " 'Seberg',\n",
       " 'Followed',\n",
       " 'Fantastic Fungi',\n",
       " 'Infamous',\n",
       " 'Greed',\n",
       " 'Ride Your Wave',\n",
       " 'Les Misérables',\n",
       " 'Clemency',\n",
       " 'Ordinary Love',\n",
       " 'Playing with Fire',\n",
       " 'Judy',\n",
       " 'The Traitor',\n",
       " 'Mystify: Michael Hutchence',\n",
       " 'Created Equal: Clarence Thomas in His Own Words',\n",
       " 'An American in Paris2020 Re-release',\n",
       " '63 Up',\n",
       " 'Tokyo Godfathers2020 Re-release',\n",
       " 'Blind Eyes Opened',\n",
       " 'Doctor Who Live Q&A And Screening',\n",
       " 'Relic',\n",
       " 'CatVideoFest 2020',\n",
       " 'Ashfall',\n",
       " 'National Theater Live: Cyrano de Bergerac',\n",
       " 'Zombieland: Double Tap',\n",
       " 'Cunningham',\n",
       " 'The Doors: Break On Thru - A Celebration Of Ray Manzarek',\n",
       " 'The Good Liar',\n",
       " 'And Then We Danced',\n",
       " 'Beanpole',\n",
       " 'Extra Ordinary',\n",
       " 'Love Story50th Anniversary',\n",
       " 'Wendy',\n",
       " 'Incitement',\n",
       " 'Burden',\n",
       " 'Beneath Us',\n",
       " 'The Times of Bill Cunningham',\n",
       " 'No Safe Spaces',\n",
       " '14 Days, 12 Nights',\n",
       " 'Invisible Life',\n",
       " 'The Man Standing Next',\n",
       " 'Corpus Christi',\n",
       " 'Hope Gap',\n",
       " 'Citizen K',\n",
       " 'First Cow',\n",
       " 'The Woman Who Loves Giraffes',\n",
       " 'Come to Daddy',\n",
       " 'The Lighthouse',\n",
       " 'First Lady',\n",
       " 'Honeyland',\n",
       " 'Riverdance 25th Anniversary Show',\n",
       " 'StarDog and TurboCat',\n",
       " 'Honey Boy',\n",
       " 'Come and See2020 Re-release',\n",
       " 'How to Build a Girl',\n",
       " 'Miss Juneteenth',\n",
       " 'Chal Mera Putt 2',\n",
       " 'Waves',\n",
       " 'We Summon the Darkness',\n",
       " 'Varda by Agnès',\n",
       " 'The Whistlers',\n",
       " 'A Simple Wedding',\n",
       " 'Miss Fisher and the Crypt of Tears(special screenings)',\n",
       " 'The Wonderland',\n",
       " 'VHYes',\n",
       " \"Charlie's Angels\",\n",
       " 'Enter the Fat Dragon',\n",
       " 'Saint Frances',\n",
       " 'The Burnt Orange Heresy',\n",
       " 'Doctor Sleep',\n",
       " 'The White Sheik2019 re-release',\n",
       " 'Abominable',\n",
       " 'Three Christs',\n",
       " 'Last Christmas',\n",
       " 'True History of the Kelly Gang',\n",
       " 'Play the Flute',\n",
       " 'Swallow',\n",
       " \"Nick Mason's Saucerful of Secrets: Live at the Roundhouse\",\n",
       " 'After Parkland',\n",
       " 'Olympic Dreams',\n",
       " 'Buffaloed',\n",
       " 'Bacurau',\n",
       " 'Countdown',\n",
       " 'Cane River2020 Re-release',\n",
       " 'Midnight Family',\n",
       " 'José',\n",
       " 'Synonyms',\n",
       " 'The Booksellers',\n",
       " 'Promare',\n",
       " 'Unsubscribe',\n",
       " 'Disappearance at Clifton Hill',\n",
       " 'Zombi Child',\n",
       " 'Heart of Africa',\n",
       " 'Born to Be Wild',\n",
       " 'Tread',\n",
       " \"Branagh Theatre Live: The Winter's Tale\",\n",
       " 'Phoenix, OregonRe-release',\n",
       " 'Premature',\n",
       " \"L'Innocente2020 Re-release\",\n",
       " 'Recorder: The Marion Stokes Project',\n",
       " 'Les Misérables: The Staged Concert',\n",
       " 'The Cordillera of Dreams',\n",
       " 'Lore',\n",
       " 'Max Winslow and the House of Secrets',\n",
       " 'The Jesus Rolls',\n",
       " 'Sorry We Missed You',\n",
       " 'Downtown 812019 Re-release',\n",
       " 'Pandora and the Flying Dutchman2020 Re-release',\n",
       " 'Made in Hong Kong2020 Re-release',\n",
       " 'Never Rarely Sometimes Always',\n",
       " 'Advocate',\n",
       " 'A Beautiful Planet',\n",
       " 'I Was at Home, But',\n",
       " 'Strike',\n",
       " 'The Cave',\n",
       " 'The Kingmaker',\n",
       " 'Redoubt',\n",
       " 'Young AhmedDomestic',\n",
       " 'Linda Ronstadt: The Sound of My Voice',\n",
       " 'Straight Up',\n",
       " 'Ballon',\n",
       " 'The Wild Goose Lake',\n",
       " 'You Go to My Head',\n",
       " 'Playmobil: The Movie',\n",
       " 'Vitalina Varela',\n",
       " 'Foosballers',\n",
       " 'The Perfect Race',\n",
       " 'Under the Sea 3D',\n",
       " 'Kind Hearts and Coronets2019 Re-release',\n",
       " 'The Trip to Greece',\n",
       " 'Inside the Rain',\n",
       " 'The Wave',\n",
       " 'Black and Blue',\n",
       " 'American Dharma',\n",
       " 'Resistance',\n",
       " 'Circles',\n",
       " 'Afterward',\n",
       " 'Juvenile Delinquents',\n",
       " 'By the Grace of God',\n",
       " 'Hubble 3D',\n",
       " 'The Other Lamb',\n",
       " 'Human Nature',\n",
       " 'Matthias & Maxime',\n",
       " 'Que Leones',\n",
       " 'The Disappearance of My Mother',\n",
       " 'Sympathy for the Devil',\n",
       " 'Tremors',\n",
       " 'Blood Widow',\n",
       " 'Just One More Kiss',\n",
       " 'Give Me Liberty',\n",
       " 'Babyteeth',\n",
       " 'Deep Sea',\n",
       " 'Lost in America',\n",
       " 'Stuffed',\n",
       " 'Maiden',\n",
       " 'Aquarela',\n",
       " 'A Bigger Splash2019 Re-release',\n",
       " 'The Roads Not Taken',\n",
       " 'Mr. KleinRe-release',\n",
       " 'Ága',\n",
       " 'The Hottest August',\n",
       " 'Killing Sarai',\n",
       " 'Chinese Portrait',\n",
       " 'Hustlers',\n",
       " 'Sex and the Future',\n",
       " 'Powerbomb',\n",
       " 'Light from Light',\n",
       " 'Moondance',\n",
       " 'Goldie',\n",
       " 'The Truth',\n",
       " 'Duet for Cannibals2019 re-release',\n",
       " 'Little Joe',\n",
       " 'Frankie',\n",
       " 'Christ Stopped at Eboli',\n",
       " 'To the Arctic 3D',\n",
       " 'Be Natural: The Untold Story of Alice Guy-Blaché',\n",
       " 'Edie',\n",
       " 'End of the Century',\n",
       " 'Space Station 3D',\n",
       " 'Hai Tang Hong',\n",
       " 'The Gliksmans',\n",
       " \"King's Gambit\",\n",
       " 'The Fox Hunter',\n",
       " 'Millennium Actress2019 Re-release',\n",
       " 'The Transcendents',\n",
       " 'Spiral Farm',\n",
       " 'A German Youth',\n",
       " 'Hyenas',\n",
       " 'Island of Lemurs: Madagascar',\n",
       " 'I Do Not Care If We Go Down in History as Barbarians',\n",
       " 'The Load',\n",
       " 'Asako I & II',\n",
       " 'Chained for Life']"
      ]
     },
     "execution_count": 83,
     "metadata": {},
     "output_type": "execute_result"
    }
   ],
   "source": [
    "# rows[1].find_all('td')[0].find('a')['href']\n",
    "releases = soup.find_all(class_='mojo-field-type-release')\n",
    "\n",
    "movie_titles = []\n",
    "\n",
    "for release in releases:\n",
    "    movie_titles.append(release.get_text())\n",
    "    \n",
    "movie_titles = movie_titles[1:-1]\n",
    "movie_titles"
   ]
  },
  {
   "cell_type": "code",
   "execution_count": 84,
   "metadata": {},
   "outputs": [
    {
     "name": "stdout",
     "output_type": "stream",
     "text": [
      "['$204,417,855', '$157,901,466', '$146,066,470', '$124,736,710', '$124,496,308', '$84,158,461', '$77,047,065', '$70,508,087', '$64,914,050', '$62,342,368', '$61,555,145', '$49,651,655', '$47,228,896', '$37,433,325', '$36,296,455', '$35,733,621', '$30,736,060', '$26,441,782', '$25,789,956', '$22,169,514', '$21,221,803', '$20,578,185', '$17,291,078', '$15,472,775', '$15,347,654', '$13,651,826', '$13,644,923', '$13,590,514', '$12,611,536', '$12,311,180', '$10,466,091', '$10,427,913', '$10,055,355', '$10,021,787', '$9,868,521', '$8,287,061', '$7,798,743', '$7,196,675', '$5,812,500', '$5,437,971', '$4,997,062', '$4,523,325', '$3,641,251', '$3,306,611', '$3,089,365', '$2,971,116', '$2,949,212', '$2,180,071', '$1,687,715', '$1,678,800', '$1,666,564', '$1,425,760', '$1,100,313', '$983,357', '$900,283', '$889,863', '$857,744', '$853,047', '$821,000', '$792,488', '$721,439', '$696,191', '$693,609', '$636,925', '$634,868', '$604,334', '$582,720', '$567,638', '$562,060', '$541,918', '$534,455', '$528,320', '$502,205', '$449,561', '$434,702', '$432,689', '$429,446', '$427,407', '$355,308', '$332,432', '$330,181', '$323,980', '$323,688', '$300,460', '$296,343', '$296,027', '$289,573', '$282,149', '$267,824', '$238,204', '$237,581', '$234,505', '$228,615', '$227,401', '$219,698', '$199,575', '$198,352', '$192,926', '$190,635', '$189,771', '$182,779', '$177,262', '$173,162', '$164,346', '$153,504', '$143,518', '$140,306', '$139,270', '$137,260', '$134,288', '$132,155', '$122,530', '$122,316', '$112,915', '$110,430', '$104,732', '$102,707', '$101,068', '$97,386', '$96,713', '$94,580', '$93,298', '$82,132', '$81,879', '$80,323', '$72,623', '$71,909', '$70,632', '$70,224', '$65,000', '$62,244', '$60,794', '$56,393', '$55,608', '$54,415', '$51,032', '$50,876', '$47,037', '$46,677', '$44,604', '$44,330', '$39,893', '$38,615', '$38,466', '$37,125', '$36,723', '$34,300', '$33,817', '$33,588', '$33,419', '$32,444', '$30,444', '$29,450', '$29,118', '$27,634', '$27,397', '$27,317', '$26,773', '$26,563', '$26,181', '$25,694', '$25,615', '$25,488', '$25,084', '$24,253', '$24,139', '$24,051', '$24,000', '$23,934', '$23,613', '$23,071', '$22,549', '$21,719', '$21,267', '$20,943', '$20,006', '$18,750', '$18,169', '$17,836', '$17,739', '$17,401', '$17,255', '$16,565', '$15,841', '$14,951', '$14,078', '$13,902', '$12,658', '$12,639', '$12,275', '$12,182', '$12,148', '$12,026', '$11,913', '$11,067', '$10,682', '$10,525', '$10,329', '$9,966', '$9,835', '$9,462', '$8,425', '$8,340', '$8,140', '$8,101', '$7,807', '$7,513', '$7,464', '$6,967', '$6,477', '$6,312', '$6,306', '$6,068', '$6,024', '$5,487', '$5,376', '$5,371', '$5,251', '$5,223', '$5,047', '$5,035', '$4,900', '$4,603', '$4,507', '$4,205', '$4,075', '$3,939', '$3,817', '$3,706', '$3,610', '$3,518', '$3,310', '$3,091', '$3,034', '$3,001', '$2,982', '$2,955', '$2,716', '$2,607', '$2,472', '$2,371', '$2,302', '$2,256', '$2,060', '$1,914', '$1,912', '$1,893', '$1,867', '$1,769', '$1,652', '$1,429', '$1,394', '$1,107', '$1,086', '$876', '$858', '$578', '$564', '$537', '$509', '$400', '$374', '$293', '$292', '$231', '$115', '$88']\n",
      "['$204,417,855', '$159,227,644', '$146,066,470', '$316,831,246', '$515,202,542', '$84,158,461', '$77,047,065', '$108,101,214', '$64,914,050', '$62,342,368', '$61,555,145', '$165,363,234', '$477,373,578', '$66,757,013', '$36,296,853', '$36,001,502', '$53,369,749', '$26,441,782', '$50,023,780', '$22,169,514', '$21,221,803', '$20,578,185', '$17,291,078', '$15,472,775', '$15,347,654', '$13,304,000', '$31,762,808', '$13,590,514', '$12,611,536', '$33,370,906', '$10,691,091', '$117,624,357', '$10,055,355', '$10,021,787', '$9,868,521', '$8,287,061', '$7,798,743', '$27,166,770', '$5,812,500', '$5,437,971', '$61,704,055', '$22,345,542', '$3,759,854', '$3,306,611', '$43,808,310', '$2,971,116', '$2,949,212', '$3,956,031', '$1,688,100', '$335,451,311', '$1,666,564', '$142,502,728', '$1,100,313', '$1,077,584', '$903,662', '$889,863', '$4,589,490', '$1,730,597', '$821,000', '$28,539,757', '$721,439', '$696,191', '$4,567,338', '$1,073,969', '$113,929,605', '$604,334', '$582,720', '$56,846,802', '$10,429,730', '$765,561', '$43,082,155', '$100,044,905', '$11,136,084', '$449,561', '$434,702', '$432,689', '$1,788,322', '$427,407', '$355,308', '$332,432', '$330,181', '$364,716', '$323,688', '$44,451,847', '$24,313,888', '$296,027', '$289,573', '$282,149', '$267,824', '$483,684', '$237,571', '$234,505', '$228,615', '$227,401', '$437,625', '$372,562', '$198,352', '$73,123,082', '$265,102', '$190,160', '$17,156,058', '$177,262', '$196,258', '$164,346', '$153,504', '$143,518', '$140,306', '$139,270', '$137,260', '$134,288', '$1,291,514', '$122,530', '$146,535', '$113,527', '$127,240', '$104,732', '$120,411', '$101,068', '$113,858', '$96,713', '$10,867,104', '$93,298', '$815,082', '$81,879', '$80,317', '$3,012,615', '$71,909', '$70,632', '$70,224', '$445,000', '$1,658,790', '$60,794', '$160,765', '$55,608', '$54,415', '$51,032', '$50,876', '$47,037', '$17,803,077', '$46,855', '$44,330', '$39,893', '$31,581,712', '$50,850', '$60,716,390', '$36,723', '$35,150,750', '$33,817', '$241,251', '$33,419', '$32,444', '$30,444', '$29,450', '$29,118', '$58,115', '$25,621,766', '$27,317', '$42,310', '$26,563', '$206,003', '$25,694', '$2,313,596', '$25,488', '$25,084', '$25,878', '$24,139', '$25,978,556', '$36,527', '$141,143', '$23,613', '$23,071', '$22,549', '$55,632', '$459,478', '$20,943', '$20,006', '$18,750', '$18,169', '$28,273', '$122,390', '$17,401', '$17,255', '$16,565', '$16,942', '$15,650,615', '$14,078', '$15,758', '$62,625', '$122,587', '$33,155', '$21,291', '$4,252,657', '$16,080', '$34,222', '$12,573', '$10,682', '$1,115,008', '$14,941', '$9,966', '$29,644', '$36,262,926', '$35,948', '$8,340', '$8,140', '$8,101', '$22,055,313', '$51,891', '$7,464', '$10,260', '$6,477', '$6,312', '$67,059', '$52,522,904', '$6,024', '$5,487', '$374,739', '$822,828', '$24,951', '$51,150', '$23,911', '$6,047', '$9,130', '$242,734', '$4,507', '$46,412,757', '$11,301', '$15,532', '$3,168,978', '$307,346', '$95,826', '$3,518', '$193,028', '$35,178', '$9,163', '$425,332', '$4,140', '$104,963,598', '$3,502', '$11,319', '$24,808', '$2,371', '$2,302', '$2,256', '$12,962', '$23,862', '$171,781', '$78,736', '$14,560,838', '$115,685', '$71,790', '$66,309', '$93,383,953', '$1,107', '$5,166', '$3,816', '$1,051', '$225,250', '$564', '$6,517', '$2,343', '$24,672', '$11,272,213', '$11,307', '$28,410', '$25,559', '$17,431', '$10,881']\n",
      "['204,417,855', '157,901,466', '146,066,470', '124,736,710', '124,496,308', '84,158,461', '77,047,065', '70,508,087', '64,914,050', '62,342,368', '61,555,145', '49,651,655', '47,228,896', '37,433,325', '36,296,455', '35,733,621', '30,736,060', '26,441,782', '25,789,956', '22,169,514', '21,221,803', '20,578,185', '17,291,078', '15,472,775', '15,347,654', '13,651,826', '13,644,923', '13,590,514', '12,611,536', '12,311,180', '10,466,091', '10,427,913', '10,055,355', '10,021,787', '9,868,521', '8,287,061', '7,798,743', '7,196,675', '5,812,500', '5,437,971', '4,997,062', '4,523,325', '3,641,251', '3,306,611', '3,089,365', '2,971,116', '2,949,212', '2,180,071', '1,687,715', '1,678,800', '1,666,564', '1,425,760', '1,100,313', '983,357', '900,283', '889,863', '857,744', '853,047', '821,000', '792,488', '721,439', '696,191', '693,609', '636,925', '634,868', '604,334', '582,720', '567,638', '562,060', '541,918', '534,455', '528,320', '502,205', '449,561', '434,702', '432,689', '429,446', '427,407', '355,308', '332,432', '330,181', '323,980', '323,688', '300,460', '296,343', '296,027', '289,573', '282,149', '267,824', '238,204', '237,581', '234,505', '228,615', '227,401', '219,698', '199,575', '198,352', '192,926', '190,635', '189,771', '182,779', '177,262', '173,162', '164,346', '153,504', '143,518', '140,306', '139,270', '137,260', '134,288', '132,155', '122,530', '122,316', '112,915', '110,430', '104,732', '102,707', '101,068', '97,386', '96,713', '94,580', '93,298', '82,132', '81,879', '80,323', '72,623', '71,909', '70,632', '70,224', '65,000', '62,244', '60,794', '56,393', '55,608', '54,415', '51,032', '50,876', '47,037', '46,677', '44,604', '44,330', '39,893', '38,615', '38,466', '37,125', '36,723', '34,300', '33,817', '33,588', '33,419', '32,444', '30,444', '29,450', '29,118', '27,634', '27,397', '27,317', '26,773', '26,563', '26,181', '25,694', '25,615', '25,488', '25,084', '24,253', '24,139', '24,051', '24,000', '23,934', '23,613', '23,071', '22,549', '21,719', '21,267', '20,943', '20,006', '18,750', '18,169', '17,836', '17,739', '17,401', '17,255', '16,565', '15,841', '14,951', '14,078', '13,902', '12,658', '12,639', '12,275', '12,182', '12,148', '12,026', '11,913', '11,067', '10,682', '10,525', '10,329', '9,966', '9,835', '9,462', '8,425', '8,340', '8,140', '8,101', '7,807', '7,513', '7,464', '6,967', '6,477', '6,312', '6,306', '6,068', '6,024', '5,487', '5,376', '5,371', '5,251', '5,223', '5,047', '5,035', '4,900', '4,603', '4,507', '4,205', '4,075', '3,939', '3,817', '3,706', '3,610', '3,518', '3,310', '3,091', '3,034', '3,001', '2,982', '2,955', '2,716', '2,607', '2,472', '2,371', '2,302', '2,256', '2,060', '1,914', '1,912', '1,893', '1,867', '1,769', '1,652', '1,429', '1,394', '1,107', '1,086', '876', '858', '578', '564', '537', '509', '400', '374', '293', '292', '231', '115', '88']\n",
      "['204,417,855', '159,227,644', '146,066,470', '316,831,246', '515,202,542', '84,158,461', '77,047,065', '108,101,214', '64,914,050', '62,342,368', '61,555,145', '165,363,234', '477,373,578', '66,757,013', '36,296,853', '36,001,502', '53,369,749', '26,441,782', '50,023,780', '22,169,514', '21,221,803', '20,578,185', '17,291,078', '15,472,775', '15,347,654', '13,304,000', '31,762,808', '13,590,514', '12,611,536', '33,370,906', '10,691,091', '117,624,357', '10,055,355', '10,021,787', '9,868,521', '8,287,061', '7,798,743', '27,166,770', '5,812,500', '5,437,971', '61,704,055', '22,345,542', '3,759,854', '3,306,611', '43,808,310', '2,971,116', '2,949,212', '3,956,031', '1,688,100', '335,451,311', '1,666,564', '142,502,728', '1,100,313', '1,077,584', '903,662', '889,863', '4,589,490', '1,730,597', '821,000', '28,539,757', '721,439', '696,191', '4,567,338', '1,073,969', '113,929,605', '604,334', '582,720', '56,846,802', '10,429,730', '765,561', '43,082,155', '100,044,905', '11,136,084', '449,561', '434,702', '432,689', '1,788,322', '427,407', '355,308', '332,432', '330,181', '364,716', '323,688', '44,451,847', '24,313,888', '296,027', '289,573', '282,149', '267,824', '483,684', '237,571', '234,505', '228,615', '227,401', '437,625', '372,562', '198,352', '73,123,082', '265,102', '190,160', '17,156,058', '177,262', '196,258', '164,346', '153,504', '143,518', '140,306', '139,270', '137,260', '134,288', '1,291,514', '122,530', '146,535', '113,527', '127,240', '104,732', '120,411', '101,068', '113,858', '96,713', '10,867,104', '93,298', '815,082', '81,879', '80,317', '3,012,615', '71,909', '70,632', '70,224', '445,000', '1,658,790', '60,794', '160,765', '55,608', '54,415', '51,032', '50,876', '47,037', '17,803,077', '46,855', '44,330', '39,893', '31,581,712', '50,850', '60,716,390', '36,723', '35,150,750', '33,817', '241,251', '33,419', '32,444', '30,444', '29,450', '29,118', '58,115', '25,621,766', '27,317', '42,310', '26,563', '206,003', '25,694', '2,313,596', '25,488', '25,084', '25,878', '24,139', '25,978,556', '36,527', '141,143', '23,613', '23,071', '22,549', '55,632', '459,478', '20,943', '20,006', '18,750', '18,169', '28,273', '122,390', '17,401', '17,255', '16,565', '16,942', '15,650,615', '14,078', '15,758', '62,625', '122,587', '33,155', '21,291', '4,252,657', '16,080', '34,222', '12,573', '10,682', '1,115,008', '14,941', '9,966', '29,644', '36,262,926', '35,948', '8,340', '8,140', '8,101', '22,055,313', '51,891', '7,464', '10,260', '6,477', '6,312', '67,059', '52,522,904', '6,024', '5,487', '374,739', '822,828', '24,951', '51,150', '23,911', '6,047', '9,130', '242,734', '4,507', '46,412,757', '11,301', '15,532', '3,168,978', '307,346', '95,826', '3,518', '193,028', '35,178', '9,163', '425,332', '4,140', '104,963,598', '3,502', '11,319', '24,808', '2,371', '2,302', '2,256', '12,962', '23,862', '171,781', '78,736', '14,560,838', '115,685', '71,790', '66,309', '93,383,953', '1,107', '5,166', '3,816', '1,051', '225,250', '564', '6,517', '2,343', '24,672', '11,272,213', '11,307', '28,410', '25,559', '17,431', '10,881']\n"
     ]
    }
   ],
   "source": [
    "grosses = soup.find_all(class_='mojo-field-type-money')\n",
    "all_grosses = []\n",
    "for gross in grosses:\n",
    "    all_grosses.append(gross.get_text())\n",
    "\n",
    "all_grosses    \n",
    "\n",
    "gross_list1 = []\n",
    "gross_list2 = []\n",
    "\n",
    "for i, gross in enumerate(all_grosses):\n",
    "    if gross == '-':\n",
    "        gross_list1.append(all_grosses[i + 1])\n",
    "        gross_list2.append(all_grosses[i + 2])\n",
    "\n",
    "gross_list3 = []\n",
    "gross_list4 = []\n",
    "\n",
    "for gross in gross_list1:\n",
    "    gross_list3.append(gross[1:])\n",
    "    \n",
    "for gross in gross_list2:\n",
    "    gross_list4.append(gross[1:])\n",
    "        \n",
    "print(gross_list1)\n",
    "print(gross_list2)\n",
    "print(gross_list3)\n",
    "print(gross_list4)"
   ]
  },
  {
   "cell_type": "markdown",
   "metadata": {},
   "source": [
    "Now grab data for the first 5 movies with a loop."
   ]
  },
  {
   "cell_type": "code",
   "execution_count": 85,
   "metadata": {},
   "outputs": [
    {
     "data": {
      "text/plain": [
       "[]"
      ]
     },
     "execution_count": 85,
     "metadata": {},
     "output_type": "execute_result"
    }
   ],
   "source": []
  },
  {
   "cell_type": "code",
   "execution_count": 58,
   "metadata": {},
   "outputs": [
    {
     "name": "stderr",
     "output_type": "stream",
     "text": [
      "/home/nick/anaconda3/lib/python3.7/site-packages/ipykernel_launcher.py:1: DeprecationWarning: The default dtype for empty Series will be 'object' instead of 'float64' in a future version. Specify a dtype explicitly to silence this warning.\n",
      "  \"\"\"Entry point for launching an IPython kernel.\n"
     ]
    },
    {
     "data": {
      "text/plain": [
       "Series([], dtype: float64)"
      ]
     },
     "execution_count": 58,
     "metadata": {},
     "output_type": "execute_result"
    }
   ],
   "source": []
  },
  {
   "cell_type": "code",
   "execution_count": 59,
   "metadata": {},
   "outputs": [
    {
     "name": "stderr",
     "output_type": "stream",
     "text": [
      "/home/nick/anaconda3/lib/python3.7/site-packages/ipykernel_launcher.py:4: DeprecationWarning: The default dtype for empty Series will be 'object' instead of 'float64' in a future version. Specify a dtype explicitly to silence this warning.\n",
      "  after removing the cwd from sys.path.\n"
     ]
    },
    {
     "data": {
      "text/html": [
       "<div>\n",
       "<style scoped>\n",
       "    .dataframe tbody tr th:only-of-type {\n",
       "        vertical-align: middle;\n",
       "    }\n",
       "\n",
       "    .dataframe tbody tr th {\n",
       "        vertical-align: top;\n",
       "    }\n",
       "\n",
       "    .dataframe thead th {\n",
       "        text-align: right;\n",
       "    }\n",
       "</style>\n",
       "<table border=\"1\" class=\"dataframe\">\n",
       "  <thead>\n",
       "    <tr style=\"text-align: right;\">\n",
       "      <th></th>\n",
       "      <th>Title</th>\n",
       "      <th>Gross</th>\n",
       "      <th>Total Gross</th>\n",
       "    </tr>\n",
       "  </thead>\n",
       "  <tbody>\n",
       "    <tr>\n",
       "      <th>0</th>\n",
       "      <td>Bad Boys for Life</td>\n",
       "      <td>204,417,85</td>\n",
       "      <td>204,417,85</td>\n",
       "    </tr>\n",
       "    <tr>\n",
       "      <th>1</th>\n",
       "      <td>1917</td>\n",
       "      <td>157,901,46</td>\n",
       "      <td>159,227,64</td>\n",
       "    </tr>\n",
       "    <tr>\n",
       "      <th>2</th>\n",
       "      <td>Sonic the Hedgehog</td>\n",
       "      <td>146,066,47</td>\n",
       "      <td>146,066,47</td>\n",
       "    </tr>\n",
       "    <tr>\n",
       "      <th>3</th>\n",
       "      <td>Jumanji: The Next Level</td>\n",
       "      <td>124,736,71</td>\n",
       "      <td>316,831,24</td>\n",
       "    </tr>\n",
       "    <tr>\n",
       "      <th>4</th>\n",
       "      <td>Star Wars: Episode IX - The Rise of Skywalker</td>\n",
       "      <td>124,496,30</td>\n",
       "      <td>515,202,54</td>\n",
       "    </tr>\n",
       "    <tr>\n",
       "      <th>...</th>\n",
       "      <td>...</td>\n",
       "      <td>...</td>\n",
       "      <td>...</td>\n",
       "    </tr>\n",
       "    <tr>\n",
       "      <th>262</th>\n",
       "      <td>I Do Not Care If We Go Down in History as Barb...</td>\n",
       "      <td>29</td>\n",
       "      <td>11,30</td>\n",
       "    </tr>\n",
       "    <tr>\n",
       "      <th>263</th>\n",
       "      <td>The Load</td>\n",
       "      <td>29</td>\n",
       "      <td>28,41</td>\n",
       "    </tr>\n",
       "    <tr>\n",
       "      <th>264</th>\n",
       "      <td>Asako I &amp; II</td>\n",
       "      <td>23</td>\n",
       "      <td>25,55</td>\n",
       "    </tr>\n",
       "    <tr>\n",
       "      <th>265</th>\n",
       "      <td>Chained for Life</td>\n",
       "      <td>11</td>\n",
       "      <td>17,43</td>\n",
       "    </tr>\n",
       "    <tr>\n",
       "      <th>266</th>\n",
       "      <td>NaN</td>\n",
       "      <td>8</td>\n",
       "      <td>10,88</td>\n",
       "    </tr>\n",
       "  </tbody>\n",
       "</table>\n",
       "<p>267 rows × 3 columns</p>\n",
       "</div>"
      ],
      "text/plain": [
       "                                                 Title       Gross Total Gross\n",
       "0                                    Bad Boys for Life  204,417,85  204,417,85\n",
       "1                                                 1917  157,901,46  159,227,64\n",
       "2                                   Sonic the Hedgehog  146,066,47  146,066,47\n",
       "3                              Jumanji: The Next Level  124,736,71  316,831,24\n",
       "4        Star Wars: Episode IX - The Rise of Skywalker  124,496,30  515,202,54\n",
       "..                                                 ...         ...         ...\n",
       "262  I Do Not Care If We Go Down in History as Barb...          29       11,30\n",
       "263                                           The Load          29       28,41\n",
       "264                                       Asako I & II          23       25,55\n",
       "265                                   Chained for Life          11       17,43\n",
       "266                                                NaN           8       10,88\n",
       "\n",
       "[267 rows x 3 columns]"
      ]
     },
     "execution_count": 59,
     "metadata": {},
     "output_type": "execute_result"
    }
   ],
   "source": []
  },
  {
   "cell_type": "code",
   "execution_count": 60,
   "metadata": {},
   "outputs": [
    {
     "data": {
      "text/html": [
       "<div>\n",
       "<style scoped>\n",
       "    .dataframe tbody tr th:only-of-type {\n",
       "        vertical-align: middle;\n",
       "    }\n",
       "\n",
       "    .dataframe tbody tr th {\n",
       "        vertical-align: top;\n",
       "    }\n",
       "\n",
       "    .dataframe thead th {\n",
       "        text-align: right;\n",
       "    }\n",
       "</style>\n",
       "<table border=\"1\" class=\"dataframe\">\n",
       "  <thead>\n",
       "    <tr style=\"text-align: right;\">\n",
       "      <th></th>\n",
       "      <th>Title</th>\n",
       "      <th>Gross</th>\n",
       "      <th>Total Gross</th>\n",
       "      <th>Youtube Trailer Views</th>\n",
       "    </tr>\n",
       "  </thead>\n",
       "  <tbody>\n",
       "    <tr>\n",
       "      <th>0</th>\n",
       "      <td>Bad Boys for Life</td>\n",
       "      <td>204,417,85</td>\n",
       "      <td>204,417,85</td>\n",
       "      <td>NaN</td>\n",
       "    </tr>\n",
       "    <tr>\n",
       "      <th>1</th>\n",
       "      <td>1917</td>\n",
       "      <td>157,901,46</td>\n",
       "      <td>159,227,64</td>\n",
       "      <td>NaN</td>\n",
       "    </tr>\n",
       "    <tr>\n",
       "      <th>2</th>\n",
       "      <td>Sonic the Hedgehog</td>\n",
       "      <td>146,066,47</td>\n",
       "      <td>146,066,47</td>\n",
       "      <td>NaN</td>\n",
       "    </tr>\n",
       "    <tr>\n",
       "      <th>3</th>\n",
       "      <td>Jumanji: The Next Level</td>\n",
       "      <td>124,736,71</td>\n",
       "      <td>316,831,24</td>\n",
       "      <td>NaN</td>\n",
       "    </tr>\n",
       "    <tr>\n",
       "      <th>4</th>\n",
       "      <td>Star Wars: Episode IX - The Rise of Skywalker</td>\n",
       "      <td>124,496,30</td>\n",
       "      <td>515,202,54</td>\n",
       "      <td>NaN</td>\n",
       "    </tr>\n",
       "    <tr>\n",
       "      <th>...</th>\n",
       "      <td>...</td>\n",
       "      <td>...</td>\n",
       "      <td>...</td>\n",
       "      <td>...</td>\n",
       "    </tr>\n",
       "    <tr>\n",
       "      <th>262</th>\n",
       "      <td>I Do Not Care If We Go Down in History as Barb...</td>\n",
       "      <td>29</td>\n",
       "      <td>11,30</td>\n",
       "      <td>NaN</td>\n",
       "    </tr>\n",
       "    <tr>\n",
       "      <th>263</th>\n",
       "      <td>The Load</td>\n",
       "      <td>29</td>\n",
       "      <td>28,41</td>\n",
       "      <td>NaN</td>\n",
       "    </tr>\n",
       "    <tr>\n",
       "      <th>264</th>\n",
       "      <td>Asako I &amp; II</td>\n",
       "      <td>23</td>\n",
       "      <td>25,55</td>\n",
       "      <td>NaN</td>\n",
       "    </tr>\n",
       "    <tr>\n",
       "      <th>265</th>\n",
       "      <td>Chained for Life</td>\n",
       "      <td>11</td>\n",
       "      <td>17,43</td>\n",
       "      <td>NaN</td>\n",
       "    </tr>\n",
       "    <tr>\n",
       "      <th>266</th>\n",
       "      <td>NaN</td>\n",
       "      <td>8</td>\n",
       "      <td>10,88</td>\n",
       "      <td>NaN</td>\n",
       "    </tr>\n",
       "  </tbody>\n",
       "</table>\n",
       "<p>267 rows × 4 columns</p>\n",
       "</div>"
      ],
      "text/plain": [
       "                                                 Title       Gross  \\\n",
       "0                                    Bad Boys for Life  204,417,85   \n",
       "1                                                 1917  157,901,46   \n",
       "2                                   Sonic the Hedgehog  146,066,47   \n",
       "3                              Jumanji: The Next Level  124,736,71   \n",
       "4        Star Wars: Episode IX - The Rise of Skywalker  124,496,30   \n",
       "..                                                 ...         ...   \n",
       "262  I Do Not Care If We Go Down in History as Barb...          29   \n",
       "263                                           The Load          29   \n",
       "264                                       Asako I & II          23   \n",
       "265                                   Chained for Life          11   \n",
       "266                                                NaN           8   \n",
       "\n",
       "    Total Gross  Youtube Trailer Views  \n",
       "0    204,417,85                    NaN  \n",
       "1    159,227,64                    NaN  \n",
       "2    146,066,47                    NaN  \n",
       "3    316,831,24                    NaN  \n",
       "4    515,202,54                    NaN  \n",
       "..          ...                    ...  \n",
       "262       11,30                    NaN  \n",
       "263       28,41                    NaN  \n",
       "264       25,55                    NaN  \n",
       "265       17,43                    NaN  \n",
       "266       10,88                    NaN  \n",
       "\n",
       "[267 rows x 4 columns]"
      ]
     },
     "execution_count": 60,
     "metadata": {},
     "output_type": "execute_result"
    }
   ],
   "source": []
  },
  {
   "cell_type": "code",
   "execution_count": 61,
   "metadata": {},
   "outputs": [
    {
     "data": {
      "text/html": [
       "<div>\n",
       "<style scoped>\n",
       "    .dataframe tbody tr th:only-of-type {\n",
       "        vertical-align: middle;\n",
       "    }\n",
       "\n",
       "    .dataframe tbody tr th {\n",
       "        vertical-align: top;\n",
       "    }\n",
       "\n",
       "    .dataframe thead th {\n",
       "        text-align: right;\n",
       "    }\n",
       "</style>\n",
       "<table border=\"1\" class=\"dataframe\">\n",
       "  <thead>\n",
       "    <tr style=\"text-align: right;\">\n",
       "      <th></th>\n",
       "      <th>Title</th>\n",
       "      <th>Gross</th>\n",
       "      <th>Total Gross</th>\n",
       "      <th>Youtube Trailer Views</th>\n",
       "    </tr>\n",
       "  </thead>\n",
       "  <tbody>\n",
       "    <tr>\n",
       "      <th>0</th>\n",
       "      <td>Bad Boys for Life</td>\n",
       "      <td>204,417,85</td>\n",
       "      <td>204,417,85</td>\n",
       "      <td>NaN</td>\n",
       "    </tr>\n",
       "    <tr>\n",
       "      <th>1</th>\n",
       "      <td>1917</td>\n",
       "      <td>157,901,46</td>\n",
       "      <td>159,227,64</td>\n",
       "      <td>NaN</td>\n",
       "    </tr>\n",
       "    <tr>\n",
       "      <th>2</th>\n",
       "      <td>Sonic the Hedgehog</td>\n",
       "      <td>146,066,47</td>\n",
       "      <td>146,066,47</td>\n",
       "      <td>NaN</td>\n",
       "    </tr>\n",
       "    <tr>\n",
       "      <th>3</th>\n",
       "      <td>Jumanji: The Next Level</td>\n",
       "      <td>124,736,71</td>\n",
       "      <td>316,831,24</td>\n",
       "      <td>NaN</td>\n",
       "    </tr>\n",
       "    <tr>\n",
       "      <th>4</th>\n",
       "      <td>Star Wars: Episode IX - The Rise of Skywalker</td>\n",
       "      <td>124,496,30</td>\n",
       "      <td>515,202,54</td>\n",
       "      <td>NaN</td>\n",
       "    </tr>\n",
       "    <tr>\n",
       "      <th>...</th>\n",
       "      <td>...</td>\n",
       "      <td>...</td>\n",
       "      <td>...</td>\n",
       "      <td>...</td>\n",
       "    </tr>\n",
       "    <tr>\n",
       "      <th>262</th>\n",
       "      <td>I Do Not Care If We Go Down in History as Barb...</td>\n",
       "      <td>29</td>\n",
       "      <td>11,30</td>\n",
       "      <td>NaN</td>\n",
       "    </tr>\n",
       "    <tr>\n",
       "      <th>263</th>\n",
       "      <td>The Load</td>\n",
       "      <td>29</td>\n",
       "      <td>28,41</td>\n",
       "      <td>NaN</td>\n",
       "    </tr>\n",
       "    <tr>\n",
       "      <th>264</th>\n",
       "      <td>Asako I &amp; II</td>\n",
       "      <td>23</td>\n",
       "      <td>25,55</td>\n",
       "      <td>NaN</td>\n",
       "    </tr>\n",
       "    <tr>\n",
       "      <th>265</th>\n",
       "      <td>Chained for Life</td>\n",
       "      <td>11</td>\n",
       "      <td>17,43</td>\n",
       "      <td>NaN</td>\n",
       "    </tr>\n",
       "    <tr>\n",
       "      <th>266</th>\n",
       "      <td>NaN</td>\n",
       "      <td>8</td>\n",
       "      <td>10,88</td>\n",
       "      <td>NaN</td>\n",
       "    </tr>\n",
       "  </tbody>\n",
       "</table>\n",
       "<p>267 rows × 4 columns</p>\n",
       "</div>"
      ],
      "text/plain": [
       "                                                 Title       Gross  \\\n",
       "0                                    Bad Boys for Life  204,417,85   \n",
       "1                                                 1917  157,901,46   \n",
       "2                                   Sonic the Hedgehog  146,066,47   \n",
       "3                              Jumanji: The Next Level  124,736,71   \n",
       "4        Star Wars: Episode IX - The Rise of Skywalker  124,496,30   \n",
       "..                                                 ...         ...   \n",
       "262  I Do Not Care If We Go Down in History as Barb...          29   \n",
       "263                                           The Load          29   \n",
       "264                                       Asako I & II          23   \n",
       "265                                   Chained for Life          11   \n",
       "266                                                NaN           8   \n",
       "\n",
       "    Total Gross  Youtube Trailer Views  \n",
       "0    204,417,85                    NaN  \n",
       "1    159,227,64                    NaN  \n",
       "2    146,066,47                    NaN  \n",
       "3    316,831,24                    NaN  \n",
       "4    515,202,54                    NaN  \n",
       "..          ...                    ...  \n",
       "262       11,30                    NaN  \n",
       "263       28,41                    NaN  \n",
       "264       25,55                    NaN  \n",
       "265       17,43                    NaN  \n",
       "266       10,88                    NaN  \n",
       "\n",
       "[267 rows x 4 columns]"
      ]
     },
     "execution_count": 61,
     "metadata": {},
     "output_type": "execute_result"
    }
   ],
   "source": [
    "df.set_index('Title')\n",
    "df"
   ]
  },
  {
   "cell_type": "markdown",
   "metadata": {},
   "source": [
    "### Scraping Multiple Pages\n",
    "\n",
    "Now that we have the links for several G-rated movies we can visit each link to extract even more information about each movie.  Let's use `pandas` to help."
   ]
  },
  {
   "cell_type": "code",
   "execution_count": 62,
   "metadata": {},
   "outputs": [],
   "source": [
    "import pandas as pd"
   ]
  },
  {
   "cell_type": "code",
   "execution_count": 63,
   "metadata": {},
   "outputs": [
    {
     "data": {
      "text/html": [
       "<div>\n",
       "<style scoped>\n",
       "    .dataframe tbody tr th:only-of-type {\n",
       "        vertical-align: middle;\n",
       "    }\n",
       "\n",
       "    .dataframe tbody tr th {\n",
       "        vertical-align: top;\n",
       "    }\n",
       "\n",
       "    .dataframe thead th {\n",
       "        text-align: right;\n",
       "    }\n",
       "</style>\n",
       "<table border=\"1\" class=\"dataframe\">\n",
       "  <thead>\n",
       "    <tr style=\"text-align: right;\">\n",
       "      <th></th>\n",
       "      <th>Title</th>\n",
       "      <th>Gross</th>\n",
       "      <th>Total Gross</th>\n",
       "      <th>Youtube Trailer Views</th>\n",
       "    </tr>\n",
       "  </thead>\n",
       "  <tbody>\n",
       "    <tr>\n",
       "      <th>0</th>\n",
       "      <td>Bad Boys for Life</td>\n",
       "      <td>204,417,85</td>\n",
       "      <td>204,417,85</td>\n",
       "      <td>NaN</td>\n",
       "    </tr>\n",
       "    <tr>\n",
       "      <th>1</th>\n",
       "      <td>1917</td>\n",
       "      <td>157,901,46</td>\n",
       "      <td>159,227,64</td>\n",
       "      <td>NaN</td>\n",
       "    </tr>\n",
       "    <tr>\n",
       "      <th>2</th>\n",
       "      <td>Sonic the Hedgehog</td>\n",
       "      <td>146,066,47</td>\n",
       "      <td>146,066,47</td>\n",
       "      <td>NaN</td>\n",
       "    </tr>\n",
       "    <tr>\n",
       "      <th>3</th>\n",
       "      <td>Jumanji: The Next Level</td>\n",
       "      <td>124,736,71</td>\n",
       "      <td>316,831,24</td>\n",
       "      <td>NaN</td>\n",
       "    </tr>\n",
       "    <tr>\n",
       "      <th>4</th>\n",
       "      <td>Star Wars: Episode IX - The Rise of Skywalker</td>\n",
       "      <td>124,496,30</td>\n",
       "      <td>515,202,54</td>\n",
       "      <td>NaN</td>\n",
       "    </tr>\n",
       "    <tr>\n",
       "      <th>...</th>\n",
       "      <td>...</td>\n",
       "      <td>...</td>\n",
       "      <td>...</td>\n",
       "      <td>...</td>\n",
       "    </tr>\n",
       "    <tr>\n",
       "      <th>262</th>\n",
       "      <td>I Do Not Care If We Go Down in History as Barb...</td>\n",
       "      <td>29</td>\n",
       "      <td>11,30</td>\n",
       "      <td>NaN</td>\n",
       "    </tr>\n",
       "    <tr>\n",
       "      <th>263</th>\n",
       "      <td>The Load</td>\n",
       "      <td>29</td>\n",
       "      <td>28,41</td>\n",
       "      <td>NaN</td>\n",
       "    </tr>\n",
       "    <tr>\n",
       "      <th>264</th>\n",
       "      <td>Asako I &amp; II</td>\n",
       "      <td>23</td>\n",
       "      <td>25,55</td>\n",
       "      <td>NaN</td>\n",
       "    </tr>\n",
       "    <tr>\n",
       "      <th>265</th>\n",
       "      <td>Chained for Life</td>\n",
       "      <td>11</td>\n",
       "      <td>17,43</td>\n",
       "      <td>NaN</td>\n",
       "    </tr>\n",
       "    <tr>\n",
       "      <th>266</th>\n",
       "      <td>NaN</td>\n",
       "      <td>8</td>\n",
       "      <td>10,88</td>\n",
       "      <td>NaN</td>\n",
       "    </tr>\n",
       "  </tbody>\n",
       "</table>\n",
       "<p>267 rows × 4 columns</p>\n",
       "</div>"
      ],
      "text/plain": [
       "                                                 Title       Gross  \\\n",
       "0                                    Bad Boys for Life  204,417,85   \n",
       "1                                                 1917  157,901,46   \n",
       "2                                   Sonic the Hedgehog  146,066,47   \n",
       "3                              Jumanji: The Next Level  124,736,71   \n",
       "4        Star Wars: Episode IX - The Rise of Skywalker  124,496,30   \n",
       "..                                                 ...         ...   \n",
       "262  I Do Not Care If We Go Down in History as Barb...          29   \n",
       "263                                           The Load          29   \n",
       "264                                       Asako I & II          23   \n",
       "265                                   Chained for Life          11   \n",
       "266                                                NaN           8   \n",
       "\n",
       "    Total Gross  Youtube Trailer Views  \n",
       "0    204,417,85                    NaN  \n",
       "1    159,227,64                    NaN  \n",
       "2    146,066,47                    NaN  \n",
       "3    316,831,24                    NaN  \n",
       "4    515,202,54                    NaN  \n",
       "..          ...                    ...  \n",
       "262       11,30                    NaN  \n",
       "263       28,41                    NaN  \n",
       "264       25,55                    NaN  \n",
       "265       17,43                    NaN  \n",
       "266       10,88                    NaN  \n",
       "\n",
       "[267 rows x 4 columns]"
      ]
     },
     "execution_count": 63,
     "metadata": {},
     "output_type": "execute_result"
    }
   ],
   "source": [
    "df"
   ]
  },
  {
   "cell_type": "markdown",
   "metadata": {},
   "source": [
    "We'll also combine all previous steps into one helper function."
   ]
  },
  {
   "cell_type": "code",
   "execution_count": 64,
   "metadata": {},
   "outputs": [],
   "source": [
    "def get_movie_dict(link):\n",
    "    '''\n",
    "    From BoxOfficeMojo link stub, request movie html, parse with BeautifulSoup, and\n",
    "    collect \n",
    "        - title \n",
    "        - domestic gross\n",
    "        - runtime \n",
    "        - MPAA rating\n",
    "        - full release date\n",
    "    Return information as a dictionary.\n",
    "    '''\n",
    "    \n",
    "    base_url = 'https://www.boxofficemojo.com'\n",
    "    \n",
    "    #Create full url to scrape\n",
    "    url = base_url + link\n",
    "    \n",
    "    #Request HTML and parse\n",
    "    response = requests.get(url)\n",
    "    page = response.text\n",
    "    soup = BeautifulSoup(page,\"lxml\")\n",
    "\n",
    "    \n",
    "    headers = ['movie_title', 'domestic_total_gross',\n",
    "               'runtime_minutes', 'rating', 'release_date']\n",
    "    \n",
    "    #Get title\n",
    "    title_string = soup.find('title').text\n",
    "    title = title_string.split('-')[0].strip()\n",
    "\n",
    "    #Get domestic gross\n",
    "    raw_domestic_total_gross = (soup.find(class_='mojo-performance-summary-table')\n",
    "                                    .find_all('span', class_='money')[0]\n",
    "                                    .text\n",
    "                               )\n",
    "    domestic_total_gross = money_to_int(raw_domestic_total_gross)\n",
    "\n",
    "    #Get runtime\n",
    "    raw_runtime = get_movie_value(soup,'Running')\n",
    "    runtime = runtime_to_minutes(raw_runtime)\n",
    "    \n",
    "    #Get rating\n",
    "    rating = get_movie_value(soup,'MPAA')\n",
    "\n",
    "    #Get release date\n",
    "    raw_release_date = get_movie_value(soup,'Release Date').split('\\n')[0]\n",
    "    release_date = to_date(raw_release_date)\n",
    "    \n",
    "    #Create movie dictionary and return\n",
    "    movie_dict = dict(zip(headers, [title,\n",
    "                                domestic_total_gross,\n",
    "                                runtime,\n",
    "                                rating, \n",
    "                                release_date]))\n",
    "\n",
    "    return movie_dict"
   ]
  },
  {
   "cell_type": "markdown",
   "metadata": {},
   "source": [
    "Now we just need to pass each link stub to this function."
   ]
  },
  {
   "cell_type": "code",
   "execution_count": 65,
   "metadata": {},
   "outputs": [
    {
     "ename": "NameError",
     "evalue": "name 'g_movies' is not defined",
     "output_type": "error",
     "traceback": [
      "\u001b[0;31m---------------------------------------------------------------------------\u001b[0m",
      "\u001b[0;31mNameError\u001b[0m                                 Traceback (most recent call last)",
      "\u001b[0;32m<ipython-input-65-f099bb85ada0>\u001b[0m in \u001b[0;36m<module>\u001b[0;34m\u001b[0m\n\u001b[1;32m      1\u001b[0m \u001b[0mg_movies_page_info_list\u001b[0m \u001b[0;34m=\u001b[0m \u001b[0;34m[\u001b[0m\u001b[0;34m]\u001b[0m\u001b[0;34m\u001b[0m\u001b[0;34m\u001b[0m\u001b[0m\n\u001b[1;32m      2\u001b[0m \u001b[0;34m\u001b[0m\u001b[0m\n\u001b[0;32m----> 3\u001b[0;31m \u001b[0;32mfor\u001b[0m \u001b[0mlink\u001b[0m \u001b[0;32min\u001b[0m \u001b[0mg_movies\u001b[0m\u001b[0;34m.\u001b[0m\u001b[0mlink_stub\u001b[0m\u001b[0;34m:\u001b[0m\u001b[0;34m\u001b[0m\u001b[0;34m\u001b[0m\u001b[0m\n\u001b[0m\u001b[1;32m      4\u001b[0m     \u001b[0mg_movies_page_info_list\u001b[0m\u001b[0;34m.\u001b[0m\u001b[0mappend\u001b[0m\u001b[0;34m(\u001b[0m\u001b[0mget_movie_dict\u001b[0m\u001b[0;34m(\u001b[0m\u001b[0mlink\u001b[0m\u001b[0;34m)\u001b[0m\u001b[0;34m)\u001b[0m\u001b[0;34m\u001b[0m\u001b[0;34m\u001b[0m\u001b[0m\n",
      "\u001b[0;31mNameError\u001b[0m: name 'g_movies' is not defined"
     ]
    }
   ],
   "source": [
    "g_movies_page_info_list = []\n",
    "\n",
    "for link in g_movies.link_stub:\n",
    "    g_movies_page_info_list.append(get_movie_dict(link))"
   ]
  },
  {
   "cell_type": "code",
   "execution_count": null,
   "metadata": {},
   "outputs": [],
   "source": [
    "g_movies_page_info_list"
   ]
  },
  {
   "cell_type": "code",
   "execution_count": null,
   "metadata": {},
   "outputs": [],
   "source": [
    "g_movies_page_info = pd.DataFrame(g_movies_page_info_list)  #convert list of dict to df\n",
    "g_movies_page_info.set_index('movie_title', inplace=True)\n",
    "\n",
    "g_movies_page_info"
   ]
  },
  {
   "cell_type": "markdown",
   "metadata": {},
   "source": [
    "(Note: the rating is indeed missing from a few of these pages!  How could you fix that?)\n",
    "\n",
    "We can now match this back up with the movie information collected from the table by merging these dataframes."
   ]
  },
  {
   "cell_type": "code",
   "execution_count": null,
   "metadata": {},
   "outputs": [],
   "source": [
    "g_movies = g_movies.merge(g_movies_page_info, left_index=True, right_index=True)\n",
    "\n",
    "g_movies"
   ]
  },
  {
   "cell_type": "markdown",
   "metadata": {},
   "source": [
    "## Recap\n",
    "\n",
    "- Beautiful Soup is a powerful HTML parser\n",
    "- You can locate one element with `.find()` or all matching elements with `.find_all()`\n",
    "- To select specific elements, you can filter by tags like `class` or `id` \n",
    "- You can also find items using text matching and `.findNext()`, `.findNextSibling()`, `.findChild()`, etc.\n",
    "- Once you know how to scrape one page, you can scale up by systematically visiting other similar pages.\n",
    "\n",
    "### Limitations\n",
    "Beautiful Soup has its limitations though.  For example, we can't use Beautiful Soup if a page:\n",
    "- Requires us to input a password\n",
    "- Reveals information we want only when we interact with it\n",
    "- Generates dynamically (with JavaScript) rather than statically serving HTML\n",
    "\n",
    "For these situations we need a different tool, like **Selenium** -- coming soon!"
   ]
  },
  {
   "cell_type": "code",
   "execution_count": null,
   "metadata": {},
   "outputs": [],
   "source": [
    "url = 'https://www.youtube.com/results?search_query=official+trailer+2020'\n",
    "\n",
    "response = requests.get(url)\n",
    "page = response.text\n",
    "\n",
    "soup = BeautifulSoup(page,\"html5lib\")"
   ]
  },
  {
   "cell_type": "code",
   "execution_count": null,
   "metadata": {},
   "outputs": [],
   "source": [
    "query = \"official trailer 2020\"\n",
    "youtube_search = \"https://www.youtube.com/results?search_query=\"\n",
    "youtube_query = youtube_search + query.replace(' ', '+')\n",
    "\n",
    "page = requests.get(youtube_query).text\n",
    "soup = BeautifulSoup(page, 'html5lib')\n",
    "\n",
    "driver = webdriver.Chrome(chromedriver)\n",
    "driver.get(youtube_query)\n",
    "\n",
    "view_series = pd.Series(new_views)\n",
    "view_series"
   ]
  },
  {
   "cell_type": "code",
   "execution_count": null,
   "metadata": {},
   "outputs": [],
   "source": [
    "driver.page_source[:1000]"
   ]
  },
  {
   "cell_type": "code",
   "execution_count": null,
   "metadata": {},
   "outputs": [],
   "source": [
    "soup = BeautifulSoup(driver.page_source, 'html.parser')"
   ]
  },
  {
   "cell_type": "code",
   "execution_count": null,
   "metadata": {},
   "outputs": [],
   "source": [
    "soup.find('div', id='contents')"
   ]
  },
  {
   "cell_type": "code",
   "execution_count": null,
   "metadata": {},
   "outputs": [],
   "source": [
    "import re\n",
    "contents_div = soup.find_all('div', id='metadata-line')\n",
    "views = []\n",
    "for view in contents_div:   \n",
    "        m = re.search(r'\\d+\\w', view.get_text())\n",
    "        views.append(m.group(0))\n",
    "views\n",
    "\n",
    "new_views = []\n",
    "tens = {'K': 10e3, 'M': 10e6}\n",
    "f = lambda x: int(float(x[:-1])*tens[x[-1]])\n",
    "for view in views:\n",
    "    new_views.append(f(view))\n",
    "    \n",
    "new_views"
   ]
  },
  {
   "cell_type": "code",
   "execution_count": null,
   "metadata": {},
   "outputs": [],
   "source": [
    "gross_series1 = pd.Series(gross_list3)\n",
    "gross_series2 = pd.Series(gross_list4)\n",
    "title_series = pd.Series(movie_titles)\n",
    "views_series = pd.Series(new_views)\n",
    "\n",
    "df = pd.concat([title_series, gross_series1, gross_series2, view_series], axis=1)\n",
    "df.columns = ['Title', 'Gross', 'Total Gross', 'Youtube Trailer Views']\n",
    "df"
   ]
  },
  {
   "cell_type": "code",
   "execution_count": null,
   "metadata": {},
   "outputs": [],
   "source": [
    "df"
   ]
  },
  {
   "cell_type": "code",
   "execution_count": null,
   "metadata": {},
   "outputs": [],
   "source": []
  },
  {
   "cell_type": "code",
   "execution_count": null,
   "metadata": {},
   "outputs": [],
   "source": []
  }
 ],
 "metadata": {
  "kernelspec": {
   "display_name": "Python 3",
   "language": "python",
   "name": "python3"
  },
  "language_info": {
   "codemirror_mode": {
    "name": "ipython",
    "version": 3
   },
   "file_extension": ".py",
   "mimetype": "text/x-python",
   "name": "python",
   "nbconvert_exporter": "python",
   "pygments_lexer": "ipython3",
   "version": "3.7.6"
  }
 },
 "nbformat": 4,
 "nbformat_minor": 2
}
