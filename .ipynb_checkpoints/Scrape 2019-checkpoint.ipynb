{
 "cells": [
  {
   "cell_type": "code",
   "execution_count": null,
   "metadata": {},
   "outputs": [],
   "source": [
    "from bs4 import BeautifulSoup\n",
    "import requests\n",
    "import time, os\n",
    "import pandas as pd\n",
    "import re\n",
    "import seaborn as sns\n",
    "import matplotlib.pyplot as plt\n",
    "import functions\n",
    "import random\n",
    "import numpy as np\n",
    "import mojoscraper\n",
    "import movie_dicts_2019\n",
    "import movies_2020\n",
    "import criticism\n",
    "import alt_crit\n",
    "\n",
    "from urllib.parse import urljoin\n",
    "from selenium import webdriver\n",
    "from selenium.webdriver.common.by import By\n",
    "from selenium.webdriver.common.keys import Keys\n",
    "from selenium.webdriver.support.ui import WebDriverWait\n",
    "from selenium.webdriver.support import expected_conditions as EC\n",
    "from selenium.common.exceptions import NoSuchElementException\n",
    "from selenium.common.exceptions import StaleElementReferenceException\n",
    "from selenium.common.exceptions import ElementClickInterceptedException\n",
    "from selenium.common.exceptions import ElementNotInteractableException\n",
    "from selenium.webdriver.chrome.options import Options  \n",
    "# from selenium.webdriver.common.desired_capabilities import DesiredCapabilities\n",
    "\n",
    "options = webdriver.ChromeOptions()\n",
    "options.add_argument(\"--headless\")\n",
    "\n",
    "chromedriver = \"/usr/bin/chromedriver\" \n",
    "os.environ[\"webdriver.chrome.driver\"] = chromedriver\n",
    "\n",
    "\n",
    "\n",
    "# capabilities = DesiredCapabilities().CHROME\n",
    "# capabilities[\"pageLoadStrategy\"] = \"none\"\n",
    "\n",
    "\n",
    "options.add_argument(\"--enable-automation\")\n",
    "# options.add_argument(\"--no-sandbox\")\n",
    "\n",
    "\n",
    "# options.add_argument(\"--disable-dev-shm-usage\")\n",
    "# options.add_argument(\"--disable-browser-side-navigation\")\n",
    "options.add_argument(\"--disable-gpu\")\n",
    "options.add_argument(\"--disable-features=VizDisplayCompositor\")"
   ]
  },
  {
   "cell_type": "code",
   "execution_count": null,
   "metadata": {},
   "outputs": [],
   "source": [
    "base_url = 'https://www.boxofficemojo.com'\n",
    "link = '/year/2019/?grossesOption=calendarGrosses'\n",
    "url = base_url + link\n",
    "response = requests.get(url)\n",
    "page = response.text"
   ]
  },
  {
   "cell_type": "code",
   "execution_count": null,
   "metadata": {},
   "outputs": [],
   "source": [
    "movie_dicts_2019 = mojoscraper.get_mojo(url)\n",
    "movie_dicts_2019"
   ]
  }
 ],
 "metadata": {
  "kernelspec": {
   "display_name": "Python 3",
   "language": "python",
   "name": "python3"
  },
  "language_info": {
   "codemirror_mode": {
    "name": "ipython",
    "version": 3
   },
   "file_extension": ".py",
   "mimetype": "text/x-python",
   "name": "python",
   "nbconvert_exporter": "python",
   "pygments_lexer": "ipython3",
   "version": "3.7.6"
  }
 },
 "nbformat": 4,
 "nbformat_minor": 4
}
