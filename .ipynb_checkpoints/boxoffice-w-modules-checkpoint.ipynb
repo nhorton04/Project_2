{
 "cells": [
  {
   "cell_type": "markdown",
   "metadata": {},
   "source": [
    "Imports"
   ]
  },
  {
   "cell_type": "code",
   "execution_count": 1,
   "metadata": {},
   "outputs": [],
   "source": [
    "from bs4 import BeautifulSoup\n",
    "import requests\n",
    "import time, os\n",
    "import pandas as pd\n",
    "import re\n",
    "import seaborn as sns\n",
    "import matplotlib.pyplot as plt\n",
    "import functions\n",
    "\n",
    "from urllib.parse import urljoin\n",
    "from selenium import webdriver\n",
    "from selenium.webdriver.common.by import By\n",
    "from selenium.webdriver.common.keys import Keys\n",
    "from selenium.webdriver.support.ui import WebDriverWait\n",
    "from selenium.webdriver.support import expected_conditions as EC\n",
    "\n",
    "chromedriver = \"/usr/bin/chromedriver\" # path to the chromedriver executable\n",
    "os.environ[\"webdriver.chrome.driver\"] = chromedriver"
   ]
  },
  {
   "cell_type": "markdown",
   "metadata": {},
   "source": [
    "Request Info"
   ]
  },
  {
   "cell_type": "code",
   "execution_count": 2,
   "metadata": {},
   "outputs": [],
   "source": [
    "link = '/year/2020/?ref_=bo_yl_table_1'\n",
    "base_url = 'https://www.boxofficemojo.com'\n",
    "\n",
    "from urllib.parse import urljoin\n",
    "url = urljoin(base_url, link)"
   ]
  },
  {
   "cell_type": "markdown",
   "metadata": {},
   "source": [
    "Money to int, runtime to minutes, date to datestring function "
   ]
  },
  {
   "cell_type": "code",
   "execution_count": 3,
   "metadata": {},
   "outputs": [
    {
     "name": "stdout",
     "output_type": "stream",
     "text": [
      "Title: True History of the Kelly Gang\n",
      "Raw gross: $33,817\n",
      "Gross gross: 33817\n",
      "Runtime: 124\n",
      "Rating: R\n",
      "Release Date: Apr 24, 2020\n",
      "Budget: 0\n",
      "{'movie_title': 'True History of the Kelly Gang', 'domestic_total_gross': 33817, 'runtime_minutes': 124, 'rating': 'R', 'release_date': 'Apr 24, 2020', 'budget': 0}\n",
      "Title: Play the Flute\n",
      "Raw gross: $241,251\n",
      "Gross gross: 241251\n",
      "Runtime: 103\n",
      "Rating: None\n",
      "Release Date: Jan 28, 2019\n",
      "Budget: 0\n",
      "{'movie_title': 'Play the Flute', 'domestic_total_gross': 241251, 'runtime_minutes': 103, 'rating': None, 'release_date': 'Jan 28, 2019', 'budget': 0}\n",
      "Title: Swallow\n",
      "Raw gross: $33,419\n",
      "Gross gross: 33419\n",
      "Runtime: 94\n",
      "Rating: R\n",
      "Release Date: Mar 6, 2020\n",
      "Budget: 0\n",
      "{'movie_title': 'Swallow', 'domestic_total_gross': 33419, 'runtime_minutes': 94, 'rating': 'R', 'release_date': 'Mar 6, 2020', 'budget': 0}\n",
      "Title: Nick Mason's Saucerful of Secrets: Live at the Roundhouse\n",
      "Raw gross: $32,444\n",
      "Gross gross: 32444\n",
      "No runtime. But raw runtime: None\n",
      "Rating: None\n",
      "Release Date: Mar 6, 2020\n",
      "Budget: 0\n",
      "{'movie_title': \"Nick Mason's Saucerful of Secrets: Live at the Roundhouse\", 'domestic_total_gross': 32444, 'runtime_minutes': None, 'rating': None, 'release_date': 'Mar 6, 2020', 'budget': 0}\n",
      "Title: After Parkland\n",
      "Raw gross: $30,444\n",
      "Gross gross: 30444\n",
      "Runtime: 92\n",
      "Rating: None\n",
      "Release Date: Feb 12, 2020\n",
      "Budget: 0\n",
      "{'movie_title': 'After Parkland', 'domestic_total_gross': 30444, 'runtime_minutes': 92, 'rating': None, 'release_date': 'Feb 12, 2020', 'budget': 0}\n",
      "Title: Olympic Dreams\n",
      "Raw gross: $29,450\n",
      "Gross gross: 29450\n",
      "Runtime: 85\n",
      "Rating: PG-13\n",
      "Release Date: Feb 14, 2020\n",
      "Budget: 0\n",
      "{'movie_title': 'Olympic Dreams', 'domestic_total_gross': 29450, 'runtime_minutes': 85, 'rating': 'PG-13', 'release_date': 'Feb 14, 2020', 'budget': 0}\n",
      "Title: Buffaloed\n",
      "Raw gross: $29,118\n",
      "Gross gross: 29118\n",
      "Runtime: 95\n",
      "Rating: None\n",
      "Release Date: Feb 14, 2020\n",
      "Budget: 0\n",
      "{'movie_title': 'Buffaloed', 'domestic_total_gross': 29118, 'runtime_minutes': 95, 'rating': None, 'release_date': 'Feb 14, 2020', 'budget': 0}\n",
      "Title: Bacurau\n",
      "Raw gross: $58,115\n",
      "Gross gross: 58115\n",
      "Runtime: 131\n",
      "Rating: None\n",
      "Release Date: Mar 6, 2020\n",
      "Budget: 0\n",
      "{'movie_title': 'Bacurau', 'domestic_total_gross': 58115, 'runtime_minutes': 131, 'rating': None, 'release_date': 'Mar 6, 2020', 'budget': 0}\n",
      "Title: Countdown\n",
      "Raw gross: $25,621,766\n",
      "Gross gross: 25621766\n",
      "Runtime: 90\n",
      "Rating: PG-13\n",
      "Release Date: Oct 25, 2019\n",
      "            \n",
      "Budget: 6500000\n",
      "{'movie_title': 'Countdown', 'domestic_total_gross': 25621766, 'runtime_minutes': 90, 'rating': 'PG-13', 'release_date': 'Oct 25, 2019\\n            ', 'budget': 6500000}\n",
      "Title: Cane River 2020 Re\n",
      "Raw gross: $27,317\n",
      "Gross gross: 27317\n",
      "Runtime: 104\n",
      "Rating: None\n",
      "Release Date: Feb 7, 2020\n",
      "Budget: 0\n",
      "{'movie_title': 'Cane River 2020 Re', 'domestic_total_gross': 27317, 'runtime_minutes': 104, 'rating': None, 'release_date': 'Feb 7, 2020', 'budget': 0}\n"
     ]
    },
    {
     "ename": "KeyboardInterrupt",
     "evalue": "",
     "output_type": "error",
     "traceback": [
      "\u001b[0;31m---------------------------------------------------------------------------\u001b[0m",
      "\u001b[0;31mKeyboardInterrupt\u001b[0m                         Traceback (most recent call last)",
      "\u001b[0;32m<ipython-input-3-8ae4965d08bc>\u001b[0m in \u001b[0;36m<module>\u001b[0;34m\u001b[0m\n\u001b[1;32m     12\u001b[0m         \u001b[0mdriver\u001b[0m\u001b[0;34m.\u001b[0m\u001b[0mfind_element_by_xpath\u001b[0m\u001b[0;34m(\u001b[0m\u001b[0;34m'//*[@id=\"table\"]/div/table[2]/tbody/tr[{}]/td[2]/a'\u001b[0m\u001b[0;34m.\u001b[0m\u001b[0mformat\u001b[0m\u001b[0;34m(\u001b[0m\u001b[0mi\u001b[0m\u001b[0;34m)\u001b[0m\u001b[0;34m)\u001b[0m\u001b[0;34m.\u001b[0m\u001b[0mclick\u001b[0m\u001b[0;34m(\u001b[0m\u001b[0;34m)\u001b[0m\u001b[0;34m\u001b[0m\u001b[0;34m\u001b[0m\u001b[0m\n\u001b[1;32m     13\u001b[0m         \u001b[0mWebDriverWait\u001b[0m\u001b[0;34m(\u001b[0m\u001b[0mdriver\u001b[0m\u001b[0;34m,\u001b[0m \u001b[0;36m10\u001b[0m\u001b[0;34m)\u001b[0m\u001b[0;34m\u001b[0m\u001b[0;34m\u001b[0m\u001b[0m\n\u001b[0;32m---> 14\u001b[0;31m         \u001b[0mtime\u001b[0m\u001b[0;34m.\u001b[0m\u001b[0msleep\u001b[0m\u001b[0;34m(\u001b[0m\u001b[0;36m3\u001b[0m\u001b[0;34m)\u001b[0m\u001b[0;34m\u001b[0m\u001b[0;34m\u001b[0m\u001b[0m\n\u001b[0m\u001b[1;32m     15\u001b[0m         \u001b[0mcurrent_movie\u001b[0m \u001b[0;34m=\u001b[0m \u001b[0mfunctions\u001b[0m\u001b[0;34m.\u001b[0m\u001b[0mget_selenium_dict\u001b[0m\u001b[0;34m(\u001b[0m\u001b[0mdriver\u001b[0m\u001b[0;34m)\u001b[0m\u001b[0;34m\u001b[0m\u001b[0;34m\u001b[0m\u001b[0m\n\u001b[1;32m     16\u001b[0m         \u001b[0mWebDriverWait\u001b[0m\u001b[0;34m(\u001b[0m\u001b[0mdriver\u001b[0m\u001b[0;34m,\u001b[0m \u001b[0;36m10\u001b[0m\u001b[0;34m)\u001b[0m\u001b[0;34m\u001b[0m\u001b[0;34m\u001b[0m\u001b[0m\n",
      "\u001b[0;31mKeyboardInterrupt\u001b[0m: "
     ]
    }
   ],
   "source": [
    "i = 149\n",
    "driver = webdriver.Chrome(chromedriver)\n",
    "driver.get(url)\n",
    "response = requests.get(url)\n",
    "page = response.text\n",
    "soup = BeautifulSoup(page, 'lxml')\n",
    "wait = WebDriverWait(driver, 10)\n",
    "\n",
    "movie_dicts = []\n",
    "\n",
    "while i < 269:\n",
    "        driver.find_element_by_xpath('//*[@id=\"table\"]/div/table[2]/tbody/tr[{}]/td[2]/a'.format(i)).click()\n",
    "        WebDriverWait(driver, 10)\n",
    "        time.sleep(3)\n",
    "        current_movie = functions.get_selenium_dict(driver)\n",
    "        WebDriverWait(driver, 10)\n",
    "        WebDriverWait(driver, 10)\n",
    "        movie_dicts.append(current_movie)\n",
    "        i += 1\n",
    "        WebDriverWait(driver, 10)\n",
    "        driver.back()\n",
    "        \n",
    "movie_dicts"
   ]
  },
  {
   "cell_type": "code",
   "execution_count": null,
   "metadata": {},
   "outputs": [],
   "source": [
    "url = 'https://www.boxofficemojo.com/year/2020/?ref_=bo_yl_table_1'\n",
    "\n",
    "#Request HTML and parse\n",
    "response = requests.get(url)\n",
    "page = response.text\n",
    "soup = BeautifulSoup(page,\"html5lib\")\n",
    "\n",
    "table = soup.find_all('table')\n",
    "df1 = pd.read_html(str(table))[0]\n",
    "df1 = df1.drop(['Rank', 'Estimated', 'Genre'], axis=1)\n",
    "df1"
   ]
  },
  {
   "cell_type": "code",
   "execution_count": null,
   "metadata": {},
   "outputs": [],
   "source": [
    "df = pd.DataFrame(dicts)\n",
    "df"
   ]
  },
  {
   "cell_type": "code",
   "execution_count": null,
   "metadata": {},
   "outputs": [],
   "source": [
    "df.columns = ['Movie Title', 'Domestic Gross', 'Runtime (mins)', 'Rating', 'Release Date', 'Budget']\n",
    "df"
   ]
  },
  {
   "cell_type": "code",
   "execution_count": null,
   "metadata": {},
   "outputs": [],
   "source": [
    "rating_one_hot = pd.get_dummies(df['Rating'])\n",
    "frames = [df, rating_one_hot]\n",
    "\n",
    "df_ratings = df.merge(rating_one_hot, left_index=True, right_index=True).drop(columns='Rating')\n",
    "df_ratings"
   ]
  },
  {
   "cell_type": "code",
   "execution_count": null,
   "metadata": {},
   "outputs": [],
   "source": [
    "# sns.heatmap(df_ratings, vmin=-1, vmax=1)\n",
    "sns.pairplot(df_ratings)"
   ]
  },
  {
   "cell_type": "code",
   "execution_count": null,
   "metadata": {},
   "outputs": [],
   "source": [
    "df_ratings"
   ]
  },
  {
   "cell_type": "code",
   "execution_count": null,
   "metadata": {},
   "outputs": [],
   "source": [
    "plt.figure(figsize=[20, 20])\n",
    "sns.jointplot(df_ratings['Domestic Gross'], df_ratings['Budget']);"
   ]
  },
  {
   "cell_type": "code",
   "execution_count": null,
   "metadata": {},
   "outputs": [],
   "source": [
    "from sklearn.model_selection import train_test_split\n",
    "from sklearn.linear_model import LinearRegression"
   ]
  },
  {
   "cell_type": "code",
   "execution_count": null,
   "metadata": {},
   "outputs": [],
   "source": [
    "X = df_ratings.loc[df_ratings['domestic_total_gross'],\n",
    "               df_ratings['runtime_minutes']]\n",
    "y = df_ratings['Budget']"
   ]
  },
  {
   "cell_type": "code",
   "execution_count": null,
   "metadata": {},
   "outputs": [],
   "source": []
  }
 ],
 "metadata": {
  "kernelspec": {
   "display_name": "Python 3",
   "language": "python",
   "name": "python3"
  },
  "language_info": {
   "codemirror_mode": {
    "name": "ipython",
    "version": 3
   },
   "file_extension": ".py",
   "mimetype": "text/x-python",
   "name": "python",
   "nbconvert_exporter": "python",
   "pygments_lexer": "ipython3",
   "version": "3.7.6"
  }
 },
 "nbformat": 4,
 "nbformat_minor": 4
}
