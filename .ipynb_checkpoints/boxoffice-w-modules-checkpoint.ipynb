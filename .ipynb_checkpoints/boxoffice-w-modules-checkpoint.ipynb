{
 "cells": [
  {
   "cell_type": "markdown",
   "metadata": {},
   "source": [
    "Imports"
   ]
  },
  {
   "cell_type": "code",
   "execution_count": 1,
   "metadata": {},
   "outputs": [],
   "source": [
    "from bs4 import BeautifulSoup\n",
    "import requests\n",
    "import time, os\n",
    "import pandas as pd\n",
    "import re\n",
    "import seaborn as sns\n",
    "import matplotlib.pyplot as plt\n",
    "import functions\n",
    "import random\n",
    "import numpy as np\n",
    "import mojoscraper\n",
    "\n",
    "import movies\n",
    "import criticism\n",
    "import alt_crit\n",
    "\n",
    "from urllib.parse import urljoin\n",
    "from selenium import webdriver\n",
    "from selenium.webdriver.common.by import By\n",
    "from selenium.webdriver.common.keys import Keys\n",
    "from selenium.webdriver.support.ui import WebDriverWait\n",
    "from selenium.webdriver.support import expected_conditions as EC\n",
    "from selenium.common.exceptions import NoSuchElementException\n",
    "from selenium.common.exceptions import StaleElementReferenceException\n",
    "from selenium.common.exceptions import ElementClickInterceptedException\n",
    "from selenium.common.exceptions import ElementNotInteractableException\n",
    "# from selenium.webdriver.common.desired_capabilities import DesiredCapabilities\n",
    "\n",
    "chromedriver = \"/usr/bin/chromedriver\" \n",
    "os.environ[\"webdriver.chrome.driver\"] = chromedriver\n",
    "\n",
    "# capabilities = DesiredCapabilities().CHROME\n",
    "# capabilities[\"pageLoadStrategy\"] = \"none\"\n",
    "\n",
    "# options = webdriver.ChromeOptions()\n",
    "# options.add_argument(\"--start-maximized\")\n",
    "# options.add_argument(\"--enable-automation\")\n",
    "# options.add_argument(\"--no-sandbox\")\n",
    "# options.add_argument(\"--headless\")\n",
    "\n",
    "# options.add_argument(\"--disable-dev-shm-usage\")\n",
    "# options.add_argument(\"--disable-browser-side-navigation\")\n",
    "# options.add_argument(\"--disable-gpu\")\n",
    "# options.add_argument(\"--disable-features=VizDisplayCompositor\")"
   ]
  },
  {
   "cell_type": "code",
   "execution_count": 2,
   "metadata": {
    "scrolled": true
   },
   "outputs": [],
   "source": [
    "# titles = movies.return_titles()\n",
    "# titles"
   ]
  },
  {
   "cell_type": "code",
   "execution_count": 3,
   "metadata": {},
   "outputs": [
    {
     "ename": "SyntaxError",
     "evalue": "invalid syntax (<ipython-input-3-43fdad2cd62a>, line 5)",
     "output_type": "error",
     "traceback": [
      "\u001b[0;36m  File \u001b[0;32m\"<ipython-input-3-43fdad2cd62a>\"\u001b[0;36m, line \u001b[0;32m5\u001b[0m\n\u001b[0;31m    mojoscraper.get_mojo(url):\u001b[0m\n\u001b[0m                              ^\u001b[0m\n\u001b[0;31mSyntaxError\u001b[0m\u001b[0;31m:\u001b[0m invalid syntax\n"
     ]
    }
   ],
   "source": [
    "base_url = 'https://www.boxofficemojo.com'\n",
    "link = '/year/2019/?grossesOption=calendarGrosses'\n",
    "url = base_url + link\n",
    "mojoscraper.get_mojo(url)"
   ]
  },
  {
   "cell_type": "markdown",
   "metadata": {},
   "source": [
    "Request Info"
   ]
  },
  {
   "cell_type": "code",
   "execution_count": null,
   "metadata": {},
   "outputs": [],
   "source": [
    "link = '/year/2020/?ref_=bo_yl_table_1'\n",
    "base_url = 'https://www.boxofficemojo.com'\n",
    "\n",
    "from urllib.parse import urljoin\n",
    "url = urljoin(base_url, link)"
   ]
  },
  {
   "cell_type": "markdown",
   "metadata": {},
   "source": [
    "Money to int, runtime to minutes, date to datestring function "
   ]
  },
  {
   "cell_type": "code",
   "execution_count": null,
   "metadata": {},
   "outputs": [],
   "source": [
    "i = 2\n",
    "driver = webdriver.Chrome(chromedriver)\n",
    "driver.get(url)\n",
    "response = requests.get(url)\n",
    "page = response.text\n",
    "soup = BeautifulSoup(page, 'lxml')\n",
    "wait = WebDriverWait(driver, 10)\n",
    "\n",
    "movie_dicts = []\n",
    "\n",
    "while i < 269:\n",
    "        driver.find_element_by_xpath('//*[@id=\"table\"]/div/table[2]/tbody/tr[{}]/td[2]/a'.format(i)).click()\n",
    "        WebDriverWait(driver, 10)\n",
    "        time.sleep(2)\n",
    "        current_movie = functions.get_selenium_dict(driver)\n",
    "        WebDriverWait(driver, 10)\n",
    "        WebDriverWait(driver, 10)\n",
    "        movie_dicts.append(current_movie)\n",
    "        i += 1\n",
    "        WebDriverWait(driver, 10)\n",
    "        driver.back()\n",
    "        \n",
    "movie_dicts"
   ]
  },
  {
   "cell_type": "markdown",
   "metadata": {},
   "source": [
    "### Metacritic Scores Search"
   ]
  },
  {
   "cell_type": "code",
   "execution_count": null,
   "metadata": {
    "scrolled": true
   },
   "outputs": [],
   "source": [
    "movie_titles = []\n",
    "\n",
    "# for key in movie_dicts:\n",
    "#     movie_titles.append(key['movie_title'])\n",
    "\n",
    "for key in titles:\n",
    "    movie_titles.append(key['movie_title'])    \n",
    "placeholder = movie_titles[58:]\n",
    "placeholder"
   ]
  },
  {
   "cell_type": "code",
   "execution_count": null,
   "metadata": {
    "scrolled": true
   },
   "outputs": [],
   "source": [
    "criticism.metacritic(placeholder)"
   ]
  },
  {
   "cell_type": "code",
   "execution_count": null,
   "metadata": {},
   "outputs": [],
   "source": [
    "scores = {}\n",
    "scores['metascores'] = ['59', '78', '47', '58'] \n",
    "scores['audience_scores'] = ['6.7', '8.4', '8.3', '6.4'] \n",
    "scores['critic_count'] = ['based on 46 Critic Reviews', 'based on 57 Critic Reviews', 'based on 42 Critic Reviews', 'based on 37 Critic Reviews'] \n",
    "scores['num_audience_ratings'] = ['based on 228 Ratings', 'based on 722 Ratings', 'based on 1097 Ratings', 'based on 263 Ratings']\n",
    "scores\n",
    "\n",
    "scores['metascores'] += ['53', '60', '26', '87', '72', '47', '61', '82', '64', '54', '51', '68', '96', '22', '90', '33', '48', '32', '48', '45', '64', '70', '64', '66', '29', '58', '39', '81', '71', '44', '41', '49', '72', '32', '50', '45'] \n",
    "scores['audience_scores'] += ['4.7', '5.1', '4.9', '7.6', '6.9', '6.3', '7.1', '7.6', '6.9', '6.9', '7.9', '7.2', '8.9', '4.3', '7.2', '3.1', '7.5', '4.2', '6.3', '7.9', '4.8', '8.6', '6.2', '7.0', '4.2', '7.8', '7.0', '8.3', '6.2', '5.1', '5.8', '4.3', '8.3', '5.5', '6.3', '4.0'] \n",
    "scores['critic_count'] += ['based on 61 Critic Reviews', 'based on 59 Critic Reviews', 'based on 46 Critic Reviews', 'based on 23 Critic Reviews', 'based on 58 Critic Reviews', 'based on 43 Critic Reviews', 'based on 56 Critic Reviews', 'based on 52 Critic Reviews', 'based on 47 Critic Reviews', 'based on 22 Critic Reviews', 'based on 44 Critic Reviews', 'based on 50 Critic Reviews', 'based on 52 Critic Reviews', 'based on 29 Critic Reviews', 'based on 56 Critic Reviews', 'based on 31 Critic Reviews', 'based on 22 Critic Reviews', 'based on 10 Critic Reviews', 'based on 37 Critic Reviews', 'based on 4 Critic Reviews', 'based on 17 Critic Reviews', 'based on 9 Critic Reviews', 'based on 46 Critic Reviews', 'based on 40 Critic Reviews', 'based on 13 Critic Reviews', 'based on 57 Critic Reviews', 'based on 5 Critic Reviews', 'based on 47 Critic Reviews', 'based on 47 Critic Reviews', 'based on 35 Critic Reviews', 'based on 12 Critic Reviews', 'based on 39 Critic Reviews', 'based on 30 Critic Reviews', 'based on 51 Critic Reviews', 'based on 45 Critic Reviews', 'based on 36 Critic Reviews'] \n",
    "scores['num_audience_ratings'] += ['based on 4896 Ratings', 'based on 1327 Ratings', 'based on 148 Ratings', 'based on 65 Ratings', 'based on 431 Ratings', 'based on 77 Ratings', 'based on 298 Ratings', 'based on 809 Ratings', 'based on 458 Ratings', 'based on 71 Ratings', 'based on 349 Ratings', 'based on 100 Ratings', 'based on 1312 Ratings', 'based on 80 Ratings', 'based on 510 Ratings', 'based on 38 Ratings', 'based on 40 Ratings', 'based on 6 Ratings', 'based on 162 Ratings', 'based on 7 Ratings', 'based on 104 Ratings', 'based on 40 Ratings', 'based on 141 Ratings', 'based on 72 Ratings', 'based on 40 Ratings', 'based on 576 Ratings', 'based on 16 Ratings', 'based on 547 Ratings', 'based on 73 Ratings', 'based on 152 Ratings', 'based on 32 Ratings', 'based on 35 Ratings', 'based on 75 Ratings', 'based on 486 Ratings', 'based on 180 Ratings', 'based on 38 Ratings']\n",
    "\n",
    "scores['metascores'] += ['80', '68', '95', '74'] \n",
    "scores['audience_scores'] += ['7.2', '7.5', '8.6', '6.1'] \n",
    "scores['critic_count'] += ['based on 50 Critic Reviews', 'based on 45 Critic Reviews', 'based on 47 Critic Reviews', 'based on 43 Critic Reviews'] \n",
    "scores['num_audience_ratings'] += ['based on 167 Ratings', 'based on 138 Ratings', 'based on 235 Ratings', 'based on 91 Ratings']\n",
    "\n",
    "\n",
    "scores['metascores'] += ['51', '62', '61', '59', '64', '83', '43', '51', '53', '46', '78', '51', '87', '43'] \n",
    "scores['audience_scores'] += ['7.2', '7.1', '6.0', '9.0', '5.8', '7.5', '5.7', '7.7', '5.7', '5.2', '7.7', '6.0', '7.9', '6.2'] \n",
    "scores['critic_count'] += ['based on 25 Critic Reviews', 'based on 11 Critic Reviews', 'based on 15 Critic Reviews', 'based on 60 Critic Reviews', 'based on 31 Critic Reviews', 'based on 62 Critic Reviews', 'based on 25 Critic Reviews', 'based on 15 Critic Reviews', 'based on 19 Critic Reviews', 'based on 7 Critic Reviews', 'based on 43 Critic Reviews', 'based on 32 Critic Reviews', 'based on 43 Critic Reviews', 'based on 40 Critic Reviews'] \n",
    "scores['num_audience_ratings'] += ['based on 19 Ratings', 'based on 40 Ratings', 'based on 5 Ratings', 'based on 6645 Ratings', 'based on 51 Ratings', 'based on 1543 Ratings', 'based on 90 Ratings', 'based on 10 Ratings', 'based on 12 Ratings', 'based on 58 Ratings', 'based on 60 Ratings', 'based on 60 Ratings', 'based on 110 Ratings', 'based on 198 Ratings']\n",
    "\n",
    "print(len(scores['metascores']))\n",
    "print(len(scores['critic_count']))\n",
    "['Bad Boys for Life',\n",
    " '1917',\n",
    " 'Sonic the Hedgehog',\n",
    " 'Jumanji: The Next Level',\n",
    " 'Star Wars: Episode IX',\n",
    " 'Birds of Prey: And the Fantabulous Emancipation of One Harley Quinn',\n",
    " 'Dolittle',\n",
    " 'Little Women',\n",
    " 'The Invisible Man',\n",
    " 'The Call of the Wild',\n",
    " 'Onward',\n",
    " 'Knives Out',\n",
    " 'Frozen II',\n",
    " 'Spies in Disguise',\n",
    " 'The Gentlemen',\n",
    " 'Just Mercy',\n",
    " 'Parasite',\n",
    " 'Fantasy Island',\n",
    " 'Uncut Gems',\n",
    " 'Like a Boss',\n",
    " 'The Grudge',\n",
    " 'The Photograph',\n",
    " 'Underwater',\n",
    " 'The Turning',\n",
    " 'Gretel & Hansel',\n",
    " 'My Hero Academia: Heroes Rising',\n",
    " 'Bombshell',\n",
    " 'The Way Back',\n",
    " 'Brahms: The Boy II',\n",
    " 'Jojo Rabbit',\n",
    " 'Impractical Jokers: The Movie',\n",
    " 'Ford v Ferrari',\n",
    " 'Emma.',\n",
    " 'Bloodshot',\n",
    " 'I Still Believe',\n",
    " 'Downhill',\n",
    " 'Weathering with You',\n",
    " 'Cats',\n",
    " 'The Hunt',\n",
    " 'The Rhythm Section',\n",
    " 'A Beautiful Day in the Neighborhood',\n",
    " 'Richard Jewell',\n",
    " 'Portrait of a Lady on Fire',\n",
    " 'Queen & Slim',\n",
    " 'The Last Full Measure',\n",
    " 'Ip Man 4: The Finale',\n",
    " 'The Wretched',\n",
    " 'Joker',\n",
    " 'The Lodge',\n",
    " 'Once Upon a Time... in Hollywood',\n",
    " 'The Assistant',\n",
    " 'The Song of Names',\n",
    " 'Becky',\n",
    " 'Jay and Silent Bob Reboot',\n",
    " 'A Hidden Life',\n",
    " '21 Bridges',\n",
    " 'Pain and Glory',\n",
    " 'Maleficent: Mistress of Evil'\n",
    " 'Chhapaak',\n",
    " 'Panga',\n",
    " 'Midway',\n",
    " 'Black Christmas',\n",
    " 'Color Out of Space',\n",
    " 'Harriet',\n",
    " 'The Addams Family',\n",
    " 'Dark Waters',\n",
    "\n",
    "                ]\n",
    "\n",
    "# Harriet - 66, 7.1. 41 critics, 152 ratings.\n",
    "scores"
   ]
  },
  {
   "cell_type": "code",
   "execution_count": null,
   "metadata": {
    "scrolled": false
   },
   "outputs": [],
   "source": [
    "criticism.metacritic(placeholder)"
   ]
  },
  {
   "cell_type": "code",
   "execution_count": null,
   "metadata": {},
   "outputs": [],
   "source": [
    "score_titles"
   ]
  },
  {
   "cell_type": "code",
   "execution_count": null,
   "metadata": {},
   "outputs": [],
   "source": [
    "# df1 = pd.DataFrame.from_dict(movie_dicts)\n",
    "# df1"
   ]
  },
  {
   "cell_type": "code",
   "execution_count": null,
   "metadata": {},
   "outputs": [],
   "source": [
    "url = 'https://www.boxofficemojo.com/year/2020/?ref_=bo_yl_table_1'\n",
    "\n",
    "#Request HTML and parse\n",
    "response = requests.get(url)\n",
    "page = response.text\n",
    "soup = BeautifulSoup(page,\"html5lib\")\n",
    "\n",
    "table = soup.find_all('table')\n",
    "df1 = pd.read_html(str(table))[0]\n",
    "df1 = df1.drop(['Rank', 'Estimated', 'Genre', 'Distributor'], axis=1)\n",
    "df1"
   ]
  },
  {
   "cell_type": "code",
   "execution_count": null,
   "metadata": {},
   "outputs": [],
   "source": [
    "df = pd.DataFrame(dicts)\n",
    "df"
   ]
  },
  {
   "cell_type": "code",
   "execution_count": null,
   "metadata": {},
   "outputs": [],
   "source": [
    "df.columns = ['Movie Title', 'Domestic Gross', 'Runtime (mins)', 'Rating', 'Release Date', 'Budget']\n",
    "df"
   ]
  },
  {
   "cell_type": "code",
   "execution_count": null,
   "metadata": {},
   "outputs": [],
   "source": [
    "rating_one_hot = pd.get_dummies(df['Rating'])\n",
    "frames = [df, rating_one_hot]\n",
    "\n",
    "df_ratings = df.merge(rating_one_hot, left_index=True, right_index=True).drop(columns='Rating')\n",
    "df_ratings"
   ]
  },
  {
   "cell_type": "code",
   "execution_count": null,
   "metadata": {},
   "outputs": [],
   "source": [
    "# sns.heatmap(df_ratings, vmin=-1, vmax=1)\n",
    "sns.pairplot(df_ratings)"
   ]
  },
  {
   "cell_type": "code",
   "execution_count": null,
   "metadata": {},
   "outputs": [],
   "source": [
    "df_ratings"
   ]
  },
  {
   "cell_type": "code",
   "execution_count": null,
   "metadata": {},
   "outputs": [],
   "source": [
    "plt.figure(figsize=[20, 20])\n",
    "sns.jointplot(df_ratings['Domestic Gross'], df_ratings['Budget']);"
   ]
  },
  {
   "cell_type": "code",
   "execution_count": null,
   "metadata": {},
   "outputs": [],
   "source": [
    "from sklearn.model_selection import train_test_split\n",
    "from sklearn.linear_model import LinearRegression"
   ]
  },
  {
   "cell_type": "code",
   "execution_count": null,
   "metadata": {},
   "outputs": [],
   "source": [
    "X = df_ratings.loc[df_ratings['domestic_total_gross'],\n",
    "               df_ratings['runtime_minutes']]\n",
    "y = df_ratings['Budget']"
   ]
  },
  {
   "cell_type": "code",
   "execution_count": null,
   "metadata": {},
   "outputs": [],
   "source": []
  }
 ],
 "metadata": {
  "kernelspec": {
   "display_name": "Python 3",
   "language": "python",
   "name": "python3"
  },
  "language_info": {
   "codemirror_mode": {
    "name": "ipython",
    "version": 3
   },
   "file_extension": ".py",
   "mimetype": "text/x-python",
   "name": "python",
   "nbconvert_exporter": "python",
   "pygments_lexer": "ipython3",
   "version": "3.7.6"
  }
 },
 "nbformat": 4,
 "nbformat_minor": 4
}
