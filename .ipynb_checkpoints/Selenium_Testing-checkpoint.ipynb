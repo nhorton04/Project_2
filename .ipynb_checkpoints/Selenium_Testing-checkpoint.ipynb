{
 "cells": [
  {
   "cell_type": "code",
   "execution_count": 1,
   "metadata": {},
   "outputs": [],
   "source": [
    "from bs4 import BeautifulSoup\n",
    "import requests\n",
    "import time, os\n",
    "import pandas as pd\n",
    "import re\n",
    "import seaborn as sns\n",
    "import matplotlib.pyplot as plt\n",
    "import functions\n",
    "\n",
    "from urllib.parse import urljoin\n",
    "from selenium import webdriver\n",
    "from selenium.webdriver.common.by import By\n",
    "from selenium.webdriver.common.keys import Keys\n",
    "from selenium.webdriver.support.ui import WebDriverWait\n",
    "from selenium.webdriver.support import expected_conditions as EC\n",
    "\n",
    "chromedriver = \"/usr/bin/chromedriver\" # path to the chromedriver executable\n",
    "os.environ[\"webdriver.chrome.driver\"] = chromedriver"
   ]
  },
  {
   "cell_type": "code",
   "execution_count": 2,
   "metadata": {},
   "outputs": [
    {
     "ename": "NameError",
     "evalue": "name 'movie_dicts' is not defined",
     "output_type": "error",
     "traceback": [
      "\u001b[0;31m---------------------------------------------------------------------------\u001b[0m",
      "\u001b[0;31mNameError\u001b[0m                                 Traceback (most recent call last)",
      "\u001b[0;32m<ipython-input-2-a683877b12ea>\u001b[0m in \u001b[0;36m<module>\u001b[0;34m\u001b[0m\n\u001b[1;32m      1\u001b[0m \u001b[0mmovie_titles\u001b[0m \u001b[0;34m=\u001b[0m \u001b[0;34m[\u001b[0m\u001b[0;34m]\u001b[0m\u001b[0;34m\u001b[0m\u001b[0;34m\u001b[0m\u001b[0m\n\u001b[1;32m      2\u001b[0m \u001b[0;34m\u001b[0m\u001b[0m\n\u001b[0;32m----> 3\u001b[0;31m \u001b[0;32mfor\u001b[0m \u001b[0mkey\u001b[0m \u001b[0;32min\u001b[0m \u001b[0mmovie_dicts\u001b[0m\u001b[0;34m:\u001b[0m\u001b[0;34m\u001b[0m\u001b[0;34m\u001b[0m\u001b[0m\n\u001b[0m\u001b[1;32m      4\u001b[0m     \u001b[0mmovie_titles\u001b[0m\u001b[0;34m.\u001b[0m\u001b[0mappend\u001b[0m\u001b[0;34m(\u001b[0m\u001b[0mfunctions\u001b[0m\u001b[0;34m.\u001b[0m\u001b[0mmagic_movie_title\u001b[0m\u001b[0;34m(\u001b[0m\u001b[0mkey\u001b[0m\u001b[0;34m[\u001b[0m\u001b[0;34m'movie_title'\u001b[0m\u001b[0;34m]\u001b[0m\u001b[0;34m)\u001b[0m\u001b[0;34m)\u001b[0m\u001b[0;34m\u001b[0m\u001b[0;34m\u001b[0m\u001b[0m\n\u001b[1;32m      5\u001b[0m \u001b[0;34m\u001b[0m\u001b[0m\n",
      "\u001b[0;31mNameError\u001b[0m: name 'movie_dicts' is not defined"
     ]
    }
   ],
   "source": [
    "# movie_titles = []\n",
    "\n",
    "# for key in movie_dicts:\n",
    "#     movie_titles.append(functions.magic_movie_title(key['movie_title']))\n",
    "    \n",
    "# movie_titles\n",
    "\n",
    "# url = 'https://www.rottentomatoes.com/search?search='\n",
    "\n",
    "# for title in movie_titles:\n",
    "    \n",
    "#     new_url = url + title\n",
    "#     driver = webdriver.Chrome(chromedriver)\n",
    "#     driver.get(new_url)\n",
    "#     response = requests.get(new_url)\n",
    "#     page = response.text\n",
    "#     soup = BeautifulSoup(page, 'lxml')\n",
    "#     link = soup.find('a', class_='media-col thumbnail-group')\n",
    "#     print(link)\n",
    "#     time.sleep(5)\n",
    "#     driver.find_element_by_xpath('/html/body/div[3]/main/div[1]/div/section[1]/search-result-container//search-result[2]//ul/media-row[1]//li/a').click()\n",
    "    "
   ]
  },
  {
   "cell_type": "code",
   "execution_count": 8,
   "metadata": {},
   "outputs": [
    {
     "name": "stdout",
     "output_type": "stream",
     "text": [
      "59\n",
      "6.7\n"
     ]
    }
   ],
   "source": [
    "movie_titles = ['bad boys for life']\n",
    "\n",
    "# for key in movie_dicts:\n",
    "#     movie_titles.append(key['movie_title'])\n",
    "    \n",
    "movie_titles\n",
    "\n",
    "url = 'https://www.metacritic.com/'\n",
    "\n",
    "metascores = []\n",
    "audience_scores = []\n",
    "\n",
    "\n",
    "for title in movie_titles:\n",
    "    driver = webdriver.Chrome(chromedriver)\n",
    "    driver.get(url)\n",
    "    time.sleep(2)\n",
    "    search_box = driver.find_element_by_xpath('//*[@id=\"primary_search_box\"]')\n",
    "    search_box.clear()\n",
    "    search_box.send_keys(title)\n",
    "    time.sleep(2)\n",
    "    search_box.send_keys(Keys.RETURN)\n",
    "    time.sleep(2)\n",
    "    driver.find_element_by_xpath('//*[@id=\"main_content\"]/div[1]/div[3]/div[1]/ul/li[1]/div/div[2]/div/h3/a').click()\n",
    "    time.sleep(2)\n",
    "    metascore = driver.find_element_by_xpath('//*[@id=\"main_content\"]/div[1]/div[1]/div/table/tbody/tr/td[2]/div/table/tbody/tr/td[1]/div/div/div[2]/table/tbody/tr/td[2]/a/span').text\n",
    "    metascores.append(metascore)\n",
    "    audience_score = driver.find_element_by_xpath('//*[@id=\"main_content\"]/div[1]/div[1]/div/table/tbody/tr/td[2]/div/table/tbody/tr/td[1]/div/div/div[3]/div/table/tbody/tr/td[2]/a/span').text\n",
    "    audience_scores.append(audience_score)\n",
    "#     response = requests.get(url)\n",
    "#     page = response.text\n",
    "#     soup = BeautifulSoup(page,\"lxml\")\n",
    "#     metascore = soup.find('span', class_='metascore_w larger movie mixed').text\n",
    "#     user_score = soup.find('span', class_='metascore_w user larger movie')"
   ]
  },
  {
   "cell_type": "code",
   "execution_count": null,
   "metadata": {},
   "outputs": [],
   "source": [
    "# movie_titles = []\n",
    "\n",
    "# for key in movie_dicts:\n",
    "#     movie_titles.append(functions.magic_movie_title(key['movie_title']))\n",
    "    \n",
    "# movie_titles\n",
    "\n",
    "# url = 'https://www.rottentomatoes.com/search?search='\n",
    "\n",
    "# for title in movie_titles:\n",
    "    \n",
    "#     new_url = url + title\n",
    "#     driver = webdriver.Chrome(chromedriver)\n",
    "#     driver.get(new_url)\n",
    "#     response = requests.get(new_url)\n",
    "#     page = response.text\n",
    "#     soup = BeautifulSoup(page, 'lxml')\n",
    "#     link = soup.find('a', class_='media-col thumbnail-group')\n",
    "#     print(link)\n",
    "#     time.sleep(5)\n",
    "#     driver.find_element_by_xpath('/html/body/div[3]/main/div[1]/div/section[1]/search-result-container//search-result[2]//ul/media-row[1]//li/a').click()\n",
    "    \n",
    "\n",
    "    \n",
    "# i = 2\n",
    "# driver = webdriver.Chrome(chromedriver)\n",
    "# driver.get(url)\n",
    "# response = requests.get(url)\n",
    "# page = response.text\n",
    "# soup = BeautifulSoup(page, 'lxml')\n",
    "# wait = WebDriverWait(driver, 10)\n",
    "\n",
    "# tomato_dicts = []\n",
    "\n",
    "# while i < 269:\n",
    "#         driver.find_element_by_xpath('//*[@id=\"table\"]/div/table[2]/tbody/tr[{}]/td[2]/a'.format(i)).click()\n",
    "#         WebDriverWait(driver, 10)\n",
    "#         time.sleep(3)\n",
    "#         current_movie = functions.get_selenium_dict(driver)\n",
    "#         WebDriverWait(driver, 10)\n",
    "#         WebDriverWait(driver, 10)\n",
    "#         movie_dicts.append(current_movie)\n",
    "#         i += 1\n",
    "#         WebDriverWait(driver, 10)\n",
    "#         driver.back()\n",
    "        \n",
    "# movie_dicts"
   ]
  }
 ],
 "metadata": {
  "kernelspec": {
   "display_name": "Python 3",
   "language": "python",
   "name": "python3"
  },
  "language_info": {
   "codemirror_mode": {
    "name": "ipython",
    "version": 3
   },
   "file_extension": ".py",
   "mimetype": "text/x-python",
   "name": "python",
   "nbconvert_exporter": "python",
   "pygments_lexer": "ipython3",
   "version": "3.7.6"
  }
 },
 "nbformat": 4,
 "nbformat_minor": 4
}
