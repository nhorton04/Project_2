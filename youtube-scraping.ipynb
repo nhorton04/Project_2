{
 "cells": [
  {
   "cell_type": "code",
   "execution_count": 2,
   "metadata": {},
   "outputs": [],
   "source": [
    "from bs4 import BeautifulSoup\n",
    "import requests\n",
    "import time, os\n",
    "import pandas as pd\n",
    "import re\n",
    "import seaborn as sns\n",
    "import matplotlib.pyplot as plt\n",
    "\n",
    "from selenium import webdriver\n",
    "from selenium.webdriver.common.keys import Keys\n",
    "\n",
    "chromedriver = \"/usr/bin/chromedriver\" # path to the chromedriver executable\n",
    "os.environ[\"webdriver.chrome.driver\"] = chromedriver"
   ]
  },
  {
   "cell_type": "code",
   "execution_count": 3,
   "metadata": {},
   "outputs": [],
   "source": [
    "# query = \"official trailer 2020\"\n",
    "# youtube_search = \"https://www.youtube.com/results?search_query=\"\n",
    "# youtube_query = youtube_search + query.replace(' ', '+')\n",
    "\n",
    "# youtube_vid = \"https://www.youtube.com/watch?v=\"\n",
    "# vid_num = 'h4MUvlFmbi0'\n",
    "# youtube_vid_num = youtube_vid + vid_num\n",
    "\n",
    "# page = requests.get(youtube_vid_num).text\n",
    "# soup = BeautifulSoup(page, 'html5lib')\n",
    "\n",
    "# driver = webdriver.Chrome(chromedriver)\n",
    "# driver.get(youtube_vid_num)\n",
    "\n",
    "# driver.page_source[:1000]\n",
    "# soup = BeautifulSoup(driver.page_source, 'html.parser')\n",
    "# soup.find('div', id='contents')"
   ]
  },
  {
   "cell_type": "code",
   "execution_count": 7,
   "metadata": {},
   "outputs": [],
   "source": [
    "url = 'https://www.youtube.com/watch?v=-_DJEzZk2pc'\n",
    "response = requests.get(url)\n",
    "page = response.text\n",
    "\n",
    "driver = webdriver.Chrome(chromedriver)\n",
    "driver.get(url)"
   ]
  },
  {
   "cell_type": "code",
   "execution_count": 10,
   "metadata": {},
   "outputs": [],
   "source": [
    "soup = BeautifulSoup(page, 'html5lib')\n",
    "driver.page_source[:1000]\n",
    "soup = BeautifulSoup(driver.page_source, 'html.parser')"
   ]
  },
  {
   "cell_type": "code",
   "execution_count": 11,
   "metadata": {},
   "outputs": [],
   "source": [
    "# url = 'https://www.youtube.com/watch?v=LiDDlaJYep8'\n",
    "# response = requests.get(url)\n",
    "# page = response.text\n",
    "\n",
    "# driver = webdriver.Chrome(chromedriver)\n",
    "# driver.get(url)\n",
    "\n",
    "# soup = BeautifulSoup(page, 'html5lib')\n",
    "# driver.page_source[:1000]\n",
    "# soup = BeautifulSoup(driver.page_source, 'html.parser')"
   ]
  },
  {
   "cell_type": "code",
   "execution_count": 12,
   "metadata": {},
   "outputs": [
    {
     "data": {
      "text/plain": [
       "{'Movie Title': 'Joker'}"
      ]
     },
     "execution_count": 12,
     "metadata": {},
     "output_type": "execute_result"
    }
   ],
   "source": [
    "title_string = soup.find_all('h1', class_=\"title style-scope ytd-video-primary-info-renderer\")\n",
    "\n",
    "title_string\n",
    "scrings = []\n",
    "\n",
    "for title in title_string:\n",
    "    scrings.append(title.text.split(' '))\n",
    "\n",
    "scrings[0][0]\n",
    "\n",
    "movie_dict = {}\n",
    "\n",
    "m = re.search('\\w+', scrings[0][0])\n",
    "m.group(0)\n",
    "\n",
    "movie_dict['Movie Title'] = m.group(0).capitalize()\n",
    "movie_dict"
   ]
  },
  {
   "cell_type": "code",
   "execution_count": 13,
   "metadata": {},
   "outputs": [],
   "source": [
    "views = soup.find('span', class_='view-count style-scope yt-view-count-renderer')\n",
    "\n",
    "views_stripped = views.text.split(' ')[0]\n",
    "\n",
    "new_views = ''\n",
    "\n",
    "for char in views_stripped:\n",
    "    if char != ',':\n",
    "        new_views += char\n",
    "        \n",
    "views = int(new_views)\n",
    "movie_dict['YT Trailer Views'] = views"
   ]
  },
  {
   "cell_type": "code",
   "execution_count": 18,
   "metadata": {},
   "outputs": [
    {
     "data": {
      "text/html": [
       "<div>\n",
       "<style scoped>\n",
       "    .dataframe tbody tr th:only-of-type {\n",
       "        vertical-align: middle;\n",
       "    }\n",
       "\n",
       "    .dataframe tbody tr th {\n",
       "        vertical-align: top;\n",
       "    }\n",
       "\n",
       "    .dataframe thead th {\n",
       "        text-align: right;\n",
       "    }\n",
       "</style>\n",
       "<table border=\"1\" class=\"dataframe\">\n",
       "  <thead>\n",
       "    <tr style=\"text-align: right;\">\n",
       "      <th></th>\n",
       "      <th>Movie Title</th>\n",
       "      <th>YT Trailer Views</th>\n",
       "    </tr>\n",
       "  </thead>\n",
       "  <tbody>\n",
       "    <tr>\n",
       "      <th>0</th>\n",
       "      <td>Joker</td>\n",
       "      <td>24486945</td>\n",
       "    </tr>\n",
       "  </tbody>\n",
       "</table>\n",
       "</div>"
      ],
      "text/plain": [
       "  Movie Title YT Trailer Views\n",
       "0       Joker         24486945"
      ]
     },
     "execution_count": 18,
     "metadata": {},
     "output_type": "execute_result"
    }
   ],
   "source": [
    "view_df = pd.DataFrame.from_dict(movie_dict, orient='index')\n",
    "view_df = view_df.T\n",
    "view_df"
   ]
  },
  {
   "cell_type": "code",
   "execution_count": 16,
   "metadata": {},
   "outputs": [],
   "source": [
    "# df_new = view_df.merge(df_ratings, left_index=True, right_index=True)\n",
    "# df_new"
   ]
  },
  {
   "cell_type": "code",
   "execution_count": 17,
   "metadata": {},
   "outputs": [
    {
     "ename": "NameError",
     "evalue": "name 'df_ratings' is not defined",
     "output_type": "error",
     "traceback": [
      "\u001b[0;31m---------------------------------------------------------------------------\u001b[0m",
      "\u001b[0;31mNameError\u001b[0m                                 Traceback (most recent call last)",
      "\u001b[0;32m<ipython-input-17-359690f27ab4>\u001b[0m in \u001b[0;36m<module>\u001b[0;34m\u001b[0m\n\u001b[0;32m----> 1\u001b[0;31m \u001b[0mdf_ratings\u001b[0m\u001b[0;34m\u001b[0m\u001b[0;34m\u001b[0m\u001b[0m\n\u001b[0m",
      "\u001b[0;31mNameError\u001b[0m: name 'df_ratings' is not defined"
     ]
    }
   ],
   "source": [
    "df_ratings"
   ]
  },
  {
   "cell_type": "code",
   "execution_count": null,
   "metadata": {},
   "outputs": [],
   "source": [
    "    # Get budget -- deprecated\n",
    "#     budget = soup.find(class_='mojo-summary-values')\n",
    "#     answer = []\n",
    "#     money = budget.find_all(class_='money')\n",
    "#     for m in money:\n",
    "#         answer.append(m) \n",
    "#     budget = answer[-1].text\n",
    "#     if type(budget) != float and type(budget) != 'NoneType':\n",
    "#         budget = money_to_int(budget)"
   ]
  }
 ],
 "metadata": {
  "kernelspec": {
   "display_name": "Python 3",
   "language": "python",
   "name": "python3"
  },
  "language_info": {
   "codemirror_mode": {
    "name": "ipython",
    "version": 3
   },
   "file_extension": ".py",
   "mimetype": "text/x-python",
   "name": "python",
   "nbconvert_exporter": "python",
   "pygments_lexer": "ipython3",
   "version": "3.7.6"
  }
 },
 "nbformat": 4,
 "nbformat_minor": 4
}
