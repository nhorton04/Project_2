{
 "cells": [
  {
   "cell_type": "code",
   "execution_count": 1,
   "metadata": {},
   "outputs": [],
   "source": [
    "from bs4 import BeautifulSoup\n",
    "import requests\n",
    "import time, os\n",
    "import pandas as pd\n",
    "import re\n",
    "import seaborn as sns\n",
    "import matplotlib.pyplot as plt\n",
    "\n",
    "from selenium import webdriver\n",
    "from selenium.webdriver.common.keys import Keys\n",
    "\n",
    "chromedriver = \"/usr/bin/chromedriver\" # path to the chromedriver executable\n",
    "os.environ[\"webdriver.chrome.driver\"] = chromedriver"
   ]
  },
  {
   "cell_type": "code",
   "execution_count": null,
   "metadata": {},
   "outputs": [],
   "source": [
    "query = \"official trailer 2020\"\n",
    "youtube_search = \"https://www.youtube.com/results?search_query=\"\n",
    "youtube_query = youtube_search + query.replace(' ', '+')\n",
    "\n",
    "youtube_vid = \"https://www.youtube.com/watch?v=\"\n",
    "vid_num = 'h4MUvlFmbi0'\n",
    "youtube_vid_num = youtube_vid + vid_num\n",
    "\n",
    "page = requests.get(youtube_vid_num).text\n",
    "soup = BeautifulSoup(page, 'html5lib')\n",
    "\n",
    "driver = webdriver.Chrome(chromedriver)\n",
    "driver.get(youtube_vid_num)\n",
    "\n",
    "driver.page_source[:1000]\n",
    "soup = BeautifulSoup(driver.page_source, 'html.parser')\n",
    "soup.find('div', id='contents')"
   ]
  },
  {
   "cell_type": "code",
   "execution_count": null,
   "metadata": {},
   "outputs": [],
   "source": [
    "url = 'https://www.youtube.com/watch?v=-_DJEzZk2pc'\n",
    "response = requests.get(url)\n",
    "page = response.text\n",
    "\n",
    "driver = webdriver.Chrome(chromedriver)\n",
    "driver.get(url)\n",
    "\n",
    "soup = BeautifulSoup(page, 'html5lib')\n",
    "driver.page_source[:1000]\n",
    "soup = BeautifulSoup(driver.page_source, 'html.parser')"
   ]
  },
  {
   "cell_type": "code",
   "execution_count": null,
   "metadata": {},
   "outputs": [],
   "source": [
    "# url = 'https://www.youtube.com/watch?v=LiDDlaJYep8'\n",
    "# response = requests.get(url)\n",
    "# page = response.text\n",
    "\n",
    "# driver = webdriver.Chrome(chromedriver)\n",
    "# driver.get(url)\n",
    "\n",
    "# soup = BeautifulSoup(page, 'html5lib')\n",
    "# driver.page_source[:1000]\n",
    "# soup = BeautifulSoup(driver.page_source, 'html.parser')"
   ]
  },
  {
   "cell_type": "code",
   "execution_count": null,
   "metadata": {},
   "outputs": [],
   "source": [
    "title_string = soup.find_all('h1', class_=\"title style-scope ytd-video-primary-info-renderer\")\n",
    "\n",
    "title_string\n",
    "scrings = []\n",
    "\n",
    "for title in title_string:\n",
    "    scrings.append(title.text.split(' '))\n",
    "\n",
    "scrings[0][0]\n",
    "\n",
    "movie_dict = {}\n",
    "\n",
    "m = re.search('\\w+', scrings[0][0])\n",
    "m.group(0)\n",
    "\n",
    "movie_dict['Movie Title'] = m.group(0).capitalize()\n",
    "movie_dict"
   ]
  },
  {
   "cell_type": "code",
   "execution_count": null,
   "metadata": {},
   "outputs": [],
   "source": [
    "views = soup.find('span', class_='view-count style-scope yt-view-count-renderer')\n",
    "\n",
    "views_stripped = views.text.split(' ')[0]\n",
    "\n",
    "new_views = ''\n",
    "\n",
    "for char in views_stripped:\n",
    "    if char != ',':\n",
    "        new_views += char\n",
    "        \n",
    "views = int(new_views)\n",
    "movie_dict['YT Trailer Views'] = views"
   ]
  },
  {
   "cell_type": "code",
   "execution_count": null,
   "metadata": {},
   "outputs": [],
   "source": [
    "view_df = pd.DataFrame.from_dict(movie_dict, orient='index')\n",
    "view_df = view_df.T\n",
    "view_df"
   ]
  },
  {
   "cell_type": "code",
   "execution_count": null,
   "metadata": {},
   "outputs": [],
   "source": [
    "df_new = view_df.merge(df_ratings, left_index=True, right_index=True)\n",
    "df_new"
   ]
  },
  {
   "cell_type": "code",
   "execution_count": null,
   "metadata": {},
   "outputs": [],
   "source": [
    "df_ratings"
   ]
  }
 ],
 "metadata": {
  "kernelspec": {
   "display_name": "Python 3",
   "language": "python",
   "name": "python3"
  },
  "language_info": {
   "codemirror_mode": {
    "name": "ipython",
    "version": 3
   },
   "file_extension": ".py",
   "mimetype": "text/x-python",
   "name": "python",
   "nbconvert_exporter": "python",
   "pygments_lexer": "ipython3",
   "version": "3.7.6"
  }
 },
 "nbformat": 4,
 "nbformat_minor": 4
}
